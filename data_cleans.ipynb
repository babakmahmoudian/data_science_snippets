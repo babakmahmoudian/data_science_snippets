{
 "cells": [
  {
   "cell_type": "markdown",
   "id": "c78e5b53-f61e-4b47-b6fa-a5888c30a823",
   "metadata": {},
   "source": [
    "Dataset was downloaded from <a href=\"https://www.kaggle.com/datasets/ahmedshahriarsakib/usa-real-estate-dataset\">Kaggle's USA Real Estate Dataset</a>"
   ]
  },
  {
   "cell_type": "markdown",
   "id": "3bd4fb46-f4ad-4c3a-b6e4-c9062121258e",
   "metadata": {},
   "source": [
    "# Data exploration and cleanse"
   ]
  },
  {
   "cell_type": "markdown",
   "id": "9c1965c8-9a05-4499-8771-6a5711c40d1f",
   "metadata": {},
   "source": [
    "Importing the modules required for data exploration:\n",
    "\n",
    "<ul>\n",
    "    <li>numpy: for arithmatic and matrix operations</li>\n",
    "    <li>pandas: for working with dataset</li>\n",
    "    <li>matplotlib: to plot the graphs</li>\n",
    "</ul>"
   ]
  },
  {
   "cell_type": "code",
   "execution_count": 1,
   "id": "136235b1-5ad6-4b05-ac47-6f8dc551a46d",
   "metadata": {},
   "outputs": [],
   "source": [
    "import numpy as np\n",
    "import pandas as pd\n",
    "import matplotlib as plt"
   ]
  },
  {
   "cell_type": "markdown",
   "id": "2aa06328-ff3b-4e9a-92a2-98f3decc8c5f",
   "metadata": {},
   "source": [
    "While loading the dataset, the following options may be specified:\n",
    "<ul>\n",
    "    <li>nrows: limit the number of rows read from the files</li>\n",
    "    <li>sep: sets the character other than comma that is used to separate the columns in the file</li>\n",
    "</ul>\n",
    "\n",
    "I.e. to read a tab-delimited instead of comma-delimited:<br>\n",
    "<i>pd.read_csv('path_of_dataset', nrows=500000, sep='\\t')"
   ]
  },
  {
   "cell_type": "code",
   "execution_count": 2,
   "id": "92672bdc-fd73-43ae-a69b-753a31c310a6",
   "metadata": {},
   "outputs": [],
   "source": [
    "df = pd.read_csv('./dataset/realtor-data.csv')"
   ]
  },
  {
   "cell_type": "markdown",
   "id": "4f6c05d5-3176-46c7-806b-655c3ca45c3b",
   "metadata": {},
   "source": [
    "## Dataset"
   ]
  },
  {
   "cell_type": "markdown",
   "id": "edc8965b-36d3-42ab-8194-c65d0e35915d",
   "metadata": {},
   "source": [
    "<b>shape</b> is a 2D array that displays the dimensions of the dataset: <i>(number_of_instances, number_of_features)</i>"
   ]
  },
  {
   "cell_type": "code",
   "execution_count": 3,
   "id": "07898e76-3f3a-4d66-8207-b86251bf3dd4",
   "metadata": {},
   "outputs": [
    {
     "name": "stdout",
     "output_type": "stream",
     "text": [
      "The data frame contains 923159 instances and 12 features.\n"
     ]
    }
   ],
   "source": [
    "print(\"The data frame contains %d instances and %d features.\" % df.shape)"
   ]
  },
  {
   "cell_type": "markdown",
   "id": "d79b32d7-005b-49d3-b2a8-fa4b5bde99a4",
   "metadata": {},
   "source": [
    "Normally Pandas displays only enough number of columns to fit within the display; Setting the <b>max_columns</b> option overrides this behaviour. Later on, it may be reverted back to default setting by using <b>pd.reset_option('display.max_columns')</b>"
   ]
  },
  {
   "cell_type": "code",
   "execution_count": 4,
   "id": "ecb43765-38c4-4410-b482-b0bdb43775a9",
   "metadata": {},
   "outputs": [
    {
     "data": {
      "text/html": [
       "<div>\n",
       "<style scoped>\n",
       "    .dataframe tbody tr th:only-of-type {\n",
       "        vertical-align: middle;\n",
       "    }\n",
       "\n",
       "    .dataframe tbody tr th {\n",
       "        vertical-align: top;\n",
       "    }\n",
       "\n",
       "    .dataframe thead th {\n",
       "        text-align: right;\n",
       "    }\n",
       "</style>\n",
       "<table border=\"1\" class=\"dataframe\">\n",
       "  <thead>\n",
       "    <tr style=\"text-align: right;\">\n",
       "      <th></th>\n",
       "      <th>status</th>\n",
       "      <th>price</th>\n",
       "      <th>bed</th>\n",
       "      <th>bath</th>\n",
       "      <th>acre_lot</th>\n",
       "      <th>full_address</th>\n",
       "      <th>street</th>\n",
       "      <th>city</th>\n",
       "      <th>state</th>\n",
       "      <th>zip_code</th>\n",
       "      <th>house_size</th>\n",
       "      <th>sold_date</th>\n",
       "    </tr>\n",
       "  </thead>\n",
       "  <tbody>\n",
       "    <tr>\n",
       "      <th>0</th>\n",
       "      <td>for_sale</td>\n",
       "      <td>105000.0</td>\n",
       "      <td>3.0</td>\n",
       "      <td>2.0</td>\n",
       "      <td>0.12</td>\n",
       "      <td>Sector Yahuecas Titulo # V84, Adjuntas, PR, 00601</td>\n",
       "      <td>Sector Yahuecas Titulo # V84</td>\n",
       "      <td>Adjuntas</td>\n",
       "      <td>Puerto Rico</td>\n",
       "      <td>601.0</td>\n",
       "      <td>920.0</td>\n",
       "      <td>NaN</td>\n",
       "    </tr>\n",
       "    <tr>\n",
       "      <th>1</th>\n",
       "      <td>for_sale</td>\n",
       "      <td>80000.0</td>\n",
       "      <td>4.0</td>\n",
       "      <td>2.0</td>\n",
       "      <td>0.08</td>\n",
       "      <td>Km 78 9 Carr # 135, Adjuntas, PR, 00601</td>\n",
       "      <td>Km 78 9 Carr # 135</td>\n",
       "      <td>Adjuntas</td>\n",
       "      <td>Puerto Rico</td>\n",
       "      <td>601.0</td>\n",
       "      <td>1527.0</td>\n",
       "      <td>NaN</td>\n",
       "    </tr>\n",
       "    <tr>\n",
       "      <th>2</th>\n",
       "      <td>for_sale</td>\n",
       "      <td>67000.0</td>\n",
       "      <td>2.0</td>\n",
       "      <td>1.0</td>\n",
       "      <td>0.15</td>\n",
       "      <td>556G 556-G 16 St, Juana Diaz, PR, 00795</td>\n",
       "      <td>556G 556-G 16 St</td>\n",
       "      <td>Juana Diaz</td>\n",
       "      <td>Puerto Rico</td>\n",
       "      <td>795.0</td>\n",
       "      <td>748.0</td>\n",
       "      <td>NaN</td>\n",
       "    </tr>\n",
       "    <tr>\n",
       "      <th>3</th>\n",
       "      <td>for_sale</td>\n",
       "      <td>145000.0</td>\n",
       "      <td>4.0</td>\n",
       "      <td>2.0</td>\n",
       "      <td>0.10</td>\n",
       "      <td>R5 Comunidad El Paraso Calle De Oro R-5 Ponce,...</td>\n",
       "      <td>R5 Comunidad El Paraso Calle De Oro R-5 Ponce</td>\n",
       "      <td>Ponce</td>\n",
       "      <td>Puerto Rico</td>\n",
       "      <td>731.0</td>\n",
       "      <td>1800.0</td>\n",
       "      <td>NaN</td>\n",
       "    </tr>\n",
       "    <tr>\n",
       "      <th>4</th>\n",
       "      <td>for_sale</td>\n",
       "      <td>65000.0</td>\n",
       "      <td>6.0</td>\n",
       "      <td>2.0</td>\n",
       "      <td>0.05</td>\n",
       "      <td>14 Navarro, Mayaguez, PR, 00680</td>\n",
       "      <td>14 Navarro</td>\n",
       "      <td>Mayaguez</td>\n",
       "      <td>Puerto Rico</td>\n",
       "      <td>680.0</td>\n",
       "      <td>NaN</td>\n",
       "      <td>NaN</td>\n",
       "    </tr>\n",
       "  </tbody>\n",
       "</table>\n",
       "</div>"
      ],
      "text/plain": [
       "     status     price  bed  bath  acre_lot  \\\n",
       "0  for_sale  105000.0  3.0   2.0      0.12   \n",
       "1  for_sale   80000.0  4.0   2.0      0.08   \n",
       "2  for_sale   67000.0  2.0   1.0      0.15   \n",
       "3  for_sale  145000.0  4.0   2.0      0.10   \n",
       "4  for_sale   65000.0  6.0   2.0      0.05   \n",
       "\n",
       "                                        full_address  \\\n",
       "0  Sector Yahuecas Titulo # V84, Adjuntas, PR, 00601   \n",
       "1            Km 78 9 Carr # 135, Adjuntas, PR, 00601   \n",
       "2            556G 556-G 16 St, Juana Diaz, PR, 00795   \n",
       "3  R5 Comunidad El Paraso Calle De Oro R-5 Ponce,...   \n",
       "4                    14 Navarro, Mayaguez, PR, 00680   \n",
       "\n",
       "                                          street        city        state  \\\n",
       "0                   Sector Yahuecas Titulo # V84    Adjuntas  Puerto Rico   \n",
       "1                             Km 78 9 Carr # 135    Adjuntas  Puerto Rico   \n",
       "2                               556G 556-G 16 St  Juana Diaz  Puerto Rico   \n",
       "3  R5 Comunidad El Paraso Calle De Oro R-5 Ponce       Ponce  Puerto Rico   \n",
       "4                                     14 Navarro    Mayaguez  Puerto Rico   \n",
       "\n",
       "   zip_code  house_size sold_date  \n",
       "0     601.0       920.0       NaN  \n",
       "1     601.0      1527.0       NaN  \n",
       "2     795.0       748.0       NaN  \n",
       "3     731.0      1800.0       NaN  \n",
       "4     680.0         NaN       NaN  "
      ]
     },
     "execution_count": 4,
     "metadata": {},
     "output_type": "execute_result"
    }
   ],
   "source": [
    "pd.set_option('display.max_columns', None)\n",
    "df.head()"
   ]
  },
  {
   "cell_type": "markdown",
   "id": "ac1d84b1-383d-44b9-b65b-1a831a8c3ba1",
   "metadata": {},
   "source": [
    "<b>describe()</b> returns statistics about numeric features."
   ]
  },
  {
   "cell_type": "code",
   "execution_count": 5,
   "id": "0fc7b6ec-fbd2-422f-bb4e-7b2dfd4fbdfd",
   "metadata": {},
   "outputs": [
    {
     "data": {
      "text/html": [
       "<div>\n",
       "<style scoped>\n",
       "    .dataframe tbody tr th:only-of-type {\n",
       "        vertical-align: middle;\n",
       "    }\n",
       "\n",
       "    .dataframe tbody tr th {\n",
       "        vertical-align: top;\n",
       "    }\n",
       "\n",
       "    .dataframe thead th {\n",
       "        text-align: right;\n",
       "    }\n",
       "</style>\n",
       "<table border=\"1\" class=\"dataframe\">\n",
       "  <thead>\n",
       "    <tr style=\"text-align: right;\">\n",
       "      <th></th>\n",
       "      <th>price</th>\n",
       "      <th>bed</th>\n",
       "      <th>bath</th>\n",
       "      <th>acre_lot</th>\n",
       "      <th>zip_code</th>\n",
       "      <th>house_size</th>\n",
       "    </tr>\n",
       "  </thead>\n",
       "  <tbody>\n",
       "    <tr>\n",
       "      <th>count</th>\n",
       "      <td>9.230880e+05</td>\n",
       "      <td>791456.000000</td>\n",
       "      <td>807967.000000</td>\n",
       "      <td>649536.000000</td>\n",
       "      <td>922954.000000</td>\n",
       "      <td>6.253160e+05</td>\n",
       "    </tr>\n",
       "    <tr>\n",
       "      <th>mean</th>\n",
       "      <td>8.841225e+05</td>\n",
       "      <td>3.330352</td>\n",
       "      <td>2.488164</td>\n",
       "      <td>17.075888</td>\n",
       "      <td>6590.061523</td>\n",
       "      <td>2.141644e+03</td>\n",
       "    </tr>\n",
       "    <tr>\n",
       "      <th>std</th>\n",
       "      <td>2.623745e+06</td>\n",
       "      <td>2.070402</td>\n",
       "      <td>1.940057</td>\n",
       "      <td>962.322866</td>\n",
       "      <td>3818.208203</td>\n",
       "      <td>3.035327e+03</td>\n",
       "    </tr>\n",
       "    <tr>\n",
       "      <th>min</th>\n",
       "      <td>0.000000e+00</td>\n",
       "      <td>1.000000</td>\n",
       "      <td>1.000000</td>\n",
       "      <td>0.000000</td>\n",
       "      <td>601.000000</td>\n",
       "      <td>1.000000e+02</td>\n",
       "    </tr>\n",
       "    <tr>\n",
       "      <th>25%</th>\n",
       "      <td>2.690000e+05</td>\n",
       "      <td>2.000000</td>\n",
       "      <td>1.000000</td>\n",
       "      <td>0.110000</td>\n",
       "      <td>2919.000000</td>\n",
       "      <td>1.130000e+03</td>\n",
       "    </tr>\n",
       "    <tr>\n",
       "      <th>50%</th>\n",
       "      <td>4.750000e+05</td>\n",
       "      <td>3.000000</td>\n",
       "      <td>2.000000</td>\n",
       "      <td>0.290000</td>\n",
       "      <td>7004.000000</td>\n",
       "      <td>1.651000e+03</td>\n",
       "    </tr>\n",
       "    <tr>\n",
       "      <th>75%</th>\n",
       "      <td>8.399000e+05</td>\n",
       "      <td>4.000000</td>\n",
       "      <td>3.000000</td>\n",
       "      <td>1.150000</td>\n",
       "      <td>10001.000000</td>\n",
       "      <td>2.499000e+03</td>\n",
       "    </tr>\n",
       "    <tr>\n",
       "      <th>max</th>\n",
       "      <td>8.750000e+08</td>\n",
       "      <td>123.000000</td>\n",
       "      <td>198.000000</td>\n",
       "      <td>100000.000000</td>\n",
       "      <td>99999.000000</td>\n",
       "      <td>1.450112e+06</td>\n",
       "    </tr>\n",
       "  </tbody>\n",
       "</table>\n",
       "</div>"
      ],
      "text/plain": [
       "              price            bed           bath       acre_lot  \\\n",
       "count  9.230880e+05  791456.000000  807967.000000  649536.000000   \n",
       "mean   8.841225e+05       3.330352       2.488164      17.075888   \n",
       "std    2.623745e+06       2.070402       1.940057     962.322866   \n",
       "min    0.000000e+00       1.000000       1.000000       0.000000   \n",
       "25%    2.690000e+05       2.000000       1.000000       0.110000   \n",
       "50%    4.750000e+05       3.000000       2.000000       0.290000   \n",
       "75%    8.399000e+05       4.000000       3.000000       1.150000   \n",
       "max    8.750000e+08     123.000000     198.000000  100000.000000   \n",
       "\n",
       "            zip_code    house_size  \n",
       "count  922954.000000  6.253160e+05  \n",
       "mean     6590.061523  2.141644e+03  \n",
       "std      3818.208203  3.035327e+03  \n",
       "min       601.000000  1.000000e+02  \n",
       "25%      2919.000000  1.130000e+03  \n",
       "50%      7004.000000  1.651000e+03  \n",
       "75%     10001.000000  2.499000e+03  \n",
       "max     99999.000000  1.450112e+06  "
      ]
     },
     "execution_count": 5,
     "metadata": {},
     "output_type": "execute_result"
    }
   ],
   "source": [
    "df.describe()"
   ]
  },
  {
   "cell_type": "markdown",
   "id": "be11dcee-75c1-4396-b60b-b3a0bfc75b09",
   "metadata": {},
   "source": [
    "## Features"
   ]
  },
  {
   "cell_type": "markdown",
   "id": "18ee10d6-be01-480b-930d-e808bd479913",
   "metadata": {},
   "source": [
    "### Exploration"
   ]
  },
  {
   "cell_type": "markdown",
   "id": "a4573783-eb7d-4b04-bcac-2bac451a6236",
   "metadata": {},
   "source": [
    "<b>columns</b> stores the list of the feature names.\n",
    "<br>\n",
    "<b>index</b> displays information about the index features.\n",
    "<br>\n",
    "<b>info()</b> lists the features and their respective data types.\n",
    "<br>\n",
    "<b>dtypes</b> is a 2D array that is almost the same as info(), except that it trims the list of features when exceeding some maximum count.\n"
   ]
  },
  {
   "cell_type": "code",
   "execution_count": 6,
   "id": "6a9deb48-fae7-4cb7-ac75-12682a10e1ab",
   "metadata": {},
   "outputs": [
    {
     "data": {
      "text/plain": [
       "Index(['status', 'price', 'bed', 'bath', 'acre_lot', 'full_address', 'street',\n",
       "       'city', 'state', 'zip_code', 'house_size', 'sold_date'],\n",
       "      dtype='object')"
      ]
     },
     "execution_count": 6,
     "metadata": {},
     "output_type": "execute_result"
    }
   ],
   "source": [
    "df.columns"
   ]
  },
  {
   "cell_type": "code",
   "execution_count": 7,
   "id": "7c8568a7-ffb8-47d5-bd23-ba2dd23556b3",
   "metadata": {},
   "outputs": [
    {
     "data": {
      "text/plain": [
       "RangeIndex(start=0, stop=923159, step=1)"
      ]
     },
     "execution_count": 7,
     "metadata": {},
     "output_type": "execute_result"
    }
   ],
   "source": [
    "df.index"
   ]
  },
  {
   "cell_type": "code",
   "execution_count": 8,
   "id": "0d885658-046c-4472-9e97-2734c45ba871",
   "metadata": {},
   "outputs": [
    {
     "name": "stdout",
     "output_type": "stream",
     "text": [
      "<class 'pandas.core.frame.DataFrame'>\n",
      "RangeIndex: 923159 entries, 0 to 923158\n",
      "Data columns (total 12 columns):\n",
      " #   Column        Non-Null Count   Dtype  \n",
      "---  ------        --------------   -----  \n",
      " 0   status        923159 non-null  object \n",
      " 1   price         923088 non-null  float64\n",
      " 2   bed           791456 non-null  float64\n",
      " 3   bath          807967 non-null  float64\n",
      " 4   acre_lot      649536 non-null  float64\n",
      " 5   full_address  923159 non-null  object \n",
      " 6   street        921021 non-null  object \n",
      " 7   city          923085 non-null  object \n",
      " 8   state         923159 non-null  object \n",
      " 9   zip_code      922954 non-null  float64\n",
      " 10  house_size    625316 non-null  float64\n",
      " 11  sold_date     456396 non-null  object \n",
      "dtypes: float64(6), object(6)\n",
      "memory usage: 84.5+ MB\n"
     ]
    }
   ],
   "source": [
    "df.info()"
   ]
  },
  {
   "cell_type": "code",
   "execution_count": 9,
   "id": "2f1db1bd-15bc-44f8-bd43-508f9357014c",
   "metadata": {},
   "outputs": [
    {
     "data": {
      "text/plain": [
       "status           object\n",
       "price           float64\n",
       "bed             float64\n",
       "bath            float64\n",
       "acre_lot        float64\n",
       "full_address     object\n",
       "street           object\n",
       "city             object\n",
       "state            object\n",
       "zip_code        float64\n",
       "house_size      float64\n",
       "sold_date        object\n",
       "dtype: object"
      ]
     },
     "execution_count": 9,
     "metadata": {},
     "output_type": "execute_result"
    }
   ],
   "source": [
    "df.dtypes"
   ]
  },
  {
   "cell_type": "markdown",
   "id": "d2b2d3d1-fc8b-4314-8252-6708399ff674",
   "metadata": {},
   "source": [
    "### Values/Frequencies"
   ]
  },
  {
   "cell_type": "code",
   "execution_count": 10,
   "id": "fd202931-69ce-4d44-a8bd-7947cf7216db",
   "metadata": {},
   "outputs": [
    {
     "data": {
      "text/plain": [
       "array(['Puerto Rico', 'Virgin Islands', 'Massachusetts', 'Connecticut',\n",
       "       'New Hampshire', 'Vermont', 'New Jersey', 'New York',\n",
       "       'South Carolina', 'Tennessee', 'Rhode Island', 'Virginia',\n",
       "       'Wyoming', 'Maine', 'Georgia', 'Pennsylvania', 'West Virginia',\n",
       "       'Delaware'], dtype=object)"
      ]
     },
     "execution_count": 10,
     "metadata": {},
     "output_type": "execute_result"
    }
   ],
   "source": [
    "df['state'].unique()"
   ]
  },
  {
   "cell_type": "code",
   "execution_count": 11,
   "id": "a863ecbe-d611-4146-9e89-e5271ba3e8c1",
   "metadata": {},
   "outputs": [
    {
     "data": {
      "text/plain": [
       "for_sale          921528\n",
       "ready_to_build      1631\n",
       "Name: status, dtype: int64"
      ]
     },
     "execution_count": 11,
     "metadata": {},
     "output_type": "execute_result"
    }
   ],
   "source": [
    "df['status'].value_counts()"
   ]
  },
  {
   "cell_type": "markdown",
   "id": "d675fda9-6cf6-4798-9489-4144159204a1",
   "metadata": {},
   "source": [
    "### Stats/Plots"
   ]
  },
  {
   "cell_type": "code",
   "execution_count": 12,
   "id": "cbe1046e-667f-46fc-b10d-c01243705df0",
   "metadata": {},
   "outputs": [
    {
     "data": {
      "text/plain": [
       "count    791456.000000\n",
       "mean          3.330352\n",
       "std           2.070402\n",
       "min           1.000000\n",
       "25%           2.000000\n",
       "50%           3.000000\n",
       "75%           4.000000\n",
       "max         123.000000\n",
       "Name: bed, dtype: float64"
      ]
     },
     "execution_count": 12,
     "metadata": {},
     "output_type": "execute_result"
    }
   ],
   "source": [
    "df.bed.describe()"
   ]
  },
  {
   "cell_type": "code",
   "execution_count": 13,
   "id": "87c36bff-12c8-41fc-b1c2-19650ba30a9a",
   "metadata": {},
   "outputs": [
    {
     "name": "stdout",
     "output_type": "stream",
     "text": [
      "There are 0 instances with non-integer number of beds\n"
     ]
    }
   ],
   "source": [
    "decimal_beds = df[df['bed'].apply(\n",
    "    lambda x: (not np.isnan(x)) and (not x.is_integer())\n",
    ")].shape[0]\n",
    "\n",
    "print(\"There are %d instances with non-integer number of beds\" % decimal_beds)"
   ]
  },
  {
   "cell_type": "code",
   "execution_count": 14,
   "id": "9100d20b-fb5c-44d5-9eb6-69182d7cdcc2",
   "metadata": {},
   "outputs": [
    {
     "data": {
      "text/plain": [
       "array([[<AxesSubplot:title={'center':'bed'}>,\n",
       "        <AxesSubplot:title={'center':'bath'}>]], dtype=object)"
      ]
     },
     "execution_count": 14,
     "metadata": {},
     "output_type": "execute_result"
    },
    {
     "data": {
      "image/png": "[encoded data removed]",
      "text/plain": [
       "<Figure size 640x480 with 2 Axes>"
      ]
     },
     "metadata": {},
     "output_type": "display_data"
    }
   ],
   "source": [
    "df[df['bed'] <= 20].hist(['bed', 'bath'])"
   ]
  },
  {
   "cell_type": "code",
   "execution_count": 15,
   "id": "f22755d3-779c-449f-a36b-a883d939c4e4",
   "metadata": {},
   "outputs": [
    {
     "data": {
      "text/plain": [
       "<AxesSubplot:xlabel='index', ylabel='bath'>"
      ]
     },
     "execution_count": 15,
     "metadata": {},
     "output_type": "execute_result"
    },
    {
     "data": {
      "image/png": "[encoded data removed]",
      "text/plain": [
       "<Figure size 640x480 with 1 Axes>"
      ]
     },
     "metadata": {},
     "output_type": "display_data"
    }
   ],
   "source": [
    "df.reset_index().plot(kind='scatter', x='index', y='bath')"
   ]
  },
  {
   "cell_type": "code",
   "execution_count": 16,
   "id": "ebe43234-3398-435b-a07d-3bb6190dab5d",
   "metadata": {},
   "outputs": [
    {
     "data": {
      "text/plain": [
       "<AxesSubplot:xlabel='bed'>"
      ]
     },
     "execution_count": 16,
     "metadata": {},
     "output_type": "execute_result"
    },
    {
     "data": {
      "image/png": "[encoded data removed]",
      "text/plain": [
       "<Figure size 640x480 with 1 Axes>"
      ]
     },
     "metadata": {},
     "output_type": "display_data"
    }
   ],
   "source": [
    "df[df['bed'] <= 30].groupby('bed').mean().plot(kind='bar', y='bath')"
   ]
  },
  {
   "cell_type": "code",
   "execution_count": 17,
   "id": "2dcf0ce8-be63-4a8f-a768-03c935e59126",
   "metadata": {},
   "outputs": [
    {
     "data": {
      "text/plain": [
       "[Text(0.5, 0, 'No of bedrooms'), Text(0, 0.5, 'mean price (Million USD)')]"
      ]
     },
     "execution_count": 17,
     "metadata": {},
     "output_type": "execute_result"
    },
    {
     "data": {
      "image/png": "[encoded data removed]",
      "text/plain": [
       "<Figure size 640x480 with 1 Axes>"
      ]
     },
     "metadata": {},
     "output_type": "display_data"
    }
   ],
   "source": [
    "df[df['bed'] <= 10].sort_values('bed').groupby('bed').mean().plot(kind='line', y='price').set(xlabel='No of bedrooms', ylabel='mean price (Million USD)')"
   ]
  },
  {
   "cell_type": "markdown",
   "id": "dc37afa1-f1cd-4aa9-92f5-e44196d8a07b",
   "metadata": {},
   "source": [
    "### Sampling"
   ]
  },
  {
   "cell_type": "code",
   "execution_count": 18,
   "id": "a608c223-a4b2-4b82-b2cc-c0596cb9a061",
   "metadata": {},
   "outputs": [
    {
     "data": {
      "text/plain": [
       "337751    2020-03-23\n",
       "876905           NaN\n",
       "134932           NaN\n",
       "442728    2014-08-13\n",
       "697651           NaN\n",
       "105694           NaN\n",
       "579282    2000-06-21\n",
       "197516    2006-09-29\n",
       "494858    2020-02-21\n",
       "522188    1986-07-18\n",
       "Name: sold_date, dtype: object"
      ]
     },
     "execution_count": 18,
     "metadata": {},
     "output_type": "execute_result"
    }
   ],
   "source": [
    "df['sold_date'].sample(n=10, random_state=1)"
   ]
  },
  {
   "cell_type": "markdown",
   "id": "08d92465-0d49-44ff-b12b-6bc6bc00c4e4",
   "metadata": {},
   "source": [
    "### Type casting"
   ]
  },
  {
   "cell_type": "code",
   "execution_count": 19,
   "id": "6e1afcb5-4911-4a91-87f4-acfd7cb76d48",
   "metadata": {},
   "outputs": [],
   "source": [
    "df['sold_date'] = pd.to_datetime(df['sold_date'])"
   ]
  },
  {
   "cell_type": "code",
   "execution_count": 20,
   "id": "0c2af7b4-3496-42fb-86ac-e222ab26c6f0",
   "metadata": {},
   "outputs": [],
   "source": [
    "df['bed'] = pd.to_numeric(df['bed'], errors='coerce')"
   ]
  },
  {
   "cell_type": "code",
   "execution_count": 21,
   "id": "82d65e2d-e12a-4ccb-824e-ef094f650e9c",
   "metadata": {},
   "outputs": [],
   "source": [
    "df['bath'] = df['bath'].astype('float')"
   ]
  },
  {
   "cell_type": "code",
   "execution_count": 22,
   "id": "4516732f-be2b-46ea-8d54-f8c2790b2b78",
   "metadata": {
    "tags": []
   },
   "outputs": [],
   "source": [
    "df['status'] = df['status'].astype('category')"
   ]
  },
  {
   "cell_type": "markdown",
   "id": "e538210d-2063-4e90-af65-14743ce0793f",
   "metadata": {
    "tags": []
   },
   "source": [
    "## Missing values"
   ]
  },
  {
   "cell_type": "markdown",
   "id": "8594cbaa-5da5-4a82-93cc-ccfed8c5d90a",
   "metadata": {},
   "source": [
    "### Exploring NaNs"
   ]
  },
  {
   "cell_type": "markdown",
   "id": "3f4f25dc-041f-4257-a57f-f79592859ec1",
   "metadata": {},
   "source": [
    "<b>isna().sum()</b> is used to display the total number of NaN values in each feature."
   ]
  },
  {
   "cell_type": "code",
   "execution_count": 23,
   "id": "fc943027-6676-488b-8879-01d6b3eb4658",
   "metadata": {},
   "outputs": [
    {
     "name": "stdout",
     "output_type": "stream",
     "text": [
      "status               0\n",
      "price               71\n",
      "bed             131703\n",
      "bath            115192\n",
      "acre_lot        273623\n",
      "full_address         0\n",
      "street            2138\n",
      "city                74\n",
      "state                0\n",
      "zip_code           205\n",
      "house_size      297843\n",
      "sold_date       466763\n",
      "dtype: int64\n"
     ]
    }
   ],
   "source": [
    "print(df.isna().sum())"
   ]
  },
  {
   "cell_type": "code",
   "execution_count": 24,
   "id": "9f046265-f34e-4ad9-9493-e7d5c1bf1bae",
   "metadata": {},
   "outputs": [
    {
     "data": {
      "text/html": [
       "<div>\n",
       "<style scoped>\n",
       "    .dataframe tbody tr th:only-of-type {\n",
       "        vertical-align: middle;\n",
       "    }\n",
       "\n",
       "    .dataframe tbody tr th {\n",
       "        vertical-align: top;\n",
       "    }\n",
       "\n",
       "    .dataframe thead th {\n",
       "        text-align: right;\n",
       "    }\n",
       "</style>\n",
       "<table border=\"1\" class=\"dataframe\">\n",
       "  <thead>\n",
       "    <tr style=\"text-align: right;\">\n",
       "      <th></th>\n",
       "      <th>status</th>\n",
       "      <th>price</th>\n",
       "      <th>bed</th>\n",
       "      <th>bath</th>\n",
       "      <th>acre_lot</th>\n",
       "      <th>full_address</th>\n",
       "      <th>street</th>\n",
       "      <th>city</th>\n",
       "      <th>state</th>\n",
       "      <th>zip_code</th>\n",
       "      <th>house_size</th>\n",
       "      <th>sold_date</th>\n",
       "    </tr>\n",
       "  </thead>\n",
       "  <tbody>\n",
       "    <tr>\n",
       "      <th>619434</th>\n",
       "      <td>ready_to_build</td>\n",
       "      <td>NaN</td>\n",
       "      <td>4.0</td>\n",
       "      <td>NaN</td>\n",
       "      <td>NaN</td>\n",
       "      <td>141 Hartford Road, Medford, NJ, 08055</td>\n",
       "      <td>141 Hartford Road</td>\n",
       "      <td>Medford</td>\n",
       "      <td>New Jersey</td>\n",
       "      <td>8055.0</td>\n",
       "      <td>2244.0</td>\n",
       "      <td>NaT</td>\n",
       "    </tr>\n",
       "    <tr>\n",
       "      <th>619444</th>\n",
       "      <td>ready_to_build</td>\n",
       "      <td>NaN</td>\n",
       "      <td>3.0</td>\n",
       "      <td>NaN</td>\n",
       "      <td>NaN</td>\n",
       "      <td>1 Naples Lane, Mount Laurel, NJ, 08054</td>\n",
       "      <td>1 Naples Lane</td>\n",
       "      <td>Mount Laurel</td>\n",
       "      <td>New Jersey</td>\n",
       "      <td>8054.0</td>\n",
       "      <td>2224.0</td>\n",
       "      <td>NaT</td>\n",
       "    </tr>\n",
       "    <tr>\n",
       "      <th>619445</th>\n",
       "      <td>ready_to_build</td>\n",
       "      <td>NaN</td>\n",
       "      <td>3.0</td>\n",
       "      <td>NaN</td>\n",
       "      <td>NaN</td>\n",
       "      <td>1 Naples Lane, Mount Laurel, NJ, 08054</td>\n",
       "      <td>1 Naples Lane</td>\n",
       "      <td>Mount Laurel</td>\n",
       "      <td>New Jersey</td>\n",
       "      <td>8054.0</td>\n",
       "      <td>2270.0</td>\n",
       "      <td>NaT</td>\n",
       "    </tr>\n",
       "    <tr>\n",
       "      <th>620249</th>\n",
       "      <td>ready_to_build</td>\n",
       "      <td>NaN</td>\n",
       "      <td>2.0</td>\n",
       "      <td>NaN</td>\n",
       "      <td>NaN</td>\n",
       "      <td>4300 Bridgeboro Road, Moorestown, NJ, 08057</td>\n",
       "      <td>4300 Bridgeboro Road</td>\n",
       "      <td>Moorestown</td>\n",
       "      <td>New Jersey</td>\n",
       "      <td>8057.0</td>\n",
       "      <td>1748.0</td>\n",
       "      <td>NaT</td>\n",
       "    </tr>\n",
       "    <tr>\n",
       "      <th>620325</th>\n",
       "      <td>ready_to_build</td>\n",
       "      <td>NaN</td>\n",
       "      <td>2.0</td>\n",
       "      <td>NaN</td>\n",
       "      <td>NaN</td>\n",
       "      <td>4300 Bridgeboro Road, Moorestown, NJ, 08057</td>\n",
       "      <td>4300 Bridgeboro Road</td>\n",
       "      <td>Moorestown</td>\n",
       "      <td>New Jersey</td>\n",
       "      <td>8057.0</td>\n",
       "      <td>1865.0</td>\n",
       "      <td>NaT</td>\n",
       "    </tr>\n",
       "    <tr>\n",
       "      <th>...</th>\n",
       "      <td>...</td>\n",
       "      <td>...</td>\n",
       "      <td>...</td>\n",
       "      <td>...</td>\n",
       "      <td>...</td>\n",
       "      <td>...</td>\n",
       "      <td>...</td>\n",
       "      <td>...</td>\n",
       "      <td>...</td>\n",
       "      <td>...</td>\n",
       "      <td>...</td>\n",
       "      <td>...</td>\n",
       "    </tr>\n",
       "    <tr>\n",
       "      <th>685698</th>\n",
       "      <td>ready_to_build</td>\n",
       "      <td>NaN</td>\n",
       "      <td>5.0</td>\n",
       "      <td>NaN</td>\n",
       "      <td>NaN</td>\n",
       "      <td>1219 Pimpernell Path, Middletown, DE, 19709</td>\n",
       "      <td>1219 Pimpernell Path</td>\n",
       "      <td>Middletown</td>\n",
       "      <td>Delaware</td>\n",
       "      <td>19709.0</td>\n",
       "      <td>2511.0</td>\n",
       "      <td>NaT</td>\n",
       "    </tr>\n",
       "    <tr>\n",
       "      <th>685699</th>\n",
       "      <td>ready_to_build</td>\n",
       "      <td>NaN</td>\n",
       "      <td>5.0</td>\n",
       "      <td>NaN</td>\n",
       "      <td>NaN</td>\n",
       "      <td>1219 Pimpernell Path, Middletown, DE, 19709</td>\n",
       "      <td>1219 Pimpernell Path</td>\n",
       "      <td>Middletown</td>\n",
       "      <td>Delaware</td>\n",
       "      <td>19709.0</td>\n",
       "      <td>2814.0</td>\n",
       "      <td>NaT</td>\n",
       "    </tr>\n",
       "    <tr>\n",
       "      <th>701728</th>\n",
       "      <td>ready_to_build</td>\n",
       "      <td>NaN</td>\n",
       "      <td>3.0</td>\n",
       "      <td>NaN</td>\n",
       "      <td>NaN</td>\n",
       "      <td>Levis Drive &amp; S Martin Ave, Mount Holly, NJ, 0...</td>\n",
       "      <td>Levis Drive &amp; S Martin Ave</td>\n",
       "      <td>Mount Holly</td>\n",
       "      <td>New Jersey</td>\n",
       "      <td>8060.0</td>\n",
       "      <td>2208.0</td>\n",
       "      <td>NaT</td>\n",
       "    </tr>\n",
       "    <tr>\n",
       "      <th>702663</th>\n",
       "      <td>ready_to_build</td>\n",
       "      <td>NaN</td>\n",
       "      <td>4.0</td>\n",
       "      <td>NaN</td>\n",
       "      <td>NaN</td>\n",
       "      <td>141 Hartford Road, Medford, NJ, 08055</td>\n",
       "      <td>141 Hartford Road</td>\n",
       "      <td>Medford</td>\n",
       "      <td>New Jersey</td>\n",
       "      <td>8055.0</td>\n",
       "      <td>2244.0</td>\n",
       "      <td>NaT</td>\n",
       "    </tr>\n",
       "    <tr>\n",
       "      <th>703119</th>\n",
       "      <td>ready_to_build</td>\n",
       "      <td>NaN</td>\n",
       "      <td>3.0</td>\n",
       "      <td>NaN</td>\n",
       "      <td>NaN</td>\n",
       "      <td>Levis Drive &amp; S Martin Ave, Mount Holly, NJ, 0...</td>\n",
       "      <td>Levis Drive &amp; S Martin Ave</td>\n",
       "      <td>Mount Holly</td>\n",
       "      <td>New Jersey</td>\n",
       "      <td>8060.0</td>\n",
       "      <td>2208.0</td>\n",
       "      <td>NaT</td>\n",
       "    </tr>\n",
       "  </tbody>\n",
       "</table>\n",
       "<p>71 rows × 12 columns</p>\n",
       "</div>"
      ],
      "text/plain": [
       "                status  price  bed  bath  acre_lot  \\\n",
       "619434  ready_to_build    NaN  4.0   NaN       NaN   \n",
       "619444  ready_to_build    NaN  3.0   NaN       NaN   \n",
       "619445  ready_to_build    NaN  3.0   NaN       NaN   \n",
       "620249  ready_to_build    NaN  2.0   NaN       NaN   \n",
       "620325  ready_to_build    NaN  2.0   NaN       NaN   \n",
       "...                ...    ...  ...   ...       ...   \n",
       "685698  ready_to_build    NaN  5.0   NaN       NaN   \n",
       "685699  ready_to_build    NaN  5.0   NaN       NaN   \n",
       "701728  ready_to_build    NaN  3.0   NaN       NaN   \n",
       "702663  ready_to_build    NaN  4.0   NaN       NaN   \n",
       "703119  ready_to_build    NaN  3.0   NaN       NaN   \n",
       "\n",
       "                                             full_address  \\\n",
       "619434              141 Hartford Road, Medford, NJ, 08055   \n",
       "619444             1 Naples Lane, Mount Laurel, NJ, 08054   \n",
       "619445             1 Naples Lane, Mount Laurel, NJ, 08054   \n",
       "620249        4300 Bridgeboro Road, Moorestown, NJ, 08057   \n",
       "620325        4300 Bridgeboro Road, Moorestown, NJ, 08057   \n",
       "...                                                   ...   \n",
       "685698        1219 Pimpernell Path, Middletown, DE, 19709   \n",
       "685699        1219 Pimpernell Path, Middletown, DE, 19709   \n",
       "701728  Levis Drive & S Martin Ave, Mount Holly, NJ, 0...   \n",
       "702663              141 Hartford Road, Medford, NJ, 08055   \n",
       "703119  Levis Drive & S Martin Ave, Mount Holly, NJ, 0...   \n",
       "\n",
       "                            street          city       state  zip_code  \\\n",
       "619434           141 Hartford Road       Medford  New Jersey    8055.0   \n",
       "619444               1 Naples Lane  Mount Laurel  New Jersey    8054.0   \n",
       "619445               1 Naples Lane  Mount Laurel  New Jersey    8054.0   \n",
       "620249        4300 Bridgeboro Road    Moorestown  New Jersey    8057.0   \n",
       "620325        4300 Bridgeboro Road    Moorestown  New Jersey    8057.0   \n",
       "...                            ...           ...         ...       ...   \n",
       "685698        1219 Pimpernell Path    Middletown    Delaware   19709.0   \n",
       "685699        1219 Pimpernell Path    Middletown    Delaware   19709.0   \n",
       "701728  Levis Drive & S Martin Ave   Mount Holly  New Jersey    8060.0   \n",
       "702663           141 Hartford Road       Medford  New Jersey    8055.0   \n",
       "703119  Levis Drive & S Martin Ave   Mount Holly  New Jersey    8060.0   \n",
       "\n",
       "        house_size sold_date  \n",
       "619434      2244.0       NaT  \n",
       "619444      2224.0       NaT  \n",
       "619445      2270.0       NaT  \n",
       "620249      1748.0       NaT  \n",
       "620325      1865.0       NaT  \n",
       "...            ...       ...  \n",
       "685698      2511.0       NaT  \n",
       "685699      2814.0       NaT  \n",
       "701728      2208.0       NaT  \n",
       "702663      2244.0       NaT  \n",
       "703119      2208.0       NaT  \n",
       "\n",
       "[71 rows x 12 columns]"
      ]
     },
     "execution_count": 24,
     "metadata": {},
     "output_type": "execute_result"
    }
   ],
   "source": [
    "df[df['price'].isna()]"
   ]
  },
  {
   "cell_type": "markdown",
   "id": "d3cfff97-e75a-41d8-a4ca-49f62174397a",
   "metadata": {},
   "source": [
    "We can cross several features with each other to deduce patterns. I.e. the below code (empty resultset) tells us that all the houses with missing 'price' feature are missing 'sold_date' as well."
   ]
  },
  {
   "cell_type": "code",
   "execution_count": 25,
   "id": "1ea2b858-09f9-4b37-9a8e-4a5a444dd80c",
   "metadata": {},
   "outputs": [
    {
     "data": {
      "text/html": [
       "<div>\n",
       "<style scoped>\n",
       "    .dataframe tbody tr th:only-of-type {\n",
       "        vertical-align: middle;\n",
       "    }\n",
       "\n",
       "    .dataframe tbody tr th {\n",
       "        vertical-align: top;\n",
       "    }\n",
       "\n",
       "    .dataframe thead th {\n",
       "        text-align: right;\n",
       "    }\n",
       "</style>\n",
       "<table border=\"1\" class=\"dataframe\">\n",
       "  <thead>\n",
       "    <tr style=\"text-align: right;\">\n",
       "      <th></th>\n",
       "      <th>status</th>\n",
       "      <th>price</th>\n",
       "      <th>bed</th>\n",
       "      <th>bath</th>\n",
       "      <th>acre_lot</th>\n",
       "      <th>full_address</th>\n",
       "      <th>street</th>\n",
       "      <th>city</th>\n",
       "      <th>state</th>\n",
       "      <th>zip_code</th>\n",
       "      <th>house_size</th>\n",
       "      <th>sold_date</th>\n",
       "    </tr>\n",
       "  </thead>\n",
       "  <tbody>\n",
       "  </tbody>\n",
       "</table>\n",
       "</div>"
      ],
      "text/plain": [
       "Empty DataFrame\n",
       "Columns: [status, price, bed, bath, acre_lot, full_address, street, city, state, zip_code, house_size, sold_date]\n",
       "Index: []"
      ]
     },
     "execution_count": 25,
     "metadata": {},
     "output_type": "execute_result"
    }
   ],
   "source": [
    "df[(~ df['sold_date'].isna()) & (df['price'].isna())]"
   ]
  },
  {
   "cell_type": "markdown",
   "id": "4435d2dd-07f6-42b2-a72d-eed23c35f6a7",
   "metadata": {},
   "source": [
    "### Dealing with NaNs"
   ]
  },
  {
   "cell_type": "markdown",
   "id": "20b6e6e3-147f-4205-87ed-d1189cfa4ecb",
   "metadata": {},
   "source": [
    "<b>Approach 1:</b>\n",
    "Dropping the corresponding instances:\n",
    "<br>\n",
    "<i>df.dropna(axis='index', how='any|all', thresh=min_number_of_non_na_in_row, inplace=True|False)</i>\n",
    "\n",
    "The code below drops any instance with 4 or more NaNs."
   ]
  },
  {
   "cell_type": "code",
   "execution_count": 26,
   "id": "b2dadf27-cd40-47bf-a736-cb9381678e7e",
   "metadata": {},
   "outputs": [
    {
     "name": "stdout",
     "output_type": "stream",
     "text": [
      "Total instances being dropped: 2238\n"
     ]
    }
   ],
   "source": [
    "df_na_dropped = df.dropna(axis='index', thresh=8, inplace=False)\n",
    "print(\"Total instances being dropped: %d\" % (df.shape[0] - df_na_dropped.shape[0]))"
   ]
  },
  {
   "cell_type": "markdown",
   "id": "840dd756-64e5-4be4-a5f1-26ba16fd5c34",
   "metadata": {},
   "source": [
    "<b>Approach 2:</b>\n",
    "Dropping the corresponding features:\n",
    "<br>\n",
    "<i>df.dropna(axis='columns', how='any|all', thresh=min_number_of_non_na_in_feature, subset=['feature1', 'feature2', ...], inplace=True|False)</i>\n",
    "\n",
    "The code below drops any feature half of which's values are NaNs"
   ]
  },
  {
   "cell_type": "code",
   "execution_count": 27,
   "id": "1c55be56-741c-4670-98bd-81d8339e63b5",
   "metadata": {},
   "outputs": [
    {
     "name": "stdout",
     "output_type": "stream",
     "text": [
      "Features being dropped: ['sold_date']\n"
     ]
    }
   ],
   "source": [
    "df_na_dropped = df.dropna(axis='columns', thresh=(df.shape[0] // 2), inplace=False)\n",
    "print(\"Features being dropped: %s\" % list(set(df.columns) - set(df_na_dropped.columns)))"
   ]
  },
  {
   "cell_type": "markdown",
   "id": "64624ec4-c201-49a2-97a4-d2b4c001d968",
   "metadata": {},
   "source": [
    "<b>Approach 3:</b>\n",
    "Fill with a default value"
   ]
  },
  {
   "cell_type": "code",
   "execution_count": 28,
   "id": "343f6053-e3d2-42eb-9268-92111e60f8c2",
   "metadata": {},
   "outputs": [
    {
     "data": {
      "text/plain": [
       "0"
      ]
     },
     "execution_count": 28,
     "metadata": {},
     "output_type": "execute_result"
    }
   ],
   "source": [
    "df['price_na_replaced'] = df['price'] = df['price'].fillna(0)\n",
    "\n",
    "df['price_na_replaced'].isna().sum()"
   ]
  },
  {
   "cell_type": "markdown",
   "id": "c6ece3c9-b723-4ff3-b5e0-283f97a4ba73",
   "metadata": {},
   "source": [
    "<b>Approach 4:</b>\n",
    "Replacing with the mean value"
   ]
  },
  {
   "cell_type": "code",
   "execution_count": 29,
   "id": "f795e3bb-fe29-4da9-9ef6-1e2963162c4c",
   "metadata": {},
   "outputs": [
    {
     "data": {
      "text/plain": [
       "0"
      ]
     },
     "execution_count": 29,
     "metadata": {},
     "output_type": "execute_result"
    }
   ],
   "source": [
    "df['bed_na_replaced'] = df['bed'].fillna(df['bed'].mean())\n",
    "\n",
    "df['bed_na_replaced'].isna().sum()"
   ]
  },
  {
   "cell_type": "markdown",
   "id": "eda340d0-0c33-4529-b11b-7efdde52af5f",
   "metadata": {},
   "source": [
    "<b>Approach 5:</b>\n",
    "Replacing with mode"
   ]
  },
  {
   "cell_type": "code",
   "execution_count": 30,
   "id": "1ed18b0e-5800-4ead-8a87-07ad8dfe3f8f",
   "metadata": {},
   "outputs": [
    {
     "data": {
      "text/plain": [
       "0"
      ]
     },
     "execution_count": 30,
     "metadata": {},
     "output_type": "execute_result"
    }
   ],
   "source": [
    "df['bath_na_replaced'] = df['bath'].fillna(df['bath'].mode()[0])\n",
    "\n",
    "df['bath_na_replaced'].isna().sum()"
   ]
  },
  {
   "cell_type": "markdown",
   "id": "9dbe61bd-09d6-4b25-892a-aa0084affeb2",
   "metadata": {},
   "source": [
    "<b>Approach 6:</b>\n",
    "Putting in the value of previous/next instance, <i>bfill</i> and <i>ffill</i> respectively.\n",
    "<br>\n",
    "Note: for consecutive NaNs it might leave some as is; so, this approach is best combined with another."
   ]
  },
  {
   "cell_type": "code",
   "execution_count": 31,
   "id": "56e6bc74-4f29-415e-bb96-8ee18be5c6b3",
   "metadata": {},
   "outputs": [
    {
     "data": {
      "text/plain": [
       "0"
      ]
     },
     "execution_count": 31,
     "metadata": {},
     "output_type": "execute_result"
    }
   ],
   "source": [
    "df['sold_date_na_replaced'] = df['sold_date'].fillna(method='bfill')\n",
    "df['sold_date_na_replaced'] = df['sold_date_na_replaced'].fillna(method='ffill')\n",
    "\n",
    "df['sold_date_na_replaced'].isna().sum()"
   ]
  },
  {
   "cell_type": "markdown",
   "id": "35d59bd7-418e-488d-9ea5-28ad2d10408f",
   "metadata": {},
   "source": [
    "## Duplicate instances"
   ]
  },
  {
   "cell_type": "code",
   "execution_count": 32,
   "id": "951830d1-d3f1-4299-a9ae-859b5d61d033",
   "metadata": {},
   "outputs": [
    {
     "data": {
      "text/plain": [
       "538490"
      ]
     },
     "execution_count": 32,
     "metadata": {},
     "output_type": "execute_result"
    }
   ],
   "source": [
    "df.duplicated().sum()"
   ]
  },
  {
   "cell_type": "code",
   "execution_count": 33,
   "id": "990438f7-5a34-41df-a2d5-c98021ebc1fa",
   "metadata": {},
   "outputs": [
    {
     "data": {
      "text/html": [
       "<div>\n",
       "<style scoped>\n",
       "    .dataframe tbody tr th:only-of-type {\n",
       "        vertical-align: middle;\n",
       "    }\n",
       "\n",
       "    .dataframe tbody tr th {\n",
       "        vertical-align: top;\n",
       "    }\n",
       "\n",
       "    .dataframe thead th {\n",
       "        text-align: right;\n",
       "    }\n",
       "</style>\n",
       "<table border=\"1\" class=\"dataframe\">\n",
       "  <thead>\n",
       "    <tr style=\"text-align: right;\">\n",
       "      <th></th>\n",
       "      <th>status</th>\n",
       "      <th>price</th>\n",
       "      <th>bed</th>\n",
       "      <th>bath</th>\n",
       "      <th>acre_lot</th>\n",
       "      <th>full_address</th>\n",
       "      <th>street</th>\n",
       "      <th>city</th>\n",
       "      <th>state</th>\n",
       "      <th>zip_code</th>\n",
       "      <th>house_size</th>\n",
       "      <th>sold_date</th>\n",
       "      <th>price_na_replaced</th>\n",
       "      <th>bed_na_replaced</th>\n",
       "      <th>bath_na_replaced</th>\n",
       "      <th>sold_date_na_replaced</th>\n",
       "    </tr>\n",
       "  </thead>\n",
       "  <tbody>\n",
       "    <tr>\n",
       "      <th>1336</th>\n",
       "      <td>for_sale</td>\n",
       "      <td>80000.0</td>\n",
       "      <td>4.0</td>\n",
       "      <td>2.0</td>\n",
       "      <td>0.08</td>\n",
       "      <td>Km 78 9 Carr # 135, Adjuntas, PR, 00601</td>\n",
       "      <td>Km 78 9 Carr # 135</td>\n",
       "      <td>Adjuntas</td>\n",
       "      <td>Puerto Rico</td>\n",
       "      <td>601.0</td>\n",
       "      <td>1527.0</td>\n",
       "      <td>NaT</td>\n",
       "      <td>80000.0</td>\n",
       "      <td>4.0</td>\n",
       "      <td>2.0</td>\n",
       "      <td>2020-02-28</td>\n",
       "    </tr>\n",
       "    <tr>\n",
       "      <th>1588</th>\n",
       "      <td>for_sale</td>\n",
       "      <td>80000.0</td>\n",
       "      <td>4.0</td>\n",
       "      <td>2.0</td>\n",
       "      <td>0.08</td>\n",
       "      <td>Km 78 9 Carr # 135, Adjuntas, PR, 00601</td>\n",
       "      <td>Km 78 9 Carr # 135</td>\n",
       "      <td>Adjuntas</td>\n",
       "      <td>Puerto Rico</td>\n",
       "      <td>601.0</td>\n",
       "      <td>1527.0</td>\n",
       "      <td>NaT</td>\n",
       "      <td>80000.0</td>\n",
       "      <td>4.0</td>\n",
       "      <td>2.0</td>\n",
       "      <td>2020-02-28</td>\n",
       "    </tr>\n",
       "    <tr>\n",
       "      <th>1663</th>\n",
       "      <td>for_sale</td>\n",
       "      <td>80000.0</td>\n",
       "      <td>4.0</td>\n",
       "      <td>2.0</td>\n",
       "      <td>0.08</td>\n",
       "      <td>Km 78 9 Carr # 135, Adjuntas, PR, 00601</td>\n",
       "      <td>Km 78 9 Carr # 135</td>\n",
       "      <td>Adjuntas</td>\n",
       "      <td>Puerto Rico</td>\n",
       "      <td>601.0</td>\n",
       "      <td>1527.0</td>\n",
       "      <td>NaT</td>\n",
       "      <td>80000.0</td>\n",
       "      <td>4.0</td>\n",
       "      <td>2.0</td>\n",
       "      <td>2020-02-28</td>\n",
       "    </tr>\n",
       "    <tr>\n",
       "      <th>1839</th>\n",
       "      <td>for_sale</td>\n",
       "      <td>80000.0</td>\n",
       "      <td>4.0</td>\n",
       "      <td>2.0</td>\n",
       "      <td>0.08</td>\n",
       "      <td>Km 78 9 Carr # 135, Adjuntas, PR, 00601</td>\n",
       "      <td>Km 78 9 Carr # 135</td>\n",
       "      <td>Adjuntas</td>\n",
       "      <td>Puerto Rico</td>\n",
       "      <td>601.0</td>\n",
       "      <td>1527.0</td>\n",
       "      <td>NaT</td>\n",
       "      <td>80000.0</td>\n",
       "      <td>4.0</td>\n",
       "      <td>2.0</td>\n",
       "      <td>2020-02-28</td>\n",
       "    </tr>\n",
       "    <tr>\n",
       "      <th>2052</th>\n",
       "      <td>for_sale</td>\n",
       "      <td>80000.0</td>\n",
       "      <td>4.0</td>\n",
       "      <td>2.0</td>\n",
       "      <td>0.08</td>\n",
       "      <td>Km 78 9 Carr # 135, Adjuntas, PR, 00601</td>\n",
       "      <td>Km 78 9 Carr # 135</td>\n",
       "      <td>Adjuntas</td>\n",
       "      <td>Puerto Rico</td>\n",
       "      <td>601.0</td>\n",
       "      <td>1527.0</td>\n",
       "      <td>NaT</td>\n",
       "      <td>80000.0</td>\n",
       "      <td>4.0</td>\n",
       "      <td>2.0</td>\n",
       "      <td>2020-02-28</td>\n",
       "    </tr>\n",
       "  </tbody>\n",
       "</table>\n",
       "</div>"
      ],
      "text/plain": [
       "        status    price  bed  bath  acre_lot  \\\n",
       "1336  for_sale  80000.0  4.0   2.0      0.08   \n",
       "1588  for_sale  80000.0  4.0   2.0      0.08   \n",
       "1663  for_sale  80000.0  4.0   2.0      0.08   \n",
       "1839  for_sale  80000.0  4.0   2.0      0.08   \n",
       "2052  for_sale  80000.0  4.0   2.0      0.08   \n",
       "\n",
       "                                 full_address              street      city  \\\n",
       "1336  Km 78 9 Carr # 135, Adjuntas, PR, 00601  Km 78 9 Carr # 135  Adjuntas   \n",
       "1588  Km 78 9 Carr # 135, Adjuntas, PR, 00601  Km 78 9 Carr # 135  Adjuntas   \n",
       "1663  Km 78 9 Carr # 135, Adjuntas, PR, 00601  Km 78 9 Carr # 135  Adjuntas   \n",
       "1839  Km 78 9 Carr # 135, Adjuntas, PR, 00601  Km 78 9 Carr # 135  Adjuntas   \n",
       "2052  Km 78 9 Carr # 135, Adjuntas, PR, 00601  Km 78 9 Carr # 135  Adjuntas   \n",
       "\n",
       "            state  zip_code  house_size sold_date  price_na_replaced  \\\n",
       "1336  Puerto Rico     601.0      1527.0       NaT            80000.0   \n",
       "1588  Puerto Rico     601.0      1527.0       NaT            80000.0   \n",
       "1663  Puerto Rico     601.0      1527.0       NaT            80000.0   \n",
       "1839  Puerto Rico     601.0      1527.0       NaT            80000.0   \n",
       "2052  Puerto Rico     601.0      1527.0       NaT            80000.0   \n",
       "\n",
       "      bed_na_replaced  bath_na_replaced sold_date_na_replaced  \n",
       "1336              4.0               2.0            2020-02-28  \n",
       "1588              4.0               2.0            2020-02-28  \n",
       "1663              4.0               2.0            2020-02-28  \n",
       "1839              4.0               2.0            2020-02-28  \n",
       "2052              4.0               2.0            2020-02-28  "
      ]
     },
     "execution_count": 33,
     "metadata": {},
     "output_type": "execute_result"
    }
   ],
   "source": [
    "df[df.duplicated()].sort_values(['zip_code', 'full_address', 'sold_date']).head()"
   ]
  },
  {
   "cell_type": "markdown",
   "id": "808e8fd9-3fc7-4cd6-bb62-31488bbd12dd",
   "metadata": {},
   "source": [
    "Dropping the duplicate instances, while keeping only the <i>first</i> or <i>last</i> one."
   ]
  },
  {
   "cell_type": "code",
   "execution_count": 34,
   "id": "e96e9b5f-1b3d-4587-b8b7-1c971c493c79",
   "metadata": {},
   "outputs": [
    {
     "data": {
      "text/plain": [
       "0"
      ]
     },
     "execution_count": 34,
     "metadata": {},
     "output_type": "execute_result"
    }
   ],
   "source": [
    "df_duplicates_dropped = df.drop_duplicates(keep = \"first\")\n",
    "\n",
    "df_duplicates_dropped.duplicated().sum()"
   ]
  },
  {
   "cell_type": "markdown",
   "id": "b5617862-5953-41b5-b27a-986fb6470c3b",
   "metadata": {},
   "source": [
    "## Outliers"
   ]
  },
  {
   "cell_type": "code",
   "execution_count": 37,
   "id": "3d574419-6097-42b5-b0a0-084ba873f0e6",
   "metadata": {},
   "outputs": [
    {
     "data": {
      "text/plain": [
       "count    791456.000000\n",
       "mean          3.330352\n",
       "std           2.070402\n",
       "min           1.000000\n",
       "25%           2.000000\n",
       "50%           3.000000\n",
       "75%           4.000000\n",
       "max         123.000000\n",
       "Name: bed, dtype: float64"
      ]
     },
     "execution_count": 37,
     "metadata": {},
     "output_type": "execute_result"
    }
   ],
   "source": [
    "df['bed'].describe()"
   ]
  },
  {
   "cell_type": "markdown",
   "id": "bf3fe7eb-9246-4b6b-be2e-c7754e383f3a",
   "metadata": {},
   "source": [
    "### Using quantiles\n",
    "We can use quantiles to remove lower and/or upper outliers"
   ]
  },
  {
   "cell_type": "code",
   "execution_count": 38,
   "id": "f0362702-a95b-4eae-ad76-b9754dde124e",
   "metadata": {},
   "outputs": [
    {
     "name": "stdout",
     "output_type": "stream",
     "text": [
      "Total outliers dropped: 225905\n"
     ]
    },
    {
     "data": {
      "text/plain": [
       "count    697254.000000\n",
       "mean          3.488779\n",
       "std           1.409872\n",
       "min           2.000000\n",
       "25%           3.000000\n",
       "50%           3.000000\n",
       "75%           4.000000\n",
       "max           9.000000\n",
       "Name: bed, dtype: float64"
      ]
     },
     "execution_count": 38,
     "metadata": {},
     "output_type": "execute_result"
    }
   ],
   "source": [
    "q_low = df[\"bed\"].quantile(0.01)\n",
    "q_hi  = df[\"bed\"].quantile(0.99)\n",
    "\n",
    "df_filtered = df[(df[\"bed\"] < q_hi) & (df[\"bed\"] > q_low)]\n",
    "\n",
    "print(\"Total outliers dropped: %d\" % (df.shape[0] - df_filtered.shape[0]))\n",
    "\n",
    "df_filtered['bed'].describe()"
   ]
  },
  {
   "cell_type": "markdown",
   "id": "3737bcf3-1afb-4560-b85c-6613f70d5e33",
   "metadata": {},
   "source": [
    "### Using z-score"
   ]
  },
  {
   "cell_type": "code",
   "execution_count": 39,
   "id": "8d536fde-9ded-457a-aec1-ce5565adb961",
   "metadata": {},
   "outputs": [
    {
     "name": "stdout",
     "output_type": "stream",
     "text": [
      "Total outliers dropped: 140307\n"
     ]
    },
    {
     "data": {
      "text/plain": [
       "count    782852.000000\n",
       "mean          3.216653\n",
       "std           1.540652\n",
       "min           1.000000\n",
       "25%           2.000000\n",
       "50%           3.000000\n",
       "75%           4.000000\n",
       "max           9.000000\n",
       "Name: bed, dtype: float64"
      ]
     },
     "execution_count": 39,
     "metadata": {},
     "output_type": "execute_result"
    }
   ],
   "source": [
    "df_filtered = df[np.abs(df['bed']-df['bed'].mean()) <= (3*df['bed'].std())]\n",
    "\n",
    "print(\"Total outliers dropped: %d\" % (df.shape[0] - df_filtered.shape[0]))\n",
    "\n",
    "df_filtered['bed'].describe()"
   ]
  }
 ],
 "metadata": {
  "kernelspec": {
   "display_name": "Python 3 (ipykernel)",
   "language": "python",
   "name": "python3"
  },
  "language_info": {
   "codemirror_mode": {
    "name": "ipython",
    "version": 3
   },
   "file_extension": ".py",
   "mimetype": "text/x-python",
   "name": "python",
   "nbconvert_exporter": "python",
   "pygments_lexer": "ipython3",
   "version": "3.10.4"
  }
 },
 "nbformat": 4,
 "nbformat_minor": 5
}
