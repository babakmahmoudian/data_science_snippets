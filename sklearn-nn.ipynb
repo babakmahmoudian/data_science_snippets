{
 "cells": [
  {
   "cell_type": "code",
   "execution_count": 1,
   "id": "d35c17ee",
   "metadata": {
    "execution": {
     "iopub.execute_input": "2022-10-03T18:34:52.730152Z",
     "iopub.status.busy": "2022-10-03T18:34:52.729459Z",
     "iopub.status.idle": "2022-10-03T18:34:53.796911Z",
     "shell.execute_reply": "2022-10-03T18:34:53.795671Z"
    },
    "papermill": {
     "duration": 1.079101,
     "end_time": "2022-10-03T18:34:53.799692",
     "exception": false,
     "start_time": "2022-10-03T18:34:52.720591",
     "status": "completed"
    },
    "tags": []
   },
   "outputs": [],
   "source": [
    "import numpy as np\n",
    "import pandas as pd\n",
    "import matplotlib.pyplot as plt\n",
    "\n",
    "from sklearn.preprocessing import LabelEncoder\n",
    "from sklearn.model_selection import train_test_split\n",
    "import sklearn.metrics as metrics"
   ]
  },
  {
   "cell_type": "markdown",
   "id": "739bc5ab",
   "metadata": {
    "papermill": {
     "duration": 0.003902,
     "end_time": "2022-10-03T18:34:53.808041",
     "exception": false,
     "start_time": "2022-10-03T18:34:53.804139",
     "status": "completed"
    },
    "tags": []
   },
   "source": [
    "# Dataset preparation"
   ]
  },
  {
   "cell_type": "code",
   "execution_count": 2,
   "id": "ee5f6d86",
   "metadata": {
    "execution": {
     "iopub.execute_input": "2022-10-03T18:34:53.818713Z",
     "iopub.status.busy": "2022-10-03T18:34:53.817648Z",
     "iopub.status.idle": "2022-10-03T18:34:53.840621Z",
     "shell.execute_reply": "2022-10-03T18:34:53.839430Z"
    },
    "papermill": {
     "duration": 0.031167,
     "end_time": "2022-10-03T18:34:53.843409",
     "exception": false,
     "start_time": "2022-10-03T18:34:53.812242",
     "status": "completed"
    },
    "tags": []
   },
   "outputs": [],
   "source": [
    "df = pd.read_csv('/kaggle/input/titanic/train.csv')"
   ]
  },
  {
   "cell_type": "code",
   "execution_count": 3,
   "id": "a5e0385a",
   "metadata": {
    "execution": {
     "iopub.execute_input": "2022-10-03T18:34:53.854695Z",
     "iopub.status.busy": "2022-10-03T18:34:53.854105Z",
     "iopub.status.idle": "2022-10-03T18:34:53.881453Z",
     "shell.execute_reply": "2022-10-03T18:34:53.880207Z"
    },
    "papermill": {
     "duration": 0.035592,
     "end_time": "2022-10-03T18:34:53.883932",
     "exception": false,
     "start_time": "2022-10-03T18:34:53.848340",
     "status": "completed"
    },
    "tags": []
   },
   "outputs": [
    {
     "data": {
      "text/html": [
       "<div>\n",
       "<style scoped>\n",
       "    .dataframe tbody tr th:only-of-type {\n",
       "        vertical-align: middle;\n",
       "    }\n",
       "\n",
       "    .dataframe tbody tr th {\n",
       "        vertical-align: top;\n",
       "    }\n",
       "\n",
       "    .dataframe thead th {\n",
       "        text-align: right;\n",
       "    }\n",
       "</style>\n",
       "<table border=\"1\" class=\"dataframe\">\n",
       "  <thead>\n",
       "    <tr style=\"text-align: right;\">\n",
       "      <th></th>\n",
       "      <th>PassengerId</th>\n",
       "      <th>Survived</th>\n",
       "      <th>Pclass</th>\n",
       "      <th>Name</th>\n",
       "      <th>Sex</th>\n",
       "      <th>Age</th>\n",
       "      <th>SibSp</th>\n",
       "      <th>Parch</th>\n",
       "      <th>Ticket</th>\n",
       "      <th>Fare</th>\n",
       "      <th>Cabin</th>\n",
       "      <th>Embarked</th>\n",
       "    </tr>\n",
       "  </thead>\n",
       "  <tbody>\n",
       "    <tr>\n",
       "      <th>0</th>\n",
       "      <td>1</td>\n",
       "      <td>0</td>\n",
       "      <td>3</td>\n",
       "      <td>Braund, Mr. Owen Harris</td>\n",
       "      <td>male</td>\n",
       "      <td>22.0</td>\n",
       "      <td>1</td>\n",
       "      <td>0</td>\n",
       "      <td>A/5 21171</td>\n",
       "      <td>7.2500</td>\n",
       "      <td>NaN</td>\n",
       "      <td>S</td>\n",
       "    </tr>\n",
       "    <tr>\n",
       "      <th>1</th>\n",
       "      <td>2</td>\n",
       "      <td>1</td>\n",
       "      <td>1</td>\n",
       "      <td>Cumings, Mrs. John Bradley (Florence Briggs Th...</td>\n",
       "      <td>female</td>\n",
       "      <td>38.0</td>\n",
       "      <td>1</td>\n",
       "      <td>0</td>\n",
       "      <td>PC 17599</td>\n",
       "      <td>71.2833</td>\n",
       "      <td>C85</td>\n",
       "      <td>C</td>\n",
       "    </tr>\n",
       "    <tr>\n",
       "      <th>2</th>\n",
       "      <td>3</td>\n",
       "      <td>1</td>\n",
       "      <td>3</td>\n",
       "      <td>Heikkinen, Miss. Laina</td>\n",
       "      <td>female</td>\n",
       "      <td>26.0</td>\n",
       "      <td>0</td>\n",
       "      <td>0</td>\n",
       "      <td>STON/O2. 3101282</td>\n",
       "      <td>7.9250</td>\n",
       "      <td>NaN</td>\n",
       "      <td>S</td>\n",
       "    </tr>\n",
       "    <tr>\n",
       "      <th>3</th>\n",
       "      <td>4</td>\n",
       "      <td>1</td>\n",
       "      <td>1</td>\n",
       "      <td>Futrelle, Mrs. Jacques Heath (Lily May Peel)</td>\n",
       "      <td>female</td>\n",
       "      <td>35.0</td>\n",
       "      <td>1</td>\n",
       "      <td>0</td>\n",
       "      <td>113803</td>\n",
       "      <td>53.1000</td>\n",
       "      <td>C123</td>\n",
       "      <td>S</td>\n",
       "    </tr>\n",
       "    <tr>\n",
       "      <th>4</th>\n",
       "      <td>5</td>\n",
       "      <td>0</td>\n",
       "      <td>3</td>\n",
       "      <td>Allen, Mr. William Henry</td>\n",
       "      <td>male</td>\n",
       "      <td>35.0</td>\n",
       "      <td>0</td>\n",
       "      <td>0</td>\n",
       "      <td>373450</td>\n",
       "      <td>8.0500</td>\n",
       "      <td>NaN</td>\n",
       "      <td>S</td>\n",
       "    </tr>\n",
       "  </tbody>\n",
       "</table>\n",
       "</div>"
      ],
      "text/plain": [
       "   PassengerId  Survived  Pclass  \\\n",
       "0            1         0       3   \n",
       "1            2         1       1   \n",
       "2            3         1       3   \n",
       "3            4         1       1   \n",
       "4            5         0       3   \n",
       "\n",
       "                                                Name     Sex   Age  SibSp  \\\n",
       "0                            Braund, Mr. Owen Harris    male  22.0      1   \n",
       "1  Cumings, Mrs. John Bradley (Florence Briggs Th...  female  38.0      1   \n",
       "2                             Heikkinen, Miss. Laina  female  26.0      0   \n",
       "3       Futrelle, Mrs. Jacques Heath (Lily May Peel)  female  35.0      1   \n",
       "4                           Allen, Mr. William Henry    male  35.0      0   \n",
       "\n",
       "   Parch            Ticket     Fare Cabin Embarked  \n",
       "0      0         A/5 21171   7.2500   NaN        S  \n",
       "1      0          PC 17599  71.2833   C85        C  \n",
       "2      0  STON/O2. 3101282   7.9250   NaN        S  \n",
       "3      0            113803  53.1000  C123        S  \n",
       "4      0            373450   8.0500   NaN        S  "
      ]
     },
     "execution_count": 3,
     "metadata": {},
     "output_type": "execute_result"
    }
   ],
   "source": [
    "df.head()"
   ]
  },
  {
   "cell_type": "code",
   "execution_count": 4,
   "id": "b8c67674",
   "metadata": {
    "execution": {
     "iopub.execute_input": "2022-10-03T18:34:53.895360Z",
     "iopub.status.busy": "2022-10-03T18:34:53.894702Z",
     "iopub.status.idle": "2022-10-03T18:34:53.920975Z",
     "shell.execute_reply": "2022-10-03T18:34:53.918678Z"
    },
    "papermill": {
     "duration": 0.036537,
     "end_time": "2022-10-03T18:34:53.925492",
     "exception": false,
     "start_time": "2022-10-03T18:34:53.888955",
     "status": "completed"
    },
    "tags": []
   },
   "outputs": [
    {
     "name": "stdout",
     "output_type": "stream",
     "text": [
      "<class 'pandas.core.frame.DataFrame'>\n",
      "RangeIndex: 891 entries, 0 to 890\n",
      "Data columns (total 12 columns):\n",
      " #   Column       Non-Null Count  Dtype  \n",
      "---  ------       --------------  -----  \n",
      " 0   PassengerId  891 non-null    int64  \n",
      " 1   Survived     891 non-null    int64  \n",
      " 2   Pclass       891 non-null    int64  \n",
      " 3   Name         891 non-null    object \n",
      " 4   Sex          891 non-null    object \n",
      " 5   Age          714 non-null    float64\n",
      " 6   SibSp        891 non-null    int64  \n",
      " 7   Parch        891 non-null    int64  \n",
      " 8   Ticket       891 non-null    object \n",
      " 9   Fare         891 non-null    float64\n",
      " 10  Cabin        204 non-null    object \n",
      " 11  Embarked     889 non-null    object \n",
      "dtypes: float64(2), int64(5), object(5)\n",
      "memory usage: 83.7+ KB\n"
     ]
    }
   ],
   "source": [
    "df.info()"
   ]
  },
  {
   "cell_type": "code",
   "execution_count": 5,
   "id": "a42f2387",
   "metadata": {
    "execution": {
     "iopub.execute_input": "2022-10-03T18:34:53.939966Z",
     "iopub.status.busy": "2022-10-03T18:34:53.938494Z",
     "iopub.status.idle": "2022-10-03T18:34:53.948178Z",
     "shell.execute_reply": "2022-10-03T18:34:53.947124Z"
    },
    "papermill": {
     "duration": 0.0189,
     "end_time": "2022-10-03T18:34:53.950684",
     "exception": false,
     "start_time": "2022-10-03T18:34:53.931784",
     "status": "completed"
    },
    "tags": []
   },
   "outputs": [],
   "source": [
    "categorical_variables = ['Sex', 'Cabin', 'Embarked']\n",
    "\n",
    "for c in categorical_variables:\n",
    "                df[c] = LabelEncoder().fit_transform(df[c])"
   ]
  },
  {
   "cell_type": "code",
   "execution_count": 6,
   "id": "09fdbcae",
   "metadata": {
    "execution": {
     "iopub.execute_input": "2022-10-03T18:34:53.963392Z",
     "iopub.status.busy": "2022-10-03T18:34:53.963003Z",
     "iopub.status.idle": "2022-10-03T18:34:53.971105Z",
     "shell.execute_reply": "2022-10-03T18:34:53.969939Z"
    },
    "papermill": {
     "duration": 0.01805,
     "end_time": "2022-10-03T18:34:53.974020",
     "exception": false,
     "start_time": "2022-10-03T18:34:53.955970",
     "status": "completed"
    },
    "tags": []
   },
   "outputs": [],
   "source": [
    "df.drop(['Name', 'Ticket'], axis='columns', inplace=True)"
   ]
  },
  {
   "cell_type": "code",
   "execution_count": 7,
   "id": "f9cbf177",
   "metadata": {
    "execution": {
     "iopub.execute_input": "2022-10-03T18:34:53.985720Z",
     "iopub.status.busy": "2022-10-03T18:34:53.985319Z",
     "iopub.status.idle": "2022-10-03T18:34:53.992916Z",
     "shell.execute_reply": "2022-10-03T18:34:53.991931Z"
    },
    "papermill": {
     "duration": 0.016294,
     "end_time": "2022-10-03T18:34:53.995356",
     "exception": false,
     "start_time": "2022-10-03T18:34:53.979062",
     "status": "completed"
    },
    "tags": []
   },
   "outputs": [],
   "source": [
    "for c in df.select_dtypes(include=['object']):\n",
    "    c = LabelEncoder().fit_transform(c)"
   ]
  },
  {
   "cell_type": "code",
   "execution_count": 8,
   "id": "c8a89f89",
   "metadata": {
    "execution": {
     "iopub.execute_input": "2022-10-03T18:34:54.007627Z",
     "iopub.status.busy": "2022-10-03T18:34:54.006766Z",
     "iopub.status.idle": "2022-10-03T18:34:54.020027Z",
     "shell.execute_reply": "2022-10-03T18:34:54.018569Z"
    },
    "papermill": {
     "duration": 0.022661,
     "end_time": "2022-10-03T18:34:54.023330",
     "exception": false,
     "start_time": "2022-10-03T18:34:54.000669",
     "status": "completed"
    },
    "tags": []
   },
   "outputs": [
    {
     "name": "stdout",
     "output_type": "stream",
     "text": [
      "<class 'pandas.core.frame.DataFrame'>\n",
      "RangeIndex: 891 entries, 0 to 890\n",
      "Data columns (total 10 columns):\n",
      " #   Column       Non-Null Count  Dtype  \n",
      "---  ------       --------------  -----  \n",
      " 0   PassengerId  891 non-null    int64  \n",
      " 1   Survived     891 non-null    int64  \n",
      " 2   Pclass       891 non-null    int64  \n",
      " 3   Sex          891 non-null    int64  \n",
      " 4   Age          714 non-null    float64\n",
      " 5   SibSp        891 non-null    int64  \n",
      " 6   Parch        891 non-null    int64  \n",
      " 7   Fare         891 non-null    float64\n",
      " 8   Cabin        891 non-null    int64  \n",
      " 9   Embarked     891 non-null    int64  \n",
      "dtypes: float64(2), int64(8)\n",
      "memory usage: 69.7 KB\n"
     ]
    }
   ],
   "source": [
    "df.info()"
   ]
  },
  {
   "cell_type": "code",
   "execution_count": 9,
   "id": "c9c5642d",
   "metadata": {
    "execution": {
     "iopub.execute_input": "2022-10-03T18:34:54.037110Z",
     "iopub.status.busy": "2022-10-03T18:34:54.036556Z",
     "iopub.status.idle": "2022-10-03T18:34:54.047046Z",
     "shell.execute_reply": "2022-10-03T18:34:54.046093Z"
    },
    "papermill": {
     "duration": 0.02049,
     "end_time": "2022-10-03T18:34:54.049315",
     "exception": false,
     "start_time": "2022-10-03T18:34:54.028825",
     "status": "completed"
    },
    "tags": []
   },
   "outputs": [
    {
     "data": {
      "text/plain": [
       "PassengerId      0\n",
       "Survived         0\n",
       "Pclass           0\n",
       "Sex              0\n",
       "Age            177\n",
       "SibSp            0\n",
       "Parch            0\n",
       "Fare             0\n",
       "Cabin            0\n",
       "Embarked         0\n",
       "dtype: int64"
      ]
     },
     "execution_count": 9,
     "metadata": {},
     "output_type": "execute_result"
    }
   ],
   "source": [
    "df.isna().sum()"
   ]
  },
  {
   "cell_type": "code",
   "execution_count": 10,
   "id": "8e4e6dc3",
   "metadata": {
    "execution": {
     "iopub.execute_input": "2022-10-03T18:34:54.060803Z",
     "iopub.status.busy": "2022-10-03T18:34:54.060410Z",
     "iopub.status.idle": "2022-10-03T18:34:54.065328Z",
     "shell.execute_reply": "2022-10-03T18:34:54.064591Z"
    },
    "papermill": {
     "duration": 0.013263,
     "end_time": "2022-10-03T18:34:54.067514",
     "exception": false,
     "start_time": "2022-10-03T18:34:54.054251",
     "status": "completed"
    },
    "tags": []
   },
   "outputs": [],
   "source": [
    "df['Age'].fillna(df['Age'].mean(), inplace=True)"
   ]
  },
  {
   "cell_type": "code",
   "execution_count": 11,
   "id": "a571546a",
   "metadata": {
    "execution": {
     "iopub.execute_input": "2022-10-03T18:34:54.079396Z",
     "iopub.status.busy": "2022-10-03T18:34:54.078772Z",
     "iopub.status.idle": "2022-10-03T18:34:54.089816Z",
     "shell.execute_reply": "2022-10-03T18:34:54.088657Z"
    },
    "papermill": {
     "duration": 0.019931,
     "end_time": "2022-10-03T18:34:54.092362",
     "exception": false,
     "start_time": "2022-10-03T18:34:54.072431",
     "status": "completed"
    },
    "tags": []
   },
   "outputs": [],
   "source": [
    "X = df.drop(['Survived'], axis='columns')\n",
    "y = df['Survived']\n",
    "\n",
    "X_train, X_test, y_train, y_test = train_test_split(X, y, stratify=y, random_state=12, train_size=.8)"
   ]
  },
  {
   "cell_type": "markdown",
   "id": "d469ae29",
   "metadata": {
    "papermill": {
     "duration": 0.004476,
     "end_time": "2022-10-03T18:34:54.101793",
     "exception": false,
     "start_time": "2022-10-03T18:34:54.097317",
     "status": "completed"
    },
    "tags": []
   },
   "source": [
    "# Random forest classifier\n",
    "\n",
    "This is implemented in order to provide a baseline for comparison."
   ]
  },
  {
   "cell_type": "code",
   "execution_count": 12,
   "id": "bd3aeccc",
   "metadata": {
    "execution": {
     "iopub.execute_input": "2022-10-03T18:34:54.113373Z",
     "iopub.status.busy": "2022-10-03T18:34:54.112683Z",
     "iopub.status.idle": "2022-10-03T18:34:54.834470Z",
     "shell.execute_reply": "2022-10-03T18:34:54.833521Z"
    },
    "papermill": {
     "duration": 0.730282,
     "end_time": "2022-10-03T18:34:54.836768",
     "exception": false,
     "start_time": "2022-10-03T18:34:54.106486",
     "status": "completed"
    },
    "tags": []
   },
   "outputs": [
    {
     "name": "stdout",
     "output_type": "stream",
     "text": [
      "              precision    recall  f1-score   support\n",
      "\n",
      "           0       0.85      0.91      0.88       110\n",
      "           1       0.84      0.74      0.78        69\n",
      "\n",
      "    accuracy                           0.84       179\n",
      "   macro avg       0.84      0.82      0.83       179\n",
      "weighted avg       0.84      0.84      0.84       179\n",
      "\n"
     ]
    },
    {
     "data": {
      "image/png": "[encoded data removed]",
      "text/plain": [
       "<Figure size 432x288 with 2 Axes>"
      ]
     },
     "metadata": {
      "needs_background": "light"
     },
     "output_type": "display_data"
    }
   ],
   "source": [
    "from sklearn.ensemble import RandomForestClassifier\n",
    "\n",
    "rf_model = RandomForestClassifier(bootstrap = True,\n",
    "                                  criterion='entropy',\n",
    "                                  max_features = 'sqrt',\n",
    "                                  random_state=12)\n",
    "rf_model.fit(X_train, y_train)\n",
    "pred = rf_model.predict(X_test)\n",
    "\n",
    "print(metrics.classification_report(y_test, pred))\n",
    "\n",
    "metrics.ConfusionMatrixDisplay.from_predictions(y_test, pred)\n",
    "plt.show()"
   ]
  },
  {
   "cell_type": "markdown",
   "id": "2fe36dd5",
   "metadata": {
    "papermill": {
     "duration": 0.004793,
     "end_time": "2022-10-03T18:34:54.847846",
     "exception": false,
     "start_time": "2022-10-03T18:34:54.843053",
     "status": "completed"
    },
    "tags": []
   },
   "source": [
    "# Multilayer perceptron"
   ]
  },
  {
   "cell_type": "code",
   "execution_count": 13,
   "id": "7af6819e",
   "metadata": {
    "execution": {
     "iopub.execute_input": "2022-10-03T18:34:54.860355Z",
     "iopub.status.busy": "2022-10-03T18:34:54.859760Z",
     "iopub.status.idle": "2022-10-03T18:34:56.934614Z",
     "shell.execute_reply": "2022-10-03T18:34:56.933405Z"
    },
    "papermill": {
     "duration": 2.084055,
     "end_time": "2022-10-03T18:34:56.937049",
     "exception": false,
     "start_time": "2022-10-03T18:34:54.852994",
     "status": "completed"
    },
    "tags": []
   },
   "outputs": [
    {
     "name": "stderr",
     "output_type": "stream",
     "text": [
      "/opt/conda/lib/python3.7/site-packages/sklearn/neural_network/_multilayer_perceptron.py:696: ConvergenceWarning: Stochastic Optimizer: Maximum iterations (200) reached and the optimization hasn't converged yet.\n",
      "  ConvergenceWarning,\n"
     ]
    },
    {
     "name": "stdout",
     "output_type": "stream",
     "text": [
      "              precision    recall  f1-score   support\n",
      "\n",
      "           0       0.88      0.77      0.82       110\n",
      "           1       0.70      0.83      0.75        69\n",
      "\n",
      "    accuracy                           0.79       179\n",
      "   macro avg       0.79      0.80      0.79       179\n",
      "weighted avg       0.81      0.79      0.80       179\n",
      "\n"
     ]
    },
    {
     "data": {
      "image/png": "[encoded data removed]",
      "text/plain": [
       "<Figure size 432x288 with 2 Axes>"
      ]
     },
     "metadata": {
      "needs_background": "light"
     },
     "output_type": "display_data"
    }
   ],
   "source": [
    "from sklearn.neural_network import MLPClassifier\n",
    "\n",
    "mlp_model = MLPClassifier(hidden_layer_sizes=(100,), activation='logistic', solver='adam', random_state=12)\n",
    "mlp_model.fit(X_train, y_train)\n",
    "\n",
    "pred = mlp_model.predict(X_test)\n",
    "\n",
    "print(metrics.classification_report(y_test, pred))\n",
    "\n",
    "metrics.ConfusionMatrixDisplay.from_predictions(y_test, pred)\n",
    "plt.show()"
   ]
  }
 ],
 "metadata": {
  "kernelspec": {
   "display_name": "Python 3",
   "language": "python",
   "name": "python3"
  },
  "language_info": {
   "codemirror_mode": {
    "name": "ipython",
    "version": 3
   },
   "file_extension": ".py",
   "mimetype": "text/x-python",
   "name": "python",
   "nbconvert_exporter": "python",
   "pygments_lexer": "ipython3",
   "version": "3.7.12"
  },
  "papermill": {
   "default_parameters": {},
   "duration": 14.176131,
   "end_time": "2022-10-03T18:34:57.765617",
   "environment_variables": {},
   "exception": null,
   "input_path": "__notebook__.ipynb",
   "output_path": "__notebook__.ipynb",
   "parameters": {},
   "start_time": "2022-10-03T18:34:43.589486",
   "version": "2.3.4"
  }
 },
 "nbformat": 4,
 "nbformat_minor": 5
}
