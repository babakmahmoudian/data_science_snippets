{
 "cells": [
  {
   "cell_type": "markdown",
   "id": "0a40be98",
   "metadata": {
    "papermill": {
     "duration": 0.012471,
     "end_time": "2022-10-03T18:28:57.486651",
     "exception": false,
     "start_time": "2022-10-03T18:28:57.474180",
     "status": "completed"
    },
    "tags": []
   },
   "source": [
    "# Reading the dataset"
   ]
  },
  {
   "cell_type": "code",
   "execution_count": 132,
   "id": "224701fe",
   "metadata": {
    "papermill": {
     "duration": 1.137537,
     "end_time": "2022-10-03T18:28:58.634864",
     "exception": false,
     "start_time": "2022-10-03T18:28:57.497327",
     "status": "completed"
    },
    "tags": []
   },
   "outputs": [],
   "source": [
    "import numpy as np\n",
    "import pandas as pd\n",
    "import matplotlib.pyplot as plt\n",
    "%matplotlib inline\n",
    "import seaborn as sns"
   ]
  },
  {
   "cell_type": "code",
   "execution_count": 133,
   "id": "8ca24fc0",
   "metadata": {
    "papermill": {
     "duration": 5.181576,
     "end_time": "2022-10-03T18:29:03.826928",
     "exception": false,
     "start_time": "2022-10-03T18:28:58.645352",
     "status": "completed"
    },
    "tags": []
   },
   "outputs": [
    {
     "data": {
      "text/html": [
       "<div>\n",
       "<style scoped>\n",
       "    .dataframe tbody tr th:only-of-type {\n",
       "        vertical-align: middle;\n",
       "    }\n",
       "\n",
       "    .dataframe tbody tr th {\n",
       "        vertical-align: top;\n",
       "    }\n",
       "\n",
       "    .dataframe thead th {\n",
       "        text-align: right;\n",
       "    }\n",
       "</style>\n",
       "<table border=\"1\" class=\"dataframe\">\n",
       "  <thead>\n",
       "    <tr style=\"text-align: right;\">\n",
       "      <th></th>\n",
       "      <th>PassengerId</th>\n",
       "      <th>Survived</th>\n",
       "      <th>Pclass</th>\n",
       "      <th>Name</th>\n",
       "      <th>Sex</th>\n",
       "      <th>Age</th>\n",
       "      <th>SibSp</th>\n",
       "      <th>Parch</th>\n",
       "      <th>Ticket</th>\n",
       "      <th>Fare</th>\n",
       "      <th>Cabin</th>\n",
       "      <th>Embarked</th>\n",
       "    </tr>\n",
       "  </thead>\n",
       "  <tbody>\n",
       "    <tr>\n",
       "      <th>0</th>\n",
       "      <td>1</td>\n",
       "      <td>0</td>\n",
       "      <td>3</td>\n",
       "      <td>Braund, Mr. Owen Harris</td>\n",
       "      <td>male</td>\n",
       "      <td>22.0</td>\n",
       "      <td>1</td>\n",
       "      <td>0</td>\n",
       "      <td>A/5 21171</td>\n",
       "      <td>7.2500</td>\n",
       "      <td>NaN</td>\n",
       "      <td>S</td>\n",
       "    </tr>\n",
       "    <tr>\n",
       "      <th>1</th>\n",
       "      <td>2</td>\n",
       "      <td>1</td>\n",
       "      <td>1</td>\n",
       "      <td>Cumings, Mrs. John Bradley (Florence Briggs Th...</td>\n",
       "      <td>female</td>\n",
       "      <td>38.0</td>\n",
       "      <td>1</td>\n",
       "      <td>0</td>\n",
       "      <td>PC 17599</td>\n",
       "      <td>71.2833</td>\n",
       "      <td>C85</td>\n",
       "      <td>C</td>\n",
       "    </tr>\n",
       "    <tr>\n",
       "      <th>2</th>\n",
       "      <td>3</td>\n",
       "      <td>1</td>\n",
       "      <td>3</td>\n",
       "      <td>Heikkinen, Miss. Laina</td>\n",
       "      <td>female</td>\n",
       "      <td>26.0</td>\n",
       "      <td>0</td>\n",
       "      <td>0</td>\n",
       "      <td>STON/O2. 3101282</td>\n",
       "      <td>7.9250</td>\n",
       "      <td>NaN</td>\n",
       "      <td>S</td>\n",
       "    </tr>\n",
       "    <tr>\n",
       "      <th>3</th>\n",
       "      <td>4</td>\n",
       "      <td>1</td>\n",
       "      <td>1</td>\n",
       "      <td>Futrelle, Mrs. Jacques Heath (Lily May Peel)</td>\n",
       "      <td>female</td>\n",
       "      <td>35.0</td>\n",
       "      <td>1</td>\n",
       "      <td>0</td>\n",
       "      <td>113803</td>\n",
       "      <td>53.1000</td>\n",
       "      <td>C123</td>\n",
       "      <td>S</td>\n",
       "    </tr>\n",
       "    <tr>\n",
       "      <th>4</th>\n",
       "      <td>5</td>\n",
       "      <td>0</td>\n",
       "      <td>3</td>\n",
       "      <td>Allen, Mr. William Henry</td>\n",
       "      <td>male</td>\n",
       "      <td>35.0</td>\n",
       "      <td>0</td>\n",
       "      <td>0</td>\n",
       "      <td>373450</td>\n",
       "      <td>8.0500</td>\n",
       "      <td>NaN</td>\n",
       "      <td>S</td>\n",
       "    </tr>\n",
       "  </tbody>\n",
       "</table>\n",
       "</div>"
      ],
      "text/plain": [
       "   PassengerId  Survived  Pclass  \\\n",
       "0            1         0       3   \n",
       "1            2         1       1   \n",
       "2            3         1       3   \n",
       "3            4         1       1   \n",
       "4            5         0       3   \n",
       "\n",
       "                                                Name     Sex   Age  SibSp  \\\n",
       "0                            Braund, Mr. Owen Harris    male  22.0      1   \n",
       "1  Cumings, Mrs. John Bradley (Florence Briggs Th...  female  38.0      1   \n",
       "2                             Heikkinen, Miss. Laina  female  26.0      0   \n",
       "3       Futrelle, Mrs. Jacques Heath (Lily May Peel)  female  35.0      1   \n",
       "4                           Allen, Mr. William Henry    male  35.0      0   \n",
       "\n",
       "   Parch            Ticket     Fare Cabin Embarked  \n",
       "0      0         A/5 21171   7.2500   NaN        S  \n",
       "1      0          PC 17599  71.2833   C85        C  \n",
       "2      0  STON/O2. 3101282   7.9250   NaN        S  \n",
       "3      0            113803  53.1000  C123        S  \n",
       "4      0            373450   8.0500   NaN        S  "
      ]
     },
     "execution_count": 133,
     "metadata": {},
     "output_type": "execute_result"
    }
   ],
   "source": [
    "df = pd.read_csv('../datasets/titanic/train.csv')\n",
    "\n",
    "df.head()"
   ]
  },
  {
   "cell_type": "code",
   "execution_count": 134,
   "id": "cad45e82-8fa0-4d0c-8765-6cbc3e8461bd",
   "metadata": {},
   "outputs": [
    {
     "name": "stdout",
     "output_type": "stream",
     "text": [
      "<class 'pandas.core.frame.DataFrame'>\n",
      "RangeIndex: 891 entries, 0 to 890\n",
      "Data columns (total 12 columns):\n",
      " #   Column       Non-Null Count  Dtype  \n",
      "---  ------       --------------  -----  \n",
      " 0   PassengerId  891 non-null    int64  \n",
      " 1   Survived     891 non-null    int64  \n",
      " 2   Pclass       891 non-null    int64  \n",
      " 3   Name         891 non-null    object \n",
      " 4   Sex          891 non-null    object \n",
      " 5   Age          714 non-null    float64\n",
      " 6   SibSp        891 non-null    int64  \n",
      " 7   Parch        891 non-null    int64  \n",
      " 8   Ticket       891 non-null    object \n",
      " 9   Fare         891 non-null    float64\n",
      " 10  Cabin        204 non-null    object \n",
      " 11  Embarked     889 non-null    object \n",
      "dtypes: float64(2), int64(5), object(5)\n",
      "memory usage: 83.7+ KB\n"
     ]
    }
   ],
   "source": [
    "df.info()"
   ]
  },
  {
   "cell_type": "code",
   "execution_count": 135,
   "id": "61703a60-ccc6-4cc0-a156-b7aee4af33ee",
   "metadata": {},
   "outputs": [],
   "source": [
    "df.drop(['Name', 'Ticket'], axis='columns', inplace=True)"
   ]
  },
  {
   "cell_type": "code",
   "execution_count": 136,
   "id": "c76f0d58-9ecc-4371-87f3-5d665bfa375e",
   "metadata": {},
   "outputs": [],
   "source": [
    "from sklearn.preprocessing import LabelEncoder\n",
    "\n",
    "for c in df.select_dtypes(include=['object']):\n",
    "    df[c] = LabelEncoder().fit_transform(df[c])"
   ]
  },
  {
   "cell_type": "code",
   "execution_count": 137,
   "id": "8666df80-afad-4207-89e3-598f959943d4",
   "metadata": {},
   "outputs": [],
   "source": [
    "df['Age'].fillna(df['Age'].mean(), inplace=True)"
   ]
  },
  {
   "cell_type": "markdown",
   "id": "ddf18203",
   "metadata": {
    "papermill": {
     "duration": 0.00984,
     "end_time": "2022-10-03T18:29:03.847121",
     "exception": false,
     "start_time": "2022-10-03T18:29:03.837281",
     "status": "completed"
    },
    "tags": []
   },
   "source": [
    "# Correlation matrix"
   ]
  },
  {
   "cell_type": "code",
   "execution_count": 138,
   "id": "3df0b4b9",
   "metadata": {
    "papermill": {
     "duration": 0.993542,
     "end_time": "2022-10-03T18:29:04.850753",
     "exception": false,
     "start_time": "2022-10-03T18:29:03.857211",
     "status": "completed"
    },
    "tags": []
   },
   "outputs": [
    {
     "data": {
      "text/html": [
       "<style type=\"text/css\">\n",
       "#T_1d424_row0_col0, #T_1d424_row1_col1, #T_1d424_row2_col2, #T_1d424_row3_col3, #T_1d424_row4_col4, #T_1d424_row5_col5, #T_1d424_row6_col6, #T_1d424_row7_col7, #T_1d424_row8_col8, #T_1d424_row9_col9 {\n",
       "  background-color: #b40426;\n",
       "  color: #f1f1f1;\n",
       "}\n",
       "#T_1d424_row0_col1 {\n",
       "  background-color: #afcafc;\n",
       "  color: #000000;\n",
       "}\n",
       "#T_1d424_row0_col2, #T_1d424_row5_col1 {\n",
       "  background-color: #a9c6fd;\n",
       "  color: #000000;\n",
       "}\n",
       "#T_1d424_row0_col3 {\n",
       "  background-color: #bad0f8;\n",
       "  color: #000000;\n",
       "}\n",
       "#T_1d424_row0_col4 {\n",
       "  background-color: #96b7ff;\n",
       "  color: #000000;\n",
       "}\n",
       "#T_1d424_row0_col5, #T_1d424_row4_col2 {\n",
       "  background-color: #6788ee;\n",
       "  color: #f1f1f1;\n",
       "}\n",
       "#T_1d424_row0_col6, #T_1d424_row1_col4 {\n",
       "  background-color: #7a9df8;\n",
       "  color: #f1f1f1;\n",
       "}\n",
       "#T_1d424_row0_col7 {\n",
       "  background-color: #b3cdfb;\n",
       "  color: #000000;\n",
       "}\n",
       "#T_1d424_row0_col8, #T_1d424_row2_col9, #T_1d424_row3_col4 {\n",
       "  background-color: #a2c1ff;\n",
       "  color: #000000;\n",
       "}\n",
       "#T_1d424_row0_col9, #T_1d424_row6_col3 {\n",
       "  background-color: #799cf8;\n",
       "  color: #f1f1f1;\n",
       "}\n",
       "#T_1d424_row1_col0, #T_1d424_row1_col9 {\n",
       "  background-color: #4961d2;\n",
       "  color: #f1f1f1;\n",
       "}\n",
       "#T_1d424_row1_col2 {\n",
       "  background-color: #6485ec;\n",
       "  color: #f1f1f1;\n",
       "}\n",
       "#T_1d424_row1_col3, #T_1d424_row2_col4, #T_1d424_row2_col7, #T_1d424_row3_col1, #T_1d424_row3_col6, #T_1d424_row4_col5, #T_1d424_row5_col0, #T_1d424_row7_col2, #T_1d424_row7_col8, #T_1d424_row7_col9 {\n",
       "  background-color: #3b4cc0;\n",
       "  color: #f1f1f1;\n",
       "}\n",
       "#T_1d424_row1_col5 {\n",
       "  background-color: #6c8ff1;\n",
       "  color: #f1f1f1;\n",
       "}\n",
       "#T_1d424_row1_col6 {\n",
       "  background-color: #92b4fe;\n",
       "  color: #000000;\n",
       "}\n",
       "#T_1d424_row1_col7 {\n",
       "  background-color: #e2dad5;\n",
       "  color: #000000;\n",
       "}\n",
       "#T_1d424_row1_col8 {\n",
       "  background-color: #6f92f3;\n",
       "  color: #f1f1f1;\n",
       "}\n",
       "#T_1d424_row2_col0, #T_1d424_row8_col0 {\n",
       "  background-color: #4055c8;\n",
       "  color: #f1f1f1;\n",
       "}\n",
       "#T_1d424_row2_col1 {\n",
       "  background-color: #6384eb;\n",
       "  color: #f1f1f1;\n",
       "}\n",
       "#T_1d424_row2_col3, #T_1d424_row3_col2 {\n",
       "  background-color: #ccd9ed;\n",
       "  color: #000000;\n",
       "}\n",
       "#T_1d424_row2_col5 {\n",
       "  background-color: #8fb1fe;\n",
       "  color: #000000;\n",
       "}\n",
       "#T_1d424_row2_col6, #T_1d424_row6_col9, #T_1d424_row9_col7 {\n",
       "  background-color: #80a3fa;\n",
       "  color: #f1f1f1;\n",
       "}\n",
       "#T_1d424_row2_col8 {\n",
       "  background-color: #ef886b;\n",
       "  color: #f1f1f1;\n",
       "}\n",
       "#T_1d424_row3_col0, #T_1d424_row3_col5 {\n",
       "  background-color: #5875e1;\n",
       "  color: #f1f1f1;\n",
       "}\n",
       "#T_1d424_row3_col7, #T_1d424_row5_col9 {\n",
       "  background-color: #88abfd;\n",
       "  color: #000000;\n",
       "}\n",
       "#T_1d424_row3_col8 {\n",
       "  background-color: #c0d4f5;\n",
       "  color: #000000;\n",
       "}\n",
       "#T_1d424_row3_col9 {\n",
       "  background-color: #93b5fe;\n",
       "  color: #000000;\n",
       "}\n",
       "#T_1d424_row4_col0 {\n",
       "  background-color: #5470de;\n",
       "  color: #f1f1f1;\n",
       "}\n",
       "#T_1d424_row4_col1 {\n",
       "  background-color: #a1c0ff;\n",
       "  color: #000000;\n",
       "}\n",
       "#T_1d424_row4_col3, #T_1d424_row5_col2 {\n",
       "  background-color: #c3d5f4;\n",
       "  color: #000000;\n",
       "}\n",
       "#T_1d424_row4_col6, #T_1d424_row6_col0 {\n",
       "  background-color: #4a63d3;\n",
       "  color: #f1f1f1;\n",
       "}\n",
       "#T_1d424_row4_col7 {\n",
       "  background-color: #c4d5f3;\n",
       "  color: #000000;\n",
       "}\n",
       "#T_1d424_row4_col8 {\n",
       "  background-color: #7396f5;\n",
       "  color: #f1f1f1;\n",
       "}\n",
       "#T_1d424_row4_col9 {\n",
       "  background-color: #6e90f2;\n",
       "  color: #f1f1f1;\n",
       "}\n",
       "#T_1d424_row5_col3 {\n",
       "  background-color: #97b8ff;\n",
       "  color: #000000;\n",
       "}\n",
       "#T_1d424_row5_col4, #T_1d424_row8_col4 {\n",
       "  background-color: #506bda;\n",
       "  color: #f1f1f1;\n",
       "}\n",
       "#T_1d424_row5_col6 {\n",
       "  background-color: #e4d9d2;\n",
       "  color: #000000;\n",
       "}\n",
       "#T_1d424_row5_col7 {\n",
       "  background-color: #d2dbe8;\n",
       "  color: #000000;\n",
       "}\n",
       "#T_1d424_row5_col8, #T_1d424_row6_col2 {\n",
       "  background-color: #b5cdfa;\n",
       "  color: #000000;\n",
       "}\n",
       "#T_1d424_row6_col1 {\n",
       "  background-color: #c1d4f4;\n",
       "  color: #000000;\n",
       "}\n",
       "#T_1d424_row6_col4 {\n",
       "  background-color: #5e7de7;\n",
       "  color: #f1f1f1;\n",
       "}\n",
       "#T_1d424_row6_col5 {\n",
       "  background-color: #e3d9d3;\n",
       "  color: #000000;\n",
       "}\n",
       "#T_1d424_row6_col7 {\n",
       "  background-color: #dbdcde;\n",
       "  color: #000000;\n",
       "}\n",
       "#T_1d424_row6_col8 {\n",
       "  background-color: #a3c2fe;\n",
       "  color: #000000;\n",
       "}\n",
       "#T_1d424_row7_col0 {\n",
       "  background-color: #4e68d8;\n",
       "  color: #f1f1f1;\n",
       "}\n",
       "#T_1d424_row7_col1 {\n",
       "  background-color: #e1dad6;\n",
       "  color: #000000;\n",
       "}\n",
       "#T_1d424_row7_col3, #T_1d424_row9_col4 {\n",
       "  background-color: #86a9fc;\n",
       "  color: #f1f1f1;\n",
       "}\n",
       "#T_1d424_row7_col4, #T_1d424_row7_col5 {\n",
       "  background-color: #a5c3fe;\n",
       "  color: #000000;\n",
       "}\n",
       "#T_1d424_row7_col6 {\n",
       "  background-color: #b6cefa;\n",
       "  color: #000000;\n",
       "}\n",
       "#T_1d424_row8_col1 {\n",
       "  background-color: #7699f6;\n",
       "  color: #f1f1f1;\n",
       "}\n",
       "#T_1d424_row8_col2 {\n",
       "  background-color: #ee8669;\n",
       "  color: #f1f1f1;\n",
       "}\n",
       "#T_1d424_row8_col3 {\n",
       "  background-color: #c5d6f2;\n",
       "  color: #000000;\n",
       "}\n",
       "#T_1d424_row8_col5 {\n",
       "  background-color: #84a7fc;\n",
       "  color: #f1f1f1;\n",
       "}\n",
       "#T_1d424_row8_col6 {\n",
       "  background-color: #7295f4;\n",
       "  color: #f1f1f1;\n",
       "}\n",
       "#T_1d424_row8_col7 {\n",
       "  background-color: #4358cb;\n",
       "  color: #f1f1f1;\n",
       "}\n",
       "#T_1d424_row8_col9 {\n",
       "  background-color: #abc8fd;\n",
       "  color: #000000;\n",
       "}\n",
       "#T_1d424_row9_col0 {\n",
       "  background-color: #4f69d9;\n",
       "  color: #f1f1f1;\n",
       "}\n",
       "#T_1d424_row9_col1 {\n",
       "  background-color: #8caffe;\n",
       "  color: #000000;\n",
       "}\n",
       "#T_1d424_row9_col2 {\n",
       "  background-color: #d1dae9;\n",
       "  color: #000000;\n",
       "}\n",
       "#T_1d424_row9_col3 {\n",
       "  background-color: #c6d6f1;\n",
       "  color: #000000;\n",
       "}\n",
       "#T_1d424_row9_col5 {\n",
       "  background-color: #8badfd;\n",
       "  color: #000000;\n",
       "}\n",
       "#T_1d424_row9_col6 {\n",
       "  background-color: #85a8fc;\n",
       "  color: #f1f1f1;\n",
       "}\n",
       "#T_1d424_row9_col8 {\n",
       "  background-color: #d3dbe7;\n",
       "  color: #000000;\n",
       "}\n",
       "</style>\n",
       "<table id=\"T_1d424\">\n",
       "  <thead>\n",
       "    <tr>\n",
       "      <th class=\"blank level0\" >&nbsp;</th>\n",
       "      <th id=\"T_1d424_level0_col0\" class=\"col_heading level0 col0\" >PassengerId</th>\n",
       "      <th id=\"T_1d424_level0_col1\" class=\"col_heading level0 col1\" >Survived</th>\n",
       "      <th id=\"T_1d424_level0_col2\" class=\"col_heading level0 col2\" >Pclass</th>\n",
       "      <th id=\"T_1d424_level0_col3\" class=\"col_heading level0 col3\" >Sex</th>\n",
       "      <th id=\"T_1d424_level0_col4\" class=\"col_heading level0 col4\" >Age</th>\n",
       "      <th id=\"T_1d424_level0_col5\" class=\"col_heading level0 col5\" >SibSp</th>\n",
       "      <th id=\"T_1d424_level0_col6\" class=\"col_heading level0 col6\" >Parch</th>\n",
       "      <th id=\"T_1d424_level0_col7\" class=\"col_heading level0 col7\" >Fare</th>\n",
       "      <th id=\"T_1d424_level0_col8\" class=\"col_heading level0 col8\" >Cabin</th>\n",
       "      <th id=\"T_1d424_level0_col9\" class=\"col_heading level0 col9\" >Embarked</th>\n",
       "    </tr>\n",
       "  </thead>\n",
       "  <tbody>\n",
       "    <tr>\n",
       "      <th id=\"T_1d424_level0_row0\" class=\"row_heading level0 row0\" >PassengerId</th>\n",
       "      <td id=\"T_1d424_row0_col0\" class=\"data row0 col0\" >1.00</td>\n",
       "      <td id=\"T_1d424_row0_col1\" class=\"data row0 col1\" >-0.01</td>\n",
       "      <td id=\"T_1d424_row0_col2\" class=\"data row0 col2\" >-0.04</td>\n",
       "      <td id=\"T_1d424_row0_col3\" class=\"data row0 col3\" >0.04</td>\n",
       "      <td id=\"T_1d424_row0_col4\" class=\"data row0 col4\" >0.03</td>\n",
       "      <td id=\"T_1d424_row0_col5\" class=\"data row0 col5\" >-0.06</td>\n",
       "      <td id=\"T_1d424_row0_col6\" class=\"data row0 col6\" >-0.00</td>\n",
       "      <td id=\"T_1d424_row0_col7\" class=\"data row0 col7\" >0.01</td>\n",
       "      <td id=\"T_1d424_row0_col8\" class=\"data row0 col8\" >-0.04</td>\n",
       "      <td id=\"T_1d424_row0_col9\" class=\"data row0 col9\" >0.01</td>\n",
       "    </tr>\n",
       "    <tr>\n",
       "      <th id=\"T_1d424_level0_row1\" class=\"row_heading level0 row1\" >Survived</th>\n",
       "      <td id=\"T_1d424_row1_col0\" class=\"data row1 col0\" >-0.01</td>\n",
       "      <td id=\"T_1d424_row1_col1\" class=\"data row1 col1\" >1.00</td>\n",
       "      <td id=\"T_1d424_row1_col2\" class=\"data row1 col2\" >-0.34</td>\n",
       "      <td id=\"T_1d424_row1_col3\" class=\"data row1 col3\" >-0.54</td>\n",
       "      <td id=\"T_1d424_row1_col4\" class=\"data row1 col4\" >-0.07</td>\n",
       "      <td id=\"T_1d424_row1_col5\" class=\"data row1 col5\" >-0.04</td>\n",
       "      <td id=\"T_1d424_row1_col6\" class=\"data row1 col6\" >0.08</td>\n",
       "      <td id=\"T_1d424_row1_col7\" class=\"data row1 col7\" >0.26</td>\n",
       "      <td id=\"T_1d424_row1_col8\" class=\"data row1 col8\" >-0.25</td>\n",
       "      <td id=\"T_1d424_row1_col9\" class=\"data row1 col9\" >-0.16</td>\n",
       "    </tr>\n",
       "    <tr>\n",
       "      <th id=\"T_1d424_level0_row2\" class=\"row_heading level0 row2\" >Pclass</th>\n",
       "      <td id=\"T_1d424_row2_col0\" class=\"data row2 col0\" >-0.04</td>\n",
       "      <td id=\"T_1d424_row2_col1\" class=\"data row2 col1\" >-0.34</td>\n",
       "      <td id=\"T_1d424_row2_col2\" class=\"data row2 col2\" >1.00</td>\n",
       "      <td id=\"T_1d424_row2_col3\" class=\"data row2 col3\" >0.13</td>\n",
       "      <td id=\"T_1d424_row2_col4\" class=\"data row2 col4\" >-0.33</td>\n",
       "      <td id=\"T_1d424_row2_col5\" class=\"data row2 col5\" >0.08</td>\n",
       "      <td id=\"T_1d424_row2_col6\" class=\"data row2 col6\" >0.02</td>\n",
       "      <td id=\"T_1d424_row2_col7\" class=\"data row2 col7\" >-0.55</td>\n",
       "      <td id=\"T_1d424_row2_col8\" class=\"data row2 col8\" >0.68</td>\n",
       "      <td id=\"T_1d424_row2_col9\" class=\"data row2 col9\" >0.16</td>\n",
       "    </tr>\n",
       "    <tr>\n",
       "      <th id=\"T_1d424_level0_row3\" class=\"row_heading level0 row3\" >Sex</th>\n",
       "      <td id=\"T_1d424_row3_col0\" class=\"data row3 col0\" >0.04</td>\n",
       "      <td id=\"T_1d424_row3_col1\" class=\"data row3 col1\" >-0.54</td>\n",
       "      <td id=\"T_1d424_row3_col2\" class=\"data row3 col2\" >0.13</td>\n",
       "      <td id=\"T_1d424_row3_col3\" class=\"data row3 col3\" >1.00</td>\n",
       "      <td id=\"T_1d424_row3_col4\" class=\"data row3 col4\" >0.08</td>\n",
       "      <td id=\"T_1d424_row3_col5\" class=\"data row3 col5\" >-0.11</td>\n",
       "      <td id=\"T_1d424_row3_col6\" class=\"data row3 col6\" >-0.25</td>\n",
       "      <td id=\"T_1d424_row3_col7\" class=\"data row3 col7\" >-0.18</td>\n",
       "      <td id=\"T_1d424_row3_col8\" class=\"data row3 col8\" >0.10</td>\n",
       "      <td id=\"T_1d424_row3_col9\" class=\"data row3 col9\" >0.10</td>\n",
       "    </tr>\n",
       "    <tr>\n",
       "      <th id=\"T_1d424_level0_row4\" class=\"row_heading level0 row4\" >Age</th>\n",
       "      <td id=\"T_1d424_row4_col0\" class=\"data row4 col0\" >0.03</td>\n",
       "      <td id=\"T_1d424_row4_col1\" class=\"data row4 col1\" >-0.07</td>\n",
       "      <td id=\"T_1d424_row4_col2\" class=\"data row4 col2\" >-0.33</td>\n",
       "      <td id=\"T_1d424_row4_col3\" class=\"data row4 col3\" >0.08</td>\n",
       "      <td id=\"T_1d424_row4_col4\" class=\"data row4 col4\" >1.00</td>\n",
       "      <td id=\"T_1d424_row4_col5\" class=\"data row4 col5\" >-0.23</td>\n",
       "      <td id=\"T_1d424_row4_col6\" class=\"data row4 col6\" >-0.18</td>\n",
       "      <td id=\"T_1d424_row4_col7\" class=\"data row4 col7\" >0.09</td>\n",
       "      <td id=\"T_1d424_row4_col8\" class=\"data row4 col8\" >-0.24</td>\n",
       "      <td id=\"T_1d424_row4_col9\" class=\"data row4 col9\" >-0.02</td>\n",
       "    </tr>\n",
       "    <tr>\n",
       "      <th id=\"T_1d424_level0_row5\" class=\"row_heading level0 row5\" >SibSp</th>\n",
       "      <td id=\"T_1d424_row5_col0\" class=\"data row5 col0\" >-0.06</td>\n",
       "      <td id=\"T_1d424_row5_col1\" class=\"data row5 col1\" >-0.04</td>\n",
       "      <td id=\"T_1d424_row5_col2\" class=\"data row5 col2\" >0.08</td>\n",
       "      <td id=\"T_1d424_row5_col3\" class=\"data row5 col3\" >-0.11</td>\n",
       "      <td id=\"T_1d424_row5_col4\" class=\"data row5 col4\" >-0.23</td>\n",
       "      <td id=\"T_1d424_row5_col5\" class=\"data row5 col5\" >1.00</td>\n",
       "      <td id=\"T_1d424_row5_col6\" class=\"data row5 col6\" >0.41</td>\n",
       "      <td id=\"T_1d424_row5_col7\" class=\"data row5 col7\" >0.16</td>\n",
       "      <td id=\"T_1d424_row5_col8\" class=\"data row5 col8\" >0.04</td>\n",
       "      <td id=\"T_1d424_row5_col9\" class=\"data row5 col9\" >0.07</td>\n",
       "    </tr>\n",
       "    <tr>\n",
       "      <th id=\"T_1d424_level0_row6\" class=\"row_heading level0 row6\" >Parch</th>\n",
       "      <td id=\"T_1d424_row6_col0\" class=\"data row6 col0\" >-0.00</td>\n",
       "      <td id=\"T_1d424_row6_col1\" class=\"data row6 col1\" >0.08</td>\n",
       "      <td id=\"T_1d424_row6_col2\" class=\"data row6 col2\" >0.02</td>\n",
       "      <td id=\"T_1d424_row6_col3\" class=\"data row6 col3\" >-0.25</td>\n",
       "      <td id=\"T_1d424_row6_col4\" class=\"data row6 col4\" >-0.18</td>\n",
       "      <td id=\"T_1d424_row6_col5\" class=\"data row6 col5\" >0.41</td>\n",
       "      <td id=\"T_1d424_row6_col6\" class=\"data row6 col6\" >1.00</td>\n",
       "      <td id=\"T_1d424_row6_col7\" class=\"data row6 col7\" >0.22</td>\n",
       "      <td id=\"T_1d424_row6_col8\" class=\"data row6 col8\" >-0.03</td>\n",
       "      <td id=\"T_1d424_row6_col9\" class=\"data row6 col9\" >0.04</td>\n",
       "    </tr>\n",
       "    <tr>\n",
       "      <th id=\"T_1d424_level0_row7\" class=\"row_heading level0 row7\" >Fare</th>\n",
       "      <td id=\"T_1d424_row7_col0\" class=\"data row7 col0\" >0.01</td>\n",
       "      <td id=\"T_1d424_row7_col1\" class=\"data row7 col1\" >0.26</td>\n",
       "      <td id=\"T_1d424_row7_col2\" class=\"data row7 col2\" >-0.55</td>\n",
       "      <td id=\"T_1d424_row7_col3\" class=\"data row7 col3\" >-0.18</td>\n",
       "      <td id=\"T_1d424_row7_col4\" class=\"data row7 col4\" >0.09</td>\n",
       "      <td id=\"T_1d424_row7_col5\" class=\"data row7 col5\" >0.16</td>\n",
       "      <td id=\"T_1d424_row7_col6\" class=\"data row7 col6\" >0.22</td>\n",
       "      <td id=\"T_1d424_row7_col7\" class=\"data row7 col7\" >1.00</td>\n",
       "      <td id=\"T_1d424_row7_col8\" class=\"data row7 col8\" >-0.50</td>\n",
       "      <td id=\"T_1d424_row7_col9\" class=\"data row7 col9\" >-0.22</td>\n",
       "    </tr>\n",
       "    <tr>\n",
       "      <th id=\"T_1d424_level0_row8\" class=\"row_heading level0 row8\" >Cabin</th>\n",
       "      <td id=\"T_1d424_row8_col0\" class=\"data row8 col0\" >-0.04</td>\n",
       "      <td id=\"T_1d424_row8_col1\" class=\"data row8 col1\" >-0.25</td>\n",
       "      <td id=\"T_1d424_row8_col2\" class=\"data row8 col2\" >0.68</td>\n",
       "      <td id=\"T_1d424_row8_col3\" class=\"data row8 col3\" >0.10</td>\n",
       "      <td id=\"T_1d424_row8_col4\" class=\"data row8 col4\" >-0.24</td>\n",
       "      <td id=\"T_1d424_row8_col5\" class=\"data row8 col5\" >0.04</td>\n",
       "      <td id=\"T_1d424_row8_col6\" class=\"data row8 col6\" >-0.03</td>\n",
       "      <td id=\"T_1d424_row8_col7\" class=\"data row8 col7\" >-0.50</td>\n",
       "      <td id=\"T_1d424_row8_col8\" class=\"data row8 col8\" >1.00</td>\n",
       "      <td id=\"T_1d424_row8_col9\" class=\"data row8 col9\" >0.19</td>\n",
       "    </tr>\n",
       "    <tr>\n",
       "      <th id=\"T_1d424_level0_row9\" class=\"row_heading level0 row9\" >Embarked</th>\n",
       "      <td id=\"T_1d424_row9_col0\" class=\"data row9 col0\" >0.01</td>\n",
       "      <td id=\"T_1d424_row9_col1\" class=\"data row9 col1\" >-0.16</td>\n",
       "      <td id=\"T_1d424_row9_col2\" class=\"data row9 col2\" >0.16</td>\n",
       "      <td id=\"T_1d424_row9_col3\" class=\"data row9 col3\" >0.10</td>\n",
       "      <td id=\"T_1d424_row9_col4\" class=\"data row9 col4\" >-0.02</td>\n",
       "      <td id=\"T_1d424_row9_col5\" class=\"data row9 col5\" >0.07</td>\n",
       "      <td id=\"T_1d424_row9_col6\" class=\"data row9 col6\" >0.04</td>\n",
       "      <td id=\"T_1d424_row9_col7\" class=\"data row9 col7\" >-0.22</td>\n",
       "      <td id=\"T_1d424_row9_col8\" class=\"data row9 col8\" >0.19</td>\n",
       "      <td id=\"T_1d424_row9_col9\" class=\"data row9 col9\" >1.00</td>\n",
       "    </tr>\n",
       "  </tbody>\n",
       "</table>\n"
      ],
      "text/plain": [
       "<pandas.io.formats.style.Styler at 0x20d3f912d10>"
      ]
     },
     "execution_count": 138,
     "metadata": {},
     "output_type": "execute_result"
    }
   ],
   "source": [
    "df.corr() \\\n",
    "    .style.background_gradient(cmap='coolwarm') \\\n",
    "    .format(precision = 2)"
   ]
  },
  {
   "cell_type": "markdown",
   "id": "122e721c",
   "metadata": {
    "papermill": {
     "duration": 0.012156,
     "end_time": "2022-10-03T18:29:04.875650",
     "exception": false,
     "start_time": "2022-10-03T18:29:04.863494",
     "status": "completed"
    },
    "tags": []
   },
   "source": [
    "# Machine learning"
   ]
  },
  {
   "cell_type": "markdown",
   "id": "d8231e06",
   "metadata": {
    "papermill": {
     "duration": 0.012113,
     "end_time": "2022-10-03T18:29:04.900186",
     "exception": false,
     "start_time": "2022-10-03T18:29:04.888073",
     "status": "completed"
    },
    "tags": []
   },
   "source": [
    "## Common operations"
   ]
  },
  {
   "cell_type": "code",
   "execution_count": 139,
   "id": "bccb9fdb",
   "metadata": {
    "papermill": {
     "duration": 0.541059,
     "end_time": "2022-10-03T18:29:05.478229",
     "exception": false,
     "start_time": "2022-10-03T18:29:04.937170",
     "status": "completed"
    },
    "tags": []
   },
   "outputs": [],
   "source": [
    "import sklearn.metrics as metrics\n",
    "from sklearn.model_selection import train_test_split"
   ]
  },
  {
   "cell_type": "markdown",
   "id": "0897610f",
   "metadata": {
    "papermill": {
     "duration": 0.011998,
     "end_time": "2022-10-03T18:29:05.502831",
     "exception": false,
     "start_time": "2022-10-03T18:29:05.490833",
     "status": "completed"
    },
    "tags": []
   },
   "source": [
    "### Preparing the comparison table"
   ]
  },
  {
   "cell_type": "code",
   "execution_count": 140,
   "id": "2fe8fc5f",
   "metadata": {
    "papermill": {
     "duration": 0.02394,
     "end_time": "2022-10-03T18:29:05.539126",
     "exception": false,
     "start_time": "2022-10-03T18:29:05.515186",
     "status": "completed"
    },
    "tags": []
   },
   "outputs": [],
   "source": [
    "columns = ['Model','accuracy score', ' Precision','Recall','f1_score']\n",
    "evaluation_df = pd.DataFrame(columns=columns)"
   ]
  },
  {
   "cell_type": "markdown",
   "id": "b619b31a",
   "metadata": {
    "papermill": {
     "duration": 0.012063,
     "end_time": "2022-10-03T18:29:05.563828",
     "exception": false,
     "start_time": "2022-10-03T18:29:05.551765",
     "status": "completed"
    },
    "tags": []
   },
   "source": [
    "### Drawing ROC"
   ]
  },
  {
   "cell_type": "code",
   "execution_count": 141,
   "id": "a453b472",
   "metadata": {
    "papermill": {
     "duration": 0.022048,
     "end_time": "2022-10-03T18:29:05.598370",
     "exception": false,
     "start_time": "2022-10-03T18:29:05.576322",
     "status": "completed"
    },
    "tags": []
   },
   "outputs": [],
   "source": [
    "def drawROC(model, X_test, y_test):\n",
    "    pred = model.predict(X_test)\n",
    "    metrics.RocCurveDisplay.from_predictions(y_test, pred)\n",
    "    plt.show()"
   ]
  },
  {
   "cell_type": "markdown",
   "id": "62c8f288",
   "metadata": {
    "papermill": {
     "duration": 0.012071,
     "end_time": "2022-10-03T18:29:05.623005",
     "exception": false,
     "start_time": "2022-10-03T18:29:05.610934",
     "status": "completed"
    },
    "tags": []
   },
   "source": [
    "### Executing a given algorithm"
   ]
  },
  {
   "cell_type": "code",
   "execution_count": 142,
   "id": "f8ff637f",
   "metadata": {
    "papermill": {
     "duration": 0.024763,
     "end_time": "2022-10-03T18:29:05.660403",
     "exception": false,
     "start_time": "2022-10-03T18:29:05.635640",
     "status": "completed"
    },
    "tags": []
   },
   "outputs": [],
   "source": [
    "def execute_ml(model, X_train, y_train, X_test, y_test):\n",
    "    model.fit(X_train,y_train)\n",
    "    pred = model.predict(X_test)\n",
    "    \n",
    "    accuracy_score  = metrics.accuracy_score(y_test,pred)\n",
    "    precision_score = metrics.precision_score(y_test, pred)\n",
    "    recall_score = metrics.recall_score(y_test, pred)\n",
    "    f1_score = metrics.f1_score(y_test,pred)\n",
    "    evaluation_df.loc[len(evaluation_df.index)] = [type(model).__name__,accuracy_score,precision_score,recall_score, f1_score]    \n",
    "    \n",
    "    print(metrics.classification_report(y_test,pred))\n",
    "        \n",
    "    metrics.ConfusionMatrixDisplay.from_predictions(y_test, pred)\n",
    "    plt.show()\n",
    "    \n",
    "    return model"
   ]
  },
  {
   "cell_type": "markdown",
   "id": "bb48cdc9",
   "metadata": {
    "papermill": {
     "duration": 0.012137,
     "end_time": "2022-10-03T18:29:05.685153",
     "exception": false,
     "start_time": "2022-10-03T18:29:05.673016",
     "status": "completed"
    },
    "tags": []
   },
   "source": [
    "### Cross validation"
   ]
  },
  {
   "cell_type": "code",
   "execution_count": 143,
   "id": "0fedfd96",
   "metadata": {
    "papermill": {
     "duration": 0.022787,
     "end_time": "2022-10-03T18:29:05.720574",
     "exception": false,
     "start_time": "2022-10-03T18:29:05.697787",
     "status": "completed"
    },
    "tags": []
   },
   "outputs": [],
   "source": [
    "from sklearn.model_selection import cross_validate\n",
    "\n",
    "def perform_cross_validation(model, X_train, y_train):\n",
    "    cross_validation_result = cross_validate(model,\n",
    "                                             X_train, y_train,\n",
    "                                             return_train_score=True)\n",
    "\n",
    "    return cross_validation_result"
   ]
  },
  {
   "cell_type": "markdown",
   "id": "86338895",
   "metadata": {
    "papermill": {
     "duration": 0.012102,
     "end_time": "2022-10-03T18:29:05.745319",
     "exception": false,
     "start_time": "2022-10-03T18:29:05.733217",
     "status": "completed"
    },
    "tags": []
   },
   "source": [
    "### Tweaking threshold\n",
    "\n",
    "Instead of using the predefined <i>predict</i>, the function is customized to use the given threshold."
   ]
  },
  {
   "cell_type": "code",
   "execution_count": 144,
   "id": "9a1fda76",
   "metadata": {
    "papermill": {
     "duration": 0.022391,
     "end_time": "2022-10-03T18:29:05.780321",
     "exception": false,
     "start_time": "2022-10-03T18:29:05.757930",
     "status": "completed"
    },
    "tags": []
   },
   "outputs": [],
   "source": [
    "def execute_using_threshold(model, X_train, y_train, t):\n",
    "    model.fit(X_train,y_train)\n",
    "    pred_prob = model.predict_proba(X_test)\n",
    "    pred = [1 if pred_prob[i][1]> t else 0 for i in range(len(pred_prob))]\n",
    "    \n",
    "    print(\"Threshold: %f\" %t)\n",
    "    print(metrics.classification_report(y_test,pred))\n",
    "    metrics.ConfusionMatrixDisplay.from_predictions(y_test,pred)\n",
    "    plt.show()"
   ]
  },
  {
   "cell_type": "markdown",
   "id": "2161e840",
   "metadata": {
    "papermill": {
     "duration": 0.012294,
     "end_time": "2022-10-03T18:29:05.805304",
     "exception": false,
     "start_time": "2022-10-03T18:29:05.793010",
     "status": "completed"
    },
    "tags": []
   },
   "source": [
    "## Specifying the independent and target features"
   ]
  },
  {
   "cell_type": "code",
   "execution_count": 145,
   "id": "da8e8f05",
   "metadata": {
    "papermill": {
     "duration": 0.046563,
     "end_time": "2022-10-03T18:29:05.864465",
     "exception": false,
     "start_time": "2022-10-03T18:29:05.817902",
     "status": "completed"
    },
    "tags": []
   },
   "outputs": [],
   "source": [
    "X = df.drop(['Survived'], axis='columns')\n",
    "y = df['Survived']"
   ]
  },
  {
   "cell_type": "markdown",
   "id": "c0730662",
   "metadata": {
    "papermill": {
     "duration": 0.012237,
     "end_time": "2022-10-03T18:29:05.889455",
     "exception": false,
     "start_time": "2022-10-03T18:29:05.877218",
     "status": "completed"
    },
    "tags": []
   },
   "source": [
    "## Splitting the dataset into training and testing subsets\n",
    "<br>\n",
    "<b>random_state</b> simply initializes the randomizer and can be any number\n",
    "<br>\n",
    "<b>test_size</b> and <b>train_size</b> are fractions of the whole dataset"
   ]
  },
  {
   "cell_type": "code",
   "execution_count": 146,
   "id": "11752411",
   "metadata": {
    "papermill": {
     "duration": 0.077364,
     "end_time": "2022-10-03T18:29:05.979788",
     "exception": false,
     "start_time": "2022-10-03T18:29:05.902424",
     "status": "completed"
    },
    "tags": []
   },
   "outputs": [],
   "source": [
    "np.random.seed(42)\n",
    "\n",
    "X_train, X_test, y_train, y_test = train_test_split(X, y, stratify=y, random_state=12, train_size=.8)"
   ]
  },
  {
   "cell_type": "markdown",
   "id": "5b596690",
   "metadata": {
    "papermill": {
     "duration": 0.012694,
     "end_time": "2022-10-03T18:29:06.006282",
     "exception": false,
     "start_time": "2022-10-03T18:29:05.993588",
     "status": "completed"
    },
    "tags": []
   },
   "source": [
    "## Machine learning algorithms"
   ]
  },
  {
   "cell_type": "markdown",
   "id": "72c6a0d5",
   "metadata": {
    "papermill": {
     "duration": 0.012083,
     "end_time": "2022-10-03T18:29:06.031023",
     "exception": false,
     "start_time": "2022-10-03T18:29:06.018940",
     "status": "completed"
    },
    "tags": []
   },
   "source": [
    "### K-Nearest Neighbors"
   ]
  },
  {
   "cell_type": "code",
   "execution_count": 147,
   "id": "c7fb66d2",
   "metadata": {
    "papermill": {
     "duration": 4.172227,
     "end_time": "2022-10-03T18:29:10.215789",
     "exception": false,
     "start_time": "2022-10-03T18:29:06.043562",
     "status": "completed"
    },
    "tags": []
   },
   "outputs": [
    {
     "name": "stdout",
     "output_type": "stream",
     "text": [
      "              precision    recall  f1-score   support\n",
      "\n",
      "           0       0.65      0.88      0.75       110\n",
      "           1       0.57      0.25      0.34        69\n",
      "\n",
      "    accuracy                           0.64       179\n",
      "   macro avg       0.61      0.56      0.55       179\n",
      "weighted avg       0.62      0.64      0.59       179\n",
      "\n"
     ]
    },
    {
     "data": {
      "image/png": "[encoded data removed]",
      "text/plain": [
       "<Figure size 640x480 with 2 Axes>"
      ]
     },
     "metadata": {},
     "output_type": "display_data"
    },
    {
     "data": {
      "text/html": [
       "<style>#sk-container-id-42 {color: black;background-color: white;}#sk-container-id-42 pre{padding: 0;}#sk-container-id-42 div.sk-toggleable {background-color: white;}#sk-container-id-42 label.sk-toggleable__label {cursor: pointer;display: block;width: 100%;margin-bottom: 0;padding: 0.3em;box-sizing: border-box;text-align: center;}#sk-container-id-42 label.sk-toggleable__label-arrow:before {content: \"▸\";float: left;margin-right: 0.25em;color: #696969;}#sk-container-id-42 label.sk-toggleable__label-arrow:hover:before {color: black;}#sk-container-id-42 div.sk-estimator:hover label.sk-toggleable__label-arrow:before {color: black;}#sk-container-id-42 div.sk-toggleable__content {max-height: 0;max-width: 0;overflow: hidden;text-align: left;background-color: #f0f8ff;}#sk-container-id-42 div.sk-toggleable__content pre {margin: 0.2em;color: black;border-radius: 0.25em;background-color: #f0f8ff;}#sk-container-id-42 input.sk-toggleable__control:checked~div.sk-toggleable__content {max-height: 200px;max-width: 100%;overflow: auto;}#sk-container-id-42 input.sk-toggleable__control:checked~label.sk-toggleable__label-arrow:before {content: \"▾\";}#sk-container-id-42 div.sk-estimator input.sk-toggleable__control:checked~label.sk-toggleable__label {background-color: #d4ebff;}#sk-container-id-42 div.sk-label input.sk-toggleable__control:checked~label.sk-toggleable__label {background-color: #d4ebff;}#sk-container-id-42 input.sk-hidden--visually {border: 0;clip: rect(1px 1px 1px 1px);clip: rect(1px, 1px, 1px, 1px);height: 1px;margin: -1px;overflow: hidden;padding: 0;position: absolute;width: 1px;}#sk-container-id-42 div.sk-estimator {font-family: monospace;background-color: #f0f8ff;border: 1px dotted black;border-radius: 0.25em;box-sizing: border-box;margin-bottom: 0.5em;}#sk-container-id-42 div.sk-estimator:hover {background-color: #d4ebff;}#sk-container-id-42 div.sk-parallel-item::after {content: \"\";width: 100%;border-bottom: 1px solid gray;flex-grow: 1;}#sk-container-id-42 div.sk-label:hover label.sk-toggleable__label {background-color: #d4ebff;}#sk-container-id-42 div.sk-serial::before {content: \"\";position: absolute;border-left: 1px solid gray;box-sizing: border-box;top: 0;bottom: 0;left: 50%;z-index: 0;}#sk-container-id-42 div.sk-serial {display: flex;flex-direction: column;align-items: center;background-color: white;padding-right: 0.2em;padding-left: 0.2em;position: relative;}#sk-container-id-42 div.sk-item {position: relative;z-index: 1;}#sk-container-id-42 div.sk-parallel {display: flex;align-items: stretch;justify-content: center;background-color: white;position: relative;}#sk-container-id-42 div.sk-item::before, #sk-container-id-42 div.sk-parallel-item::before {content: \"\";position: absolute;border-left: 1px solid gray;box-sizing: border-box;top: 0;bottom: 0;left: 50%;z-index: -1;}#sk-container-id-42 div.sk-parallel-item {display: flex;flex-direction: column;z-index: 1;position: relative;background-color: white;}#sk-container-id-42 div.sk-parallel-item:first-child::after {align-self: flex-end;width: 50%;}#sk-container-id-42 div.sk-parallel-item:last-child::after {align-self: flex-start;width: 50%;}#sk-container-id-42 div.sk-parallel-item:only-child::after {width: 0;}#sk-container-id-42 div.sk-dashed-wrapped {border: 1px dashed gray;margin: 0 0.4em 0.5em 0.4em;box-sizing: border-box;padding-bottom: 0.4em;background-color: white;}#sk-container-id-42 div.sk-label label {font-family: monospace;font-weight: bold;display: inline-block;line-height: 1.2em;}#sk-container-id-42 div.sk-label-container {text-align: center;}#sk-container-id-42 div.sk-container {/* jupyter's `normalize.less` sets `[hidden] { display: none; }` but bootstrap.min.css set `[hidden] { display: none !important; }` so we also need the `!important` here to be able to override the default hidden behavior on the sphinx rendered scikit-learn.org. See: https://github.com/scikit-learn/scikit-learn/issues/21755 */display: inline-block !important;position: relative;}#sk-container-id-42 div.sk-text-repr-fallback {display: none;}</style><div id=\"sk-container-id-42\" class=\"sk-top-container\"><div class=\"sk-text-repr-fallback\"><pre>KNeighborsClassifier(n_neighbors=15, weights=&#x27;distance&#x27;)</pre><b>In a Jupyter environment, please rerun this cell to show the HTML representation or trust the notebook. <br />On GitHub, the HTML representation is unable to render, please try loading this page with nbviewer.org.</b></div><div class=\"sk-container\" hidden><div class=\"sk-item\"><div class=\"sk-estimator sk-toggleable\"><input class=\"sk-toggleable__control sk-hidden--visually\" id=\"sk-estimator-id-48\" type=\"checkbox\" checked><label for=\"sk-estimator-id-48\" class=\"sk-toggleable__label sk-toggleable__label-arrow\">KNeighborsClassifier</label><div class=\"sk-toggleable__content\"><pre>KNeighborsClassifier(n_neighbors=15, weights=&#x27;distance&#x27;)</pre></div></div></div></div></div>"
      ],
      "text/plain": [
       "KNeighborsClassifier(n_neighbors=15, weights='distance')"
      ]
     },
     "execution_count": 147,
     "metadata": {},
     "output_type": "execute_result"
    }
   ],
   "source": [
    "from sklearn.neighbors import KNeighborsClassifier\n",
    "\n",
    "execute_ml(KNeighborsClassifier(n_neighbors = 15, weights='distance'),\n",
    "           X_train, y_train, X_test, y_test)"
   ]
  },
  {
   "cell_type": "markdown",
   "id": "bca080ed",
   "metadata": {
    "papermill": {
     "duration": 0.012723,
     "end_time": "2022-10-03T18:29:10.241780",
     "exception": false,
     "start_time": "2022-10-03T18:29:10.229057",
     "status": "completed"
    },
    "tags": []
   },
   "source": [
    "### Logistic regression"
   ]
  },
  {
   "cell_type": "code",
   "execution_count": 148,
   "id": "6cdc388e",
   "metadata": {
    "papermill": {
     "duration": 1.453937,
     "end_time": "2022-10-03T18:29:11.708779",
     "exception": false,
     "start_time": "2022-10-03T18:29:10.254842",
     "status": "completed"
    },
    "tags": []
   },
   "outputs": [
    {
     "name": "stderr",
     "output_type": "stream",
     "text": [
      "C:\\Users\\Babak\\AppData\\Local\\Programs\\Python\\Python310\\lib\\site-packages\\sklearn\\linear_model\\_logistic.py:444: ConvergenceWarning: lbfgs failed to converge (status=1):\n",
      "STOP: TOTAL NO. of ITERATIONS REACHED LIMIT.\n",
      "\n",
      "Increase the number of iterations (max_iter) or scale the data as shown in:\n",
      "    https://scikit-learn.org/stable/modules/preprocessing.html\n",
      "Please also refer to the documentation for alternative solver options:\n",
      "    https://scikit-learn.org/stable/modules/linear_model.html#logistic-regression\n",
      "  n_iter_i = _check_optimize_result(\n"
     ]
    },
    {
     "name": "stdout",
     "output_type": "stream",
     "text": [
      "              precision    recall  f1-score   support\n",
      "\n",
      "           0       0.82      0.83      0.82       110\n",
      "           1       0.72      0.71      0.72        69\n",
      "\n",
      "    accuracy                           0.78       179\n",
      "   macro avg       0.77      0.77      0.77       179\n",
      "weighted avg       0.78      0.78      0.78       179\n",
      "\n"
     ]
    },
    {
     "data": {
      "image/png": "[encoded data removed]",
      "text/plain": [
       "<Figure size 640x480 with 2 Axes>"
      ]
     },
     "metadata": {},
     "output_type": "display_data"
    },
    {
     "data": {
      "text/html": [
       "<style>#sk-container-id-43 {color: black;background-color: white;}#sk-container-id-43 pre{padding: 0;}#sk-container-id-43 div.sk-toggleable {background-color: white;}#sk-container-id-43 label.sk-toggleable__label {cursor: pointer;display: block;width: 100%;margin-bottom: 0;padding: 0.3em;box-sizing: border-box;text-align: center;}#sk-container-id-43 label.sk-toggleable__label-arrow:before {content: \"▸\";float: left;margin-right: 0.25em;color: #696969;}#sk-container-id-43 label.sk-toggleable__label-arrow:hover:before {color: black;}#sk-container-id-43 div.sk-estimator:hover label.sk-toggleable__label-arrow:before {color: black;}#sk-container-id-43 div.sk-toggleable__content {max-height: 0;max-width: 0;overflow: hidden;text-align: left;background-color: #f0f8ff;}#sk-container-id-43 div.sk-toggleable__content pre {margin: 0.2em;color: black;border-radius: 0.25em;background-color: #f0f8ff;}#sk-container-id-43 input.sk-toggleable__control:checked~div.sk-toggleable__content {max-height: 200px;max-width: 100%;overflow: auto;}#sk-container-id-43 input.sk-toggleable__control:checked~label.sk-toggleable__label-arrow:before {content: \"▾\";}#sk-container-id-43 div.sk-estimator input.sk-toggleable__control:checked~label.sk-toggleable__label {background-color: #d4ebff;}#sk-container-id-43 div.sk-label input.sk-toggleable__control:checked~label.sk-toggleable__label {background-color: #d4ebff;}#sk-container-id-43 input.sk-hidden--visually {border: 0;clip: rect(1px 1px 1px 1px);clip: rect(1px, 1px, 1px, 1px);height: 1px;margin: -1px;overflow: hidden;padding: 0;position: absolute;width: 1px;}#sk-container-id-43 div.sk-estimator {font-family: monospace;background-color: #f0f8ff;border: 1px dotted black;border-radius: 0.25em;box-sizing: border-box;margin-bottom: 0.5em;}#sk-container-id-43 div.sk-estimator:hover {background-color: #d4ebff;}#sk-container-id-43 div.sk-parallel-item::after {content: \"\";width: 100%;border-bottom: 1px solid gray;flex-grow: 1;}#sk-container-id-43 div.sk-label:hover label.sk-toggleable__label {background-color: #d4ebff;}#sk-container-id-43 div.sk-serial::before {content: \"\";position: absolute;border-left: 1px solid gray;box-sizing: border-box;top: 0;bottom: 0;left: 50%;z-index: 0;}#sk-container-id-43 div.sk-serial {display: flex;flex-direction: column;align-items: center;background-color: white;padding-right: 0.2em;padding-left: 0.2em;position: relative;}#sk-container-id-43 div.sk-item {position: relative;z-index: 1;}#sk-container-id-43 div.sk-parallel {display: flex;align-items: stretch;justify-content: center;background-color: white;position: relative;}#sk-container-id-43 div.sk-item::before, #sk-container-id-43 div.sk-parallel-item::before {content: \"\";position: absolute;border-left: 1px solid gray;box-sizing: border-box;top: 0;bottom: 0;left: 50%;z-index: -1;}#sk-container-id-43 div.sk-parallel-item {display: flex;flex-direction: column;z-index: 1;position: relative;background-color: white;}#sk-container-id-43 div.sk-parallel-item:first-child::after {align-self: flex-end;width: 50%;}#sk-container-id-43 div.sk-parallel-item:last-child::after {align-self: flex-start;width: 50%;}#sk-container-id-43 div.sk-parallel-item:only-child::after {width: 0;}#sk-container-id-43 div.sk-dashed-wrapped {border: 1px dashed gray;margin: 0 0.4em 0.5em 0.4em;box-sizing: border-box;padding-bottom: 0.4em;background-color: white;}#sk-container-id-43 div.sk-label label {font-family: monospace;font-weight: bold;display: inline-block;line-height: 1.2em;}#sk-container-id-43 div.sk-label-container {text-align: center;}#sk-container-id-43 div.sk-container {/* jupyter's `normalize.less` sets `[hidden] { display: none; }` but bootstrap.min.css set `[hidden] { display: none !important; }` so we also need the `!important` here to be able to override the default hidden behavior on the sphinx rendered scikit-learn.org. See: https://github.com/scikit-learn/scikit-learn/issues/21755 */display: inline-block !important;position: relative;}#sk-container-id-43 div.sk-text-repr-fallback {display: none;}</style><div id=\"sk-container-id-43\" class=\"sk-top-container\"><div class=\"sk-text-repr-fallback\"><pre>LogisticRegression(max_iter=200, random_state=12)</pre><b>In a Jupyter environment, please rerun this cell to show the HTML representation or trust the notebook. <br />On GitHub, the HTML representation is unable to render, please try loading this page with nbviewer.org.</b></div><div class=\"sk-container\" hidden><div class=\"sk-item\"><div class=\"sk-estimator sk-toggleable\"><input class=\"sk-toggleable__control sk-hidden--visually\" id=\"sk-estimator-id-49\" type=\"checkbox\" checked><label for=\"sk-estimator-id-49\" class=\"sk-toggleable__label sk-toggleable__label-arrow\">LogisticRegression</label><div class=\"sk-toggleable__content\"><pre>LogisticRegression(max_iter=200, random_state=12)</pre></div></div></div></div></div>"
      ],
      "text/plain": [
       "LogisticRegression(max_iter=200, random_state=12)"
      ]
     },
     "execution_count": 148,
     "metadata": {},
     "output_type": "execute_result"
    }
   ],
   "source": [
    "from sklearn.linear_model import LogisticRegression\n",
    "\n",
    "execute_ml(LogisticRegression(max_iter=200,random_state=12),\n",
    "           X_train, y_train, X_test, y_test)"
   ]
  },
  {
   "cell_type": "markdown",
   "id": "e4ae200e",
   "metadata": {
    "papermill": {
     "duration": 0.013619,
     "end_time": "2022-10-03T18:29:11.736207",
     "exception": false,
     "start_time": "2022-10-03T18:29:11.722588",
     "status": "completed"
    },
    "tags": []
   },
   "source": [
    "### Logistic regression CV"
   ]
  },
  {
   "cell_type": "code",
   "execution_count": 149,
   "id": "b92b115c",
   "metadata": {
    "papermill": {
     "duration": 19.99306,
     "end_time": "2022-10-03T18:29:31.742985",
     "exception": false,
     "start_time": "2022-10-03T18:29:11.749925",
     "status": "completed"
    },
    "tags": []
   },
   "outputs": [
    {
     "name": "stderr",
     "output_type": "stream",
     "text": [
      "C:\\Users\\Babak\\AppData\\Local\\Programs\\Python\\Python310\\lib\\site-packages\\sklearn\\linear_model\\_logistic.py:444: ConvergenceWarning: lbfgs failed to converge (status=1):\n",
      "STOP: TOTAL NO. of ITERATIONS REACHED LIMIT.\n",
      "\n",
      "Increase the number of iterations (max_iter) or scale the data as shown in:\n",
      "    https://scikit-learn.org/stable/modules/preprocessing.html\n",
      "Please also refer to the documentation for alternative solver options:\n",
      "    https://scikit-learn.org/stable/modules/linear_model.html#logistic-regression\n",
      "  n_iter_i = _check_optimize_result(\n",
      "C:\\Users\\Babak\\AppData\\Local\\Programs\\Python\\Python310\\lib\\site-packages\\sklearn\\linear_model\\_logistic.py:444: ConvergenceWarning: lbfgs failed to converge (status=1):\n",
      "STOP: TOTAL NO. of ITERATIONS REACHED LIMIT.\n",
      "\n",
      "Increase the number of iterations (max_iter) or scale the data as shown in:\n",
      "    https://scikit-learn.org/stable/modules/preprocessing.html\n",
      "Please also refer to the documentation for alternative solver options:\n",
      "    https://scikit-learn.org/stable/modules/linear_model.html#logistic-regression\n",
      "  n_iter_i = _check_optimize_result(\n"
     ]
    },
    {
     "name": "stdout",
     "output_type": "stream",
     "text": [
      "              precision    recall  f1-score   support\n",
      "\n",
      "           0       0.82      0.85      0.83       110\n",
      "           1       0.74      0.70      0.72        69\n",
      "\n",
      "    accuracy                           0.79       179\n",
      "   macro avg       0.78      0.77      0.77       179\n",
      "weighted avg       0.79      0.79      0.79       179\n",
      "\n"
     ]
    },
    {
     "data": {
      "image/png": "[encoded data removed]",
      "text/plain": [
       "<Figure size 640x480 with 2 Axes>"
      ]
     },
     "metadata": {},
     "output_type": "display_data"
    },
    {
     "data": {
      "text/html": [
       "<style>#sk-container-id-44 {color: black;background-color: white;}#sk-container-id-44 pre{padding: 0;}#sk-container-id-44 div.sk-toggleable {background-color: white;}#sk-container-id-44 label.sk-toggleable__label {cursor: pointer;display: block;width: 100%;margin-bottom: 0;padding: 0.3em;box-sizing: border-box;text-align: center;}#sk-container-id-44 label.sk-toggleable__label-arrow:before {content: \"▸\";float: left;margin-right: 0.25em;color: #696969;}#sk-container-id-44 label.sk-toggleable__label-arrow:hover:before {color: black;}#sk-container-id-44 div.sk-estimator:hover label.sk-toggleable__label-arrow:before {color: black;}#sk-container-id-44 div.sk-toggleable__content {max-height: 0;max-width: 0;overflow: hidden;text-align: left;background-color: #f0f8ff;}#sk-container-id-44 div.sk-toggleable__content pre {margin: 0.2em;color: black;border-radius: 0.25em;background-color: #f0f8ff;}#sk-container-id-44 input.sk-toggleable__control:checked~div.sk-toggleable__content {max-height: 200px;max-width: 100%;overflow: auto;}#sk-container-id-44 input.sk-toggleable__control:checked~label.sk-toggleable__label-arrow:before {content: \"▾\";}#sk-container-id-44 div.sk-estimator input.sk-toggleable__control:checked~label.sk-toggleable__label {background-color: #d4ebff;}#sk-container-id-44 div.sk-label input.sk-toggleable__control:checked~label.sk-toggleable__label {background-color: #d4ebff;}#sk-container-id-44 input.sk-hidden--visually {border: 0;clip: rect(1px 1px 1px 1px);clip: rect(1px, 1px, 1px, 1px);height: 1px;margin: -1px;overflow: hidden;padding: 0;position: absolute;width: 1px;}#sk-container-id-44 div.sk-estimator {font-family: monospace;background-color: #f0f8ff;border: 1px dotted black;border-radius: 0.25em;box-sizing: border-box;margin-bottom: 0.5em;}#sk-container-id-44 div.sk-estimator:hover {background-color: #d4ebff;}#sk-container-id-44 div.sk-parallel-item::after {content: \"\";width: 100%;border-bottom: 1px solid gray;flex-grow: 1;}#sk-container-id-44 div.sk-label:hover label.sk-toggleable__label {background-color: #d4ebff;}#sk-container-id-44 div.sk-serial::before {content: \"\";position: absolute;border-left: 1px solid gray;box-sizing: border-box;top: 0;bottom: 0;left: 50%;z-index: 0;}#sk-container-id-44 div.sk-serial {display: flex;flex-direction: column;align-items: center;background-color: white;padding-right: 0.2em;padding-left: 0.2em;position: relative;}#sk-container-id-44 div.sk-item {position: relative;z-index: 1;}#sk-container-id-44 div.sk-parallel {display: flex;align-items: stretch;justify-content: center;background-color: white;position: relative;}#sk-container-id-44 div.sk-item::before, #sk-container-id-44 div.sk-parallel-item::before {content: \"\";position: absolute;border-left: 1px solid gray;box-sizing: border-box;top: 0;bottom: 0;left: 50%;z-index: -1;}#sk-container-id-44 div.sk-parallel-item {display: flex;flex-direction: column;z-index: 1;position: relative;background-color: white;}#sk-container-id-44 div.sk-parallel-item:first-child::after {align-self: flex-end;width: 50%;}#sk-container-id-44 div.sk-parallel-item:last-child::after {align-self: flex-start;width: 50%;}#sk-container-id-44 div.sk-parallel-item:only-child::after {width: 0;}#sk-container-id-44 div.sk-dashed-wrapped {border: 1px dashed gray;margin: 0 0.4em 0.5em 0.4em;box-sizing: border-box;padding-bottom: 0.4em;background-color: white;}#sk-container-id-44 div.sk-label label {font-family: monospace;font-weight: bold;display: inline-block;line-height: 1.2em;}#sk-container-id-44 div.sk-label-container {text-align: center;}#sk-container-id-44 div.sk-container {/* jupyter's `normalize.less` sets `[hidden] { display: none; }` but bootstrap.min.css set `[hidden] { display: none !important; }` so we also need the `!important` here to be able to override the default hidden behavior on the sphinx rendered scikit-learn.org. See: https://github.com/scikit-learn/scikit-learn/issues/21755 */display: inline-block !important;position: relative;}#sk-container-id-44 div.sk-text-repr-fallback {display: none;}</style><div id=\"sk-container-id-44\" class=\"sk-top-container\"><div class=\"sk-text-repr-fallback\"><pre>LogisticRegressionCV(cv=RepeatedStratifiedKFold(n_repeats=2, n_splits=10, random_state=12),\n",
       "                     max_iter=200, random_state=12, scoring=&#x27;roc_auc&#x27;, tol=10)</pre><b>In a Jupyter environment, please rerun this cell to show the HTML representation or trust the notebook. <br />On GitHub, the HTML representation is unable to render, please try loading this page with nbviewer.org.</b></div><div class=\"sk-container\" hidden><div class=\"sk-item\"><div class=\"sk-estimator sk-toggleable\"><input class=\"sk-toggleable__control sk-hidden--visually\" id=\"sk-estimator-id-50\" type=\"checkbox\" checked><label for=\"sk-estimator-id-50\" class=\"sk-toggleable__label sk-toggleable__label-arrow\">LogisticRegressionCV</label><div class=\"sk-toggleable__content\"><pre>LogisticRegressionCV(cv=RepeatedStratifiedKFold(n_repeats=2, n_splits=10, random_state=12),\n",
       "                     max_iter=200, random_state=12, scoring=&#x27;roc_auc&#x27;, tol=10)</pre></div></div></div></div></div>"
      ],
      "text/plain": [
       "LogisticRegressionCV(cv=RepeatedStratifiedKFold(n_repeats=2, n_splits=10, random_state=12),\n",
       "                     max_iter=200, random_state=12, scoring='roc_auc', tol=10)"
      ]
     },
     "execution_count": 149,
     "metadata": {},
     "output_type": "execute_result"
    }
   ],
   "source": [
    "from sklearn.linear_model import LogisticRegressionCV\n",
    "from sklearn.model_selection import RepeatedStratifiedKFold\n",
    "\n",
    "execute_ml(LogisticRegressionCV(max_iter=200,penalty='l2',\n",
    "                                scoring='roc_auc',\n",
    "                                cv=RepeatedStratifiedKFold(n_splits=10, n_repeats=2, random_state=12),\n",
    "                                tol=10,random_state=12),\n",
    "           X_train, y_train, X_test, y_test)"
   ]
  },
  {
   "cell_type": "markdown",
   "id": "47dcc22a",
   "metadata": {
    "papermill": {
     "duration": 0.013846,
     "end_time": "2022-10-03T18:29:31.770962",
     "exception": false,
     "start_time": "2022-10-03T18:29:31.757116",
     "status": "completed"
    },
    "tags": []
   },
   "source": [
    "### Bernoulli Naive Bayes"
   ]
  },
  {
   "cell_type": "code",
   "execution_count": 150,
   "id": "7c01d87a",
   "metadata": {
    "papermill": {
     "duration": 0.379273,
     "end_time": "2022-10-03T18:29:32.164467",
     "exception": false,
     "start_time": "2022-10-03T18:29:31.785194",
     "status": "completed"
    },
    "tags": []
   },
   "outputs": [
    {
     "name": "stdout",
     "output_type": "stream",
     "text": [
      "              precision    recall  f1-score   support\n",
      "\n",
      "           0       0.82      0.80      0.81       110\n",
      "           1       0.69      0.72      0.71        69\n",
      "\n",
      "    accuracy                           0.77       179\n",
      "   macro avg       0.76      0.76      0.76       179\n",
      "weighted avg       0.77      0.77      0.77       179\n",
      "\n"
     ]
    },
    {
     "data": {
      "image/png": "[encoded data removed]",
      "text/plain": [
       "<Figure size 640x480 with 2 Axes>"
      ]
     },
     "metadata": {},
     "output_type": "display_data"
    },
    {
     "data": {
      "text/html": [
       "<style>#sk-container-id-45 {color: black;background-color: white;}#sk-container-id-45 pre{padding: 0;}#sk-container-id-45 div.sk-toggleable {background-color: white;}#sk-container-id-45 label.sk-toggleable__label {cursor: pointer;display: block;width: 100%;margin-bottom: 0;padding: 0.3em;box-sizing: border-box;text-align: center;}#sk-container-id-45 label.sk-toggleable__label-arrow:before {content: \"▸\";float: left;margin-right: 0.25em;color: #696969;}#sk-container-id-45 label.sk-toggleable__label-arrow:hover:before {color: black;}#sk-container-id-45 div.sk-estimator:hover label.sk-toggleable__label-arrow:before {color: black;}#sk-container-id-45 div.sk-toggleable__content {max-height: 0;max-width: 0;overflow: hidden;text-align: left;background-color: #f0f8ff;}#sk-container-id-45 div.sk-toggleable__content pre {margin: 0.2em;color: black;border-radius: 0.25em;background-color: #f0f8ff;}#sk-container-id-45 input.sk-toggleable__control:checked~div.sk-toggleable__content {max-height: 200px;max-width: 100%;overflow: auto;}#sk-container-id-45 input.sk-toggleable__control:checked~label.sk-toggleable__label-arrow:before {content: \"▾\";}#sk-container-id-45 div.sk-estimator input.sk-toggleable__control:checked~label.sk-toggleable__label {background-color: #d4ebff;}#sk-container-id-45 div.sk-label input.sk-toggleable__control:checked~label.sk-toggleable__label {background-color: #d4ebff;}#sk-container-id-45 input.sk-hidden--visually {border: 0;clip: rect(1px 1px 1px 1px);clip: rect(1px, 1px, 1px, 1px);height: 1px;margin: -1px;overflow: hidden;padding: 0;position: absolute;width: 1px;}#sk-container-id-45 div.sk-estimator {font-family: monospace;background-color: #f0f8ff;border: 1px dotted black;border-radius: 0.25em;box-sizing: border-box;margin-bottom: 0.5em;}#sk-container-id-45 div.sk-estimator:hover {background-color: #d4ebff;}#sk-container-id-45 div.sk-parallel-item::after {content: \"\";width: 100%;border-bottom: 1px solid gray;flex-grow: 1;}#sk-container-id-45 div.sk-label:hover label.sk-toggleable__label {background-color: #d4ebff;}#sk-container-id-45 div.sk-serial::before {content: \"\";position: absolute;border-left: 1px solid gray;box-sizing: border-box;top: 0;bottom: 0;left: 50%;z-index: 0;}#sk-container-id-45 div.sk-serial {display: flex;flex-direction: column;align-items: center;background-color: white;padding-right: 0.2em;padding-left: 0.2em;position: relative;}#sk-container-id-45 div.sk-item {position: relative;z-index: 1;}#sk-container-id-45 div.sk-parallel {display: flex;align-items: stretch;justify-content: center;background-color: white;position: relative;}#sk-container-id-45 div.sk-item::before, #sk-container-id-45 div.sk-parallel-item::before {content: \"\";position: absolute;border-left: 1px solid gray;box-sizing: border-box;top: 0;bottom: 0;left: 50%;z-index: -1;}#sk-container-id-45 div.sk-parallel-item {display: flex;flex-direction: column;z-index: 1;position: relative;background-color: white;}#sk-container-id-45 div.sk-parallel-item:first-child::after {align-self: flex-end;width: 50%;}#sk-container-id-45 div.sk-parallel-item:last-child::after {align-self: flex-start;width: 50%;}#sk-container-id-45 div.sk-parallel-item:only-child::after {width: 0;}#sk-container-id-45 div.sk-dashed-wrapped {border: 1px dashed gray;margin: 0 0.4em 0.5em 0.4em;box-sizing: border-box;padding-bottom: 0.4em;background-color: white;}#sk-container-id-45 div.sk-label label {font-family: monospace;font-weight: bold;display: inline-block;line-height: 1.2em;}#sk-container-id-45 div.sk-label-container {text-align: center;}#sk-container-id-45 div.sk-container {/* jupyter's `normalize.less` sets `[hidden] { display: none; }` but bootstrap.min.css set `[hidden] { display: none !important; }` so we also need the `!important` here to be able to override the default hidden behavior on the sphinx rendered scikit-learn.org. See: https://github.com/scikit-learn/scikit-learn/issues/21755 */display: inline-block !important;position: relative;}#sk-container-id-45 div.sk-text-repr-fallback {display: none;}</style><div id=\"sk-container-id-45\" class=\"sk-top-container\"><div class=\"sk-text-repr-fallback\"><pre>BernoulliNB(alpha=1)</pre><b>In a Jupyter environment, please rerun this cell to show the HTML representation or trust the notebook. <br />On GitHub, the HTML representation is unable to render, please try loading this page with nbviewer.org.</b></div><div class=\"sk-container\" hidden><div class=\"sk-item\"><div class=\"sk-estimator sk-toggleable\"><input class=\"sk-toggleable__control sk-hidden--visually\" id=\"sk-estimator-id-51\" type=\"checkbox\" checked><label for=\"sk-estimator-id-51\" class=\"sk-toggleable__label sk-toggleable__label-arrow\">BernoulliNB</label><div class=\"sk-toggleable__content\"><pre>BernoulliNB(alpha=1)</pre></div></div></div></div></div>"
      ],
      "text/plain": [
       "BernoulliNB(alpha=1)"
      ]
     },
     "execution_count": 150,
     "metadata": {},
     "output_type": "execute_result"
    }
   ],
   "source": [
    "from sklearn.naive_bayes import BernoulliNB\n",
    "\n",
    "execute_ml(BernoulliNB(alpha=1),\n",
    "           X_train, y_train, X_test, y_test)"
   ]
  },
  {
   "cell_type": "markdown",
   "id": "c6ae8f90",
   "metadata": {
    "papermill": {
     "duration": 0.016059,
     "end_time": "2022-10-03T18:29:32.198690",
     "exception": false,
     "start_time": "2022-10-03T18:29:32.182631",
     "status": "completed"
    },
    "tags": []
   },
   "source": [
    "### Random forest"
   ]
  },
  {
   "cell_type": "markdown",
   "id": "b8c1eb3f",
   "metadata": {
    "papermill": {
     "duration": 0.015076,
     "end_time": "2022-10-03T18:29:32.228730",
     "exception": false,
     "start_time": "2022-10-03T18:29:32.213654",
     "status": "completed"
    },
    "tags": []
   },
   "source": [
    "#### Random forest + gini"
   ]
  },
  {
   "cell_type": "code",
   "execution_count": 151,
   "id": "eb5fb63b",
   "metadata": {
    "papermill": {
     "duration": 10.500665,
     "end_time": "2022-10-03T18:29:42.745248",
     "exception": false,
     "start_time": "2022-10-03T18:29:32.244583",
     "status": "completed"
    },
    "tags": []
   },
   "outputs": [
    {
     "name": "stdout",
     "output_type": "stream",
     "text": [
      "              precision    recall  f1-score   support\n",
      "\n",
      "           0       0.84      0.88      0.86       110\n",
      "           1       0.79      0.72      0.76        69\n",
      "\n",
      "    accuracy                           0.82       179\n",
      "   macro avg       0.81      0.80      0.81       179\n",
      "weighted avg       0.82      0.82      0.82       179\n",
      "\n"
     ]
    },
    {
     "data": {
      "image/png": "[encoded data removed]",
      "text/plain": [
       "<Figure size 640x480 with 2 Axes>"
      ]
     },
     "metadata": {},
     "output_type": "display_data"
    },
    {
     "data": {
      "text/html": [
       "<style>#sk-container-id-46 {color: black;background-color: white;}#sk-container-id-46 pre{padding: 0;}#sk-container-id-46 div.sk-toggleable {background-color: white;}#sk-container-id-46 label.sk-toggleable__label {cursor: pointer;display: block;width: 100%;margin-bottom: 0;padding: 0.3em;box-sizing: border-box;text-align: center;}#sk-container-id-46 label.sk-toggleable__label-arrow:before {content: \"▸\";float: left;margin-right: 0.25em;color: #696969;}#sk-container-id-46 label.sk-toggleable__label-arrow:hover:before {color: black;}#sk-container-id-46 div.sk-estimator:hover label.sk-toggleable__label-arrow:before {color: black;}#sk-container-id-46 div.sk-toggleable__content {max-height: 0;max-width: 0;overflow: hidden;text-align: left;background-color: #f0f8ff;}#sk-container-id-46 div.sk-toggleable__content pre {margin: 0.2em;color: black;border-radius: 0.25em;background-color: #f0f8ff;}#sk-container-id-46 input.sk-toggleable__control:checked~div.sk-toggleable__content {max-height: 200px;max-width: 100%;overflow: auto;}#sk-container-id-46 input.sk-toggleable__control:checked~label.sk-toggleable__label-arrow:before {content: \"▾\";}#sk-container-id-46 div.sk-estimator input.sk-toggleable__control:checked~label.sk-toggleable__label {background-color: #d4ebff;}#sk-container-id-46 div.sk-label input.sk-toggleable__control:checked~label.sk-toggleable__label {background-color: #d4ebff;}#sk-container-id-46 input.sk-hidden--visually {border: 0;clip: rect(1px 1px 1px 1px);clip: rect(1px, 1px, 1px, 1px);height: 1px;margin: -1px;overflow: hidden;padding: 0;position: absolute;width: 1px;}#sk-container-id-46 div.sk-estimator {font-family: monospace;background-color: #f0f8ff;border: 1px dotted black;border-radius: 0.25em;box-sizing: border-box;margin-bottom: 0.5em;}#sk-container-id-46 div.sk-estimator:hover {background-color: #d4ebff;}#sk-container-id-46 div.sk-parallel-item::after {content: \"\";width: 100%;border-bottom: 1px solid gray;flex-grow: 1;}#sk-container-id-46 div.sk-label:hover label.sk-toggleable__label {background-color: #d4ebff;}#sk-container-id-46 div.sk-serial::before {content: \"\";position: absolute;border-left: 1px solid gray;box-sizing: border-box;top: 0;bottom: 0;left: 50%;z-index: 0;}#sk-container-id-46 div.sk-serial {display: flex;flex-direction: column;align-items: center;background-color: white;padding-right: 0.2em;padding-left: 0.2em;position: relative;}#sk-container-id-46 div.sk-item {position: relative;z-index: 1;}#sk-container-id-46 div.sk-parallel {display: flex;align-items: stretch;justify-content: center;background-color: white;position: relative;}#sk-container-id-46 div.sk-item::before, #sk-container-id-46 div.sk-parallel-item::before {content: \"\";position: absolute;border-left: 1px solid gray;box-sizing: border-box;top: 0;bottom: 0;left: 50%;z-index: -1;}#sk-container-id-46 div.sk-parallel-item {display: flex;flex-direction: column;z-index: 1;position: relative;background-color: white;}#sk-container-id-46 div.sk-parallel-item:first-child::after {align-self: flex-end;width: 50%;}#sk-container-id-46 div.sk-parallel-item:last-child::after {align-self: flex-start;width: 50%;}#sk-container-id-46 div.sk-parallel-item:only-child::after {width: 0;}#sk-container-id-46 div.sk-dashed-wrapped {border: 1px dashed gray;margin: 0 0.4em 0.5em 0.4em;box-sizing: border-box;padding-bottom: 0.4em;background-color: white;}#sk-container-id-46 div.sk-label label {font-family: monospace;font-weight: bold;display: inline-block;line-height: 1.2em;}#sk-container-id-46 div.sk-label-container {text-align: center;}#sk-container-id-46 div.sk-container {/* jupyter's `normalize.less` sets `[hidden] { display: none; }` but bootstrap.min.css set `[hidden] { display: none !important; }` so we also need the `!important` here to be able to override the default hidden behavior on the sphinx rendered scikit-learn.org. See: https://github.com/scikit-learn/scikit-learn/issues/21755 */display: inline-block !important;position: relative;}#sk-container-id-46 div.sk-text-repr-fallback {display: none;}</style><div id=\"sk-container-id-46\" class=\"sk-top-container\"><div class=\"sk-text-repr-fallback\"><pre>RandomForestClassifier(random_state=12)</pre><b>In a Jupyter environment, please rerun this cell to show the HTML representation or trust the notebook. <br />On GitHub, the HTML representation is unable to render, please try loading this page with nbviewer.org.</b></div><div class=\"sk-container\" hidden><div class=\"sk-item\"><div class=\"sk-estimator sk-toggleable\"><input class=\"sk-toggleable__control sk-hidden--visually\" id=\"sk-estimator-id-52\" type=\"checkbox\" checked><label for=\"sk-estimator-id-52\" class=\"sk-toggleable__label sk-toggleable__label-arrow\">RandomForestClassifier</label><div class=\"sk-toggleable__content\"><pre>RandomForestClassifier(random_state=12)</pre></div></div></div></div></div>"
      ],
      "text/plain": [
       "RandomForestClassifier(random_state=12)"
      ]
     },
     "execution_count": 151,
     "metadata": {},
     "output_type": "execute_result"
    }
   ],
   "source": [
    "from sklearn.ensemble import RandomForestClassifier\n",
    "\n",
    "execute_ml(RandomForestClassifier(bootstrap = True,\n",
    "                                  max_features = 'sqrt',\n",
    "                                  random_state=12),\n",
    "           X_train, y_train, X_test, y_test)"
   ]
  },
  {
   "cell_type": "markdown",
   "id": "dbb850d2",
   "metadata": {
    "papermill": {
     "duration": 0.01478,
     "end_time": "2022-10-03T18:29:42.775138",
     "exception": false,
     "start_time": "2022-10-03T18:29:42.760358",
     "status": "completed"
    },
    "tags": []
   },
   "source": [
    "#### Random forest + entropy"
   ]
  },
  {
   "cell_type": "code",
   "execution_count": 152,
   "id": "858decf8",
   "metadata": {
    "papermill": {
     "duration": 8.266804,
     "end_time": "2022-10-03T18:29:51.057103",
     "exception": false,
     "start_time": "2022-10-03T18:29:42.790299",
     "status": "completed"
    },
    "tags": []
   },
   "outputs": [
    {
     "name": "stdout",
     "output_type": "stream",
     "text": [
      "              precision    recall  f1-score   support\n",
      "\n",
      "           0       0.85      0.91      0.88       110\n",
      "           1       0.84      0.74      0.78        69\n",
      "\n",
      "    accuracy                           0.84       179\n",
      "   macro avg       0.84      0.82      0.83       179\n",
      "weighted avg       0.84      0.84      0.84       179\n",
      "\n"
     ]
    },
    {
     "data": {
      "image/png": "[encoded data removed]",
      "text/plain": [
       "<Figure size 640x480 with 2 Axes>"
      ]
     },
     "metadata": {},
     "output_type": "display_data"
    },
    {
     "data": {
      "text/html": [
       "<style>#sk-container-id-47 {color: black;background-color: white;}#sk-container-id-47 pre{padding: 0;}#sk-container-id-47 div.sk-toggleable {background-color: white;}#sk-container-id-47 label.sk-toggleable__label {cursor: pointer;display: block;width: 100%;margin-bottom: 0;padding: 0.3em;box-sizing: border-box;text-align: center;}#sk-container-id-47 label.sk-toggleable__label-arrow:before {content: \"▸\";float: left;margin-right: 0.25em;color: #696969;}#sk-container-id-47 label.sk-toggleable__label-arrow:hover:before {color: black;}#sk-container-id-47 div.sk-estimator:hover label.sk-toggleable__label-arrow:before {color: black;}#sk-container-id-47 div.sk-toggleable__content {max-height: 0;max-width: 0;overflow: hidden;text-align: left;background-color: #f0f8ff;}#sk-container-id-47 div.sk-toggleable__content pre {margin: 0.2em;color: black;border-radius: 0.25em;background-color: #f0f8ff;}#sk-container-id-47 input.sk-toggleable__control:checked~div.sk-toggleable__content {max-height: 200px;max-width: 100%;overflow: auto;}#sk-container-id-47 input.sk-toggleable__control:checked~label.sk-toggleable__label-arrow:before {content: \"▾\";}#sk-container-id-47 div.sk-estimator input.sk-toggleable__control:checked~label.sk-toggleable__label {background-color: #d4ebff;}#sk-container-id-47 div.sk-label input.sk-toggleable__control:checked~label.sk-toggleable__label {background-color: #d4ebff;}#sk-container-id-47 input.sk-hidden--visually {border: 0;clip: rect(1px 1px 1px 1px);clip: rect(1px, 1px, 1px, 1px);height: 1px;margin: -1px;overflow: hidden;padding: 0;position: absolute;width: 1px;}#sk-container-id-47 div.sk-estimator {font-family: monospace;background-color: #f0f8ff;border: 1px dotted black;border-radius: 0.25em;box-sizing: border-box;margin-bottom: 0.5em;}#sk-container-id-47 div.sk-estimator:hover {background-color: #d4ebff;}#sk-container-id-47 div.sk-parallel-item::after {content: \"\";width: 100%;border-bottom: 1px solid gray;flex-grow: 1;}#sk-container-id-47 div.sk-label:hover label.sk-toggleable__label {background-color: #d4ebff;}#sk-container-id-47 div.sk-serial::before {content: \"\";position: absolute;border-left: 1px solid gray;box-sizing: border-box;top: 0;bottom: 0;left: 50%;z-index: 0;}#sk-container-id-47 div.sk-serial {display: flex;flex-direction: column;align-items: center;background-color: white;padding-right: 0.2em;padding-left: 0.2em;position: relative;}#sk-container-id-47 div.sk-item {position: relative;z-index: 1;}#sk-container-id-47 div.sk-parallel {display: flex;align-items: stretch;justify-content: center;background-color: white;position: relative;}#sk-container-id-47 div.sk-item::before, #sk-container-id-47 div.sk-parallel-item::before {content: \"\";position: absolute;border-left: 1px solid gray;box-sizing: border-box;top: 0;bottom: 0;left: 50%;z-index: -1;}#sk-container-id-47 div.sk-parallel-item {display: flex;flex-direction: column;z-index: 1;position: relative;background-color: white;}#sk-container-id-47 div.sk-parallel-item:first-child::after {align-self: flex-end;width: 50%;}#sk-container-id-47 div.sk-parallel-item:last-child::after {align-self: flex-start;width: 50%;}#sk-container-id-47 div.sk-parallel-item:only-child::after {width: 0;}#sk-container-id-47 div.sk-dashed-wrapped {border: 1px dashed gray;margin: 0 0.4em 0.5em 0.4em;box-sizing: border-box;padding-bottom: 0.4em;background-color: white;}#sk-container-id-47 div.sk-label label {font-family: monospace;font-weight: bold;display: inline-block;line-height: 1.2em;}#sk-container-id-47 div.sk-label-container {text-align: center;}#sk-container-id-47 div.sk-container {/* jupyter's `normalize.less` sets `[hidden] { display: none; }` but bootstrap.min.css set `[hidden] { display: none !important; }` so we also need the `!important` here to be able to override the default hidden behavior on the sphinx rendered scikit-learn.org. See: https://github.com/scikit-learn/scikit-learn/issues/21755 */display: inline-block !important;position: relative;}#sk-container-id-47 div.sk-text-repr-fallback {display: none;}</style><div id=\"sk-container-id-47\" class=\"sk-top-container\"><div class=\"sk-text-repr-fallback\"><pre>RandomForestClassifier(criterion=&#x27;entropy&#x27;, random_state=12)</pre><b>In a Jupyter environment, please rerun this cell to show the HTML representation or trust the notebook. <br />On GitHub, the HTML representation is unable to render, please try loading this page with nbviewer.org.</b></div><div class=\"sk-container\" hidden><div class=\"sk-item\"><div class=\"sk-estimator sk-toggleable\"><input class=\"sk-toggleable__control sk-hidden--visually\" id=\"sk-estimator-id-53\" type=\"checkbox\" checked><label for=\"sk-estimator-id-53\" class=\"sk-toggleable__label sk-toggleable__label-arrow\">RandomForestClassifier</label><div class=\"sk-toggleable__content\"><pre>RandomForestClassifier(criterion=&#x27;entropy&#x27;, random_state=12)</pre></div></div></div></div></div>"
      ],
      "text/plain": [
       "RandomForestClassifier(criterion='entropy', random_state=12)"
      ]
     },
     "execution_count": 152,
     "metadata": {},
     "output_type": "execute_result"
    }
   ],
   "source": [
    "from sklearn.ensemble import RandomForestClassifier\n",
    "\n",
    "execute_ml(RandomForestClassifier(bootstrap = True,\n",
    "                                  criterion='entropy',\n",
    "                                  max_features = 'sqrt',\n",
    "                                  random_state=12),\n",
    "           X_train, y_train, X_test, y_test)"
   ]
  },
  {
   "cell_type": "markdown",
   "id": "0b879ffc",
   "metadata": {
    "papermill": {
     "duration": 0.015566,
     "end_time": "2022-10-03T18:29:51.088016",
     "exception": false,
     "start_time": "2022-10-03T18:29:51.072450",
     "status": "completed"
    },
    "tags": []
   },
   "source": [
    "### Gradient Boosting classifier"
   ]
  },
  {
   "cell_type": "code",
   "execution_count": 153,
   "id": "3d986e80",
   "metadata": {
    "papermill": {
     "duration": 34.251393,
     "end_time": "2022-10-03T18:30:25.355372",
     "exception": false,
     "start_time": "2022-10-03T18:29:51.103979",
     "status": "completed"
    },
    "tags": []
   },
   "outputs": [
    {
     "name": "stdout",
     "output_type": "stream",
     "text": [
      "              precision    recall  f1-score   support\n",
      "\n",
      "           0       0.82      0.92      0.87       110\n",
      "           1       0.84      0.68      0.75        69\n",
      "\n",
      "    accuracy                           0.83       179\n",
      "   macro avg       0.83      0.80      0.81       179\n",
      "weighted avg       0.83      0.83      0.82       179\n",
      "\n"
     ]
    },
    {
     "data": {
      "image/png": "[encoded data removed]",
      "text/plain": [
       "<Figure size 640x480 with 2 Axes>"
      ]
     },
     "metadata": {},
     "output_type": "display_data"
    },
    {
     "data": {
      "text/html": [
       "<style>#sk-container-id-48 {color: black;background-color: white;}#sk-container-id-48 pre{padding: 0;}#sk-container-id-48 div.sk-toggleable {background-color: white;}#sk-container-id-48 label.sk-toggleable__label {cursor: pointer;display: block;width: 100%;margin-bottom: 0;padding: 0.3em;box-sizing: border-box;text-align: center;}#sk-container-id-48 label.sk-toggleable__label-arrow:before {content: \"▸\";float: left;margin-right: 0.25em;color: #696969;}#sk-container-id-48 label.sk-toggleable__label-arrow:hover:before {color: black;}#sk-container-id-48 div.sk-estimator:hover label.sk-toggleable__label-arrow:before {color: black;}#sk-container-id-48 div.sk-toggleable__content {max-height: 0;max-width: 0;overflow: hidden;text-align: left;background-color: #f0f8ff;}#sk-container-id-48 div.sk-toggleable__content pre {margin: 0.2em;color: black;border-radius: 0.25em;background-color: #f0f8ff;}#sk-container-id-48 input.sk-toggleable__control:checked~div.sk-toggleable__content {max-height: 200px;max-width: 100%;overflow: auto;}#sk-container-id-48 input.sk-toggleable__control:checked~label.sk-toggleable__label-arrow:before {content: \"▾\";}#sk-container-id-48 div.sk-estimator input.sk-toggleable__control:checked~label.sk-toggleable__label {background-color: #d4ebff;}#sk-container-id-48 div.sk-label input.sk-toggleable__control:checked~label.sk-toggleable__label {background-color: #d4ebff;}#sk-container-id-48 input.sk-hidden--visually {border: 0;clip: rect(1px 1px 1px 1px);clip: rect(1px, 1px, 1px, 1px);height: 1px;margin: -1px;overflow: hidden;padding: 0;position: absolute;width: 1px;}#sk-container-id-48 div.sk-estimator {font-family: monospace;background-color: #f0f8ff;border: 1px dotted black;border-radius: 0.25em;box-sizing: border-box;margin-bottom: 0.5em;}#sk-container-id-48 div.sk-estimator:hover {background-color: #d4ebff;}#sk-container-id-48 div.sk-parallel-item::after {content: \"\";width: 100%;border-bottom: 1px solid gray;flex-grow: 1;}#sk-container-id-48 div.sk-label:hover label.sk-toggleable__label {background-color: #d4ebff;}#sk-container-id-48 div.sk-serial::before {content: \"\";position: absolute;border-left: 1px solid gray;box-sizing: border-box;top: 0;bottom: 0;left: 50%;z-index: 0;}#sk-container-id-48 div.sk-serial {display: flex;flex-direction: column;align-items: center;background-color: white;padding-right: 0.2em;padding-left: 0.2em;position: relative;}#sk-container-id-48 div.sk-item {position: relative;z-index: 1;}#sk-container-id-48 div.sk-parallel {display: flex;align-items: stretch;justify-content: center;background-color: white;position: relative;}#sk-container-id-48 div.sk-item::before, #sk-container-id-48 div.sk-parallel-item::before {content: \"\";position: absolute;border-left: 1px solid gray;box-sizing: border-box;top: 0;bottom: 0;left: 50%;z-index: -1;}#sk-container-id-48 div.sk-parallel-item {display: flex;flex-direction: column;z-index: 1;position: relative;background-color: white;}#sk-container-id-48 div.sk-parallel-item:first-child::after {align-self: flex-end;width: 50%;}#sk-container-id-48 div.sk-parallel-item:last-child::after {align-self: flex-start;width: 50%;}#sk-container-id-48 div.sk-parallel-item:only-child::after {width: 0;}#sk-container-id-48 div.sk-dashed-wrapped {border: 1px dashed gray;margin: 0 0.4em 0.5em 0.4em;box-sizing: border-box;padding-bottom: 0.4em;background-color: white;}#sk-container-id-48 div.sk-label label {font-family: monospace;font-weight: bold;display: inline-block;line-height: 1.2em;}#sk-container-id-48 div.sk-label-container {text-align: center;}#sk-container-id-48 div.sk-container {/* jupyter's `normalize.less` sets `[hidden] { display: none; }` but bootstrap.min.css set `[hidden] { display: none !important; }` so we also need the `!important` here to be able to override the default hidden behavior on the sphinx rendered scikit-learn.org. See: https://github.com/scikit-learn/scikit-learn/issues/21755 */display: inline-block !important;position: relative;}#sk-container-id-48 div.sk-text-repr-fallback {display: none;}</style><div id=\"sk-container-id-48\" class=\"sk-top-container\"><div class=\"sk-text-repr-fallback\"><pre>GradientBoostingClassifier()</pre><b>In a Jupyter environment, please rerun this cell to show the HTML representation or trust the notebook. <br />On GitHub, the HTML representation is unable to render, please try loading this page with nbviewer.org.</b></div><div class=\"sk-container\" hidden><div class=\"sk-item\"><div class=\"sk-estimator sk-toggleable\"><input class=\"sk-toggleable__control sk-hidden--visually\" id=\"sk-estimator-id-54\" type=\"checkbox\" checked><label for=\"sk-estimator-id-54\" class=\"sk-toggleable__label sk-toggleable__label-arrow\">GradientBoostingClassifier</label><div class=\"sk-toggleable__content\"><pre>GradientBoostingClassifier()</pre></div></div></div></div></div>"
      ],
      "text/plain": [
       "GradientBoostingClassifier()"
      ]
     },
     "execution_count": 153,
     "metadata": {},
     "output_type": "execute_result"
    }
   ],
   "source": [
    "from sklearn.ensemble import GradientBoostingClassifier\n",
    "\n",
    "execute_ml(GradientBoostingClassifier(),\n",
    "           X_train, y_train, X_test, y_test)"
   ]
  },
  {
   "cell_type": "markdown",
   "id": "6b60415f",
   "metadata": {
    "papermill": {
     "duration": 0.015662,
     "end_time": "2022-10-03T18:30:25.386960",
     "exception": false,
     "start_time": "2022-10-03T18:30:25.371298",
     "status": "completed"
    },
    "tags": []
   },
   "source": [
    "### AdaBoost classifier"
   ]
  },
  {
   "cell_type": "code",
   "execution_count": 154,
   "id": "84f74ba4",
   "metadata": {
    "papermill": {
     "duration": 28.71285,
     "end_time": "2022-10-03T18:30:54.115572",
     "exception": false,
     "start_time": "2022-10-03T18:30:25.402722",
     "status": "completed"
    },
    "tags": []
   },
   "outputs": [
    {
     "name": "stdout",
     "output_type": "stream",
     "text": [
      "              precision    recall  f1-score   support\n",
      "\n",
      "           0       0.85      0.85      0.85       110\n",
      "           1       0.76      0.77      0.76        69\n",
      "\n",
      "    accuracy                           0.82       179\n",
      "   macro avg       0.81      0.81      0.81       179\n",
      "weighted avg       0.82      0.82      0.82       179\n",
      "\n"
     ]
    },
    {
     "data": {
      "image/png": "[encoded data removed]",
      "text/plain": [
       "<Figure size 640x480 with 2 Axes>"
      ]
     },
     "metadata": {},
     "output_type": "display_data"
    },
    {
     "data": {
      "text/html": [
       "<style>#sk-container-id-49 {color: black;background-color: white;}#sk-container-id-49 pre{padding: 0;}#sk-container-id-49 div.sk-toggleable {background-color: white;}#sk-container-id-49 label.sk-toggleable__label {cursor: pointer;display: block;width: 100%;margin-bottom: 0;padding: 0.3em;box-sizing: border-box;text-align: center;}#sk-container-id-49 label.sk-toggleable__label-arrow:before {content: \"▸\";float: left;margin-right: 0.25em;color: #696969;}#sk-container-id-49 label.sk-toggleable__label-arrow:hover:before {color: black;}#sk-container-id-49 div.sk-estimator:hover label.sk-toggleable__label-arrow:before {color: black;}#sk-container-id-49 div.sk-toggleable__content {max-height: 0;max-width: 0;overflow: hidden;text-align: left;background-color: #f0f8ff;}#sk-container-id-49 div.sk-toggleable__content pre {margin: 0.2em;color: black;border-radius: 0.25em;background-color: #f0f8ff;}#sk-container-id-49 input.sk-toggleable__control:checked~div.sk-toggleable__content {max-height: 200px;max-width: 100%;overflow: auto;}#sk-container-id-49 input.sk-toggleable__control:checked~label.sk-toggleable__label-arrow:before {content: \"▾\";}#sk-container-id-49 div.sk-estimator input.sk-toggleable__control:checked~label.sk-toggleable__label {background-color: #d4ebff;}#sk-container-id-49 div.sk-label input.sk-toggleable__control:checked~label.sk-toggleable__label {background-color: #d4ebff;}#sk-container-id-49 input.sk-hidden--visually {border: 0;clip: rect(1px 1px 1px 1px);clip: rect(1px, 1px, 1px, 1px);height: 1px;margin: -1px;overflow: hidden;padding: 0;position: absolute;width: 1px;}#sk-container-id-49 div.sk-estimator {font-family: monospace;background-color: #f0f8ff;border: 1px dotted black;border-radius: 0.25em;box-sizing: border-box;margin-bottom: 0.5em;}#sk-container-id-49 div.sk-estimator:hover {background-color: #d4ebff;}#sk-container-id-49 div.sk-parallel-item::after {content: \"\";width: 100%;border-bottom: 1px solid gray;flex-grow: 1;}#sk-container-id-49 div.sk-label:hover label.sk-toggleable__label {background-color: #d4ebff;}#sk-container-id-49 div.sk-serial::before {content: \"\";position: absolute;border-left: 1px solid gray;box-sizing: border-box;top: 0;bottom: 0;left: 50%;z-index: 0;}#sk-container-id-49 div.sk-serial {display: flex;flex-direction: column;align-items: center;background-color: white;padding-right: 0.2em;padding-left: 0.2em;position: relative;}#sk-container-id-49 div.sk-item {position: relative;z-index: 1;}#sk-container-id-49 div.sk-parallel {display: flex;align-items: stretch;justify-content: center;background-color: white;position: relative;}#sk-container-id-49 div.sk-item::before, #sk-container-id-49 div.sk-parallel-item::before {content: \"\";position: absolute;border-left: 1px solid gray;box-sizing: border-box;top: 0;bottom: 0;left: 50%;z-index: -1;}#sk-container-id-49 div.sk-parallel-item {display: flex;flex-direction: column;z-index: 1;position: relative;background-color: white;}#sk-container-id-49 div.sk-parallel-item:first-child::after {align-self: flex-end;width: 50%;}#sk-container-id-49 div.sk-parallel-item:last-child::after {align-self: flex-start;width: 50%;}#sk-container-id-49 div.sk-parallel-item:only-child::after {width: 0;}#sk-container-id-49 div.sk-dashed-wrapped {border: 1px dashed gray;margin: 0 0.4em 0.5em 0.4em;box-sizing: border-box;padding-bottom: 0.4em;background-color: white;}#sk-container-id-49 div.sk-label label {font-family: monospace;font-weight: bold;display: inline-block;line-height: 1.2em;}#sk-container-id-49 div.sk-label-container {text-align: center;}#sk-container-id-49 div.sk-container {/* jupyter's `normalize.less` sets `[hidden] { display: none; }` but bootstrap.min.css set `[hidden] { display: none !important; }` so we also need the `!important` here to be able to override the default hidden behavior on the sphinx rendered scikit-learn.org. See: https://github.com/scikit-learn/scikit-learn/issues/21755 */display: inline-block !important;position: relative;}#sk-container-id-49 div.sk-text-repr-fallback {display: none;}</style><div id=\"sk-container-id-49\" class=\"sk-top-container\"><div class=\"sk-text-repr-fallback\"><pre>AdaBoostClassifier(n_estimators=200, random_state=12)</pre><b>In a Jupyter environment, please rerun this cell to show the HTML representation or trust the notebook. <br />On GitHub, the HTML representation is unable to render, please try loading this page with nbviewer.org.</b></div><div class=\"sk-container\" hidden><div class=\"sk-item\"><div class=\"sk-estimator sk-toggleable\"><input class=\"sk-toggleable__control sk-hidden--visually\" id=\"sk-estimator-id-55\" type=\"checkbox\" checked><label for=\"sk-estimator-id-55\" class=\"sk-toggleable__label sk-toggleable__label-arrow\">AdaBoostClassifier</label><div class=\"sk-toggleable__content\"><pre>AdaBoostClassifier(n_estimators=200, random_state=12)</pre></div></div></div></div></div>"
      ],
      "text/plain": [
       "AdaBoostClassifier(n_estimators=200, random_state=12)"
      ]
     },
     "execution_count": 154,
     "metadata": {},
     "output_type": "execute_result"
    }
   ],
   "source": [
    "from sklearn.ensemble import AdaBoostClassifier\n",
    "\n",
    "execute_ml(AdaBoostClassifier(n_estimators=200, random_state=12),\n",
    "           X_train, y_train, X_test, y_test)"
   ]
  },
  {
   "cell_type": "markdown",
   "id": "b1b596e6",
   "metadata": {
    "papermill": {
     "duration": 0.01609,
     "end_time": "2022-10-03T18:30:54.148298",
     "exception": false,
     "start_time": "2022-10-03T18:30:54.132208",
     "status": "completed"
    },
    "tags": []
   },
   "source": [
    "### XGBoost classifier"
   ]
  },
  {
   "cell_type": "code",
   "execution_count": 155,
   "id": "43943027",
   "metadata": {
    "papermill": {
     "duration": 5.808681,
     "end_time": "2022-10-03T18:30:59.974886",
     "exception": false,
     "start_time": "2022-10-03T18:30:54.166205",
     "status": "completed"
    },
    "tags": []
   },
   "outputs": [
    {
     "name": "stdout",
     "output_type": "stream",
     "text": [
      "[15:05:14] WARNING: C:/Users/administrator/workspace/xgboost-win64_release_1.6.0/src/learner.cc:627: \n",
      "Parameters: { \"cv\" } might not be used.\n",
      "\n",
      "  This could be a false alarm, with some parameters getting used by language bindings but\n",
      "  then being mistakenly passed down to XGBoost core, or some parameter actually being used\n",
      "  but getting flagged wrongly here. Please open an issue if you find any such cases.\n",
      "\n",
      "\n",
      "              precision    recall  f1-score   support\n",
      "\n",
      "           0       0.82      0.87      0.85       110\n",
      "           1       0.77      0.70      0.73        69\n",
      "\n",
      "    accuracy                           0.80       179\n",
      "   macro avg       0.80      0.78      0.79       179\n",
      "weighted avg       0.80      0.80      0.80       179\n",
      "\n"
     ]
    },
    {
     "data": {
      "image/png": "[encoded data removed]",
      "text/plain": [
       "<Figure size 640x480 with 2 Axes>"
      ]
     },
     "metadata": {},
     "output_type": "display_data"
    },
    {
     "data": {
      "text/html": [
       "<style>#sk-container-id-50 {color: black;background-color: white;}#sk-container-id-50 pre{padding: 0;}#sk-container-id-50 div.sk-toggleable {background-color: white;}#sk-container-id-50 label.sk-toggleable__label {cursor: pointer;display: block;width: 100%;margin-bottom: 0;padding: 0.3em;box-sizing: border-box;text-align: center;}#sk-container-id-50 label.sk-toggleable__label-arrow:before {content: \"▸\";float: left;margin-right: 0.25em;color: #696969;}#sk-container-id-50 label.sk-toggleable__label-arrow:hover:before {color: black;}#sk-container-id-50 div.sk-estimator:hover label.sk-toggleable__label-arrow:before {color: black;}#sk-container-id-50 div.sk-toggleable__content {max-height: 0;max-width: 0;overflow: hidden;text-align: left;background-color: #f0f8ff;}#sk-container-id-50 div.sk-toggleable__content pre {margin: 0.2em;color: black;border-radius: 0.25em;background-color: #f0f8ff;}#sk-container-id-50 input.sk-toggleable__control:checked~div.sk-toggleable__content {max-height: 200px;max-width: 100%;overflow: auto;}#sk-container-id-50 input.sk-toggleable__control:checked~label.sk-toggleable__label-arrow:before {content: \"▾\";}#sk-container-id-50 div.sk-estimator input.sk-toggleable__control:checked~label.sk-toggleable__label {background-color: #d4ebff;}#sk-container-id-50 div.sk-label input.sk-toggleable__control:checked~label.sk-toggleable__label {background-color: #d4ebff;}#sk-container-id-50 input.sk-hidden--visually {border: 0;clip: rect(1px 1px 1px 1px);clip: rect(1px, 1px, 1px, 1px);height: 1px;margin: -1px;overflow: hidden;padding: 0;position: absolute;width: 1px;}#sk-container-id-50 div.sk-estimator {font-family: monospace;background-color: #f0f8ff;border: 1px dotted black;border-radius: 0.25em;box-sizing: border-box;margin-bottom: 0.5em;}#sk-container-id-50 div.sk-estimator:hover {background-color: #d4ebff;}#sk-container-id-50 div.sk-parallel-item::after {content: \"\";width: 100%;border-bottom: 1px solid gray;flex-grow: 1;}#sk-container-id-50 div.sk-label:hover label.sk-toggleable__label {background-color: #d4ebff;}#sk-container-id-50 div.sk-serial::before {content: \"\";position: absolute;border-left: 1px solid gray;box-sizing: border-box;top: 0;bottom: 0;left: 50%;z-index: 0;}#sk-container-id-50 div.sk-serial {display: flex;flex-direction: column;align-items: center;background-color: white;padding-right: 0.2em;padding-left: 0.2em;position: relative;}#sk-container-id-50 div.sk-item {position: relative;z-index: 1;}#sk-container-id-50 div.sk-parallel {display: flex;align-items: stretch;justify-content: center;background-color: white;position: relative;}#sk-container-id-50 div.sk-item::before, #sk-container-id-50 div.sk-parallel-item::before {content: \"\";position: absolute;border-left: 1px solid gray;box-sizing: border-box;top: 0;bottom: 0;left: 50%;z-index: -1;}#sk-container-id-50 div.sk-parallel-item {display: flex;flex-direction: column;z-index: 1;position: relative;background-color: white;}#sk-container-id-50 div.sk-parallel-item:first-child::after {align-self: flex-end;width: 50%;}#sk-container-id-50 div.sk-parallel-item:last-child::after {align-self: flex-start;width: 50%;}#sk-container-id-50 div.sk-parallel-item:only-child::after {width: 0;}#sk-container-id-50 div.sk-dashed-wrapped {border: 1px dashed gray;margin: 0 0.4em 0.5em 0.4em;box-sizing: border-box;padding-bottom: 0.4em;background-color: white;}#sk-container-id-50 div.sk-label label {font-family: monospace;font-weight: bold;display: inline-block;line-height: 1.2em;}#sk-container-id-50 div.sk-label-container {text-align: center;}#sk-container-id-50 div.sk-container {/* jupyter's `normalize.less` sets `[hidden] { display: none; }` but bootstrap.min.css set `[hidden] { display: none !important; }` so we also need the `!important` here to be able to override the default hidden behavior on the sphinx rendered scikit-learn.org. See: https://github.com/scikit-learn/scikit-learn/issues/21755 */display: inline-block !important;position: relative;}#sk-container-id-50 div.sk-text-repr-fallback {display: none;}</style><div id=\"sk-container-id-50\" class=\"sk-top-container\"><div class=\"sk-text-repr-fallback\"><pre>XGBClassifier(base_score=0.5, booster=&#x27;gbtree&#x27;, callbacks=None,\n",
       "              colsample_bylevel=1, colsample_bynode=1, colsample_bytree=1,\n",
       "              cv=RepeatedStratifiedKFold(n_repeats=2, n_splits=10, random_state=12),\n",
       "              early_stopping_rounds=None, enable_categorical=False,\n",
       "              eval_metric=None, gamma=0, gpu_id=-1, grow_policy=&#x27;depthwise&#x27;,\n",
       "              importance_type=None, interaction_constraints=&#x27;&#x27;,\n",
       "              learning_rate=0.01, max_bin=256, max_cat_to_onehot=4,\n",
       "              max_delta_step=0, max_depth=6, max_leaves=0, min_child_weight=1,\n",
       "              missing=nan, monotone_constraints=&#x27;()&#x27;, n_estimators=100,\n",
       "              n_jobs=0, num_parallel_tree=1, predictor=&#x27;auto&#x27;, random_state=0,\n",
       "              reg_alpha=0, ...)</pre><b>In a Jupyter environment, please rerun this cell to show the HTML representation or trust the notebook. <br />On GitHub, the HTML representation is unable to render, please try loading this page with nbviewer.org.</b></div><div class=\"sk-container\" hidden><div class=\"sk-item\"><div class=\"sk-estimator sk-toggleable\"><input class=\"sk-toggleable__control sk-hidden--visually\" id=\"sk-estimator-id-56\" type=\"checkbox\" checked><label for=\"sk-estimator-id-56\" class=\"sk-toggleable__label sk-toggleable__label-arrow\">XGBClassifier</label><div class=\"sk-toggleable__content\"><pre>XGBClassifier(base_score=0.5, booster=&#x27;gbtree&#x27;, callbacks=None,\n",
       "              colsample_bylevel=1, colsample_bynode=1, colsample_bytree=1,\n",
       "              cv=RepeatedStratifiedKFold(n_repeats=2, n_splits=10, random_state=12),\n",
       "              early_stopping_rounds=None, enable_categorical=False,\n",
       "              eval_metric=None, gamma=0, gpu_id=-1, grow_policy=&#x27;depthwise&#x27;,\n",
       "              importance_type=None, interaction_constraints=&#x27;&#x27;,\n",
       "              learning_rate=0.01, max_bin=256, max_cat_to_onehot=4,\n",
       "              max_delta_step=0, max_depth=6, max_leaves=0, min_child_weight=1,\n",
       "              missing=nan, monotone_constraints=&#x27;()&#x27;, n_estimators=100,\n",
       "              n_jobs=0, num_parallel_tree=1, predictor=&#x27;auto&#x27;, random_state=0,\n",
       "              reg_alpha=0, ...)</pre></div></div></div></div></div>"
      ],
      "text/plain": [
       "XGBClassifier(base_score=0.5, booster='gbtree', callbacks=None,\n",
       "              colsample_bylevel=1, colsample_bynode=1, colsample_bytree=1,\n",
       "              cv=RepeatedStratifiedKFold(n_repeats=2, n_splits=10, random_state=12),\n",
       "              early_stopping_rounds=None, enable_categorical=False,\n",
       "              eval_metric=None, gamma=0, gpu_id=-1, grow_policy='depthwise',\n",
       "              importance_type=None, interaction_constraints='',\n",
       "              learning_rate=0.01, max_bin=256, max_cat_to_onehot=4,\n",
       "              max_delta_step=0, max_depth=6, max_leaves=0, min_child_weight=1,\n",
       "              missing=nan, monotone_constraints='()', n_estimators=100,\n",
       "              n_jobs=0, num_parallel_tree=1, predictor='auto', random_state=0,\n",
       "              reg_alpha=0, ...)"
      ]
     },
     "execution_count": 155,
     "metadata": {},
     "output_type": "execute_result"
    }
   ],
   "source": [
    "from xgboost import XGBClassifier\n",
    "from sklearn.model_selection import RepeatedStratifiedKFold\n",
    "\n",
    "execute_ml(XGBClassifier(cv=RepeatedStratifiedKFold(n_splits=10, n_repeats=2, random_state=12),\n",
    "                         learning_rate=0.01),\n",
    "           X_train, y_train, X_test, y_test)"
   ]
  },
  {
   "cell_type": "markdown",
   "id": "a2b8b8db-6d3d-4fb4-be05-fd8e4348298b",
   "metadata": {},
   "source": [
    "### HistGradientBoost classifier"
   ]
  },
  {
   "cell_type": "code",
   "execution_count": 156,
   "id": "8d0b2866-5d0c-4ffc-a4b8-ecbc046c17db",
   "metadata": {},
   "outputs": [
    {
     "name": "stdout",
     "output_type": "stream",
     "text": [
      "              precision    recall  f1-score   support\n",
      "\n",
      "           0       0.81      0.85      0.83       110\n",
      "           1       0.75      0.68      0.71        69\n",
      "\n",
      "    accuracy                           0.79       179\n",
      "   macro avg       0.78      0.77      0.77       179\n",
      "weighted avg       0.79      0.79      0.79       179\n",
      "\n"
     ]
    },
    {
     "data": {
      "image/png": "[encoded data removed]",
      "text/plain": [
       "<Figure size 640x480 with 2 Axes>"
      ]
     },
     "metadata": {},
     "output_type": "display_data"
    },
    {
     "data": {
      "text/html": [
       "<style>#sk-container-id-51 {color: black;background-color: white;}#sk-container-id-51 pre{padding: 0;}#sk-container-id-51 div.sk-toggleable {background-color: white;}#sk-container-id-51 label.sk-toggleable__label {cursor: pointer;display: block;width: 100%;margin-bottom: 0;padding: 0.3em;box-sizing: border-box;text-align: center;}#sk-container-id-51 label.sk-toggleable__label-arrow:before {content: \"▸\";float: left;margin-right: 0.25em;color: #696969;}#sk-container-id-51 label.sk-toggleable__label-arrow:hover:before {color: black;}#sk-container-id-51 div.sk-estimator:hover label.sk-toggleable__label-arrow:before {color: black;}#sk-container-id-51 div.sk-toggleable__content {max-height: 0;max-width: 0;overflow: hidden;text-align: left;background-color: #f0f8ff;}#sk-container-id-51 div.sk-toggleable__content pre {margin: 0.2em;color: black;border-radius: 0.25em;background-color: #f0f8ff;}#sk-container-id-51 input.sk-toggleable__control:checked~div.sk-toggleable__content {max-height: 200px;max-width: 100%;overflow: auto;}#sk-container-id-51 input.sk-toggleable__control:checked~label.sk-toggleable__label-arrow:before {content: \"▾\";}#sk-container-id-51 div.sk-estimator input.sk-toggleable__control:checked~label.sk-toggleable__label {background-color: #d4ebff;}#sk-container-id-51 div.sk-label input.sk-toggleable__control:checked~label.sk-toggleable__label {background-color: #d4ebff;}#sk-container-id-51 input.sk-hidden--visually {border: 0;clip: rect(1px 1px 1px 1px);clip: rect(1px, 1px, 1px, 1px);height: 1px;margin: -1px;overflow: hidden;padding: 0;position: absolute;width: 1px;}#sk-container-id-51 div.sk-estimator {font-family: monospace;background-color: #f0f8ff;border: 1px dotted black;border-radius: 0.25em;box-sizing: border-box;margin-bottom: 0.5em;}#sk-container-id-51 div.sk-estimator:hover {background-color: #d4ebff;}#sk-container-id-51 div.sk-parallel-item::after {content: \"\";width: 100%;border-bottom: 1px solid gray;flex-grow: 1;}#sk-container-id-51 div.sk-label:hover label.sk-toggleable__label {background-color: #d4ebff;}#sk-container-id-51 div.sk-serial::before {content: \"\";position: absolute;border-left: 1px solid gray;box-sizing: border-box;top: 0;bottom: 0;left: 50%;z-index: 0;}#sk-container-id-51 div.sk-serial {display: flex;flex-direction: column;align-items: center;background-color: white;padding-right: 0.2em;padding-left: 0.2em;position: relative;}#sk-container-id-51 div.sk-item {position: relative;z-index: 1;}#sk-container-id-51 div.sk-parallel {display: flex;align-items: stretch;justify-content: center;background-color: white;position: relative;}#sk-container-id-51 div.sk-item::before, #sk-container-id-51 div.sk-parallel-item::before {content: \"\";position: absolute;border-left: 1px solid gray;box-sizing: border-box;top: 0;bottom: 0;left: 50%;z-index: -1;}#sk-container-id-51 div.sk-parallel-item {display: flex;flex-direction: column;z-index: 1;position: relative;background-color: white;}#sk-container-id-51 div.sk-parallel-item:first-child::after {align-self: flex-end;width: 50%;}#sk-container-id-51 div.sk-parallel-item:last-child::after {align-self: flex-start;width: 50%;}#sk-container-id-51 div.sk-parallel-item:only-child::after {width: 0;}#sk-container-id-51 div.sk-dashed-wrapped {border: 1px dashed gray;margin: 0 0.4em 0.5em 0.4em;box-sizing: border-box;padding-bottom: 0.4em;background-color: white;}#sk-container-id-51 div.sk-label label {font-family: monospace;font-weight: bold;display: inline-block;line-height: 1.2em;}#sk-container-id-51 div.sk-label-container {text-align: center;}#sk-container-id-51 div.sk-container {/* jupyter's `normalize.less` sets `[hidden] { display: none; }` but bootstrap.min.css set `[hidden] { display: none !important; }` so we also need the `!important` here to be able to override the default hidden behavior on the sphinx rendered scikit-learn.org. See: https://github.com/scikit-learn/scikit-learn/issues/21755 */display: inline-block !important;position: relative;}#sk-container-id-51 div.sk-text-repr-fallback {display: none;}</style><div id=\"sk-container-id-51\" class=\"sk-top-container\"><div class=\"sk-text-repr-fallback\"><pre>HistGradientBoostingClassifier()</pre><b>In a Jupyter environment, please rerun this cell to show the HTML representation or trust the notebook. <br />On GitHub, the HTML representation is unable to render, please try loading this page with nbviewer.org.</b></div><div class=\"sk-container\" hidden><div class=\"sk-item\"><div class=\"sk-estimator sk-toggleable\"><input class=\"sk-toggleable__control sk-hidden--visually\" id=\"sk-estimator-id-57\" type=\"checkbox\" checked><label for=\"sk-estimator-id-57\" class=\"sk-toggleable__label sk-toggleable__label-arrow\">HistGradientBoostingClassifier</label><div class=\"sk-toggleable__content\"><pre>HistGradientBoostingClassifier()</pre></div></div></div></div></div>"
      ],
      "text/plain": [
       "HistGradientBoostingClassifier()"
      ]
     },
     "execution_count": 156,
     "metadata": {},
     "output_type": "execute_result"
    }
   ],
   "source": [
    "from sklearn.ensemble import HistGradientBoostingClassifier\n",
    "\n",
    "execute_ml(HistGradientBoostingClassifier(),\n",
    "           X_train, y_train, X_test, y_test)"
   ]
  },
  {
   "cell_type": "markdown",
   "id": "9dee53d5-da8e-44b9-8401-b2a4d16f60c4",
   "metadata": {},
   "source": [
    "### LightGBM classifier"
   ]
  },
  {
   "cell_type": "code",
   "execution_count": 157,
   "id": "5fd0f05d-6e3f-4750-b52b-573ed73d0355",
   "metadata": {},
   "outputs": [
    {
     "name": "stdout",
     "output_type": "stream",
     "text": [
      "              precision    recall  f1-score   support\n",
      "\n",
      "           0       0.82      0.85      0.83       110\n",
      "           1       0.74      0.70      0.72        69\n",
      "\n",
      "    accuracy                           0.79       179\n",
      "   macro avg       0.78      0.77      0.77       179\n",
      "weighted avg       0.79      0.79      0.79       179\n",
      "\n"
     ]
    },
    {
     "data": {
      "image/png": "[encoded data removed]",
      "text/plain": [
       "<Figure size 640x480 with 2 Axes>"
      ]
     },
     "metadata": {},
     "output_type": "display_data"
    },
    {
     "data": {
      "text/html": [
       "<style>#sk-container-id-52 {color: black;background-color: white;}#sk-container-id-52 pre{padding: 0;}#sk-container-id-52 div.sk-toggleable {background-color: white;}#sk-container-id-52 label.sk-toggleable__label {cursor: pointer;display: block;width: 100%;margin-bottom: 0;padding: 0.3em;box-sizing: border-box;text-align: center;}#sk-container-id-52 label.sk-toggleable__label-arrow:before {content: \"▸\";float: left;margin-right: 0.25em;color: #696969;}#sk-container-id-52 label.sk-toggleable__label-arrow:hover:before {color: black;}#sk-container-id-52 div.sk-estimator:hover label.sk-toggleable__label-arrow:before {color: black;}#sk-container-id-52 div.sk-toggleable__content {max-height: 0;max-width: 0;overflow: hidden;text-align: left;background-color: #f0f8ff;}#sk-container-id-52 div.sk-toggleable__content pre {margin: 0.2em;color: black;border-radius: 0.25em;background-color: #f0f8ff;}#sk-container-id-52 input.sk-toggleable__control:checked~div.sk-toggleable__content {max-height: 200px;max-width: 100%;overflow: auto;}#sk-container-id-52 input.sk-toggleable__control:checked~label.sk-toggleable__label-arrow:before {content: \"▾\";}#sk-container-id-52 div.sk-estimator input.sk-toggleable__control:checked~label.sk-toggleable__label {background-color: #d4ebff;}#sk-container-id-52 div.sk-label input.sk-toggleable__control:checked~label.sk-toggleable__label {background-color: #d4ebff;}#sk-container-id-52 input.sk-hidden--visually {border: 0;clip: rect(1px 1px 1px 1px);clip: rect(1px, 1px, 1px, 1px);height: 1px;margin: -1px;overflow: hidden;padding: 0;position: absolute;width: 1px;}#sk-container-id-52 div.sk-estimator {font-family: monospace;background-color: #f0f8ff;border: 1px dotted black;border-radius: 0.25em;box-sizing: border-box;margin-bottom: 0.5em;}#sk-container-id-52 div.sk-estimator:hover {background-color: #d4ebff;}#sk-container-id-52 div.sk-parallel-item::after {content: \"\";width: 100%;border-bottom: 1px solid gray;flex-grow: 1;}#sk-container-id-52 div.sk-label:hover label.sk-toggleable__label {background-color: #d4ebff;}#sk-container-id-52 div.sk-serial::before {content: \"\";position: absolute;border-left: 1px solid gray;box-sizing: border-box;top: 0;bottom: 0;left: 50%;z-index: 0;}#sk-container-id-52 div.sk-serial {display: flex;flex-direction: column;align-items: center;background-color: white;padding-right: 0.2em;padding-left: 0.2em;position: relative;}#sk-container-id-52 div.sk-item {position: relative;z-index: 1;}#sk-container-id-52 div.sk-parallel {display: flex;align-items: stretch;justify-content: center;background-color: white;position: relative;}#sk-container-id-52 div.sk-item::before, #sk-container-id-52 div.sk-parallel-item::before {content: \"\";position: absolute;border-left: 1px solid gray;box-sizing: border-box;top: 0;bottom: 0;left: 50%;z-index: -1;}#sk-container-id-52 div.sk-parallel-item {display: flex;flex-direction: column;z-index: 1;position: relative;background-color: white;}#sk-container-id-52 div.sk-parallel-item:first-child::after {align-self: flex-end;width: 50%;}#sk-container-id-52 div.sk-parallel-item:last-child::after {align-self: flex-start;width: 50%;}#sk-container-id-52 div.sk-parallel-item:only-child::after {width: 0;}#sk-container-id-52 div.sk-dashed-wrapped {border: 1px dashed gray;margin: 0 0.4em 0.5em 0.4em;box-sizing: border-box;padding-bottom: 0.4em;background-color: white;}#sk-container-id-52 div.sk-label label {font-family: monospace;font-weight: bold;display: inline-block;line-height: 1.2em;}#sk-container-id-52 div.sk-label-container {text-align: center;}#sk-container-id-52 div.sk-container {/* jupyter's `normalize.less` sets `[hidden] { display: none; }` but bootstrap.min.css set `[hidden] { display: none !important; }` so we also need the `!important` here to be able to override the default hidden behavior on the sphinx rendered scikit-learn.org. See: https://github.com/scikit-learn/scikit-learn/issues/21755 */display: inline-block !important;position: relative;}#sk-container-id-52 div.sk-text-repr-fallback {display: none;}</style><div id=\"sk-container-id-52\" class=\"sk-top-container\"><div class=\"sk-text-repr-fallback\"><pre>LGBMClassifier()</pre><b>In a Jupyter environment, please rerun this cell to show the HTML representation or trust the notebook. <br />On GitHub, the HTML representation is unable to render, please try loading this page with nbviewer.org.</b></div><div class=\"sk-container\" hidden><div class=\"sk-item\"><div class=\"sk-estimator sk-toggleable\"><input class=\"sk-toggleable__control sk-hidden--visually\" id=\"sk-estimator-id-58\" type=\"checkbox\" checked><label for=\"sk-estimator-id-58\" class=\"sk-toggleable__label sk-toggleable__label-arrow\">LGBMClassifier</label><div class=\"sk-toggleable__content\"><pre>LGBMClassifier()</pre></div></div></div></div></div>"
      ],
      "text/plain": [
       "LGBMClassifier()"
      ]
     },
     "execution_count": 157,
     "metadata": {},
     "output_type": "execute_result"
    }
   ],
   "source": [
    "from lightgbm import LGBMClassifier\n",
    "\n",
    "execute_ml(LGBMClassifier(),\n",
    "           X_train, y_train, X_test, y_test)"
   ]
  },
  {
   "cell_type": "markdown",
   "id": "7f474a12-350a-4184-96eb-e1924230fc08",
   "metadata": {},
   "source": [
    "### CatBoost classifier"
   ]
  },
  {
   "cell_type": "code",
   "execution_count": 158,
   "id": "00d95347-1009-452d-96bd-536e3c8d7a8e",
   "metadata": {},
   "outputs": [
    {
     "name": "stderr",
     "output_type": "stream",
     "text": [
      "C:\\Users\\Babak\\AppData\\Local\\Programs\\Python\\Python310\\lib\\site-packages\\catboost\\core.py:1419: FutureWarning: iteritems is deprecated and will be removed in a future version. Use .items instead.\n",
      "  self._init_pool(data, label, cat_features, text_features, embedding_features, embedding_features_data, pairs, weight,\n"
     ]
    },
    {
     "name": "stdout",
     "output_type": "stream",
     "text": [
      "Learning rate set to 0.008911\n",
      "0:\tlearn: 0.6866724\ttotal: 2.61ms\tremaining: 2.6s\n",
      "1:\tlearn: 0.6806610\ttotal: 4.33ms\tremaining: 2.16s\n",
      "2:\tlearn: 0.6750358\ttotal: 6.03ms\tremaining: 2s\n",
      "3:\tlearn: 0.6694004\ttotal: 7.76ms\tremaining: 1.93s\n",
      "4:\tlearn: 0.6634055\ttotal: 9.5ms\tremaining: 1.89s\n",
      "5:\tlearn: 0.6579198\ttotal: 11.2ms\tremaining: 1.86s\n",
      "6:\tlearn: 0.6529751\ttotal: 12.9ms\tremaining: 1.83s\n",
      "7:\tlearn: 0.6481077\ttotal: 14.8ms\tremaining: 1.83s\n",
      "8:\tlearn: 0.6443866\ttotal: 16.5ms\tremaining: 1.82s\n",
      "9:\tlearn: 0.6394508\ttotal: 18.3ms\tremaining: 1.81s\n",
      "10:\tlearn: 0.6347931\ttotal: 20.2ms\tremaining: 1.82s\n",
      "11:\tlearn: 0.6297719\ttotal: 22.3ms\tremaining: 1.84s\n",
      "12:\tlearn: 0.6247967\ttotal: 24.2ms\tremaining: 1.83s\n",
      "13:\tlearn: 0.6203597\ttotal: 25.7ms\tremaining: 1.81s\n",
      "14:\tlearn: 0.6164149\ttotal: 27.3ms\tremaining: 1.79s\n",
      "15:\tlearn: 0.6118850\ttotal: 28.8ms\tremaining: 1.77s\n",
      "16:\tlearn: 0.6072660\ttotal: 30.5ms\tremaining: 1.76s\n",
      "17:\tlearn: 0.6035924\ttotal: 32.1ms\tremaining: 1.75s\n",
      "18:\tlearn: 0.5996983\ttotal: 33.6ms\tremaining: 1.74s\n",
      "19:\tlearn: 0.5954694\ttotal: 35.1ms\tremaining: 1.72s\n",
      "20:\tlearn: 0.5916640\ttotal: 36.3ms\tremaining: 1.69s\n",
      "21:\tlearn: 0.5878001\ttotal: 37.9ms\tremaining: 1.68s\n",
      "22:\tlearn: 0.5833353\ttotal: 39.5ms\tremaining: 1.68s\n",
      "23:\tlearn: 0.5791507\ttotal: 41ms\tremaining: 1.67s\n",
      "24:\tlearn: 0.5749386\ttotal: 42.6ms\tremaining: 1.66s\n",
      "25:\tlearn: 0.5727815\ttotal: 43.8ms\tremaining: 1.64s\n",
      "26:\tlearn: 0.5688611\ttotal: 45.7ms\tremaining: 1.65s\n",
      "27:\tlearn: 0.5653493\ttotal: 47.5ms\tremaining: 1.65s\n",
      "28:\tlearn: 0.5616792\ttotal: 49.1ms\tremaining: 1.64s\n",
      "29:\tlearn: 0.5580270\ttotal: 50.6ms\tremaining: 1.64s\n",
      "30:\tlearn: 0.5554524\ttotal: 52.2ms\tremaining: 1.63s\n",
      "31:\tlearn: 0.5518008\ttotal: 53.7ms\tremaining: 1.63s\n",
      "32:\tlearn: 0.5486911\ttotal: 55.3ms\tremaining: 1.62s\n",
      "33:\tlearn: 0.5448833\ttotal: 56.9ms\tremaining: 1.62s\n",
      "34:\tlearn: 0.5415568\ttotal: 58.4ms\tremaining: 1.61s\n",
      "35:\tlearn: 0.5386798\ttotal: 60ms\tremaining: 1.61s\n",
      "36:\tlearn: 0.5363295\ttotal: 61.7ms\tremaining: 1.6s\n",
      "37:\tlearn: 0.5333594\ttotal: 63.3ms\tremaining: 1.6s\n",
      "38:\tlearn: 0.5319237\ttotal: 64ms\tremaining: 1.58s\n",
      "39:\tlearn: 0.5299673\ttotal: 65.6ms\tremaining: 1.57s\n",
      "40:\tlearn: 0.5284821\ttotal: 66.6ms\tremaining: 1.56s\n",
      "41:\tlearn: 0.5259571\ttotal: 68.2ms\tremaining: 1.56s\n",
      "42:\tlearn: 0.5231467\ttotal: 69.8ms\tremaining: 1.55s\n",
      "43:\tlearn: 0.5212528\ttotal: 71.4ms\tremaining: 1.55s\n",
      "44:\tlearn: 0.5182000\ttotal: 72.9ms\tremaining: 1.55s\n",
      "45:\tlearn: 0.5153690\ttotal: 74.5ms\tremaining: 1.54s\n",
      "46:\tlearn: 0.5126831\ttotal: 76.2ms\tremaining: 1.54s\n",
      "47:\tlearn: 0.5107088\ttotal: 77.8ms\tremaining: 1.54s\n",
      "48:\tlearn: 0.5085851\ttotal: 79.3ms\tremaining: 1.54s\n",
      "49:\tlearn: 0.5068484\ttotal: 80.8ms\tremaining: 1.54s\n",
      "50:\tlearn: 0.5046057\ttotal: 82.4ms\tremaining: 1.53s\n",
      "51:\tlearn: 0.5020896\ttotal: 83.9ms\tremaining: 1.53s\n",
      "52:\tlearn: 0.5010342\ttotal: 84.8ms\tremaining: 1.51s\n",
      "53:\tlearn: 0.4983885\ttotal: 86.4ms\tremaining: 1.51s\n",
      "54:\tlearn: 0.4966676\ttotal: 87.4ms\tremaining: 1.5s\n",
      "55:\tlearn: 0.4944868\ttotal: 89ms\tremaining: 1.5s\n",
      "56:\tlearn: 0.4918890\ttotal: 90.6ms\tremaining: 1.5s\n",
      "57:\tlearn: 0.4902979\ttotal: 92.2ms\tremaining: 1.5s\n",
      "58:\tlearn: 0.4880212\ttotal: 93.8ms\tremaining: 1.5s\n",
      "59:\tlearn: 0.4859987\ttotal: 95ms\tremaining: 1.49s\n",
      "60:\tlearn: 0.4851179\ttotal: 95.8ms\tremaining: 1.47s\n",
      "61:\tlearn: 0.4831083\ttotal: 97.4ms\tremaining: 1.47s\n",
      "62:\tlearn: 0.4820810\ttotal: 98.5ms\tremaining: 1.46s\n",
      "63:\tlearn: 0.4803755\ttotal: 100ms\tremaining: 1.46s\n",
      "64:\tlearn: 0.4784378\ttotal: 102ms\tremaining: 1.46s\n",
      "65:\tlearn: 0.4766207\ttotal: 103ms\tremaining: 1.46s\n",
      "66:\tlearn: 0.4749445\ttotal: 105ms\tremaining: 1.46s\n",
      "67:\tlearn: 0.4731364\ttotal: 107ms\tremaining: 1.46s\n",
      "68:\tlearn: 0.4713385\ttotal: 108ms\tremaining: 1.46s\n",
      "69:\tlearn: 0.4694224\ttotal: 110ms\tremaining: 1.46s\n",
      "70:\tlearn: 0.4678399\ttotal: 111ms\tremaining: 1.46s\n",
      "71:\tlearn: 0.4667910\ttotal: 113ms\tremaining: 1.45s\n",
      "72:\tlearn: 0.4650569\ttotal: 114ms\tremaining: 1.45s\n",
      "73:\tlearn: 0.4633476\ttotal: 116ms\tremaining: 1.45s\n",
      "74:\tlearn: 0.4619068\ttotal: 117ms\tremaining: 1.45s\n",
      "75:\tlearn: 0.4606025\ttotal: 119ms\tremaining: 1.45s\n",
      "76:\tlearn: 0.4594096\ttotal: 120ms\tremaining: 1.44s\n",
      "77:\tlearn: 0.4582405\ttotal: 122ms\tremaining: 1.44s\n",
      "78:\tlearn: 0.4573983\ttotal: 123ms\tremaining: 1.44s\n",
      "79:\tlearn: 0.4562324\ttotal: 125ms\tremaining: 1.44s\n",
      "80:\tlearn: 0.4548063\ttotal: 127ms\tremaining: 1.44s\n",
      "81:\tlearn: 0.4533406\ttotal: 128ms\tremaining: 1.43s\n",
      "82:\tlearn: 0.4527969\ttotal: 129ms\tremaining: 1.42s\n",
      "83:\tlearn: 0.4516663\ttotal: 130ms\tremaining: 1.42s\n",
      "84:\tlearn: 0.4504526\ttotal: 132ms\tremaining: 1.42s\n",
      "85:\tlearn: 0.4488189\ttotal: 134ms\tremaining: 1.42s\n",
      "86:\tlearn: 0.4471948\ttotal: 135ms\tremaining: 1.42s\n",
      "87:\tlearn: 0.4467074\ttotal: 136ms\tremaining: 1.41s\n",
      "88:\tlearn: 0.4455608\ttotal: 137ms\tremaining: 1.41s\n",
      "89:\tlearn: 0.4444910\ttotal: 139ms\tremaining: 1.41s\n",
      "90:\tlearn: 0.4432690\ttotal: 141ms\tremaining: 1.4s\n",
      "91:\tlearn: 0.4419022\ttotal: 143ms\tremaining: 1.41s\n",
      "92:\tlearn: 0.4407335\ttotal: 145ms\tremaining: 1.41s\n",
      "93:\tlearn: 0.4393222\ttotal: 147ms\tremaining: 1.42s\n",
      "94:\tlearn: 0.4383402\ttotal: 149ms\tremaining: 1.42s\n",
      "95:\tlearn: 0.4372967\ttotal: 151ms\tremaining: 1.42s\n",
      "96:\tlearn: 0.4364937\ttotal: 152ms\tremaining: 1.42s\n",
      "97:\tlearn: 0.4360994\ttotal: 154ms\tremaining: 1.41s\n",
      "98:\tlearn: 0.4349982\ttotal: 156ms\tremaining: 1.42s\n",
      "99:\tlearn: 0.4337709\ttotal: 159ms\tremaining: 1.43s\n",
      "100:\tlearn: 0.4325863\ttotal: 161ms\tremaining: 1.44s\n",
      "101:\tlearn: 0.4312859\ttotal: 163ms\tremaining: 1.43s\n",
      "102:\tlearn: 0.4307149\ttotal: 164ms\tremaining: 1.43s\n",
      "103:\tlearn: 0.4299139\ttotal: 166ms\tremaining: 1.43s\n",
      "104:\tlearn: 0.4291036\ttotal: 168ms\tremaining: 1.43s\n",
      "105:\tlearn: 0.4281488\ttotal: 170ms\tremaining: 1.43s\n",
      "106:\tlearn: 0.4269888\ttotal: 172ms\tremaining: 1.44s\n",
      "107:\tlearn: 0.4258847\ttotal: 174ms\tremaining: 1.44s\n",
      "108:\tlearn: 0.4246674\ttotal: 177ms\tremaining: 1.44s\n",
      "109:\tlearn: 0.4234061\ttotal: 179ms\tremaining: 1.45s\n",
      "110:\tlearn: 0.4231095\ttotal: 180ms\tremaining: 1.44s\n",
      "111:\tlearn: 0.4218903\ttotal: 182ms\tremaining: 1.44s\n",
      "112:\tlearn: 0.4210677\ttotal: 183ms\tremaining: 1.44s\n",
      "113:\tlearn: 0.4202341\ttotal: 187ms\tremaining: 1.45s\n",
      "114:\tlearn: 0.4193357\ttotal: 189ms\tremaining: 1.46s\n",
      "115:\tlearn: 0.4180987\ttotal: 191ms\tremaining: 1.45s\n",
      "116:\tlearn: 0.4174010\ttotal: 192ms\tremaining: 1.45s\n",
      "117:\tlearn: 0.4167231\ttotal: 194ms\tremaining: 1.45s\n",
      "118:\tlearn: 0.4157975\ttotal: 196ms\tremaining: 1.45s\n",
      "119:\tlearn: 0.4146569\ttotal: 197ms\tremaining: 1.45s\n",
      "120:\tlearn: 0.4139156\ttotal: 199ms\tremaining: 1.44s\n",
      "121:\tlearn: 0.4135124\ttotal: 200ms\tremaining: 1.44s\n",
      "122:\tlearn: 0.4128685\ttotal: 202ms\tremaining: 1.44s\n",
      "123:\tlearn: 0.4119909\ttotal: 203ms\tremaining: 1.44s\n",
      "124:\tlearn: 0.4110996\ttotal: 205ms\tremaining: 1.44s\n",
      "125:\tlearn: 0.4103219\ttotal: 207ms\tremaining: 1.44s\n",
      "126:\tlearn: 0.4092870\ttotal: 209ms\tremaining: 1.44s\n",
      "127:\tlearn: 0.4084396\ttotal: 211ms\tremaining: 1.44s\n",
      "128:\tlearn: 0.4077773\ttotal: 213ms\tremaining: 1.44s\n",
      "129:\tlearn: 0.4071688\ttotal: 215ms\tremaining: 1.44s\n",
      "130:\tlearn: 0.4061929\ttotal: 217ms\tremaining: 1.44s\n",
      "131:\tlearn: 0.4055379\ttotal: 219ms\tremaining: 1.44s\n",
      "132:\tlearn: 0.4046301\ttotal: 221ms\tremaining: 1.44s\n",
      "133:\tlearn: 0.4038107\ttotal: 223ms\tremaining: 1.44s\n",
      "134:\tlearn: 0.4031939\ttotal: 225ms\tremaining: 1.44s\n",
      "135:\tlearn: 0.4025750\ttotal: 227ms\tremaining: 1.44s\n",
      "136:\tlearn: 0.4020013\ttotal: 228ms\tremaining: 1.44s\n",
      "137:\tlearn: 0.4014216\ttotal: 229ms\tremaining: 1.43s\n",
      "138:\tlearn: 0.4006651\ttotal: 232ms\tremaining: 1.44s\n",
      "139:\tlearn: 0.3999801\ttotal: 233ms\tremaining: 1.43s\n",
      "140:\tlearn: 0.3992048\ttotal: 235ms\tremaining: 1.43s\n",
      "141:\tlearn: 0.3984222\ttotal: 237ms\tremaining: 1.43s\n",
      "142:\tlearn: 0.3978556\ttotal: 238ms\tremaining: 1.43s\n",
      "143:\tlearn: 0.3972454\ttotal: 240ms\tremaining: 1.43s\n",
      "144:\tlearn: 0.3965416\ttotal: 242ms\tremaining: 1.42s\n",
      "145:\tlearn: 0.3959024\ttotal: 243ms\tremaining: 1.42s\n",
      "146:\tlearn: 0.3953479\ttotal: 245ms\tremaining: 1.42s\n",
      "147:\tlearn: 0.3951081\ttotal: 246ms\tremaining: 1.42s\n",
      "148:\tlearn: 0.3946913\ttotal: 248ms\tremaining: 1.41s\n",
      "149:\tlearn: 0.3941832\ttotal: 249ms\tremaining: 1.41s\n",
      "150:\tlearn: 0.3938198\ttotal: 251ms\tremaining: 1.41s\n",
      "151:\tlearn: 0.3932872\ttotal: 252ms\tremaining: 1.41s\n",
      "152:\tlearn: 0.3925841\ttotal: 254ms\tremaining: 1.41s\n",
      "153:\tlearn: 0.3918849\ttotal: 256ms\tremaining: 1.41s\n",
      "154:\tlearn: 0.3913281\ttotal: 257ms\tremaining: 1.4s\n",
      "155:\tlearn: 0.3904805\ttotal: 259ms\tremaining: 1.4s\n",
      "156:\tlearn: 0.3899783\ttotal: 260ms\tremaining: 1.4s\n",
      "157:\tlearn: 0.3894120\ttotal: 262ms\tremaining: 1.4s\n",
      "158:\tlearn: 0.3887473\ttotal: 264ms\tremaining: 1.39s\n",
      "159:\tlearn: 0.3879777\ttotal: 265ms\tremaining: 1.39s\n",
      "160:\tlearn: 0.3874082\ttotal: 267ms\tremaining: 1.39s\n",
      "161:\tlearn: 0.3867064\ttotal: 268ms\tremaining: 1.39s\n",
      "162:\tlearn: 0.3864041\ttotal: 270ms\tremaining: 1.39s\n",
      "163:\tlearn: 0.3858236\ttotal: 272ms\tremaining: 1.38s\n",
      "164:\tlearn: 0.3854615\ttotal: 273ms\tremaining: 1.38s\n",
      "165:\tlearn: 0.3849241\ttotal: 275ms\tremaining: 1.38s\n",
      "166:\tlearn: 0.3843082\ttotal: 276ms\tremaining: 1.38s\n",
      "167:\tlearn: 0.3837523\ttotal: 278ms\tremaining: 1.38s\n",
      "168:\tlearn: 0.3833697\ttotal: 280ms\tremaining: 1.37s\n",
      "169:\tlearn: 0.3829098\ttotal: 281ms\tremaining: 1.37s\n",
      "170:\tlearn: 0.3825009\ttotal: 283ms\tremaining: 1.37s\n",
      "171:\tlearn: 0.3820675\ttotal: 284ms\tremaining: 1.37s\n",
      "172:\tlearn: 0.3816456\ttotal: 286ms\tremaining: 1.37s\n",
      "173:\tlearn: 0.3809784\ttotal: 288ms\tremaining: 1.36s\n",
      "174:\tlearn: 0.3808961\ttotal: 288ms\tremaining: 1.36s\n",
      "175:\tlearn: 0.3803206\ttotal: 290ms\tremaining: 1.36s\n",
      "176:\tlearn: 0.3800642\ttotal: 291ms\tremaining: 1.35s\n",
      "177:\tlearn: 0.3797105\ttotal: 293ms\tremaining: 1.35s\n",
      "178:\tlearn: 0.3793259\ttotal: 295ms\tremaining: 1.35s\n",
      "179:\tlearn: 0.3789266\ttotal: 296ms\tremaining: 1.35s\n",
      "180:\tlearn: 0.3785287\ttotal: 298ms\tremaining: 1.35s\n",
      "181:\tlearn: 0.3778283\ttotal: 299ms\tremaining: 1.34s\n",
      "182:\tlearn: 0.3775725\ttotal: 301ms\tremaining: 1.34s\n",
      "183:\tlearn: 0.3768822\ttotal: 303ms\tremaining: 1.34s\n",
      "184:\tlearn: 0.3764614\ttotal: 304ms\tremaining: 1.34s\n",
      "185:\tlearn: 0.3760698\ttotal: 306ms\tremaining: 1.34s\n",
      "186:\tlearn: 0.3758214\ttotal: 307ms\tremaining: 1.34s\n",
      "187:\tlearn: 0.3753791\ttotal: 309ms\tremaining: 1.33s\n",
      "188:\tlearn: 0.3750880\ttotal: 310ms\tremaining: 1.33s\n",
      "189:\tlearn: 0.3747457\ttotal: 312ms\tremaining: 1.33s\n",
      "190:\tlearn: 0.3743561\ttotal: 314ms\tremaining: 1.33s\n",
      "191:\tlearn: 0.3737309\ttotal: 315ms\tremaining: 1.33s\n",
      "192:\tlearn: 0.3733125\ttotal: 317ms\tremaining: 1.32s\n",
      "193:\tlearn: 0.3727294\ttotal: 318ms\tremaining: 1.32s\n",
      "194:\tlearn: 0.3720359\ttotal: 320ms\tremaining: 1.32s\n",
      "195:\tlearn: 0.3714949\ttotal: 322ms\tremaining: 1.32s\n",
      "196:\tlearn: 0.3710834\ttotal: 323ms\tremaining: 1.32s\n",
      "197:\tlearn: 0.3706584\ttotal: 325ms\tremaining: 1.31s\n",
      "198:\tlearn: 0.3701325\ttotal: 326ms\tremaining: 1.31s\n",
      "199:\tlearn: 0.3696917\ttotal: 328ms\tremaining: 1.31s\n",
      "200:\tlearn: 0.3696404\ttotal: 329ms\tremaining: 1.31s\n",
      "201:\tlearn: 0.3693525\ttotal: 330ms\tremaining: 1.3s\n",
      "202:\tlearn: 0.3690624\ttotal: 332ms\tremaining: 1.3s\n",
      "203:\tlearn: 0.3685439\ttotal: 333ms\tremaining: 1.3s\n",
      "204:\tlearn: 0.3681265\ttotal: 335ms\tremaining: 1.3s\n",
      "205:\tlearn: 0.3680798\ttotal: 336ms\tremaining: 1.29s\n",
      "206:\tlearn: 0.3678536\ttotal: 337ms\tremaining: 1.29s\n",
      "207:\tlearn: 0.3673731\ttotal: 339ms\tremaining: 1.29s\n",
      "208:\tlearn: 0.3668530\ttotal: 340ms\tremaining: 1.29s\n",
      "209:\tlearn: 0.3666143\ttotal: 341ms\tremaining: 1.28s\n",
      "210:\tlearn: 0.3662691\ttotal: 343ms\tremaining: 1.28s\n",
      "211:\tlearn: 0.3659641\ttotal: 345ms\tremaining: 1.28s\n",
      "212:\tlearn: 0.3655924\ttotal: 346ms\tremaining: 1.28s\n",
      "213:\tlearn: 0.3651006\ttotal: 348ms\tremaining: 1.28s\n",
      "214:\tlearn: 0.3647899\ttotal: 349ms\tremaining: 1.27s\n",
      "215:\tlearn: 0.3644381\ttotal: 351ms\tremaining: 1.27s\n",
      "216:\tlearn: 0.3642085\ttotal: 353ms\tremaining: 1.27s\n",
      "217:\tlearn: 0.3639181\ttotal: 354ms\tremaining: 1.27s\n",
      "218:\tlearn: 0.3637502\ttotal: 356ms\tremaining: 1.27s\n",
      "219:\tlearn: 0.3636197\ttotal: 357ms\tremaining: 1.27s\n",
      "220:\tlearn: 0.3632763\ttotal: 359ms\tremaining: 1.26s\n",
      "221:\tlearn: 0.3629847\ttotal: 361ms\tremaining: 1.26s\n",
      "222:\tlearn: 0.3628051\ttotal: 362ms\tremaining: 1.26s\n",
      "223:\tlearn: 0.3624283\ttotal: 364ms\tremaining: 1.26s\n",
      "224:\tlearn: 0.3621647\ttotal: 365ms\tremaining: 1.26s\n",
      "225:\tlearn: 0.3619068\ttotal: 367ms\tremaining: 1.26s\n",
      "226:\tlearn: 0.3616600\ttotal: 368ms\tremaining: 1.25s\n",
      "227:\tlearn: 0.3613863\ttotal: 370ms\tremaining: 1.25s\n",
      "228:\tlearn: 0.3611426\ttotal: 372ms\tremaining: 1.25s\n",
      "229:\tlearn: 0.3608248\ttotal: 373ms\tremaining: 1.25s\n",
      "230:\tlearn: 0.3605582\ttotal: 375ms\tremaining: 1.25s\n",
      "231:\tlearn: 0.3602042\ttotal: 377ms\tremaining: 1.25s\n",
      "232:\tlearn: 0.3599265\ttotal: 378ms\tremaining: 1.25s\n",
      "233:\tlearn: 0.3598407\ttotal: 379ms\tremaining: 1.24s\n",
      "234:\tlearn: 0.3595648\ttotal: 381ms\tremaining: 1.24s\n",
      "235:\tlearn: 0.3591989\ttotal: 383ms\tremaining: 1.24s\n",
      "236:\tlearn: 0.3589870\ttotal: 384ms\tremaining: 1.24s\n",
      "237:\tlearn: 0.3587064\ttotal: 386ms\tremaining: 1.23s\n",
      "238:\tlearn: 0.3582641\ttotal: 387ms\tremaining: 1.23s\n",
      "239:\tlearn: 0.3578783\ttotal: 390ms\tremaining: 1.24s\n",
      "240:\tlearn: 0.3575292\ttotal: 392ms\tremaining: 1.24s\n",
      "241:\tlearn: 0.3571942\ttotal: 394ms\tremaining: 1.23s\n",
      "242:\tlearn: 0.3568596\ttotal: 396ms\tremaining: 1.23s\n",
      "243:\tlearn: 0.3566088\ttotal: 398ms\tremaining: 1.23s\n",
      "244:\tlearn: 0.3563300\ttotal: 399ms\tremaining: 1.23s\n",
      "245:\tlearn: 0.3560533\ttotal: 401ms\tremaining: 1.23s\n",
      "246:\tlearn: 0.3557231\ttotal: 403ms\tremaining: 1.23s\n",
      "247:\tlearn: 0.3553984\ttotal: 405ms\tremaining: 1.23s\n",
      "248:\tlearn: 0.3551813\ttotal: 407ms\tremaining: 1.23s\n",
      "249:\tlearn: 0.3549416\ttotal: 409ms\tremaining: 1.23s\n",
      "250:\tlearn: 0.3547860\ttotal: 411ms\tremaining: 1.23s\n",
      "251:\tlearn: 0.3544693\ttotal: 413ms\tremaining: 1.23s\n",
      "252:\tlearn: 0.3540917\ttotal: 415ms\tremaining: 1.23s\n",
      "253:\tlearn: 0.3536820\ttotal: 418ms\tremaining: 1.23s\n",
      "254:\tlearn: 0.3536471\ttotal: 419ms\tremaining: 1.22s\n",
      "255:\tlearn: 0.3533802\ttotal: 421ms\tremaining: 1.22s\n",
      "256:\tlearn: 0.3530599\ttotal: 423ms\tremaining: 1.22s\n",
      "257:\tlearn: 0.3528064\ttotal: 425ms\tremaining: 1.22s\n",
      "258:\tlearn: 0.3525897\ttotal: 426ms\tremaining: 1.22s\n",
      "259:\tlearn: 0.3522621\ttotal: 428ms\tremaining: 1.22s\n",
      "260:\tlearn: 0.3520825\ttotal: 430ms\tremaining: 1.22s\n",
      "261:\tlearn: 0.3518294\ttotal: 431ms\tremaining: 1.22s\n",
      "262:\tlearn: 0.3515404\ttotal: 433ms\tremaining: 1.21s\n",
      "263:\tlearn: 0.3513781\ttotal: 435ms\tremaining: 1.21s\n",
      "264:\tlearn: 0.3512293\ttotal: 436ms\tremaining: 1.21s\n",
      "265:\tlearn: 0.3510047\ttotal: 438ms\tremaining: 1.21s\n",
      "266:\tlearn: 0.3507798\ttotal: 440ms\tremaining: 1.21s\n",
      "267:\tlearn: 0.3504565\ttotal: 441ms\tremaining: 1.21s\n",
      "268:\tlearn: 0.3502155\ttotal: 443ms\tremaining: 1.2s\n",
      "269:\tlearn: 0.3498726\ttotal: 445ms\tremaining: 1.2s\n",
      "270:\tlearn: 0.3497104\ttotal: 446ms\tremaining: 1.2s\n",
      "271:\tlearn: 0.3492556\ttotal: 448ms\tremaining: 1.2s\n",
      "272:\tlearn: 0.3490643\ttotal: 450ms\tremaining: 1.2s\n",
      "273:\tlearn: 0.3489808\ttotal: 451ms\tremaining: 1.2s\n",
      "274:\tlearn: 0.3486718\ttotal: 453ms\tremaining: 1.19s\n",
      "275:\tlearn: 0.3483037\ttotal: 454ms\tremaining: 1.19s\n",
      "276:\tlearn: 0.3480108\ttotal: 456ms\tremaining: 1.19s\n",
      "277:\tlearn: 0.3477087\ttotal: 458ms\tremaining: 1.19s\n",
      "278:\tlearn: 0.3475853\ttotal: 459ms\tremaining: 1.19s\n",
      "279:\tlearn: 0.3474050\ttotal: 461ms\tremaining: 1.19s\n",
      "280:\tlearn: 0.3473313\ttotal: 462ms\tremaining: 1.18s\n",
      "281:\tlearn: 0.3471327\ttotal: 464ms\tremaining: 1.18s\n",
      "282:\tlearn: 0.3470157\ttotal: 465ms\tremaining: 1.18s\n",
      "283:\tlearn: 0.3468649\ttotal: 467ms\tremaining: 1.18s\n",
      "284:\tlearn: 0.3466563\ttotal: 468ms\tremaining: 1.18s\n",
      "285:\tlearn: 0.3465086\ttotal: 470ms\tremaining: 1.17s\n",
      "286:\tlearn: 0.3461772\ttotal: 472ms\tremaining: 1.17s\n",
      "287:\tlearn: 0.3461252\ttotal: 473ms\tremaining: 1.17s\n",
      "288:\tlearn: 0.3460816\ttotal: 474ms\tremaining: 1.17s\n",
      "289:\tlearn: 0.3459111\ttotal: 475ms\tremaining: 1.16s\n",
      "290:\tlearn: 0.3457472\ttotal: 477ms\tremaining: 1.16s\n",
      "291:\tlearn: 0.3455384\ttotal: 479ms\tremaining: 1.16s\n",
      "292:\tlearn: 0.3452775\ttotal: 480ms\tremaining: 1.16s\n",
      "293:\tlearn: 0.3450892\ttotal: 482ms\tremaining: 1.16s\n",
      "294:\tlearn: 0.3448360\ttotal: 483ms\tremaining: 1.16s\n",
      "295:\tlearn: 0.3446870\ttotal: 485ms\tremaining: 1.15s\n",
      "296:\tlearn: 0.3444510\ttotal: 487ms\tremaining: 1.15s\n",
      "297:\tlearn: 0.3442589\ttotal: 488ms\tremaining: 1.15s\n",
      "298:\tlearn: 0.3440751\ttotal: 490ms\tremaining: 1.15s\n",
      "299:\tlearn: 0.3439234\ttotal: 491ms\tremaining: 1.15s\n",
      "300:\tlearn: 0.3437683\ttotal: 493ms\tremaining: 1.14s\n",
      "301:\tlearn: 0.3434875\ttotal: 495ms\tremaining: 1.14s\n",
      "302:\tlearn: 0.3432736\ttotal: 496ms\tremaining: 1.14s\n",
      "303:\tlearn: 0.3429032\ttotal: 498ms\tremaining: 1.14s\n",
      "304:\tlearn: 0.3426829\ttotal: 499ms\tremaining: 1.14s\n",
      "305:\tlearn: 0.3424812\ttotal: 501ms\tremaining: 1.14s\n",
      "306:\tlearn: 0.3420170\ttotal: 503ms\tremaining: 1.13s\n",
      "307:\tlearn: 0.3419567\ttotal: 504ms\tremaining: 1.13s\n",
      "308:\tlearn: 0.3416272\ttotal: 505ms\tremaining: 1.13s\n",
      "309:\tlearn: 0.3413280\ttotal: 507ms\tremaining: 1.13s\n",
      "310:\tlearn: 0.3412947\ttotal: 508ms\tremaining: 1.12s\n",
      "311:\tlearn: 0.3409513\ttotal: 510ms\tremaining: 1.12s\n",
      "312:\tlearn: 0.3407948\ttotal: 511ms\tremaining: 1.12s\n",
      "313:\tlearn: 0.3405319\ttotal: 513ms\tremaining: 1.12s\n",
      "314:\tlearn: 0.3403996\ttotal: 514ms\tremaining: 1.12s\n",
      "315:\tlearn: 0.3403150\ttotal: 515ms\tremaining: 1.11s\n",
      "316:\tlearn: 0.3400728\ttotal: 517ms\tremaining: 1.11s\n",
      "317:\tlearn: 0.3400469\ttotal: 518ms\tremaining: 1.11s\n",
      "318:\tlearn: 0.3397630\ttotal: 520ms\tremaining: 1.11s\n",
      "319:\tlearn: 0.3394674\ttotal: 521ms\tremaining: 1.11s\n",
      "320:\tlearn: 0.3392054\ttotal: 523ms\tremaining: 1.11s\n",
      "321:\tlearn: 0.3389387\ttotal: 525ms\tremaining: 1.1s\n",
      "322:\tlearn: 0.3386802\ttotal: 526ms\tremaining: 1.1s\n",
      "323:\tlearn: 0.3384154\ttotal: 528ms\tremaining: 1.1s\n",
      "324:\tlearn: 0.3381808\ttotal: 530ms\tremaining: 1.1s\n",
      "325:\tlearn: 0.3380266\ttotal: 531ms\tremaining: 1.1s\n",
      "326:\tlearn: 0.3377938\ttotal: 533ms\tremaining: 1.1s\n",
      "327:\tlearn: 0.3375978\ttotal: 535ms\tremaining: 1.09s\n",
      "328:\tlearn: 0.3372943\ttotal: 536ms\tremaining: 1.09s\n",
      "329:\tlearn: 0.3371027\ttotal: 538ms\tremaining: 1.09s\n",
      "330:\tlearn: 0.3369186\ttotal: 540ms\tremaining: 1.09s\n",
      "331:\tlearn: 0.3365698\ttotal: 541ms\tremaining: 1.09s\n",
      "332:\tlearn: 0.3362471\ttotal: 543ms\tremaining: 1.09s\n",
      "333:\tlearn: 0.3360421\ttotal: 545ms\tremaining: 1.09s\n",
      "334:\tlearn: 0.3357854\ttotal: 547ms\tremaining: 1.08s\n",
      "335:\tlearn: 0.3355808\ttotal: 548ms\tremaining: 1.08s\n",
      "336:\tlearn: 0.3354160\ttotal: 550ms\tremaining: 1.08s\n",
      "337:\tlearn: 0.3352302\ttotal: 551ms\tremaining: 1.08s\n",
      "338:\tlearn: 0.3350738\ttotal: 553ms\tremaining: 1.08s\n",
      "339:\tlearn: 0.3348281\ttotal: 555ms\tremaining: 1.08s\n",
      "340:\tlearn: 0.3345855\ttotal: 556ms\tremaining: 1.07s\n",
      "341:\tlearn: 0.3341511\ttotal: 558ms\tremaining: 1.07s\n",
      "342:\tlearn: 0.3339826\ttotal: 559ms\tremaining: 1.07s\n",
      "343:\tlearn: 0.3338498\ttotal: 561ms\tremaining: 1.07s\n",
      "344:\tlearn: 0.3338331\ttotal: 562ms\tremaining: 1.07s\n",
      "345:\tlearn: 0.3335142\ttotal: 564ms\tremaining: 1.06s\n",
      "346:\tlearn: 0.3333925\ttotal: 565ms\tremaining: 1.06s\n",
      "347:\tlearn: 0.3330774\ttotal: 567ms\tremaining: 1.06s\n",
      "348:\tlearn: 0.3328481\ttotal: 568ms\tremaining: 1.06s\n",
      "349:\tlearn: 0.3326685\ttotal: 570ms\tremaining: 1.06s\n",
      "350:\tlearn: 0.3324113\ttotal: 572ms\tremaining: 1.06s\n",
      "351:\tlearn: 0.3320240\ttotal: 573ms\tremaining: 1.05s\n",
      "352:\tlearn: 0.3318164\ttotal: 575ms\tremaining: 1.05s\n",
      "353:\tlearn: 0.3315641\ttotal: 577ms\tremaining: 1.05s\n",
      "354:\tlearn: 0.3314166\ttotal: 578ms\tremaining: 1.05s\n",
      "355:\tlearn: 0.3312850\ttotal: 580ms\tremaining: 1.05s\n",
      "356:\tlearn: 0.3311581\ttotal: 581ms\tremaining: 1.05s\n",
      "357:\tlearn: 0.3309859\ttotal: 583ms\tremaining: 1.04s\n",
      "358:\tlearn: 0.3307614\ttotal: 584ms\tremaining: 1.04s\n",
      "359:\tlearn: 0.3304709\ttotal: 586ms\tremaining: 1.04s\n",
      "360:\tlearn: 0.3303056\ttotal: 588ms\tremaining: 1.04s\n",
      "361:\tlearn: 0.3301909\ttotal: 589ms\tremaining: 1.04s\n",
      "362:\tlearn: 0.3299875\ttotal: 592ms\tremaining: 1.04s\n",
      "363:\tlearn: 0.3298014\ttotal: 595ms\tremaining: 1.04s\n",
      "364:\tlearn: 0.3295767\ttotal: 598ms\tremaining: 1.04s\n",
      "365:\tlearn: 0.3294182\ttotal: 600ms\tremaining: 1.04s\n",
      "366:\tlearn: 0.3291993\ttotal: 602ms\tremaining: 1.04s\n",
      "367:\tlearn: 0.3290272\ttotal: 605ms\tremaining: 1.04s\n",
      "368:\tlearn: 0.3288184\ttotal: 608ms\tremaining: 1.04s\n",
      "369:\tlearn: 0.3287831\ttotal: 609ms\tremaining: 1.04s\n",
      "370:\tlearn: 0.3286431\ttotal: 611ms\tremaining: 1.03s\n",
      "371:\tlearn: 0.3284559\ttotal: 612ms\tremaining: 1.03s\n",
      "372:\tlearn: 0.3282119\ttotal: 614ms\tremaining: 1.03s\n",
      "373:\tlearn: 0.3281401\ttotal: 615ms\tremaining: 1.03s\n",
      "374:\tlearn: 0.3279908\ttotal: 617ms\tremaining: 1.03s\n",
      "375:\tlearn: 0.3279382\ttotal: 619ms\tremaining: 1.03s\n",
      "376:\tlearn: 0.3277340\ttotal: 620ms\tremaining: 1.02s\n",
      "377:\tlearn: 0.3275621\ttotal: 622ms\tremaining: 1.02s\n",
      "378:\tlearn: 0.3274178\ttotal: 624ms\tremaining: 1.02s\n",
      "379:\tlearn: 0.3272776\ttotal: 625ms\tremaining: 1.02s\n",
      "380:\tlearn: 0.3271296\ttotal: 627ms\tremaining: 1.02s\n",
      "381:\tlearn: 0.3268986\ttotal: 629ms\tremaining: 1.02s\n",
      "382:\tlearn: 0.3266022\ttotal: 630ms\tremaining: 1.01s\n",
      "383:\tlearn: 0.3263406\ttotal: 632ms\tremaining: 1.01s\n",
      "384:\tlearn: 0.3260496\ttotal: 633ms\tremaining: 1.01s\n",
      "385:\tlearn: 0.3258627\ttotal: 635ms\tremaining: 1.01s\n",
      "386:\tlearn: 0.3257572\ttotal: 636ms\tremaining: 1.01s\n",
      "387:\tlearn: 0.3255020\ttotal: 638ms\tremaining: 1.01s\n",
      "388:\tlearn: 0.3252857\ttotal: 640ms\tremaining: 1s\n",
      "389:\tlearn: 0.3251237\ttotal: 641ms\tremaining: 1s\n",
      "390:\tlearn: 0.3248463\ttotal: 643ms\tremaining: 1s\n",
      "391:\tlearn: 0.3246337\ttotal: 644ms\tremaining: 999ms\n",
      "392:\tlearn: 0.3244534\ttotal: 646ms\tremaining: 998ms\n",
      "393:\tlearn: 0.3242858\ttotal: 647ms\tremaining: 996ms\n",
      "394:\tlearn: 0.3239706\ttotal: 649ms\tremaining: 994ms\n",
      "395:\tlearn: 0.3238449\ttotal: 651ms\tremaining: 992ms\n",
      "396:\tlearn: 0.3237386\ttotal: 652ms\tremaining: 991ms\n",
      "397:\tlearn: 0.3236206\ttotal: 654ms\tremaining: 989ms\n",
      "398:\tlearn: 0.3236102\ttotal: 655ms\tremaining: 986ms\n",
      "399:\tlearn: 0.3234681\ttotal: 656ms\tremaining: 985ms\n",
      "400:\tlearn: 0.3233873\ttotal: 658ms\tremaining: 983ms\n",
      "401:\tlearn: 0.3231140\ttotal: 659ms\tremaining: 981ms\n",
      "402:\tlearn: 0.3230404\ttotal: 661ms\tremaining: 979ms\n",
      "403:\tlearn: 0.3229887\ttotal: 662ms\tremaining: 977ms\n",
      "404:\tlearn: 0.3227482\ttotal: 664ms\tremaining: 975ms\n",
      "405:\tlearn: 0.3226910\ttotal: 665ms\tremaining: 973ms\n",
      "406:\tlearn: 0.3222918\ttotal: 667ms\tremaining: 972ms\n",
      "407:\tlearn: 0.3220159\ttotal: 669ms\tremaining: 970ms\n",
      "408:\tlearn: 0.3218436\ttotal: 670ms\tremaining: 969ms\n",
      "409:\tlearn: 0.3216831\ttotal: 672ms\tremaining: 967ms\n",
      "410:\tlearn: 0.3214706\ttotal: 673ms\tremaining: 965ms\n",
      "411:\tlearn: 0.3210962\ttotal: 675ms\tremaining: 963ms\n",
      "412:\tlearn: 0.3209022\ttotal: 677ms\tremaining: 962ms\n",
      "413:\tlearn: 0.3206675\ttotal: 678ms\tremaining: 960ms\n",
      "414:\tlearn: 0.3205247\ttotal: 680ms\tremaining: 958ms\n",
      "415:\tlearn: 0.3203918\ttotal: 681ms\tremaining: 957ms\n",
      "416:\tlearn: 0.3203067\ttotal: 683ms\tremaining: 955ms\n",
      "417:\tlearn: 0.3200255\ttotal: 685ms\tremaining: 953ms\n",
      "418:\tlearn: 0.3198326\ttotal: 686ms\tremaining: 952ms\n",
      "419:\tlearn: 0.3197131\ttotal: 688ms\tremaining: 950ms\n",
      "420:\tlearn: 0.3196078\ttotal: 689ms\tremaining: 948ms\n",
      "421:\tlearn: 0.3194662\ttotal: 691ms\tremaining: 946ms\n",
      "422:\tlearn: 0.3193148\ttotal: 692ms\tremaining: 944ms\n",
      "423:\tlearn: 0.3191881\ttotal: 693ms\tremaining: 942ms\n",
      "424:\tlearn: 0.3190709\ttotal: 695ms\tremaining: 940ms\n",
      "425:\tlearn: 0.3187712\ttotal: 697ms\tremaining: 939ms\n",
      "426:\tlearn: 0.3187079\ttotal: 698ms\tremaining: 936ms\n",
      "427:\tlearn: 0.3185053\ttotal: 699ms\tremaining: 935ms\n",
      "428:\tlearn: 0.3183163\ttotal: 701ms\tremaining: 933ms\n",
      "429:\tlearn: 0.3180037\ttotal: 703ms\tremaining: 931ms\n",
      "430:\tlearn: 0.3178796\ttotal: 704ms\tremaining: 930ms\n",
      "431:\tlearn: 0.3177018\ttotal: 706ms\tremaining: 928ms\n",
      "432:\tlearn: 0.3176372\ttotal: 707ms\tremaining: 926ms\n",
      "433:\tlearn: 0.3174293\ttotal: 709ms\tremaining: 925ms\n",
      "434:\tlearn: 0.3171875\ttotal: 710ms\tremaining: 923ms\n",
      "435:\tlearn: 0.3169189\ttotal: 712ms\tremaining: 921ms\n",
      "436:\tlearn: 0.3167250\ttotal: 714ms\tremaining: 919ms\n",
      "437:\tlearn: 0.3165516\ttotal: 715ms\tremaining: 918ms\n",
      "438:\tlearn: 0.3163944\ttotal: 717ms\tremaining: 916ms\n",
      "439:\tlearn: 0.3162669\ttotal: 718ms\tremaining: 914ms\n",
      "440:\tlearn: 0.3161673\ttotal: 720ms\tremaining: 912ms\n",
      "441:\tlearn: 0.3160047\ttotal: 721ms\tremaining: 911ms\n",
      "442:\tlearn: 0.3159111\ttotal: 723ms\tremaining: 909ms\n",
      "443:\tlearn: 0.3157777\ttotal: 725ms\tremaining: 907ms\n",
      "444:\tlearn: 0.3157037\ttotal: 726ms\tremaining: 906ms\n",
      "445:\tlearn: 0.3156146\ttotal: 728ms\tremaining: 904ms\n",
      "446:\tlearn: 0.3153199\ttotal: 729ms\tremaining: 902ms\n",
      "447:\tlearn: 0.3151761\ttotal: 731ms\tremaining: 900ms\n",
      "448:\tlearn: 0.3149881\ttotal: 732ms\tremaining: 899ms\n",
      "449:\tlearn: 0.3148309\ttotal: 734ms\tremaining: 897ms\n",
      "450:\tlearn: 0.3147496\ttotal: 735ms\tremaining: 895ms\n",
      "451:\tlearn: 0.3144189\ttotal: 737ms\tremaining: 894ms\n",
      "452:\tlearn: 0.3141663\ttotal: 739ms\tremaining: 892ms\n",
      "453:\tlearn: 0.3140652\ttotal: 740ms\tremaining: 890ms\n",
      "454:\tlearn: 0.3139156\ttotal: 742ms\tremaining: 889ms\n",
      "455:\tlearn: 0.3137921\ttotal: 743ms\tremaining: 887ms\n",
      "456:\tlearn: 0.3136257\ttotal: 745ms\tremaining: 885ms\n",
      "457:\tlearn: 0.3134373\ttotal: 747ms\tremaining: 883ms\n",
      "458:\tlearn: 0.3133056\ttotal: 748ms\tremaining: 882ms\n",
      "459:\tlearn: 0.3131224\ttotal: 750ms\tremaining: 880ms\n",
      "460:\tlearn: 0.3130012\ttotal: 751ms\tremaining: 878ms\n",
      "461:\tlearn: 0.3129044\ttotal: 753ms\tremaining: 877ms\n",
      "462:\tlearn: 0.3127657\ttotal: 754ms\tremaining: 875ms\n",
      "463:\tlearn: 0.3125840\ttotal: 756ms\tremaining: 873ms\n",
      "464:\tlearn: 0.3123873\ttotal: 758ms\tremaining: 872ms\n",
      "465:\tlearn: 0.3123344\ttotal: 759ms\tremaining: 869ms\n",
      "466:\tlearn: 0.3121314\ttotal: 760ms\tremaining: 868ms\n",
      "467:\tlearn: 0.3119177\ttotal: 762ms\tremaining: 866ms\n",
      "468:\tlearn: 0.3117313\ttotal: 763ms\tremaining: 864ms\n",
      "469:\tlearn: 0.3115940\ttotal: 765ms\tremaining: 862ms\n",
      "470:\tlearn: 0.3114689\ttotal: 766ms\tremaining: 861ms\n",
      "471:\tlearn: 0.3112231\ttotal: 768ms\tremaining: 859ms\n",
      "472:\tlearn: 0.3108537\ttotal: 770ms\tremaining: 857ms\n",
      "473:\tlearn: 0.3107187\ttotal: 771ms\tremaining: 856ms\n",
      "474:\tlearn: 0.3104377\ttotal: 773ms\tremaining: 854ms\n",
      "475:\tlearn: 0.3101487\ttotal: 774ms\tremaining: 852ms\n",
      "476:\tlearn: 0.3100177\ttotal: 776ms\tremaining: 851ms\n",
      "477:\tlearn: 0.3099710\ttotal: 777ms\tremaining: 848ms\n",
      "478:\tlearn: 0.3097888\ttotal: 778ms\tremaining: 847ms\n",
      "479:\tlearn: 0.3097299\ttotal: 780ms\tremaining: 845ms\n",
      "480:\tlearn: 0.3096446\ttotal: 781ms\tremaining: 843ms\n",
      "481:\tlearn: 0.3095870\ttotal: 784ms\tremaining: 843ms\n",
      "482:\tlearn: 0.3095575\ttotal: 785ms\tremaining: 840ms\n",
      "483:\tlearn: 0.3095183\ttotal: 787ms\tremaining: 839ms\n",
      "484:\tlearn: 0.3092621\ttotal: 789ms\tremaining: 838ms\n",
      "485:\tlearn: 0.3090307\ttotal: 790ms\tremaining: 836ms\n",
      "486:\tlearn: 0.3088552\ttotal: 792ms\tremaining: 835ms\n",
      "487:\tlearn: 0.3087203\ttotal: 794ms\tremaining: 833ms\n",
      "488:\tlearn: 0.3086261\ttotal: 796ms\tremaining: 832ms\n",
      "489:\tlearn: 0.3085114\ttotal: 798ms\tremaining: 830ms\n",
      "490:\tlearn: 0.3083625\ttotal: 799ms\tremaining: 829ms\n",
      "491:\tlearn: 0.3081601\ttotal: 801ms\tremaining: 827ms\n",
      "492:\tlearn: 0.3080159\ttotal: 803ms\tremaining: 826ms\n",
      "493:\tlearn: 0.3076827\ttotal: 805ms\tremaining: 824ms\n",
      "494:\tlearn: 0.3074776\ttotal: 807ms\tremaining: 823ms\n",
      "495:\tlearn: 0.3073796\ttotal: 809ms\tremaining: 822ms\n",
      "496:\tlearn: 0.3071809\ttotal: 811ms\tremaining: 821ms\n",
      "497:\tlearn: 0.3070199\ttotal: 813ms\tremaining: 819ms\n",
      "498:\tlearn: 0.3068520\ttotal: 815ms\tremaining: 818ms\n",
      "499:\tlearn: 0.3067118\ttotal: 817ms\tremaining: 817ms\n",
      "500:\tlearn: 0.3066152\ttotal: 818ms\tremaining: 815ms\n",
      "501:\tlearn: 0.3064160\ttotal: 820ms\tremaining: 814ms\n",
      "502:\tlearn: 0.3063704\ttotal: 821ms\tremaining: 812ms\n",
      "503:\tlearn: 0.3062127\ttotal: 824ms\tremaining: 811ms\n",
      "504:\tlearn: 0.3061579\ttotal: 826ms\tremaining: 809ms\n",
      "505:\tlearn: 0.3059722\ttotal: 827ms\tremaining: 808ms\n",
      "506:\tlearn: 0.3057461\ttotal: 829ms\tremaining: 806ms\n",
      "507:\tlearn: 0.3055951\ttotal: 831ms\tremaining: 804ms\n",
      "508:\tlearn: 0.3054288\ttotal: 832ms\tremaining: 803ms\n",
      "509:\tlearn: 0.3052600\ttotal: 834ms\tremaining: 801ms\n",
      "510:\tlearn: 0.3050969\ttotal: 835ms\tremaining: 800ms\n",
      "511:\tlearn: 0.3049501\ttotal: 837ms\tremaining: 798ms\n",
      "512:\tlearn: 0.3048180\ttotal: 839ms\tremaining: 797ms\n",
      "513:\tlearn: 0.3045937\ttotal: 841ms\tremaining: 795ms\n",
      "514:\tlearn: 0.3044643\ttotal: 843ms\tremaining: 794ms\n",
      "515:\tlearn: 0.3043255\ttotal: 844ms\tremaining: 792ms\n",
      "516:\tlearn: 0.3042218\ttotal: 846ms\tremaining: 790ms\n",
      "517:\tlearn: 0.3041447\ttotal: 847ms\tremaining: 788ms\n",
      "518:\tlearn: 0.3039710\ttotal: 849ms\tremaining: 787ms\n",
      "519:\tlearn: 0.3037882\ttotal: 850ms\tremaining: 785ms\n",
      "520:\tlearn: 0.3036369\ttotal: 852ms\tremaining: 783ms\n",
      "521:\tlearn: 0.3034750\ttotal: 854ms\tremaining: 782ms\n",
      "522:\tlearn: 0.3032915\ttotal: 855ms\tremaining: 780ms\n",
      "523:\tlearn: 0.3031050\ttotal: 857ms\tremaining: 778ms\n",
      "524:\tlearn: 0.3030251\ttotal: 859ms\tremaining: 777ms\n",
      "525:\tlearn: 0.3029241\ttotal: 860ms\tremaining: 775ms\n",
      "526:\tlearn: 0.3028522\ttotal: 861ms\tremaining: 773ms\n",
      "527:\tlearn: 0.3027006\ttotal: 863ms\tremaining: 771ms\n",
      "528:\tlearn: 0.3025752\ttotal: 864ms\tremaining: 770ms\n",
      "529:\tlearn: 0.3024053\ttotal: 866ms\tremaining: 768ms\n",
      "530:\tlearn: 0.3023256\ttotal: 868ms\tremaining: 766ms\n",
      "531:\tlearn: 0.3021076\ttotal: 869ms\tremaining: 765ms\n",
      "532:\tlearn: 0.3018565\ttotal: 871ms\tremaining: 763ms\n",
      "533:\tlearn: 0.3017954\ttotal: 872ms\tremaining: 761ms\n",
      "534:\tlearn: 0.3015871\ttotal: 874ms\tremaining: 759ms\n",
      "535:\tlearn: 0.3014191\ttotal: 875ms\tremaining: 758ms\n",
      "536:\tlearn: 0.3012350\ttotal: 877ms\tremaining: 756ms\n",
      "537:\tlearn: 0.3010606\ttotal: 878ms\tremaining: 754ms\n",
      "538:\tlearn: 0.3007626\ttotal: 880ms\tremaining: 753ms\n",
      "539:\tlearn: 0.3005534\ttotal: 881ms\tremaining: 751ms\n",
      "540:\tlearn: 0.3003923\ttotal: 883ms\tremaining: 749ms\n",
      "541:\tlearn: 0.3002299\ttotal: 885ms\tremaining: 748ms\n",
      "542:\tlearn: 0.3000787\ttotal: 886ms\tremaining: 746ms\n",
      "543:\tlearn: 0.2999012\ttotal: 888ms\tremaining: 744ms\n",
      "544:\tlearn: 0.2996124\ttotal: 890ms\tremaining: 743ms\n",
      "545:\tlearn: 0.2995440\ttotal: 891ms\tremaining: 741ms\n",
      "546:\tlearn: 0.2993648\ttotal: 893ms\tremaining: 739ms\n",
      "547:\tlearn: 0.2991322\ttotal: 894ms\tremaining: 738ms\n",
      "548:\tlearn: 0.2990167\ttotal: 896ms\tremaining: 736ms\n",
      "549:\tlearn: 0.2989120\ttotal: 898ms\tremaining: 735ms\n",
      "550:\tlearn: 0.2987828\ttotal: 899ms\tremaining: 733ms\n",
      "551:\tlearn: 0.2986302\ttotal: 901ms\tremaining: 731ms\n",
      "552:\tlearn: 0.2984353\ttotal: 903ms\tremaining: 730ms\n",
      "553:\tlearn: 0.2983132\ttotal: 904ms\tremaining: 728ms\n",
      "554:\tlearn: 0.2981660\ttotal: 906ms\tremaining: 726ms\n",
      "555:\tlearn: 0.2980835\ttotal: 907ms\tremaining: 725ms\n",
      "556:\tlearn: 0.2979821\ttotal: 909ms\tremaining: 723ms\n",
      "557:\tlearn: 0.2977895\ttotal: 910ms\tremaining: 721ms\n",
      "558:\tlearn: 0.2976206\ttotal: 912ms\tremaining: 720ms\n",
      "559:\tlearn: 0.2974771\ttotal: 914ms\tremaining: 718ms\n",
      "560:\tlearn: 0.2972460\ttotal: 915ms\tremaining: 716ms\n",
      "561:\tlearn: 0.2969593\ttotal: 917ms\tremaining: 715ms\n",
      "562:\tlearn: 0.2968153\ttotal: 919ms\tremaining: 713ms\n",
      "563:\tlearn: 0.2967366\ttotal: 920ms\tremaining: 711ms\n",
      "564:\tlearn: 0.2966888\ttotal: 922ms\tremaining: 710ms\n",
      "565:\tlearn: 0.2965048\ttotal: 923ms\tremaining: 708ms\n",
      "566:\tlearn: 0.2963726\ttotal: 925ms\tremaining: 706ms\n",
      "567:\tlearn: 0.2961621\ttotal: 926ms\tremaining: 705ms\n",
      "568:\tlearn: 0.2959723\ttotal: 928ms\tremaining: 703ms\n",
      "569:\tlearn: 0.2957852\ttotal: 930ms\tremaining: 701ms\n",
      "570:\tlearn: 0.2956499\ttotal: 931ms\tremaining: 700ms\n",
      "571:\tlearn: 0.2955021\ttotal: 933ms\tremaining: 698ms\n",
      "572:\tlearn: 0.2953144\ttotal: 934ms\tremaining: 696ms\n",
      "573:\tlearn: 0.2951058\ttotal: 936ms\tremaining: 695ms\n",
      "574:\tlearn: 0.2950748\ttotal: 938ms\tremaining: 693ms\n",
      "575:\tlearn: 0.2949541\ttotal: 939ms\tremaining: 691ms\n",
      "576:\tlearn: 0.2948202\ttotal: 941ms\tremaining: 690ms\n",
      "577:\tlearn: 0.2946987\ttotal: 942ms\tremaining: 688ms\n",
      "578:\tlearn: 0.2945805\ttotal: 944ms\tremaining: 686ms\n",
      "579:\tlearn: 0.2944004\ttotal: 946ms\tremaining: 685ms\n",
      "580:\tlearn: 0.2942434\ttotal: 947ms\tremaining: 683ms\n",
      "581:\tlearn: 0.2941030\ttotal: 949ms\tremaining: 681ms\n",
      "582:\tlearn: 0.2937906\ttotal: 950ms\tremaining: 680ms\n",
      "583:\tlearn: 0.2936679\ttotal: 952ms\tremaining: 678ms\n",
      "584:\tlearn: 0.2934499\ttotal: 954ms\tremaining: 676ms\n",
      "585:\tlearn: 0.2933623\ttotal: 955ms\tremaining: 675ms\n",
      "586:\tlearn: 0.2932332\ttotal: 957ms\tremaining: 673ms\n",
      "587:\tlearn: 0.2931751\ttotal: 958ms\tremaining: 671ms\n",
      "588:\tlearn: 0.2930437\ttotal: 960ms\tremaining: 670ms\n",
      "589:\tlearn: 0.2928710\ttotal: 961ms\tremaining: 668ms\n",
      "590:\tlearn: 0.2926859\ttotal: 963ms\tremaining: 666ms\n",
      "591:\tlearn: 0.2924665\ttotal: 965ms\tremaining: 665ms\n",
      "592:\tlearn: 0.2922342\ttotal: 966ms\tremaining: 663ms\n",
      "593:\tlearn: 0.2919796\ttotal: 968ms\tremaining: 661ms\n",
      "594:\tlearn: 0.2917078\ttotal: 969ms\tremaining: 660ms\n",
      "595:\tlearn: 0.2916051\ttotal: 971ms\tremaining: 658ms\n",
      "596:\tlearn: 0.2915680\ttotal: 973ms\tremaining: 657ms\n",
      "597:\tlearn: 0.2913844\ttotal: 975ms\tremaining: 656ms\n",
      "598:\tlearn: 0.2912491\ttotal: 977ms\tremaining: 654ms\n",
      "599:\tlearn: 0.2911544\ttotal: 979ms\tremaining: 653ms\n",
      "600:\tlearn: 0.2911201\ttotal: 981ms\tremaining: 651ms\n",
      "601:\tlearn: 0.2910016\ttotal: 982ms\tremaining: 649ms\n",
      "602:\tlearn: 0.2908214\ttotal: 984ms\tremaining: 648ms\n",
      "603:\tlearn: 0.2906849\ttotal: 986ms\tremaining: 646ms\n",
      "604:\tlearn: 0.2906085\ttotal: 988ms\tremaining: 645ms\n",
      "605:\tlearn: 0.2904440\ttotal: 989ms\tremaining: 643ms\n",
      "606:\tlearn: 0.2903603\ttotal: 991ms\tremaining: 642ms\n",
      "607:\tlearn: 0.2902137\ttotal: 993ms\tremaining: 640ms\n",
      "608:\tlearn: 0.2900314\ttotal: 995ms\tremaining: 639ms\n",
      "609:\tlearn: 0.2898648\ttotal: 997ms\tremaining: 637ms\n",
      "610:\tlearn: 0.2896996\ttotal: 999ms\tremaining: 636ms\n",
      "611:\tlearn: 0.2894480\ttotal: 1s\tremaining: 634ms\n",
      "612:\tlearn: 0.2893680\ttotal: 1s\tremaining: 633ms\n",
      "613:\tlearn: 0.2892571\ttotal: 1s\tremaining: 631ms\n",
      "614:\tlearn: 0.2891479\ttotal: 1.01s\tremaining: 630ms\n",
      "615:\tlearn: 0.2890490\ttotal: 1.01s\tremaining: 628ms\n",
      "616:\tlearn: 0.2889292\ttotal: 1.01s\tremaining: 627ms\n",
      "617:\tlearn: 0.2888759\ttotal: 1.01s\tremaining: 626ms\n",
      "618:\tlearn: 0.2887502\ttotal: 1.01s\tremaining: 624ms\n",
      "619:\tlearn: 0.2886646\ttotal: 1.02s\tremaining: 623ms\n",
      "620:\tlearn: 0.2885817\ttotal: 1.02s\tremaining: 622ms\n",
      "621:\tlearn: 0.2884628\ttotal: 1.02s\tremaining: 621ms\n",
      "622:\tlearn: 0.2884096\ttotal: 1.02s\tremaining: 619ms\n",
      "623:\tlearn: 0.2882504\ttotal: 1.03s\tremaining: 618ms\n",
      "624:\tlearn: 0.2882468\ttotal: 1.03s\tremaining: 616ms\n",
      "625:\tlearn: 0.2880855\ttotal: 1.03s\tremaining: 615ms\n",
      "626:\tlearn: 0.2880147\ttotal: 1.03s\tremaining: 613ms\n",
      "627:\tlearn: 0.2878988\ttotal: 1.03s\tremaining: 611ms\n",
      "628:\tlearn: 0.2876826\ttotal: 1.03s\tremaining: 610ms\n",
      "629:\tlearn: 0.2876081\ttotal: 1.03s\tremaining: 608ms\n",
      "630:\tlearn: 0.2874470\ttotal: 1.04s\tremaining: 606ms\n",
      "631:\tlearn: 0.2873543\ttotal: 1.04s\tremaining: 605ms\n",
      "632:\tlearn: 0.2873109\ttotal: 1.04s\tremaining: 603ms\n",
      "633:\tlearn: 0.2872511\ttotal: 1.04s\tremaining: 602ms\n",
      "634:\tlearn: 0.2870726\ttotal: 1.04s\tremaining: 600ms\n",
      "635:\tlearn: 0.2869469\ttotal: 1.04s\tremaining: 598ms\n",
      "636:\tlearn: 0.2868012\ttotal: 1.05s\tremaining: 597ms\n",
      "637:\tlearn: 0.2866674\ttotal: 1.05s\tremaining: 595ms\n",
      "638:\tlearn: 0.2865351\ttotal: 1.05s\tremaining: 593ms\n",
      "639:\tlearn: 0.2863873\ttotal: 1.05s\tremaining: 592ms\n",
      "640:\tlearn: 0.2862122\ttotal: 1.05s\tremaining: 590ms\n",
      "641:\tlearn: 0.2861441\ttotal: 1.05s\tremaining: 588ms\n",
      "642:\tlearn: 0.2860292\ttotal: 1.06s\tremaining: 587ms\n",
      "643:\tlearn: 0.2859704\ttotal: 1.06s\tremaining: 585ms\n",
      "644:\tlearn: 0.2857428\ttotal: 1.06s\tremaining: 583ms\n",
      "645:\tlearn: 0.2855332\ttotal: 1.06s\tremaining: 582ms\n",
      "646:\tlearn: 0.2853658\ttotal: 1.06s\tremaining: 580ms\n",
      "647:\tlearn: 0.2852090\ttotal: 1.06s\tremaining: 578ms\n",
      "648:\tlearn: 0.2850798\ttotal: 1.07s\tremaining: 577ms\n",
      "649:\tlearn: 0.2847965\ttotal: 1.07s\tremaining: 575ms\n",
      "650:\tlearn: 0.2844871\ttotal: 1.07s\tremaining: 573ms\n",
      "651:\tlearn: 0.2844058\ttotal: 1.07s\tremaining: 572ms\n",
      "652:\tlearn: 0.2842955\ttotal: 1.07s\tremaining: 570ms\n",
      "653:\tlearn: 0.2840946\ttotal: 1.07s\tremaining: 568ms\n",
      "654:\tlearn: 0.2838860\ttotal: 1.08s\tremaining: 567ms\n",
      "655:\tlearn: 0.2837821\ttotal: 1.08s\tremaining: 565ms\n",
      "656:\tlearn: 0.2836864\ttotal: 1.08s\tremaining: 563ms\n",
      "657:\tlearn: 0.2835321\ttotal: 1.08s\tremaining: 562ms\n",
      "658:\tlearn: 0.2834020\ttotal: 1.08s\tremaining: 560ms\n",
      "659:\tlearn: 0.2832120\ttotal: 1.08s\tremaining: 559ms\n",
      "660:\tlearn: 0.2831468\ttotal: 1.09s\tremaining: 557ms\n",
      "661:\tlearn: 0.2830291\ttotal: 1.09s\tremaining: 555ms\n",
      "662:\tlearn: 0.2828439\ttotal: 1.09s\tremaining: 554ms\n",
      "663:\tlearn: 0.2827500\ttotal: 1.09s\tremaining: 552ms\n",
      "664:\tlearn: 0.2825771\ttotal: 1.09s\tremaining: 550ms\n",
      "665:\tlearn: 0.2824854\ttotal: 1.09s\tremaining: 549ms\n",
      "666:\tlearn: 0.2823846\ttotal: 1.09s\tremaining: 547ms\n",
      "667:\tlearn: 0.2822666\ttotal: 1.1s\tremaining: 545ms\n",
      "668:\tlearn: 0.2821560\ttotal: 1.1s\tremaining: 544ms\n",
      "669:\tlearn: 0.2819669\ttotal: 1.1s\tremaining: 542ms\n",
      "670:\tlearn: 0.2819216\ttotal: 1.1s\tremaining: 540ms\n",
      "671:\tlearn: 0.2817617\ttotal: 1.1s\tremaining: 539ms\n",
      "672:\tlearn: 0.2817612\ttotal: 1.1s\tremaining: 537ms\n",
      "673:\tlearn: 0.2814789\ttotal: 1.11s\tremaining: 535ms\n",
      "674:\tlearn: 0.2813377\ttotal: 1.11s\tremaining: 533ms\n",
      "675:\tlearn: 0.2811476\ttotal: 1.11s\tremaining: 532ms\n",
      "676:\tlearn: 0.2810819\ttotal: 1.11s\tremaining: 530ms\n",
      "677:\tlearn: 0.2810072\ttotal: 1.11s\tremaining: 529ms\n",
      "678:\tlearn: 0.2808254\ttotal: 1.11s\tremaining: 527ms\n",
      "679:\tlearn: 0.2806043\ttotal: 1.12s\tremaining: 525ms\n",
      "680:\tlearn: 0.2804717\ttotal: 1.12s\tremaining: 524ms\n",
      "681:\tlearn: 0.2802862\ttotal: 1.12s\tremaining: 522ms\n",
      "682:\tlearn: 0.2800833\ttotal: 1.12s\tremaining: 520ms\n",
      "683:\tlearn: 0.2798747\ttotal: 1.12s\tremaining: 519ms\n",
      "684:\tlearn: 0.2797273\ttotal: 1.12s\tremaining: 517ms\n",
      "685:\tlearn: 0.2795418\ttotal: 1.13s\tremaining: 515ms\n",
      "686:\tlearn: 0.2792866\ttotal: 1.13s\tremaining: 514ms\n",
      "687:\tlearn: 0.2790895\ttotal: 1.13s\tremaining: 512ms\n",
      "688:\tlearn: 0.2789240\ttotal: 1.13s\tremaining: 510ms\n",
      "689:\tlearn: 0.2787763\ttotal: 1.13s\tremaining: 509ms\n",
      "690:\tlearn: 0.2786684\ttotal: 1.13s\tremaining: 507ms\n",
      "691:\tlearn: 0.2785191\ttotal: 1.14s\tremaining: 505ms\n",
      "692:\tlearn: 0.2782735\ttotal: 1.14s\tremaining: 504ms\n",
      "693:\tlearn: 0.2779271\ttotal: 1.14s\tremaining: 502ms\n",
      "694:\tlearn: 0.2777063\ttotal: 1.14s\tremaining: 501ms\n",
      "695:\tlearn: 0.2774790\ttotal: 1.14s\tremaining: 499ms\n",
      "696:\tlearn: 0.2772976\ttotal: 1.14s\tremaining: 497ms\n",
      "697:\tlearn: 0.2772603\ttotal: 1.15s\tremaining: 496ms\n",
      "698:\tlearn: 0.2770880\ttotal: 1.15s\tremaining: 494ms\n",
      "699:\tlearn: 0.2769662\ttotal: 1.15s\tremaining: 492ms\n",
      "700:\tlearn: 0.2768334\ttotal: 1.15s\tremaining: 491ms\n",
      "701:\tlearn: 0.2766534\ttotal: 1.15s\tremaining: 489ms\n",
      "702:\tlearn: 0.2763107\ttotal: 1.15s\tremaining: 487ms\n",
      "703:\tlearn: 0.2761902\ttotal: 1.16s\tremaining: 486ms\n",
      "704:\tlearn: 0.2760261\ttotal: 1.16s\tremaining: 484ms\n",
      "705:\tlearn: 0.2759272\ttotal: 1.16s\tremaining: 482ms\n",
      "706:\tlearn: 0.2756756\ttotal: 1.16s\tremaining: 481ms\n",
      "707:\tlearn: 0.2754994\ttotal: 1.16s\tremaining: 480ms\n",
      "708:\tlearn: 0.2753049\ttotal: 1.17s\tremaining: 478ms\n",
      "709:\tlearn: 0.2751821\ttotal: 1.17s\tremaining: 477ms\n",
      "710:\tlearn: 0.2751353\ttotal: 1.17s\tremaining: 475ms\n",
      "711:\tlearn: 0.2749753\ttotal: 1.17s\tremaining: 474ms\n",
      "712:\tlearn: 0.2747708\ttotal: 1.17s\tremaining: 472ms\n",
      "713:\tlearn: 0.2746868\ttotal: 1.17s\tremaining: 470ms\n",
      "714:\tlearn: 0.2744691\ttotal: 1.18s\tremaining: 469ms\n",
      "715:\tlearn: 0.2742947\ttotal: 1.18s\tremaining: 467ms\n",
      "716:\tlearn: 0.2742152\ttotal: 1.18s\tremaining: 466ms\n",
      "717:\tlearn: 0.2740477\ttotal: 1.18s\tremaining: 464ms\n",
      "718:\tlearn: 0.2737189\ttotal: 1.18s\tremaining: 462ms\n",
      "719:\tlearn: 0.2735699\ttotal: 1.18s\tremaining: 461ms\n",
      "720:\tlearn: 0.2735053\ttotal: 1.19s\tremaining: 459ms\n",
      "721:\tlearn: 0.2733215\ttotal: 1.19s\tremaining: 458ms\n",
      "722:\tlearn: 0.2732337\ttotal: 1.19s\tremaining: 456ms\n",
      "723:\tlearn: 0.2730534\ttotal: 1.19s\tremaining: 454ms\n",
      "724:\tlearn: 0.2728777\ttotal: 1.19s\tremaining: 453ms\n",
      "725:\tlearn: 0.2726366\ttotal: 1.2s\tremaining: 451ms\n",
      "726:\tlearn: 0.2725608\ttotal: 1.2s\tremaining: 450ms\n",
      "727:\tlearn: 0.2723186\ttotal: 1.2s\tremaining: 448ms\n",
      "728:\tlearn: 0.2721514\ttotal: 1.2s\tremaining: 447ms\n",
      "729:\tlearn: 0.2719845\ttotal: 1.2s\tremaining: 445ms\n",
      "730:\tlearn: 0.2718790\ttotal: 1.21s\tremaining: 444ms\n",
      "731:\tlearn: 0.2716148\ttotal: 1.21s\tremaining: 442ms\n",
      "732:\tlearn: 0.2715467\ttotal: 1.21s\tremaining: 441ms\n",
      "733:\tlearn: 0.2713236\ttotal: 1.21s\tremaining: 439ms\n",
      "734:\tlearn: 0.2710301\ttotal: 1.21s\tremaining: 438ms\n",
      "735:\tlearn: 0.2709300\ttotal: 1.22s\tremaining: 436ms\n",
      "736:\tlearn: 0.2707349\ttotal: 1.22s\tremaining: 434ms\n",
      "737:\tlearn: 0.2706209\ttotal: 1.22s\tremaining: 433ms\n",
      "738:\tlearn: 0.2704504\ttotal: 1.22s\tremaining: 431ms\n",
      "739:\tlearn: 0.2702510\ttotal: 1.22s\tremaining: 430ms\n",
      "740:\tlearn: 0.2700842\ttotal: 1.22s\tremaining: 428ms\n",
      "741:\tlearn: 0.2699675\ttotal: 1.23s\tremaining: 426ms\n",
      "742:\tlearn: 0.2698886\ttotal: 1.23s\tremaining: 425ms\n",
      "743:\tlearn: 0.2697161\ttotal: 1.23s\tremaining: 423ms\n",
      "744:\tlearn: 0.2694794\ttotal: 1.23s\tremaining: 421ms\n",
      "745:\tlearn: 0.2693792\ttotal: 1.23s\tremaining: 420ms\n",
      "746:\tlearn: 0.2692466\ttotal: 1.23s\tremaining: 418ms\n",
      "747:\tlearn: 0.2689830\ttotal: 1.24s\tremaining: 416ms\n",
      "748:\tlearn: 0.2688922\ttotal: 1.24s\tremaining: 415ms\n",
      "749:\tlearn: 0.2688527\ttotal: 1.24s\tremaining: 413ms\n",
      "750:\tlearn: 0.2686994\ttotal: 1.24s\tremaining: 411ms\n",
      "751:\tlearn: 0.2685502\ttotal: 1.24s\tremaining: 410ms\n",
      "752:\tlearn: 0.2685120\ttotal: 1.24s\tremaining: 408ms\n",
      "753:\tlearn: 0.2684408\ttotal: 1.25s\tremaining: 406ms\n",
      "754:\tlearn: 0.2683611\ttotal: 1.25s\tremaining: 405ms\n",
      "755:\tlearn: 0.2682770\ttotal: 1.25s\tremaining: 403ms\n",
      "756:\tlearn: 0.2680451\ttotal: 1.25s\tremaining: 401ms\n",
      "757:\tlearn: 0.2679670\ttotal: 1.25s\tremaining: 400ms\n",
      "758:\tlearn: 0.2678107\ttotal: 1.25s\tremaining: 398ms\n",
      "759:\tlearn: 0.2676584\ttotal: 1.25s\tremaining: 396ms\n",
      "760:\tlearn: 0.2674106\ttotal: 1.26s\tremaining: 395ms\n",
      "761:\tlearn: 0.2673093\ttotal: 1.26s\tremaining: 393ms\n",
      "762:\tlearn: 0.2672490\ttotal: 1.26s\tremaining: 391ms\n",
      "763:\tlearn: 0.2671826\ttotal: 1.26s\tremaining: 390ms\n",
      "764:\tlearn: 0.2670747\ttotal: 1.26s\tremaining: 388ms\n",
      "765:\tlearn: 0.2669962\ttotal: 1.26s\tremaining: 386ms\n",
      "766:\tlearn: 0.2669276\ttotal: 1.26s\tremaining: 385ms\n",
      "767:\tlearn: 0.2668562\ttotal: 1.27s\tremaining: 383ms\n",
      "768:\tlearn: 0.2667025\ttotal: 1.27s\tremaining: 381ms\n",
      "769:\tlearn: 0.2665361\ttotal: 1.27s\tremaining: 380ms\n",
      "770:\tlearn: 0.2664344\ttotal: 1.27s\tremaining: 378ms\n",
      "771:\tlearn: 0.2662954\ttotal: 1.27s\tremaining: 376ms\n",
      "772:\tlearn: 0.2661317\ttotal: 1.27s\tremaining: 375ms\n",
      "773:\tlearn: 0.2659404\ttotal: 1.28s\tremaining: 373ms\n",
      "774:\tlearn: 0.2658111\ttotal: 1.28s\tremaining: 371ms\n",
      "775:\tlearn: 0.2656821\ttotal: 1.28s\tremaining: 370ms\n",
      "776:\tlearn: 0.2654968\ttotal: 1.28s\tremaining: 368ms\n",
      "777:\tlearn: 0.2653547\ttotal: 1.28s\tremaining: 366ms\n",
      "778:\tlearn: 0.2652422\ttotal: 1.28s\tremaining: 365ms\n",
      "779:\tlearn: 0.2649953\ttotal: 1.29s\tremaining: 363ms\n",
      "780:\tlearn: 0.2648878\ttotal: 1.29s\tremaining: 361ms\n",
      "781:\tlearn: 0.2647977\ttotal: 1.29s\tremaining: 360ms\n",
      "782:\tlearn: 0.2646208\ttotal: 1.29s\tremaining: 358ms\n",
      "783:\tlearn: 0.2645504\ttotal: 1.29s\tremaining: 356ms\n",
      "784:\tlearn: 0.2644894\ttotal: 1.29s\tremaining: 355ms\n",
      "785:\tlearn: 0.2644520\ttotal: 1.3s\tremaining: 353ms\n",
      "786:\tlearn: 0.2642461\ttotal: 1.3s\tremaining: 351ms\n",
      "787:\tlearn: 0.2640799\ttotal: 1.3s\tremaining: 350ms\n",
      "788:\tlearn: 0.2639461\ttotal: 1.3s\tremaining: 348ms\n",
      "789:\tlearn: 0.2637753\ttotal: 1.3s\tremaining: 346ms\n",
      "790:\tlearn: 0.2636524\ttotal: 1.3s\tremaining: 345ms\n",
      "791:\tlearn: 0.2635100\ttotal: 1.31s\tremaining: 343ms\n",
      "792:\tlearn: 0.2632779\ttotal: 1.31s\tremaining: 341ms\n",
      "793:\tlearn: 0.2631854\ttotal: 1.31s\tremaining: 340ms\n",
      "794:\tlearn: 0.2630934\ttotal: 1.31s\tremaining: 338ms\n",
      "795:\tlearn: 0.2628218\ttotal: 1.31s\tremaining: 336ms\n",
      "796:\tlearn: 0.2626866\ttotal: 1.31s\tremaining: 335ms\n",
      "797:\tlearn: 0.2623451\ttotal: 1.31s\tremaining: 333ms\n",
      "798:\tlearn: 0.2622050\ttotal: 1.32s\tremaining: 331ms\n",
      "799:\tlearn: 0.2621381\ttotal: 1.32s\tremaining: 330ms\n",
      "800:\tlearn: 0.2619989\ttotal: 1.32s\tremaining: 328ms\n",
      "801:\tlearn: 0.2619166\ttotal: 1.32s\tremaining: 326ms\n",
      "802:\tlearn: 0.2617097\ttotal: 1.32s\tremaining: 325ms\n",
      "803:\tlearn: 0.2615519\ttotal: 1.32s\tremaining: 323ms\n",
      "804:\tlearn: 0.2613699\ttotal: 1.33s\tremaining: 321ms\n",
      "805:\tlearn: 0.2610342\ttotal: 1.33s\tremaining: 320ms\n",
      "806:\tlearn: 0.2608761\ttotal: 1.33s\tremaining: 318ms\n",
      "807:\tlearn: 0.2607558\ttotal: 1.33s\tremaining: 317ms\n",
      "808:\tlearn: 0.2606335\ttotal: 1.33s\tremaining: 315ms\n",
      "809:\tlearn: 0.2604896\ttotal: 1.33s\tremaining: 313ms\n",
      "810:\tlearn: 0.2604274\ttotal: 1.34s\tremaining: 312ms\n",
      "811:\tlearn: 0.2602194\ttotal: 1.34s\tremaining: 310ms\n",
      "812:\tlearn: 0.2600980\ttotal: 1.34s\tremaining: 308ms\n",
      "813:\tlearn: 0.2599375\ttotal: 1.34s\tremaining: 307ms\n",
      "814:\tlearn: 0.2598673\ttotal: 1.34s\tremaining: 305ms\n",
      "815:\tlearn: 0.2597775\ttotal: 1.34s\tremaining: 303ms\n",
      "816:\tlearn: 0.2597211\ttotal: 1.35s\tremaining: 302ms\n",
      "817:\tlearn: 0.2596171\ttotal: 1.35s\tremaining: 300ms\n",
      "818:\tlearn: 0.2594447\ttotal: 1.35s\tremaining: 298ms\n",
      "819:\tlearn: 0.2592767\ttotal: 1.35s\tremaining: 297ms\n",
      "820:\tlearn: 0.2590211\ttotal: 1.35s\tremaining: 295ms\n",
      "821:\tlearn: 0.2588283\ttotal: 1.35s\tremaining: 293ms\n",
      "822:\tlearn: 0.2586671\ttotal: 1.36s\tremaining: 292ms\n",
      "823:\tlearn: 0.2585531\ttotal: 1.36s\tremaining: 290ms\n",
      "824:\tlearn: 0.2583875\ttotal: 1.36s\tremaining: 288ms\n",
      "825:\tlearn: 0.2582260\ttotal: 1.36s\tremaining: 287ms\n",
      "826:\tlearn: 0.2580572\ttotal: 1.36s\tremaining: 285ms\n",
      "827:\tlearn: 0.2577470\ttotal: 1.37s\tremaining: 284ms\n",
      "828:\tlearn: 0.2576030\ttotal: 1.37s\tremaining: 282ms\n",
      "829:\tlearn: 0.2574727\ttotal: 1.37s\tremaining: 281ms\n",
      "830:\tlearn: 0.2573264\ttotal: 1.37s\tremaining: 279ms\n",
      "831:\tlearn: 0.2572376\ttotal: 1.37s\tremaining: 277ms\n",
      "832:\tlearn: 0.2571007\ttotal: 1.37s\tremaining: 276ms\n",
      "833:\tlearn: 0.2570005\ttotal: 1.38s\tremaining: 274ms\n",
      "834:\tlearn: 0.2568793\ttotal: 1.38s\tremaining: 272ms\n",
      "835:\tlearn: 0.2567753\ttotal: 1.38s\tremaining: 271ms\n",
      "836:\tlearn: 0.2566325\ttotal: 1.38s\tremaining: 269ms\n",
      "837:\tlearn: 0.2564546\ttotal: 1.38s\tremaining: 267ms\n",
      "838:\tlearn: 0.2563887\ttotal: 1.39s\tremaining: 266ms\n",
      "839:\tlearn: 0.2562880\ttotal: 1.39s\tremaining: 264ms\n",
      "840:\tlearn: 0.2560430\ttotal: 1.39s\tremaining: 263ms\n",
      "841:\tlearn: 0.2559063\ttotal: 1.39s\tremaining: 261ms\n",
      "842:\tlearn: 0.2558207\ttotal: 1.39s\tremaining: 259ms\n",
      "843:\tlearn: 0.2557329\ttotal: 1.39s\tremaining: 258ms\n",
      "844:\tlearn: 0.2555509\ttotal: 1.4s\tremaining: 256ms\n",
      "845:\tlearn: 0.2552973\ttotal: 1.4s\tremaining: 254ms\n",
      "846:\tlearn: 0.2551855\ttotal: 1.4s\tremaining: 253ms\n",
      "847:\tlearn: 0.2550613\ttotal: 1.4s\tremaining: 251ms\n",
      "848:\tlearn: 0.2549334\ttotal: 1.4s\tremaining: 250ms\n",
      "849:\tlearn: 0.2548579\ttotal: 1.41s\tremaining: 248ms\n",
      "850:\tlearn: 0.2547671\ttotal: 1.41s\tremaining: 246ms\n",
      "851:\tlearn: 0.2546915\ttotal: 1.41s\tremaining: 245ms\n",
      "852:\tlearn: 0.2546128\ttotal: 1.41s\tremaining: 243ms\n",
      "853:\tlearn: 0.2544948\ttotal: 1.41s\tremaining: 242ms\n",
      "854:\tlearn: 0.2543979\ttotal: 1.42s\tremaining: 240ms\n",
      "855:\tlearn: 0.2541977\ttotal: 1.42s\tremaining: 238ms\n",
      "856:\tlearn: 0.2540733\ttotal: 1.42s\tremaining: 237ms\n",
      "857:\tlearn: 0.2539262\ttotal: 1.42s\tremaining: 236ms\n",
      "858:\tlearn: 0.2538780\ttotal: 1.42s\tremaining: 234ms\n",
      "859:\tlearn: 0.2538386\ttotal: 1.43s\tremaining: 232ms\n",
      "860:\tlearn: 0.2538072\ttotal: 1.43s\tremaining: 231ms\n",
      "861:\tlearn: 0.2536620\ttotal: 1.43s\tremaining: 229ms\n",
      "862:\tlearn: 0.2534293\ttotal: 1.43s\tremaining: 227ms\n",
      "863:\tlearn: 0.2533048\ttotal: 1.43s\tremaining: 226ms\n",
      "864:\tlearn: 0.2530916\ttotal: 1.44s\tremaining: 224ms\n",
      "865:\tlearn: 0.2529386\ttotal: 1.44s\tremaining: 222ms\n",
      "866:\tlearn: 0.2528629\ttotal: 1.44s\tremaining: 221ms\n",
      "867:\tlearn: 0.2527698\ttotal: 1.44s\tremaining: 219ms\n",
      "868:\tlearn: 0.2526825\ttotal: 1.44s\tremaining: 217ms\n",
      "869:\tlearn: 0.2525950\ttotal: 1.44s\tremaining: 216ms\n",
      "870:\tlearn: 0.2525143\ttotal: 1.45s\tremaining: 214ms\n",
      "871:\tlearn: 0.2524276\ttotal: 1.45s\tremaining: 212ms\n",
      "872:\tlearn: 0.2523270\ttotal: 1.45s\tremaining: 211ms\n",
      "873:\tlearn: 0.2521671\ttotal: 1.45s\tremaining: 209ms\n",
      "874:\tlearn: 0.2521223\ttotal: 1.45s\tremaining: 207ms\n",
      "875:\tlearn: 0.2519443\ttotal: 1.45s\tremaining: 206ms\n",
      "876:\tlearn: 0.2517886\ttotal: 1.46s\tremaining: 204ms\n",
      "877:\tlearn: 0.2517034\ttotal: 1.46s\tremaining: 202ms\n",
      "878:\tlearn: 0.2515651\ttotal: 1.46s\tremaining: 201ms\n",
      "879:\tlearn: 0.2514287\ttotal: 1.46s\tremaining: 199ms\n",
      "880:\tlearn: 0.2513666\ttotal: 1.46s\tremaining: 197ms\n",
      "881:\tlearn: 0.2512117\ttotal: 1.46s\tremaining: 196ms\n",
      "882:\tlearn: 0.2511382\ttotal: 1.47s\tremaining: 194ms\n",
      "883:\tlearn: 0.2509970\ttotal: 1.47s\tremaining: 192ms\n",
      "884:\tlearn: 0.2509571\ttotal: 1.47s\tremaining: 191ms\n",
      "885:\tlearn: 0.2509288\ttotal: 1.47s\tremaining: 189ms\n",
      "886:\tlearn: 0.2508522\ttotal: 1.47s\tremaining: 187ms\n",
      "887:\tlearn: 0.2507702\ttotal: 1.47s\tremaining: 186ms\n",
      "888:\tlearn: 0.2506033\ttotal: 1.47s\tremaining: 184ms\n",
      "889:\tlearn: 0.2504530\ttotal: 1.48s\tremaining: 182ms\n",
      "890:\tlearn: 0.2502376\ttotal: 1.48s\tremaining: 181ms\n",
      "891:\tlearn: 0.2501555\ttotal: 1.48s\tremaining: 179ms\n",
      "892:\tlearn: 0.2500384\ttotal: 1.48s\tremaining: 177ms\n",
      "893:\tlearn: 0.2499577\ttotal: 1.48s\tremaining: 176ms\n",
      "894:\tlearn: 0.2498325\ttotal: 1.48s\tremaining: 174ms\n",
      "895:\tlearn: 0.2496422\ttotal: 1.49s\tremaining: 172ms\n",
      "896:\tlearn: 0.2495476\ttotal: 1.49s\tremaining: 171ms\n",
      "897:\tlearn: 0.2495092\ttotal: 1.49s\tremaining: 169ms\n",
      "898:\tlearn: 0.2493802\ttotal: 1.49s\tremaining: 167ms\n",
      "899:\tlearn: 0.2492952\ttotal: 1.49s\tremaining: 166ms\n",
      "900:\tlearn: 0.2492342\ttotal: 1.49s\tremaining: 164ms\n",
      "901:\tlearn: 0.2490183\ttotal: 1.49s\tremaining: 162ms\n",
      "902:\tlearn: 0.2489562\ttotal: 1.5s\tremaining: 161ms\n",
      "903:\tlearn: 0.2488299\ttotal: 1.5s\tremaining: 159ms\n",
      "904:\tlearn: 0.2486527\ttotal: 1.5s\tremaining: 157ms\n",
      "905:\tlearn: 0.2485170\ttotal: 1.5s\tremaining: 156ms\n",
      "906:\tlearn: 0.2484228\ttotal: 1.5s\tremaining: 154ms\n",
      "907:\tlearn: 0.2482358\ttotal: 1.5s\tremaining: 153ms\n",
      "908:\tlearn: 0.2481121\ttotal: 1.51s\tremaining: 151ms\n",
      "909:\tlearn: 0.2480499\ttotal: 1.51s\tremaining: 149ms\n",
      "910:\tlearn: 0.2479801\ttotal: 1.51s\tremaining: 148ms\n",
      "911:\tlearn: 0.2478312\ttotal: 1.51s\tremaining: 146ms\n",
      "912:\tlearn: 0.2476591\ttotal: 1.51s\tremaining: 144ms\n",
      "913:\tlearn: 0.2475848\ttotal: 1.51s\tremaining: 143ms\n",
      "914:\tlearn: 0.2475188\ttotal: 1.52s\tremaining: 141ms\n",
      "915:\tlearn: 0.2473292\ttotal: 1.52s\tremaining: 139ms\n",
      "916:\tlearn: 0.2472736\ttotal: 1.52s\tremaining: 138ms\n",
      "917:\tlearn: 0.2469827\ttotal: 1.52s\tremaining: 136ms\n",
      "918:\tlearn: 0.2468691\ttotal: 1.52s\tremaining: 134ms\n",
      "919:\tlearn: 0.2467983\ttotal: 1.52s\tremaining: 133ms\n",
      "920:\tlearn: 0.2467436\ttotal: 1.53s\tremaining: 131ms\n",
      "921:\tlearn: 0.2466842\ttotal: 1.53s\tremaining: 129ms\n",
      "922:\tlearn: 0.2465431\ttotal: 1.53s\tremaining: 128ms\n",
      "923:\tlearn: 0.2464834\ttotal: 1.53s\tremaining: 126ms\n",
      "924:\tlearn: 0.2464369\ttotal: 1.53s\tremaining: 124ms\n",
      "925:\tlearn: 0.2463396\ttotal: 1.53s\tremaining: 123ms\n",
      "926:\tlearn: 0.2461750\ttotal: 1.54s\tremaining: 121ms\n",
      "927:\tlearn: 0.2461026\ttotal: 1.54s\tremaining: 119ms\n",
      "928:\tlearn: 0.2459296\ttotal: 1.54s\tremaining: 118ms\n",
      "929:\tlearn: 0.2457957\ttotal: 1.54s\tremaining: 116ms\n",
      "930:\tlearn: 0.2457761\ttotal: 1.54s\tremaining: 114ms\n",
      "931:\tlearn: 0.2456564\ttotal: 1.54s\tremaining: 113ms\n",
      "932:\tlearn: 0.2455838\ttotal: 1.54s\tremaining: 111ms\n",
      "933:\tlearn: 0.2455652\ttotal: 1.55s\tremaining: 109ms\n",
      "934:\tlearn: 0.2455145\ttotal: 1.55s\tremaining: 108ms\n",
      "935:\tlearn: 0.2454201\ttotal: 1.55s\tremaining: 106ms\n",
      "936:\tlearn: 0.2453026\ttotal: 1.55s\tremaining: 104ms\n",
      "937:\tlearn: 0.2451352\ttotal: 1.55s\tremaining: 103ms\n",
      "938:\tlearn: 0.2449199\ttotal: 1.56s\tremaining: 101ms\n",
      "939:\tlearn: 0.2447912\ttotal: 1.56s\tremaining: 99.5ms\n",
      "940:\tlearn: 0.2446926\ttotal: 1.56s\tremaining: 97.8ms\n",
      "941:\tlearn: 0.2446319\ttotal: 1.56s\tremaining: 96.2ms\n",
      "942:\tlearn: 0.2445840\ttotal: 1.56s\tremaining: 94.5ms\n",
      "943:\tlearn: 0.2445131\ttotal: 1.57s\tremaining: 92.9ms\n",
      "944:\tlearn: 0.2443940\ttotal: 1.57s\tremaining: 91.3ms\n",
      "945:\tlearn: 0.2443005\ttotal: 1.57s\tremaining: 89.6ms\n",
      "946:\tlearn: 0.2442561\ttotal: 1.57s\tremaining: 87.9ms\n",
      "947:\tlearn: 0.2441644\ttotal: 1.57s\tremaining: 86.3ms\n",
      "948:\tlearn: 0.2440142\ttotal: 1.57s\tremaining: 84.6ms\n",
      "949:\tlearn: 0.2438318\ttotal: 1.58s\tremaining: 83ms\n",
      "950:\tlearn: 0.2437815\ttotal: 1.58s\tremaining: 81.3ms\n",
      "951:\tlearn: 0.2435462\ttotal: 1.58s\tremaining: 79.7ms\n",
      "952:\tlearn: 0.2433494\ttotal: 1.58s\tremaining: 78ms\n",
      "953:\tlearn: 0.2432592\ttotal: 1.58s\tremaining: 76.4ms\n",
      "954:\tlearn: 0.2431598\ttotal: 1.58s\tremaining: 74.7ms\n",
      "955:\tlearn: 0.2430813\ttotal: 1.59s\tremaining: 73.1ms\n",
      "956:\tlearn: 0.2430279\ttotal: 1.59s\tremaining: 71.4ms\n",
      "957:\tlearn: 0.2429997\ttotal: 1.59s\tremaining: 69.8ms\n",
      "958:\tlearn: 0.2427906\ttotal: 1.59s\tremaining: 68.1ms\n",
      "959:\tlearn: 0.2425882\ttotal: 1.59s\tremaining: 66.5ms\n",
      "960:\tlearn: 0.2425177\ttotal: 1.6s\tremaining: 64.8ms\n",
      "961:\tlearn: 0.2424042\ttotal: 1.6s\tremaining: 63.2ms\n",
      "962:\tlearn: 0.2421820\ttotal: 1.6s\tremaining: 61.5ms\n",
      "963:\tlearn: 0.2420957\ttotal: 1.6s\tremaining: 59.9ms\n",
      "964:\tlearn: 0.2420389\ttotal: 1.6s\tremaining: 58.2ms\n",
      "965:\tlearn: 0.2419253\ttotal: 1.61s\tremaining: 56.5ms\n",
      "966:\tlearn: 0.2418331\ttotal: 1.61s\tremaining: 54.9ms\n",
      "967:\tlearn: 0.2415311\ttotal: 1.61s\tremaining: 53.2ms\n",
      "968:\tlearn: 0.2414404\ttotal: 1.61s\tremaining: 51.6ms\n",
      "969:\tlearn: 0.2411904\ttotal: 1.61s\tremaining: 50ms\n",
      "970:\tlearn: 0.2411252\ttotal: 1.62s\tremaining: 48.3ms\n",
      "971:\tlearn: 0.2410132\ttotal: 1.62s\tremaining: 46.6ms\n",
      "972:\tlearn: 0.2408231\ttotal: 1.62s\tremaining: 45ms\n",
      "973:\tlearn: 0.2407445\ttotal: 1.62s\tremaining: 43.3ms\n",
      "974:\tlearn: 0.2406888\ttotal: 1.62s\tremaining: 41.6ms\n",
      "975:\tlearn: 0.2405702\ttotal: 1.63s\tremaining: 40ms\n",
      "976:\tlearn: 0.2404749\ttotal: 1.63s\tremaining: 38.3ms\n",
      "977:\tlearn: 0.2404292\ttotal: 1.63s\tremaining: 36.7ms\n",
      "978:\tlearn: 0.2403390\ttotal: 1.63s\tremaining: 35ms\n",
      "979:\tlearn: 0.2402785\ttotal: 1.63s\tremaining: 33.3ms\n",
      "980:\tlearn: 0.2401382\ttotal: 1.63s\tremaining: 31.6ms\n",
      "981:\tlearn: 0.2399581\ttotal: 1.64s\tremaining: 30ms\n",
      "982:\tlearn: 0.2399037\ttotal: 1.64s\tremaining: 28.3ms\n",
      "983:\tlearn: 0.2398530\ttotal: 1.64s\tremaining: 26.6ms\n",
      "984:\tlearn: 0.2397249\ttotal: 1.64s\tremaining: 25ms\n",
      "985:\tlearn: 0.2395466\ttotal: 1.64s\tremaining: 23.3ms\n",
      "986:\tlearn: 0.2394882\ttotal: 1.64s\tremaining: 21.7ms\n",
      "987:\tlearn: 0.2393009\ttotal: 1.65s\tremaining: 20ms\n",
      "988:\tlearn: 0.2392905\ttotal: 1.65s\tremaining: 18.3ms\n",
      "989:\tlearn: 0.2392112\ttotal: 1.65s\tremaining: 16.7ms\n",
      "990:\tlearn: 0.2390565\ttotal: 1.65s\tremaining: 15ms\n",
      "991:\tlearn: 0.2388907\ttotal: 1.65s\tremaining: 13.3ms\n",
      "992:\tlearn: 0.2387723\ttotal: 1.65s\tremaining: 11.7ms\n",
      "993:\tlearn: 0.2386970\ttotal: 1.66s\tremaining: 9.99ms\n",
      "994:\tlearn: 0.2386520\ttotal: 1.66s\tremaining: 8.32ms\n",
      "995:\tlearn: 0.2385878\ttotal: 1.66s\tremaining: 6.66ms\n",
      "996:\tlearn: 0.2385524\ttotal: 1.66s\tremaining: 5ms\n",
      "997:\tlearn: 0.2383020\ttotal: 1.66s\tremaining: 3.33ms\n",
      "998:\tlearn: 0.2382189\ttotal: 1.66s\tremaining: 1.66ms\n",
      "999:\tlearn: 0.2380041\ttotal: 1.66s\tremaining: 0us\n",
      "              precision    recall  f1-score   support\n",
      "\n",
      "           0       0.83      0.88      0.85       110\n",
      "           1       0.79      0.71      0.75        69\n",
      "\n",
      "    accuracy                           0.82       179\n",
      "   macro avg       0.81      0.80      0.80       179\n",
      "weighted avg       0.81      0.82      0.81       179\n",
      "\n"
     ]
    },
    {
     "data": {
      "image/png": "[encoded data removed]",
      "text/plain": [
       "<Figure size 640x480 with 2 Axes>"
      ]
     },
     "metadata": {},
     "output_type": "display_data"
    },
    {
     "data": {
      "text/plain": [
       "<catboost.core.CatBoostClassifier at 0x20d3ef9df90>"
      ]
     },
     "execution_count": 158,
     "metadata": {},
     "output_type": "execute_result"
    }
   ],
   "source": [
    "from catboost import CatBoostClassifier\n",
    "\n",
    "execute_ml(CatBoostClassifier(),\n",
    "           X_train, y_train, X_test, y_test)"
   ]
  },
  {
   "cell_type": "markdown",
   "id": "bf24e85b",
   "metadata": {
    "papermill": {
     "duration": 0.0169,
     "end_time": "2022-10-03T18:31:00.008952",
     "exception": false,
     "start_time": "2022-10-03T18:30:59.992052",
     "status": "completed"
    },
    "tags": []
   },
   "source": [
    "### Support Vector Machine classifier"
   ]
  },
  {
   "cell_type": "code",
   "execution_count": 159,
   "id": "2e6306cc",
   "metadata": {
    "papermill": {
     "duration": 0.752978,
     "end_time": "2022-10-03T18:31:00.778798",
     "exception": false,
     "start_time": "2022-10-03T18:31:00.025820",
     "status": "completed"
    },
    "tags": []
   },
   "outputs": [
    {
     "name": "stdout",
     "output_type": "stream",
     "text": [
      "              precision    recall  f1-score   support\n",
      "\n",
      "           0       0.66      0.92      0.77       110\n",
      "           1       0.64      0.23      0.34        69\n",
      "\n",
      "    accuracy                           0.65       179\n",
      "   macro avg       0.65      0.58      0.55       179\n",
      "weighted avg       0.65      0.65      0.60       179\n",
      "\n"
     ]
    },
    {
     "data": {
      "image/png": "[encoded data removed]",
      "text/plain": [
       "<Figure size 640x480 with 2 Axes>"
      ]
     },
     "metadata": {},
     "output_type": "display_data"
    },
    {
     "data": {
      "text/html": [
       "<style>#sk-container-id-53 {color: black;background-color: white;}#sk-container-id-53 pre{padding: 0;}#sk-container-id-53 div.sk-toggleable {background-color: white;}#sk-container-id-53 label.sk-toggleable__label {cursor: pointer;display: block;width: 100%;margin-bottom: 0;padding: 0.3em;box-sizing: border-box;text-align: center;}#sk-container-id-53 label.sk-toggleable__label-arrow:before {content: \"▸\";float: left;margin-right: 0.25em;color: #696969;}#sk-container-id-53 label.sk-toggleable__label-arrow:hover:before {color: black;}#sk-container-id-53 div.sk-estimator:hover label.sk-toggleable__label-arrow:before {color: black;}#sk-container-id-53 div.sk-toggleable__content {max-height: 0;max-width: 0;overflow: hidden;text-align: left;background-color: #f0f8ff;}#sk-container-id-53 div.sk-toggleable__content pre {margin: 0.2em;color: black;border-radius: 0.25em;background-color: #f0f8ff;}#sk-container-id-53 input.sk-toggleable__control:checked~div.sk-toggleable__content {max-height: 200px;max-width: 100%;overflow: auto;}#sk-container-id-53 input.sk-toggleable__control:checked~label.sk-toggleable__label-arrow:before {content: \"▾\";}#sk-container-id-53 div.sk-estimator input.sk-toggleable__control:checked~label.sk-toggleable__label {background-color: #d4ebff;}#sk-container-id-53 div.sk-label input.sk-toggleable__control:checked~label.sk-toggleable__label {background-color: #d4ebff;}#sk-container-id-53 input.sk-hidden--visually {border: 0;clip: rect(1px 1px 1px 1px);clip: rect(1px, 1px, 1px, 1px);height: 1px;margin: -1px;overflow: hidden;padding: 0;position: absolute;width: 1px;}#sk-container-id-53 div.sk-estimator {font-family: monospace;background-color: #f0f8ff;border: 1px dotted black;border-radius: 0.25em;box-sizing: border-box;margin-bottom: 0.5em;}#sk-container-id-53 div.sk-estimator:hover {background-color: #d4ebff;}#sk-container-id-53 div.sk-parallel-item::after {content: \"\";width: 100%;border-bottom: 1px solid gray;flex-grow: 1;}#sk-container-id-53 div.sk-label:hover label.sk-toggleable__label {background-color: #d4ebff;}#sk-container-id-53 div.sk-serial::before {content: \"\";position: absolute;border-left: 1px solid gray;box-sizing: border-box;top: 0;bottom: 0;left: 50%;z-index: 0;}#sk-container-id-53 div.sk-serial {display: flex;flex-direction: column;align-items: center;background-color: white;padding-right: 0.2em;padding-left: 0.2em;position: relative;}#sk-container-id-53 div.sk-item {position: relative;z-index: 1;}#sk-container-id-53 div.sk-parallel {display: flex;align-items: stretch;justify-content: center;background-color: white;position: relative;}#sk-container-id-53 div.sk-item::before, #sk-container-id-53 div.sk-parallel-item::before {content: \"\";position: absolute;border-left: 1px solid gray;box-sizing: border-box;top: 0;bottom: 0;left: 50%;z-index: -1;}#sk-container-id-53 div.sk-parallel-item {display: flex;flex-direction: column;z-index: 1;position: relative;background-color: white;}#sk-container-id-53 div.sk-parallel-item:first-child::after {align-self: flex-end;width: 50%;}#sk-container-id-53 div.sk-parallel-item:last-child::after {align-self: flex-start;width: 50%;}#sk-container-id-53 div.sk-parallel-item:only-child::after {width: 0;}#sk-container-id-53 div.sk-dashed-wrapped {border: 1px dashed gray;margin: 0 0.4em 0.5em 0.4em;box-sizing: border-box;padding-bottom: 0.4em;background-color: white;}#sk-container-id-53 div.sk-label label {font-family: monospace;font-weight: bold;display: inline-block;line-height: 1.2em;}#sk-container-id-53 div.sk-label-container {text-align: center;}#sk-container-id-53 div.sk-container {/* jupyter's `normalize.less` sets `[hidden] { display: none; }` but bootstrap.min.css set `[hidden] { display: none !important; }` so we also need the `!important` here to be able to override the default hidden behavior on the sphinx rendered scikit-learn.org. See: https://github.com/scikit-learn/scikit-learn/issues/21755 */display: inline-block !important;position: relative;}#sk-container-id-53 div.sk-text-repr-fallback {display: none;}</style><div id=\"sk-container-id-53\" class=\"sk-top-container\"><div class=\"sk-text-repr-fallback\"><pre>SVC(random_state=12)</pre><b>In a Jupyter environment, please rerun this cell to show the HTML representation or trust the notebook. <br />On GitHub, the HTML representation is unable to render, please try loading this page with nbviewer.org.</b></div><div class=\"sk-container\" hidden><div class=\"sk-item\"><div class=\"sk-estimator sk-toggleable\"><input class=\"sk-toggleable__control sk-hidden--visually\" id=\"sk-estimator-id-59\" type=\"checkbox\" checked><label for=\"sk-estimator-id-59\" class=\"sk-toggleable__label sk-toggleable__label-arrow\">SVC</label><div class=\"sk-toggleable__content\"><pre>SVC(random_state=12)</pre></div></div></div></div></div>"
      ],
      "text/plain": [
       "SVC(random_state=12)"
      ]
     },
     "execution_count": 159,
     "metadata": {},
     "output_type": "execute_result"
    }
   ],
   "source": [
    "from sklearn import svm\n",
    "\n",
    "execute_ml(svm.SVC(probability=False, random_state=12),\n",
    "           X_train, y_train, X_test, y_test)"
   ]
  },
  {
   "cell_type": "markdown",
   "id": "0882cadb",
   "metadata": {
    "papermill": {
     "duration": 0.016763,
     "end_time": "2022-10-03T18:31:00.812557",
     "exception": false,
     "start_time": "2022-10-03T18:31:00.795794",
     "status": "completed"
    },
    "tags": []
   },
   "source": [
    "### Bagging classifier"
   ]
  },
  {
   "cell_type": "code",
   "execution_count": 160,
   "id": "0b64859e",
   "metadata": {
    "papermill": {
     "duration": 70.277579,
     "end_time": "2022-10-03T18:32:11.107167",
     "exception": false,
     "start_time": "2022-10-03T18:31:00.829588",
     "status": "completed"
    },
    "tags": []
   },
   "outputs": [
    {
     "name": "stdout",
     "output_type": "stream",
     "text": [
      "              precision    recall  f1-score   support\n",
      "\n",
      "           0       0.84      0.91      0.87       110\n",
      "           1       0.83      0.72      0.78        69\n",
      "\n",
      "    accuracy                           0.84       179\n",
      "   macro avg       0.84      0.82      0.82       179\n",
      "weighted avg       0.84      0.84      0.84       179\n",
      "\n"
     ]
    },
    {
     "data": {
      "image/png": "[encoded data removed]",
      "text/plain": [
       "<Figure size 640x480 with 2 Axes>"
      ]
     },
     "metadata": {},
     "output_type": "display_data"
    },
    {
     "data": {
      "text/html": [
       "<style>#sk-container-id-54 {color: black;background-color: white;}#sk-container-id-54 pre{padding: 0;}#sk-container-id-54 div.sk-toggleable {background-color: white;}#sk-container-id-54 label.sk-toggleable__label {cursor: pointer;display: block;width: 100%;margin-bottom: 0;padding: 0.3em;box-sizing: border-box;text-align: center;}#sk-container-id-54 label.sk-toggleable__label-arrow:before {content: \"▸\";float: left;margin-right: 0.25em;color: #696969;}#sk-container-id-54 label.sk-toggleable__label-arrow:hover:before {color: black;}#sk-container-id-54 div.sk-estimator:hover label.sk-toggleable__label-arrow:before {color: black;}#sk-container-id-54 div.sk-toggleable__content {max-height: 0;max-width: 0;overflow: hidden;text-align: left;background-color: #f0f8ff;}#sk-container-id-54 div.sk-toggleable__content pre {margin: 0.2em;color: black;border-radius: 0.25em;background-color: #f0f8ff;}#sk-container-id-54 input.sk-toggleable__control:checked~div.sk-toggleable__content {max-height: 200px;max-width: 100%;overflow: auto;}#sk-container-id-54 input.sk-toggleable__control:checked~label.sk-toggleable__label-arrow:before {content: \"▾\";}#sk-container-id-54 div.sk-estimator input.sk-toggleable__control:checked~label.sk-toggleable__label {background-color: #d4ebff;}#sk-container-id-54 div.sk-label input.sk-toggleable__control:checked~label.sk-toggleable__label {background-color: #d4ebff;}#sk-container-id-54 input.sk-hidden--visually {border: 0;clip: rect(1px 1px 1px 1px);clip: rect(1px, 1px, 1px, 1px);height: 1px;margin: -1px;overflow: hidden;padding: 0;position: absolute;width: 1px;}#sk-container-id-54 div.sk-estimator {font-family: monospace;background-color: #f0f8ff;border: 1px dotted black;border-radius: 0.25em;box-sizing: border-box;margin-bottom: 0.5em;}#sk-container-id-54 div.sk-estimator:hover {background-color: #d4ebff;}#sk-container-id-54 div.sk-parallel-item::after {content: \"\";width: 100%;border-bottom: 1px solid gray;flex-grow: 1;}#sk-container-id-54 div.sk-label:hover label.sk-toggleable__label {background-color: #d4ebff;}#sk-container-id-54 div.sk-serial::before {content: \"\";position: absolute;border-left: 1px solid gray;box-sizing: border-box;top: 0;bottom: 0;left: 50%;z-index: 0;}#sk-container-id-54 div.sk-serial {display: flex;flex-direction: column;align-items: center;background-color: white;padding-right: 0.2em;padding-left: 0.2em;position: relative;}#sk-container-id-54 div.sk-item {position: relative;z-index: 1;}#sk-container-id-54 div.sk-parallel {display: flex;align-items: stretch;justify-content: center;background-color: white;position: relative;}#sk-container-id-54 div.sk-item::before, #sk-container-id-54 div.sk-parallel-item::before {content: \"\";position: absolute;border-left: 1px solid gray;box-sizing: border-box;top: 0;bottom: 0;left: 50%;z-index: -1;}#sk-container-id-54 div.sk-parallel-item {display: flex;flex-direction: column;z-index: 1;position: relative;background-color: white;}#sk-container-id-54 div.sk-parallel-item:first-child::after {align-self: flex-end;width: 50%;}#sk-container-id-54 div.sk-parallel-item:last-child::after {align-self: flex-start;width: 50%;}#sk-container-id-54 div.sk-parallel-item:only-child::after {width: 0;}#sk-container-id-54 div.sk-dashed-wrapped {border: 1px dashed gray;margin: 0 0.4em 0.5em 0.4em;box-sizing: border-box;padding-bottom: 0.4em;background-color: white;}#sk-container-id-54 div.sk-label label {font-family: monospace;font-weight: bold;display: inline-block;line-height: 1.2em;}#sk-container-id-54 div.sk-label-container {text-align: center;}#sk-container-id-54 div.sk-container {/* jupyter's `normalize.less` sets `[hidden] { display: none; }` but bootstrap.min.css set `[hidden] { display: none !important; }` so we also need the `!important` here to be able to override the default hidden behavior on the sphinx rendered scikit-learn.org. See: https://github.com/scikit-learn/scikit-learn/issues/21755 */display: inline-block !important;position: relative;}#sk-container-id-54 div.sk-text-repr-fallback {display: none;}</style><div id=\"sk-container-id-54\" class=\"sk-top-container\"><div class=\"sk-text-repr-fallback\"><pre>BaggingClassifier(base_estimator=DecisionTreeClassifier(), max_features=0.8,\n",
       "                  max_samples=0.8, n_estimators=200, oob_score=True,\n",
       "                  random_state=12)</pre><b>In a Jupyter environment, please rerun this cell to show the HTML representation or trust the notebook. <br />On GitHub, the HTML representation is unable to render, please try loading this page with nbviewer.org.</b></div><div class=\"sk-container\" hidden><div class=\"sk-item sk-dashed-wrapped\"><div class=\"sk-label-container\"><div class=\"sk-label sk-toggleable\"><input class=\"sk-toggleable__control sk-hidden--visually\" id=\"sk-estimator-id-60\" type=\"checkbox\" ><label for=\"sk-estimator-id-60\" class=\"sk-toggleable__label sk-toggleable__label-arrow\">BaggingClassifier</label><div class=\"sk-toggleable__content\"><pre>BaggingClassifier(base_estimator=DecisionTreeClassifier(), max_features=0.8,\n",
       "                  max_samples=0.8, n_estimators=200, oob_score=True,\n",
       "                  random_state=12)</pre></div></div></div><div class=\"sk-parallel\"><div class=\"sk-parallel-item\"><div class=\"sk-item\"><div class=\"sk-label-container\"><div class=\"sk-label sk-toggleable\"><input class=\"sk-toggleable__control sk-hidden--visually\" id=\"sk-estimator-id-61\" type=\"checkbox\" ><label for=\"sk-estimator-id-61\" class=\"sk-toggleable__label sk-toggleable__label-arrow\">base_estimator: DecisionTreeClassifier</label><div class=\"sk-toggleable__content\"><pre>DecisionTreeClassifier()</pre></div></div></div><div class=\"sk-serial\"><div class=\"sk-item\"><div class=\"sk-estimator sk-toggleable\"><input class=\"sk-toggleable__control sk-hidden--visually\" id=\"sk-estimator-id-62\" type=\"checkbox\" ><label for=\"sk-estimator-id-62\" class=\"sk-toggleable__label sk-toggleable__label-arrow\">DecisionTreeClassifier</label><div class=\"sk-toggleable__content\"><pre>DecisionTreeClassifier()</pre></div></div></div></div></div></div></div></div></div></div>"
      ],
      "text/plain": [
       "BaggingClassifier(base_estimator=DecisionTreeClassifier(), max_features=0.8,\n",
       "                  max_samples=0.8, n_estimators=200, oob_score=True,\n",
       "                  random_state=12)"
      ]
     },
     "execution_count": 160,
     "metadata": {},
     "output_type": "execute_result"
    }
   ],
   "source": [
    "from sklearn.ensemble import BaggingClassifier\n",
    "from sklearn.tree import DecisionTreeClassifier\n",
    "\n",
    "execute_ml(BaggingClassifier(DecisionTreeClassifier(),\n",
    "                             n_estimators=200,\n",
    "                             max_samples=0.8,\n",
    "                             max_features=0.8,\n",
    "                             oob_score=True,\n",
    "                             random_state=12),\n",
    "           X_train, y_train, X_test, y_test)"
   ]
  },
  {
   "cell_type": "markdown",
   "id": "674e49da-1f7f-4670-8640-ef3ece340a68",
   "metadata": {},
   "source": [
    "### Multilayer perceptron"
   ]
  },
  {
   "cell_type": "code",
   "execution_count": 161,
   "id": "2ea61b23-6e9e-4608-a305-eed3ee61fbb0",
   "metadata": {},
   "outputs": [
    {
     "name": "stdout",
     "output_type": "stream",
     "text": [
      "              precision    recall  f1-score   support\n",
      "\n",
      "           0       0.88      0.77      0.82       110\n",
      "           1       0.70      0.83      0.75        69\n",
      "\n",
      "    accuracy                           0.79       179\n",
      "   macro avg       0.79      0.80      0.79       179\n",
      "weighted avg       0.81      0.79      0.80       179\n",
      "\n"
     ]
    },
    {
     "name": "stderr",
     "output_type": "stream",
     "text": [
      "C:\\Users\\Babak\\AppData\\Local\\Programs\\Python\\Python310\\lib\\site-packages\\sklearn\\neural_network\\_multilayer_perceptron.py:702: ConvergenceWarning: Stochastic Optimizer: Maximum iterations (200) reached and the optimization hasn't converged yet.\n",
      "  warnings.warn(\n"
     ]
    },
    {
     "data": {
      "image/png": "[encoded data removed]",
      "text/plain": [
       "<Figure size 640x480 with 2 Axes>"
      ]
     },
     "metadata": {},
     "output_type": "display_data"
    },
    {
     "data": {
      "text/html": [
       "<style>#sk-container-id-55 {color: black;background-color: white;}#sk-container-id-55 pre{padding: 0;}#sk-container-id-55 div.sk-toggleable {background-color: white;}#sk-container-id-55 label.sk-toggleable__label {cursor: pointer;display: block;width: 100%;margin-bottom: 0;padding: 0.3em;box-sizing: border-box;text-align: center;}#sk-container-id-55 label.sk-toggleable__label-arrow:before {content: \"▸\";float: left;margin-right: 0.25em;color: #696969;}#sk-container-id-55 label.sk-toggleable__label-arrow:hover:before {color: black;}#sk-container-id-55 div.sk-estimator:hover label.sk-toggleable__label-arrow:before {color: black;}#sk-container-id-55 div.sk-toggleable__content {max-height: 0;max-width: 0;overflow: hidden;text-align: left;background-color: #f0f8ff;}#sk-container-id-55 div.sk-toggleable__content pre {margin: 0.2em;color: black;border-radius: 0.25em;background-color: #f0f8ff;}#sk-container-id-55 input.sk-toggleable__control:checked~div.sk-toggleable__content {max-height: 200px;max-width: 100%;overflow: auto;}#sk-container-id-55 input.sk-toggleable__control:checked~label.sk-toggleable__label-arrow:before {content: \"▾\";}#sk-container-id-55 div.sk-estimator input.sk-toggleable__control:checked~label.sk-toggleable__label {background-color: #d4ebff;}#sk-container-id-55 div.sk-label input.sk-toggleable__control:checked~label.sk-toggleable__label {background-color: #d4ebff;}#sk-container-id-55 input.sk-hidden--visually {border: 0;clip: rect(1px 1px 1px 1px);clip: rect(1px, 1px, 1px, 1px);height: 1px;margin: -1px;overflow: hidden;padding: 0;position: absolute;width: 1px;}#sk-container-id-55 div.sk-estimator {font-family: monospace;background-color: #f0f8ff;border: 1px dotted black;border-radius: 0.25em;box-sizing: border-box;margin-bottom: 0.5em;}#sk-container-id-55 div.sk-estimator:hover {background-color: #d4ebff;}#sk-container-id-55 div.sk-parallel-item::after {content: \"\";width: 100%;border-bottom: 1px solid gray;flex-grow: 1;}#sk-container-id-55 div.sk-label:hover label.sk-toggleable__label {background-color: #d4ebff;}#sk-container-id-55 div.sk-serial::before {content: \"\";position: absolute;border-left: 1px solid gray;box-sizing: border-box;top: 0;bottom: 0;left: 50%;z-index: 0;}#sk-container-id-55 div.sk-serial {display: flex;flex-direction: column;align-items: center;background-color: white;padding-right: 0.2em;padding-left: 0.2em;position: relative;}#sk-container-id-55 div.sk-item {position: relative;z-index: 1;}#sk-container-id-55 div.sk-parallel {display: flex;align-items: stretch;justify-content: center;background-color: white;position: relative;}#sk-container-id-55 div.sk-item::before, #sk-container-id-55 div.sk-parallel-item::before {content: \"\";position: absolute;border-left: 1px solid gray;box-sizing: border-box;top: 0;bottom: 0;left: 50%;z-index: -1;}#sk-container-id-55 div.sk-parallel-item {display: flex;flex-direction: column;z-index: 1;position: relative;background-color: white;}#sk-container-id-55 div.sk-parallel-item:first-child::after {align-self: flex-end;width: 50%;}#sk-container-id-55 div.sk-parallel-item:last-child::after {align-self: flex-start;width: 50%;}#sk-container-id-55 div.sk-parallel-item:only-child::after {width: 0;}#sk-container-id-55 div.sk-dashed-wrapped {border: 1px dashed gray;margin: 0 0.4em 0.5em 0.4em;box-sizing: border-box;padding-bottom: 0.4em;background-color: white;}#sk-container-id-55 div.sk-label label {font-family: monospace;font-weight: bold;display: inline-block;line-height: 1.2em;}#sk-container-id-55 div.sk-label-container {text-align: center;}#sk-container-id-55 div.sk-container {/* jupyter's `normalize.less` sets `[hidden] { display: none; }` but bootstrap.min.css set `[hidden] { display: none !important; }` so we also need the `!important` here to be able to override the default hidden behavior on the sphinx rendered scikit-learn.org. See: https://github.com/scikit-learn/scikit-learn/issues/21755 */display: inline-block !important;position: relative;}#sk-container-id-55 div.sk-text-repr-fallback {display: none;}</style><div id=\"sk-container-id-55\" class=\"sk-top-container\"><div class=\"sk-text-repr-fallback\"><pre>MLPClassifier(activation=&#x27;logistic&#x27;, random_state=12)</pre><b>In a Jupyter environment, please rerun this cell to show the HTML representation or trust the notebook. <br />On GitHub, the HTML representation is unable to render, please try loading this page with nbviewer.org.</b></div><div class=\"sk-container\" hidden><div class=\"sk-item\"><div class=\"sk-estimator sk-toggleable\"><input class=\"sk-toggleable__control sk-hidden--visually\" id=\"sk-estimator-id-63\" type=\"checkbox\" checked><label for=\"sk-estimator-id-63\" class=\"sk-toggleable__label sk-toggleable__label-arrow\">MLPClassifier</label><div class=\"sk-toggleable__content\"><pre>MLPClassifier(activation=&#x27;logistic&#x27;, random_state=12)</pre></div></div></div></div></div>"
      ],
      "text/plain": [
       "MLPClassifier(activation='logistic', random_state=12)"
      ]
     },
     "execution_count": 161,
     "metadata": {},
     "output_type": "execute_result"
    }
   ],
   "source": [
    "from sklearn.neural_network import MLPClassifier\n",
    "\n",
    "execute_ml(MLPClassifier(hidden_layer_sizes=(100,), activation='logistic', solver='adam', random_state=12),\n",
    "           X_train, y_train, X_test, y_test)"
   ]
  },
  {
   "cell_type": "markdown",
   "id": "9b9a78da",
   "metadata": {
    "papermill": {
     "duration": 0.01738,
     "end_time": "2022-10-03T18:32:11.142837",
     "exception": false,
     "start_time": "2022-10-03T18:32:11.125457",
     "status": "completed"
    },
    "tags": []
   },
   "source": [
    "## Evaluation"
   ]
  },
  {
   "cell_type": "code",
   "execution_count": 162,
   "id": "b4331508",
   "metadata": {
    "papermill": {
     "duration": 0.040974,
     "end_time": "2022-10-03T18:32:11.201316",
     "exception": false,
     "start_time": "2022-10-03T18:32:11.160342",
     "status": "completed"
    },
    "tags": []
   },
   "outputs": [
    {
     "data": {
      "text/html": [
       "<div>\n",
       "<style scoped>\n",
       "    .dataframe tbody tr th:only-of-type {\n",
       "        vertical-align: middle;\n",
       "    }\n",
       "\n",
       "    .dataframe tbody tr th {\n",
       "        vertical-align: top;\n",
       "    }\n",
       "\n",
       "    .dataframe thead th {\n",
       "        text-align: right;\n",
       "    }\n",
       "</style>\n",
       "<table border=\"1\" class=\"dataframe\">\n",
       "  <thead>\n",
       "    <tr style=\"text-align: right;\">\n",
       "      <th></th>\n",
       "      <th>Model</th>\n",
       "      <th>accuracy score</th>\n",
       "      <th>Precision</th>\n",
       "      <th>Recall</th>\n",
       "      <th>f1_score</th>\n",
       "    </tr>\n",
       "  </thead>\n",
       "  <tbody>\n",
       "    <tr>\n",
       "      <th>0</th>\n",
       "      <td>KNeighborsClassifier</td>\n",
       "      <td>0.636872</td>\n",
       "      <td>0.566667</td>\n",
       "      <td>0.246377</td>\n",
       "      <td>0.343434</td>\n",
       "    </tr>\n",
       "    <tr>\n",
       "      <th>1</th>\n",
       "      <td>LogisticRegression</td>\n",
       "      <td>0.782123</td>\n",
       "      <td>0.720588</td>\n",
       "      <td>0.710145</td>\n",
       "      <td>0.715328</td>\n",
       "    </tr>\n",
       "    <tr>\n",
       "      <th>2</th>\n",
       "      <td>LogisticRegressionCV</td>\n",
       "      <td>0.787709</td>\n",
       "      <td>0.738462</td>\n",
       "      <td>0.695652</td>\n",
       "      <td>0.716418</td>\n",
       "    </tr>\n",
       "    <tr>\n",
       "      <th>3</th>\n",
       "      <td>BernoulliNB</td>\n",
       "      <td>0.770950</td>\n",
       "      <td>0.694444</td>\n",
       "      <td>0.724638</td>\n",
       "      <td>0.709220</td>\n",
       "    </tr>\n",
       "    <tr>\n",
       "      <th>4</th>\n",
       "      <td>RandomForestClassifier</td>\n",
       "      <td>0.821229</td>\n",
       "      <td>0.793651</td>\n",
       "      <td>0.724638</td>\n",
       "      <td>0.757576</td>\n",
       "    </tr>\n",
       "    <tr>\n",
       "      <th>5</th>\n",
       "      <td>RandomForestClassifier</td>\n",
       "      <td>0.843575</td>\n",
       "      <td>0.836066</td>\n",
       "      <td>0.739130</td>\n",
       "      <td>0.784615</td>\n",
       "    </tr>\n",
       "    <tr>\n",
       "      <th>6</th>\n",
       "      <td>GradientBoostingClassifier</td>\n",
       "      <td>0.826816</td>\n",
       "      <td>0.839286</td>\n",
       "      <td>0.681159</td>\n",
       "      <td>0.752000</td>\n",
       "    </tr>\n",
       "    <tr>\n",
       "      <th>7</th>\n",
       "      <td>AdaBoostClassifier</td>\n",
       "      <td>0.815642</td>\n",
       "      <td>0.757143</td>\n",
       "      <td>0.768116</td>\n",
       "      <td>0.762590</td>\n",
       "    </tr>\n",
       "    <tr>\n",
       "      <th>8</th>\n",
       "      <td>XGBClassifier</td>\n",
       "      <td>0.804469</td>\n",
       "      <td>0.774194</td>\n",
       "      <td>0.695652</td>\n",
       "      <td>0.732824</td>\n",
       "    </tr>\n",
       "    <tr>\n",
       "      <th>9</th>\n",
       "      <td>HistGradientBoostingClassifier</td>\n",
       "      <td>0.787709</td>\n",
       "      <td>0.746032</td>\n",
       "      <td>0.681159</td>\n",
       "      <td>0.712121</td>\n",
       "    </tr>\n",
       "    <tr>\n",
       "      <th>10</th>\n",
       "      <td>LGBMClassifier</td>\n",
       "      <td>0.787709</td>\n",
       "      <td>0.738462</td>\n",
       "      <td>0.695652</td>\n",
       "      <td>0.716418</td>\n",
       "    </tr>\n",
       "    <tr>\n",
       "      <th>11</th>\n",
       "      <td>CatBoostClassifier</td>\n",
       "      <td>0.815642</td>\n",
       "      <td>0.790323</td>\n",
       "      <td>0.710145</td>\n",
       "      <td>0.748092</td>\n",
       "    </tr>\n",
       "    <tr>\n",
       "      <th>12</th>\n",
       "      <td>SVC</td>\n",
       "      <td>0.653631</td>\n",
       "      <td>0.640000</td>\n",
       "      <td>0.231884</td>\n",
       "      <td>0.340426</td>\n",
       "    </tr>\n",
       "    <tr>\n",
       "      <th>13</th>\n",
       "      <td>BaggingClassifier</td>\n",
       "      <td>0.837989</td>\n",
       "      <td>0.833333</td>\n",
       "      <td>0.724638</td>\n",
       "      <td>0.775194</td>\n",
       "    </tr>\n",
       "    <tr>\n",
       "      <th>14</th>\n",
       "      <td>MLPClassifier</td>\n",
       "      <td>0.793296</td>\n",
       "      <td>0.695122</td>\n",
       "      <td>0.826087</td>\n",
       "      <td>0.754967</td>\n",
       "    </tr>\n",
       "  </tbody>\n",
       "</table>\n",
       "</div>"
      ],
      "text/plain": [
       "                             Model  accuracy score   Precision    Recall  \\\n",
       "0             KNeighborsClassifier        0.636872    0.566667  0.246377   \n",
       "1               LogisticRegression        0.782123    0.720588  0.710145   \n",
       "2             LogisticRegressionCV        0.787709    0.738462  0.695652   \n",
       "3                      BernoulliNB        0.770950    0.694444  0.724638   \n",
       "4           RandomForestClassifier        0.821229    0.793651  0.724638   \n",
       "5           RandomForestClassifier        0.843575    0.836066  0.739130   \n",
       "6       GradientBoostingClassifier        0.826816    0.839286  0.681159   \n",
       "7               AdaBoostClassifier        0.815642    0.757143  0.768116   \n",
       "8                    XGBClassifier        0.804469    0.774194  0.695652   \n",
       "9   HistGradientBoostingClassifier        0.787709    0.746032  0.681159   \n",
       "10                  LGBMClassifier        0.787709    0.738462  0.695652   \n",
       "11              CatBoostClassifier        0.815642    0.790323  0.710145   \n",
       "12                             SVC        0.653631    0.640000  0.231884   \n",
       "13               BaggingClassifier        0.837989    0.833333  0.724638   \n",
       "14                   MLPClassifier        0.793296    0.695122  0.826087   \n",
       "\n",
       "    f1_score  \n",
       "0   0.343434  \n",
       "1   0.715328  \n",
       "2   0.716418  \n",
       "3   0.709220  \n",
       "4   0.757576  \n",
       "5   0.784615  \n",
       "6   0.752000  \n",
       "7   0.762590  \n",
       "8   0.732824  \n",
       "9   0.712121  \n",
       "10  0.716418  \n",
       "11  0.748092  \n",
       "12  0.340426  \n",
       "13  0.775194  \n",
       "14  0.754967  "
      ]
     },
     "execution_count": 162,
     "metadata": {},
     "output_type": "execute_result"
    }
   ],
   "source": [
    "evaluation_df"
   ]
  },
  {
   "cell_type": "markdown",
   "id": "71ac43ca",
   "metadata": {
    "papermill": {
     "duration": 0.017113,
     "end_time": "2022-10-03T18:32:11.236096",
     "exception": false,
     "start_time": "2022-10-03T18:32:11.218983",
     "status": "completed"
    },
    "tags": []
   },
   "source": [
    "## Overfit analysis using cross validation\n",
    "\n",
    "Cross validating the training VS testing performance using the selected model. If the measurements are not that far apart means that there is not a considerable overfit."
   ]
  },
  {
   "cell_type": "code",
   "execution_count": 163,
   "id": "bc57e217",
   "metadata": {
    "papermill": {
     "duration": 30.817562,
     "end_time": "2022-10-03T18:32:42.071058",
     "exception": false,
     "start_time": "2022-10-03T18:32:11.253496",
     "status": "completed"
    },
    "tags": []
   },
   "outputs": [
    {
     "name": "stderr",
     "output_type": "stream",
     "text": [
      "[Parallel(n_jobs=1)]: Using backend SequentialBackend with 1 concurrent workers.\n",
      "[Parallel(n_jobs=1)]: Done 100 out of 100 | elapsed:    0.0s finished\n",
      "[Parallel(n_jobs=1)]: Using backend SequentialBackend with 1 concurrent workers.\n",
      "[Parallel(n_jobs=1)]: Done 100 out of 100 | elapsed:    0.0s finished\n",
      "[Parallel(n_jobs=1)]: Using backend SequentialBackend with 1 concurrent workers.\n",
      "[Parallel(n_jobs=1)]: Done 100 out of 100 | elapsed:    0.0s finished\n",
      "[Parallel(n_jobs=1)]: Using backend SequentialBackend with 1 concurrent workers.\n",
      "[Parallel(n_jobs=1)]: Done 100 out of 100 | elapsed:    0.1s finished\n",
      "[Parallel(n_jobs=1)]: Using backend SequentialBackend with 1 concurrent workers.\n",
      "[Parallel(n_jobs=1)]: Done 100 out of 100 | elapsed:    0.0s finished\n",
      "[Parallel(n_jobs=1)]: Using backend SequentialBackend with 1 concurrent workers.\n",
      "[Parallel(n_jobs=1)]: Done 100 out of 100 | elapsed:    0.0s finished\n",
      "[Parallel(n_jobs=1)]: Using backend SequentialBackend with 1 concurrent workers.\n",
      "[Parallel(n_jobs=1)]: Done 100 out of 100 | elapsed:    0.1s finished\n",
      "[Parallel(n_jobs=1)]: Using backend SequentialBackend with 1 concurrent workers.\n",
      "[Parallel(n_jobs=1)]: Done 100 out of 100 | elapsed:    0.0s finished\n",
      "[Parallel(n_jobs=1)]: Using backend SequentialBackend with 1 concurrent workers.\n",
      "[Parallel(n_jobs=1)]: Done 100 out of 100 | elapsed:    0.0s finished\n",
      "[Parallel(n_jobs=1)]: Using backend SequentialBackend with 1 concurrent workers.\n",
      "[Parallel(n_jobs=1)]: Done 100 out of 100 | elapsed:    0.1s finished\n",
      "[Parallel(n_jobs=1)]: Using backend SequentialBackend with 1 concurrent workers.\n",
      "[Parallel(n_jobs=1)]: Done 100 out of 100 | elapsed:    0.0s finished\n",
      "[Parallel(n_jobs=1)]: Using backend SequentialBackend with 1 concurrent workers.\n",
      "[Parallel(n_jobs=1)]: Done 100 out of 100 | elapsed:    0.0s finished\n",
      "[Parallel(n_jobs=1)]: Using backend SequentialBackend with 1 concurrent workers.\n",
      "[Parallel(n_jobs=1)]: Done 100 out of 100 | elapsed:    0.1s finished\n",
      "[Parallel(n_jobs=1)]: Using backend SequentialBackend with 1 concurrent workers.\n",
      "[Parallel(n_jobs=1)]: Done 100 out of 100 | elapsed:    0.0s finished\n",
      "[Parallel(n_jobs=1)]: Using backend SequentialBackend with 1 concurrent workers.\n",
      "[Parallel(n_jobs=1)]: Done 100 out of 100 | elapsed:    0.0s finished\n"
     ]
    },
    {
     "data": {
      "text/plain": [
       "{'fit_time': array([0.2387681 , 0.27867055, 0.2823627 , 0.24655318, 0.21589994]),\n",
       " 'score_time': array([0.00610113, 0.01900625, 0.01600075, 0.01562715, 0.0156424 ]),\n",
       " 'test_score': array([0.83916084, 0.8041958 , 0.80985915, 0.84507042, 0.78873239]),\n",
       " 'train_score': array([1., 1., 1., 1., 1.])}"
      ]
     },
     "execution_count": 163,
     "metadata": {},
     "output_type": "execute_result"
    }
   ],
   "source": [
    "from sklearn.ensemble import RandomForestClassifier\n",
    "\n",
    "perform_cross_validation(\n",
    "    RandomForestClassifier(bootstrap = True,\n",
    "                           criterion='entropy',\n",
    "                           verbose=1,\n",
    "                           oob_score=True,\n",
    "                           max_features = 'sqrt',\n",
    "                           random_state=12),\n",
    "    X_train, y_train)"
   ]
  },
  {
   "cell_type": "markdown",
   "id": "c69c9d76",
   "metadata": {
    "papermill": {
     "duration": 0.019249,
     "end_time": "2022-10-03T18:32:42.110010",
     "exception": false,
     "start_time": "2022-10-03T18:32:42.090761",
     "status": "completed"
    },
    "tags": []
   },
   "source": [
    "## Threshold tweaking\n",
    "\n",
    "Checking the performance agaist different thresholds (extracted from the ROC curve) in order to find and optimum with regards to the case study (Whether it is more important to classify Positives or Negatives)"
   ]
  },
  {
   "cell_type": "code",
   "execution_count": 164,
   "id": "41bd80f6",
   "metadata": {
    "papermill": {
     "duration": 49.450833,
     "end_time": "2022-10-03T18:33:31.580917",
     "exception": false,
     "start_time": "2022-10-03T18:32:42.130084",
     "status": "completed"
    },
    "tags": []
   },
   "outputs": [
    {
     "name": "stdout",
     "output_type": "stream",
     "text": [
      "              precision    recall  f1-score   support\n",
      "\n",
      "           0       0.85      0.91      0.88       110\n",
      "           1       0.84      0.74      0.78        69\n",
      "\n",
      "    accuracy                           0.84       179\n",
      "   macro avg       0.84      0.82      0.83       179\n",
      "weighted avg       0.84      0.84      0.84       179\n",
      "\n"
     ]
    },
    {
     "data": {
      "image/png": "[encoded data removed]",
      "text/plain": [
       "<Figure size 640x480 with 2 Axes>"
      ]
     },
     "metadata": {},
     "output_type": "display_data"
    },
    {
     "data": {
      "image/png": "[encoded data removed]",
      "text/plain": [
       "<Figure size 640x480 with 1 Axes>"
      ]
     },
     "metadata": {},
     "output_type": "display_data"
    },
    {
     "name": "stdout",
     "output_type": "stream",
     "text": [
      "Threshold: 0.100000\n",
      "              precision    recall  f1-score   support\n",
      "\n",
      "           0       0.89      0.36      0.52       110\n",
      "           1       0.48      0.93      0.63        69\n",
      "\n",
      "    accuracy                           0.58       179\n",
      "   macro avg       0.68      0.65      0.57       179\n",
      "weighted avg       0.73      0.58      0.56       179\n",
      "\n"
     ]
    },
    {
     "data": {
      "image/png": "[encoded data removed]",
      "text/plain": [
       "<Figure size 640x480 with 2 Axes>"
      ]
     },
     "metadata": {},
     "output_type": "display_data"
    },
    {
     "name": "stdout",
     "output_type": "stream",
     "text": [
      "Threshold: 0.300000\n",
      "              precision    recall  f1-score   support\n",
      "\n",
      "           0       0.91      0.74      0.81       110\n",
      "           1       0.68      0.88      0.77        69\n",
      "\n",
      "    accuracy                           0.79       179\n",
      "   macro avg       0.79      0.81      0.79       179\n",
      "weighted avg       0.82      0.79      0.80       179\n",
      "\n"
     ]
    },
    {
     "data": {
      "image/png": "[encoded data removed]",
      "text/plain": [
       "<Figure size 640x480 with 2 Axes>"
      ]
     },
     "metadata": {},
     "output_type": "display_data"
    },
    {
     "name": "stdout",
     "output_type": "stream",
     "text": [
      "Threshold: 0.500000\n",
      "              precision    recall  f1-score   support\n",
      "\n",
      "           0       0.85      0.91      0.88       110\n",
      "           1       0.84      0.74      0.78        69\n",
      "\n",
      "    accuracy                           0.84       179\n",
      "   macro avg       0.84      0.82      0.83       179\n",
      "weighted avg       0.84      0.84      0.84       179\n",
      "\n"
     ]
    },
    {
     "data": {
      "image/png": "[encoded data removed]",
      "text/plain": [
       "<Figure size 640x480 with 2 Axes>"
      ]
     },
     "metadata": {},
     "output_type": "display_data"
    },
    {
     "name": "stdout",
     "output_type": "stream",
     "text": [
      "Threshold: 0.700000\n",
      "              precision    recall  f1-score   support\n",
      "\n",
      "           0       0.78      0.95      0.86       110\n",
      "           1       0.89      0.58      0.70        69\n",
      "\n",
      "    accuracy                           0.81       179\n",
      "   macro avg       0.84      0.77      0.78       179\n",
      "weighted avg       0.82      0.81      0.80       179\n",
      "\n"
     ]
    },
    {
     "data": {
      "image/png": "[encoded data removed]",
      "text/plain": [
       "<Figure size 640x480 with 2 Axes>"
      ]
     },
     "metadata": {},
     "output_type": "display_data"
    },
    {
     "name": "stdout",
     "output_type": "stream",
     "text": [
      "Threshold: 0.900000\n",
      "              precision    recall  f1-score   support\n",
      "\n",
      "           0       0.68      0.98      0.80       110\n",
      "           1       0.90      0.26      0.40        69\n",
      "\n",
      "    accuracy                           0.70       179\n",
      "   macro avg       0.79      0.62      0.60       179\n",
      "weighted avg       0.76      0.70      0.65       179\n",
      "\n"
     ]
    },
    {
     "data": {
      "image/png": "[encoded data removed]",
      "text/plain": [
       "<Figure size 640x480 with 2 Axes>"
      ]
     },
     "metadata": {},
     "output_type": "display_data"
    }
   ],
   "source": [
    "from sklearn.ensemble import RandomForestClassifier\n",
    "\n",
    "model = execute_ml(RandomForestClassifier(bootstrap = True,\n",
    "                                  criterion='entropy',\n",
    "                                  max_features = 'sqrt',\n",
    "                                  random_state=12),\n",
    "                   X_train, y_train, X_test, y_test)\n",
    "\n",
    "drawROC(model, X_test, y_test)\n",
    "\n",
    "for i in np.arange(0.1,1,0.2):\n",
    "    execute_using_threshold(\n",
    "        RandomForestClassifier(bootstrap = True,\n",
    "                               criterion='entropy',\n",
    "                               max_features = 'sqrt',\n",
    "                               random_state=12),\n",
    "        X_train, y_train,\n",
    "        i)"
   ]
  }
 ],
 "metadata": {
  "kernelspec": {
   "display_name": "Python 3 (ipykernel)",
   "language": "python",
   "name": "python3"
  },
  "language_info": {
   "codemirror_mode": {
    "name": "ipython",
    "version": 3
   },
   "file_extension": ".py",
   "mimetype": "text/x-python",
   "name": "python",
   "nbconvert_exporter": "python",
   "pygments_lexer": "ipython3",
   "version": "3.10.7"
  },
  "papermill": {
   "default_parameters": {},
   "duration": 285.391344,
   "end_time": "2022-10-03T18:33:32.425038",
   "environment_variables": {},
   "exception": null,
   "input_path": "__notebook__.ipynb",
   "output_path": "__notebook__.ipynb",
   "parameters": {},
   "start_time": "2022-10-03T18:28:47.033694",
   "version": "2.3.4"
  }
 },
 "nbformat": 4,
 "nbformat_minor": 5
}
