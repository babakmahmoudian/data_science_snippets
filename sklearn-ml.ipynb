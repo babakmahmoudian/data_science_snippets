{
 "cells": [
  {
   "cell_type": "markdown",
   "id": "0a40be98",
   "metadata": {
    "papermill": {
     "duration": 0.012471,
     "end_time": "2022-10-03T18:28:57.486651",
     "exception": false,
     "start_time": "2022-10-03T18:28:57.474180",
     "status": "completed"
    },
    "tags": []
   },
   "source": [
    "# Reading the dataset"
   ]
  },
  {
   "cell_type": "code",
   "execution_count": 1,
   "id": "224701fe",
   "metadata": {
    "execution": {
     "iopub.execute_input": "2022-10-03T18:28:57.510621Z",
     "iopub.status.busy": "2022-10-03T18:28:57.509650Z",
     "iopub.status.idle": "2022-10-03T18:28:58.631863Z",
     "shell.execute_reply": "2022-10-03T18:28:58.630647Z"
    },
    "papermill": {
     "duration": 1.137537,
     "end_time": "2022-10-03T18:28:58.634864",
     "exception": false,
     "start_time": "2022-10-03T18:28:57.497327",
     "status": "completed"
    },
    "tags": []
   },
   "outputs": [],
   "source": [
    "import numpy as np\n",
    "import pandas as pd\n",
    "import matplotlib.pyplot as plt\n",
    "%matplotlib inline\n",
    "import seaborn as sns"
   ]
  },
  {
   "cell_type": "code",
   "execution_count": 2,
   "id": "8ca24fc0",
   "metadata": {
    "execution": {
     "iopub.execute_input": "2022-10-03T18:28:58.659562Z",
     "iopub.status.busy": "2022-10-03T18:28:58.659109Z",
     "iopub.status.idle": "2022-10-03T18:29:03.824425Z",
     "shell.execute_reply": "2022-10-03T18:29:03.823505Z"
    },
    "papermill": {
     "duration": 5.181576,
     "end_time": "2022-10-03T18:29:03.826928",
     "exception": false,
     "start_time": "2022-10-03T18:28:58.645352",
     "status": "completed"
    },
    "tags": []
   },
   "outputs": [],
   "source": [
    "df = pd.read_csv('/kaggle/input/creditcard-fraud-detection/creditcard.csv')"
   ]
  },
  {
   "cell_type": "markdown",
   "id": "ddf18203",
   "metadata": {
    "papermill": {
     "duration": 0.00984,
     "end_time": "2022-10-03T18:29:03.847121",
     "exception": false,
     "start_time": "2022-10-03T18:29:03.837281",
     "status": "completed"
    },
    "tags": []
   },
   "source": [
    "# Correlation matrix"
   ]
  },
  {
   "cell_type": "code",
   "execution_count": 3,
   "id": "3df0b4b9",
   "metadata": {
    "execution": {
     "iopub.execute_input": "2022-10-03T18:29:03.869207Z",
     "iopub.status.busy": "2022-10-03T18:29:03.868761Z",
     "iopub.status.idle": "2022-10-03T18:29:04.845589Z",
     "shell.execute_reply": "2022-10-03T18:29:04.844353Z"
    },
    "papermill": {
     "duration": 0.993542,
     "end_time": "2022-10-03T18:29:04.850753",
     "exception": false,
     "start_time": "2022-10-03T18:29:03.857211",
     "status": "completed"
    },
    "tags": []
   },
   "outputs": [
    {
     "data": {
      "text/html": [
       "<style type=\"text/css\">\n",
       "#T_ff820_row0_col0, #T_ff820_row1_col1, #T_ff820_row2_col2, #T_ff820_row3_col3, #T_ff820_row4_col4, #T_ff820_row5_col5, #T_ff820_row6_col6, #T_ff820_row7_col7, #T_ff820_row8_col8, #T_ff820_row9_col9, #T_ff820_row10_col10, #T_ff820_row11_col11, #T_ff820_row12_col12, #T_ff820_row13_col13, #T_ff820_row14_col14, #T_ff820_row15_col15, #T_ff820_row16_col16, #T_ff820_row17_col17, #T_ff820_row18_col18, #T_ff820_row19_col19, #T_ff820_row20_col20, #T_ff820_row21_col21, #T_ff820_row22_col22, #T_ff820_row23_col23, #T_ff820_row24_col24, #T_ff820_row25_col25, #T_ff820_row26_col26, #T_ff820_row27_col27, #T_ff820_row28_col28, #T_ff820_row29_col29, #T_ff820_row30_col30 {\n",
       "  background-color: #b40426;\n",
       "  color: #f1f1f1;\n",
       "}\n",
       "#T_ff820_row0_col1, #T_ff820_row1_col5, #T_ff820_row2_col5, #T_ff820_row3_col5, #T_ff820_row4_col5, #T_ff820_row6_col5, #T_ff820_row7_col5, #T_ff820_row8_col5, #T_ff820_row8_col29, #T_ff820_row9_col5, #T_ff820_row10_col5, #T_ff820_row10_col29, #T_ff820_row11_col5, #T_ff820_row12_col5, #T_ff820_row13_col5, #T_ff820_row14_col5, #T_ff820_row15_col5, #T_ff820_row16_col5, #T_ff820_row17_col5, #T_ff820_row18_col5, #T_ff820_row19_col5, #T_ff820_row20_col5, #T_ff820_row21_col5, #T_ff820_row22_col5, #T_ff820_row23_col5, #T_ff820_row24_col5, #T_ff820_row25_col5, #T_ff820_row26_col5, #T_ff820_row27_col5, #T_ff820_row28_col5 {\n",
       "  background-color: #97b8ff;\n",
       "  color: #000000;\n",
       "}\n",
       "#T_ff820_row0_col2, #T_ff820_row0_col29, #T_ff820_row12_col29 {\n",
       "  background-color: #adc9fd;\n",
       "  color: #000000;\n",
       "}\n",
       "#T_ff820_row0_col3, #T_ff820_row0_col4, #T_ff820_row0_col6, #T_ff820_row0_col11, #T_ff820_row0_col13, #T_ff820_row0_col15, #T_ff820_row0_col20, #T_ff820_row0_col24, #T_ff820_row0_col25, #T_ff820_row0_col26, #T_ff820_row0_col27, #T_ff820_row0_col28, #T_ff820_row1_col21, #T_ff820_row2_col21, #T_ff820_row2_col29, #T_ff820_row3_col0, #T_ff820_row3_col21, #T_ff820_row4_col21, #T_ff820_row5_col21, #T_ff820_row6_col21, #T_ff820_row7_col21, #T_ff820_row8_col21, #T_ff820_row9_col21, #T_ff820_row10_col21, #T_ff820_row11_col21, #T_ff820_row12_col21, #T_ff820_row13_col21, #T_ff820_row14_col21, #T_ff820_row15_col21, #T_ff820_row16_col21, #T_ff820_row17_col21, #T_ff820_row17_col30, #T_ff820_row18_col21, #T_ff820_row19_col21, #T_ff820_row20_col21, #T_ff820_row22_col21, #T_ff820_row23_col21, #T_ff820_row24_col21, #T_ff820_row25_col21, #T_ff820_row26_col21, #T_ff820_row27_col21, #T_ff820_row28_col21, #T_ff820_row29_col1, #T_ff820_row29_col2, #T_ff820_row29_col5, #T_ff820_row29_col8, #T_ff820_row29_col19, #T_ff820_row29_col22, #T_ff820_row29_col23, #T_ff820_row30_col7, #T_ff820_row30_col9, #T_ff820_row30_col10, #T_ff820_row30_col12, #T_ff820_row30_col14, #T_ff820_row30_col16, #T_ff820_row30_col17, #T_ff820_row30_col18 {\n",
       "  background-color: #3b4cc0;\n",
       "  color: #f1f1f1;\n",
       "}\n",
       "#T_ff820_row0_col5 {\n",
       "  background-color: #c1d4f4;\n",
       "  color: #000000;\n",
       "}\n",
       "#T_ff820_row0_col7 {\n",
       "  background-color: #85a8fc;\n",
       "  color: #f1f1f1;\n",
       "}\n",
       "#T_ff820_row0_col8, #T_ff820_row1_col6, #T_ff820_row1_col13, #T_ff820_row1_col22, #T_ff820_row2_col6, #T_ff820_row2_col13, #T_ff820_row2_col22, #T_ff820_row3_col6, #T_ff820_row3_col13, #T_ff820_row3_col22, #T_ff820_row4_col6, #T_ff820_row4_col13, #T_ff820_row4_col22, #T_ff820_row5_col6, #T_ff820_row5_col13, #T_ff820_row5_col22, #T_ff820_row6_col13, #T_ff820_row6_col22, #T_ff820_row7_col6, #T_ff820_row7_col13, #T_ff820_row7_col22, #T_ff820_row8_col6, #T_ff820_row8_col13, #T_ff820_row8_col22, #T_ff820_row9_col6, #T_ff820_row9_col13, #T_ff820_row9_col22, #T_ff820_row10_col6, #T_ff820_row10_col13, #T_ff820_row10_col22, #T_ff820_row11_col6, #T_ff820_row11_col13, #T_ff820_row11_col22, #T_ff820_row12_col6, #T_ff820_row12_col13, #T_ff820_row12_col22, #T_ff820_row13_col6, #T_ff820_row13_col22, #T_ff820_row14_col6, #T_ff820_row14_col13, #T_ff820_row14_col22, #T_ff820_row15_col6, #T_ff820_row15_col13, #T_ff820_row15_col22, #T_ff820_row16_col6, #T_ff820_row16_col13, #T_ff820_row16_col22, #T_ff820_row17_col6, #T_ff820_row17_col13, #T_ff820_row17_col22, #T_ff820_row18_col6, #T_ff820_row18_col13, #T_ff820_row18_col22, #T_ff820_row19_col6, #T_ff820_row19_col13, #T_ff820_row19_col22, #T_ff820_row20_col6, #T_ff820_row20_col13, #T_ff820_row20_col22, #T_ff820_row21_col6, #T_ff820_row21_col13, #T_ff820_row21_col22, #T_ff820_row22_col6, #T_ff820_row22_col13, #T_ff820_row23_col6, #T_ff820_row23_col13, #T_ff820_row23_col22, #T_ff820_row24_col6, #T_ff820_row24_col13, #T_ff820_row24_col22, #T_ff820_row25_col6, #T_ff820_row25_col13, #T_ff820_row25_col22, #T_ff820_row26_col6, #T_ff820_row26_col13, #T_ff820_row26_col22, #T_ff820_row27_col6, #T_ff820_row27_col13, #T_ff820_row27_col22, #T_ff820_row28_col6, #T_ff820_row28_col13, #T_ff820_row28_col22, #T_ff820_row30_col22 {\n",
       "  background-color: #4c66d6;\n",
       "  color: #f1f1f1;\n",
       "}\n",
       "#T_ff820_row0_col9, #T_ff820_row0_col19 {\n",
       "  background-color: #536edd;\n",
       "  color: #f1f1f1;\n",
       "}\n",
       "#T_ff820_row0_col10, #T_ff820_row1_col12, #T_ff820_row2_col12, #T_ff820_row3_col12, #T_ff820_row4_col12, #T_ff820_row5_col12, #T_ff820_row6_col12, #T_ff820_row7_col12, #T_ff820_row8_col12, #T_ff820_row9_col12, #T_ff820_row10_col12, #T_ff820_row11_col12, #T_ff820_row13_col12, #T_ff820_row14_col12, #T_ff820_row15_col12, #T_ff820_row16_col12, #T_ff820_row17_col12, #T_ff820_row18_col12, #T_ff820_row19_col12, #T_ff820_row20_col12, #T_ff820_row21_col12, #T_ff820_row22_col12, #T_ff820_row23_col12, #T_ff820_row24_col12, #T_ff820_row25_col12, #T_ff820_row26_col12, #T_ff820_row27_col12, #T_ff820_row28_col12 {\n",
       "  background-color: #7da0f9;\n",
       "  color: #f1f1f1;\n",
       "}\n",
       "#T_ff820_row0_col12, #T_ff820_row22_col29 {\n",
       "  background-color: #a1c0ff;\n",
       "  color: #000000;\n",
       "}\n",
       "#T_ff820_row0_col14, #T_ff820_row1_col7, #T_ff820_row2_col7, #T_ff820_row3_col7, #T_ff820_row4_col7, #T_ff820_row5_col7, #T_ff820_row6_col7, #T_ff820_row8_col7, #T_ff820_row9_col7, #T_ff820_row10_col7, #T_ff820_row11_col7, #T_ff820_row12_col7, #T_ff820_row13_col7, #T_ff820_row14_col7, #T_ff820_row15_col7, #T_ff820_row16_col7, #T_ff820_row17_col7, #T_ff820_row18_col7, #T_ff820_row19_col7, #T_ff820_row20_col7, #T_ff820_row21_col7, #T_ff820_row22_col7, #T_ff820_row23_col7, #T_ff820_row24_col7, #T_ff820_row25_col7, #T_ff820_row26_col7, #T_ff820_row27_col7, #T_ff820_row28_col7, #T_ff820_row30_col3 {\n",
       "  background-color: #6c8ff1;\n",
       "  color: #f1f1f1;\n",
       "}\n",
       "#T_ff820_row0_col16, #T_ff820_row5_col30, #T_ff820_row9_col30 {\n",
       "  background-color: #7295f4;\n",
       "  color: #f1f1f1;\n",
       "}\n",
       "#T_ff820_row0_col17, #T_ff820_row1_col25, #T_ff820_row2_col25, #T_ff820_row3_col25, #T_ff820_row4_col25, #T_ff820_row5_col25, #T_ff820_row6_col25, #T_ff820_row7_col25, #T_ff820_row8_col25, #T_ff820_row9_col25, #T_ff820_row10_col25, #T_ff820_row11_col25, #T_ff820_row12_col25, #T_ff820_row13_col25, #T_ff820_row14_col25, #T_ff820_row15_col25, #T_ff820_row16_col25, #T_ff820_row17_col25, #T_ff820_row18_col25, #T_ff820_row19_col25, #T_ff820_row20_col25, #T_ff820_row21_col25, #T_ff820_row22_col25, #T_ff820_row23_col25, #T_ff820_row24_col25, #T_ff820_row26_col25, #T_ff820_row27_col25, #T_ff820_row28_col25 {\n",
       "  background-color: #779af7;\n",
       "  color: #f1f1f1;\n",
       "}\n",
       "#T_ff820_row0_col18 {\n",
       "  background-color: #7597f6;\n",
       "  color: #f1f1f1;\n",
       "}\n",
       "#T_ff820_row0_col21, #T_ff820_row30_col26 {\n",
       "  background-color: #485fd1;\n",
       "  color: #f1f1f1;\n",
       "}\n",
       "#T_ff820_row0_col22, #T_ff820_row1_col11, #T_ff820_row1_col29, #T_ff820_row2_col11, #T_ff820_row3_col11, #T_ff820_row4_col11, #T_ff820_row5_col11, #T_ff820_row6_col11, #T_ff820_row7_col11, #T_ff820_row8_col11, #T_ff820_row9_col11, #T_ff820_row10_col11, #T_ff820_row12_col11, #T_ff820_row13_col11, #T_ff820_row14_col11, #T_ff820_row15_col11, #T_ff820_row16_col11, #T_ff820_row17_col11, #T_ff820_row18_col11, #T_ff820_row19_col11, #T_ff820_row20_col11, #T_ff820_row21_col11, #T_ff820_row22_col11, #T_ff820_row23_col11, #T_ff820_row24_col11, #T_ff820_row25_col11, #T_ff820_row26_col11, #T_ff820_row27_col11, #T_ff820_row28_col11, #T_ff820_row29_col11, #T_ff820_row29_col12 {\n",
       "  background-color: #7a9df8;\n",
       "  color: #f1f1f1;\n",
       "}\n",
       "#T_ff820_row0_col23, #T_ff820_row29_col3 {\n",
       "  background-color: #688aef;\n",
       "  color: #f1f1f1;\n",
       "}\n",
       "#T_ff820_row0_col30 {\n",
       "  background-color: #88abfd;\n",
       "  color: #000000;\n",
       "}\n",
       "#T_ff820_row1_col0 {\n",
       "  background-color: #b9d0f9;\n",
       "  color: #000000;\n",
       "}\n",
       "#T_ff820_row1_col2, #T_ff820_row3_col2, #T_ff820_row4_col2, #T_ff820_row4_col30, #T_ff820_row5_col2, #T_ff820_row6_col2, #T_ff820_row7_col2, #T_ff820_row8_col2, #T_ff820_row9_col2, #T_ff820_row10_col2, #T_ff820_row11_col2, #T_ff820_row11_col29, #T_ff820_row12_col2, #T_ff820_row13_col2, #T_ff820_row14_col2, #T_ff820_row15_col2, #T_ff820_row15_col29, #T_ff820_row16_col2, #T_ff820_row16_col29, #T_ff820_row17_col2, #T_ff820_row18_col2, #T_ff820_row19_col2, #T_ff820_row20_col2, #T_ff820_row21_col2, #T_ff820_row22_col2, #T_ff820_row23_col2, #T_ff820_row24_col2, #T_ff820_row25_col2, #T_ff820_row26_col2, #T_ff820_row26_col29, #T_ff820_row27_col2, #T_ff820_row28_col2 {\n",
       "  background-color: #aec9fc;\n",
       "  color: #000000;\n",
       "}\n",
       "#T_ff820_row1_col3, #T_ff820_row2_col3, #T_ff820_row4_col3, #T_ff820_row5_col3, #T_ff820_row6_col3, #T_ff820_row7_col3, #T_ff820_row8_col3, #T_ff820_row9_col3, #T_ff820_row10_col3, #T_ff820_row11_col3, #T_ff820_row12_col3, #T_ff820_row13_col3, #T_ff820_row14_col3, #T_ff820_row15_col3, #T_ff820_row16_col3, #T_ff820_row17_col3, #T_ff820_row18_col3, #T_ff820_row19_col3, #T_ff820_row20_col3, #T_ff820_row21_col3, #T_ff820_row22_col3, #T_ff820_row23_col3, #T_ff820_row24_col3, #T_ff820_row25_col3, #T_ff820_row26_col3, #T_ff820_row27_col3, #T_ff820_row28_col3 {\n",
       "  background-color: #9dbdff;\n",
       "  color: #000000;\n",
       "}\n",
       "#T_ff820_row1_col4, #T_ff820_row2_col4, #T_ff820_row3_col4, #T_ff820_row5_col4, #T_ff820_row5_col29, #T_ff820_row6_col4, #T_ff820_row7_col4, #T_ff820_row8_col4, #T_ff820_row9_col4, #T_ff820_row10_col4, #T_ff820_row11_col4, #T_ff820_row12_col4, #T_ff820_row13_col4, #T_ff820_row14_col4, #T_ff820_row15_col4, #T_ff820_row16_col4, #T_ff820_row17_col4, #T_ff820_row18_col4, #T_ff820_row19_col4, #T_ff820_row20_col4, #T_ff820_row21_col4, #T_ff820_row22_col4, #T_ff820_row23_col4, #T_ff820_row24_col4, #T_ff820_row25_col4, #T_ff820_row26_col4, #T_ff820_row27_col4, #T_ff820_row28_col4, #T_ff820_row29_col10 {\n",
       "  background-color: #5875e1;\n",
       "  color: #f1f1f1;\n",
       "}\n",
       "#T_ff820_row1_col8, #T_ff820_row2_col8, #T_ff820_row3_col8, #T_ff820_row4_col8, #T_ff820_row5_col8, #T_ff820_row6_col8, #T_ff820_row7_col8, #T_ff820_row9_col8, #T_ff820_row10_col8, #T_ff820_row11_col8, #T_ff820_row12_col8, #T_ff820_row13_col8, #T_ff820_row14_col8, #T_ff820_row15_col8, #T_ff820_row16_col8, #T_ff820_row17_col8, #T_ff820_row18_col8, #T_ff820_row19_col8, #T_ff820_row20_col8, #T_ff820_row21_col8, #T_ff820_row22_col8, #T_ff820_row23_col8, #T_ff820_row24_col8, #T_ff820_row25_col8, #T_ff820_row26_col8, #T_ff820_row27_col8, #T_ff820_row28_col8 {\n",
       "  background-color: #5673e0;\n",
       "  color: #f1f1f1;\n",
       "}\n",
       "#T_ff820_row1_col9, #T_ff820_row2_col9, #T_ff820_row3_col9, #T_ff820_row4_col9, #T_ff820_row5_col9, #T_ff820_row6_col9, #T_ff820_row7_col9, #T_ff820_row8_col9, #T_ff820_row10_col9, #T_ff820_row11_col9, #T_ff820_row12_col9, #T_ff820_row13_col9, #T_ff820_row14_col9, #T_ff820_row15_col9, #T_ff820_row16_col9, #T_ff820_row17_col9, #T_ff820_row18_col9, #T_ff820_row19_col9, #T_ff820_row20_col9, #T_ff820_row21_col9, #T_ff820_row22_col9, #T_ff820_row23_col9, #T_ff820_row24_col9, #T_ff820_row25_col9, #T_ff820_row26_col9, #T_ff820_row27_col9, #T_ff820_row28_col9, #T_ff820_row30_col19 {\n",
       "  background-color: #5572df;\n",
       "  color: #f1f1f1;\n",
       "}\n",
       "#T_ff820_row1_col10, #T_ff820_row2_col10, #T_ff820_row3_col10, #T_ff820_row4_col10, #T_ff820_row5_col10, #T_ff820_row6_col10, #T_ff820_row7_col10, #T_ff820_row8_col10, #T_ff820_row9_col10, #T_ff820_row11_col10, #T_ff820_row12_col10, #T_ff820_row13_col10, #T_ff820_row14_col10, #T_ff820_row15_col10, #T_ff820_row16_col10, #T_ff820_row17_col10, #T_ff820_row18_col10, #T_ff820_row19_col10, #T_ff820_row20_col10, #T_ff820_row21_col10, #T_ff820_row22_col10, #T_ff820_row23_col10, #T_ff820_row24_col10, #T_ff820_row25_col10, #T_ff820_row26_col10, #T_ff820_row27_col10, #T_ff820_row28_col10 {\n",
       "  background-color: #7396f5;\n",
       "  color: #f1f1f1;\n",
       "}\n",
       "#T_ff820_row1_col14, #T_ff820_row2_col14, #T_ff820_row3_col14, #T_ff820_row4_col14, #T_ff820_row5_col14, #T_ff820_row6_col14, #T_ff820_row7_col14, #T_ff820_row8_col14, #T_ff820_row9_col14, #T_ff820_row10_col14, #T_ff820_row11_col14, #T_ff820_row12_col14, #T_ff820_row13_col14, #T_ff820_row15_col14, #T_ff820_row16_col14, #T_ff820_row17_col14, #T_ff820_row18_col14, #T_ff820_row19_col14, #T_ff820_row20_col14, #T_ff820_row21_col14, #T_ff820_row22_col14, #T_ff820_row23_col14, #T_ff820_row24_col14, #T_ff820_row25_col14, #T_ff820_row26_col14, #T_ff820_row27_col14, #T_ff820_row28_col14 {\n",
       "  background-color: #86a9fc;\n",
       "  color: #f1f1f1;\n",
       "}\n",
       "#T_ff820_row1_col15, #T_ff820_row2_col15, #T_ff820_row3_col15, #T_ff820_row4_col15, #T_ff820_row5_col15, #T_ff820_row6_col15, #T_ff820_row7_col15, #T_ff820_row8_col15, #T_ff820_row9_col15, #T_ff820_row10_col15, #T_ff820_row11_col15, #T_ff820_row12_col15, #T_ff820_row13_col15, #T_ff820_row14_col15, #T_ff820_row16_col15, #T_ff820_row17_col15, #T_ff820_row18_col15, #T_ff820_row19_col15, #T_ff820_row20_col15, #T_ff820_row21_col15, #T_ff820_row22_col15, #T_ff820_row23_col15, #T_ff820_row24_col15, #T_ff820_row25_col15, #T_ff820_row26_col15, #T_ff820_row27_col15, #T_ff820_row28_col15, #T_ff820_row29_col15 {\n",
       "  background-color: #6b8df0;\n",
       "  color: #f1f1f1;\n",
       "}\n",
       "#T_ff820_row1_col16, #T_ff820_row2_col16, #T_ff820_row3_col16, #T_ff820_row4_col16, #T_ff820_row5_col16, #T_ff820_row6_col16, #T_ff820_row7_col16, #T_ff820_row8_col16, #T_ff820_row9_col16, #T_ff820_row10_col16, #T_ff820_row11_col16, #T_ff820_row12_col16, #T_ff820_row13_col16, #T_ff820_row14_col16, #T_ff820_row15_col0, #T_ff820_row15_col16, #T_ff820_row17_col16, #T_ff820_row18_col16, #T_ff820_row19_col16, #T_ff820_row20_col16, #T_ff820_row21_col16, #T_ff820_row22_col16, #T_ff820_row23_col16, #T_ff820_row24_col16, #T_ff820_row25_col16, #T_ff820_row26_col16, #T_ff820_row27_col16, #T_ff820_row28_col16 {\n",
       "  background-color: #6f92f3;\n",
       "  color: #f1f1f1;\n",
       "}\n",
       "#T_ff820_row1_col17, #T_ff820_row2_col17, #T_ff820_row3_col17, #T_ff820_row4_col17, #T_ff820_row5_col17, #T_ff820_row6_col17, #T_ff820_row7_col17, #T_ff820_row8_col17, #T_ff820_row9_col17, #T_ff820_row10_col17, #T_ff820_row11_col17, #T_ff820_row12_col17, #T_ff820_row13_col0, #T_ff820_row13_col17, #T_ff820_row14_col17, #T_ff820_row15_col17, #T_ff820_row16_col17, #T_ff820_row18_col17, #T_ff820_row19_col17, #T_ff820_row20_col17, #T_ff820_row21_col17, #T_ff820_row22_col17, #T_ff820_row22_col30, #T_ff820_row23_col17, #T_ff820_row24_col17, #T_ff820_row25_col17, #T_ff820_row25_col30, #T_ff820_row26_col17, #T_ff820_row26_col30, #T_ff820_row27_col17, #T_ff820_row28_col17 {\n",
       "  background-color: #8caffe;\n",
       "  color: #000000;\n",
       "}\n",
       "#T_ff820_row1_col18, #T_ff820_row1_col23, #T_ff820_row2_col18, #T_ff820_row2_col23, #T_ff820_row3_col18, #T_ff820_row3_col23, #T_ff820_row3_col30, #T_ff820_row4_col18, #T_ff820_row4_col23, #T_ff820_row5_col18, #T_ff820_row5_col23, #T_ff820_row6_col18, #T_ff820_row6_col23, #T_ff820_row7_col18, #T_ff820_row7_col23, #T_ff820_row8_col18, #T_ff820_row8_col23, #T_ff820_row9_col18, #T_ff820_row9_col23, #T_ff820_row10_col18, #T_ff820_row10_col23, #T_ff820_row11_col18, #T_ff820_row11_col23, #T_ff820_row12_col18, #T_ff820_row12_col23, #T_ff820_row13_col18, #T_ff820_row13_col23, #T_ff820_row14_col18, #T_ff820_row14_col23, #T_ff820_row15_col18, #T_ff820_row15_col23, #T_ff820_row16_col18, #T_ff820_row16_col23, #T_ff820_row16_col30, #T_ff820_row17_col18, #T_ff820_row17_col23, #T_ff820_row18_col23, #T_ff820_row19_col18, #T_ff820_row19_col23, #T_ff820_row20_col18, #T_ff820_row20_col23, #T_ff820_row21_col18, #T_ff820_row21_col23, #T_ff820_row22_col18, #T_ff820_row22_col23, #T_ff820_row23_col18, #T_ff820_row24_col18, #T_ff820_row24_col23, #T_ff820_row25_col18, #T_ff820_row25_col23, #T_ff820_row26_col18, #T_ff820_row26_col23, #T_ff820_row27_col18, #T_ff820_row27_col23, #T_ff820_row28_col18, #T_ff820_row28_col23, #T_ff820_row30_col23 {\n",
       "  background-color: #5977e3;\n",
       "  color: #f1f1f1;\n",
       "}\n",
       "#T_ff820_row1_col19, #T_ff820_row2_col19, #T_ff820_row3_col19, #T_ff820_row4_col19, #T_ff820_row5_col19, #T_ff820_row6_col19, #T_ff820_row7_col19, #T_ff820_row8_col19, #T_ff820_row9_col19, #T_ff820_row10_col19, #T_ff820_row11_col19, #T_ff820_row12_col19, #T_ff820_row13_col19, #T_ff820_row14_col19, #T_ff820_row15_col19, #T_ff820_row16_col19, #T_ff820_row17_col19, #T_ff820_row18_col19, #T_ff820_row20_col19, #T_ff820_row21_col19, #T_ff820_row22_col19, #T_ff820_row23_col19, #T_ff820_row24_col19, #T_ff820_row25_col19, #T_ff820_row26_col19, #T_ff820_row27_col19, #T_ff820_row28_col19 {\n",
       "  background-color: #4a63d3;\n",
       "  color: #f1f1f1;\n",
       "}\n",
       "#T_ff820_row1_col20, #T_ff820_row2_col20, #T_ff820_row3_col20, #T_ff820_row4_col20, #T_ff820_row5_col20, #T_ff820_row6_col20, #T_ff820_row7_col20, #T_ff820_row8_col20, #T_ff820_row9_col20, #T_ff820_row10_col20, #T_ff820_row11_col20, #T_ff820_row12_col20, #T_ff820_row12_col30, #T_ff820_row13_col20, #T_ff820_row14_col20, #T_ff820_row15_col20, #T_ff820_row16_col20, #T_ff820_row17_col20, #T_ff820_row18_col20, #T_ff820_row19_col20, #T_ff820_row21_col20, #T_ff820_row22_col20, #T_ff820_row23_col20, #T_ff820_row24_col20, #T_ff820_row25_col20, #T_ff820_row26_col20, #T_ff820_row27_col20, #T_ff820_row28_col20, #T_ff820_row29_col9 {\n",
       "  background-color: #4961d2;\n",
       "  color: #f1f1f1;\n",
       "}\n",
       "#T_ff820_row1_col24, #T_ff820_row2_col24, #T_ff820_row3_col24, #T_ff820_row4_col24, #T_ff820_row5_col24, #T_ff820_row6_col24, #T_ff820_row7_col24, #T_ff820_row8_col24, #T_ff820_row9_col24, #T_ff820_row10_col24, #T_ff820_row11_col24, #T_ff820_row12_col24, #T_ff820_row13_col24, #T_ff820_row14_col24, #T_ff820_row14_col30, #T_ff820_row15_col24, #T_ff820_row16_col24, #T_ff820_row17_col24, #T_ff820_row18_col24, #T_ff820_row19_col24, #T_ff820_row20_col24, #T_ff820_row21_col24, #T_ff820_row22_col24, #T_ff820_row23_col24, #T_ff820_row25_col24, #T_ff820_row26_col24, #T_ff820_row27_col24, #T_ff820_row28_col24, #T_ff820_row29_col28, #T_ff820_row30_col6, #T_ff820_row30_col28 {\n",
       "  background-color: #3f53c6;\n",
       "  color: #f1f1f1;\n",
       "}\n",
       "#T_ff820_row1_col26, #T_ff820_row2_col26, #T_ff820_row3_col26, #T_ff820_row4_col26, #T_ff820_row5_col26, #T_ff820_row6_col26, #T_ff820_row7_col26, #T_ff820_row8_col26, #T_ff820_row9_col26, #T_ff820_row10_col26, #T_ff820_row11_col26, #T_ff820_row12_col26, #T_ff820_row13_col26, #T_ff820_row14_col26, #T_ff820_row15_col26, #T_ff820_row16_col26, #T_ff820_row17_col26, #T_ff820_row18_col26, #T_ff820_row19_col26, #T_ff820_row20_col26, #T_ff820_row21_col26, #T_ff820_row22_col26, #T_ff820_row23_col26, #T_ff820_row24_col26, #T_ff820_row25_col26, #T_ff820_row27_col26, #T_ff820_row28_col26, #T_ff820_row30_col21 {\n",
       "  background-color: #465ecf;\n",
       "  color: #f1f1f1;\n",
       "}\n",
       "#T_ff820_row1_col27, #T_ff820_row2_col27, #T_ff820_row3_col27, #T_ff820_row4_col27, #T_ff820_row5_col27, #T_ff820_row6_col27, #T_ff820_row7_col27, #T_ff820_row8_col27, #T_ff820_row9_col27, #T_ff820_row10_col27, #T_ff820_row11_col27, #T_ff820_row12_col27, #T_ff820_row13_col27, #T_ff820_row14_col27, #T_ff820_row15_col27, #T_ff820_row16_col27, #T_ff820_row17_col27, #T_ff820_row18_col27, #T_ff820_row19_col27, #T_ff820_row20_col27, #T_ff820_row21_col27, #T_ff820_row22_col27, #T_ff820_row23_col27, #T_ff820_row24_col27, #T_ff820_row25_col27, #T_ff820_row26_col27, #T_ff820_row28_col27 {\n",
       "  background-color: #3c4ec2;\n",
       "  color: #f1f1f1;\n",
       "}\n",
       "#T_ff820_row1_col28, #T_ff820_row2_col28, #T_ff820_row3_col28, #T_ff820_row4_col28, #T_ff820_row5_col28, #T_ff820_row6_col28, #T_ff820_row7_col28, #T_ff820_row8_col28, #T_ff820_row9_col28, #T_ff820_row10_col28, #T_ff820_row11_col28, #T_ff820_row12_col28, #T_ff820_row13_col28, #T_ff820_row14_col28, #T_ff820_row15_col28, #T_ff820_row16_col28, #T_ff820_row17_col28, #T_ff820_row18_col28, #T_ff820_row19_col28, #T_ff820_row20_col28, #T_ff820_row21_col28, #T_ff820_row22_col28, #T_ff820_row23_col28, #T_ff820_row24_col28, #T_ff820_row25_col28, #T_ff820_row26_col28, #T_ff820_row27_col28, #T_ff820_row30_col24 {\n",
       "  background-color: #3d50c3;\n",
       "  color: #f1f1f1;\n",
       "}\n",
       "#T_ff820_row1_col30 {\n",
       "  background-color: #7093f3;\n",
       "  color: #f1f1f1;\n",
       "}\n",
       "#T_ff820_row2_col0, #T_ff820_row28_col0, #T_ff820_row29_col0, #T_ff820_row30_col0 {\n",
       "  background-color: #9abbff;\n",
       "  color: #000000;\n",
       "}\n",
       "#T_ff820_row2_col1, #T_ff820_row3_col1, #T_ff820_row4_col1, #T_ff820_row5_col1, #T_ff820_row6_col1, #T_ff820_row7_col1, #T_ff820_row8_col1, #T_ff820_row9_col1, #T_ff820_row10_col1, #T_ff820_row11_col1, #T_ff820_row12_col1, #T_ff820_row13_col1, #T_ff820_row14_col1, #T_ff820_row15_col1, #T_ff820_row16_col1, #T_ff820_row17_col1, #T_ff820_row18_col1, #T_ff820_row19_col1, #T_ff820_row20_col1, #T_ff820_row21_col1, #T_ff820_row22_col1, #T_ff820_row23_col1, #T_ff820_row24_col1, #T_ff820_row25_col1, #T_ff820_row26_col1, #T_ff820_row27_col1, #T_ff820_row28_col1, #T_ff820_row29_col4 {\n",
       "  background-color: #7699f6;\n",
       "  color: #f1f1f1;\n",
       "}\n",
       "#T_ff820_row2_col30, #T_ff820_row19_col0, #T_ff820_row25_col29 {\n",
       "  background-color: #a3c2fe;\n",
       "  color: #000000;\n",
       "}\n",
       "#T_ff820_row3_col29, #T_ff820_row30_col5 {\n",
       "  background-color: #7ea1fa;\n",
       "  color: #f1f1f1;\n",
       "}\n",
       "#T_ff820_row4_col0 {\n",
       "  background-color: #82a6fb;\n",
       "  color: #f1f1f1;\n",
       "}\n",
       "#T_ff820_row4_col29 {\n",
       "  background-color: #c4d5f3;\n",
       "  color: #000000;\n",
       "}\n",
       "#T_ff820_row5_col0, #T_ff820_row21_col29 {\n",
       "  background-color: #c5d6f2;\n",
       "  color: #000000;\n",
       "}\n",
       "#T_ff820_row6_col0, #T_ff820_row28_col30, #T_ff820_row29_col17, #T_ff820_row29_col30 {\n",
       "  background-color: #8db0fe;\n",
       "  color: #000000;\n",
       "}\n",
       "#T_ff820_row6_col29 {\n",
       "  background-color: #d9dce1;\n",
       "  color: #000000;\n",
       "}\n",
       "#T_ff820_row6_col30 {\n",
       "  background-color: #80a3fa;\n",
       "  color: #f1f1f1;\n",
       "}\n",
       "#T_ff820_row7_col0, #T_ff820_row17_col29, #T_ff820_row28_col29 {\n",
       "  background-color: #b1cbfc;\n",
       "  color: #000000;\n",
       "}\n",
       "#T_ff820_row7_col29 {\n",
       "  background-color: #f2c9b4;\n",
       "  color: #000000;\n",
       "}\n",
       "#T_ff820_row7_col30, #T_ff820_row30_col1 {\n",
       "  background-color: #5a78e4;\n",
       "  color: #f1f1f1;\n",
       "}\n",
       "#T_ff820_row8_col0, #T_ff820_row19_col30 {\n",
       "  background-color: #94b6ff;\n",
       "  color: #000000;\n",
       "}\n",
       "#T_ff820_row8_col30, #T_ff820_row20_col0, #T_ff820_row20_col30, #T_ff820_row27_col30, #T_ff820_row29_col14 {\n",
       "  background-color: #90b2fe;\n",
       "  color: #000000;\n",
       "}\n",
       "#T_ff820_row9_col0, #T_ff820_row27_col0 {\n",
       "  background-color: #9bbcff;\n",
       "  color: #000000;\n",
       "}\n",
       "#T_ff820_row9_col29, #T_ff820_row10_col0 {\n",
       "  background-color: #a5c3fe;\n",
       "  color: #000000;\n",
       "}\n",
       "#T_ff820_row10_col30 {\n",
       "  background-color: #5470de;\n",
       "  color: #f1f1f1;\n",
       "}\n",
       "#T_ff820_row11_col0 {\n",
       "  background-color: #6180e9;\n",
       "  color: #f1f1f1;\n",
       "}\n",
       "#T_ff820_row11_col30 {\n",
       "  background-color: #b3cdfb;\n",
       "  color: #000000;\n",
       "}\n",
       "#T_ff820_row12_col0 {\n",
       "  background-color: #bbd1f8;\n",
       "  color: #000000;\n",
       "}\n",
       "#T_ff820_row13_col29, #T_ff820_row24_col29, #T_ff820_row30_col29 {\n",
       "  background-color: #afcafc;\n",
       "  color: #000000;\n",
       "}\n",
       "#T_ff820_row13_col30, #T_ff820_row15_col30, #T_ff820_row17_col0, #T_ff820_row23_col30 {\n",
       "  background-color: #8badfd;\n",
       "  color: #000000;\n",
       "}\n",
       "#T_ff820_row14_col0 {\n",
       "  background-color: #84a7fc;\n",
       "  color: #f1f1f1;\n",
       "}\n",
       "#T_ff820_row14_col29, #T_ff820_row18_col29 {\n",
       "  background-color: #b6cefa;\n",
       "  color: #000000;\n",
       "}\n",
       "#T_ff820_row16_col0 {\n",
       "  background-color: #9fbfff;\n",
       "  color: #000000;\n",
       "}\n",
       "#T_ff820_row18_col0 {\n",
       "  background-color: #b2ccfb;\n",
       "  color: #000000;\n",
       "}\n",
       "#T_ff820_row18_col30, #T_ff820_row29_col16 {\n",
       "  background-color: #6e90f2;\n",
       "  color: #f1f1f1;\n",
       "}\n",
       "#T_ff820_row19_col29 {\n",
       "  background-color: #a2c1ff;\n",
       "  color: #000000;\n",
       "}\n",
       "#T_ff820_row20_col29 {\n",
       "  background-color: #edd2c3;\n",
       "  color: #000000;\n",
       "}\n",
       "#T_ff820_row21_col0 {\n",
       "  background-color: #a7c5fe;\n",
       "  color: #000000;\n",
       "}\n",
       "#T_ff820_row21_col30, #T_ff820_row23_col29 {\n",
       "  background-color: #96b7ff;\n",
       "  color: #000000;\n",
       "}\n",
       "#T_ff820_row22_col0 {\n",
       "  background-color: #bfd3f6;\n",
       "  color: #000000;\n",
       "}\n",
       "#T_ff820_row23_col0 {\n",
       "  background-color: #a9c6fd;\n",
       "  color: #000000;\n",
       "}\n",
       "#T_ff820_row24_col0 {\n",
       "  background-color: #98b9ff;\n",
       "  color: #000000;\n",
       "}\n",
       "#T_ff820_row24_col30 {\n",
       "  background-color: #89acfd;\n",
       "  color: #000000;\n",
       "}\n",
       "#T_ff820_row25_col0, #T_ff820_row29_col18 {\n",
       "  background-color: #6384eb;\n",
       "  color: #f1f1f1;\n",
       "}\n",
       "#T_ff820_row26_col0 {\n",
       "  background-color: #93b5fe;\n",
       "  color: #000000;\n",
       "}\n",
       "#T_ff820_row27_col29 {\n",
       "  background-color: #b5cdfa;\n",
       "  color: #000000;\n",
       "}\n",
       "#T_ff820_row29_col6 {\n",
       "  background-color: #92b4fe;\n",
       "  color: #000000;\n",
       "}\n",
       "#T_ff820_row29_col7 {\n",
       "  background-color: #dbdcde;\n",
       "  color: #000000;\n",
       "}\n",
       "#T_ff820_row29_col13, #T_ff820_row30_col20 {\n",
       "  background-color: #4f69d9;\n",
       "  color: #f1f1f1;\n",
       "}\n",
       "#T_ff820_row29_col20 {\n",
       "  background-color: #b7cff9;\n",
       "  color: #000000;\n",
       "}\n",
       "#T_ff820_row29_col21 {\n",
       "  background-color: #5b7ae5;\n",
       "  color: #f1f1f1;\n",
       "}\n",
       "#T_ff820_row29_col24, #T_ff820_row30_col27 {\n",
       "  background-color: #4055c8;\n",
       "  color: #f1f1f1;\n",
       "}\n",
       "#T_ff820_row29_col25, #T_ff820_row30_col15 {\n",
       "  background-color: #6a8bef;\n",
       "  color: #f1f1f1;\n",
       "}\n",
       "#T_ff820_row29_col26 {\n",
       "  background-color: #455cce;\n",
       "  color: #f1f1f1;\n",
       "}\n",
       "#T_ff820_row29_col27 {\n",
       "  background-color: #445acc;\n",
       "  color: #f1f1f1;\n",
       "}\n",
       "#T_ff820_row30_col2 {\n",
       "  background-color: #c3d5f4;\n",
       "  color: #000000;\n",
       "}\n",
       "#T_ff820_row30_col4 {\n",
       "  background-color: #81a4fb;\n",
       "  color: #f1f1f1;\n",
       "}\n",
       "#T_ff820_row30_col8 {\n",
       "  background-color: #5d7ce6;\n",
       "  color: #f1f1f1;\n",
       "}\n",
       "#T_ff820_row30_col11 {\n",
       "  background-color: #a6c4fe;\n",
       "  color: #000000;\n",
       "}\n",
       "#T_ff820_row30_col13 {\n",
       "  background-color: #4b64d5;\n",
       "  color: #f1f1f1;\n",
       "}\n",
       "#T_ff820_row30_col25 {\n",
       "  background-color: #799cf8;\n",
       "  color: #f1f1f1;\n",
       "}\n",
       "</style>\n",
       "<table id=\"T_ff820_\">\n",
       "  <thead>\n",
       "    <tr>\n",
       "      <th class=\"blank level0\" >&nbsp;</th>\n",
       "      <th class=\"col_heading level0 col0\" >Time</th>\n",
       "      <th class=\"col_heading level0 col1\" >V1</th>\n",
       "      <th class=\"col_heading level0 col2\" >V2</th>\n",
       "      <th class=\"col_heading level0 col3\" >V3</th>\n",
       "      <th class=\"col_heading level0 col4\" >V4</th>\n",
       "      <th class=\"col_heading level0 col5\" >V5</th>\n",
       "      <th class=\"col_heading level0 col6\" >V6</th>\n",
       "      <th class=\"col_heading level0 col7\" >V7</th>\n",
       "      <th class=\"col_heading level0 col8\" >V8</th>\n",
       "      <th class=\"col_heading level0 col9\" >V9</th>\n",
       "      <th class=\"col_heading level0 col10\" >V10</th>\n",
       "      <th class=\"col_heading level0 col11\" >V11</th>\n",
       "      <th class=\"col_heading level0 col12\" >V12</th>\n",
       "      <th class=\"col_heading level0 col13\" >V13</th>\n",
       "      <th class=\"col_heading level0 col14\" >V14</th>\n",
       "      <th class=\"col_heading level0 col15\" >V15</th>\n",
       "      <th class=\"col_heading level0 col16\" >V16</th>\n",
       "      <th class=\"col_heading level0 col17\" >V17</th>\n",
       "      <th class=\"col_heading level0 col18\" >V18</th>\n",
       "      <th class=\"col_heading level0 col19\" >V19</th>\n",
       "      <th class=\"col_heading level0 col20\" >V20</th>\n",
       "      <th class=\"col_heading level0 col21\" >V21</th>\n",
       "      <th class=\"col_heading level0 col22\" >V22</th>\n",
       "      <th class=\"col_heading level0 col23\" >V23</th>\n",
       "      <th class=\"col_heading level0 col24\" >V24</th>\n",
       "      <th class=\"col_heading level0 col25\" >V25</th>\n",
       "      <th class=\"col_heading level0 col26\" >V26</th>\n",
       "      <th class=\"col_heading level0 col27\" >V27</th>\n",
       "      <th class=\"col_heading level0 col28\" >V28</th>\n",
       "      <th class=\"col_heading level0 col29\" >Amount</th>\n",
       "      <th class=\"col_heading level0 col30\" >Class</th>\n",
       "    </tr>\n",
       "  </thead>\n",
       "  <tbody>\n",
       "    <tr>\n",
       "      <th id=\"T_ff820_level0_row0\" class=\"row_heading level0 row0\" >Time</th>\n",
       "      <td id=\"T_ff820_row0_col0\" class=\"data row0 col0\" >1.00</td>\n",
       "      <td id=\"T_ff820_row0_col1\" class=\"data row0 col1\" >0.12</td>\n",
       "      <td id=\"T_ff820_row0_col2\" class=\"data row0 col2\" >-0.01</td>\n",
       "      <td id=\"T_ff820_row0_col3\" class=\"data row0 col3\" >-0.42</td>\n",
       "      <td id=\"T_ff820_row0_col4\" class=\"data row0 col4\" >-0.11</td>\n",
       "      <td id=\"T_ff820_row0_col5\" class=\"data row0 col5\" >0.17</td>\n",
       "      <td id=\"T_ff820_row0_col6\" class=\"data row0 col6\" >-0.06</td>\n",
       "      <td id=\"T_ff820_row0_col7\" class=\"data row0 col7\" >0.08</td>\n",
       "      <td id=\"T_ff820_row0_col8\" class=\"data row0 col8\" >-0.04</td>\n",
       "      <td id=\"T_ff820_row0_col9\" class=\"data row0 col9\" >-0.01</td>\n",
       "      <td id=\"T_ff820_row0_col10\" class=\"data row0 col10\" >0.03</td>\n",
       "      <td id=\"T_ff820_row0_col11\" class=\"data row0 col11\" >-0.25</td>\n",
       "      <td id=\"T_ff820_row0_col12\" class=\"data row0 col12\" >0.12</td>\n",
       "      <td id=\"T_ff820_row0_col13\" class=\"data row0 col13\" >-0.07</td>\n",
       "      <td id=\"T_ff820_row0_col14\" class=\"data row0 col14\" >-0.10</td>\n",
       "      <td id=\"T_ff820_row0_col15\" class=\"data row0 col15\" >-0.18</td>\n",
       "      <td id=\"T_ff820_row0_col16\" class=\"data row0 col16\" >0.01</td>\n",
       "      <td id=\"T_ff820_row0_col17\" class=\"data row0 col17\" >-0.07</td>\n",
       "      <td id=\"T_ff820_row0_col18\" class=\"data row0 col18\" >0.09</td>\n",
       "      <td id=\"T_ff820_row0_col19\" class=\"data row0 col19\" >0.03</td>\n",
       "      <td id=\"T_ff820_row0_col20\" class=\"data row0 col20\" >-0.05</td>\n",
       "      <td id=\"T_ff820_row0_col21\" class=\"data row0 col21\" >0.04</td>\n",
       "      <td id=\"T_ff820_row0_col22\" class=\"data row0 col22\" >0.14</td>\n",
       "      <td id=\"T_ff820_row0_col23\" class=\"data row0 col23\" >0.05</td>\n",
       "      <td id=\"T_ff820_row0_col24\" class=\"data row0 col24\" >-0.02</td>\n",
       "      <td id=\"T_ff820_row0_col25\" class=\"data row0 col25\" >-0.23</td>\n",
       "      <td id=\"T_ff820_row0_col26\" class=\"data row0 col26\" >-0.04</td>\n",
       "      <td id=\"T_ff820_row0_col27\" class=\"data row0 col27\" >-0.01</td>\n",
       "      <td id=\"T_ff820_row0_col28\" class=\"data row0 col28\" >-0.01</td>\n",
       "      <td id=\"T_ff820_row0_col29\" class=\"data row0 col29\" >-0.01</td>\n",
       "      <td id=\"T_ff820_row0_col30\" class=\"data row0 col30\" >-0.01</td>\n",
       "    </tr>\n",
       "    <tr>\n",
       "      <th id=\"T_ff820_level0_row1\" class=\"row_heading level0 row1\" >V1</th>\n",
       "      <td id=\"T_ff820_row1_col0\" class=\"data row1 col0\" >0.12</td>\n",
       "      <td id=\"T_ff820_row1_col1\" class=\"data row1 col1\" >1.00</td>\n",
       "      <td id=\"T_ff820_row1_col2\" class=\"data row1 col2\" >0.00</td>\n",
       "      <td id=\"T_ff820_row1_col3\" class=\"data row1 col3\" >-0.00</td>\n",
       "      <td id=\"T_ff820_row1_col4\" class=\"data row1 col4\" >-0.00</td>\n",
       "      <td id=\"T_ff820_row1_col5\" class=\"data row1 col5\" >0.00</td>\n",
       "      <td id=\"T_ff820_row1_col6\" class=\"data row1 col6\" >-0.00</td>\n",
       "      <td id=\"T_ff820_row1_col7\" class=\"data row1 col7\" >-0.00</td>\n",
       "      <td id=\"T_ff820_row1_col8\" class=\"data row1 col8\" >-0.00</td>\n",
       "      <td id=\"T_ff820_row1_col9\" class=\"data row1 col9\" >-0.00</td>\n",
       "      <td id=\"T_ff820_row1_col10\" class=\"data row1 col10\" >0.00</td>\n",
       "      <td id=\"T_ff820_row1_col11\" class=\"data row1 col11\" >0.00</td>\n",
       "      <td id=\"T_ff820_row1_col12\" class=\"data row1 col12\" >0.00</td>\n",
       "      <td id=\"T_ff820_row1_col13\" class=\"data row1 col13\" >-0.00</td>\n",
       "      <td id=\"T_ff820_row1_col14\" class=\"data row1 col14\" >-0.00</td>\n",
       "      <td id=\"T_ff820_row1_col15\" class=\"data row1 col15\" >0.00</td>\n",
       "      <td id=\"T_ff820_row1_col16\" class=\"data row1 col16\" >0.00</td>\n",
       "      <td id=\"T_ff820_row1_col17\" class=\"data row1 col17\" >-0.00</td>\n",
       "      <td id=\"T_ff820_row1_col18\" class=\"data row1 col18\" >0.00</td>\n",
       "      <td id=\"T_ff820_row1_col19\" class=\"data row1 col19\" >0.00</td>\n",
       "      <td id=\"T_ff820_row1_col20\" class=\"data row1 col20\" >0.00</td>\n",
       "      <td id=\"T_ff820_row1_col21\" class=\"data row1 col21\" >-0.00</td>\n",
       "      <td id=\"T_ff820_row1_col22\" class=\"data row1 col22\" >-0.00</td>\n",
       "      <td id=\"T_ff820_row1_col23\" class=\"data row1 col23\" >0.00</td>\n",
       "      <td id=\"T_ff820_row1_col24\" class=\"data row1 col24\" >-0.00</td>\n",
       "      <td id=\"T_ff820_row1_col25\" class=\"data row1 col25\" >-0.00</td>\n",
       "      <td id=\"T_ff820_row1_col26\" class=\"data row1 col26\" >-0.00</td>\n",
       "      <td id=\"T_ff820_row1_col27\" class=\"data row1 col27\" >0.00</td>\n",
       "      <td id=\"T_ff820_row1_col28\" class=\"data row1 col28\" >0.00</td>\n",
       "      <td id=\"T_ff820_row1_col29\" class=\"data row1 col29\" >-0.23</td>\n",
       "      <td id=\"T_ff820_row1_col30\" class=\"data row1 col30\" >-0.10</td>\n",
       "    </tr>\n",
       "    <tr>\n",
       "      <th id=\"T_ff820_level0_row2\" class=\"row_heading level0 row2\" >V2</th>\n",
       "      <td id=\"T_ff820_row2_col0\" class=\"data row2 col0\" >-0.01</td>\n",
       "      <td id=\"T_ff820_row2_col1\" class=\"data row2 col1\" >0.00</td>\n",
       "      <td id=\"T_ff820_row2_col2\" class=\"data row2 col2\" >1.00</td>\n",
       "      <td id=\"T_ff820_row2_col3\" class=\"data row2 col3\" >0.00</td>\n",
       "      <td id=\"T_ff820_row2_col4\" class=\"data row2 col4\" >-0.00</td>\n",
       "      <td id=\"T_ff820_row2_col5\" class=\"data row2 col5\" >0.00</td>\n",
       "      <td id=\"T_ff820_row2_col6\" class=\"data row2 col6\" >0.00</td>\n",
       "      <td id=\"T_ff820_row2_col7\" class=\"data row2 col7\" >0.00</td>\n",
       "      <td id=\"T_ff820_row2_col8\" class=\"data row2 col8\" >-0.00</td>\n",
       "      <td id=\"T_ff820_row2_col9\" class=\"data row2 col9\" >0.00</td>\n",
       "      <td id=\"T_ff820_row2_col10\" class=\"data row2 col10\" >-0.00</td>\n",
       "      <td id=\"T_ff820_row2_col11\" class=\"data row2 col11\" >0.00</td>\n",
       "      <td id=\"T_ff820_row2_col12\" class=\"data row2 col12\" >-0.00</td>\n",
       "      <td id=\"T_ff820_row2_col13\" class=\"data row2 col13\" >0.00</td>\n",
       "      <td id=\"T_ff820_row2_col14\" class=\"data row2 col14\" >-0.00</td>\n",
       "      <td id=\"T_ff820_row2_col15\" class=\"data row2 col15\" >-0.00</td>\n",
       "      <td id=\"T_ff820_row2_col16\" class=\"data row2 col16\" >0.00</td>\n",
       "      <td id=\"T_ff820_row2_col17\" class=\"data row2 col17\" >-0.00</td>\n",
       "      <td id=\"T_ff820_row2_col18\" class=\"data row2 col18\" >0.00</td>\n",
       "      <td id=\"T_ff820_row2_col19\" class=\"data row2 col19\" >-0.00</td>\n",
       "      <td id=\"T_ff820_row2_col20\" class=\"data row2 col20\" >0.00</td>\n",
       "      <td id=\"T_ff820_row2_col21\" class=\"data row2 col21\" >-0.00</td>\n",
       "      <td id=\"T_ff820_row2_col22\" class=\"data row2 col22\" >0.00</td>\n",
       "      <td id=\"T_ff820_row2_col23\" class=\"data row2 col23\" >0.00</td>\n",
       "      <td id=\"T_ff820_row2_col24\" class=\"data row2 col24\" >0.00</td>\n",
       "      <td id=\"T_ff820_row2_col25\" class=\"data row2 col25\" >-0.00</td>\n",
       "      <td id=\"T_ff820_row2_col26\" class=\"data row2 col26\" >0.00</td>\n",
       "      <td id=\"T_ff820_row2_col27\" class=\"data row2 col27\" >-0.00</td>\n",
       "      <td id=\"T_ff820_row2_col28\" class=\"data row2 col28\" >-0.00</td>\n",
       "      <td id=\"T_ff820_row2_col29\" class=\"data row2 col29\" >-0.53</td>\n",
       "      <td id=\"T_ff820_row2_col30\" class=\"data row2 col30\" >0.09</td>\n",
       "    </tr>\n",
       "    <tr>\n",
       "      <th id=\"T_ff820_level0_row3\" class=\"row_heading level0 row3\" >V3</th>\n",
       "      <td id=\"T_ff820_row3_col0\" class=\"data row3 col0\" >-0.42</td>\n",
       "      <td id=\"T_ff820_row3_col1\" class=\"data row3 col1\" >-0.00</td>\n",
       "      <td id=\"T_ff820_row3_col2\" class=\"data row3 col2\" >0.00</td>\n",
       "      <td id=\"T_ff820_row3_col3\" class=\"data row3 col3\" >1.00</td>\n",
       "      <td id=\"T_ff820_row3_col4\" class=\"data row3 col4\" >0.00</td>\n",
       "      <td id=\"T_ff820_row3_col5\" class=\"data row3 col5\" >-0.00</td>\n",
       "      <td id=\"T_ff820_row3_col6\" class=\"data row3 col6\" >0.00</td>\n",
       "      <td id=\"T_ff820_row3_col7\" class=\"data row3 col7\" >0.00</td>\n",
       "      <td id=\"T_ff820_row3_col8\" class=\"data row3 col8\" >-0.00</td>\n",
       "      <td id=\"T_ff820_row3_col9\" class=\"data row3 col9\" >0.00</td>\n",
       "      <td id=\"T_ff820_row3_col10\" class=\"data row3 col10\" >0.00</td>\n",
       "      <td id=\"T_ff820_row3_col11\" class=\"data row3 col11\" >0.00</td>\n",
       "      <td id=\"T_ff820_row3_col12\" class=\"data row3 col12\" >0.00</td>\n",
       "      <td id=\"T_ff820_row3_col13\" class=\"data row3 col13\" >0.00</td>\n",
       "      <td id=\"T_ff820_row3_col14\" class=\"data row3 col14\" >0.00</td>\n",
       "      <td id=\"T_ff820_row3_col15\" class=\"data row3 col15\" >0.00</td>\n",
       "      <td id=\"T_ff820_row3_col16\" class=\"data row3 col16\" >0.00</td>\n",
       "      <td id=\"T_ff820_row3_col17\" class=\"data row3 col17\" >0.00</td>\n",
       "      <td id=\"T_ff820_row3_col18\" class=\"data row3 col18\" >0.00</td>\n",
       "      <td id=\"T_ff820_row3_col19\" class=\"data row3 col19\" >0.00</td>\n",
       "      <td id=\"T_ff820_row3_col20\" class=\"data row3 col20\" >-0.00</td>\n",
       "      <td id=\"T_ff820_row3_col21\" class=\"data row3 col21\" >0.00</td>\n",
       "      <td id=\"T_ff820_row3_col22\" class=\"data row3 col22\" >-0.00</td>\n",
       "      <td id=\"T_ff820_row3_col23\" class=\"data row3 col23\" >-0.00</td>\n",
       "      <td id=\"T_ff820_row3_col24\" class=\"data row3 col24\" >0.00</td>\n",
       "      <td id=\"T_ff820_row3_col25\" class=\"data row3 col25\" >-0.00</td>\n",
       "      <td id=\"T_ff820_row3_col26\" class=\"data row3 col26\" >-0.00</td>\n",
       "      <td id=\"T_ff820_row3_col27\" class=\"data row3 col27\" >0.00</td>\n",
       "      <td id=\"T_ff820_row3_col28\" class=\"data row3 col28\" >0.00</td>\n",
       "      <td id=\"T_ff820_row3_col29\" class=\"data row3 col29\" >-0.21</td>\n",
       "      <td id=\"T_ff820_row3_col30\" class=\"data row3 col30\" >-0.19</td>\n",
       "    </tr>\n",
       "    <tr>\n",
       "      <th id=\"T_ff820_level0_row4\" class=\"row_heading level0 row4\" >V4</th>\n",
       "      <td id=\"T_ff820_row4_col0\" class=\"data row4 col0\" >-0.11</td>\n",
       "      <td id=\"T_ff820_row4_col1\" class=\"data row4 col1\" >-0.00</td>\n",
       "      <td id=\"T_ff820_row4_col2\" class=\"data row4 col2\" >-0.00</td>\n",
       "      <td id=\"T_ff820_row4_col3\" class=\"data row4 col3\" >0.00</td>\n",
       "      <td id=\"T_ff820_row4_col4\" class=\"data row4 col4\" >1.00</td>\n",
       "      <td id=\"T_ff820_row4_col5\" class=\"data row4 col5\" >-0.00</td>\n",
       "      <td id=\"T_ff820_row4_col6\" class=\"data row4 col6\" >-0.00</td>\n",
       "      <td id=\"T_ff820_row4_col7\" class=\"data row4 col7\" >-0.00</td>\n",
       "      <td id=\"T_ff820_row4_col8\" class=\"data row4 col8\" >0.00</td>\n",
       "      <td id=\"T_ff820_row4_col9\" class=\"data row4 col9\" >0.00</td>\n",
       "      <td id=\"T_ff820_row4_col10\" class=\"data row4 col10\" >0.00</td>\n",
       "      <td id=\"T_ff820_row4_col11\" class=\"data row4 col11\" >0.00</td>\n",
       "      <td id=\"T_ff820_row4_col12\" class=\"data row4 col12\" >-0.00</td>\n",
       "      <td id=\"T_ff820_row4_col13\" class=\"data row4 col13\" >0.00</td>\n",
       "      <td id=\"T_ff820_row4_col14\" class=\"data row4 col14\" >0.00</td>\n",
       "      <td id=\"T_ff820_row4_col15\" class=\"data row4 col15\" >0.00</td>\n",
       "      <td id=\"T_ff820_row4_col16\" class=\"data row4 col16\" >-0.00</td>\n",
       "      <td id=\"T_ff820_row4_col17\" class=\"data row4 col17\" >-0.00</td>\n",
       "      <td id=\"T_ff820_row4_col18\" class=\"data row4 col18\" >-0.00</td>\n",
       "      <td id=\"T_ff820_row4_col19\" class=\"data row4 col19\" >-0.00</td>\n",
       "      <td id=\"T_ff820_row4_col20\" class=\"data row4 col20\" >-0.00</td>\n",
       "      <td id=\"T_ff820_row4_col21\" class=\"data row4 col21\" >-0.00</td>\n",
       "      <td id=\"T_ff820_row4_col22\" class=\"data row4 col22\" >-0.00</td>\n",
       "      <td id=\"T_ff820_row4_col23\" class=\"data row4 col23\" >0.00</td>\n",
       "      <td id=\"T_ff820_row4_col24\" class=\"data row4 col24\" >0.00</td>\n",
       "      <td id=\"T_ff820_row4_col25\" class=\"data row4 col25\" >0.00</td>\n",
       "      <td id=\"T_ff820_row4_col26\" class=\"data row4 col26\" >-0.00</td>\n",
       "      <td id=\"T_ff820_row4_col27\" class=\"data row4 col27\" >0.00</td>\n",
       "      <td id=\"T_ff820_row4_col28\" class=\"data row4 col28\" >-0.00</td>\n",
       "      <td id=\"T_ff820_row4_col29\" class=\"data row4 col29\" >0.10</td>\n",
       "      <td id=\"T_ff820_row4_col30\" class=\"data row4 col30\" >0.13</td>\n",
       "    </tr>\n",
       "    <tr>\n",
       "      <th id=\"T_ff820_level0_row5\" class=\"row_heading level0 row5\" >V5</th>\n",
       "      <td id=\"T_ff820_row5_col0\" class=\"data row5 col0\" >0.17</td>\n",
       "      <td id=\"T_ff820_row5_col1\" class=\"data row5 col1\" >0.00</td>\n",
       "      <td id=\"T_ff820_row5_col2\" class=\"data row5 col2\" >0.00</td>\n",
       "      <td id=\"T_ff820_row5_col3\" class=\"data row5 col3\" >-0.00</td>\n",
       "      <td id=\"T_ff820_row5_col4\" class=\"data row5 col4\" >-0.00</td>\n",
       "      <td id=\"T_ff820_row5_col5\" class=\"data row5 col5\" >1.00</td>\n",
       "      <td id=\"T_ff820_row5_col6\" class=\"data row5 col6\" >0.00</td>\n",
       "      <td id=\"T_ff820_row5_col7\" class=\"data row5 col7\" >0.00</td>\n",
       "      <td id=\"T_ff820_row5_col8\" class=\"data row5 col8\" >0.00</td>\n",
       "      <td id=\"T_ff820_row5_col9\" class=\"data row5 col9\" >0.00</td>\n",
       "      <td id=\"T_ff820_row5_col10\" class=\"data row5 col10\" >-0.00</td>\n",
       "      <td id=\"T_ff820_row5_col11\" class=\"data row5 col11\" >0.00</td>\n",
       "      <td id=\"T_ff820_row5_col12\" class=\"data row5 col12\" >0.00</td>\n",
       "      <td id=\"T_ff820_row5_col13\" class=\"data row5 col13\" >0.00</td>\n",
       "      <td id=\"T_ff820_row5_col14\" class=\"data row5 col14\" >0.00</td>\n",
       "      <td id=\"T_ff820_row5_col15\" class=\"data row5 col15\" >-0.00</td>\n",
       "      <td id=\"T_ff820_row5_col16\" class=\"data row5 col16\" >0.00</td>\n",
       "      <td id=\"T_ff820_row5_col17\" class=\"data row5 col17\" >0.00</td>\n",
       "      <td id=\"T_ff820_row5_col18\" class=\"data row5 col18\" >0.00</td>\n",
       "      <td id=\"T_ff820_row5_col19\" class=\"data row5 col19\" >-0.00</td>\n",
       "      <td id=\"T_ff820_row5_col20\" class=\"data row5 col20\" >-0.00</td>\n",
       "      <td id=\"T_ff820_row5_col21\" class=\"data row5 col21\" >-0.00</td>\n",
       "      <td id=\"T_ff820_row5_col22\" class=\"data row5 col22\" >0.00</td>\n",
       "      <td id=\"T_ff820_row5_col23\" class=\"data row5 col23\" >-0.00</td>\n",
       "      <td id=\"T_ff820_row5_col24\" class=\"data row5 col24\" >-0.00</td>\n",
       "      <td id=\"T_ff820_row5_col25\" class=\"data row5 col25\" >0.00</td>\n",
       "      <td id=\"T_ff820_row5_col26\" class=\"data row5 col26\" >0.00</td>\n",
       "      <td id=\"T_ff820_row5_col27\" class=\"data row5 col27\" >0.00</td>\n",
       "      <td id=\"T_ff820_row5_col28\" class=\"data row5 col28\" >-0.00</td>\n",
       "      <td id=\"T_ff820_row5_col29\" class=\"data row5 col29\" >-0.39</td>\n",
       "      <td id=\"T_ff820_row5_col30\" class=\"data row5 col30\" >-0.09</td>\n",
       "    </tr>\n",
       "    <tr>\n",
       "      <th id=\"T_ff820_level0_row6\" class=\"row_heading level0 row6\" >V6</th>\n",
       "      <td id=\"T_ff820_row6_col0\" class=\"data row6 col0\" >-0.06</td>\n",
       "      <td id=\"T_ff820_row6_col1\" class=\"data row6 col1\" >-0.00</td>\n",
       "      <td id=\"T_ff820_row6_col2\" class=\"data row6 col2\" >0.00</td>\n",
       "      <td id=\"T_ff820_row6_col3\" class=\"data row6 col3\" >0.00</td>\n",
       "      <td id=\"T_ff820_row6_col4\" class=\"data row6 col4\" >-0.00</td>\n",
       "      <td id=\"T_ff820_row6_col5\" class=\"data row6 col5\" >0.00</td>\n",
       "      <td id=\"T_ff820_row6_col6\" class=\"data row6 col6\" >1.00</td>\n",
       "      <td id=\"T_ff820_row6_col7\" class=\"data row6 col7\" >0.00</td>\n",
       "      <td id=\"T_ff820_row6_col8\" class=\"data row6 col8\" >-0.00</td>\n",
       "      <td id=\"T_ff820_row6_col9\" class=\"data row6 col9\" >0.00</td>\n",
       "      <td id=\"T_ff820_row6_col10\" class=\"data row6 col10\" >0.00</td>\n",
       "      <td id=\"T_ff820_row6_col11\" class=\"data row6 col11\" >0.00</td>\n",
       "      <td id=\"T_ff820_row6_col12\" class=\"data row6 col12\" >0.00</td>\n",
       "      <td id=\"T_ff820_row6_col13\" class=\"data row6 col13\" >-0.00</td>\n",
       "      <td id=\"T_ff820_row6_col14\" class=\"data row6 col14\" >0.00</td>\n",
       "      <td id=\"T_ff820_row6_col15\" class=\"data row6 col15\" >-0.00</td>\n",
       "      <td id=\"T_ff820_row6_col16\" class=\"data row6 col16\" >0.00</td>\n",
       "      <td id=\"T_ff820_row6_col17\" class=\"data row6 col17\" >0.00</td>\n",
       "      <td id=\"T_ff820_row6_col18\" class=\"data row6 col18\" >0.00</td>\n",
       "      <td id=\"T_ff820_row6_col19\" class=\"data row6 col19\" >-0.00</td>\n",
       "      <td id=\"T_ff820_row6_col20\" class=\"data row6 col20\" >-0.00</td>\n",
       "      <td id=\"T_ff820_row6_col21\" class=\"data row6 col21\" >0.00</td>\n",
       "      <td id=\"T_ff820_row6_col22\" class=\"data row6 col22\" >-0.00</td>\n",
       "      <td id=\"T_ff820_row6_col23\" class=\"data row6 col23\" >0.00</td>\n",
       "      <td id=\"T_ff820_row6_col24\" class=\"data row6 col24\" >-0.00</td>\n",
       "      <td id=\"T_ff820_row6_col25\" class=\"data row6 col25\" >0.00</td>\n",
       "      <td id=\"T_ff820_row6_col26\" class=\"data row6 col26\" >-0.00</td>\n",
       "      <td id=\"T_ff820_row6_col27\" class=\"data row6 col27\" >-0.00</td>\n",
       "      <td id=\"T_ff820_row6_col28\" class=\"data row6 col28\" >0.00</td>\n",
       "      <td id=\"T_ff820_row6_col29\" class=\"data row6 col29\" >0.22</td>\n",
       "      <td id=\"T_ff820_row6_col30\" class=\"data row6 col30\" >-0.04</td>\n",
       "    </tr>\n",
       "    <tr>\n",
       "      <th id=\"T_ff820_level0_row7\" class=\"row_heading level0 row7\" >V7</th>\n",
       "      <td id=\"T_ff820_row7_col0\" class=\"data row7 col0\" >0.08</td>\n",
       "      <td id=\"T_ff820_row7_col1\" class=\"data row7 col1\" >-0.00</td>\n",
       "      <td id=\"T_ff820_row7_col2\" class=\"data row7 col2\" >0.00</td>\n",
       "      <td id=\"T_ff820_row7_col3\" class=\"data row7 col3\" >0.00</td>\n",
       "      <td id=\"T_ff820_row7_col4\" class=\"data row7 col4\" >-0.00</td>\n",
       "      <td id=\"T_ff820_row7_col5\" class=\"data row7 col5\" >0.00</td>\n",
       "      <td id=\"T_ff820_row7_col6\" class=\"data row7 col6\" >0.00</td>\n",
       "      <td id=\"T_ff820_row7_col7\" class=\"data row7 col7\" >1.00</td>\n",
       "      <td id=\"T_ff820_row7_col8\" class=\"data row7 col8\" >0.00</td>\n",
       "      <td id=\"T_ff820_row7_col9\" class=\"data row7 col9\" >0.00</td>\n",
       "      <td id=\"T_ff820_row7_col10\" class=\"data row7 col10\" >-0.00</td>\n",
       "      <td id=\"T_ff820_row7_col11\" class=\"data row7 col11\" >0.00</td>\n",
       "      <td id=\"T_ff820_row7_col12\" class=\"data row7 col12\" >-0.00</td>\n",
       "      <td id=\"T_ff820_row7_col13\" class=\"data row7 col13\" >0.00</td>\n",
       "      <td id=\"T_ff820_row7_col14\" class=\"data row7 col14\" >0.00</td>\n",
       "      <td id=\"T_ff820_row7_col15\" class=\"data row7 col15\" >-0.00</td>\n",
       "      <td id=\"T_ff820_row7_col16\" class=\"data row7 col16\" >0.00</td>\n",
       "      <td id=\"T_ff820_row7_col17\" class=\"data row7 col17\" >0.00</td>\n",
       "      <td id=\"T_ff820_row7_col18\" class=\"data row7 col18\" >0.00</td>\n",
       "      <td id=\"T_ff820_row7_col19\" class=\"data row7 col19\" >-0.00</td>\n",
       "      <td id=\"T_ff820_row7_col20\" class=\"data row7 col20\" >0.00</td>\n",
       "      <td id=\"T_ff820_row7_col21\" class=\"data row7 col21\" >-0.00</td>\n",
       "      <td id=\"T_ff820_row7_col22\" class=\"data row7 col22\" >-0.00</td>\n",
       "      <td id=\"T_ff820_row7_col23\" class=\"data row7 col23\" >-0.00</td>\n",
       "      <td id=\"T_ff820_row7_col24\" class=\"data row7 col24\" >0.00</td>\n",
       "      <td id=\"T_ff820_row7_col25\" class=\"data row7 col25\" >-0.00</td>\n",
       "      <td id=\"T_ff820_row7_col26\" class=\"data row7 col26\" >-0.00</td>\n",
       "      <td id=\"T_ff820_row7_col27\" class=\"data row7 col27\" >-0.00</td>\n",
       "      <td id=\"T_ff820_row7_col28\" class=\"data row7 col28\" >-0.00</td>\n",
       "      <td id=\"T_ff820_row7_col29\" class=\"data row7 col29\" >0.40</td>\n",
       "      <td id=\"T_ff820_row7_col30\" class=\"data row7 col30\" >-0.19</td>\n",
       "    </tr>\n",
       "    <tr>\n",
       "      <th id=\"T_ff820_level0_row8\" class=\"row_heading level0 row8\" >V8</th>\n",
       "      <td id=\"T_ff820_row8_col0\" class=\"data row8 col0\" >-0.04</td>\n",
       "      <td id=\"T_ff820_row8_col1\" class=\"data row8 col1\" >-0.00</td>\n",
       "      <td id=\"T_ff820_row8_col2\" class=\"data row8 col2\" >-0.00</td>\n",
       "      <td id=\"T_ff820_row8_col3\" class=\"data row8 col3\" >-0.00</td>\n",
       "      <td id=\"T_ff820_row8_col4\" class=\"data row8 col4\" >0.00</td>\n",
       "      <td id=\"T_ff820_row8_col5\" class=\"data row8 col5\" >0.00</td>\n",
       "      <td id=\"T_ff820_row8_col6\" class=\"data row8 col6\" >-0.00</td>\n",
       "      <td id=\"T_ff820_row8_col7\" class=\"data row8 col7\" >0.00</td>\n",
       "      <td id=\"T_ff820_row8_col8\" class=\"data row8 col8\" >1.00</td>\n",
       "      <td id=\"T_ff820_row8_col9\" class=\"data row8 col9\" >0.00</td>\n",
       "      <td id=\"T_ff820_row8_col10\" class=\"data row8 col10\" >-0.00</td>\n",
       "      <td id=\"T_ff820_row8_col11\" class=\"data row8 col11\" >0.00</td>\n",
       "      <td id=\"T_ff820_row8_col12\" class=\"data row8 col12\" >0.00</td>\n",
       "      <td id=\"T_ff820_row8_col13\" class=\"data row8 col13\" >-0.00</td>\n",
       "      <td id=\"T_ff820_row8_col14\" class=\"data row8 col14\" >-0.00</td>\n",
       "      <td id=\"T_ff820_row8_col15\" class=\"data row8 col15\" >0.00</td>\n",
       "      <td id=\"T_ff820_row8_col16\" class=\"data row8 col16\" >-0.00</td>\n",
       "      <td id=\"T_ff820_row8_col17\" class=\"data row8 col17\" >-0.00</td>\n",
       "      <td id=\"T_ff820_row8_col18\" class=\"data row8 col18\" >-0.00</td>\n",
       "      <td id=\"T_ff820_row8_col19\" class=\"data row8 col19\" >-0.00</td>\n",
       "      <td id=\"T_ff820_row8_col20\" class=\"data row8 col20\" >0.00</td>\n",
       "      <td id=\"T_ff820_row8_col21\" class=\"data row8 col21\" >0.00</td>\n",
       "      <td id=\"T_ff820_row8_col22\" class=\"data row8 col22\" >0.00</td>\n",
       "      <td id=\"T_ff820_row8_col23\" class=\"data row8 col23\" >0.00</td>\n",
       "      <td id=\"T_ff820_row8_col24\" class=\"data row8 col24\" >-0.00</td>\n",
       "      <td id=\"T_ff820_row8_col25\" class=\"data row8 col25\" >-0.00</td>\n",
       "      <td id=\"T_ff820_row8_col26\" class=\"data row8 col26\" >-0.00</td>\n",
       "      <td id=\"T_ff820_row8_col27\" class=\"data row8 col27\" >0.00</td>\n",
       "      <td id=\"T_ff820_row8_col28\" class=\"data row8 col28\" >-0.00</td>\n",
       "      <td id=\"T_ff820_row8_col29\" class=\"data row8 col29\" >-0.10</td>\n",
       "      <td id=\"T_ff820_row8_col30\" class=\"data row8 col30\" >0.02</td>\n",
       "    </tr>\n",
       "    <tr>\n",
       "      <th id=\"T_ff820_level0_row9\" class=\"row_heading level0 row9\" >V9</th>\n",
       "      <td id=\"T_ff820_row9_col0\" class=\"data row9 col0\" >-0.01</td>\n",
       "      <td id=\"T_ff820_row9_col1\" class=\"data row9 col1\" >-0.00</td>\n",
       "      <td id=\"T_ff820_row9_col2\" class=\"data row9 col2\" >0.00</td>\n",
       "      <td id=\"T_ff820_row9_col3\" class=\"data row9 col3\" >0.00</td>\n",
       "      <td id=\"T_ff820_row9_col4\" class=\"data row9 col4\" >0.00</td>\n",
       "      <td id=\"T_ff820_row9_col5\" class=\"data row9 col5\" >0.00</td>\n",
       "      <td id=\"T_ff820_row9_col6\" class=\"data row9 col6\" >0.00</td>\n",
       "      <td id=\"T_ff820_row9_col7\" class=\"data row9 col7\" >0.00</td>\n",
       "      <td id=\"T_ff820_row9_col8\" class=\"data row9 col8\" >0.00</td>\n",
       "      <td id=\"T_ff820_row9_col9\" class=\"data row9 col9\" >1.00</td>\n",
       "      <td id=\"T_ff820_row9_col10\" class=\"data row9 col10\" >-0.00</td>\n",
       "      <td id=\"T_ff820_row9_col11\" class=\"data row9 col11\" >0.00</td>\n",
       "      <td id=\"T_ff820_row9_col12\" class=\"data row9 col12\" >-0.00</td>\n",
       "      <td id=\"T_ff820_row9_col13\" class=\"data row9 col13\" >0.00</td>\n",
       "      <td id=\"T_ff820_row9_col14\" class=\"data row9 col14\" >0.00</td>\n",
       "      <td id=\"T_ff820_row9_col15\" class=\"data row9 col15\" >-0.00</td>\n",
       "      <td id=\"T_ff820_row9_col16\" class=\"data row9 col16\" >-0.00</td>\n",
       "      <td id=\"T_ff820_row9_col17\" class=\"data row9 col17\" >0.00</td>\n",
       "      <td id=\"T_ff820_row9_col18\" class=\"data row9 col18\" >0.00</td>\n",
       "      <td id=\"T_ff820_row9_col19\" class=\"data row9 col19\" >-0.00</td>\n",
       "      <td id=\"T_ff820_row9_col20\" class=\"data row9 col20\" >-0.00</td>\n",
       "      <td id=\"T_ff820_row9_col21\" class=\"data row9 col21\" >0.00</td>\n",
       "      <td id=\"T_ff820_row9_col22\" class=\"data row9 col22\" >-0.00</td>\n",
       "      <td id=\"T_ff820_row9_col23\" class=\"data row9 col23\" >-0.00</td>\n",
       "      <td id=\"T_ff820_row9_col24\" class=\"data row9 col24\" >-0.00</td>\n",
       "      <td id=\"T_ff820_row9_col25\" class=\"data row9 col25\" >0.00</td>\n",
       "      <td id=\"T_ff820_row9_col26\" class=\"data row9 col26\" >-0.00</td>\n",
       "      <td id=\"T_ff820_row9_col27\" class=\"data row9 col27\" >-0.00</td>\n",
       "      <td id=\"T_ff820_row9_col28\" class=\"data row9 col28\" >0.00</td>\n",
       "      <td id=\"T_ff820_row9_col29\" class=\"data row9 col29\" >-0.04</td>\n",
       "      <td id=\"T_ff820_row9_col30\" class=\"data row9 col30\" >-0.10</td>\n",
       "    </tr>\n",
       "    <tr>\n",
       "      <th id=\"T_ff820_level0_row10\" class=\"row_heading level0 row10\" >V10</th>\n",
       "      <td id=\"T_ff820_row10_col0\" class=\"data row10 col0\" >0.03</td>\n",
       "      <td id=\"T_ff820_row10_col1\" class=\"data row10 col1\" >0.00</td>\n",
       "      <td id=\"T_ff820_row10_col2\" class=\"data row10 col2\" >-0.00</td>\n",
       "      <td id=\"T_ff820_row10_col3\" class=\"data row10 col3\" >0.00</td>\n",
       "      <td id=\"T_ff820_row10_col4\" class=\"data row10 col4\" >0.00</td>\n",
       "      <td id=\"T_ff820_row10_col5\" class=\"data row10 col5\" >-0.00</td>\n",
       "      <td id=\"T_ff820_row10_col6\" class=\"data row10 col6\" >0.00</td>\n",
       "      <td id=\"T_ff820_row10_col7\" class=\"data row10 col7\" >-0.00</td>\n",
       "      <td id=\"T_ff820_row10_col8\" class=\"data row10 col8\" >-0.00</td>\n",
       "      <td id=\"T_ff820_row10_col9\" class=\"data row10 col9\" >-0.00</td>\n",
       "      <td id=\"T_ff820_row10_col10\" class=\"data row10 col10\" >1.00</td>\n",
       "      <td id=\"T_ff820_row10_col11\" class=\"data row10 col11\" >-0.00</td>\n",
       "      <td id=\"T_ff820_row10_col12\" class=\"data row10 col12\" >0.00</td>\n",
       "      <td id=\"T_ff820_row10_col13\" class=\"data row10 col13\" >-0.00</td>\n",
       "      <td id=\"T_ff820_row10_col14\" class=\"data row10 col14\" >0.00</td>\n",
       "      <td id=\"T_ff820_row10_col15\" class=\"data row10 col15\" >0.00</td>\n",
       "      <td id=\"T_ff820_row10_col16\" class=\"data row10 col16\" >0.00</td>\n",
       "      <td id=\"T_ff820_row10_col17\" class=\"data row10 col17\" >0.00</td>\n",
       "      <td id=\"T_ff820_row10_col18\" class=\"data row10 col18\" >0.00</td>\n",
       "      <td id=\"T_ff820_row10_col19\" class=\"data row10 col19\" >0.00</td>\n",
       "      <td id=\"T_ff820_row10_col20\" class=\"data row10 col20\" >-0.00</td>\n",
       "      <td id=\"T_ff820_row10_col21\" class=\"data row10 col21\" >0.00</td>\n",
       "      <td id=\"T_ff820_row10_col22\" class=\"data row10 col22\" >-0.00</td>\n",
       "      <td id=\"T_ff820_row10_col23\" class=\"data row10 col23\" >0.00</td>\n",
       "      <td id=\"T_ff820_row10_col24\" class=\"data row10 col24\" >-0.00</td>\n",
       "      <td id=\"T_ff820_row10_col25\" class=\"data row10 col25\" >-0.00</td>\n",
       "      <td id=\"T_ff820_row10_col26\" class=\"data row10 col26\" >-0.00</td>\n",
       "      <td id=\"T_ff820_row10_col27\" class=\"data row10 col27\" >-0.00</td>\n",
       "      <td id=\"T_ff820_row10_col28\" class=\"data row10 col28\" >0.00</td>\n",
       "      <td id=\"T_ff820_row10_col29\" class=\"data row10 col29\" >-0.10</td>\n",
       "      <td id=\"T_ff820_row10_col30\" class=\"data row10 col30\" >-0.22</td>\n",
       "    </tr>\n",
       "    <tr>\n",
       "      <th id=\"T_ff820_level0_row11\" class=\"row_heading level0 row11\" >V11</th>\n",
       "      <td id=\"T_ff820_row11_col0\" class=\"data row11 col0\" >-0.25</td>\n",
       "      <td id=\"T_ff820_row11_col1\" class=\"data row11 col1\" >0.00</td>\n",
       "      <td id=\"T_ff820_row11_col2\" class=\"data row11 col2\" >0.00</td>\n",
       "      <td id=\"T_ff820_row11_col3\" class=\"data row11 col3\" >0.00</td>\n",
       "      <td id=\"T_ff820_row11_col4\" class=\"data row11 col4\" >0.00</td>\n",
       "      <td id=\"T_ff820_row11_col5\" class=\"data row11 col5\" >0.00</td>\n",
       "      <td id=\"T_ff820_row11_col6\" class=\"data row11 col6\" >0.00</td>\n",
       "      <td id=\"T_ff820_row11_col7\" class=\"data row11 col7\" >0.00</td>\n",
       "      <td id=\"T_ff820_row11_col8\" class=\"data row11 col8\" >0.00</td>\n",
       "      <td id=\"T_ff820_row11_col9\" class=\"data row11 col9\" >0.00</td>\n",
       "      <td id=\"T_ff820_row11_col10\" class=\"data row11 col10\" >-0.00</td>\n",
       "      <td id=\"T_ff820_row11_col11\" class=\"data row11 col11\" >1.00</td>\n",
       "      <td id=\"T_ff820_row11_col12\" class=\"data row11 col12\" >0.00</td>\n",
       "      <td id=\"T_ff820_row11_col13\" class=\"data row11 col13\" >0.00</td>\n",
       "      <td id=\"T_ff820_row11_col14\" class=\"data row11 col14\" >0.00</td>\n",
       "      <td id=\"T_ff820_row11_col15\" class=\"data row11 col15\" >0.00</td>\n",
       "      <td id=\"T_ff820_row11_col16\" class=\"data row11 col16\" >0.00</td>\n",
       "      <td id=\"T_ff820_row11_col17\" class=\"data row11 col17\" >0.00</td>\n",
       "      <td id=\"T_ff820_row11_col18\" class=\"data row11 col18\" >0.00</td>\n",
       "      <td id=\"T_ff820_row11_col19\" class=\"data row11 col19\" >-0.00</td>\n",
       "      <td id=\"T_ff820_row11_col20\" class=\"data row11 col20\" >-0.00</td>\n",
       "      <td id=\"T_ff820_row11_col21\" class=\"data row11 col21\" >-0.00</td>\n",
       "      <td id=\"T_ff820_row11_col22\" class=\"data row11 col22\" >0.00</td>\n",
       "      <td id=\"T_ff820_row11_col23\" class=\"data row11 col23\" >-0.00</td>\n",
       "      <td id=\"T_ff820_row11_col24\" class=\"data row11 col24\" >0.00</td>\n",
       "      <td id=\"T_ff820_row11_col25\" class=\"data row11 col25\" >-0.00</td>\n",
       "      <td id=\"T_ff820_row11_col26\" class=\"data row11 col26\" >-0.00</td>\n",
       "      <td id=\"T_ff820_row11_col27\" class=\"data row11 col27\" >-0.00</td>\n",
       "      <td id=\"T_ff820_row11_col28\" class=\"data row11 col28\" >-0.00</td>\n",
       "      <td id=\"T_ff820_row11_col29\" class=\"data row11 col29\" >0.00</td>\n",
       "      <td id=\"T_ff820_row11_col30\" class=\"data row11 col30\" >0.15</td>\n",
       "    </tr>\n",
       "    <tr>\n",
       "      <th id=\"T_ff820_level0_row12\" class=\"row_heading level0 row12\" >V12</th>\n",
       "      <td id=\"T_ff820_row12_col0\" class=\"data row12 col0\" >0.12</td>\n",
       "      <td id=\"T_ff820_row12_col1\" class=\"data row12 col1\" >0.00</td>\n",
       "      <td id=\"T_ff820_row12_col2\" class=\"data row12 col2\" >-0.00</td>\n",
       "      <td id=\"T_ff820_row12_col3\" class=\"data row12 col3\" >0.00</td>\n",
       "      <td id=\"T_ff820_row12_col4\" class=\"data row12 col4\" >-0.00</td>\n",
       "      <td id=\"T_ff820_row12_col5\" class=\"data row12 col5\" >0.00</td>\n",
       "      <td id=\"T_ff820_row12_col6\" class=\"data row12 col6\" >0.00</td>\n",
       "      <td id=\"T_ff820_row12_col7\" class=\"data row12 col7\" >-0.00</td>\n",
       "      <td id=\"T_ff820_row12_col8\" class=\"data row12 col8\" >0.00</td>\n",
       "      <td id=\"T_ff820_row12_col9\" class=\"data row12 col9\" >-0.00</td>\n",
       "      <td id=\"T_ff820_row12_col10\" class=\"data row12 col10\" >0.00</td>\n",
       "      <td id=\"T_ff820_row12_col11\" class=\"data row12 col11\" >0.00</td>\n",
       "      <td id=\"T_ff820_row12_col12\" class=\"data row12 col12\" >1.00</td>\n",
       "      <td id=\"T_ff820_row12_col13\" class=\"data row12 col13\" >-0.00</td>\n",
       "      <td id=\"T_ff820_row12_col14\" class=\"data row12 col14\" >0.00</td>\n",
       "      <td id=\"T_ff820_row12_col15\" class=\"data row12 col15\" >-0.00</td>\n",
       "      <td id=\"T_ff820_row12_col16\" class=\"data row12 col16\" >0.00</td>\n",
       "      <td id=\"T_ff820_row12_col17\" class=\"data row12 col17\" >0.00</td>\n",
       "      <td id=\"T_ff820_row12_col18\" class=\"data row12 col18\" >0.00</td>\n",
       "      <td id=\"T_ff820_row12_col19\" class=\"data row12 col19\" >0.00</td>\n",
       "      <td id=\"T_ff820_row12_col20\" class=\"data row12 col20\" >0.00</td>\n",
       "      <td id=\"T_ff820_row12_col21\" class=\"data row12 col21\" >0.00</td>\n",
       "      <td id=\"T_ff820_row12_col22\" class=\"data row12 col22\" >0.00</td>\n",
       "      <td id=\"T_ff820_row12_col23\" class=\"data row12 col23\" >0.00</td>\n",
       "      <td id=\"T_ff820_row12_col24\" class=\"data row12 col24\" >0.00</td>\n",
       "      <td id=\"T_ff820_row12_col25\" class=\"data row12 col25\" >-0.00</td>\n",
       "      <td id=\"T_ff820_row12_col26\" class=\"data row12 col26\" >-0.00</td>\n",
       "      <td id=\"T_ff820_row12_col27\" class=\"data row12 col27\" >-0.00</td>\n",
       "      <td id=\"T_ff820_row12_col28\" class=\"data row12 col28\" >0.00</td>\n",
       "      <td id=\"T_ff820_row12_col29\" class=\"data row12 col29\" >-0.01</td>\n",
       "      <td id=\"T_ff820_row12_col30\" class=\"data row12 col30\" >-0.26</td>\n",
       "    </tr>\n",
       "    <tr>\n",
       "      <th id=\"T_ff820_level0_row13\" class=\"row_heading level0 row13\" >V13</th>\n",
       "      <td id=\"T_ff820_row13_col0\" class=\"data row13 col0\" >-0.07</td>\n",
       "      <td id=\"T_ff820_row13_col1\" class=\"data row13 col1\" >-0.00</td>\n",
       "      <td id=\"T_ff820_row13_col2\" class=\"data row13 col2\" >0.00</td>\n",
       "      <td id=\"T_ff820_row13_col3\" class=\"data row13 col3\" >0.00</td>\n",
       "      <td id=\"T_ff820_row13_col4\" class=\"data row13 col4\" >0.00</td>\n",
       "      <td id=\"T_ff820_row13_col5\" class=\"data row13 col5\" >0.00</td>\n",
       "      <td id=\"T_ff820_row13_col6\" class=\"data row13 col6\" >-0.00</td>\n",
       "      <td id=\"T_ff820_row13_col7\" class=\"data row13 col7\" >0.00</td>\n",
       "      <td id=\"T_ff820_row13_col8\" class=\"data row13 col8\" >-0.00</td>\n",
       "      <td id=\"T_ff820_row13_col9\" class=\"data row13 col9\" >0.00</td>\n",
       "      <td id=\"T_ff820_row13_col10\" class=\"data row13 col10\" >-0.00</td>\n",
       "      <td id=\"T_ff820_row13_col11\" class=\"data row13 col11\" >0.00</td>\n",
       "      <td id=\"T_ff820_row13_col12\" class=\"data row13 col12\" >-0.00</td>\n",
       "      <td id=\"T_ff820_row13_col13\" class=\"data row13 col13\" >1.00</td>\n",
       "      <td id=\"T_ff820_row13_col14\" class=\"data row13 col14\" >0.00</td>\n",
       "      <td id=\"T_ff820_row13_col15\" class=\"data row13 col15\" >0.00</td>\n",
       "      <td id=\"T_ff820_row13_col16\" class=\"data row13 col16\" >0.00</td>\n",
       "      <td id=\"T_ff820_row13_col17\" class=\"data row13 col17\" >0.00</td>\n",
       "      <td id=\"T_ff820_row13_col18\" class=\"data row13 col18\" >0.00</td>\n",
       "      <td id=\"T_ff820_row13_col19\" class=\"data row13 col19\" >-0.00</td>\n",
       "      <td id=\"T_ff820_row13_col20\" class=\"data row13 col20\" >0.00</td>\n",
       "      <td id=\"T_ff820_row13_col21\" class=\"data row13 col21\" >0.00</td>\n",
       "      <td id=\"T_ff820_row13_col22\" class=\"data row13 col22\" >0.00</td>\n",
       "      <td id=\"T_ff820_row13_col23\" class=\"data row13 col23\" >-0.00</td>\n",
       "      <td id=\"T_ff820_row13_col24\" class=\"data row13 col24\" >-0.00</td>\n",
       "      <td id=\"T_ff820_row13_col25\" class=\"data row13 col25\" >-0.00</td>\n",
       "      <td id=\"T_ff820_row13_col26\" class=\"data row13 col26\" >-0.00</td>\n",
       "      <td id=\"T_ff820_row13_col27\" class=\"data row13 col27\" >-0.00</td>\n",
       "      <td id=\"T_ff820_row13_col28\" class=\"data row13 col28\" >0.00</td>\n",
       "      <td id=\"T_ff820_row13_col29\" class=\"data row13 col29\" >0.01</td>\n",
       "      <td id=\"T_ff820_row13_col30\" class=\"data row13 col30\" >-0.00</td>\n",
       "    </tr>\n",
       "    <tr>\n",
       "      <th id=\"T_ff820_level0_row14\" class=\"row_heading level0 row14\" >V14</th>\n",
       "      <td id=\"T_ff820_row14_col0\" class=\"data row14 col0\" >-0.10</td>\n",
       "      <td id=\"T_ff820_row14_col1\" class=\"data row14 col1\" >-0.00</td>\n",
       "      <td id=\"T_ff820_row14_col2\" class=\"data row14 col2\" >-0.00</td>\n",
       "      <td id=\"T_ff820_row14_col3\" class=\"data row14 col3\" >0.00</td>\n",
       "      <td id=\"T_ff820_row14_col4\" class=\"data row14 col4\" >0.00</td>\n",
       "      <td id=\"T_ff820_row14_col5\" class=\"data row14 col5\" >0.00</td>\n",
       "      <td id=\"T_ff820_row14_col6\" class=\"data row14 col6\" >0.00</td>\n",
       "      <td id=\"T_ff820_row14_col7\" class=\"data row14 col7\" >0.00</td>\n",
       "      <td id=\"T_ff820_row14_col8\" class=\"data row14 col8\" >-0.00</td>\n",
       "      <td id=\"T_ff820_row14_col9\" class=\"data row14 col9\" >0.00</td>\n",
       "      <td id=\"T_ff820_row14_col10\" class=\"data row14 col10\" >0.00</td>\n",
       "      <td id=\"T_ff820_row14_col11\" class=\"data row14 col11\" >0.00</td>\n",
       "      <td id=\"T_ff820_row14_col12\" class=\"data row14 col12\" >0.00</td>\n",
       "      <td id=\"T_ff820_row14_col13\" class=\"data row14 col13\" >0.00</td>\n",
       "      <td id=\"T_ff820_row14_col14\" class=\"data row14 col14\" >1.00</td>\n",
       "      <td id=\"T_ff820_row14_col15\" class=\"data row14 col15\" >-0.00</td>\n",
       "      <td id=\"T_ff820_row14_col16\" class=\"data row14 col16\" >-0.00</td>\n",
       "      <td id=\"T_ff820_row14_col17\" class=\"data row14 col17\" >0.00</td>\n",
       "      <td id=\"T_ff820_row14_col18\" class=\"data row14 col18\" >0.00</td>\n",
       "      <td id=\"T_ff820_row14_col19\" class=\"data row14 col19\" >0.00</td>\n",
       "      <td id=\"T_ff820_row14_col20\" class=\"data row14 col20\" >-0.00</td>\n",
       "      <td id=\"T_ff820_row14_col21\" class=\"data row14 col21\" >-0.00</td>\n",
       "      <td id=\"T_ff820_row14_col22\" class=\"data row14 col22\" >0.00</td>\n",
       "      <td id=\"T_ff820_row14_col23\" class=\"data row14 col23\" >0.00</td>\n",
       "      <td id=\"T_ff820_row14_col24\" class=\"data row14 col24\" >0.00</td>\n",
       "      <td id=\"T_ff820_row14_col25\" class=\"data row14 col25\" >-0.00</td>\n",
       "      <td id=\"T_ff820_row14_col26\" class=\"data row14 col26\" >-0.00</td>\n",
       "      <td id=\"T_ff820_row14_col27\" class=\"data row14 col27\" >0.00</td>\n",
       "      <td id=\"T_ff820_row14_col28\" class=\"data row14 col28\" >0.00</td>\n",
       "      <td id=\"T_ff820_row14_col29\" class=\"data row14 col29\" >0.03</td>\n",
       "      <td id=\"T_ff820_row14_col30\" class=\"data row14 col30\" >-0.30</td>\n",
       "    </tr>\n",
       "    <tr>\n",
       "      <th id=\"T_ff820_level0_row15\" class=\"row_heading level0 row15\" >V15</th>\n",
       "      <td id=\"T_ff820_row15_col0\" class=\"data row15 col0\" >-0.18</td>\n",
       "      <td id=\"T_ff820_row15_col1\" class=\"data row15 col1\" >0.00</td>\n",
       "      <td id=\"T_ff820_row15_col2\" class=\"data row15 col2\" >-0.00</td>\n",
       "      <td id=\"T_ff820_row15_col3\" class=\"data row15 col3\" >0.00</td>\n",
       "      <td id=\"T_ff820_row15_col4\" class=\"data row15 col4\" >0.00</td>\n",
       "      <td id=\"T_ff820_row15_col5\" class=\"data row15 col5\" >-0.00</td>\n",
       "      <td id=\"T_ff820_row15_col6\" class=\"data row15 col6\" >-0.00</td>\n",
       "      <td id=\"T_ff820_row15_col7\" class=\"data row15 col7\" >-0.00</td>\n",
       "      <td id=\"T_ff820_row15_col8\" class=\"data row15 col8\" >0.00</td>\n",
       "      <td id=\"T_ff820_row15_col9\" class=\"data row15 col9\" >-0.00</td>\n",
       "      <td id=\"T_ff820_row15_col10\" class=\"data row15 col10\" >0.00</td>\n",
       "      <td id=\"T_ff820_row15_col11\" class=\"data row15 col11\" >0.00</td>\n",
       "      <td id=\"T_ff820_row15_col12\" class=\"data row15 col12\" >-0.00</td>\n",
       "      <td id=\"T_ff820_row15_col13\" class=\"data row15 col13\" >0.00</td>\n",
       "      <td id=\"T_ff820_row15_col14\" class=\"data row15 col14\" >-0.00</td>\n",
       "      <td id=\"T_ff820_row15_col15\" class=\"data row15 col15\" >1.00</td>\n",
       "      <td id=\"T_ff820_row15_col16\" class=\"data row15 col16\" >0.00</td>\n",
       "      <td id=\"T_ff820_row15_col17\" class=\"data row15 col17\" >0.00</td>\n",
       "      <td id=\"T_ff820_row15_col18\" class=\"data row15 col18\" >0.00</td>\n",
       "      <td id=\"T_ff820_row15_col19\" class=\"data row15 col19\" >-0.00</td>\n",
       "      <td id=\"T_ff820_row15_col20\" class=\"data row15 col20\" >0.00</td>\n",
       "      <td id=\"T_ff820_row15_col21\" class=\"data row15 col21\" >0.00</td>\n",
       "      <td id=\"T_ff820_row15_col22\" class=\"data row15 col22\" >-0.00</td>\n",
       "      <td id=\"T_ff820_row15_col23\" class=\"data row15 col23\" >-0.00</td>\n",
       "      <td id=\"T_ff820_row15_col24\" class=\"data row15 col24\" >-0.00</td>\n",
       "      <td id=\"T_ff820_row15_col25\" class=\"data row15 col25\" >0.00</td>\n",
       "      <td id=\"T_ff820_row15_col26\" class=\"data row15 col26\" >0.00</td>\n",
       "      <td id=\"T_ff820_row15_col27\" class=\"data row15 col27\" >-0.00</td>\n",
       "      <td id=\"T_ff820_row15_col28\" class=\"data row15 col28\" >-0.00</td>\n",
       "      <td id=\"T_ff820_row15_col29\" class=\"data row15 col29\" >-0.00</td>\n",
       "      <td id=\"T_ff820_row15_col30\" class=\"data row15 col30\" >-0.00</td>\n",
       "    </tr>\n",
       "    <tr>\n",
       "      <th id=\"T_ff820_level0_row16\" class=\"row_heading level0 row16\" >V16</th>\n",
       "      <td id=\"T_ff820_row16_col0\" class=\"data row16 col0\" >0.01</td>\n",
       "      <td id=\"T_ff820_row16_col1\" class=\"data row16 col1\" >0.00</td>\n",
       "      <td id=\"T_ff820_row16_col2\" class=\"data row16 col2\" >0.00</td>\n",
       "      <td id=\"T_ff820_row16_col3\" class=\"data row16 col3\" >0.00</td>\n",
       "      <td id=\"T_ff820_row16_col4\" class=\"data row16 col4\" >-0.00</td>\n",
       "      <td id=\"T_ff820_row16_col5\" class=\"data row16 col5\" >0.00</td>\n",
       "      <td id=\"T_ff820_row16_col6\" class=\"data row16 col6\" >0.00</td>\n",
       "      <td id=\"T_ff820_row16_col7\" class=\"data row16 col7\" >0.00</td>\n",
       "      <td id=\"T_ff820_row16_col8\" class=\"data row16 col8\" >-0.00</td>\n",
       "      <td id=\"T_ff820_row16_col9\" class=\"data row16 col9\" >-0.00</td>\n",
       "      <td id=\"T_ff820_row16_col10\" class=\"data row16 col10\" >0.00</td>\n",
       "      <td id=\"T_ff820_row16_col11\" class=\"data row16 col11\" >0.00</td>\n",
       "      <td id=\"T_ff820_row16_col12\" class=\"data row16 col12\" >0.00</td>\n",
       "      <td id=\"T_ff820_row16_col13\" class=\"data row16 col13\" >0.00</td>\n",
       "      <td id=\"T_ff820_row16_col14\" class=\"data row16 col14\" >-0.00</td>\n",
       "      <td id=\"T_ff820_row16_col15\" class=\"data row16 col15\" >0.00</td>\n",
       "      <td id=\"T_ff820_row16_col16\" class=\"data row16 col16\" >1.00</td>\n",
       "      <td id=\"T_ff820_row16_col17\" class=\"data row16 col17\" >0.00</td>\n",
       "      <td id=\"T_ff820_row16_col18\" class=\"data row16 col18\" >-0.00</td>\n",
       "      <td id=\"T_ff820_row16_col19\" class=\"data row16 col19\" >0.00</td>\n",
       "      <td id=\"T_ff820_row16_col20\" class=\"data row16 col20\" >0.00</td>\n",
       "      <td id=\"T_ff820_row16_col21\" class=\"data row16 col21\" >-0.00</td>\n",
       "      <td id=\"T_ff820_row16_col22\" class=\"data row16 col22\" >-0.00</td>\n",
       "      <td id=\"T_ff820_row16_col23\" class=\"data row16 col23\" >0.00</td>\n",
       "      <td id=\"T_ff820_row16_col24\" class=\"data row16 col24\" >-0.00</td>\n",
       "      <td id=\"T_ff820_row16_col25\" class=\"data row16 col25\" >-0.00</td>\n",
       "      <td id=\"T_ff820_row16_col26\" class=\"data row16 col26\" >-0.00</td>\n",
       "      <td id=\"T_ff820_row16_col27\" class=\"data row16 col27\" >0.00</td>\n",
       "      <td id=\"T_ff820_row16_col28\" class=\"data row16 col28\" >0.00</td>\n",
       "      <td id=\"T_ff820_row16_col29\" class=\"data row16 col29\" >-0.00</td>\n",
       "      <td id=\"T_ff820_row16_col30\" class=\"data row16 col30\" >-0.20</td>\n",
       "    </tr>\n",
       "    <tr>\n",
       "      <th id=\"T_ff820_level0_row17\" class=\"row_heading level0 row17\" >V17</th>\n",
       "      <td id=\"T_ff820_row17_col0\" class=\"data row17 col0\" >-0.07</td>\n",
       "      <td id=\"T_ff820_row17_col1\" class=\"data row17 col1\" >-0.00</td>\n",
       "      <td id=\"T_ff820_row17_col2\" class=\"data row17 col2\" >-0.00</td>\n",
       "      <td id=\"T_ff820_row17_col3\" class=\"data row17 col3\" >0.00</td>\n",
       "      <td id=\"T_ff820_row17_col4\" class=\"data row17 col4\" >-0.00</td>\n",
       "      <td id=\"T_ff820_row17_col5\" class=\"data row17 col5\" >0.00</td>\n",
       "      <td id=\"T_ff820_row17_col6\" class=\"data row17 col6\" >0.00</td>\n",
       "      <td id=\"T_ff820_row17_col7\" class=\"data row17 col7\" >0.00</td>\n",
       "      <td id=\"T_ff820_row17_col8\" class=\"data row17 col8\" >-0.00</td>\n",
       "      <td id=\"T_ff820_row17_col9\" class=\"data row17 col9\" >0.00</td>\n",
       "      <td id=\"T_ff820_row17_col10\" class=\"data row17 col10\" >0.00</td>\n",
       "      <td id=\"T_ff820_row17_col11\" class=\"data row17 col11\" >0.00</td>\n",
       "      <td id=\"T_ff820_row17_col12\" class=\"data row17 col12\" >0.00</td>\n",
       "      <td id=\"T_ff820_row17_col13\" class=\"data row17 col13\" >0.00</td>\n",
       "      <td id=\"T_ff820_row17_col14\" class=\"data row17 col14\" >0.00</td>\n",
       "      <td id=\"T_ff820_row17_col15\" class=\"data row17 col15\" >0.00</td>\n",
       "      <td id=\"T_ff820_row17_col16\" class=\"data row17 col16\" >0.00</td>\n",
       "      <td id=\"T_ff820_row17_col17\" class=\"data row17 col17\" >1.00</td>\n",
       "      <td id=\"T_ff820_row17_col18\" class=\"data row17 col18\" >-0.00</td>\n",
       "      <td id=\"T_ff820_row17_col19\" class=\"data row17 col19\" >-0.00</td>\n",
       "      <td id=\"T_ff820_row17_col20\" class=\"data row17 col20\" >-0.00</td>\n",
       "      <td id=\"T_ff820_row17_col21\" class=\"data row17 col21\" >-0.00</td>\n",
       "      <td id=\"T_ff820_row17_col22\" class=\"data row17 col22\" >-0.00</td>\n",
       "      <td id=\"T_ff820_row17_col23\" class=\"data row17 col23\" >0.00</td>\n",
       "      <td id=\"T_ff820_row17_col24\" class=\"data row17 col24\" >-0.00</td>\n",
       "      <td id=\"T_ff820_row17_col25\" class=\"data row17 col25\" >0.00</td>\n",
       "      <td id=\"T_ff820_row17_col26\" class=\"data row17 col26\" >0.00</td>\n",
       "      <td id=\"T_ff820_row17_col27\" class=\"data row17 col27\" >0.00</td>\n",
       "      <td id=\"T_ff820_row17_col28\" class=\"data row17 col28\" >-0.00</td>\n",
       "      <td id=\"T_ff820_row17_col29\" class=\"data row17 col29\" >0.01</td>\n",
       "      <td id=\"T_ff820_row17_col30\" class=\"data row17 col30\" >-0.33</td>\n",
       "    </tr>\n",
       "    <tr>\n",
       "      <th id=\"T_ff820_level0_row18\" class=\"row_heading level0 row18\" >V18</th>\n",
       "      <td id=\"T_ff820_row18_col0\" class=\"data row18 col0\" >0.09</td>\n",
       "      <td id=\"T_ff820_row18_col1\" class=\"data row18 col1\" >0.00</td>\n",
       "      <td id=\"T_ff820_row18_col2\" class=\"data row18 col2\" >0.00</td>\n",
       "      <td id=\"T_ff820_row18_col3\" class=\"data row18 col3\" >0.00</td>\n",
       "      <td id=\"T_ff820_row18_col4\" class=\"data row18 col4\" >-0.00</td>\n",
       "      <td id=\"T_ff820_row18_col5\" class=\"data row18 col5\" >0.00</td>\n",
       "      <td id=\"T_ff820_row18_col6\" class=\"data row18 col6\" >0.00</td>\n",
       "      <td id=\"T_ff820_row18_col7\" class=\"data row18 col7\" >0.00</td>\n",
       "      <td id=\"T_ff820_row18_col8\" class=\"data row18 col8\" >-0.00</td>\n",
       "      <td id=\"T_ff820_row18_col9\" class=\"data row18 col9\" >0.00</td>\n",
       "      <td id=\"T_ff820_row18_col10\" class=\"data row18 col10\" >0.00</td>\n",
       "      <td id=\"T_ff820_row18_col11\" class=\"data row18 col11\" >0.00</td>\n",
       "      <td id=\"T_ff820_row18_col12\" class=\"data row18 col12\" >0.00</td>\n",
       "      <td id=\"T_ff820_row18_col13\" class=\"data row18 col13\" >0.00</td>\n",
       "      <td id=\"T_ff820_row18_col14\" class=\"data row18 col14\" >0.00</td>\n",
       "      <td id=\"T_ff820_row18_col15\" class=\"data row18 col15\" >0.00</td>\n",
       "      <td id=\"T_ff820_row18_col16\" class=\"data row18 col16\" >-0.00</td>\n",
       "      <td id=\"T_ff820_row18_col17\" class=\"data row18 col17\" >-0.00</td>\n",
       "      <td id=\"T_ff820_row18_col18\" class=\"data row18 col18\" >1.00</td>\n",
       "      <td id=\"T_ff820_row18_col19\" class=\"data row18 col19\" >-0.00</td>\n",
       "      <td id=\"T_ff820_row18_col20\" class=\"data row18 col20\" >-0.00</td>\n",
       "      <td id=\"T_ff820_row18_col21\" class=\"data row18 col21\" >-0.00</td>\n",
       "      <td id=\"T_ff820_row18_col22\" class=\"data row18 col22\" >-0.00</td>\n",
       "      <td id=\"T_ff820_row18_col23\" class=\"data row18 col23\" >-0.00</td>\n",
       "      <td id=\"T_ff820_row18_col24\" class=\"data row18 col24\" >-0.00</td>\n",
       "      <td id=\"T_ff820_row18_col25\" class=\"data row18 col25\" >-0.00</td>\n",
       "      <td id=\"T_ff820_row18_col26\" class=\"data row18 col26\" >0.00</td>\n",
       "      <td id=\"T_ff820_row18_col27\" class=\"data row18 col27\" >0.00</td>\n",
       "      <td id=\"T_ff820_row18_col28\" class=\"data row18 col28\" >0.00</td>\n",
       "      <td id=\"T_ff820_row18_col29\" class=\"data row18 col29\" >0.04</td>\n",
       "      <td id=\"T_ff820_row18_col30\" class=\"data row18 col30\" >-0.11</td>\n",
       "    </tr>\n",
       "    <tr>\n",
       "      <th id=\"T_ff820_level0_row19\" class=\"row_heading level0 row19\" >V19</th>\n",
       "      <td id=\"T_ff820_row19_col0\" class=\"data row19 col0\" >0.03</td>\n",
       "      <td id=\"T_ff820_row19_col1\" class=\"data row19 col1\" >0.00</td>\n",
       "      <td id=\"T_ff820_row19_col2\" class=\"data row19 col2\" >-0.00</td>\n",
       "      <td id=\"T_ff820_row19_col3\" class=\"data row19 col3\" >0.00</td>\n",
       "      <td id=\"T_ff820_row19_col4\" class=\"data row19 col4\" >-0.00</td>\n",
       "      <td id=\"T_ff820_row19_col5\" class=\"data row19 col5\" >-0.00</td>\n",
       "      <td id=\"T_ff820_row19_col6\" class=\"data row19 col6\" >-0.00</td>\n",
       "      <td id=\"T_ff820_row19_col7\" class=\"data row19 col7\" >-0.00</td>\n",
       "      <td id=\"T_ff820_row19_col8\" class=\"data row19 col8\" >-0.00</td>\n",
       "      <td id=\"T_ff820_row19_col9\" class=\"data row19 col9\" >-0.00</td>\n",
       "      <td id=\"T_ff820_row19_col10\" class=\"data row19 col10\" >0.00</td>\n",
       "      <td id=\"T_ff820_row19_col11\" class=\"data row19 col11\" >-0.00</td>\n",
       "      <td id=\"T_ff820_row19_col12\" class=\"data row19 col12\" >0.00</td>\n",
       "      <td id=\"T_ff820_row19_col13\" class=\"data row19 col13\" >-0.00</td>\n",
       "      <td id=\"T_ff820_row19_col14\" class=\"data row19 col14\" >0.00</td>\n",
       "      <td id=\"T_ff820_row19_col15\" class=\"data row19 col15\" >-0.00</td>\n",
       "      <td id=\"T_ff820_row19_col16\" class=\"data row19 col16\" >0.00</td>\n",
       "      <td id=\"T_ff820_row19_col17\" class=\"data row19 col17\" >-0.00</td>\n",
       "      <td id=\"T_ff820_row19_col18\" class=\"data row19 col18\" >-0.00</td>\n",
       "      <td id=\"T_ff820_row19_col19\" class=\"data row19 col19\" >1.00</td>\n",
       "      <td id=\"T_ff820_row19_col20\" class=\"data row19 col20\" >0.00</td>\n",
       "      <td id=\"T_ff820_row19_col21\" class=\"data row19 col21\" >0.00</td>\n",
       "      <td id=\"T_ff820_row19_col22\" class=\"data row19 col22\" >-0.00</td>\n",
       "      <td id=\"T_ff820_row19_col23\" class=\"data row19 col23\" >0.00</td>\n",
       "      <td id=\"T_ff820_row19_col24\" class=\"data row19 col24\" >0.00</td>\n",
       "      <td id=\"T_ff820_row19_col25\" class=\"data row19 col25\" >0.00</td>\n",
       "      <td id=\"T_ff820_row19_col26\" class=\"data row19 col26\" >0.00</td>\n",
       "      <td id=\"T_ff820_row19_col27\" class=\"data row19 col27\" >-0.00</td>\n",
       "      <td id=\"T_ff820_row19_col28\" class=\"data row19 col28\" >-0.00</td>\n",
       "      <td id=\"T_ff820_row19_col29\" class=\"data row19 col29\" >-0.06</td>\n",
       "      <td id=\"T_ff820_row19_col30\" class=\"data row19 col30\" >0.03</td>\n",
       "    </tr>\n",
       "    <tr>\n",
       "      <th id=\"T_ff820_level0_row20\" class=\"row_heading level0 row20\" >V20</th>\n",
       "      <td id=\"T_ff820_row20_col0\" class=\"data row20 col0\" >-0.05</td>\n",
       "      <td id=\"T_ff820_row20_col1\" class=\"data row20 col1\" >0.00</td>\n",
       "      <td id=\"T_ff820_row20_col2\" class=\"data row20 col2\" >0.00</td>\n",
       "      <td id=\"T_ff820_row20_col3\" class=\"data row20 col3\" >-0.00</td>\n",
       "      <td id=\"T_ff820_row20_col4\" class=\"data row20 col4\" >-0.00</td>\n",
       "      <td id=\"T_ff820_row20_col5\" class=\"data row20 col5\" >-0.00</td>\n",
       "      <td id=\"T_ff820_row20_col6\" class=\"data row20 col6\" >-0.00</td>\n",
       "      <td id=\"T_ff820_row20_col7\" class=\"data row20 col7\" >0.00</td>\n",
       "      <td id=\"T_ff820_row20_col8\" class=\"data row20 col8\" >0.00</td>\n",
       "      <td id=\"T_ff820_row20_col9\" class=\"data row20 col9\" >-0.00</td>\n",
       "      <td id=\"T_ff820_row20_col10\" class=\"data row20 col10\" >-0.00</td>\n",
       "      <td id=\"T_ff820_row20_col11\" class=\"data row20 col11\" >-0.00</td>\n",
       "      <td id=\"T_ff820_row20_col12\" class=\"data row20 col12\" >0.00</td>\n",
       "      <td id=\"T_ff820_row20_col13\" class=\"data row20 col13\" >0.00</td>\n",
       "      <td id=\"T_ff820_row20_col14\" class=\"data row20 col14\" >-0.00</td>\n",
       "      <td id=\"T_ff820_row20_col15\" class=\"data row20 col15\" >0.00</td>\n",
       "      <td id=\"T_ff820_row20_col16\" class=\"data row20 col16\" >0.00</td>\n",
       "      <td id=\"T_ff820_row20_col17\" class=\"data row20 col17\" >-0.00</td>\n",
       "      <td id=\"T_ff820_row20_col18\" class=\"data row20 col18\" >-0.00</td>\n",
       "      <td id=\"T_ff820_row20_col19\" class=\"data row20 col19\" >0.00</td>\n",
       "      <td id=\"T_ff820_row20_col20\" class=\"data row20 col20\" >1.00</td>\n",
       "      <td id=\"T_ff820_row20_col21\" class=\"data row20 col21\" >-0.00</td>\n",
       "      <td id=\"T_ff820_row20_col22\" class=\"data row20 col22\" >0.00</td>\n",
       "      <td id=\"T_ff820_row20_col23\" class=\"data row20 col23\" >0.00</td>\n",
       "      <td id=\"T_ff820_row20_col24\" class=\"data row20 col24\" >0.00</td>\n",
       "      <td id=\"T_ff820_row20_col25\" class=\"data row20 col25\" >0.00</td>\n",
       "      <td id=\"T_ff820_row20_col26\" class=\"data row20 col26\" >-0.00</td>\n",
       "      <td id=\"T_ff820_row20_col27\" class=\"data row20 col27\" >-0.00</td>\n",
       "      <td id=\"T_ff820_row20_col28\" class=\"data row20 col28\" >-0.00</td>\n",
       "      <td id=\"T_ff820_row20_col29\" class=\"data row20 col29\" >0.34</td>\n",
       "      <td id=\"T_ff820_row20_col30\" class=\"data row20 col30\" >0.02</td>\n",
       "    </tr>\n",
       "    <tr>\n",
       "      <th id=\"T_ff820_level0_row21\" class=\"row_heading level0 row21\" >V21</th>\n",
       "      <td id=\"T_ff820_row21_col0\" class=\"data row21 col0\" >0.04</td>\n",
       "      <td id=\"T_ff820_row21_col1\" class=\"data row21 col1\" >-0.00</td>\n",
       "      <td id=\"T_ff820_row21_col2\" class=\"data row21 col2\" >-0.00</td>\n",
       "      <td id=\"T_ff820_row21_col3\" class=\"data row21 col3\" >0.00</td>\n",
       "      <td id=\"T_ff820_row21_col4\" class=\"data row21 col4\" >-0.00</td>\n",
       "      <td id=\"T_ff820_row21_col5\" class=\"data row21 col5\" >-0.00</td>\n",
       "      <td id=\"T_ff820_row21_col6\" class=\"data row21 col6\" >0.00</td>\n",
       "      <td id=\"T_ff820_row21_col7\" class=\"data row21 col7\" >-0.00</td>\n",
       "      <td id=\"T_ff820_row21_col8\" class=\"data row21 col8\" >0.00</td>\n",
       "      <td id=\"T_ff820_row21_col9\" class=\"data row21 col9\" >0.00</td>\n",
       "      <td id=\"T_ff820_row21_col10\" class=\"data row21 col10\" >0.00</td>\n",
       "      <td id=\"T_ff820_row21_col11\" class=\"data row21 col11\" >-0.00</td>\n",
       "      <td id=\"T_ff820_row21_col12\" class=\"data row21 col12\" >0.00</td>\n",
       "      <td id=\"T_ff820_row21_col13\" class=\"data row21 col13\" >0.00</td>\n",
       "      <td id=\"T_ff820_row21_col14\" class=\"data row21 col14\" >-0.00</td>\n",
       "      <td id=\"T_ff820_row21_col15\" class=\"data row21 col15\" >0.00</td>\n",
       "      <td id=\"T_ff820_row21_col16\" class=\"data row21 col16\" >-0.00</td>\n",
       "      <td id=\"T_ff820_row21_col17\" class=\"data row21 col17\" >-0.00</td>\n",
       "      <td id=\"T_ff820_row21_col18\" class=\"data row21 col18\" >-0.00</td>\n",
       "      <td id=\"T_ff820_row21_col19\" class=\"data row21 col19\" >0.00</td>\n",
       "      <td id=\"T_ff820_row21_col20\" class=\"data row21 col20\" >-0.00</td>\n",
       "      <td id=\"T_ff820_row21_col21\" class=\"data row21 col21\" >1.00</td>\n",
       "      <td id=\"T_ff820_row21_col22\" class=\"data row21 col22\" >0.00</td>\n",
       "      <td id=\"T_ff820_row21_col23\" class=\"data row21 col23\" >0.00</td>\n",
       "      <td id=\"T_ff820_row21_col24\" class=\"data row21 col24\" >0.00</td>\n",
       "      <td id=\"T_ff820_row21_col25\" class=\"data row21 col25\" >-0.00</td>\n",
       "      <td id=\"T_ff820_row21_col26\" class=\"data row21 col26\" >-0.00</td>\n",
       "      <td id=\"T_ff820_row21_col27\" class=\"data row21 col27\" >-0.00</td>\n",
       "      <td id=\"T_ff820_row21_col28\" class=\"data row21 col28\" >0.00</td>\n",
       "      <td id=\"T_ff820_row21_col29\" class=\"data row21 col29\" >0.11</td>\n",
       "      <td id=\"T_ff820_row21_col30\" class=\"data row21 col30\" >0.04</td>\n",
       "    </tr>\n",
       "    <tr>\n",
       "      <th id=\"T_ff820_level0_row22\" class=\"row_heading level0 row22\" >V22</th>\n",
       "      <td id=\"T_ff820_row22_col0\" class=\"data row22 col0\" >0.14</td>\n",
       "      <td id=\"T_ff820_row22_col1\" class=\"data row22 col1\" >-0.00</td>\n",
       "      <td id=\"T_ff820_row22_col2\" class=\"data row22 col2\" >0.00</td>\n",
       "      <td id=\"T_ff820_row22_col3\" class=\"data row22 col3\" >-0.00</td>\n",
       "      <td id=\"T_ff820_row22_col4\" class=\"data row22 col4\" >-0.00</td>\n",
       "      <td id=\"T_ff820_row22_col5\" class=\"data row22 col5\" >0.00</td>\n",
       "      <td id=\"T_ff820_row22_col6\" class=\"data row22 col6\" >-0.00</td>\n",
       "      <td id=\"T_ff820_row22_col7\" class=\"data row22 col7\" >-0.00</td>\n",
       "      <td id=\"T_ff820_row22_col8\" class=\"data row22 col8\" >0.00</td>\n",
       "      <td id=\"T_ff820_row22_col9\" class=\"data row22 col9\" >-0.00</td>\n",
       "      <td id=\"T_ff820_row22_col10\" class=\"data row22 col10\" >-0.00</td>\n",
       "      <td id=\"T_ff820_row22_col11\" class=\"data row22 col11\" >0.00</td>\n",
       "      <td id=\"T_ff820_row22_col12\" class=\"data row22 col12\" >0.00</td>\n",
       "      <td id=\"T_ff820_row22_col13\" class=\"data row22 col13\" >0.00</td>\n",
       "      <td id=\"T_ff820_row22_col14\" class=\"data row22 col14\" >0.00</td>\n",
       "      <td id=\"T_ff820_row22_col15\" class=\"data row22 col15\" >-0.00</td>\n",
       "      <td id=\"T_ff820_row22_col16\" class=\"data row22 col16\" >-0.00</td>\n",
       "      <td id=\"T_ff820_row22_col17\" class=\"data row22 col17\" >-0.00</td>\n",
       "      <td id=\"T_ff820_row22_col18\" class=\"data row22 col18\" >-0.00</td>\n",
       "      <td id=\"T_ff820_row22_col19\" class=\"data row22 col19\" >-0.00</td>\n",
       "      <td id=\"T_ff820_row22_col20\" class=\"data row22 col20\" >0.00</td>\n",
       "      <td id=\"T_ff820_row22_col21\" class=\"data row22 col21\" >0.00</td>\n",
       "      <td id=\"T_ff820_row22_col22\" class=\"data row22 col22\" >1.00</td>\n",
       "      <td id=\"T_ff820_row22_col23\" class=\"data row22 col23\" >-0.00</td>\n",
       "      <td id=\"T_ff820_row22_col24\" class=\"data row22 col24\" >0.00</td>\n",
       "      <td id=\"T_ff820_row22_col25\" class=\"data row22 col25\" >-0.00</td>\n",
       "      <td id=\"T_ff820_row22_col26\" class=\"data row22 col26\" >-0.00</td>\n",
       "      <td id=\"T_ff820_row22_col27\" class=\"data row22 col27\" >0.00</td>\n",
       "      <td id=\"T_ff820_row22_col28\" class=\"data row22 col28\" >-0.00</td>\n",
       "      <td id=\"T_ff820_row22_col29\" class=\"data row22 col29\" >-0.06</td>\n",
       "      <td id=\"T_ff820_row22_col30\" class=\"data row22 col30\" >0.00</td>\n",
       "    </tr>\n",
       "    <tr>\n",
       "      <th id=\"T_ff820_level0_row23\" class=\"row_heading level0 row23\" >V23</th>\n",
       "      <td id=\"T_ff820_row23_col0\" class=\"data row23 col0\" >0.05</td>\n",
       "      <td id=\"T_ff820_row23_col1\" class=\"data row23 col1\" >0.00</td>\n",
       "      <td id=\"T_ff820_row23_col2\" class=\"data row23 col2\" >0.00</td>\n",
       "      <td id=\"T_ff820_row23_col3\" class=\"data row23 col3\" >-0.00</td>\n",
       "      <td id=\"T_ff820_row23_col4\" class=\"data row23 col4\" >0.00</td>\n",
       "      <td id=\"T_ff820_row23_col5\" class=\"data row23 col5\" >-0.00</td>\n",
       "      <td id=\"T_ff820_row23_col6\" class=\"data row23 col6\" >0.00</td>\n",
       "      <td id=\"T_ff820_row23_col7\" class=\"data row23 col7\" >-0.00</td>\n",
       "      <td id=\"T_ff820_row23_col8\" class=\"data row23 col8\" >0.00</td>\n",
       "      <td id=\"T_ff820_row23_col9\" class=\"data row23 col9\" >-0.00</td>\n",
       "      <td id=\"T_ff820_row23_col10\" class=\"data row23 col10\" >0.00</td>\n",
       "      <td id=\"T_ff820_row23_col11\" class=\"data row23 col11\" >-0.00</td>\n",
       "      <td id=\"T_ff820_row23_col12\" class=\"data row23 col12\" >0.00</td>\n",
       "      <td id=\"T_ff820_row23_col13\" class=\"data row23 col13\" >-0.00</td>\n",
       "      <td id=\"T_ff820_row23_col14\" class=\"data row23 col14\" >0.00</td>\n",
       "      <td id=\"T_ff820_row23_col15\" class=\"data row23 col15\" >-0.00</td>\n",
       "      <td id=\"T_ff820_row23_col16\" class=\"data row23 col16\" >0.00</td>\n",
       "      <td id=\"T_ff820_row23_col17\" class=\"data row23 col17\" >0.00</td>\n",
       "      <td id=\"T_ff820_row23_col18\" class=\"data row23 col18\" >-0.00</td>\n",
       "      <td id=\"T_ff820_row23_col19\" class=\"data row23 col19\" >0.00</td>\n",
       "      <td id=\"T_ff820_row23_col20\" class=\"data row23 col20\" >0.00</td>\n",
       "      <td id=\"T_ff820_row23_col21\" class=\"data row23 col21\" >0.00</td>\n",
       "      <td id=\"T_ff820_row23_col22\" class=\"data row23 col22\" >-0.00</td>\n",
       "      <td id=\"T_ff820_row23_col23\" class=\"data row23 col23\" >1.00</td>\n",
       "      <td id=\"T_ff820_row23_col24\" class=\"data row23 col24\" >0.00</td>\n",
       "      <td id=\"T_ff820_row23_col25\" class=\"data row23 col25\" >-0.00</td>\n",
       "      <td id=\"T_ff820_row23_col26\" class=\"data row23 col26\" >0.00</td>\n",
       "      <td id=\"T_ff820_row23_col27\" class=\"data row23 col27\" >0.00</td>\n",
       "      <td id=\"T_ff820_row23_col28\" class=\"data row23 col28\" >0.00</td>\n",
       "      <td id=\"T_ff820_row23_col29\" class=\"data row23 col29\" >-0.11</td>\n",
       "      <td id=\"T_ff820_row23_col30\" class=\"data row23 col30\" >-0.00</td>\n",
       "    </tr>\n",
       "    <tr>\n",
       "      <th id=\"T_ff820_level0_row24\" class=\"row_heading level0 row24\" >V24</th>\n",
       "      <td id=\"T_ff820_row24_col0\" class=\"data row24 col0\" >-0.02</td>\n",
       "      <td id=\"T_ff820_row24_col1\" class=\"data row24 col1\" >-0.00</td>\n",
       "      <td id=\"T_ff820_row24_col2\" class=\"data row24 col2\" >0.00</td>\n",
       "      <td id=\"T_ff820_row24_col3\" class=\"data row24 col3\" >0.00</td>\n",
       "      <td id=\"T_ff820_row24_col4\" class=\"data row24 col4\" >0.00</td>\n",
       "      <td id=\"T_ff820_row24_col5\" class=\"data row24 col5\" >-0.00</td>\n",
       "      <td id=\"T_ff820_row24_col6\" class=\"data row24 col6\" >-0.00</td>\n",
       "      <td id=\"T_ff820_row24_col7\" class=\"data row24 col7\" >0.00</td>\n",
       "      <td id=\"T_ff820_row24_col8\" class=\"data row24 col8\" >-0.00</td>\n",
       "      <td id=\"T_ff820_row24_col9\" class=\"data row24 col9\" >-0.00</td>\n",
       "      <td id=\"T_ff820_row24_col10\" class=\"data row24 col10\" >-0.00</td>\n",
       "      <td id=\"T_ff820_row24_col11\" class=\"data row24 col11\" >0.00</td>\n",
       "      <td id=\"T_ff820_row24_col12\" class=\"data row24 col12\" >0.00</td>\n",
       "      <td id=\"T_ff820_row24_col13\" class=\"data row24 col13\" >-0.00</td>\n",
       "      <td id=\"T_ff820_row24_col14\" class=\"data row24 col14\" >0.00</td>\n",
       "      <td id=\"T_ff820_row24_col15\" class=\"data row24 col15\" >-0.00</td>\n",
       "      <td id=\"T_ff820_row24_col16\" class=\"data row24 col16\" >-0.00</td>\n",
       "      <td id=\"T_ff820_row24_col17\" class=\"data row24 col17\" >-0.00</td>\n",
       "      <td id=\"T_ff820_row24_col18\" class=\"data row24 col18\" >-0.00</td>\n",
       "      <td id=\"T_ff820_row24_col19\" class=\"data row24 col19\" >0.00</td>\n",
       "      <td id=\"T_ff820_row24_col20\" class=\"data row24 col20\" >0.00</td>\n",
       "      <td id=\"T_ff820_row24_col21\" class=\"data row24 col21\" >0.00</td>\n",
       "      <td id=\"T_ff820_row24_col22\" class=\"data row24 col22\" >0.00</td>\n",
       "      <td id=\"T_ff820_row24_col23\" class=\"data row24 col23\" >0.00</td>\n",
       "      <td id=\"T_ff820_row24_col24\" class=\"data row24 col24\" >1.00</td>\n",
       "      <td id=\"T_ff820_row24_col25\" class=\"data row24 col25\" >0.00</td>\n",
       "      <td id=\"T_ff820_row24_col26\" class=\"data row24 col26\" >0.00</td>\n",
       "      <td id=\"T_ff820_row24_col27\" class=\"data row24 col27\" >-0.00</td>\n",
       "      <td id=\"T_ff820_row24_col28\" class=\"data row24 col28\" >-0.00</td>\n",
       "      <td id=\"T_ff820_row24_col29\" class=\"data row24 col29\" >0.01</td>\n",
       "      <td id=\"T_ff820_row24_col30\" class=\"data row24 col30\" >-0.01</td>\n",
       "    </tr>\n",
       "    <tr>\n",
       "      <th id=\"T_ff820_level0_row25\" class=\"row_heading level0 row25\" >V25</th>\n",
       "      <td id=\"T_ff820_row25_col0\" class=\"data row25 col0\" >-0.23</td>\n",
       "      <td id=\"T_ff820_row25_col1\" class=\"data row25 col1\" >-0.00</td>\n",
       "      <td id=\"T_ff820_row25_col2\" class=\"data row25 col2\" >-0.00</td>\n",
       "      <td id=\"T_ff820_row25_col3\" class=\"data row25 col3\" >-0.00</td>\n",
       "      <td id=\"T_ff820_row25_col4\" class=\"data row25 col4\" >0.00</td>\n",
       "      <td id=\"T_ff820_row25_col5\" class=\"data row25 col5\" >0.00</td>\n",
       "      <td id=\"T_ff820_row25_col6\" class=\"data row25 col6\" >0.00</td>\n",
       "      <td id=\"T_ff820_row25_col7\" class=\"data row25 col7\" >-0.00</td>\n",
       "      <td id=\"T_ff820_row25_col8\" class=\"data row25 col8\" >-0.00</td>\n",
       "      <td id=\"T_ff820_row25_col9\" class=\"data row25 col9\" >0.00</td>\n",
       "      <td id=\"T_ff820_row25_col10\" class=\"data row25 col10\" >-0.00</td>\n",
       "      <td id=\"T_ff820_row25_col11\" class=\"data row25 col11\" >-0.00</td>\n",
       "      <td id=\"T_ff820_row25_col12\" class=\"data row25 col12\" >-0.00</td>\n",
       "      <td id=\"T_ff820_row25_col13\" class=\"data row25 col13\" >-0.00</td>\n",
       "      <td id=\"T_ff820_row25_col14\" class=\"data row25 col14\" >-0.00</td>\n",
       "      <td id=\"T_ff820_row25_col15\" class=\"data row25 col15\" >0.00</td>\n",
       "      <td id=\"T_ff820_row25_col16\" class=\"data row25 col16\" >-0.00</td>\n",
       "      <td id=\"T_ff820_row25_col17\" class=\"data row25 col17\" >0.00</td>\n",
       "      <td id=\"T_ff820_row25_col18\" class=\"data row25 col18\" >-0.00</td>\n",
       "      <td id=\"T_ff820_row25_col19\" class=\"data row25 col19\" >0.00</td>\n",
       "      <td id=\"T_ff820_row25_col20\" class=\"data row25 col20\" >0.00</td>\n",
       "      <td id=\"T_ff820_row25_col21\" class=\"data row25 col21\" >-0.00</td>\n",
       "      <td id=\"T_ff820_row25_col22\" class=\"data row25 col22\" >-0.00</td>\n",
       "      <td id=\"T_ff820_row25_col23\" class=\"data row25 col23\" >-0.00</td>\n",
       "      <td id=\"T_ff820_row25_col24\" class=\"data row25 col24\" >0.00</td>\n",
       "      <td id=\"T_ff820_row25_col25\" class=\"data row25 col25\" >1.00</td>\n",
       "      <td id=\"T_ff820_row25_col26\" class=\"data row25 col26\" >0.00</td>\n",
       "      <td id=\"T_ff820_row25_col27\" class=\"data row25 col27\" >-0.00</td>\n",
       "      <td id=\"T_ff820_row25_col28\" class=\"data row25 col28\" >-0.00</td>\n",
       "      <td id=\"T_ff820_row25_col29\" class=\"data row25 col29\" >-0.05</td>\n",
       "      <td id=\"T_ff820_row25_col30\" class=\"data row25 col30\" >0.00</td>\n",
       "    </tr>\n",
       "    <tr>\n",
       "      <th id=\"T_ff820_level0_row26\" class=\"row_heading level0 row26\" >V26</th>\n",
       "      <td id=\"T_ff820_row26_col0\" class=\"data row26 col0\" >-0.04</td>\n",
       "      <td id=\"T_ff820_row26_col1\" class=\"data row26 col1\" >-0.00</td>\n",
       "      <td id=\"T_ff820_row26_col2\" class=\"data row26 col2\" >0.00</td>\n",
       "      <td id=\"T_ff820_row26_col3\" class=\"data row26 col3\" >-0.00</td>\n",
       "      <td id=\"T_ff820_row26_col4\" class=\"data row26 col4\" >-0.00</td>\n",
       "      <td id=\"T_ff820_row26_col5\" class=\"data row26 col5\" >0.00</td>\n",
       "      <td id=\"T_ff820_row26_col6\" class=\"data row26 col6\" >-0.00</td>\n",
       "      <td id=\"T_ff820_row26_col7\" class=\"data row26 col7\" >-0.00</td>\n",
       "      <td id=\"T_ff820_row26_col8\" class=\"data row26 col8\" >-0.00</td>\n",
       "      <td id=\"T_ff820_row26_col9\" class=\"data row26 col9\" >-0.00</td>\n",
       "      <td id=\"T_ff820_row26_col10\" class=\"data row26 col10\" >-0.00</td>\n",
       "      <td id=\"T_ff820_row26_col11\" class=\"data row26 col11\" >-0.00</td>\n",
       "      <td id=\"T_ff820_row26_col12\" class=\"data row26 col12\" >-0.00</td>\n",
       "      <td id=\"T_ff820_row26_col13\" class=\"data row26 col13\" >-0.00</td>\n",
       "      <td id=\"T_ff820_row26_col14\" class=\"data row26 col14\" >-0.00</td>\n",
       "      <td id=\"T_ff820_row26_col15\" class=\"data row26 col15\" >0.00</td>\n",
       "      <td id=\"T_ff820_row26_col16\" class=\"data row26 col16\" >-0.00</td>\n",
       "      <td id=\"T_ff820_row26_col17\" class=\"data row26 col17\" >0.00</td>\n",
       "      <td id=\"T_ff820_row26_col18\" class=\"data row26 col18\" >0.00</td>\n",
       "      <td id=\"T_ff820_row26_col19\" class=\"data row26 col19\" >0.00</td>\n",
       "      <td id=\"T_ff820_row26_col20\" class=\"data row26 col20\" >-0.00</td>\n",
       "      <td id=\"T_ff820_row26_col21\" class=\"data row26 col21\" >-0.00</td>\n",
       "      <td id=\"T_ff820_row26_col22\" class=\"data row26 col22\" >-0.00</td>\n",
       "      <td id=\"T_ff820_row26_col23\" class=\"data row26 col23\" >0.00</td>\n",
       "      <td id=\"T_ff820_row26_col24\" class=\"data row26 col24\" >0.00</td>\n",
       "      <td id=\"T_ff820_row26_col25\" class=\"data row26 col25\" >0.00</td>\n",
       "      <td id=\"T_ff820_row26_col26\" class=\"data row26 col26\" >1.00</td>\n",
       "      <td id=\"T_ff820_row26_col27\" class=\"data row26 col27\" >-0.00</td>\n",
       "      <td id=\"T_ff820_row26_col28\" class=\"data row26 col28\" >-0.00</td>\n",
       "      <td id=\"T_ff820_row26_col29\" class=\"data row26 col29\" >-0.00</td>\n",
       "      <td id=\"T_ff820_row26_col30\" class=\"data row26 col30\" >0.00</td>\n",
       "    </tr>\n",
       "    <tr>\n",
       "      <th id=\"T_ff820_level0_row27\" class=\"row_heading level0 row27\" >V27</th>\n",
       "      <td id=\"T_ff820_row27_col0\" class=\"data row27 col0\" >-0.01</td>\n",
       "      <td id=\"T_ff820_row27_col1\" class=\"data row27 col1\" >0.00</td>\n",
       "      <td id=\"T_ff820_row27_col2\" class=\"data row27 col2\" >-0.00</td>\n",
       "      <td id=\"T_ff820_row27_col3\" class=\"data row27 col3\" >0.00</td>\n",
       "      <td id=\"T_ff820_row27_col4\" class=\"data row27 col4\" >0.00</td>\n",
       "      <td id=\"T_ff820_row27_col5\" class=\"data row27 col5\" >0.00</td>\n",
       "      <td id=\"T_ff820_row27_col6\" class=\"data row27 col6\" >-0.00</td>\n",
       "      <td id=\"T_ff820_row27_col7\" class=\"data row27 col7\" >-0.00</td>\n",
       "      <td id=\"T_ff820_row27_col8\" class=\"data row27 col8\" >0.00</td>\n",
       "      <td id=\"T_ff820_row27_col9\" class=\"data row27 col9\" >-0.00</td>\n",
       "      <td id=\"T_ff820_row27_col10\" class=\"data row27 col10\" >-0.00</td>\n",
       "      <td id=\"T_ff820_row27_col11\" class=\"data row27 col11\" >-0.00</td>\n",
       "      <td id=\"T_ff820_row27_col12\" class=\"data row27 col12\" >-0.00</td>\n",
       "      <td id=\"T_ff820_row27_col13\" class=\"data row27 col13\" >-0.00</td>\n",
       "      <td id=\"T_ff820_row27_col14\" class=\"data row27 col14\" >0.00</td>\n",
       "      <td id=\"T_ff820_row27_col15\" class=\"data row27 col15\" >-0.00</td>\n",
       "      <td id=\"T_ff820_row27_col16\" class=\"data row27 col16\" >0.00</td>\n",
       "      <td id=\"T_ff820_row27_col17\" class=\"data row27 col17\" >0.00</td>\n",
       "      <td id=\"T_ff820_row27_col18\" class=\"data row27 col18\" >0.00</td>\n",
       "      <td id=\"T_ff820_row27_col19\" class=\"data row27 col19\" >-0.00</td>\n",
       "      <td id=\"T_ff820_row27_col20\" class=\"data row27 col20\" >-0.00</td>\n",
       "      <td id=\"T_ff820_row27_col21\" class=\"data row27 col21\" >-0.00</td>\n",
       "      <td id=\"T_ff820_row27_col22\" class=\"data row27 col22\" >0.00</td>\n",
       "      <td id=\"T_ff820_row27_col23\" class=\"data row27 col23\" >0.00</td>\n",
       "      <td id=\"T_ff820_row27_col24\" class=\"data row27 col24\" >-0.00</td>\n",
       "      <td id=\"T_ff820_row27_col25\" class=\"data row27 col25\" >-0.00</td>\n",
       "      <td id=\"T_ff820_row27_col26\" class=\"data row27 col26\" >-0.00</td>\n",
       "      <td id=\"T_ff820_row27_col27\" class=\"data row27 col27\" >1.00</td>\n",
       "      <td id=\"T_ff820_row27_col28\" class=\"data row27 col28\" >-0.00</td>\n",
       "      <td id=\"T_ff820_row27_col29\" class=\"data row27 col29\" >0.03</td>\n",
       "      <td id=\"T_ff820_row27_col30\" class=\"data row27 col30\" >0.02</td>\n",
       "    </tr>\n",
       "    <tr>\n",
       "      <th id=\"T_ff820_level0_row28\" class=\"row_heading level0 row28\" >V28</th>\n",
       "      <td id=\"T_ff820_row28_col0\" class=\"data row28 col0\" >-0.01</td>\n",
       "      <td id=\"T_ff820_row28_col1\" class=\"data row28 col1\" >0.00</td>\n",
       "      <td id=\"T_ff820_row28_col2\" class=\"data row28 col2\" >-0.00</td>\n",
       "      <td id=\"T_ff820_row28_col3\" class=\"data row28 col3\" >0.00</td>\n",
       "      <td id=\"T_ff820_row28_col4\" class=\"data row28 col4\" >-0.00</td>\n",
       "      <td id=\"T_ff820_row28_col5\" class=\"data row28 col5\" >-0.00</td>\n",
       "      <td id=\"T_ff820_row28_col6\" class=\"data row28 col6\" >0.00</td>\n",
       "      <td id=\"T_ff820_row28_col7\" class=\"data row28 col7\" >-0.00</td>\n",
       "      <td id=\"T_ff820_row28_col8\" class=\"data row28 col8\" >-0.00</td>\n",
       "      <td id=\"T_ff820_row28_col9\" class=\"data row28 col9\" >0.00</td>\n",
       "      <td id=\"T_ff820_row28_col10\" class=\"data row28 col10\" >0.00</td>\n",
       "      <td id=\"T_ff820_row28_col11\" class=\"data row28 col11\" >-0.00</td>\n",
       "      <td id=\"T_ff820_row28_col12\" class=\"data row28 col12\" >0.00</td>\n",
       "      <td id=\"T_ff820_row28_col13\" class=\"data row28 col13\" >0.00</td>\n",
       "      <td id=\"T_ff820_row28_col14\" class=\"data row28 col14\" >0.00</td>\n",
       "      <td id=\"T_ff820_row28_col15\" class=\"data row28 col15\" >-0.00</td>\n",
       "      <td id=\"T_ff820_row28_col16\" class=\"data row28 col16\" >0.00</td>\n",
       "      <td id=\"T_ff820_row28_col17\" class=\"data row28 col17\" >-0.00</td>\n",
       "      <td id=\"T_ff820_row28_col18\" class=\"data row28 col18\" >0.00</td>\n",
       "      <td id=\"T_ff820_row28_col19\" class=\"data row28 col19\" >-0.00</td>\n",
       "      <td id=\"T_ff820_row28_col20\" class=\"data row28 col20\" >-0.00</td>\n",
       "      <td id=\"T_ff820_row28_col21\" class=\"data row28 col21\" >0.00</td>\n",
       "      <td id=\"T_ff820_row28_col22\" class=\"data row28 col22\" >-0.00</td>\n",
       "      <td id=\"T_ff820_row28_col23\" class=\"data row28 col23\" >0.00</td>\n",
       "      <td id=\"T_ff820_row28_col24\" class=\"data row28 col24\" >-0.00</td>\n",
       "      <td id=\"T_ff820_row28_col25\" class=\"data row28 col25\" >-0.00</td>\n",
       "      <td id=\"T_ff820_row28_col26\" class=\"data row28 col26\" >-0.00</td>\n",
       "      <td id=\"T_ff820_row28_col27\" class=\"data row28 col27\" >-0.00</td>\n",
       "      <td id=\"T_ff820_row28_col28\" class=\"data row28 col28\" >1.00</td>\n",
       "      <td id=\"T_ff820_row28_col29\" class=\"data row28 col29\" >0.01</td>\n",
       "      <td id=\"T_ff820_row28_col30\" class=\"data row28 col30\" >0.01</td>\n",
       "    </tr>\n",
       "    <tr>\n",
       "      <th id=\"T_ff820_level0_row29\" class=\"row_heading level0 row29\" >Amount</th>\n",
       "      <td id=\"T_ff820_row29_col0\" class=\"data row29 col0\" >-0.01</td>\n",
       "      <td id=\"T_ff820_row29_col1\" class=\"data row29 col1\" >-0.23</td>\n",
       "      <td id=\"T_ff820_row29_col2\" class=\"data row29 col2\" >-0.53</td>\n",
       "      <td id=\"T_ff820_row29_col3\" class=\"data row29 col3\" >-0.21</td>\n",
       "      <td id=\"T_ff820_row29_col4\" class=\"data row29 col4\" >0.10</td>\n",
       "      <td id=\"T_ff820_row29_col5\" class=\"data row29 col5\" >-0.39</td>\n",
       "      <td id=\"T_ff820_row29_col6\" class=\"data row29 col6\" >0.22</td>\n",
       "      <td id=\"T_ff820_row29_col7\" class=\"data row29 col7\" >0.40</td>\n",
       "      <td id=\"T_ff820_row29_col8\" class=\"data row29 col8\" >-0.10</td>\n",
       "      <td id=\"T_ff820_row29_col9\" class=\"data row29 col9\" >-0.04</td>\n",
       "      <td id=\"T_ff820_row29_col10\" class=\"data row29 col10\" >-0.10</td>\n",
       "      <td id=\"T_ff820_row29_col11\" class=\"data row29 col11\" >0.00</td>\n",
       "      <td id=\"T_ff820_row29_col12\" class=\"data row29 col12\" >-0.01</td>\n",
       "      <td id=\"T_ff820_row29_col13\" class=\"data row29 col13\" >0.01</td>\n",
       "      <td id=\"T_ff820_row29_col14\" class=\"data row29 col14\" >0.03</td>\n",
       "      <td id=\"T_ff820_row29_col15\" class=\"data row29 col15\" >-0.00</td>\n",
       "      <td id=\"T_ff820_row29_col16\" class=\"data row29 col16\" >-0.00</td>\n",
       "      <td id=\"T_ff820_row29_col17\" class=\"data row29 col17\" >0.01</td>\n",
       "      <td id=\"T_ff820_row29_col18\" class=\"data row29 col18\" >0.04</td>\n",
       "      <td id=\"T_ff820_row29_col19\" class=\"data row29 col19\" >-0.06</td>\n",
       "      <td id=\"T_ff820_row29_col20\" class=\"data row29 col20\" >0.34</td>\n",
       "      <td id=\"T_ff820_row29_col21\" class=\"data row29 col21\" >0.11</td>\n",
       "      <td id=\"T_ff820_row29_col22\" class=\"data row29 col22\" >-0.06</td>\n",
       "      <td id=\"T_ff820_row29_col23\" class=\"data row29 col23\" >-0.11</td>\n",
       "      <td id=\"T_ff820_row29_col24\" class=\"data row29 col24\" >0.01</td>\n",
       "      <td id=\"T_ff820_row29_col25\" class=\"data row29 col25\" >-0.05</td>\n",
       "      <td id=\"T_ff820_row29_col26\" class=\"data row29 col26\" >-0.00</td>\n",
       "      <td id=\"T_ff820_row29_col27\" class=\"data row29 col27\" >0.03</td>\n",
       "      <td id=\"T_ff820_row29_col28\" class=\"data row29 col28\" >0.01</td>\n",
       "      <td id=\"T_ff820_row29_col29\" class=\"data row29 col29\" >1.00</td>\n",
       "      <td id=\"T_ff820_row29_col30\" class=\"data row29 col30\" >0.01</td>\n",
       "    </tr>\n",
       "    <tr>\n",
       "      <th id=\"T_ff820_level0_row30\" class=\"row_heading level0 row30\" >Class</th>\n",
       "      <td id=\"T_ff820_row30_col0\" class=\"data row30 col0\" >-0.01</td>\n",
       "      <td id=\"T_ff820_row30_col1\" class=\"data row30 col1\" >-0.10</td>\n",
       "      <td id=\"T_ff820_row30_col2\" class=\"data row30 col2\" >0.09</td>\n",
       "      <td id=\"T_ff820_row30_col3\" class=\"data row30 col3\" >-0.19</td>\n",
       "      <td id=\"T_ff820_row30_col4\" class=\"data row30 col4\" >0.13</td>\n",
       "      <td id=\"T_ff820_row30_col5\" class=\"data row30 col5\" >-0.09</td>\n",
       "      <td id=\"T_ff820_row30_col6\" class=\"data row30 col6\" >-0.04</td>\n",
       "      <td id=\"T_ff820_row30_col7\" class=\"data row30 col7\" >-0.19</td>\n",
       "      <td id=\"T_ff820_row30_col8\" class=\"data row30 col8\" >0.02</td>\n",
       "      <td id=\"T_ff820_row30_col9\" class=\"data row30 col9\" >-0.10</td>\n",
       "      <td id=\"T_ff820_row30_col10\" class=\"data row30 col10\" >-0.22</td>\n",
       "      <td id=\"T_ff820_row30_col11\" class=\"data row30 col11\" >0.15</td>\n",
       "      <td id=\"T_ff820_row30_col12\" class=\"data row30 col12\" >-0.26</td>\n",
       "      <td id=\"T_ff820_row30_col13\" class=\"data row30 col13\" >-0.00</td>\n",
       "      <td id=\"T_ff820_row30_col14\" class=\"data row30 col14\" >-0.30</td>\n",
       "      <td id=\"T_ff820_row30_col15\" class=\"data row30 col15\" >-0.00</td>\n",
       "      <td id=\"T_ff820_row30_col16\" class=\"data row30 col16\" >-0.20</td>\n",
       "      <td id=\"T_ff820_row30_col17\" class=\"data row30 col17\" >-0.33</td>\n",
       "      <td id=\"T_ff820_row30_col18\" class=\"data row30 col18\" >-0.11</td>\n",
       "      <td id=\"T_ff820_row30_col19\" class=\"data row30 col19\" >0.03</td>\n",
       "      <td id=\"T_ff820_row30_col20\" class=\"data row30 col20\" >0.02</td>\n",
       "      <td id=\"T_ff820_row30_col21\" class=\"data row30 col21\" >0.04</td>\n",
       "      <td id=\"T_ff820_row30_col22\" class=\"data row30 col22\" >0.00</td>\n",
       "      <td id=\"T_ff820_row30_col23\" class=\"data row30 col23\" >-0.00</td>\n",
       "      <td id=\"T_ff820_row30_col24\" class=\"data row30 col24\" >-0.01</td>\n",
       "      <td id=\"T_ff820_row30_col25\" class=\"data row30 col25\" >0.00</td>\n",
       "      <td id=\"T_ff820_row30_col26\" class=\"data row30 col26\" >0.00</td>\n",
       "      <td id=\"T_ff820_row30_col27\" class=\"data row30 col27\" >0.02</td>\n",
       "      <td id=\"T_ff820_row30_col28\" class=\"data row30 col28\" >0.01</td>\n",
       "      <td id=\"T_ff820_row30_col29\" class=\"data row30 col29\" >0.01</td>\n",
       "      <td id=\"T_ff820_row30_col30\" class=\"data row30 col30\" >1.00</td>\n",
       "    </tr>\n",
       "  </tbody>\n",
       "</table>\n"
      ],
      "text/plain": [
       "<pandas.io.formats.style.Styler at 0x7ff7b037cf50>"
      ]
     },
     "execution_count": 3,
     "metadata": {},
     "output_type": "execute_result"
    }
   ],
   "source": [
    "df.corr() \\\n",
    "    .style.background_gradient(cmap='coolwarm') \\\n",
    "    .format(precision = 2)"
   ]
  },
  {
   "cell_type": "markdown",
   "id": "122e721c",
   "metadata": {
    "papermill": {
     "duration": 0.012156,
     "end_time": "2022-10-03T18:29:04.875650",
     "exception": false,
     "start_time": "2022-10-03T18:29:04.863494",
     "status": "completed"
    },
    "tags": []
   },
   "source": [
    "# Machine learning"
   ]
  },
  {
   "cell_type": "markdown",
   "id": "d8231e06",
   "metadata": {
    "papermill": {
     "duration": 0.012113,
     "end_time": "2022-10-03T18:29:04.900186",
     "exception": false,
     "start_time": "2022-10-03T18:29:04.888073",
     "status": "completed"
    },
    "tags": []
   },
   "source": [
    "## Common operations"
   ]
  },
  {
   "cell_type": "markdown",
   "id": "632df8c4",
   "metadata": {
    "papermill": {
     "duration": 0.012144,
     "end_time": "2022-10-03T18:29:04.924685",
     "exception": false,
     "start_time": "2022-10-03T18:29:04.912541",
     "status": "completed"
    },
    "tags": []
   },
   "source": [
    "### Importing require modules#### "
   ]
  },
  {
   "cell_type": "code",
   "execution_count": 4,
   "id": "bccb9fdb",
   "metadata": {
    "execution": {
     "iopub.execute_input": "2022-10-03T18:29:04.952677Z",
     "iopub.status.busy": "2022-10-03T18:29:04.951465Z",
     "iopub.status.idle": "2022-10-03T18:29:05.475486Z",
     "shell.execute_reply": "2022-10-03T18:29:05.474443Z"
    },
    "papermill": {
     "duration": 0.541059,
     "end_time": "2022-10-03T18:29:05.478229",
     "exception": false,
     "start_time": "2022-10-03T18:29:04.937170",
     "status": "completed"
    },
    "tags": []
   },
   "outputs": [],
   "source": [
    "import sklearn.metrics as metrics\n",
    "from sklearn.model_selection import cross_validate\n",
    "from sklearn.model_selection import train_test_split\n",
    "from sklearn.ensemble import BaggingClassifier\n",
    "from sklearn.model_selection import KFold\n",
    "\n",
    "from sklearn.neighbors import KNeighborsClassifier\n",
    "from sklearn.linear_model import LogisticRegression\n",
    "from sklearn.linear_model import LogisticRegressionCV\n",
    "from sklearn.naive_bayes import BernoulliNB\n",
    "from sklearn.ensemble import RandomForestClassifier\n",
    "from sklearn.ensemble import GradientBoostingClassifier\n",
    "from sklearn.ensemble import AdaBoostClassifier\n",
    "from xgboost import XGBClassifier\n",
    "from sklearn import svm\n",
    "from sklearn.tree import DecisionTreeClassifier"
   ]
  },
  {
   "cell_type": "markdown",
   "id": "0897610f",
   "metadata": {
    "papermill": {
     "duration": 0.011998,
     "end_time": "2022-10-03T18:29:05.502831",
     "exception": false,
     "start_time": "2022-10-03T18:29:05.490833",
     "status": "completed"
    },
    "tags": []
   },
   "source": [
    "### Preparing the comparison table"
   ]
  },
  {
   "cell_type": "code",
   "execution_count": 5,
   "id": "2fe8fc5f",
   "metadata": {
    "execution": {
     "iopub.execute_input": "2022-10-03T18:29:05.529232Z",
     "iopub.status.busy": "2022-10-03T18:29:05.528816Z",
     "iopub.status.idle": "2022-10-03T18:29:05.536841Z",
     "shell.execute_reply": "2022-10-03T18:29:05.535628Z"
    },
    "papermill": {
     "duration": 0.02394,
     "end_time": "2022-10-03T18:29:05.539126",
     "exception": false,
     "start_time": "2022-10-03T18:29:05.515186",
     "status": "completed"
    },
    "tags": []
   },
   "outputs": [],
   "source": [
    "columns = ['Model','accuracy score', ' Precision','Recall','f1_score']\n",
    "evaluation_df = pd.DataFrame(columns=columns)"
   ]
  },
  {
   "cell_type": "markdown",
   "id": "b619b31a",
   "metadata": {
    "papermill": {
     "duration": 0.012063,
     "end_time": "2022-10-03T18:29:05.563828",
     "exception": false,
     "start_time": "2022-10-03T18:29:05.551765",
     "status": "completed"
    },
    "tags": []
   },
   "source": [
    "### Drawing ROC"
   ]
  },
  {
   "cell_type": "code",
   "execution_count": 6,
   "id": "a453b472",
   "metadata": {
    "execution": {
     "iopub.execute_input": "2022-10-03T18:29:05.590238Z",
     "iopub.status.busy": "2022-10-03T18:29:05.589818Z",
     "iopub.status.idle": "2022-10-03T18:29:05.595882Z",
     "shell.execute_reply": "2022-10-03T18:29:05.594723Z"
    },
    "papermill": {
     "duration": 0.022048,
     "end_time": "2022-10-03T18:29:05.598370",
     "exception": false,
     "start_time": "2022-10-03T18:29:05.576322",
     "status": "completed"
    },
    "tags": []
   },
   "outputs": [],
   "source": [
    "def drawROC(model, X_test, y_test):\n",
    "    pred = model.predict(X_test)\n",
    "    metrics.RocCurveDisplay.from_predictions(y_test, pred)\n",
    "    plt.show()"
   ]
  },
  {
   "cell_type": "markdown",
   "id": "62c8f288",
   "metadata": {
    "papermill": {
     "duration": 0.012071,
     "end_time": "2022-10-03T18:29:05.623005",
     "exception": false,
     "start_time": "2022-10-03T18:29:05.610934",
     "status": "completed"
    },
    "tags": []
   },
   "source": [
    "### Executing a given algorithm"
   ]
  },
  {
   "cell_type": "code",
   "execution_count": 7,
   "id": "f8ff637f",
   "metadata": {
    "execution": {
     "iopub.execute_input": "2022-10-03T18:29:05.650520Z",
     "iopub.status.busy": "2022-10-03T18:29:05.649610Z",
     "iopub.status.idle": "2022-10-03T18:29:05.657864Z",
     "shell.execute_reply": "2022-10-03T18:29:05.656976Z"
    },
    "papermill": {
     "duration": 0.024763,
     "end_time": "2022-10-03T18:29:05.660403",
     "exception": false,
     "start_time": "2022-10-03T18:29:05.635640",
     "status": "completed"
    },
    "tags": []
   },
   "outputs": [],
   "source": [
    "def execute_ml(model, X_train, y_train, X_test, y_test):\n",
    "    model.fit(X_train,y_train)\n",
    "    pred = model.predict(X_test)\n",
    "    \n",
    "    accuracy_score  = metrics.accuracy_score(y_test,pred)\n",
    "    precision_score = metrics.precision_score(y_test, pred)\n",
    "    recall_score = metrics.recall_score(y_test, pred)\n",
    "    f1_score = metrics.f1_score(y_test,pred)\n",
    "    evaluation_df.loc[len(evaluation_df.index)] = [type(model).__name__,accuracy_score,precision_score,recall_score, f1_score]    \n",
    "    \n",
    "    print(metrics.classification_report(y_test,pred))\n",
    "        \n",
    "    metrics.ConfusionMatrixDisplay.from_predictions(y_test, pred)\n",
    "    plt.show()\n",
    "    \n",
    "    return model"
   ]
  },
  {
   "cell_type": "markdown",
   "id": "bb48cdc9",
   "metadata": {
    "papermill": {
     "duration": 0.012137,
     "end_time": "2022-10-03T18:29:05.685153",
     "exception": false,
     "start_time": "2022-10-03T18:29:05.673016",
     "status": "completed"
    },
    "tags": []
   },
   "source": [
    "### Cross validation"
   ]
  },
  {
   "cell_type": "code",
   "execution_count": 8,
   "id": "0fedfd96",
   "metadata": {
    "execution": {
     "iopub.execute_input": "2022-10-03T18:29:05.712868Z",
     "iopub.status.busy": "2022-10-03T18:29:05.711967Z",
     "iopub.status.idle": "2022-10-03T18:29:05.718039Z",
     "shell.execute_reply": "2022-10-03T18:29:05.716919Z"
    },
    "papermill": {
     "duration": 0.022787,
     "end_time": "2022-10-03T18:29:05.720574",
     "exception": false,
     "start_time": "2022-10-03T18:29:05.697787",
     "status": "completed"
    },
    "tags": []
   },
   "outputs": [],
   "source": [
    "def perform_cross_validation(model, X_train, y_train):\n",
    "    cross_validation_result = cross_validate(model,\n",
    "                                             X_train, y_train,\n",
    "                                             return_train_score=True)\n",
    "\n",
    "    return cross_validation_result"
   ]
  },
  {
   "cell_type": "markdown",
   "id": "86338895",
   "metadata": {
    "papermill": {
     "duration": 0.012102,
     "end_time": "2022-10-03T18:29:05.745319",
     "exception": false,
     "start_time": "2022-10-03T18:29:05.733217",
     "status": "completed"
    },
    "tags": []
   },
   "source": [
    "### Tweaking threshold\n",
    "\n",
    "Instead of using the predefined <i>predict</i>, the function is customized to use the given threshold."
   ]
  },
  {
   "cell_type": "code",
   "execution_count": 9,
   "id": "9a1fda76",
   "metadata": {
    "execution": {
     "iopub.execute_input": "2022-10-03T18:29:05.772003Z",
     "iopub.status.busy": "2022-10-03T18:29:05.771604Z",
     "iopub.status.idle": "2022-10-03T18:29:05.778103Z",
     "shell.execute_reply": "2022-10-03T18:29:05.777045Z"
    },
    "papermill": {
     "duration": 0.022391,
     "end_time": "2022-10-03T18:29:05.780321",
     "exception": false,
     "start_time": "2022-10-03T18:29:05.757930",
     "status": "completed"
    },
    "tags": []
   },
   "outputs": [],
   "source": [
    "def execute_using_threshold(model, X_train, y_train, t):\n",
    "    model.fit(X_train,y_train)\n",
    "    pred_prob = model.predict_proba(X_test)\n",
    "    pred = [1 if pred_prob[i][1]> t else 0 for i in range(len(pred_prob))]\n",
    "    \n",
    "    print(\"Threshold: %f\" %t)\n",
    "    print(metrics.classification_report(y_test,pred))\n",
    "    metrics.ConfusionMatrixDisplay.from_predictions(y_test,pred)\n",
    "    plt.show()"
   ]
  },
  {
   "cell_type": "markdown",
   "id": "2161e840",
   "metadata": {
    "papermill": {
     "duration": 0.012294,
     "end_time": "2022-10-03T18:29:05.805304",
     "exception": false,
     "start_time": "2022-10-03T18:29:05.793010",
     "status": "completed"
    },
    "tags": []
   },
   "source": [
    "## Specifying the independent and target features"
   ]
  },
  {
   "cell_type": "code",
   "execution_count": 10,
   "id": "da8e8f05",
   "metadata": {
    "execution": {
     "iopub.execute_input": "2022-10-03T18:29:05.832980Z",
     "iopub.status.busy": "2022-10-03T18:29:05.831723Z",
     "iopub.status.idle": "2022-10-03T18:29:05.861774Z",
     "shell.execute_reply": "2022-10-03T18:29:05.860653Z"
    },
    "papermill": {
     "duration": 0.046563,
     "end_time": "2022-10-03T18:29:05.864465",
     "exception": false,
     "start_time": "2022-10-03T18:29:05.817902",
     "status": "completed"
    },
    "tags": []
   },
   "outputs": [],
   "source": [
    "X=df.drop(\"Class\",axis='columns')\n",
    "y=df[\"Class\"]"
   ]
  },
  {
   "cell_type": "markdown",
   "id": "c0730662",
   "metadata": {
    "papermill": {
     "duration": 0.012237,
     "end_time": "2022-10-03T18:29:05.889455",
     "exception": false,
     "start_time": "2022-10-03T18:29:05.877218",
     "status": "completed"
    },
    "tags": []
   },
   "source": [
    "## Splitting the dataset into training and testing subsets\n",
    "<br>\n",
    "<b>random_state</b> simply initializes the randomizer and can be any number\n",
    "<br>\n",
    "<b>test_size</b> and <b>train_size</b> are fractions of the whole dataset"
   ]
  },
  {
   "cell_type": "code",
   "execution_count": 11,
   "id": "11752411",
   "metadata": {
    "execution": {
     "iopub.execute_input": "2022-10-03T18:29:05.917600Z",
     "iopub.status.busy": "2022-10-03T18:29:05.916311Z",
     "iopub.status.idle": "2022-10-03T18:29:05.976890Z",
     "shell.execute_reply": "2022-10-03T18:29:05.975693Z"
    },
    "papermill": {
     "duration": 0.077364,
     "end_time": "2022-10-03T18:29:05.979788",
     "exception": false,
     "start_time": "2022-10-03T18:29:05.902424",
     "status": "completed"
    },
    "tags": []
   },
   "outputs": [],
   "source": [
    "np.random.seed(42)\n",
    "\n",
    "X_train ,X_test,y_train,y_test = train_test_split(X,y,stratify=y,random_state=12,test_size = 0.025, train_size=0.1)"
   ]
  },
  {
   "cell_type": "markdown",
   "id": "5b596690",
   "metadata": {
    "papermill": {
     "duration": 0.012694,
     "end_time": "2022-10-03T18:29:06.006282",
     "exception": false,
     "start_time": "2022-10-03T18:29:05.993588",
     "status": "completed"
    },
    "tags": []
   },
   "source": [
    "## Machine learning algorithms"
   ]
  },
  {
   "cell_type": "markdown",
   "id": "72c6a0d5",
   "metadata": {
    "papermill": {
     "duration": 0.012083,
     "end_time": "2022-10-03T18:29:06.031023",
     "exception": false,
     "start_time": "2022-10-03T18:29:06.018940",
     "status": "completed"
    },
    "tags": []
   },
   "source": [
    "### K-Nearest Neighbors"
   ]
  },
  {
   "cell_type": "code",
   "execution_count": 12,
   "id": "c7fb66d2",
   "metadata": {
    "execution": {
     "iopub.execute_input": "2022-10-03T18:29:06.058073Z",
     "iopub.status.busy": "2022-10-03T18:29:06.057650Z",
     "iopub.status.idle": "2022-10-03T18:29:10.213357Z",
     "shell.execute_reply": "2022-10-03T18:29:10.211475Z"
    },
    "papermill": {
     "duration": 4.172227,
     "end_time": "2022-10-03T18:29:10.215789",
     "exception": false,
     "start_time": "2022-10-03T18:29:06.043562",
     "status": "completed"
    },
    "tags": []
   },
   "outputs": [
    {
     "name": "stderr",
     "output_type": "stream",
     "text": [
      "/opt/conda/lib/python3.7/site-packages/sklearn/metrics/_classification.py:1318: UndefinedMetricWarning: Precision is ill-defined and being set to 0.0 due to no predicted samples. Use `zero_division` parameter to control this behavior.\n",
      "  _warn_prf(average, modifier, msg_start, len(result))\n",
      "/opt/conda/lib/python3.7/site-packages/sklearn/metrics/_classification.py:1318: UndefinedMetricWarning: Precision and F-score are ill-defined and being set to 0.0 in labels with no predicted samples. Use `zero_division` parameter to control this behavior.\n",
      "  _warn_prf(average, modifier, msg_start, len(result))\n",
      "/opt/conda/lib/python3.7/site-packages/sklearn/metrics/_classification.py:1318: UndefinedMetricWarning: Precision and F-score are ill-defined and being set to 0.0 in labels with no predicted samples. Use `zero_division` parameter to control this behavior.\n",
      "  _warn_prf(average, modifier, msg_start, len(result))\n",
      "/opt/conda/lib/python3.7/site-packages/sklearn/metrics/_classification.py:1318: UndefinedMetricWarning: Precision and F-score are ill-defined and being set to 0.0 in labels with no predicted samples. Use `zero_division` parameter to control this behavior.\n",
      "  _warn_prf(average, modifier, msg_start, len(result))\n"
     ]
    },
    {
     "name": "stdout",
     "output_type": "stream",
     "text": [
      "              precision    recall  f1-score   support\n",
      "\n",
      "           0       1.00      1.00      1.00      7109\n",
      "           1       0.00      0.00      0.00        12\n",
      "\n",
      "    accuracy                           1.00      7121\n",
      "   macro avg       0.50      0.50      0.50      7121\n",
      "weighted avg       1.00      1.00      1.00      7121\n",
      "\n"
     ]
    },
    {
     "data": {
      "image/png": "[encoded data removed]",
      "text/plain": [
       "<Figure size 432x288 with 2 Axes>"
      ]
     },
     "metadata": {
      "needs_background": "light"
     },
     "output_type": "display_data"
    },
    {
     "data": {
      "text/plain": [
       "KNeighborsClassifier(n_neighbors=15, weights='distance')"
      ]
     },
     "execution_count": 12,
     "metadata": {},
     "output_type": "execute_result"
    }
   ],
   "source": [
    "execute_ml(KNeighborsClassifier(n_neighbors = 15, weights='distance'),\n",
    "           X_train, y_train, X_test, y_test)"
   ]
  },
  {
   "cell_type": "markdown",
   "id": "bca080ed",
   "metadata": {
    "papermill": {
     "duration": 0.012723,
     "end_time": "2022-10-03T18:29:10.241780",
     "exception": false,
     "start_time": "2022-10-03T18:29:10.229057",
     "status": "completed"
    },
    "tags": []
   },
   "source": [
    "### Logistic regression"
   ]
  },
  {
   "cell_type": "code",
   "execution_count": 13,
   "id": "6cdc388e",
   "metadata": {
    "execution": {
     "iopub.execute_input": "2022-10-03T18:29:10.270120Z",
     "iopub.status.busy": "2022-10-03T18:29:10.269723Z",
     "iopub.status.idle": "2022-10-03T18:29:11.706347Z",
     "shell.execute_reply": "2022-10-03T18:29:11.705231Z"
    },
    "papermill": {
     "duration": 1.453937,
     "end_time": "2022-10-03T18:29:11.708779",
     "exception": false,
     "start_time": "2022-10-03T18:29:10.254842",
     "status": "completed"
    },
    "tags": []
   },
   "outputs": [
    {
     "name": "stderr",
     "output_type": "stream",
     "text": [
      "/opt/conda/lib/python3.7/site-packages/sklearn/linear_model/_logistic.py:818: ConvergenceWarning: lbfgs failed to converge (status=1):\n",
      "STOP: TOTAL NO. of ITERATIONS REACHED LIMIT.\n",
      "\n",
      "Increase the number of iterations (max_iter) or scale the data as shown in:\n",
      "    https://scikit-learn.org/stable/modules/preprocessing.html\n",
      "Please also refer to the documentation for alternative solver options:\n",
      "    https://scikit-learn.org/stable/modules/linear_model.html#logistic-regression\n",
      "  extra_warning_msg=_LOGISTIC_SOLVER_CONVERGENCE_MSG,\n"
     ]
    },
    {
     "name": "stdout",
     "output_type": "stream",
     "text": [
      "              precision    recall  f1-score   support\n",
      "\n",
      "           0       1.00      1.00      1.00      7109\n",
      "           1       0.75      0.50      0.60        12\n",
      "\n",
      "    accuracy                           1.00      7121\n",
      "   macro avg       0.87      0.75      0.80      7121\n",
      "weighted avg       1.00      1.00      1.00      7121\n",
      "\n"
     ]
    },
    {
     "data": {
      "image/png": "[encoded data removed]",
      "text/plain": [
       "<Figure size 432x288 with 2 Axes>"
      ]
     },
     "metadata": {
      "needs_background": "light"
     },
     "output_type": "display_data"
    },
    {
     "data": {
      "text/plain": [
       "LogisticRegression(max_iter=200, random_state=12)"
      ]
     },
     "execution_count": 13,
     "metadata": {},
     "output_type": "execute_result"
    }
   ],
   "source": [
    "execute_ml(LogisticRegression(max_iter=200,random_state=12),\n",
    "           X_train, y_train, X_test, y_test)"
   ]
  },
  {
   "cell_type": "markdown",
   "id": "e4ae200e",
   "metadata": {
    "papermill": {
     "duration": 0.013619,
     "end_time": "2022-10-03T18:29:11.736207",
     "exception": false,
     "start_time": "2022-10-03T18:29:11.722588",
     "status": "completed"
    },
    "tags": []
   },
   "source": [
    "### Logistic regression CV"
   ]
  },
  {
   "cell_type": "code",
   "execution_count": 14,
   "id": "b92b115c",
   "metadata": {
    "execution": {
     "iopub.execute_input": "2022-10-03T18:29:11.765928Z",
     "iopub.status.busy": "2022-10-03T18:29:11.765112Z",
     "iopub.status.idle": "2022-10-03T18:29:31.740315Z",
     "shell.execute_reply": "2022-10-03T18:29:31.738918Z"
    },
    "papermill": {
     "duration": 19.99306,
     "end_time": "2022-10-03T18:29:31.742985",
     "exception": false,
     "start_time": "2022-10-03T18:29:11.749925",
     "status": "completed"
    },
    "tags": []
   },
   "outputs": [
    {
     "name": "stderr",
     "output_type": "stream",
     "text": [
      "/opt/conda/lib/python3.7/site-packages/sklearn/linear_model/_logistic.py:818: ConvergenceWarning: lbfgs failed to converge (status=1):\n",
      "STOP: TOTAL NO. of ITERATIONS REACHED LIMIT.\n",
      "\n",
      "Increase the number of iterations (max_iter) or scale the data as shown in:\n",
      "    https://scikit-learn.org/stable/modules/preprocessing.html\n",
      "Please also refer to the documentation for alternative solver options:\n",
      "    https://scikit-learn.org/stable/modules/linear_model.html#logistic-regression\n",
      "  extra_warning_msg=_LOGISTIC_SOLVER_CONVERGENCE_MSG,\n"
     ]
    },
    {
     "name": "stdout",
     "output_type": "stream",
     "text": [
      "              precision    recall  f1-score   support\n",
      "\n",
      "           0       1.00      1.00      1.00      7109\n",
      "           1       0.75      0.50      0.60        12\n",
      "\n",
      "    accuracy                           1.00      7121\n",
      "   macro avg       0.87      0.75      0.80      7121\n",
      "weighted avg       1.00      1.00      1.00      7121\n",
      "\n"
     ]
    },
    {
     "data": {
      "image/png": "[encoded data removed]",
      "text/plain": [
       "<Figure size 432x288 with 2 Axes>"
      ]
     },
     "metadata": {
      "needs_background": "light"
     },
     "output_type": "display_data"
    },
    {
     "data": {
      "text/plain": [
       "LogisticRegressionCV(cv=KFold(n_splits=10, random_state=12, shuffle=True),\n",
       "                     max_iter=200, random_state=12, scoring='roc_auc', tol=10)"
      ]
     },
     "execution_count": 14,
     "metadata": {},
     "output_type": "execute_result"
    }
   ],
   "source": [
    "execute_ml(LogisticRegressionCV(max_iter=200,penalty='l2',\n",
    "                                scoring='roc_auc',\n",
    "                                cv=KFold(n_splits=10, shuffle=True, random_state=12),\n",
    "                                tol=10,random_state=12),\n",
    "           X_train, y_train, X_test, y_test)"
   ]
  },
  {
   "cell_type": "markdown",
   "id": "47dcc22a",
   "metadata": {
    "papermill": {
     "duration": 0.013846,
     "end_time": "2022-10-03T18:29:31.770962",
     "exception": false,
     "start_time": "2022-10-03T18:29:31.757116",
     "status": "completed"
    },
    "tags": []
   },
   "source": [
    "### Bernoulli Naive Bayes"
   ]
  },
  {
   "cell_type": "code",
   "execution_count": 15,
   "id": "7c01d87a",
   "metadata": {
    "execution": {
     "iopub.execute_input": "2022-10-03T18:29:31.801536Z",
     "iopub.status.busy": "2022-10-03T18:29:31.801065Z",
     "iopub.status.idle": "2022-10-03T18:29:32.161487Z",
     "shell.execute_reply": "2022-10-03T18:29:32.160099Z"
    },
    "papermill": {
     "duration": 0.379273,
     "end_time": "2022-10-03T18:29:32.164467",
     "exception": false,
     "start_time": "2022-10-03T18:29:31.785194",
     "status": "completed"
    },
    "tags": []
   },
   "outputs": [
    {
     "name": "stdout",
     "output_type": "stream",
     "text": [
      "              precision    recall  f1-score   support\n",
      "\n",
      "           0       1.00      1.00      1.00      7109\n",
      "           1       0.80      0.67      0.73        12\n",
      "\n",
      "    accuracy                           1.00      7121\n",
      "   macro avg       0.90      0.83      0.86      7121\n",
      "weighted avg       1.00      1.00      1.00      7121\n",
      "\n"
     ]
    },
    {
     "data": {
      "image/png": "[encoded data removed]",
      "text/plain": [
       "<Figure size 432x288 with 2 Axes>"
      ]
     },
     "metadata": {
      "needs_background": "light"
     },
     "output_type": "display_data"
    },
    {
     "data": {
      "text/plain": [
       "BernoulliNB(alpha=1)"
      ]
     },
     "execution_count": 15,
     "metadata": {},
     "output_type": "execute_result"
    }
   ],
   "source": [
    "execute_ml(BernoulliNB(alpha=1),\n",
    "           X_train, y_train, X_test, y_test)"
   ]
  },
  {
   "cell_type": "markdown",
   "id": "c6ae8f90",
   "metadata": {
    "papermill": {
     "duration": 0.016059,
     "end_time": "2022-10-03T18:29:32.198690",
     "exception": false,
     "start_time": "2022-10-03T18:29:32.182631",
     "status": "completed"
    },
    "tags": []
   },
   "source": [
    "### Random forest"
   ]
  },
  {
   "cell_type": "markdown",
   "id": "b8c1eb3f",
   "metadata": {
    "papermill": {
     "duration": 0.015076,
     "end_time": "2022-10-03T18:29:32.228730",
     "exception": false,
     "start_time": "2022-10-03T18:29:32.213654",
     "status": "completed"
    },
    "tags": []
   },
   "source": [
    "#### Random forest + gini"
   ]
  },
  {
   "cell_type": "code",
   "execution_count": 16,
   "id": "eb5fb63b",
   "metadata": {
    "execution": {
     "iopub.execute_input": "2022-10-03T18:29:32.261605Z",
     "iopub.status.busy": "2022-10-03T18:29:32.261155Z",
     "iopub.status.idle": "2022-10-03T18:29:42.742989Z",
     "shell.execute_reply": "2022-10-03T18:29:42.741839Z"
    },
    "papermill": {
     "duration": 10.500665,
     "end_time": "2022-10-03T18:29:42.745248",
     "exception": false,
     "start_time": "2022-10-03T18:29:32.244583",
     "status": "completed"
    },
    "tags": []
   },
   "outputs": [
    {
     "name": "stdout",
     "output_type": "stream",
     "text": [
      "              precision    recall  f1-score   support\n",
      "\n",
      "           0       1.00      1.00      1.00      7109\n",
      "           1       1.00      0.58      0.74        12\n",
      "\n",
      "    accuracy                           1.00      7121\n",
      "   macro avg       1.00      0.79      0.87      7121\n",
      "weighted avg       1.00      1.00      1.00      7121\n",
      "\n"
     ]
    },
    {
     "data": {
      "image/png": "[encoded data removed]",
      "text/plain": [
       "<Figure size 432x288 with 2 Axes>"
      ]
     },
     "metadata": {
      "needs_background": "light"
     },
     "output_type": "display_data"
    },
    {
     "data": {
      "text/plain": [
       "RandomForestClassifier(max_features='sqrt', random_state=12)"
      ]
     },
     "execution_count": 16,
     "metadata": {},
     "output_type": "execute_result"
    }
   ],
   "source": [
    "execute_ml(RandomForestClassifier(bootstrap = True,\n",
    "                                  max_features = 'sqrt',\n",
    "                                  random_state=12),\n",
    "           X_train, y_train, X_test, y_test)"
   ]
  },
  {
   "cell_type": "markdown",
   "id": "dbb850d2",
   "metadata": {
    "papermill": {
     "duration": 0.01478,
     "end_time": "2022-10-03T18:29:42.775138",
     "exception": false,
     "start_time": "2022-10-03T18:29:42.760358",
     "status": "completed"
    },
    "tags": []
   },
   "source": [
    "#### Random forest + entropy"
   ]
  },
  {
   "cell_type": "code",
   "execution_count": 17,
   "id": "858decf8",
   "metadata": {
    "execution": {
     "iopub.execute_input": "2022-10-03T18:29:42.807334Z",
     "iopub.status.busy": "2022-10-03T18:29:42.806873Z",
     "iopub.status.idle": "2022-10-03T18:29:51.054683Z",
     "shell.execute_reply": "2022-10-03T18:29:51.053442Z"
    },
    "papermill": {
     "duration": 8.266804,
     "end_time": "2022-10-03T18:29:51.057103",
     "exception": false,
     "start_time": "2022-10-03T18:29:42.790299",
     "status": "completed"
    },
    "tags": []
   },
   "outputs": [
    {
     "name": "stdout",
     "output_type": "stream",
     "text": [
      "              precision    recall  f1-score   support\n",
      "\n",
      "           0       1.00      1.00      1.00      7109\n",
      "           1       1.00      0.58      0.74        12\n",
      "\n",
      "    accuracy                           1.00      7121\n",
      "   macro avg       1.00      0.79      0.87      7121\n",
      "weighted avg       1.00      1.00      1.00      7121\n",
      "\n"
     ]
    },
    {
     "data": {
      "image/png": "[encoded data removed]",
      "text/plain": [
       "<Figure size 432x288 with 2 Axes>"
      ]
     },
     "metadata": {
      "needs_background": "light"
     },
     "output_type": "display_data"
    },
    {
     "data": {
      "text/plain": [
       "RandomForestClassifier(criterion='entropy', max_features='sqrt',\n",
       "                       random_state=12)"
      ]
     },
     "execution_count": 17,
     "metadata": {},
     "output_type": "execute_result"
    }
   ],
   "source": [
    "execute_ml(RandomForestClassifier(bootstrap = True,\n",
    "                                  criterion='entropy',\n",
    "                                  max_features = 'sqrt',\n",
    "                                  random_state=12),\n",
    "           X_train, y_train, X_test, y_test)"
   ]
  },
  {
   "cell_type": "markdown",
   "id": "0b879ffc",
   "metadata": {
    "papermill": {
     "duration": 0.015566,
     "end_time": "2022-10-03T18:29:51.088016",
     "exception": false,
     "start_time": "2022-10-03T18:29:51.072450",
     "status": "completed"
    },
    "tags": []
   },
   "source": [
    "### Gradient Boosting classifier"
   ]
  },
  {
   "cell_type": "code",
   "execution_count": 18,
   "id": "3d986e80",
   "metadata": {
    "execution": {
     "iopub.execute_input": "2022-10-03T18:29:51.121647Z",
     "iopub.status.busy": "2022-10-03T18:29:51.121202Z",
     "iopub.status.idle": "2022-10-03T18:30:25.352876Z",
     "shell.execute_reply": "2022-10-03T18:30:25.351607Z"
    },
    "papermill": {
     "duration": 34.251393,
     "end_time": "2022-10-03T18:30:25.355372",
     "exception": false,
     "start_time": "2022-10-03T18:29:51.103979",
     "status": "completed"
    },
    "tags": []
   },
   "outputs": [
    {
     "name": "stderr",
     "output_type": "stream",
     "text": [
      "/opt/conda/lib/python3.7/site-packages/sklearn/metrics/_classification.py:1318: UndefinedMetricWarning: Precision is ill-defined and being set to 0.0 due to no predicted samples. Use `zero_division` parameter to control this behavior.\n",
      "  _warn_prf(average, modifier, msg_start, len(result))\n",
      "/opt/conda/lib/python3.7/site-packages/sklearn/metrics/_classification.py:1318: UndefinedMetricWarning: Precision and F-score are ill-defined and being set to 0.0 in labels with no predicted samples. Use `zero_division` parameter to control this behavior.\n",
      "  _warn_prf(average, modifier, msg_start, len(result))\n",
      "/opt/conda/lib/python3.7/site-packages/sklearn/metrics/_classification.py:1318: UndefinedMetricWarning: Precision and F-score are ill-defined and being set to 0.0 in labels with no predicted samples. Use `zero_division` parameter to control this behavior.\n",
      "  _warn_prf(average, modifier, msg_start, len(result))\n",
      "/opt/conda/lib/python3.7/site-packages/sklearn/metrics/_classification.py:1318: UndefinedMetricWarning: Precision and F-score are ill-defined and being set to 0.0 in labels with no predicted samples. Use `zero_division` parameter to control this behavior.\n",
      "  _warn_prf(average, modifier, msg_start, len(result))\n"
     ]
    },
    {
     "name": "stdout",
     "output_type": "stream",
     "text": [
      "              precision    recall  f1-score   support\n",
      "\n",
      "           0       1.00      1.00      1.00      7109\n",
      "           1       0.00      0.00      0.00        12\n",
      "\n",
      "    accuracy                           1.00      7121\n",
      "   macro avg       0.50      0.50      0.50      7121\n",
      "weighted avg       1.00      1.00      1.00      7121\n",
      "\n"
     ]
    },
    {
     "data": {
      "image/png": "[encoded data removed]",
      "text/plain": [
       "<Figure size 432x288 with 2 Axes>"
      ]
     },
     "metadata": {
      "needs_background": "light"
     },
     "output_type": "display_data"
    },
    {
     "data": {
      "text/plain": [
       "GradientBoostingClassifier()"
      ]
     },
     "execution_count": 18,
     "metadata": {},
     "output_type": "execute_result"
    }
   ],
   "source": [
    "execute_ml(GradientBoostingClassifier(),\n",
    "           X_train, y_train, X_test, y_test)"
   ]
  },
  {
   "cell_type": "markdown",
   "id": "6b60415f",
   "metadata": {
    "papermill": {
     "duration": 0.015662,
     "end_time": "2022-10-03T18:30:25.386960",
     "exception": false,
     "start_time": "2022-10-03T18:30:25.371298",
     "status": "completed"
    },
    "tags": []
   },
   "source": [
    "### AdaBoost classifier"
   ]
  },
  {
   "cell_type": "code",
   "execution_count": 19,
   "id": "84f74ba4",
   "metadata": {
    "execution": {
     "iopub.execute_input": "2022-10-03T18:30:25.420823Z",
     "iopub.status.busy": "2022-10-03T18:30:25.420359Z",
     "iopub.status.idle": "2022-10-03T18:30:54.113071Z",
     "shell.execute_reply": "2022-10-03T18:30:54.111831Z"
    },
    "papermill": {
     "duration": 28.71285,
     "end_time": "2022-10-03T18:30:54.115572",
     "exception": false,
     "start_time": "2022-10-03T18:30:25.402722",
     "status": "completed"
    },
    "tags": []
   },
   "outputs": [
    {
     "name": "stdout",
     "output_type": "stream",
     "text": [
      "              precision    recall  f1-score   support\n",
      "\n",
      "           0       1.00      1.00      1.00      7109\n",
      "           1       1.00      0.67      0.80        12\n",
      "\n",
      "    accuracy                           1.00      7121\n",
      "   macro avg       1.00      0.83      0.90      7121\n",
      "weighted avg       1.00      1.00      1.00      7121\n",
      "\n"
     ]
    },
    {
     "data": {
      "image/png": "[encoded data removed]",
      "text/plain": [
       "<Figure size 432x288 with 2 Axes>"
      ]
     },
     "metadata": {
      "needs_background": "light"
     },
     "output_type": "display_data"
    },
    {
     "data": {
      "text/plain": [
       "AdaBoostClassifier(n_estimators=200, random_state=12)"
      ]
     },
     "execution_count": 19,
     "metadata": {},
     "output_type": "execute_result"
    }
   ],
   "source": [
    "execute_ml(AdaBoostClassifier(n_estimators=200, random_state=12),\n",
    "           X_train, y_train, X_test, y_test)"
   ]
  },
  {
   "cell_type": "markdown",
   "id": "b1b596e6",
   "metadata": {
    "papermill": {
     "duration": 0.01609,
     "end_time": "2022-10-03T18:30:54.148298",
     "exception": false,
     "start_time": "2022-10-03T18:30:54.132208",
     "status": "completed"
    },
    "tags": []
   },
   "source": [
    "### XGBoost classifier"
   ]
  },
  {
   "cell_type": "code",
   "execution_count": 20,
   "id": "43943027",
   "metadata": {
    "execution": {
     "iopub.execute_input": "2022-10-03T18:30:54.185641Z",
     "iopub.status.busy": "2022-10-03T18:30:54.185171Z",
     "iopub.status.idle": "2022-10-03T18:30:59.972257Z",
     "shell.execute_reply": "2022-10-03T18:30:59.970948Z"
    },
    "papermill": {
     "duration": 5.808681,
     "end_time": "2022-10-03T18:30:59.974886",
     "exception": false,
     "start_time": "2022-10-03T18:30:54.166205",
     "status": "completed"
    },
    "tags": []
   },
   "outputs": [
    {
     "name": "stdout",
     "output_type": "stream",
     "text": [
      "[18:30:54] WARNING: ../src/learner.cc:627: \n",
      "Parameters: { \"cv\" } might not be used.\n",
      "\n",
      "  This could be a false alarm, with some parameters getting used by language bindings but\n",
      "  then being mistakenly passed down to XGBoost core, or some parameter actually being used\n",
      "  but getting flagged wrongly here. Please open an issue if you find any such cases.\n",
      "\n",
      "\n",
      "              precision    recall  f1-score   support\n",
      "\n",
      "           0       1.00      1.00      1.00      7109\n",
      "           1       1.00      0.67      0.80        12\n",
      "\n",
      "    accuracy                           1.00      7121\n",
      "   macro avg       1.00      0.83      0.90      7121\n",
      "weighted avg       1.00      1.00      1.00      7121\n",
      "\n"
     ]
    },
    {
     "data": {
      "image/png": "[encoded data removed]",
      "text/plain": [
       "<Figure size 432x288 with 2 Axes>"
      ]
     },
     "metadata": {
      "needs_background": "light"
     },
     "output_type": "display_data"
    },
    {
     "data": {
      "text/plain": [
       "XGBClassifier(base_score=0.5, booster='gbtree', callbacks=None,\n",
       "              colsample_bylevel=1, colsample_bynode=1, colsample_bytree=1,\n",
       "              cv=KFold(n_splits=10, random_state=12, shuffle=True),\n",
       "              early_stopping_rounds=None, enable_categorical=False,\n",
       "              eval_metric=None, gamma=0, gpu_id=-1, grow_policy='depthwise',\n",
       "              importance_type=None, interaction_constraints='',\n",
       "              learning_rate=0.01, max_bin=256, max_cat_to_onehot=4,\n",
       "              max_delta_step=0, max_depth=6, max_leaves=0, min_child_weight=1,\n",
       "              missing=nan, monotone_constraints='()', n_estimators=100,\n",
       "              n_jobs=0, num_parallel_tree=1, predictor='auto', random_state=0,\n",
       "              reg_alpha=0, ...)"
      ]
     },
     "execution_count": 20,
     "metadata": {},
     "output_type": "execute_result"
    }
   ],
   "source": [
    "execute_ml(XGBClassifier(cv=KFold(n_splits=10, random_state=12, shuffle=True),\n",
    "                         learning_rate=0.01),\n",
    "           X_train, y_train, X_test, y_test)"
   ]
  },
  {
   "cell_type": "markdown",
   "id": "bf24e85b",
   "metadata": {
    "papermill": {
     "duration": 0.0169,
     "end_time": "2022-10-03T18:31:00.008952",
     "exception": false,
     "start_time": "2022-10-03T18:30:59.992052",
     "status": "completed"
    },
    "tags": []
   },
   "source": [
    "### SVM"
   ]
  },
  {
   "cell_type": "code",
   "execution_count": 21,
   "id": "2e6306cc",
   "metadata": {
    "execution": {
     "iopub.execute_input": "2022-10-03T18:31:00.046631Z",
     "iopub.status.busy": "2022-10-03T18:31:00.045307Z",
     "iopub.status.idle": "2022-10-03T18:31:00.776315Z",
     "shell.execute_reply": "2022-10-03T18:31:00.775129Z"
    },
    "papermill": {
     "duration": 0.752978,
     "end_time": "2022-10-03T18:31:00.778798",
     "exception": false,
     "start_time": "2022-10-03T18:31:00.025820",
     "status": "completed"
    },
    "tags": []
   },
   "outputs": [
    {
     "name": "stderr",
     "output_type": "stream",
     "text": [
      "/opt/conda/lib/python3.7/site-packages/sklearn/metrics/_classification.py:1318: UndefinedMetricWarning: Precision is ill-defined and being set to 0.0 due to no predicted samples. Use `zero_division` parameter to control this behavior.\n",
      "  _warn_prf(average, modifier, msg_start, len(result))\n",
      "/opt/conda/lib/python3.7/site-packages/sklearn/metrics/_classification.py:1318: UndefinedMetricWarning: Precision and F-score are ill-defined and being set to 0.0 in labels with no predicted samples. Use `zero_division` parameter to control this behavior.\n",
      "  _warn_prf(average, modifier, msg_start, len(result))\n",
      "/opt/conda/lib/python3.7/site-packages/sklearn/metrics/_classification.py:1318: UndefinedMetricWarning: Precision and F-score are ill-defined and being set to 0.0 in labels with no predicted samples. Use `zero_division` parameter to control this behavior.\n",
      "  _warn_prf(average, modifier, msg_start, len(result))\n",
      "/opt/conda/lib/python3.7/site-packages/sklearn/metrics/_classification.py:1318: UndefinedMetricWarning: Precision and F-score are ill-defined and being set to 0.0 in labels with no predicted samples. Use `zero_division` parameter to control this behavior.\n",
      "  _warn_prf(average, modifier, msg_start, len(result))\n"
     ]
    },
    {
     "name": "stdout",
     "output_type": "stream",
     "text": [
      "              precision    recall  f1-score   support\n",
      "\n",
      "           0       1.00      1.00      1.00      7109\n",
      "           1       0.00      0.00      0.00        12\n",
      "\n",
      "    accuracy                           1.00      7121\n",
      "   macro avg       0.50      0.50      0.50      7121\n",
      "weighted avg       1.00      1.00      1.00      7121\n",
      "\n"
     ]
    },
    {
     "data": {
      "image/png": "[encoded data removed]",
      "text/plain": [
       "<Figure size 432x288 with 2 Axes>"
      ]
     },
     "metadata": {
      "needs_background": "light"
     },
     "output_type": "display_data"
    },
    {
     "data": {
      "text/plain": [
       "SVC(random_state=12)"
      ]
     },
     "execution_count": 21,
     "metadata": {},
     "output_type": "execute_result"
    }
   ],
   "source": [
    "execute_ml(svm.SVC(probability=False, random_state=12),\n",
    "           X_train, y_train, X_test, y_test)"
   ]
  },
  {
   "cell_type": "markdown",
   "id": "0882cadb",
   "metadata": {
    "papermill": {
     "duration": 0.016763,
     "end_time": "2022-10-03T18:31:00.812557",
     "exception": false,
     "start_time": "2022-10-03T18:31:00.795794",
     "status": "completed"
    },
    "tags": []
   },
   "source": [
    "### Bagging classifier"
   ]
  },
  {
   "cell_type": "code",
   "execution_count": 22,
   "id": "0b64859e",
   "metadata": {
    "execution": {
     "iopub.execute_input": "2022-10-03T18:31:00.849012Z",
     "iopub.status.busy": "2022-10-03T18:31:00.848019Z",
     "iopub.status.idle": "2022-10-03T18:32:11.104267Z",
     "shell.execute_reply": "2022-10-03T18:32:11.103017Z"
    },
    "papermill": {
     "duration": 70.277579,
     "end_time": "2022-10-03T18:32:11.107167",
     "exception": false,
     "start_time": "2022-10-03T18:31:00.829588",
     "status": "completed"
    },
    "tags": []
   },
   "outputs": [
    {
     "name": "stdout",
     "output_type": "stream",
     "text": [
      "              precision    recall  f1-score   support\n",
      "\n",
      "           0       1.00      1.00      1.00      7109\n",
      "           1       1.00      0.67      0.80        12\n",
      "\n",
      "    accuracy                           1.00      7121\n",
      "   macro avg       1.00      0.83      0.90      7121\n",
      "weighted avg       1.00      1.00      1.00      7121\n",
      "\n"
     ]
    },
    {
     "data": {
      "image/png": "[encoded data removed]",
      "text/plain": [
       "<Figure size 432x288 with 2 Axes>"
      ]
     },
     "metadata": {
      "needs_background": "light"
     },
     "output_type": "display_data"
    },
    {
     "data": {
      "text/plain": [
       "BaggingClassifier(base_estimator=DecisionTreeClassifier(), max_features=0.8,\n",
       "                  max_samples=0.8, n_estimators=200, oob_score=True,\n",
       "                  random_state=12)"
      ]
     },
     "execution_count": 22,
     "metadata": {},
     "output_type": "execute_result"
    }
   ],
   "source": [
    "execute_ml(BaggingClassifier(DecisionTreeClassifier(),\n",
    "                             n_estimators=200,\n",
    "                             max_samples=0.8,\n",
    "                             max_features=0.8,\n",
    "                             oob_score=True,\n",
    "                             random_state=12),\n",
    "           X_train, y_train, X_test, y_test)"
   ]
  },
  {
   "cell_type": "markdown",
   "id": "9b9a78da",
   "metadata": {
    "papermill": {
     "duration": 0.01738,
     "end_time": "2022-10-03T18:32:11.142837",
     "exception": false,
     "start_time": "2022-10-03T18:32:11.125457",
     "status": "completed"
    },
    "tags": []
   },
   "source": [
    "## Evaluation"
   ]
  },
  {
   "cell_type": "code",
   "execution_count": 23,
   "id": "b4331508",
   "metadata": {
    "execution": {
     "iopub.execute_input": "2022-10-03T18:32:11.180351Z",
     "iopub.status.busy": "2022-10-03T18:32:11.179603Z",
     "iopub.status.idle": "2022-10-03T18:32:11.198829Z",
     "shell.execute_reply": "2022-10-03T18:32:11.197572Z"
    },
    "papermill": {
     "duration": 0.040974,
     "end_time": "2022-10-03T18:32:11.201316",
     "exception": false,
     "start_time": "2022-10-03T18:32:11.160342",
     "status": "completed"
    },
    "tags": []
   },
   "outputs": [
    {
     "data": {
      "text/html": [
       "<div>\n",
       "<style scoped>\n",
       "    .dataframe tbody tr th:only-of-type {\n",
       "        vertical-align: middle;\n",
       "    }\n",
       "\n",
       "    .dataframe tbody tr th {\n",
       "        vertical-align: top;\n",
       "    }\n",
       "\n",
       "    .dataframe thead th {\n",
       "        text-align: right;\n",
       "    }\n",
       "</style>\n",
       "<table border=\"1\" class=\"dataframe\">\n",
       "  <thead>\n",
       "    <tr style=\"text-align: right;\">\n",
       "      <th></th>\n",
       "      <th>Model</th>\n",
       "      <th>accuracy score</th>\n",
       "      <th>Precision</th>\n",
       "      <th>Recall</th>\n",
       "      <th>f1_score</th>\n",
       "    </tr>\n",
       "  </thead>\n",
       "  <tbody>\n",
       "    <tr>\n",
       "      <th>0</th>\n",
       "      <td>KNeighborsClassifier</td>\n",
       "      <td>0.998315</td>\n",
       "      <td>0.00</td>\n",
       "      <td>0.000000</td>\n",
       "      <td>0.000000</td>\n",
       "    </tr>\n",
       "    <tr>\n",
       "      <th>1</th>\n",
       "      <td>LogisticRegression</td>\n",
       "      <td>0.998877</td>\n",
       "      <td>0.75</td>\n",
       "      <td>0.500000</td>\n",
       "      <td>0.600000</td>\n",
       "    </tr>\n",
       "    <tr>\n",
       "      <th>2</th>\n",
       "      <td>LogisticRegressionCV</td>\n",
       "      <td>0.998877</td>\n",
       "      <td>0.75</td>\n",
       "      <td>0.500000</td>\n",
       "      <td>0.600000</td>\n",
       "    </tr>\n",
       "    <tr>\n",
       "      <th>3</th>\n",
       "      <td>BernoulliNB</td>\n",
       "      <td>0.999157</td>\n",
       "      <td>0.80</td>\n",
       "      <td>0.666667</td>\n",
       "      <td>0.727273</td>\n",
       "    </tr>\n",
       "    <tr>\n",
       "      <th>4</th>\n",
       "      <td>RandomForestClassifier</td>\n",
       "      <td>0.999298</td>\n",
       "      <td>1.00</td>\n",
       "      <td>0.583333</td>\n",
       "      <td>0.736842</td>\n",
       "    </tr>\n",
       "    <tr>\n",
       "      <th>5</th>\n",
       "      <td>RandomForestClassifier</td>\n",
       "      <td>0.999298</td>\n",
       "      <td>1.00</td>\n",
       "      <td>0.583333</td>\n",
       "      <td>0.736842</td>\n",
       "    </tr>\n",
       "    <tr>\n",
       "      <th>6</th>\n",
       "      <td>GradientBoostingClassifier</td>\n",
       "      <td>0.998315</td>\n",
       "      <td>0.00</td>\n",
       "      <td>0.000000</td>\n",
       "      <td>0.000000</td>\n",
       "    </tr>\n",
       "    <tr>\n",
       "      <th>7</th>\n",
       "      <td>AdaBoostClassifier</td>\n",
       "      <td>0.999438</td>\n",
       "      <td>1.00</td>\n",
       "      <td>0.666667</td>\n",
       "      <td>0.800000</td>\n",
       "    </tr>\n",
       "    <tr>\n",
       "      <th>8</th>\n",
       "      <td>XGBClassifier</td>\n",
       "      <td>0.999438</td>\n",
       "      <td>1.00</td>\n",
       "      <td>0.666667</td>\n",
       "      <td>0.800000</td>\n",
       "    </tr>\n",
       "    <tr>\n",
       "      <th>9</th>\n",
       "      <td>SVC</td>\n",
       "      <td>0.998315</td>\n",
       "      <td>0.00</td>\n",
       "      <td>0.000000</td>\n",
       "      <td>0.000000</td>\n",
       "    </tr>\n",
       "    <tr>\n",
       "      <th>10</th>\n",
       "      <td>BaggingClassifier</td>\n",
       "      <td>0.999438</td>\n",
       "      <td>1.00</td>\n",
       "      <td>0.666667</td>\n",
       "      <td>0.800000</td>\n",
       "    </tr>\n",
       "  </tbody>\n",
       "</table>\n",
       "</div>"
      ],
      "text/plain": [
       "                         Model  accuracy score   Precision    Recall  f1_score\n",
       "0         KNeighborsClassifier        0.998315        0.00  0.000000  0.000000\n",
       "1           LogisticRegression        0.998877        0.75  0.500000  0.600000\n",
       "2         LogisticRegressionCV        0.998877        0.75  0.500000  0.600000\n",
       "3                  BernoulliNB        0.999157        0.80  0.666667  0.727273\n",
       "4       RandomForestClassifier        0.999298        1.00  0.583333  0.736842\n",
       "5       RandomForestClassifier        0.999298        1.00  0.583333  0.736842\n",
       "6   GradientBoostingClassifier        0.998315        0.00  0.000000  0.000000\n",
       "7           AdaBoostClassifier        0.999438        1.00  0.666667  0.800000\n",
       "8                XGBClassifier        0.999438        1.00  0.666667  0.800000\n",
       "9                          SVC        0.998315        0.00  0.000000  0.000000\n",
       "10           BaggingClassifier        0.999438        1.00  0.666667  0.800000"
      ]
     },
     "execution_count": 23,
     "metadata": {},
     "output_type": "execute_result"
    }
   ],
   "source": [
    "evaluation_df"
   ]
  },
  {
   "cell_type": "markdown",
   "id": "71ac43ca",
   "metadata": {
    "papermill": {
     "duration": 0.017113,
     "end_time": "2022-10-03T18:32:11.236096",
     "exception": false,
     "start_time": "2022-10-03T18:32:11.218983",
     "status": "completed"
    },
    "tags": []
   },
   "source": [
    "## Overfit analysis using cross validation\n",
    "\n",
    "Cross validating the training VS testing performance using the selected model. If the measurements are not that far apart means that there is not a considerable overfit."
   ]
  },
  {
   "cell_type": "code",
   "execution_count": 24,
   "id": "bc57e217",
   "metadata": {
    "execution": {
     "iopub.execute_input": "2022-10-03T18:32:11.273480Z",
     "iopub.status.busy": "2022-10-03T18:32:11.273049Z",
     "iopub.status.idle": "2022-10-03T18:32:42.068600Z",
     "shell.execute_reply": "2022-10-03T18:32:42.066915Z"
    },
    "papermill": {
     "duration": 30.817562,
     "end_time": "2022-10-03T18:32:42.071058",
     "exception": false,
     "start_time": "2022-10-03T18:32:11.253496",
     "status": "completed"
    },
    "tags": []
   },
   "outputs": [
    {
     "name": "stderr",
     "output_type": "stream",
     "text": [
      "[Parallel(n_jobs=1)]: Using backend SequentialBackend with 1 concurrent workers.\n",
      "[Parallel(n_jobs=1)]: Done 100 out of 100 | elapsed:    5.9s finished\n",
      "[Parallel(n_jobs=1)]: Using backend SequentialBackend with 1 concurrent workers.\n",
      "[Parallel(n_jobs=1)]: Done 100 out of 100 | elapsed:    0.0s finished\n",
      "[Parallel(n_jobs=1)]: Using backend SequentialBackend with 1 concurrent workers.\n",
      "[Parallel(n_jobs=1)]: Done 100 out of 100 | elapsed:    0.1s finished\n",
      "[Parallel(n_jobs=1)]: Using backend SequentialBackend with 1 concurrent workers.\n",
      "[Parallel(n_jobs=1)]: Done 100 out of 100 | elapsed:    5.6s finished\n",
      "[Parallel(n_jobs=1)]: Using backend SequentialBackend with 1 concurrent workers.\n",
      "[Parallel(n_jobs=1)]: Done 100 out of 100 | elapsed:    0.1s finished\n",
      "[Parallel(n_jobs=1)]: Using backend SequentialBackend with 1 concurrent workers.\n",
      "[Parallel(n_jobs=1)]: Done 100 out of 100 | elapsed:    0.1s finished\n",
      "[Parallel(n_jobs=1)]: Using backend SequentialBackend with 1 concurrent workers.\n",
      "[Parallel(n_jobs=1)]: Done 100 out of 100 | elapsed:    5.3s finished\n",
      "[Parallel(n_jobs=1)]: Using backend SequentialBackend with 1 concurrent workers.\n",
      "[Parallel(n_jobs=1)]: Done 100 out of 100 | elapsed:    0.0s finished\n",
      "[Parallel(n_jobs=1)]: Using backend SequentialBackend with 1 concurrent workers.\n",
      "[Parallel(n_jobs=1)]: Done 100 out of 100 | elapsed:    0.1s finished\n",
      "[Parallel(n_jobs=1)]: Using backend SequentialBackend with 1 concurrent workers.\n",
      "[Parallel(n_jobs=1)]: Done 100 out of 100 | elapsed:    5.8s finished\n",
      "[Parallel(n_jobs=1)]: Using backend SequentialBackend with 1 concurrent workers.\n",
      "[Parallel(n_jobs=1)]: Done 100 out of 100 | elapsed:    0.0s finished\n",
      "[Parallel(n_jobs=1)]: Using backend SequentialBackend with 1 concurrent workers.\n",
      "[Parallel(n_jobs=1)]: Done 100 out of 100 | elapsed:    0.1s finished\n",
      "[Parallel(n_jobs=1)]: Using backend SequentialBackend with 1 concurrent workers.\n",
      "[Parallel(n_jobs=1)]: Done 100 out of 100 | elapsed:    5.7s finished\n",
      "[Parallel(n_jobs=1)]: Using backend SequentialBackend with 1 concurrent workers.\n",
      "[Parallel(n_jobs=1)]: Done 100 out of 100 | elapsed:    0.1s finished\n",
      "[Parallel(n_jobs=1)]: Using backend SequentialBackend with 1 concurrent workers.\n",
      "[Parallel(n_jobs=1)]: Done 100 out of 100 | elapsed:    0.2s finished\n"
     ]
    },
    {
     "data": {
      "text/plain": [
       "{'fit_time': array([6.18719864, 5.88232231, 5.56498623, 6.06885123, 6.03255129]),\n",
       " 'score_time': array([0.05253243, 0.05559063, 0.05242753, 0.05326629, 0.05403376]),\n",
       " 'test_score': array([0.99877107, 0.99929775, 0.99929775, 0.99929775, 0.99929775]),\n",
       " 'train_score': array([1., 1., 1., 1., 1.])}"
      ]
     },
     "execution_count": 24,
     "metadata": {},
     "output_type": "execute_result"
    }
   ],
   "source": [
    "perform_cross_validation(\n",
    "    RandomForestClassifier(bootstrap = True,\n",
    "                           criterion='entropy',\n",
    "                           verbose=1,\n",
    "                           oob_score=True,\n",
    "                           max_features = 'sqrt',\n",
    "                           random_state=12),\n",
    "    X_train, y_train)"
   ]
  },
  {
   "cell_type": "markdown",
   "id": "c69c9d76",
   "metadata": {
    "papermill": {
     "duration": 0.019249,
     "end_time": "2022-10-03T18:32:42.110010",
     "exception": false,
     "start_time": "2022-10-03T18:32:42.090761",
     "status": "completed"
    },
    "tags": []
   },
   "source": [
    "## Threshold tweaking\n",
    "\n",
    "Checking the performance agaist different thresholds (extracted from the ROC curve) in order to find and optimum with regards to the case study (Whether it is more important to classify Positives or Negatives)"
   ]
  },
  {
   "cell_type": "code",
   "execution_count": 25,
   "id": "41bd80f6",
   "metadata": {
    "execution": {
     "iopub.execute_input": "2022-10-03T18:32:42.152372Z",
     "iopub.status.busy": "2022-10-03T18:32:42.151413Z",
     "iopub.status.idle": "2022-10-03T18:33:31.577940Z",
     "shell.execute_reply": "2022-10-03T18:33:31.576934Z"
    },
    "papermill": {
     "duration": 49.450833,
     "end_time": "2022-10-03T18:33:31.580917",
     "exception": false,
     "start_time": "2022-10-03T18:32:42.130084",
     "status": "completed"
    },
    "tags": []
   },
   "outputs": [
    {
     "name": "stdout",
     "output_type": "stream",
     "text": [
      "              precision    recall  f1-score   support\n",
      "\n",
      "           0       1.00      1.00      1.00      7109\n",
      "           1       1.00      0.58      0.74        12\n",
      "\n",
      "    accuracy                           1.00      7121\n",
      "   macro avg       1.00      0.79      0.87      7121\n",
      "weighted avg       1.00      1.00      1.00      7121\n",
      "\n"
     ]
    },
    {
     "data": {
      "image/png": "[encoded data removed]",
      "text/plain": [
       "<Figure size 432x288 with 2 Axes>"
      ]
     },
     "metadata": {
      "needs_background": "light"
     },
     "output_type": "display_data"
    },
    {
     "data": {
      "image/png": "[encoded data removed]",
      "text/plain": [
       "<Figure size 432x288 with 1 Axes>"
      ]
     },
     "metadata": {
      "needs_background": "light"
     },
     "output_type": "display_data"
    },
    {
     "name": "stdout",
     "output_type": "stream",
     "text": [
      "Threshold: 0.100000\n",
      "              precision    recall  f1-score   support\n",
      "\n",
      "           0       1.00      1.00      1.00      7109\n",
      "           1       0.75      0.75      0.75        12\n",
      "\n",
      "    accuracy                           1.00      7121\n",
      "   macro avg       0.87      0.87      0.87      7121\n",
      "weighted avg       1.00      1.00      1.00      7121\n",
      "\n"
     ]
    },
    {
     "data": {
      "image/png": "[encoded data removed]",
      "text/plain": [
       "<Figure size 432x288 with 2 Axes>"
      ]
     },
     "metadata": {
      "needs_background": "light"
     },
     "output_type": "display_data"
    },
    {
     "name": "stdout",
     "output_type": "stream",
     "text": [
      "Threshold: 0.300000\n",
      "              precision    recall  f1-score   support\n",
      "\n",
      "           0       1.00      1.00      1.00      7109\n",
      "           1       1.00      0.67      0.80        12\n",
      "\n",
      "    accuracy                           1.00      7121\n",
      "   macro avg       1.00      0.83      0.90      7121\n",
      "weighted avg       1.00      1.00      1.00      7121\n",
      "\n"
     ]
    },
    {
     "data": {
      "image/png": "[encoded data removed]",
      "text/plain": [
       "<Figure size 432x288 with 2 Axes>"
      ]
     },
     "metadata": {
      "needs_background": "light"
     },
     "output_type": "display_data"
    },
    {
     "name": "stdout",
     "output_type": "stream",
     "text": [
      "Threshold: 0.500000\n",
      "              precision    recall  f1-score   support\n",
      "\n",
      "           0       1.00      1.00      1.00      7109\n",
      "           1       1.00      0.58      0.74        12\n",
      "\n",
      "    accuracy                           1.00      7121\n",
      "   macro avg       1.00      0.79      0.87      7121\n",
      "weighted avg       1.00      1.00      1.00      7121\n",
      "\n"
     ]
    },
    {
     "data": {
      "image/png": "[encoded data removed]",
      "text/plain": [
       "<Figure size 432x288 with 2 Axes>"
      ]
     },
     "metadata": {
      "needs_background": "light"
     },
     "output_type": "display_data"
    },
    {
     "name": "stdout",
     "output_type": "stream",
     "text": [
      "Threshold: 0.700000\n",
      "              precision    recall  f1-score   support\n",
      "\n",
      "           0       1.00      1.00      1.00      7109\n",
      "           1       1.00      0.58      0.74        12\n",
      "\n",
      "    accuracy                           1.00      7121\n",
      "   macro avg       1.00      0.79      0.87      7121\n",
      "weighted avg       1.00      1.00      1.00      7121\n",
      "\n"
     ]
    },
    {
     "data": {
      "image/png": "[encoded data removed]",
      "text/plain": [
       "<Figure size 432x288 with 2 Axes>"
      ]
     },
     "metadata": {
      "needs_background": "light"
     },
     "output_type": "display_data"
    },
    {
     "name": "stdout",
     "output_type": "stream",
     "text": [
      "Threshold: 0.900000\n",
      "              precision    recall  f1-score   support\n",
      "\n",
      "           0       1.00      1.00      1.00      7109\n",
      "           1       1.00      0.08      0.15        12\n",
      "\n",
      "    accuracy                           1.00      7121\n",
      "   macro avg       1.00      0.54      0.58      7121\n",
      "weighted avg       1.00      1.00      1.00      7121\n",
      "\n"
     ]
    },
    {
     "data": {
      "image/png": "[encoded data removed]",
      "text/plain": [
       "<Figure size 432x288 with 2 Axes>"
      ]
     },
     "metadata": {
      "needs_background": "light"
     },
     "output_type": "display_data"
    }
   ],
   "source": [
    "model = execute_ml(RandomForestClassifier(bootstrap = True,\n",
    "                                  criterion='entropy',\n",
    "                                  max_features = 'sqrt',\n",
    "                                  random_state=12),\n",
    "                   X_train, y_train, X_test, y_test)\n",
    "\n",
    "drawROC(model, X_test, y_test)\n",
    "\n",
    "for i in np.arange(0.1,1,0.2):\n",
    "    execute_using_threshold(\n",
    "        RandomForestClassifier(bootstrap = True,\n",
    "                               criterion='entropy',\n",
    "                               max_features = 'sqrt',\n",
    "                               random_state=12),\n",
    "        X_train, y_train,\n",
    "        i)"
   ]
  }
 ],
 "metadata": {
  "kernelspec": {
   "display_name": "Python 3",
   "language": "python",
   "name": "python3"
  },
  "language_info": {
   "codemirror_mode": {
    "name": "ipython",
    "version": 3
   },
   "file_extension": ".py",
   "mimetype": "text/x-python",
   "name": "python",
   "nbconvert_exporter": "python",
   "pygments_lexer": "ipython3",
   "version": "3.7.12"
  },
  "papermill": {
   "default_parameters": {},
   "duration": 285.391344,
   "end_time": "2022-10-03T18:33:32.425038",
   "environment_variables": {},
   "exception": null,
   "input_path": "__notebook__.ipynb",
   "output_path": "__notebook__.ipynb",
   "parameters": {},
   "start_time": "2022-10-03T18:28:47.033694",
   "version": "2.3.4"
  }
 },
 "nbformat": 4,
 "nbformat_minor": 5
}
