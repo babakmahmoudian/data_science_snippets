{
 "cells": [
  {
   "cell_type": "markdown",
   "id": "edce8c6c",
   "metadata": {
    "papermill": {
     "duration": 0.017538,
     "end_time": "2022-10-03T18:16:56.611569",
     "exception": false,
     "start_time": "2022-10-03T18:16:56.594031",
     "status": "completed"
    },
    "tags": []
   },
   "source": [
    "# Data exploration and cleanse"
   ]
  },
  {
   "cell_type": "markdown",
   "id": "676fcb97",
   "metadata": {
    "papermill": {
     "duration": 0.018116,
     "end_time": "2022-10-03T18:16:56.645064",
     "exception": false,
     "start_time": "2022-10-03T18:16:56.626948",
     "status": "completed"
    },
    "tags": []
   },
   "source": [
    "Importing the modules required for data exploration:\n",
    "\n",
    "<ul>\n",
    "    <li>numpy: for arithmatic and matrix operations</li>\n",
    "    <li>pandas: for working with dataset</li>\n",
    "    <li>matplotlib: to plot the graphs</li>\n",
    "</ul>"
   ]
  },
  {
   "cell_type": "code",
   "execution_count": 1,
   "id": "34e36d89",
   "metadata": {
    "_cell_guid": "b1076dfc-b9ad-4769-8c92-a6c4dae69d19",
    "_uuid": "8f2839f25d086af736a60e9eeb907d3b93b6e0e5",
    "execution": {
     "iopub.execute_input": "2022-10-03T18:16:56.678779Z",
     "iopub.status.busy": "2022-10-03T18:16:56.677769Z",
     "iopub.status.idle": "2022-10-03T18:16:56.690552Z",
     "shell.execute_reply": "2022-10-03T18:16:56.689574Z"
    },
    "papermill": {
     "duration": 0.032025,
     "end_time": "2022-10-03T18:16:56.693503",
     "exception": false,
     "start_time": "2022-10-03T18:16:56.661478",
     "status": "completed"
    },
    "tags": []
   },
   "outputs": [],
   "source": [
    "import numpy as np\n",
    "import pandas as pd\n",
    "import matplotlib.pyplot as plt"
   ]
  },
  {
   "cell_type": "markdown",
   "id": "8e211303",
   "metadata": {
    "papermill": {
     "duration": 0.018426,
     "end_time": "2022-10-03T18:16:56.731327",
     "exception": false,
     "start_time": "2022-10-03T18:16:56.712901",
     "status": "completed"
    },
    "tags": []
   },
   "source": [
    "While loading the dataset, the following options may be specified:\n",
    "<ul>\n",
    "    <li>nrows: limit the number of rows read from the files</li>\n",
    "    <li>sep: sets the character other than comma that is used to separate the columns in the file</li>\n",
    "</ul>\n",
    "\n",
    "I.e. to read a tab-delimited instead of comma-delimited:<br>\n",
    "<i>pd.read_csv('path_of_dataset', nrows=500000, sep='\\t')"
   ]
  },
  {
   "cell_type": "code",
   "execution_count": 2,
   "id": "fecd5f87",
   "metadata": {
    "execution": {
     "iopub.execute_input": "2022-10-03T18:16:56.767807Z",
     "iopub.status.busy": "2022-10-03T18:16:56.767371Z",
     "iopub.status.idle": "2022-10-03T18:17:00.153367Z",
     "shell.execute_reply": "2022-10-03T18:17:00.152298Z"
    },
    "papermill": {
     "duration": 3.404513,
     "end_time": "2022-10-03T18:17:00.156087",
     "exception": false,
     "start_time": "2022-10-03T18:16:56.751574",
     "status": "completed"
    },
    "tags": []
   },
   "outputs": [],
   "source": [
    "df = pd.read_csv('/kaggle/input/usa-real-estate-dataset/realtor-data.csv')"
   ]
  },
  {
   "cell_type": "markdown",
   "id": "ec830bb3",
   "metadata": {
    "papermill": {
     "duration": 0.013554,
     "end_time": "2022-10-03T18:17:00.183517",
     "exception": false,
     "start_time": "2022-10-03T18:17:00.169963",
     "status": "completed"
    },
    "tags": []
   },
   "source": [
    "## Dataset"
   ]
  },
  {
   "cell_type": "markdown",
   "id": "24c3b205",
   "metadata": {
    "papermill": {
     "duration": 0.013426,
     "end_time": "2022-10-03T18:17:00.210727",
     "exception": false,
     "start_time": "2022-10-03T18:17:00.197301",
     "status": "completed"
    },
    "tags": []
   },
   "source": [
    "<b>shape</b> is a 2D array that displays the dimensions of the dataset: <i>(number_of_instances, number_of_features)</i>"
   ]
  },
  {
   "cell_type": "code",
   "execution_count": 3,
   "id": "da1162a1",
   "metadata": {
    "execution": {
     "iopub.execute_input": "2022-10-03T18:17:00.241443Z",
     "iopub.status.busy": "2022-10-03T18:17:00.240994Z",
     "iopub.status.idle": "2022-10-03T18:17:00.247207Z",
     "shell.execute_reply": "2022-10-03T18:17:00.245920Z"
    },
    "papermill": {
     "duration": 0.026397,
     "end_time": "2022-10-03T18:17:00.251058",
     "exception": false,
     "start_time": "2022-10-03T18:17:00.224661",
     "status": "completed"
    },
    "tags": []
   },
   "outputs": [
    {
     "name": "stdout",
     "output_type": "stream",
     "text": [
      "The data frame contains 923159 instances and 12 features.\n"
     ]
    }
   ],
   "source": [
    "print(\"The data frame contains %d instances and %d features.\" % df.shape)"
   ]
  },
  {
   "cell_type": "markdown",
   "id": "2fbb423d",
   "metadata": {
    "papermill": {
     "duration": 0.014019,
     "end_time": "2022-10-03T18:17:00.280500",
     "exception": false,
     "start_time": "2022-10-03T18:17:00.266481",
     "status": "completed"
    },
    "tags": []
   },
   "source": [
    "Normally Pandas displays only enough number of columns to fit within the display; Setting the <b>max_columns</b> option overrides this behaviour. Later on, it may be reverted back to default setting by using <b>pd.reset_option('display.max_columns')</b>"
   ]
  },
  {
   "cell_type": "code",
   "execution_count": 4,
   "id": "06dee776",
   "metadata": {
    "execution": {
     "iopub.execute_input": "2022-10-03T18:17:00.311544Z",
     "iopub.status.busy": "2022-10-03T18:17:00.310284Z",
     "iopub.status.idle": "2022-10-03T18:17:00.346414Z",
     "shell.execute_reply": "2022-10-03T18:17:00.345520Z"
    },
    "papermill": {
     "duration": 0.053658,
     "end_time": "2022-10-03T18:17:00.348525",
     "exception": false,
     "start_time": "2022-10-03T18:17:00.294867",
     "status": "completed"
    },
    "tags": []
   },
   "outputs": [
    {
     "data": {
      "text/html": [
       "<div>\n",
       "<style scoped>\n",
       "    .dataframe tbody tr th:only-of-type {\n",
       "        vertical-align: middle;\n",
       "    }\n",
       "\n",
       "    .dataframe tbody tr th {\n",
       "        vertical-align: top;\n",
       "    }\n",
       "\n",
       "    .dataframe thead th {\n",
       "        text-align: right;\n",
       "    }\n",
       "</style>\n",
       "<table border=\"1\" class=\"dataframe\">\n",
       "  <thead>\n",
       "    <tr style=\"text-align: right;\">\n",
       "      <th></th>\n",
       "      <th>status</th>\n",
       "      <th>price</th>\n",
       "      <th>bed</th>\n",
       "      <th>bath</th>\n",
       "      <th>acre_lot</th>\n",
       "      <th>full_address</th>\n",
       "      <th>street</th>\n",
       "      <th>city</th>\n",
       "      <th>state</th>\n",
       "      <th>zip_code</th>\n",
       "      <th>house_size</th>\n",
       "      <th>sold_date</th>\n",
       "    </tr>\n",
       "  </thead>\n",
       "  <tbody>\n",
       "    <tr>\n",
       "      <th>0</th>\n",
       "      <td>for_sale</td>\n",
       "      <td>105000.0</td>\n",
       "      <td>3.0</td>\n",
       "      <td>2.0</td>\n",
       "      <td>0.12</td>\n",
       "      <td>Sector Yahuecas Titulo # V84, Adjuntas, PR, 00601</td>\n",
       "      <td>Sector Yahuecas Titulo # V84</td>\n",
       "      <td>Adjuntas</td>\n",
       "      <td>Puerto Rico</td>\n",
       "      <td>601.0</td>\n",
       "      <td>920.0</td>\n",
       "      <td>NaN</td>\n",
       "    </tr>\n",
       "    <tr>\n",
       "      <th>1</th>\n",
       "      <td>for_sale</td>\n",
       "      <td>80000.0</td>\n",
       "      <td>4.0</td>\n",
       "      <td>2.0</td>\n",
       "      <td>0.08</td>\n",
       "      <td>Km 78 9 Carr # 135, Adjuntas, PR, 00601</td>\n",
       "      <td>Km 78 9 Carr # 135</td>\n",
       "      <td>Adjuntas</td>\n",
       "      <td>Puerto Rico</td>\n",
       "      <td>601.0</td>\n",
       "      <td>1527.0</td>\n",
       "      <td>NaN</td>\n",
       "    </tr>\n",
       "    <tr>\n",
       "      <th>2</th>\n",
       "      <td>for_sale</td>\n",
       "      <td>67000.0</td>\n",
       "      <td>2.0</td>\n",
       "      <td>1.0</td>\n",
       "      <td>0.15</td>\n",
       "      <td>556G 556-G 16 St, Juana Diaz, PR, 00795</td>\n",
       "      <td>556G 556-G 16 St</td>\n",
       "      <td>Juana Diaz</td>\n",
       "      <td>Puerto Rico</td>\n",
       "      <td>795.0</td>\n",
       "      <td>748.0</td>\n",
       "      <td>NaN</td>\n",
       "    </tr>\n",
       "    <tr>\n",
       "      <th>3</th>\n",
       "      <td>for_sale</td>\n",
       "      <td>145000.0</td>\n",
       "      <td>4.0</td>\n",
       "      <td>2.0</td>\n",
       "      <td>0.10</td>\n",
       "      <td>R5 Comunidad El Paraso Calle De Oro R-5 Ponce,...</td>\n",
       "      <td>R5 Comunidad El Paraso Calle De Oro R-5 Ponce</td>\n",
       "      <td>Ponce</td>\n",
       "      <td>Puerto Rico</td>\n",
       "      <td>731.0</td>\n",
       "      <td>1800.0</td>\n",
       "      <td>NaN</td>\n",
       "    </tr>\n",
       "    <tr>\n",
       "      <th>4</th>\n",
       "      <td>for_sale</td>\n",
       "      <td>65000.0</td>\n",
       "      <td>6.0</td>\n",
       "      <td>2.0</td>\n",
       "      <td>0.05</td>\n",
       "      <td>14 Navarro, Mayaguez, PR, 00680</td>\n",
       "      <td>14 Navarro</td>\n",
       "      <td>Mayaguez</td>\n",
       "      <td>Puerto Rico</td>\n",
       "      <td>680.0</td>\n",
       "      <td>NaN</td>\n",
       "      <td>NaN</td>\n",
       "    </tr>\n",
       "  </tbody>\n",
       "</table>\n",
       "</div>"
      ],
      "text/plain": [
       "     status     price  bed  bath  acre_lot  \\\n",
       "0  for_sale  105000.0  3.0   2.0      0.12   \n",
       "1  for_sale   80000.0  4.0   2.0      0.08   \n",
       "2  for_sale   67000.0  2.0   1.0      0.15   \n",
       "3  for_sale  145000.0  4.0   2.0      0.10   \n",
       "4  for_sale   65000.0  6.0   2.0      0.05   \n",
       "\n",
       "                                        full_address  \\\n",
       "0  Sector Yahuecas Titulo # V84, Adjuntas, PR, 00601   \n",
       "1            Km 78 9 Carr # 135, Adjuntas, PR, 00601   \n",
       "2            556G 556-G 16 St, Juana Diaz, PR, 00795   \n",
       "3  R5 Comunidad El Paraso Calle De Oro R-5 Ponce,...   \n",
       "4                    14 Navarro, Mayaguez, PR, 00680   \n",
       "\n",
       "                                          street        city        state  \\\n",
       "0                   Sector Yahuecas Titulo # V84    Adjuntas  Puerto Rico   \n",
       "1                             Km 78 9 Carr # 135    Adjuntas  Puerto Rico   \n",
       "2                               556G 556-G 16 St  Juana Diaz  Puerto Rico   \n",
       "3  R5 Comunidad El Paraso Calle De Oro R-5 Ponce       Ponce  Puerto Rico   \n",
       "4                                     14 Navarro    Mayaguez  Puerto Rico   \n",
       "\n",
       "   zip_code  house_size sold_date  \n",
       "0     601.0       920.0       NaN  \n",
       "1     601.0      1527.0       NaN  \n",
       "2     795.0       748.0       NaN  \n",
       "3     731.0      1800.0       NaN  \n",
       "4     680.0         NaN       NaN  "
      ]
     },
     "execution_count": 4,
     "metadata": {},
     "output_type": "execute_result"
    }
   ],
   "source": [
    "pd.set_option('display.max_columns', None)\n",
    "df.head()"
   ]
  },
  {
   "cell_type": "markdown",
   "id": "799b7e21",
   "metadata": {
    "execution": {
     "iopub.execute_input": "2022-09-27T12:15:29.547672Z",
     "iopub.status.busy": "2022-09-27T12:15:29.547225Z",
     "iopub.status.idle": "2022-09-27T12:15:29.554135Z",
     "shell.execute_reply": "2022-09-27T12:15:29.552969Z",
     "shell.execute_reply.started": "2022-09-27T12:15:29.547637Z"
    },
    "papermill": {
     "duration": 0.014018,
     "end_time": "2022-10-03T18:17:00.377219",
     "exception": false,
     "start_time": "2022-10-03T18:17:00.363201",
     "status": "completed"
    },
    "tags": []
   },
   "source": [
    "<b>describe()</b> returns statistics about numeric features."
   ]
  },
  {
   "cell_type": "code",
   "execution_count": 5,
   "id": "06ae8875",
   "metadata": {
    "execution": {
     "iopub.execute_input": "2022-10-03T18:17:00.406713Z",
     "iopub.status.busy": "2022-10-03T18:17:00.406316Z",
     "iopub.status.idle": "2022-10-03T18:17:00.859230Z",
     "shell.execute_reply": "2022-10-03T18:17:00.858176Z"
    },
    "papermill": {
     "duration": 0.47075,
     "end_time": "2022-10-03T18:17:00.861938",
     "exception": false,
     "start_time": "2022-10-03T18:17:00.391188",
     "status": "completed"
    },
    "tags": []
   },
   "outputs": [
    {
     "data": {
      "text/html": [
       "<div>\n",
       "<style scoped>\n",
       "    .dataframe tbody tr th:only-of-type {\n",
       "        vertical-align: middle;\n",
       "    }\n",
       "\n",
       "    .dataframe tbody tr th {\n",
       "        vertical-align: top;\n",
       "    }\n",
       "\n",
       "    .dataframe thead th {\n",
       "        text-align: right;\n",
       "    }\n",
       "</style>\n",
       "<table border=\"1\" class=\"dataframe\">\n",
       "  <thead>\n",
       "    <tr style=\"text-align: right;\">\n",
       "      <th></th>\n",
       "      <th>price</th>\n",
       "      <th>bed</th>\n",
       "      <th>bath</th>\n",
       "      <th>acre_lot</th>\n",
       "      <th>zip_code</th>\n",
       "      <th>house_size</th>\n",
       "    </tr>\n",
       "  </thead>\n",
       "  <tbody>\n",
       "    <tr>\n",
       "      <th>count</th>\n",
       "      <td>9.230880e+05</td>\n",
       "      <td>791456.000000</td>\n",
       "      <td>807967.000000</td>\n",
       "      <td>649536.000000</td>\n",
       "      <td>922954.000000</td>\n",
       "      <td>6.253160e+05</td>\n",
       "    </tr>\n",
       "    <tr>\n",
       "      <th>mean</th>\n",
       "      <td>8.841225e+05</td>\n",
       "      <td>3.330352</td>\n",
       "      <td>2.488164</td>\n",
       "      <td>17.075888</td>\n",
       "      <td>6590.061523</td>\n",
       "      <td>2.141644e+03</td>\n",
       "    </tr>\n",
       "    <tr>\n",
       "      <th>std</th>\n",
       "      <td>2.623745e+06</td>\n",
       "      <td>2.070402</td>\n",
       "      <td>1.940057</td>\n",
       "      <td>962.322866</td>\n",
       "      <td>3818.208203</td>\n",
       "      <td>3.035327e+03</td>\n",
       "    </tr>\n",
       "    <tr>\n",
       "      <th>min</th>\n",
       "      <td>0.000000e+00</td>\n",
       "      <td>1.000000</td>\n",
       "      <td>1.000000</td>\n",
       "      <td>0.000000</td>\n",
       "      <td>601.000000</td>\n",
       "      <td>1.000000e+02</td>\n",
       "    </tr>\n",
       "    <tr>\n",
       "      <th>25%</th>\n",
       "      <td>2.690000e+05</td>\n",
       "      <td>2.000000</td>\n",
       "      <td>1.000000</td>\n",
       "      <td>0.110000</td>\n",
       "      <td>2919.000000</td>\n",
       "      <td>1.130000e+03</td>\n",
       "    </tr>\n",
       "    <tr>\n",
       "      <th>50%</th>\n",
       "      <td>4.750000e+05</td>\n",
       "      <td>3.000000</td>\n",
       "      <td>2.000000</td>\n",
       "      <td>0.290000</td>\n",
       "      <td>7004.000000</td>\n",
       "      <td>1.651000e+03</td>\n",
       "    </tr>\n",
       "    <tr>\n",
       "      <th>75%</th>\n",
       "      <td>8.399000e+05</td>\n",
       "      <td>4.000000</td>\n",
       "      <td>3.000000</td>\n",
       "      <td>1.150000</td>\n",
       "      <td>10001.000000</td>\n",
       "      <td>2.499000e+03</td>\n",
       "    </tr>\n",
       "    <tr>\n",
       "      <th>max</th>\n",
       "      <td>8.750000e+08</td>\n",
       "      <td>123.000000</td>\n",
       "      <td>198.000000</td>\n",
       "      <td>100000.000000</td>\n",
       "      <td>99999.000000</td>\n",
       "      <td>1.450112e+06</td>\n",
       "    </tr>\n",
       "  </tbody>\n",
       "</table>\n",
       "</div>"
      ],
      "text/plain": [
       "              price            bed           bath       acre_lot  \\\n",
       "count  9.230880e+05  791456.000000  807967.000000  649536.000000   \n",
       "mean   8.841225e+05       3.330352       2.488164      17.075888   \n",
       "std    2.623745e+06       2.070402       1.940057     962.322866   \n",
       "min    0.000000e+00       1.000000       1.000000       0.000000   \n",
       "25%    2.690000e+05       2.000000       1.000000       0.110000   \n",
       "50%    4.750000e+05       3.000000       2.000000       0.290000   \n",
       "75%    8.399000e+05       4.000000       3.000000       1.150000   \n",
       "max    8.750000e+08     123.000000     198.000000  100000.000000   \n",
       "\n",
       "            zip_code    house_size  \n",
       "count  922954.000000  6.253160e+05  \n",
       "mean     6590.061523  2.141644e+03  \n",
       "std      3818.208203  3.035327e+03  \n",
       "min       601.000000  1.000000e+02  \n",
       "25%      2919.000000  1.130000e+03  \n",
       "50%      7004.000000  1.651000e+03  \n",
       "75%     10001.000000  2.499000e+03  \n",
       "max     99999.000000  1.450112e+06  "
      ]
     },
     "execution_count": 5,
     "metadata": {},
     "output_type": "execute_result"
    }
   ],
   "source": [
    "df.describe()"
   ]
  },
  {
   "cell_type": "markdown",
   "id": "4f11db3b",
   "metadata": {
    "papermill": {
     "duration": 0.013826,
     "end_time": "2022-10-03T18:17:00.890405",
     "exception": false,
     "start_time": "2022-10-03T18:17:00.876579",
     "status": "completed"
    },
    "tags": []
   },
   "source": [
    "## Features"
   ]
  },
  {
   "cell_type": "markdown",
   "id": "e0c7920d",
   "metadata": {
    "papermill": {
     "duration": 0.013787,
     "end_time": "2022-10-03T18:17:00.918258",
     "exception": false,
     "start_time": "2022-10-03T18:17:00.904471",
     "status": "completed"
    },
    "tags": []
   },
   "source": [
    "### Exploration"
   ]
  },
  {
   "cell_type": "markdown",
   "id": "795a8c63",
   "metadata": {
    "papermill": {
     "duration": 0.014216,
     "end_time": "2022-10-03T18:17:00.946529",
     "exception": false,
     "start_time": "2022-10-03T18:17:00.932313",
     "status": "completed"
    },
    "tags": []
   },
   "source": [
    "<b>columns</b> stores the list of the feature names.\n",
    "<br>\n",
    "<b>index</b> displays information about the index features.\n",
    "<br>\n",
    "<b>info()</b> lists the features and their respective data types.\n",
    "<br>\n",
    "<b>dtypes</b> is a 2D array that is almost the same as info(), except that it trims the list of features when exceeding some maximum count.\n"
   ]
  },
  {
   "cell_type": "code",
   "execution_count": 6,
   "id": "c9613ea8",
   "metadata": {
    "execution": {
     "iopub.execute_input": "2022-10-03T18:17:00.976533Z",
     "iopub.status.busy": "2022-10-03T18:17:00.976142Z",
     "iopub.status.idle": "2022-10-03T18:17:00.983250Z",
     "shell.execute_reply": "2022-10-03T18:17:00.982099Z"
    },
    "papermill": {
     "duration": 0.024813,
     "end_time": "2022-10-03T18:17:00.985429",
     "exception": false,
     "start_time": "2022-10-03T18:17:00.960616",
     "status": "completed"
    },
    "tags": []
   },
   "outputs": [
    {
     "data": {
      "text/plain": [
       "Index(['status', 'price', 'bed', 'bath', 'acre_lot', 'full_address', 'street',\n",
       "       'city', 'state', 'zip_code', 'house_size', 'sold_date'],\n",
       "      dtype='object')"
      ]
     },
     "execution_count": 6,
     "metadata": {},
     "output_type": "execute_result"
    }
   ],
   "source": [
    "df.columns"
   ]
  },
  {
   "cell_type": "code",
   "execution_count": 7,
   "id": "386aec45",
   "metadata": {
    "execution": {
     "iopub.execute_input": "2022-10-03T18:17:01.015711Z",
     "iopub.status.busy": "2022-10-03T18:17:01.015268Z",
     "iopub.status.idle": "2022-10-03T18:17:01.022649Z",
     "shell.execute_reply": "2022-10-03T18:17:01.021419Z"
    },
    "papermill": {
     "duration": 0.025712,
     "end_time": "2022-10-03T18:17:01.025409",
     "exception": false,
     "start_time": "2022-10-03T18:17:00.999697",
     "status": "completed"
    },
    "tags": []
   },
   "outputs": [
    {
     "data": {
      "text/plain": [
       "RangeIndex(start=0, stop=923159, step=1)"
      ]
     },
     "execution_count": 7,
     "metadata": {},
     "output_type": "execute_result"
    }
   ],
   "source": [
    "df.index"
   ]
  },
  {
   "cell_type": "code",
   "execution_count": 8,
   "id": "47329375",
   "metadata": {
    "execution": {
     "iopub.execute_input": "2022-10-03T18:17:01.057264Z",
     "iopub.status.busy": "2022-10-03T18:17:01.056833Z",
     "iopub.status.idle": "2022-10-03T18:17:01.325847Z",
     "shell.execute_reply": "2022-10-03T18:17:01.324285Z"
    },
    "papermill": {
     "duration": 0.287874,
     "end_time": "2022-10-03T18:17:01.328773",
     "exception": false,
     "start_time": "2022-10-03T18:17:01.040899",
     "status": "completed"
    },
    "tags": []
   },
   "outputs": [
    {
     "name": "stdout",
     "output_type": "stream",
     "text": [
      "<class 'pandas.core.frame.DataFrame'>\n",
      "RangeIndex: 923159 entries, 0 to 923158\n",
      "Data columns (total 12 columns):\n",
      " #   Column        Non-Null Count   Dtype  \n",
      "---  ------        --------------   -----  \n",
      " 0   status        923159 non-null  object \n",
      " 1   price         923088 non-null  float64\n",
      " 2   bed           791456 non-null  float64\n",
      " 3   bath          807967 non-null  float64\n",
      " 4   acre_lot      649536 non-null  float64\n",
      " 5   full_address  923159 non-null  object \n",
      " 6   street        921021 non-null  object \n",
      " 7   city          923085 non-null  object \n",
      " 8   state         923159 non-null  object \n",
      " 9   zip_code      922954 non-null  float64\n",
      " 10  house_size    625316 non-null  float64\n",
      " 11  sold_date     456396 non-null  object \n",
      "dtypes: float64(6), object(6)\n",
      "memory usage: 84.5+ MB\n"
     ]
    }
   ],
   "source": [
    "df.info()"
   ]
  },
  {
   "cell_type": "code",
   "execution_count": 9,
   "id": "3c4a7def",
   "metadata": {
    "execution": {
     "iopub.execute_input": "2022-10-03T18:17:01.363229Z",
     "iopub.status.busy": "2022-10-03T18:17:01.362825Z",
     "iopub.status.idle": "2022-10-03T18:17:01.370942Z",
     "shell.execute_reply": "2022-10-03T18:17:01.369708Z"
    },
    "papermill": {
     "duration": 0.027087,
     "end_time": "2022-10-03T18:17:01.373660",
     "exception": false,
     "start_time": "2022-10-03T18:17:01.346573",
     "status": "completed"
    },
    "tags": []
   },
   "outputs": [
    {
     "data": {
      "text/plain": [
       "status           object\n",
       "price           float64\n",
       "bed             float64\n",
       "bath            float64\n",
       "acre_lot        float64\n",
       "full_address     object\n",
       "street           object\n",
       "city             object\n",
       "state            object\n",
       "zip_code        float64\n",
       "house_size      float64\n",
       "sold_date        object\n",
       "dtype: object"
      ]
     },
     "execution_count": 9,
     "metadata": {},
     "output_type": "execute_result"
    }
   ],
   "source": [
    "df.dtypes"
   ]
  },
  {
   "cell_type": "markdown",
   "id": "89a640e2",
   "metadata": {
    "papermill": {
     "duration": 0.014385,
     "end_time": "2022-10-03T18:17:01.402998",
     "exception": false,
     "start_time": "2022-10-03T18:17:01.388613",
     "status": "completed"
    },
    "tags": []
   },
   "source": [
    "### Values/Frequencies"
   ]
  },
  {
   "cell_type": "code",
   "execution_count": 10,
   "id": "c2ae0cfe",
   "metadata": {
    "execution": {
     "iopub.execute_input": "2022-10-03T18:17:01.435118Z",
     "iopub.status.busy": "2022-10-03T18:17:01.433550Z",
     "iopub.status.idle": "2022-10-03T18:17:01.512194Z",
     "shell.execute_reply": "2022-10-03T18:17:01.511127Z"
    },
    "papermill": {
     "duration": 0.096956,
     "end_time": "2022-10-03T18:17:01.514655",
     "exception": false,
     "start_time": "2022-10-03T18:17:01.417699",
     "status": "completed"
    },
    "tags": []
   },
   "outputs": [
    {
     "data": {
      "text/plain": [
       "array(['Puerto Rico', 'Virgin Islands', 'Massachusetts', 'Connecticut',\n",
       "       'New Hampshire', 'Vermont', 'New Jersey', 'New York',\n",
       "       'South Carolina', 'Tennessee', 'Rhode Island', 'Virginia',\n",
       "       'Wyoming', 'Maine', 'Georgia', 'Pennsylvania', 'West Virginia',\n",
       "       'Delaware'], dtype=object)"
      ]
     },
     "execution_count": 10,
     "metadata": {},
     "output_type": "execute_result"
    }
   ],
   "source": [
    "df['state'].unique()"
   ]
  },
  {
   "cell_type": "code",
   "execution_count": 11,
   "id": "1cc174c5",
   "metadata": {
    "execution": {
     "iopub.execute_input": "2022-10-03T18:17:01.546825Z",
     "iopub.status.busy": "2022-10-03T18:17:01.546403Z",
     "iopub.status.idle": "2022-10-03T18:17:01.611439Z",
     "shell.execute_reply": "2022-10-03T18:17:01.610480Z"
    },
    "papermill": {
     "duration": 0.083738,
     "end_time": "2022-10-03T18:17:01.613656",
     "exception": false,
     "start_time": "2022-10-03T18:17:01.529918",
     "status": "completed"
    },
    "tags": []
   },
   "outputs": [
    {
     "data": {
      "text/plain": [
       "for_sale          921528\n",
       "ready_to_build      1631\n",
       "Name: status, dtype: int64"
      ]
     },
     "execution_count": 11,
     "metadata": {},
     "output_type": "execute_result"
    }
   ],
   "source": [
    "df['status'].value_counts()"
   ]
  },
  {
   "cell_type": "markdown",
   "id": "d4636d7e",
   "metadata": {
    "papermill": {
     "duration": 0.015313,
     "end_time": "2022-10-03T18:17:01.644887",
     "exception": false,
     "start_time": "2022-10-03T18:17:01.629574",
     "status": "completed"
    },
    "tags": []
   },
   "source": [
    "### Stats/Plots"
   ]
  },
  {
   "cell_type": "code",
   "execution_count": 12,
   "id": "23f14fa2",
   "metadata": {
    "execution": {
     "iopub.execute_input": "2022-10-03T18:17:01.676850Z",
     "iopub.status.busy": "2022-10-03T18:17:01.676076Z",
     "iopub.status.idle": "2022-10-03T18:17:01.747085Z",
     "shell.execute_reply": "2022-10-03T18:17:01.745697Z"
    },
    "papermill": {
     "duration": 0.090178,
     "end_time": "2022-10-03T18:17:01.749981",
     "exception": false,
     "start_time": "2022-10-03T18:17:01.659803",
     "status": "completed"
    },
    "tags": []
   },
   "outputs": [
    {
     "data": {
      "text/plain": [
       "count    791456.000000\n",
       "mean          3.330352\n",
       "std           2.070402\n",
       "min           1.000000\n",
       "25%           2.000000\n",
       "50%           3.000000\n",
       "75%           4.000000\n",
       "max         123.000000\n",
       "Name: bed, dtype: float64"
      ]
     },
     "execution_count": 12,
     "metadata": {},
     "output_type": "execute_result"
    }
   ],
   "source": [
    "df.bed.describe()"
   ]
  },
  {
   "cell_type": "code",
   "execution_count": 13,
   "id": "2d4a9b00",
   "metadata": {
    "execution": {
     "iopub.execute_input": "2022-10-03T18:17:01.781915Z",
     "iopub.status.busy": "2022-10-03T18:17:01.781535Z",
     "iopub.status.idle": "2022-10-03T18:17:03.502095Z",
     "shell.execute_reply": "2022-10-03T18:17:03.500966Z"
    },
    "papermill": {
     "duration": 1.739777,
     "end_time": "2022-10-03T18:17:03.504874",
     "exception": false,
     "start_time": "2022-10-03T18:17:01.765097",
     "status": "completed"
    },
    "tags": []
   },
   "outputs": [
    {
     "name": "stdout",
     "output_type": "stream",
     "text": [
      "There are 0 instances with non-integer number of beds\n"
     ]
    }
   ],
   "source": [
    "decimal_beds = df[df['bed'].apply(\n",
    "    lambda x: (not np.isnan(x)) and (not x.is_integer())\n",
    ")].shape[0]\n",
    "\n",
    "print(\"There are %d instances with non-integer number of beds\" % decimal_beds)"
   ]
  },
  {
   "cell_type": "code",
   "execution_count": 14,
   "id": "c4b3cf9f",
   "metadata": {
    "execution": {
     "iopub.execute_input": "2022-10-03T18:17:03.537013Z",
     "iopub.status.busy": "2022-10-03T18:17:03.536590Z",
     "iopub.status.idle": "2022-10-03T18:17:04.142941Z",
     "shell.execute_reply": "2022-10-03T18:17:04.141241Z"
    },
    "papermill": {
     "duration": 0.625632,
     "end_time": "2022-10-03T18:17:04.145617",
     "exception": false,
     "start_time": "2022-10-03T18:17:03.519985",
     "status": "completed"
    },
    "tags": []
   },
   "outputs": [
    {
     "data": {
      "text/plain": [
       "array([[<AxesSubplot:title={'center':'bed'}>,\n",
       "        <AxesSubplot:title={'center':'bath'}>]], dtype=object)"
      ]
     },
     "execution_count": 14,
     "metadata": {},
     "output_type": "execute_result"
    },
    {
     "data": {
      "image/png": "[encoded data removed]",
      "text/plain": [
       "<Figure size 432x288 with 2 Axes>"
      ]
     },
     "metadata": {
      "needs_background": "light"
     },
     "output_type": "display_data"
    }
   ],
   "source": [
    "df[df['bed'] <= 20].hist(['bed', 'bath'])"
   ]
  },
  {
   "cell_type": "code",
   "execution_count": 15,
   "id": "3cfd641a",
   "metadata": {
    "execution": {
     "iopub.execute_input": "2022-10-03T18:17:04.178705Z",
     "iopub.status.busy": "2022-10-03T18:17:04.178221Z",
     "iopub.status.idle": "2022-10-03T18:17:07.466744Z",
     "shell.execute_reply": "2022-10-03T18:17:07.465368Z"
    },
    "papermill": {
     "duration": 3.307987,
     "end_time": "2022-10-03T18:17:07.469368",
     "exception": false,
     "start_time": "2022-10-03T18:17:04.161381",
     "status": "completed"
    },
    "tags": []
   },
   "outputs": [
    {
     "data": {
      "text/plain": [
       "<AxesSubplot:xlabel='index', ylabel='bath'>"
      ]
     },
     "execution_count": 15,
     "metadata": {},
     "output_type": "execute_result"
    },
    {
     "data": {
      "image/png": "[encoded data removed]",
      "text/plain": [
       "<Figure size 432x288 with 1 Axes>"
      ]
     },
     "metadata": {
      "needs_background": "light"
     },
     "output_type": "display_data"
    }
   ],
   "source": [
    "df.reset_index().plot(kind='scatter', x='index', y='bath')"
   ]
  },
  {
   "cell_type": "code",
   "execution_count": 16,
   "id": "5642ac3e",
   "metadata": {
    "execution": {
     "iopub.execute_input": "2022-10-03T18:17:07.504423Z",
     "iopub.status.busy": "2022-10-03T18:17:07.504015Z",
     "iopub.status.idle": "2022-10-03T18:17:08.156907Z",
     "shell.execute_reply": "2022-10-03T18:17:08.155731Z"
    },
    "papermill": {
     "duration": 0.673267,
     "end_time": "2022-10-03T18:17:08.159624",
     "exception": false,
     "start_time": "2022-10-03T18:17:07.486357",
     "status": "completed"
    },
    "tags": []
   },
   "outputs": [
    {
     "data": {
      "text/plain": [
       "<AxesSubplot:xlabel='bed'>"
      ]
     },
     "execution_count": 16,
     "metadata": {},
     "output_type": "execute_result"
    },
    {
     "data": {
      "image/png": "[encoded data removed]",
      "text/plain": [
       "<Figure size 432x288 with 1 Axes>"
      ]
     },
     "metadata": {
      "needs_background": "light"
     },
     "output_type": "display_data"
    }
   ],
   "source": [
    "df[df['bed'] <= 30].groupby('bed').mean().plot(kind='bar', y='bath')"
   ]
  },
  {
   "cell_type": "code",
   "execution_count": 17,
   "id": "ec69286a",
   "metadata": {
    "execution": {
     "iopub.execute_input": "2022-10-03T18:17:08.194039Z",
     "iopub.status.busy": "2022-10-03T18:17:08.193430Z",
     "iopub.status.idle": "2022-10-03T18:17:09.147500Z",
     "shell.execute_reply": "2022-10-03T18:17:09.146192Z"
    },
    "papermill": {
     "duration": 0.974064,
     "end_time": "2022-10-03T18:17:09.149919",
     "exception": false,
     "start_time": "2022-10-03T18:17:08.175855",
     "status": "completed"
    },
    "tags": []
   },
   "outputs": [
    {
     "data": {
      "text/plain": [
       "[Text(0.5, 0, 'No of bedrooms'), Text(0, 0.5, 'mean price (Million USD)')]"
      ]
     },
     "execution_count": 17,
     "metadata": {},
     "output_type": "execute_result"
    },
    {
     "data": {
      "image/png": "[encoded data removed]",
      "text/plain": [
       "<Figure size 432x288 with 1 Axes>"
      ]
     },
     "metadata": {
      "needs_background": "light"
     },
     "output_type": "display_data"
    }
   ],
   "source": [
    "df[df['bed'] <= 10].sort_values('bed').groupby('bed').mean().plot(kind='line', y='price').set(xlabel='No of bedrooms', ylabel='mean price (Million USD)')"
   ]
  },
  {
   "cell_type": "markdown",
   "id": "9ae2d943",
   "metadata": {
    "papermill": {
     "duration": 0.016102,
     "end_time": "2022-10-03T18:17:09.183036",
     "exception": false,
     "start_time": "2022-10-03T18:17:09.166934",
     "status": "completed"
    },
    "tags": []
   },
   "source": [
    "### Sampling"
   ]
  },
  {
   "cell_type": "code",
   "execution_count": 18,
   "id": "16cf0944",
   "metadata": {
    "execution": {
     "iopub.execute_input": "2022-10-03T18:17:09.217895Z",
     "iopub.status.busy": "2022-10-03T18:17:09.217490Z",
     "iopub.status.idle": "2022-10-03T18:17:09.259012Z",
     "shell.execute_reply": "2022-10-03T18:17:09.258188Z"
    },
    "papermill": {
     "duration": 0.061579,
     "end_time": "2022-10-03T18:17:09.261193",
     "exception": false,
     "start_time": "2022-10-03T18:17:09.199614",
     "status": "completed"
    },
    "tags": []
   },
   "outputs": [
    {
     "data": {
      "text/plain": [
       "337751    2020-03-23\n",
       "876905           NaN\n",
       "134932           NaN\n",
       "442728    2014-08-13\n",
       "697651           NaN\n",
       "105694           NaN\n",
       "579282    2000-06-21\n",
       "197516    2006-09-29\n",
       "494858    2020-02-21\n",
       "522188    1986-07-18\n",
       "Name: sold_date, dtype: object"
      ]
     },
     "execution_count": 18,
     "metadata": {},
     "output_type": "execute_result"
    }
   ],
   "source": [
    "df['sold_date'].sample(n=10, random_state=1)"
   ]
  },
  {
   "cell_type": "markdown",
   "id": "ac230c48",
   "metadata": {
    "papermill": {
     "duration": 0.019873,
     "end_time": "2022-10-03T18:17:09.297810",
     "exception": false,
     "start_time": "2022-10-03T18:17:09.277937",
     "status": "completed"
    },
    "tags": []
   },
   "source": [
    "### Type casting"
   ]
  },
  {
   "cell_type": "markdown",
   "id": "04e9595d",
   "metadata": {
    "papermill": {
     "duration": 0.024033,
     "end_time": "2022-10-03T18:17:09.344743",
     "exception": false,
     "start_time": "2022-10-03T18:17:09.320710",
     "status": "completed"
    },
    "tags": []
   },
   "source": [
    "#### Datatime"
   ]
  },
  {
   "cell_type": "code",
   "execution_count": 19,
   "id": "c61ce7d8",
   "metadata": {
    "execution": {
     "iopub.execute_input": "2022-10-03T18:17:09.386900Z",
     "iopub.status.busy": "2022-10-03T18:17:09.386539Z",
     "iopub.status.idle": "2022-10-03T18:17:09.551788Z",
     "shell.execute_reply": "2022-10-03T18:17:09.550546Z"
    },
    "papermill": {
     "duration": 0.19079,
     "end_time": "2022-10-03T18:17:09.554735",
     "exception": false,
     "start_time": "2022-10-03T18:17:09.363945",
     "status": "completed"
    },
    "tags": []
   },
   "outputs": [],
   "source": [
    "df['sold_date'] = pd.to_datetime(df['sold_date'])"
   ]
  },
  {
   "cell_type": "markdown",
   "id": "9ce91265",
   "metadata": {
    "papermill": {
     "duration": 0.016537,
     "end_time": "2022-10-03T18:17:09.588189",
     "exception": false,
     "start_time": "2022-10-03T18:17:09.571652",
     "status": "completed"
    },
    "tags": []
   },
   "source": [
    "#### String to numerical"
   ]
  },
  {
   "cell_type": "code",
   "execution_count": 20,
   "id": "917c3196",
   "metadata": {
    "execution": {
     "iopub.execute_input": "2022-10-03T18:17:09.624167Z",
     "iopub.status.busy": "2022-10-03T18:17:09.623713Z",
     "iopub.status.idle": "2022-10-03T18:17:09.632445Z",
     "shell.execute_reply": "2022-10-03T18:17:09.631042Z"
    },
    "papermill": {
     "duration": 0.03041,
     "end_time": "2022-10-03T18:17:09.635317",
     "exception": false,
     "start_time": "2022-10-03T18:17:09.604907",
     "status": "completed"
    },
    "tags": []
   },
   "outputs": [],
   "source": [
    "df['bed'] = pd.to_numeric(df['bed'], errors='coerce')"
   ]
  },
  {
   "cell_type": "code",
   "execution_count": 21,
   "id": "b90189c0",
   "metadata": {
    "execution": {
     "iopub.execute_input": "2022-10-03T18:17:09.674443Z",
     "iopub.status.busy": "2022-10-03T18:17:09.673923Z",
     "iopub.status.idle": "2022-10-03T18:17:09.686157Z",
     "shell.execute_reply": "2022-10-03T18:17:09.684936Z"
    },
    "papermill": {
     "duration": 0.036098,
     "end_time": "2022-10-03T18:17:09.688728",
     "exception": false,
     "start_time": "2022-10-03T18:17:09.652630",
     "status": "completed"
    },
    "tags": []
   },
   "outputs": [],
   "source": [
    "df['bath'] = df['bath'].astype('float')"
   ]
  },
  {
   "cell_type": "markdown",
   "id": "4b79dffa",
   "metadata": {
    "papermill": {
     "duration": 0.01738,
     "end_time": "2022-10-03T18:17:09.723394",
     "exception": false,
     "start_time": "2022-10-03T18:17:09.706014",
     "status": "completed"
    },
    "tags": []
   },
   "source": [
    "#### Categorical data encoding\n",
    "\n",
    "The LabelEncoder instance is kept in a variable (in the following code: <i>le</i>), so that later it can be used to revert the column back to its original values.\n",
    "Another approach is to encode the column into a new variable:\n",
    "<br>\n",
    "<i>df['status_encoded'] = LabelEncoder().fit_transform(df['status'])</i>"
   ]
  },
  {
   "cell_type": "code",
   "execution_count": 22,
   "id": "7a0988a1",
   "metadata": {
    "execution": {
     "iopub.execute_input": "2022-10-03T18:17:09.760462Z",
     "iopub.status.busy": "2022-10-03T18:17:09.759994Z",
     "iopub.status.idle": "2022-10-03T18:17:11.132999Z",
     "shell.execute_reply": "2022-10-03T18:17:11.132165Z"
    },
    "papermill": {
     "duration": 1.394628,
     "end_time": "2022-10-03T18:17:11.135858",
     "exception": false,
     "start_time": "2022-10-03T18:17:09.741230",
     "status": "completed"
    },
    "tags": []
   },
   "outputs": [
    {
     "data": {
      "text/plain": [
       "0    921528\n",
       "1      1631\n",
       "Name: status, dtype: int64"
      ]
     },
     "execution_count": 22,
     "metadata": {},
     "output_type": "execute_result"
    }
   ],
   "source": [
    "from sklearn.preprocessing import LabelEncoder\n",
    "\n",
    "le = LabelEncoder()\n",
    "\n",
    "df['status'] = le.fit_transform(df['status'])\n",
    "df['status'].value_counts()"
   ]
  },
  {
   "cell_type": "code",
   "execution_count": 23,
   "id": "f869732e",
   "metadata": {
    "execution": {
     "iopub.execute_input": "2022-10-03T18:17:11.172760Z",
     "iopub.status.busy": "2022-10-03T18:17:11.172360Z",
     "iopub.status.idle": "2022-10-03T18:17:11.257806Z",
     "shell.execute_reply": "2022-10-03T18:17:11.256655Z"
    },
    "papermill": {
     "duration": 0.106511,
     "end_time": "2022-10-03T18:17:11.260025",
     "exception": false,
     "start_time": "2022-10-03T18:17:11.153514",
     "status": "completed"
    },
    "tags": []
   },
   "outputs": [
    {
     "data": {
      "text/plain": [
       "for_sale          921528\n",
       "ready_to_build      1631\n",
       "Name: status, dtype: int64"
      ]
     },
     "execution_count": 23,
     "metadata": {},
     "output_type": "execute_result"
    }
   ],
   "source": [
    "df['status'] = le.inverse_transform(df['status'])\n",
    "df['status'].value_counts()"
   ]
  },
  {
   "cell_type": "markdown",
   "id": "997cb5c8",
   "metadata": {
    "papermill": {
     "duration": 0.017028,
     "end_time": "2022-10-03T18:17:11.294569",
     "exception": false,
     "start_time": "2022-10-03T18:17:11.277541",
     "status": "completed"
    },
    "tags": []
   },
   "source": [
    "## Missing values"
   ]
  },
  {
   "cell_type": "markdown",
   "id": "11e6d62f",
   "metadata": {
    "papermill": {
     "duration": 0.016767,
     "end_time": "2022-10-03T18:17:11.328443",
     "exception": false,
     "start_time": "2022-10-03T18:17:11.311676",
     "status": "completed"
    },
    "tags": []
   },
   "source": [
    "### Exploring NaNs"
   ]
  },
  {
   "cell_type": "markdown",
   "id": "9894af39",
   "metadata": {
    "papermill": {
     "duration": 0.016809,
     "end_time": "2022-10-03T18:17:11.363416",
     "exception": false,
     "start_time": "2022-10-03T18:17:11.346607",
     "status": "completed"
    },
    "tags": []
   },
   "source": [
    "<b>isna().sum()</b> is used to display the total number of NaN values in each feature."
   ]
  },
  {
   "cell_type": "code",
   "execution_count": 24,
   "id": "dc34f133",
   "metadata": {
    "execution": {
     "iopub.execute_input": "2022-10-03T18:17:11.399543Z",
     "iopub.status.busy": "2022-10-03T18:17:11.399155Z",
     "iopub.status.idle": "2022-10-03T18:17:11.619342Z",
     "shell.execute_reply": "2022-10-03T18:17:11.617994Z"
    },
    "papermill": {
     "duration": 0.241581,
     "end_time": "2022-10-03T18:17:11.622155",
     "exception": false,
     "start_time": "2022-10-03T18:17:11.380574",
     "status": "completed"
    },
    "tags": []
   },
   "outputs": [
    {
     "name": "stdout",
     "output_type": "stream",
     "text": [
      "status               0\n",
      "price               71\n",
      "bed             131703\n",
      "bath            115192\n",
      "acre_lot        273623\n",
      "full_address         0\n",
      "street            2138\n",
      "city                74\n",
      "state                0\n",
      "zip_code           205\n",
      "house_size      297843\n",
      "sold_date       466763\n",
      "dtype: int64\n"
     ]
    }
   ],
   "source": [
    "print(df.isna().sum())"
   ]
  },
  {
   "cell_type": "code",
   "execution_count": 25,
   "id": "d5a6ef14",
   "metadata": {
    "execution": {
     "iopub.execute_input": "2022-10-03T18:17:11.658934Z",
     "iopub.status.busy": "2022-10-03T18:17:11.658509Z",
     "iopub.status.idle": "2022-10-03T18:17:11.818865Z",
     "shell.execute_reply": "2022-10-03T18:17:11.817700Z"
    },
    "papermill": {
     "duration": 0.181481,
     "end_time": "2022-10-03T18:17:11.821138",
     "exception": false,
     "start_time": "2022-10-03T18:17:11.639657",
     "status": "completed"
    },
    "tags": []
   },
   "outputs": [
    {
     "data": {
      "text/html": [
       "<div>\n",
       "<style scoped>\n",
       "    .dataframe tbody tr th:only-of-type {\n",
       "        vertical-align: middle;\n",
       "    }\n",
       "\n",
       "    .dataframe tbody tr th {\n",
       "        vertical-align: top;\n",
       "    }\n",
       "\n",
       "    .dataframe thead th {\n",
       "        text-align: right;\n",
       "    }\n",
       "</style>\n",
       "<table border=\"1\" class=\"dataframe\">\n",
       "  <thead>\n",
       "    <tr style=\"text-align: right;\">\n",
       "      <th></th>\n",
       "      <th>status</th>\n",
       "      <th>price</th>\n",
       "      <th>bed</th>\n",
       "      <th>bath</th>\n",
       "      <th>acre_lot</th>\n",
       "      <th>full_address</th>\n",
       "      <th>street</th>\n",
       "      <th>city</th>\n",
       "      <th>state</th>\n",
       "      <th>zip_code</th>\n",
       "      <th>house_size</th>\n",
       "      <th>sold_date</th>\n",
       "    </tr>\n",
       "  </thead>\n",
       "  <tbody>\n",
       "    <tr>\n",
       "      <th>619434</th>\n",
       "      <td>ready_to_build</td>\n",
       "      <td>NaN</td>\n",
       "      <td>4.0</td>\n",
       "      <td>NaN</td>\n",
       "      <td>NaN</td>\n",
       "      <td>141 Hartford Road, Medford, NJ, 08055</td>\n",
       "      <td>141 Hartford Road</td>\n",
       "      <td>Medford</td>\n",
       "      <td>New Jersey</td>\n",
       "      <td>8055.0</td>\n",
       "      <td>2244.0</td>\n",
       "      <td>NaT</td>\n",
       "    </tr>\n",
       "    <tr>\n",
       "      <th>619444</th>\n",
       "      <td>ready_to_build</td>\n",
       "      <td>NaN</td>\n",
       "      <td>3.0</td>\n",
       "      <td>NaN</td>\n",
       "      <td>NaN</td>\n",
       "      <td>1 Naples Lane, Mount Laurel, NJ, 08054</td>\n",
       "      <td>1 Naples Lane</td>\n",
       "      <td>Mount Laurel</td>\n",
       "      <td>New Jersey</td>\n",
       "      <td>8054.0</td>\n",
       "      <td>2224.0</td>\n",
       "      <td>NaT</td>\n",
       "    </tr>\n",
       "    <tr>\n",
       "      <th>619445</th>\n",
       "      <td>ready_to_build</td>\n",
       "      <td>NaN</td>\n",
       "      <td>3.0</td>\n",
       "      <td>NaN</td>\n",
       "      <td>NaN</td>\n",
       "      <td>1 Naples Lane, Mount Laurel, NJ, 08054</td>\n",
       "      <td>1 Naples Lane</td>\n",
       "      <td>Mount Laurel</td>\n",
       "      <td>New Jersey</td>\n",
       "      <td>8054.0</td>\n",
       "      <td>2270.0</td>\n",
       "      <td>NaT</td>\n",
       "    </tr>\n",
       "    <tr>\n",
       "      <th>620249</th>\n",
       "      <td>ready_to_build</td>\n",
       "      <td>NaN</td>\n",
       "      <td>2.0</td>\n",
       "      <td>NaN</td>\n",
       "      <td>NaN</td>\n",
       "      <td>4300 Bridgeboro Road, Moorestown, NJ, 08057</td>\n",
       "      <td>4300 Bridgeboro Road</td>\n",
       "      <td>Moorestown</td>\n",
       "      <td>New Jersey</td>\n",
       "      <td>8057.0</td>\n",
       "      <td>1748.0</td>\n",
       "      <td>NaT</td>\n",
       "    </tr>\n",
       "    <tr>\n",
       "      <th>620325</th>\n",
       "      <td>ready_to_build</td>\n",
       "      <td>NaN</td>\n",
       "      <td>2.0</td>\n",
       "      <td>NaN</td>\n",
       "      <td>NaN</td>\n",
       "      <td>4300 Bridgeboro Road, Moorestown, NJ, 08057</td>\n",
       "      <td>4300 Bridgeboro Road</td>\n",
       "      <td>Moorestown</td>\n",
       "      <td>New Jersey</td>\n",
       "      <td>8057.0</td>\n",
       "      <td>1865.0</td>\n",
       "      <td>NaT</td>\n",
       "    </tr>\n",
       "    <tr>\n",
       "      <th>...</th>\n",
       "      <td>...</td>\n",
       "      <td>...</td>\n",
       "      <td>...</td>\n",
       "      <td>...</td>\n",
       "      <td>...</td>\n",
       "      <td>...</td>\n",
       "      <td>...</td>\n",
       "      <td>...</td>\n",
       "      <td>...</td>\n",
       "      <td>...</td>\n",
       "      <td>...</td>\n",
       "      <td>...</td>\n",
       "    </tr>\n",
       "    <tr>\n",
       "      <th>685698</th>\n",
       "      <td>ready_to_build</td>\n",
       "      <td>NaN</td>\n",
       "      <td>5.0</td>\n",
       "      <td>NaN</td>\n",
       "      <td>NaN</td>\n",
       "      <td>1219 Pimpernell Path, Middletown, DE, 19709</td>\n",
       "      <td>1219 Pimpernell Path</td>\n",
       "      <td>Middletown</td>\n",
       "      <td>Delaware</td>\n",
       "      <td>19709.0</td>\n",
       "      <td>2511.0</td>\n",
       "      <td>NaT</td>\n",
       "    </tr>\n",
       "    <tr>\n",
       "      <th>685699</th>\n",
       "      <td>ready_to_build</td>\n",
       "      <td>NaN</td>\n",
       "      <td>5.0</td>\n",
       "      <td>NaN</td>\n",
       "      <td>NaN</td>\n",
       "      <td>1219 Pimpernell Path, Middletown, DE, 19709</td>\n",
       "      <td>1219 Pimpernell Path</td>\n",
       "      <td>Middletown</td>\n",
       "      <td>Delaware</td>\n",
       "      <td>19709.0</td>\n",
       "      <td>2814.0</td>\n",
       "      <td>NaT</td>\n",
       "    </tr>\n",
       "    <tr>\n",
       "      <th>701728</th>\n",
       "      <td>ready_to_build</td>\n",
       "      <td>NaN</td>\n",
       "      <td>3.0</td>\n",
       "      <td>NaN</td>\n",
       "      <td>NaN</td>\n",
       "      <td>Levis Drive &amp; S Martin Ave, Mount Holly, NJ, 0...</td>\n",
       "      <td>Levis Drive &amp; S Martin Ave</td>\n",
       "      <td>Mount Holly</td>\n",
       "      <td>New Jersey</td>\n",
       "      <td>8060.0</td>\n",
       "      <td>2208.0</td>\n",
       "      <td>NaT</td>\n",
       "    </tr>\n",
       "    <tr>\n",
       "      <th>702663</th>\n",
       "      <td>ready_to_build</td>\n",
       "      <td>NaN</td>\n",
       "      <td>4.0</td>\n",
       "      <td>NaN</td>\n",
       "      <td>NaN</td>\n",
       "      <td>141 Hartford Road, Medford, NJ, 08055</td>\n",
       "      <td>141 Hartford Road</td>\n",
       "      <td>Medford</td>\n",
       "      <td>New Jersey</td>\n",
       "      <td>8055.0</td>\n",
       "      <td>2244.0</td>\n",
       "      <td>NaT</td>\n",
       "    </tr>\n",
       "    <tr>\n",
       "      <th>703119</th>\n",
       "      <td>ready_to_build</td>\n",
       "      <td>NaN</td>\n",
       "      <td>3.0</td>\n",
       "      <td>NaN</td>\n",
       "      <td>NaN</td>\n",
       "      <td>Levis Drive &amp; S Martin Ave, Mount Holly, NJ, 0...</td>\n",
       "      <td>Levis Drive &amp; S Martin Ave</td>\n",
       "      <td>Mount Holly</td>\n",
       "      <td>New Jersey</td>\n",
       "      <td>8060.0</td>\n",
       "      <td>2208.0</td>\n",
       "      <td>NaT</td>\n",
       "    </tr>\n",
       "  </tbody>\n",
       "</table>\n",
       "<p>71 rows × 12 columns</p>\n",
       "</div>"
      ],
      "text/plain": [
       "                status  price  bed  bath  acre_lot  \\\n",
       "619434  ready_to_build    NaN  4.0   NaN       NaN   \n",
       "619444  ready_to_build    NaN  3.0   NaN       NaN   \n",
       "619445  ready_to_build    NaN  3.0   NaN       NaN   \n",
       "620249  ready_to_build    NaN  2.0   NaN       NaN   \n",
       "620325  ready_to_build    NaN  2.0   NaN       NaN   \n",
       "...                ...    ...  ...   ...       ...   \n",
       "685698  ready_to_build    NaN  5.0   NaN       NaN   \n",
       "685699  ready_to_build    NaN  5.0   NaN       NaN   \n",
       "701728  ready_to_build    NaN  3.0   NaN       NaN   \n",
       "702663  ready_to_build    NaN  4.0   NaN       NaN   \n",
       "703119  ready_to_build    NaN  3.0   NaN       NaN   \n",
       "\n",
       "                                             full_address  \\\n",
       "619434              141 Hartford Road, Medford, NJ, 08055   \n",
       "619444             1 Naples Lane, Mount Laurel, NJ, 08054   \n",
       "619445             1 Naples Lane, Mount Laurel, NJ, 08054   \n",
       "620249        4300 Bridgeboro Road, Moorestown, NJ, 08057   \n",
       "620325        4300 Bridgeboro Road, Moorestown, NJ, 08057   \n",
       "...                                                   ...   \n",
       "685698        1219 Pimpernell Path, Middletown, DE, 19709   \n",
       "685699        1219 Pimpernell Path, Middletown, DE, 19709   \n",
       "701728  Levis Drive & S Martin Ave, Mount Holly, NJ, 0...   \n",
       "702663              141 Hartford Road, Medford, NJ, 08055   \n",
       "703119  Levis Drive & S Martin Ave, Mount Holly, NJ, 0...   \n",
       "\n",
       "                            street          city       state  zip_code  \\\n",
       "619434           141 Hartford Road       Medford  New Jersey    8055.0   \n",
       "619444               1 Naples Lane  Mount Laurel  New Jersey    8054.0   \n",
       "619445               1 Naples Lane  Mount Laurel  New Jersey    8054.0   \n",
       "620249        4300 Bridgeboro Road    Moorestown  New Jersey    8057.0   \n",
       "620325        4300 Bridgeboro Road    Moorestown  New Jersey    8057.0   \n",
       "...                            ...           ...         ...       ...   \n",
       "685698        1219 Pimpernell Path    Middletown    Delaware   19709.0   \n",
       "685699        1219 Pimpernell Path    Middletown    Delaware   19709.0   \n",
       "701728  Levis Drive & S Martin Ave   Mount Holly  New Jersey    8060.0   \n",
       "702663           141 Hartford Road       Medford  New Jersey    8055.0   \n",
       "703119  Levis Drive & S Martin Ave   Mount Holly  New Jersey    8060.0   \n",
       "\n",
       "        house_size sold_date  \n",
       "619434      2244.0       NaT  \n",
       "619444      2224.0       NaT  \n",
       "619445      2270.0       NaT  \n",
       "620249      1748.0       NaT  \n",
       "620325      1865.0       NaT  \n",
       "...            ...       ...  \n",
       "685698      2511.0       NaT  \n",
       "685699      2814.0       NaT  \n",
       "701728      2208.0       NaT  \n",
       "702663      2244.0       NaT  \n",
       "703119      2208.0       NaT  \n",
       "\n",
       "[71 rows x 12 columns]"
      ]
     },
     "execution_count": 25,
     "metadata": {},
     "output_type": "execute_result"
    }
   ],
   "source": [
    "df[df['price'].isna()]"
   ]
  },
  {
   "cell_type": "markdown",
   "id": "73f86f7b",
   "metadata": {
    "papermill": {
     "duration": 0.017128,
     "end_time": "2022-10-03T18:17:11.855891",
     "exception": false,
     "start_time": "2022-10-03T18:17:11.838763",
     "status": "completed"
    },
    "tags": []
   },
   "source": [
    "We can cross several features with each other to deduce patterns. I.e. the below code (empty resultset) tells us that all the houses with missing 'price' feature are missing 'sold_date' as well."
   ]
  },
  {
   "cell_type": "code",
   "execution_count": 26,
   "id": "deb94d87",
   "metadata": {
    "execution": {
     "iopub.execute_input": "2022-10-03T18:17:11.893006Z",
     "iopub.status.busy": "2022-10-03T18:17:11.891864Z",
     "iopub.status.idle": "2022-10-03T18:17:11.908486Z",
     "shell.execute_reply": "2022-10-03T18:17:11.907483Z"
    },
    "papermill": {
     "duration": 0.037456,
     "end_time": "2022-10-03T18:17:11.910744",
     "exception": false,
     "start_time": "2022-10-03T18:17:11.873288",
     "status": "completed"
    },
    "tags": []
   },
   "outputs": [
    {
     "data": {
      "text/html": [
       "<div>\n",
       "<style scoped>\n",
       "    .dataframe tbody tr th:only-of-type {\n",
       "        vertical-align: middle;\n",
       "    }\n",
       "\n",
       "    .dataframe tbody tr th {\n",
       "        vertical-align: top;\n",
       "    }\n",
       "\n",
       "    .dataframe thead th {\n",
       "        text-align: right;\n",
       "    }\n",
       "</style>\n",
       "<table border=\"1\" class=\"dataframe\">\n",
       "  <thead>\n",
       "    <tr style=\"text-align: right;\">\n",
       "      <th></th>\n",
       "      <th>status</th>\n",
       "      <th>price</th>\n",
       "      <th>bed</th>\n",
       "      <th>bath</th>\n",
       "      <th>acre_lot</th>\n",
       "      <th>full_address</th>\n",
       "      <th>street</th>\n",
       "      <th>city</th>\n",
       "      <th>state</th>\n",
       "      <th>zip_code</th>\n",
       "      <th>house_size</th>\n",
       "      <th>sold_date</th>\n",
       "    </tr>\n",
       "  </thead>\n",
       "  <tbody>\n",
       "  </tbody>\n",
       "</table>\n",
       "</div>"
      ],
      "text/plain": [
       "Empty DataFrame\n",
       "Columns: [status, price, bed, bath, acre_lot, full_address, street, city, state, zip_code, house_size, sold_date]\n",
       "Index: []"
      ]
     },
     "execution_count": 26,
     "metadata": {},
     "output_type": "execute_result"
    }
   ],
   "source": [
    "df[(~ df['sold_date'].isna()) & (df['price'].isna())]"
   ]
  },
  {
   "cell_type": "markdown",
   "id": "f6713fd8",
   "metadata": {
    "papermill": {
     "duration": 0.017255,
     "end_time": "2022-10-03T18:17:11.945814",
     "exception": false,
     "start_time": "2022-10-03T18:17:11.928559",
     "status": "completed"
    },
    "tags": []
   },
   "source": [
    "### Dealing with NaNs"
   ]
  },
  {
   "cell_type": "markdown",
   "id": "1edc9ac7",
   "metadata": {
    "papermill": {
     "duration": 0.017473,
     "end_time": "2022-10-03T18:17:11.982357",
     "exception": false,
     "start_time": "2022-10-03T18:17:11.964884",
     "status": "completed"
    },
    "tags": []
   },
   "source": [
    "<b>Approach 1:</b>\n",
    "Dropping the corresponding instances:\n",
    "<br>\n",
    "<i>df.dropna(axis='index', how='any|all', thresh=min_number_of_non_na_in_row, inplace=True|False)</i>\n",
    "\n",
    "The code below drops any instance with 4 or more NaNs."
   ]
  },
  {
   "cell_type": "code",
   "execution_count": 27,
   "id": "b6ceb322",
   "metadata": {
    "execution": {
     "iopub.execute_input": "2022-10-03T18:17:12.019551Z",
     "iopub.status.busy": "2022-10-03T18:17:12.019120Z",
     "iopub.status.idle": "2022-10-03T18:17:12.365610Z",
     "shell.execute_reply": "2022-10-03T18:17:12.364141Z"
    },
    "papermill": {
     "duration": 0.368193,
     "end_time": "2022-10-03T18:17:12.368095",
     "exception": false,
     "start_time": "2022-10-03T18:17:11.999902",
     "status": "completed"
    },
    "tags": []
   },
   "outputs": [
    {
     "name": "stdout",
     "output_type": "stream",
     "text": [
      "Total instances being dropped: 2238\n"
     ]
    }
   ],
   "source": [
    "df_na_dropped = df.dropna(axis='index', thresh=8, inplace=False)\n",
    "print(\"Total instances being dropped: %d\" % (df.shape[0] - df_na_dropped.shape[0]))"
   ]
  },
  {
   "cell_type": "markdown",
   "id": "75d5055d",
   "metadata": {
    "papermill": {
     "duration": 0.017609,
     "end_time": "2022-10-03T18:17:12.403488",
     "exception": false,
     "start_time": "2022-10-03T18:17:12.385879",
     "status": "completed"
    },
    "tags": []
   },
   "source": [
    "<b>Approach 2:</b>\n",
    "Dropping the corresponding features:\n",
    "<br>\n",
    "<i>df.dropna(axis='columns', how='any|all', thresh=min_number_of_non_na_in_feature, subset=['feature1', 'feature2', ...], inplace=True|False)</i>\n",
    "\n",
    "The code below drops any feature half of which's values are NaNs"
   ]
  },
  {
   "cell_type": "code",
   "execution_count": 28,
   "id": "b3c1c555",
   "metadata": {
    "execution": {
     "iopub.execute_input": "2022-10-03T18:17:12.445726Z",
     "iopub.status.busy": "2022-10-03T18:17:12.444026Z",
     "iopub.status.idle": "2022-10-03T18:17:12.759331Z",
     "shell.execute_reply": "2022-10-03T18:17:12.758089Z"
    },
    "papermill": {
     "duration": 0.34055,
     "end_time": "2022-10-03T18:17:12.761978",
     "exception": false,
     "start_time": "2022-10-03T18:17:12.421428",
     "status": "completed"
    },
    "tags": []
   },
   "outputs": [
    {
     "name": "stdout",
     "output_type": "stream",
     "text": [
      "Features being dropped: ['sold_date']\n"
     ]
    }
   ],
   "source": [
    "df_na_dropped = df.dropna(axis='columns', thresh=(df.shape[0] // 2), inplace=False)\n",
    "print(\"Features being dropped: %s\" % list(set(df.columns) - set(df_na_dropped.columns)))"
   ]
  },
  {
   "cell_type": "markdown",
   "id": "7dd6834c",
   "metadata": {
    "papermill": {
     "duration": 0.017441,
     "end_time": "2022-10-03T18:17:12.798332",
     "exception": false,
     "start_time": "2022-10-03T18:17:12.780891",
     "status": "completed"
    },
    "tags": []
   },
   "source": [
    "<b>Approach 3:</b>\n",
    "Fill with a default value"
   ]
  },
  {
   "cell_type": "code",
   "execution_count": 29,
   "id": "fdd9dbf1",
   "metadata": {
    "execution": {
     "iopub.execute_input": "2022-10-03T18:17:12.836538Z",
     "iopub.status.busy": "2022-10-03T18:17:12.835784Z",
     "iopub.status.idle": "2022-10-03T18:17:12.856344Z",
     "shell.execute_reply": "2022-10-03T18:17:12.855378Z"
    },
    "papermill": {
     "duration": 0.042305,
     "end_time": "2022-10-03T18:17:12.858460",
     "exception": false,
     "start_time": "2022-10-03T18:17:12.816155",
     "status": "completed"
    },
    "tags": []
   },
   "outputs": [
    {
     "data": {
      "text/plain": [
       "0"
      ]
     },
     "execution_count": 29,
     "metadata": {},
     "output_type": "execute_result"
    }
   ],
   "source": [
    "df['price_na_replaced'] = df['price'] = df['price'].fillna(0)\n",
    "\n",
    "df['price_na_replaced'].isna().sum()"
   ]
  },
  {
   "cell_type": "markdown",
   "id": "76c5d82d",
   "metadata": {
    "papermill": {
     "duration": 0.017932,
     "end_time": "2022-10-03T18:17:12.894300",
     "exception": false,
     "start_time": "2022-10-03T18:17:12.876368",
     "status": "completed"
    },
    "tags": []
   },
   "source": [
    "<b>Approach 4:</b>\n",
    "Replacing with the mean value"
   ]
  },
  {
   "cell_type": "code",
   "execution_count": 30,
   "id": "016d37b8",
   "metadata": {
    "execution": {
     "iopub.execute_input": "2022-10-03T18:17:12.932381Z",
     "iopub.status.busy": "2022-10-03T18:17:12.931605Z",
     "iopub.status.idle": "2022-10-03T18:17:12.955143Z",
     "shell.execute_reply": "2022-10-03T18:17:12.954024Z"
    },
    "papermill": {
     "duration": 0.045054,
     "end_time": "2022-10-03T18:17:12.957374",
     "exception": false,
     "start_time": "2022-10-03T18:17:12.912320",
     "status": "completed"
    },
    "tags": []
   },
   "outputs": [
    {
     "data": {
      "text/plain": [
       "0"
      ]
     },
     "execution_count": 30,
     "metadata": {},
     "output_type": "execute_result"
    }
   ],
   "source": [
    "df['bed_na_replaced'] = df['bed'].fillna(df['bed'].mean())\n",
    "\n",
    "df['bed_na_replaced'].isna().sum()"
   ]
  },
  {
   "cell_type": "markdown",
   "id": "7855a0dc",
   "metadata": {
    "papermill": {
     "duration": 0.017636,
     "end_time": "2022-10-03T18:17:12.992979",
     "exception": false,
     "start_time": "2022-10-03T18:17:12.975343",
     "status": "completed"
    },
    "tags": []
   },
   "source": [
    "<b>Approach 5:</b>\n",
    "Replacing with mode"
   ]
  },
  {
   "cell_type": "code",
   "execution_count": 31,
   "id": "e6b6b00f",
   "metadata": {
    "execution": {
     "iopub.execute_input": "2022-10-03T18:17:13.031729Z",
     "iopub.status.busy": "2022-10-03T18:17:13.030360Z",
     "iopub.status.idle": "2022-10-03T18:17:13.064077Z",
     "shell.execute_reply": "2022-10-03T18:17:13.062854Z"
    },
    "papermill": {
     "duration": 0.055497,
     "end_time": "2022-10-03T18:17:13.066510",
     "exception": false,
     "start_time": "2022-10-03T18:17:13.011013",
     "status": "completed"
    },
    "tags": []
   },
   "outputs": [
    {
     "data": {
      "text/plain": [
       "0"
      ]
     },
     "execution_count": 31,
     "metadata": {},
     "output_type": "execute_result"
    }
   ],
   "source": [
    "df['bath_na_replaced'] = df['bath'].fillna(df['bath'].mode()[0])\n",
    "\n",
    "df['bath_na_replaced'].isna().sum()"
   ]
  },
  {
   "cell_type": "markdown",
   "id": "aabc1285",
   "metadata": {
    "papermill": {
     "duration": 0.017834,
     "end_time": "2022-10-03T18:17:13.102703",
     "exception": false,
     "start_time": "2022-10-03T18:17:13.084869",
     "status": "completed"
    },
    "tags": []
   },
   "source": [
    "<b>Approach 6:</b>\n",
    "Putting in the value of previous/next instance, <i>bfill</i> and <i>ffill</i> respectively.\n",
    "<br>\n",
    "Note: for consecutive NaNs it might leave some as is; so, this approach is best combined with another."
   ]
  },
  {
   "cell_type": "code",
   "execution_count": 32,
   "id": "d90621b3",
   "metadata": {
    "execution": {
     "iopub.execute_input": "2022-10-03T18:17:13.140669Z",
     "iopub.status.busy": "2022-10-03T18:17:13.140246Z",
     "iopub.status.idle": "2022-10-03T18:17:13.173506Z",
     "shell.execute_reply": "2022-10-03T18:17:13.172703Z"
    },
    "papermill": {
     "duration": 0.054991,
     "end_time": "2022-10-03T18:17:13.175672",
     "exception": false,
     "start_time": "2022-10-03T18:17:13.120681",
     "status": "completed"
    },
    "tags": []
   },
   "outputs": [
    {
     "data": {
      "text/plain": [
       "0"
      ]
     },
     "execution_count": 32,
     "metadata": {},
     "output_type": "execute_result"
    }
   ],
   "source": [
    "df['sold_date_na_replaced'] = df['sold_date'].fillna(method='bfill')\n",
    "df['sold_date_na_replaced'] = df['sold_date_na_replaced'].fillna(method='ffill')\n",
    "\n",
    "df['sold_date_na_replaced'].isna().sum()"
   ]
  },
  {
   "cell_type": "markdown",
   "id": "c6199309",
   "metadata": {
    "papermill": {
     "duration": 0.017842,
     "end_time": "2022-10-03T18:17:13.211885",
     "exception": false,
     "start_time": "2022-10-03T18:17:13.194043",
     "status": "completed"
    },
    "tags": []
   },
   "source": [
    "## Duplicate instances"
   ]
  },
  {
   "cell_type": "code",
   "execution_count": 33,
   "id": "3e0c7b85",
   "metadata": {
    "execution": {
     "iopub.execute_input": "2022-10-03T18:17:13.250489Z",
     "iopub.status.busy": "2022-10-03T18:17:13.249912Z",
     "iopub.status.idle": "2022-10-03T18:17:14.224481Z",
     "shell.execute_reply": "2022-10-03T18:17:14.223344Z"
    },
    "papermill": {
     "duration": 0.996703,
     "end_time": "2022-10-03T18:17:14.226755",
     "exception": false,
     "start_time": "2022-10-03T18:17:13.230052",
     "status": "completed"
    },
    "tags": []
   },
   "outputs": [
    {
     "data": {
      "text/plain": [
       "538490"
      ]
     },
     "execution_count": 33,
     "metadata": {},
     "output_type": "execute_result"
    }
   ],
   "source": [
    "df.duplicated().sum()"
   ]
  },
  {
   "cell_type": "code",
   "execution_count": 34,
   "id": "f1e0d15b",
   "metadata": {
    "execution": {
     "iopub.execute_input": "2022-10-03T18:17:14.266919Z",
     "iopub.status.busy": "2022-10-03T18:17:14.266542Z",
     "iopub.status.idle": "2022-10-03T18:17:15.837608Z",
     "shell.execute_reply": "2022-10-03T18:17:15.836358Z"
    },
    "papermill": {
     "duration": 1.594335,
     "end_time": "2022-10-03T18:17:15.840331",
     "exception": false,
     "start_time": "2022-10-03T18:17:14.245996",
     "status": "completed"
    },
    "tags": []
   },
   "outputs": [
    {
     "data": {
      "text/html": [
       "<div>\n",
       "<style scoped>\n",
       "    .dataframe tbody tr th:only-of-type {\n",
       "        vertical-align: middle;\n",
       "    }\n",
       "\n",
       "    .dataframe tbody tr th {\n",
       "        vertical-align: top;\n",
       "    }\n",
       "\n",
       "    .dataframe thead th {\n",
       "        text-align: right;\n",
       "    }\n",
       "</style>\n",
       "<table border=\"1\" class=\"dataframe\">\n",
       "  <thead>\n",
       "    <tr style=\"text-align: right;\">\n",
       "      <th></th>\n",
       "      <th>status</th>\n",
       "      <th>price</th>\n",
       "      <th>bed</th>\n",
       "      <th>bath</th>\n",
       "      <th>acre_lot</th>\n",
       "      <th>full_address</th>\n",
       "      <th>street</th>\n",
       "      <th>city</th>\n",
       "      <th>state</th>\n",
       "      <th>zip_code</th>\n",
       "      <th>house_size</th>\n",
       "      <th>sold_date</th>\n",
       "      <th>price_na_replaced</th>\n",
       "      <th>bed_na_replaced</th>\n",
       "      <th>bath_na_replaced</th>\n",
       "      <th>sold_date_na_replaced</th>\n",
       "    </tr>\n",
       "  </thead>\n",
       "  <tbody>\n",
       "    <tr>\n",
       "      <th>1336</th>\n",
       "      <td>for_sale</td>\n",
       "      <td>80000.0</td>\n",
       "      <td>4.0</td>\n",
       "      <td>2.0</td>\n",
       "      <td>0.08</td>\n",
       "      <td>Km 78 9 Carr # 135, Adjuntas, PR, 00601</td>\n",
       "      <td>Km 78 9 Carr # 135</td>\n",
       "      <td>Adjuntas</td>\n",
       "      <td>Puerto Rico</td>\n",
       "      <td>601.0</td>\n",
       "      <td>1527.0</td>\n",
       "      <td>NaT</td>\n",
       "      <td>80000.0</td>\n",
       "      <td>4.0</td>\n",
       "      <td>2.0</td>\n",
       "      <td>2020-02-28</td>\n",
       "    </tr>\n",
       "    <tr>\n",
       "      <th>1588</th>\n",
       "      <td>for_sale</td>\n",
       "      <td>80000.0</td>\n",
       "      <td>4.0</td>\n",
       "      <td>2.0</td>\n",
       "      <td>0.08</td>\n",
       "      <td>Km 78 9 Carr # 135, Adjuntas, PR, 00601</td>\n",
       "      <td>Km 78 9 Carr # 135</td>\n",
       "      <td>Adjuntas</td>\n",
       "      <td>Puerto Rico</td>\n",
       "      <td>601.0</td>\n",
       "      <td>1527.0</td>\n",
       "      <td>NaT</td>\n",
       "      <td>80000.0</td>\n",
       "      <td>4.0</td>\n",
       "      <td>2.0</td>\n",
       "      <td>2020-02-28</td>\n",
       "    </tr>\n",
       "    <tr>\n",
       "      <th>1663</th>\n",
       "      <td>for_sale</td>\n",
       "      <td>80000.0</td>\n",
       "      <td>4.0</td>\n",
       "      <td>2.0</td>\n",
       "      <td>0.08</td>\n",
       "      <td>Km 78 9 Carr # 135, Adjuntas, PR, 00601</td>\n",
       "      <td>Km 78 9 Carr # 135</td>\n",
       "      <td>Adjuntas</td>\n",
       "      <td>Puerto Rico</td>\n",
       "      <td>601.0</td>\n",
       "      <td>1527.0</td>\n",
       "      <td>NaT</td>\n",
       "      <td>80000.0</td>\n",
       "      <td>4.0</td>\n",
       "      <td>2.0</td>\n",
       "      <td>2020-02-28</td>\n",
       "    </tr>\n",
       "    <tr>\n",
       "      <th>1839</th>\n",
       "      <td>for_sale</td>\n",
       "      <td>80000.0</td>\n",
       "      <td>4.0</td>\n",
       "      <td>2.0</td>\n",
       "      <td>0.08</td>\n",
       "      <td>Km 78 9 Carr # 135, Adjuntas, PR, 00601</td>\n",
       "      <td>Km 78 9 Carr # 135</td>\n",
       "      <td>Adjuntas</td>\n",
       "      <td>Puerto Rico</td>\n",
       "      <td>601.0</td>\n",
       "      <td>1527.0</td>\n",
       "      <td>NaT</td>\n",
       "      <td>80000.0</td>\n",
       "      <td>4.0</td>\n",
       "      <td>2.0</td>\n",
       "      <td>2020-02-28</td>\n",
       "    </tr>\n",
       "    <tr>\n",
       "      <th>2052</th>\n",
       "      <td>for_sale</td>\n",
       "      <td>80000.0</td>\n",
       "      <td>4.0</td>\n",
       "      <td>2.0</td>\n",
       "      <td>0.08</td>\n",
       "      <td>Km 78 9 Carr # 135, Adjuntas, PR, 00601</td>\n",
       "      <td>Km 78 9 Carr # 135</td>\n",
       "      <td>Adjuntas</td>\n",
       "      <td>Puerto Rico</td>\n",
       "      <td>601.0</td>\n",
       "      <td>1527.0</td>\n",
       "      <td>NaT</td>\n",
       "      <td>80000.0</td>\n",
       "      <td>4.0</td>\n",
       "      <td>2.0</td>\n",
       "      <td>2020-02-28</td>\n",
       "    </tr>\n",
       "  </tbody>\n",
       "</table>\n",
       "</div>"
      ],
      "text/plain": [
       "        status    price  bed  bath  acre_lot  \\\n",
       "1336  for_sale  80000.0  4.0   2.0      0.08   \n",
       "1588  for_sale  80000.0  4.0   2.0      0.08   \n",
       "1663  for_sale  80000.0  4.0   2.0      0.08   \n",
       "1839  for_sale  80000.0  4.0   2.0      0.08   \n",
       "2052  for_sale  80000.0  4.0   2.0      0.08   \n",
       "\n",
       "                                 full_address              street      city  \\\n",
       "1336  Km 78 9 Carr # 135, Adjuntas, PR, 00601  Km 78 9 Carr # 135  Adjuntas   \n",
       "1588  Km 78 9 Carr # 135, Adjuntas, PR, 00601  Km 78 9 Carr # 135  Adjuntas   \n",
       "1663  Km 78 9 Carr # 135, Adjuntas, PR, 00601  Km 78 9 Carr # 135  Adjuntas   \n",
       "1839  Km 78 9 Carr # 135, Adjuntas, PR, 00601  Km 78 9 Carr # 135  Adjuntas   \n",
       "2052  Km 78 9 Carr # 135, Adjuntas, PR, 00601  Km 78 9 Carr # 135  Adjuntas   \n",
       "\n",
       "            state  zip_code  house_size sold_date  price_na_replaced  \\\n",
       "1336  Puerto Rico     601.0      1527.0       NaT            80000.0   \n",
       "1588  Puerto Rico     601.0      1527.0       NaT            80000.0   \n",
       "1663  Puerto Rico     601.0      1527.0       NaT            80000.0   \n",
       "1839  Puerto Rico     601.0      1527.0       NaT            80000.0   \n",
       "2052  Puerto Rico     601.0      1527.0       NaT            80000.0   \n",
       "\n",
       "      bed_na_replaced  bath_na_replaced sold_date_na_replaced  \n",
       "1336              4.0               2.0            2020-02-28  \n",
       "1588              4.0               2.0            2020-02-28  \n",
       "1663              4.0               2.0            2020-02-28  \n",
       "1839              4.0               2.0            2020-02-28  \n",
       "2052              4.0               2.0            2020-02-28  "
      ]
     },
     "execution_count": 34,
     "metadata": {},
     "output_type": "execute_result"
    }
   ],
   "source": [
    "df[df.duplicated()].sort_values(['zip_code', 'full_address', 'sold_date']).head()"
   ]
  },
  {
   "cell_type": "markdown",
   "id": "c87bbb0d",
   "metadata": {
    "papermill": {
     "duration": 0.018359,
     "end_time": "2022-10-03T18:17:15.877896",
     "exception": false,
     "start_time": "2022-10-03T18:17:15.859537",
     "status": "completed"
    },
    "tags": []
   },
   "source": [
    "Dropping the duplicate instances, while keeping only the <i>first</i> or <i>last</i> one."
   ]
  },
  {
   "cell_type": "code",
   "execution_count": 35,
   "id": "779e4e2f",
   "metadata": {
    "execution": {
     "iopub.execute_input": "2022-10-03T18:17:15.916948Z",
     "iopub.status.busy": "2022-10-03T18:17:15.916587Z",
     "iopub.status.idle": "2022-10-03T18:17:17.288388Z",
     "shell.execute_reply": "2022-10-03T18:17:17.286891Z"
    },
    "papermill": {
     "duration": 1.394267,
     "end_time": "2022-10-03T18:17:17.290808",
     "exception": false,
     "start_time": "2022-10-03T18:17:15.896541",
     "status": "completed"
    },
    "tags": []
   },
   "outputs": [
    {
     "data": {
      "text/plain": [
       "0"
      ]
     },
     "execution_count": 35,
     "metadata": {},
     "output_type": "execute_result"
    }
   ],
   "source": [
    "df_duplicates_dropped = df.drop_duplicates(keep = \"first\")\n",
    "\n",
    "df_duplicates_dropped.duplicated().sum()"
   ]
  },
  {
   "cell_type": "markdown",
   "id": "3209cd31",
   "metadata": {
    "papermill": {
     "duration": 0.018371,
     "end_time": "2022-10-03T18:17:17.328278",
     "exception": false,
     "start_time": "2022-10-03T18:17:17.309907",
     "status": "completed"
    },
    "tags": []
   },
   "source": [
    "## Outliers"
   ]
  },
  {
   "cell_type": "code",
   "execution_count": 36,
   "id": "e4e031a2",
   "metadata": {
    "execution": {
     "iopub.execute_input": "2022-10-03T18:17:17.369348Z",
     "iopub.status.busy": "2022-10-03T18:17:17.368952Z",
     "iopub.status.idle": "2022-10-03T18:17:17.433766Z",
     "shell.execute_reply": "2022-10-03T18:17:17.431860Z"
    },
    "papermill": {
     "duration": 0.088351,
     "end_time": "2022-10-03T18:17:17.437029",
     "exception": false,
     "start_time": "2022-10-03T18:17:17.348678",
     "status": "completed"
    },
    "tags": []
   },
   "outputs": [
    {
     "data": {
      "text/plain": [
       "count    791456.000000\n",
       "mean          3.330352\n",
       "std           2.070402\n",
       "min           1.000000\n",
       "25%           2.000000\n",
       "50%           3.000000\n",
       "75%           4.000000\n",
       "max         123.000000\n",
       "Name: bed, dtype: float64"
      ]
     },
     "execution_count": 36,
     "metadata": {},
     "output_type": "execute_result"
    }
   ],
   "source": [
    "df['bed'].describe()"
   ]
  },
  {
   "cell_type": "markdown",
   "id": "81578a5d",
   "metadata": {
    "papermill": {
     "duration": 0.018794,
     "end_time": "2022-10-03T18:17:17.475785",
     "exception": false,
     "start_time": "2022-10-03T18:17:17.456991",
     "status": "completed"
    },
    "tags": []
   },
   "source": [
    "### Using quantiles\n",
    "We can use quantiles to remove lower and/or upper outliers"
   ]
  },
  {
   "cell_type": "code",
   "execution_count": 37,
   "id": "8fd0507b",
   "metadata": {
    "execution": {
     "iopub.execute_input": "2022-10-03T18:17:17.515764Z",
     "iopub.status.busy": "2022-10-03T18:17:17.515398Z",
     "iopub.status.idle": "2022-10-03T18:17:17.691544Z",
     "shell.execute_reply": "2022-10-03T18:17:17.690364Z"
    },
    "papermill": {
     "duration": 0.199305,
     "end_time": "2022-10-03T18:17:17.693978",
     "exception": false,
     "start_time": "2022-10-03T18:17:17.494673",
     "status": "completed"
    },
    "tags": []
   },
   "outputs": [
    {
     "name": "stdout",
     "output_type": "stream",
     "text": [
      "Total outliers dropped: 225905\n"
     ]
    },
    {
     "data": {
      "text/plain": [
       "count    697254.000000\n",
       "mean          3.488779\n",
       "std           1.409872\n",
       "min           2.000000\n",
       "25%           3.000000\n",
       "50%           3.000000\n",
       "75%           4.000000\n",
       "max           9.000000\n",
       "Name: bed, dtype: float64"
      ]
     },
     "execution_count": 37,
     "metadata": {},
     "output_type": "execute_result"
    }
   ],
   "source": [
    "q_low = df[\"bed\"].quantile(0.01)\n",
    "q_hi  = df[\"bed\"].quantile(0.99)\n",
    "\n",
    "df_filtered = df[(df[\"bed\"] < q_hi) & (df[\"bed\"] > q_low)]\n",
    "\n",
    "print(\"Total outliers dropped: %d\" % (df.shape[0] - df_filtered.shape[0]))\n",
    "\n",
    "df_filtered['bed'].describe()"
   ]
  },
  {
   "cell_type": "markdown",
   "id": "2101fabe",
   "metadata": {
    "papermill": {
     "duration": 0.018403,
     "end_time": "2022-10-03T18:17:17.731246",
     "exception": false,
     "start_time": "2022-10-03T18:17:17.712843",
     "status": "completed"
    },
    "tags": []
   },
   "source": [
    "### Using z-score"
   ]
  },
  {
   "cell_type": "code",
   "execution_count": 38,
   "id": "475e7a3a",
   "metadata": {
    "execution": {
     "iopub.execute_input": "2022-10-03T18:17:17.772396Z",
     "iopub.status.busy": "2022-10-03T18:17:17.771995Z",
     "iopub.status.idle": "2022-10-03T18:17:17.976868Z",
     "shell.execute_reply": "2022-10-03T18:17:17.975277Z"
    },
    "papermill": {
     "duration": 0.228067,
     "end_time": "2022-10-03T18:17:17.979457",
     "exception": false,
     "start_time": "2022-10-03T18:17:17.751390",
     "status": "completed"
    },
    "tags": []
   },
   "outputs": [
    {
     "name": "stdout",
     "output_type": "stream",
     "text": [
      "Total outliers dropped: 140307\n"
     ]
    },
    {
     "data": {
      "text/plain": [
       "count    782852.000000\n",
       "mean          3.216653\n",
       "std           1.540652\n",
       "min           1.000000\n",
       "25%           2.000000\n",
       "50%           3.000000\n",
       "75%           4.000000\n",
       "max           9.000000\n",
       "Name: bed, dtype: float64"
      ]
     },
     "execution_count": 38,
     "metadata": {},
     "output_type": "execute_result"
    }
   ],
   "source": [
    "df_filtered = df[np.abs(df['bed']-df['bed'].mean()) <= (3*df['bed'].std())]\n",
    "\n",
    "print(\"Total outliers dropped: %d\" % (df.shape[0] - df_filtered.shape[0]))\n",
    "\n",
    "df_filtered['bed'].describe()"
   ]
  },
  {
   "cell_type": "markdown",
   "id": "460bf687",
   "metadata": {
    "papermill": {
     "duration": 0.020228,
     "end_time": "2022-10-03T18:17:18.019295",
     "exception": false,
     "start_time": "2022-10-03T18:17:17.999067",
     "status": "completed"
    },
    "tags": []
   },
   "source": [
    "## Scaling"
   ]
  },
  {
   "cell_type": "code",
   "execution_count": 39,
   "id": "057da640",
   "metadata": {
    "execution": {
     "iopub.execute_input": "2022-10-03T18:17:18.062056Z",
     "iopub.status.busy": "2022-10-03T18:17:18.061671Z",
     "iopub.status.idle": "2022-10-03T18:17:18.236793Z",
     "shell.execute_reply": "2022-10-03T18:17:18.235700Z"
    },
    "papermill": {
     "duration": 0.198928,
     "end_time": "2022-10-03T18:17:18.239425",
     "exception": false,
     "start_time": "2022-10-03T18:17:18.040497",
     "status": "completed"
    },
    "tags": []
   },
   "outputs": [
    {
     "data": {
      "text/html": [
       "<div>\n",
       "<style scoped>\n",
       "    .dataframe tbody tr th:only-of-type {\n",
       "        vertical-align: middle;\n",
       "    }\n",
       "\n",
       "    .dataframe tbody tr th {\n",
       "        vertical-align: top;\n",
       "    }\n",
       "\n",
       "    .dataframe thead th {\n",
       "        text-align: right;\n",
       "    }\n",
       "</style>\n",
       "<table border=\"1\" class=\"dataframe\">\n",
       "  <thead>\n",
       "    <tr style=\"text-align: right;\">\n",
       "      <th></th>\n",
       "      <th>bed_na_replaced</th>\n",
       "      <th>bed_na_replaced_normalized</th>\n",
       "      <th>bed_na_replaced_standardized</th>\n",
       "    </tr>\n",
       "  </thead>\n",
       "  <tbody>\n",
       "    <tr>\n",
       "      <th>0</th>\n",
       "      <td>3.000000</td>\n",
       "      <td>0.016393</td>\n",
       "      <td>-0.172325</td>\n",
       "    </tr>\n",
       "    <tr>\n",
       "      <th>1</th>\n",
       "      <td>4.000000</td>\n",
       "      <td>0.024590</td>\n",
       "      <td>0.349315</td>\n",
       "    </tr>\n",
       "    <tr>\n",
       "      <th>2</th>\n",
       "      <td>2.000000</td>\n",
       "      <td>0.008197</td>\n",
       "      <td>-0.693964</td>\n",
       "    </tr>\n",
       "    <tr>\n",
       "      <th>3</th>\n",
       "      <td>4.000000</td>\n",
       "      <td>0.024590</td>\n",
       "      <td>0.349315</td>\n",
       "    </tr>\n",
       "    <tr>\n",
       "      <th>4</th>\n",
       "      <td>6.000000</td>\n",
       "      <td>0.040984</td>\n",
       "      <td>1.392594</td>\n",
       "    </tr>\n",
       "    <tr>\n",
       "      <th>...</th>\n",
       "      <td>...</td>\n",
       "      <td>...</td>\n",
       "      <td>...</td>\n",
       "    </tr>\n",
       "    <tr>\n",
       "      <th>923154</th>\n",
       "      <td>1.000000</td>\n",
       "      <td>0.000000</td>\n",
       "      <td>-1.215604</td>\n",
       "    </tr>\n",
       "    <tr>\n",
       "      <th>923155</th>\n",
       "      <td>4.000000</td>\n",
       "      <td>0.024590</td>\n",
       "      <td>0.349315</td>\n",
       "    </tr>\n",
       "    <tr>\n",
       "      <th>923156</th>\n",
       "      <td>4.000000</td>\n",
       "      <td>0.024590</td>\n",
       "      <td>0.349315</td>\n",
       "    </tr>\n",
       "    <tr>\n",
       "      <th>923157</th>\n",
       "      <td>5.000000</td>\n",
       "      <td>0.032787</td>\n",
       "      <td>0.870955</td>\n",
       "    </tr>\n",
       "    <tr>\n",
       "      <th>923158</th>\n",
       "      <td>3.330352</td>\n",
       "      <td>0.019101</td>\n",
       "      <td>0.000000</td>\n",
       "    </tr>\n",
       "  </tbody>\n",
       "</table>\n",
       "<p>923159 rows × 3 columns</p>\n",
       "</div>"
      ],
      "text/plain": [
       "        bed_na_replaced  bed_na_replaced_normalized  \\\n",
       "0              3.000000                    0.016393   \n",
       "1              4.000000                    0.024590   \n",
       "2              2.000000                    0.008197   \n",
       "3              4.000000                    0.024590   \n",
       "4              6.000000                    0.040984   \n",
       "...                 ...                         ...   \n",
       "923154         1.000000                    0.000000   \n",
       "923155         4.000000                    0.024590   \n",
       "923156         4.000000                    0.024590   \n",
       "923157         5.000000                    0.032787   \n",
       "923158         3.330352                    0.019101   \n",
       "\n",
       "        bed_na_replaced_standardized  \n",
       "0                          -0.172325  \n",
       "1                           0.349315  \n",
       "2                          -0.693964  \n",
       "3                           0.349315  \n",
       "4                           1.392594  \n",
       "...                              ...  \n",
       "923154                     -1.215604  \n",
       "923155                      0.349315  \n",
       "923156                      0.349315  \n",
       "923157                      0.870955  \n",
       "923158                      0.000000  \n",
       "\n",
       "[923159 rows x 3 columns]"
      ]
     },
     "execution_count": 39,
     "metadata": {},
     "output_type": "execute_result"
    }
   ],
   "source": [
    "from sklearn.preprocessing import MinMaxScaler, StandardScaler\n",
    "\n",
    "df['bed_na_replaced_normalized'] = MinMaxScaler().fit_transform(df[['bed_na_replaced']])\n",
    "df['bed_na_replaced_standardized'] = StandardScaler().fit_transform(df[['bed_na_replaced']])\n",
    "\n",
    "df[['bed_na_replaced', 'bed_na_replaced_normalized', 'bed_na_replaced_standardized']]"
   ]
  }
 ],
 "metadata": {
  "kernelspec": {
   "display_name": "Python 3",
   "language": "python",
   "name": "python3"
  },
  "language_info": {
   "codemirror_mode": {
    "name": "ipython",
    "version": 3
   },
   "file_extension": ".py",
   "mimetype": "text/x-python",
   "name": "python",
   "nbconvert_exporter": "python",
   "pygments_lexer": "ipython3",
   "version": "3.7.12"
  },
  "papermill": {
   "default_parameters": {},
   "duration": 32.368362,
   "end_time": "2022-10-03T18:17:19.182351",
   "environment_variables": {},
   "exception": null,
   "input_path": "__notebook__.ipynb",
   "output_path": "__notebook__.ipynb",
   "parameters": {},
   "start_time": "2022-10-03T18:16:46.813989",
   "version": "2.3.4"
  }
 },
 "nbformat": 4,
 "nbformat_minor": 5
}
