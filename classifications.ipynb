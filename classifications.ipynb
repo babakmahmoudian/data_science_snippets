{
 "cells": [
  {
   "cell_type": "markdown",
   "id": "0a40be98",
   "metadata": {
    "papermill": {
     "duration": 0.012471,
     "end_time": "2022-10-03T18:28:57.486651",
     "exception": false,
     "start_time": "2022-10-03T18:28:57.474180",
     "status": "completed"
    },
    "tags": []
   },
   "source": [
    "# Preprocessing"
   ]
  },
  {
   "cell_type": "code",
   "execution_count": 2,
   "id": "224701fe",
   "metadata": {
    "papermill": {
     "duration": 1.137537,
     "end_time": "2022-10-03T18:28:58.634864",
     "exception": false,
     "start_time": "2022-10-03T18:28:57.497327",
     "status": "completed"
    },
    "tags": []
   },
   "outputs": [],
   "source": [
    "import numpy as np\n",
    "import pandas as pd\n",
    "import matplotlib.pyplot as plt\n",
    "%matplotlib inline\n",
    "import seaborn as sns"
   ]
  },
  {
   "cell_type": "markdown",
   "id": "5e978d7e-94a9-40a7-893f-b9651228d827",
   "metadata": {},
   "source": [
    "Dataset retrieved from <a href=\"https://www.kaggle.com/competitions/titanic/data\">Kaggle</a>"
   ]
  },
  {
   "cell_type": "code",
   "execution_count": 3,
   "id": "8ca24fc0",
   "metadata": {
    "papermill": {
     "duration": 5.181576,
     "end_time": "2022-10-03T18:29:03.826928",
     "exception": false,
     "start_time": "2022-10-03T18:28:58.645352",
     "status": "completed"
    },
    "tags": []
   },
   "outputs": [
    {
     "data": {
      "text/html": [
       "<div>\n",
       "<style scoped>\n",
       "    .dataframe tbody tr th:only-of-type {\n",
       "        vertical-align: middle;\n",
       "    }\n",
       "\n",
       "    .dataframe tbody tr th {\n",
       "        vertical-align: top;\n",
       "    }\n",
       "\n",
       "    .dataframe thead th {\n",
       "        text-align: right;\n",
       "    }\n",
       "</style>\n",
       "<table border=\"1\" class=\"dataframe\">\n",
       "  <thead>\n",
       "    <tr style=\"text-align: right;\">\n",
       "      <th></th>\n",
       "      <th>PassengerId</th>\n",
       "      <th>Survived</th>\n",
       "      <th>Pclass</th>\n",
       "      <th>Name</th>\n",
       "      <th>Sex</th>\n",
       "      <th>Age</th>\n",
       "      <th>SibSp</th>\n",
       "      <th>Parch</th>\n",
       "      <th>Ticket</th>\n",
       "      <th>Fare</th>\n",
       "      <th>Cabin</th>\n",
       "      <th>Embarked</th>\n",
       "    </tr>\n",
       "  </thead>\n",
       "  <tbody>\n",
       "    <tr>\n",
       "      <th>0</th>\n",
       "      <td>1</td>\n",
       "      <td>0</td>\n",
       "      <td>3</td>\n",
       "      <td>Braund, Mr. Owen Harris</td>\n",
       "      <td>male</td>\n",
       "      <td>22.0</td>\n",
       "      <td>1</td>\n",
       "      <td>0</td>\n",
       "      <td>A/5 21171</td>\n",
       "      <td>7.2500</td>\n",
       "      <td>NaN</td>\n",
       "      <td>S</td>\n",
       "    </tr>\n",
       "    <tr>\n",
       "      <th>1</th>\n",
       "      <td>2</td>\n",
       "      <td>1</td>\n",
       "      <td>1</td>\n",
       "      <td>Cumings, Mrs. John Bradley (Florence Briggs Th...</td>\n",
       "      <td>female</td>\n",
       "      <td>38.0</td>\n",
       "      <td>1</td>\n",
       "      <td>0</td>\n",
       "      <td>PC 17599</td>\n",
       "      <td>71.2833</td>\n",
       "      <td>C85</td>\n",
       "      <td>C</td>\n",
       "    </tr>\n",
       "    <tr>\n",
       "      <th>2</th>\n",
       "      <td>3</td>\n",
       "      <td>1</td>\n",
       "      <td>3</td>\n",
       "      <td>Heikkinen, Miss. Laina</td>\n",
       "      <td>female</td>\n",
       "      <td>26.0</td>\n",
       "      <td>0</td>\n",
       "      <td>0</td>\n",
       "      <td>STON/O2. 3101282</td>\n",
       "      <td>7.9250</td>\n",
       "      <td>NaN</td>\n",
       "      <td>S</td>\n",
       "    </tr>\n",
       "    <tr>\n",
       "      <th>3</th>\n",
       "      <td>4</td>\n",
       "      <td>1</td>\n",
       "      <td>1</td>\n",
       "      <td>Futrelle, Mrs. Jacques Heath (Lily May Peel)</td>\n",
       "      <td>female</td>\n",
       "      <td>35.0</td>\n",
       "      <td>1</td>\n",
       "      <td>0</td>\n",
       "      <td>113803</td>\n",
       "      <td>53.1000</td>\n",
       "      <td>C123</td>\n",
       "      <td>S</td>\n",
       "    </tr>\n",
       "    <tr>\n",
       "      <th>4</th>\n",
       "      <td>5</td>\n",
       "      <td>0</td>\n",
       "      <td>3</td>\n",
       "      <td>Allen, Mr. William Henry</td>\n",
       "      <td>male</td>\n",
       "      <td>35.0</td>\n",
       "      <td>0</td>\n",
       "      <td>0</td>\n",
       "      <td>373450</td>\n",
       "      <td>8.0500</td>\n",
       "      <td>NaN</td>\n",
       "      <td>S</td>\n",
       "    </tr>\n",
       "  </tbody>\n",
       "</table>\n",
       "</div>"
      ],
      "text/plain": [
       "   PassengerId  Survived  Pclass  \\\n",
       "0            1         0       3   \n",
       "1            2         1       1   \n",
       "2            3         1       3   \n",
       "3            4         1       1   \n",
       "4            5         0       3   \n",
       "\n",
       "                                                Name     Sex   Age  SibSp  \\\n",
       "0                            Braund, Mr. Owen Harris    male  22.0      1   \n",
       "1  Cumings, Mrs. John Bradley (Florence Briggs Th...  female  38.0      1   \n",
       "2                             Heikkinen, Miss. Laina  female  26.0      0   \n",
       "3       Futrelle, Mrs. Jacques Heath (Lily May Peel)  female  35.0      1   \n",
       "4                           Allen, Mr. William Henry    male  35.0      0   \n",
       "\n",
       "   Parch            Ticket     Fare Cabin Embarked  \n",
       "0      0         A/5 21171   7.2500   NaN        S  \n",
       "1      0          PC 17599  71.2833   C85        C  \n",
       "2      0  STON/O2. 3101282   7.9250   NaN        S  \n",
       "3      0            113803  53.1000  C123        S  \n",
       "4      0            373450   8.0500   NaN        S  "
      ]
     },
     "execution_count": 3,
     "metadata": {},
     "output_type": "execute_result"
    }
   ],
   "source": [
    "df = pd.read_csv('./dataset/titanic/train.csv')\n",
    "\n",
    "df.head()"
   ]
  },
  {
   "cell_type": "code",
   "execution_count": 4,
   "id": "cad45e82-8fa0-4d0c-8765-6cbc3e8461bd",
   "metadata": {},
   "outputs": [
    {
     "name": "stdout",
     "output_type": "stream",
     "text": [
      "<class 'pandas.core.frame.DataFrame'>\n",
      "RangeIndex: 891 entries, 0 to 890\n",
      "Data columns (total 12 columns):\n",
      " #   Column       Non-Null Count  Dtype  \n",
      "---  ------       --------------  -----  \n",
      " 0   PassengerId  891 non-null    int64  \n",
      " 1   Survived     891 non-null    int64  \n",
      " 2   Pclass       891 non-null    int64  \n",
      " 3   Name         891 non-null    object \n",
      " 4   Sex          891 non-null    object \n",
      " 5   Age          714 non-null    float64\n",
      " 6   SibSp        891 non-null    int64  \n",
      " 7   Parch        891 non-null    int64  \n",
      " 8   Ticket       891 non-null    object \n",
      " 9   Fare         891 non-null    float64\n",
      " 10  Cabin        204 non-null    object \n",
      " 11  Embarked     889 non-null    object \n",
      "dtypes: float64(2), int64(5), object(5)\n",
      "memory usage: 83.7+ KB\n"
     ]
    }
   ],
   "source": [
    "df.info()"
   ]
  },
  {
   "cell_type": "code",
   "execution_count": 5,
   "id": "61703a60-ccc6-4cc0-a156-b7aee4af33ee",
   "metadata": {},
   "outputs": [],
   "source": [
    "df = df.drop(['Name', 'Ticket', 'Cabin'], axis='columns')"
   ]
  },
  {
   "cell_type": "code",
   "execution_count": 6,
   "id": "c76f0d58-9ecc-4371-87f3-5d665bfa375e",
   "metadata": {},
   "outputs": [],
   "source": [
    "from sklearn.preprocessing import LabelEncoder\n",
    "\n",
    "df['Survived'] = LabelEncoder().fit_transform(df['Survived'])"
   ]
  },
  {
   "cell_type": "code",
   "execution_count": 7,
   "id": "8666df80-afad-4207-89e3-598f959943d4",
   "metadata": {},
   "outputs": [],
   "source": [
    "df['Age'].fillna(df['Age'].mean(), inplace=True)"
   ]
  },
  {
   "cell_type": "code",
   "execution_count": 8,
   "id": "52d48cbb-9857-447e-b69e-8fa8eb7ae94c",
   "metadata": {},
   "outputs": [],
   "source": [
    "df = pd.get_dummies(df, columns = ['Sex', 'Embarked'])"
   ]
  },
  {
   "cell_type": "markdown",
   "id": "ddf18203",
   "metadata": {
    "papermill": {
     "duration": 0.00984,
     "end_time": "2022-10-03T18:29:03.847121",
     "exception": false,
     "start_time": "2022-10-03T18:29:03.837281",
     "status": "completed"
    },
    "tags": []
   },
   "source": [
    "# Correlation matrix"
   ]
  },
  {
   "cell_type": "code",
   "execution_count": 9,
   "id": "3df0b4b9",
   "metadata": {
    "papermill": {
     "duration": 0.993542,
     "end_time": "2022-10-03T18:29:04.850753",
     "exception": false,
     "start_time": "2022-10-03T18:29:03.857211",
     "status": "completed"
    },
    "tags": []
   },
   "outputs": [
    {
     "data": {
      "text/html": [
       "<style type=\"text/css\">\n",
       "#T_96f95_row0_col0, #T_96f95_row1_col1, #T_96f95_row2_col2, #T_96f95_row3_col3, #T_96f95_row4_col4, #T_96f95_row5_col5, #T_96f95_row6_col6, #T_96f95_row7_col7, #T_96f95_row8_col8, #T_96f95_row9_col9, #T_96f95_row10_col10, #T_96f95_row11_col11 {\n",
       "  background-color: #b40426;\n",
       "  color: #f1f1f1;\n",
       "}\n",
       "#T_96f95_row0_col1, #T_96f95_row1_col11 {\n",
       "  background-color: #afcafc;\n",
       "  color: #000000;\n",
       "}\n",
       "#T_96f95_row0_col2, #T_96f95_row4_col1 {\n",
       "  background-color: #a9c6fd;\n",
       "  color: #000000;\n",
       "}\n",
       "#T_96f95_row0_col3 {\n",
       "  background-color: #96b7ff;\n",
       "  color: #000000;\n",
       "}\n",
       "#T_96f95_row0_col4, #T_96f95_row3_col2 {\n",
       "  background-color: #6788ee;\n",
       "  color: #f1f1f1;\n",
       "}\n",
       "#T_96f95_row0_col5, #T_96f95_row1_col3, #T_96f95_row9_col2 {\n",
       "  background-color: #7a9df8;\n",
       "  color: #f1f1f1;\n",
       "}\n",
       "#T_96f95_row0_col6 {\n",
       "  background-color: #b3cdfb;\n",
       "  color: #000000;\n",
       "}\n",
       "#T_96f95_row0_col7, #T_96f95_row2_col10, #T_96f95_row4_col11 {\n",
       "  background-color: #d7dce3;\n",
       "  color: #000000;\n",
       "}\n",
       "#T_96f95_row0_col8, #T_96f95_row1_col6 {\n",
       "  background-color: #e2dad5;\n",
       "  color: #000000;\n",
       "}\n",
       "#T_96f95_row0_col9, #T_96f95_row2_col7, #T_96f95_row11_col7 {\n",
       "  background-color: #cbd8ee;\n",
       "  color: #000000;\n",
       "}\n",
       "#T_96f95_row0_col10, #T_96f95_row8_col3 {\n",
       "  background-color: #a2c1ff;\n",
       "  color: #000000;\n",
       "}\n",
       "#T_96f95_row0_col11 {\n",
       "  background-color: #cfdaea;\n",
       "  color: #000000;\n",
       "}\n",
       "#T_96f95_row1_col0 {\n",
       "  background-color: #4961d2;\n",
       "  color: #f1f1f1;\n",
       "}\n",
       "#T_96f95_row1_col2 {\n",
       "  background-color: #6485ec;\n",
       "  color: #f1f1f1;\n",
       "}\n",
       "#T_96f95_row1_col4, #T_96f95_row10_col11 {\n",
       "  background-color: #6c8ff1;\n",
       "  color: #f1f1f1;\n",
       "}\n",
       "#T_96f95_row1_col5 {\n",
       "  background-color: #92b4fe;\n",
       "  color: #000000;\n",
       "}\n",
       "#T_96f95_row1_col7 {\n",
       "  background-color: #f29072;\n",
       "  color: #f1f1f1;\n",
       "}\n",
       "#T_96f95_row1_col8, #T_96f95_row11_col3 {\n",
       "  background-color: #85a8fc;\n",
       "  color: #f1f1f1;\n",
       "}\n",
       "#T_96f95_row1_col9 {\n",
       "  background-color: #e5d8d1;\n",
       "  color: #000000;\n",
       "}\n",
       "#T_96f95_row1_col10 {\n",
       "  background-color: #aac7fd;\n",
       "  color: #000000;\n",
       "}\n",
       "#T_96f95_row2_col0, #T_96f95_row10_col0 {\n",
       "  background-color: #4055c8;\n",
       "  color: #f1f1f1;\n",
       "}\n",
       "#T_96f95_row2_col1, #T_96f95_row10_col5 {\n",
       "  background-color: #6384eb;\n",
       "  color: #f1f1f1;\n",
       "}\n",
       "#T_96f95_row2_col3, #T_96f95_row2_col6, #T_96f95_row3_col4, #T_96f95_row4_col0, #T_96f95_row6_col2, #T_96f95_row7_col8, #T_96f95_row8_col1, #T_96f95_row8_col5, #T_96f95_row8_col7, #T_96f95_row9_col11, #T_96f95_row11_col9, #T_96f95_row11_col10 {\n",
       "  background-color: #3b4cc0;\n",
       "  color: #f1f1f1;\n",
       "}\n",
       "#T_96f95_row2_col4 {\n",
       "  background-color: #8fb1fe;\n",
       "  color: #000000;\n",
       "}\n",
       "#T_96f95_row2_col5 {\n",
       "  background-color: #80a3fa;\n",
       "  color: #f1f1f1;\n",
       "}\n",
       "#T_96f95_row2_col8, #T_96f95_row11_col8 {\n",
       "  background-color: #ecd3c5;\n",
       "  color: #000000;\n",
       "}\n",
       "#T_96f95_row2_col9 {\n",
       "  background-color: #9fbfff;\n",
       "  color: #000000;\n",
       "}\n",
       "#T_96f95_row2_col11, #T_96f95_row7_col9 {\n",
       "  background-color: #d8dce2;\n",
       "  color: #000000;\n",
       "}\n",
       "#T_96f95_row3_col0 {\n",
       "  background-color: #5470de;\n",
       "  color: #f1f1f1;\n",
       "}\n",
       "#T_96f95_row3_col1 {\n",
       "  background-color: #a1c0ff;\n",
       "  color: #000000;\n",
       "}\n",
       "#T_96f95_row3_col5, #T_96f95_row5_col0, #T_96f95_row9_col0 {\n",
       "  background-color: #4a63d3;\n",
       "  color: #f1f1f1;\n",
       "}\n",
       "#T_96f95_row3_col6 {\n",
       "  background-color: #c4d5f3;\n",
       "  color: #000000;\n",
       "}\n",
       "#T_96f95_row3_col7, #T_96f95_row4_col6, #T_96f95_row9_col8 {\n",
       "  background-color: #d2dbe8;\n",
       "  color: #000000;\n",
       "}\n",
       "#T_96f95_row3_col8, #T_96f95_row9_col7 {\n",
       "  background-color: #e7d7ce;\n",
       "  color: #000000;\n",
       "}\n",
       "#T_96f95_row3_col9 {\n",
       "  background-color: #d1dae9;\n",
       "  color: #000000;\n",
       "}\n",
       "#T_96f95_row3_col10 {\n",
       "  background-color: #a6c4fe;\n",
       "  color: #000000;\n",
       "}\n",
       "#T_96f95_row3_col11 {\n",
       "  background-color: #c7d7f0;\n",
       "  color: #000000;\n",
       "}\n",
       "#T_96f95_row4_col2, #T_96f95_row6_col8, #T_96f95_row11_col2 {\n",
       "  background-color: #c3d5f4;\n",
       "  color: #000000;\n",
       "}\n",
       "#T_96f95_row4_col3 {\n",
       "  background-color: #506bda;\n",
       "  color: #f1f1f1;\n",
       "}\n",
       "#T_96f95_row4_col5, #T_96f95_row9_col6 {\n",
       "  background-color: #e4d9d2;\n",
       "  color: #000000;\n",
       "}\n",
       "#T_96f95_row4_col7 {\n",
       "  background-color: #ead4c8;\n",
       "  color: #000000;\n",
       "}\n",
       "#T_96f95_row4_col8 {\n",
       "  background-color: #cdd9ec;\n",
       "  color: #000000;\n",
       "}\n",
       "#T_96f95_row4_col9, #T_96f95_row5_col1 {\n",
       "  background-color: #c1d4f4;\n",
       "  color: #000000;\n",
       "}\n",
       "#T_96f95_row4_col10 {\n",
       "  background-color: #a3c2fe;\n",
       "  color: #000000;\n",
       "}\n",
       "#T_96f95_row5_col2, #T_96f95_row7_col11 {\n",
       "  background-color: #b5cdfa;\n",
       "  color: #000000;\n",
       "}\n",
       "#T_96f95_row5_col3 {\n",
       "  background-color: #5e7de7;\n",
       "  color: #f1f1f1;\n",
       "}\n",
       "#T_96f95_row5_col4 {\n",
       "  background-color: #e3d9d3;\n",
       "  color: #000000;\n",
       "}\n",
       "#T_96f95_row5_col6 {\n",
       "  background-color: #dbdcde;\n",
       "  color: #000000;\n",
       "}\n",
       "#T_96f95_row5_col7 {\n",
       "  background-color: #f4c5ad;\n",
       "  color: #000000;\n",
       "}\n",
       "#T_96f95_row5_col8 {\n",
       "  background-color: #b9d0f9;\n",
       "  color: #000000;\n",
       "}\n",
       "#T_96f95_row5_col9 {\n",
       "  background-color: #cad8ef;\n",
       "  color: #000000;\n",
       "}\n",
       "#T_96f95_row5_col10, #T_96f95_row10_col6 {\n",
       "  background-color: #97b8ff;\n",
       "  color: #000000;\n",
       "}\n",
       "#T_96f95_row5_col11 {\n",
       "  background-color: #d6dce4;\n",
       "  color: #000000;\n",
       "}\n",
       "#T_96f95_row6_col0 {\n",
       "  background-color: #4e68d8;\n",
       "  color: #f1f1f1;\n",
       "}\n",
       "#T_96f95_row6_col1 {\n",
       "  background-color: #e1dad6;\n",
       "  color: #000000;\n",
       "}\n",
       "#T_96f95_row6_col3, #T_96f95_row6_col4 {\n",
       "  background-color: #a5c3fe;\n",
       "  color: #000000;\n",
       "}\n",
       "#T_96f95_row6_col5 {\n",
       "  background-color: #b6cefa;\n",
       "  color: #000000;\n",
       "}\n",
       "#T_96f95_row6_col7 {\n",
       "  background-color: #f1cdba;\n",
       "  color: #000000;\n",
       "}\n",
       "#T_96f95_row6_col9 {\n",
       "  background-color: #f0cdbb;\n",
       "  color: #000000;\n",
       "}\n",
       "#T_96f95_row6_col10, #T_96f95_row11_col1 {\n",
       "  background-color: #8db0fe;\n",
       "  color: #000000;\n",
       "}\n",
       "#T_96f95_row6_col11 {\n",
       "  background-color: #aec9fc;\n",
       "  color: #000000;\n",
       "}\n",
       "#T_96f95_row7_col0 {\n",
       "  background-color: #3e51c5;\n",
       "  color: #f1f1f1;\n",
       "}\n",
       "#T_96f95_row7_col1 {\n",
       "  background-color: #f7aa8c;\n",
       "  color: #000000;\n",
       "}\n",
       "#T_96f95_row7_col2 {\n",
       "  background-color: #93b5fe;\n",
       "  color: #000000;\n",
       "}\n",
       "#T_96f95_row7_col3 {\n",
       "  background-color: #7699f6;\n",
       "  color: #f1f1f1;\n",
       "}\n",
       "#T_96f95_row7_col4, #T_96f95_row8_col10 {\n",
       "  background-color: #98b9ff;\n",
       "  color: #000000;\n",
       "}\n",
       "#T_96f95_row7_col5, #T_96f95_row8_col9 {\n",
       "  background-color: #bed2f6;\n",
       "  color: #000000;\n",
       "}\n",
       "#T_96f95_row7_col6 {\n",
       "  background-color: #d5dbe5;\n",
       "  color: #000000;\n",
       "}\n",
       "#T_96f95_row7_col10 {\n",
       "  background-color: #bad0f8;\n",
       "  color: #000000;\n",
       "}\n",
       "#T_96f95_row8_col0, #T_96f95_row8_col4 {\n",
       "  background-color: #5875e1;\n",
       "  color: #f1f1f1;\n",
       "}\n",
       "#T_96f95_row8_col2 {\n",
       "  background-color: #ccd9ed;\n",
       "  color: #000000;\n",
       "}\n",
       "#T_96f95_row8_col6 {\n",
       "  background-color: #88abfd;\n",
       "  color: #000000;\n",
       "}\n",
       "#T_96f95_row8_col11 {\n",
       "  background-color: #dfdbd9;\n",
       "  color: #000000;\n",
       "}\n",
       "#T_96f95_row9_col1, #T_96f95_row10_col8 {\n",
       "  background-color: #d3dbe7;\n",
       "  color: #000000;\n",
       "}\n",
       "#T_96f95_row9_col3 {\n",
       "  background-color: #94b6ff;\n",
       "  color: #000000;\n",
       "}\n",
       "#T_96f95_row9_col4 {\n",
       "  background-color: #6687ed;\n",
       "  color: #f1f1f1;\n",
       "}\n",
       "#T_96f95_row9_col5 {\n",
       "  background-color: #779af7;\n",
       "  color: #f1f1f1;\n",
       "}\n",
       "#T_96f95_row9_col10 {\n",
       "  background-color: #86a9fc;\n",
       "  color: #f1f1f1;\n",
       "}\n",
       "#T_96f95_row10_col1, #T_96f95_row10_col9 {\n",
       "  background-color: #b1cbfc;\n",
       "  color: #000000;\n",
       "}\n",
       "#T_96f95_row10_col2 {\n",
       "  background-color: #dcdddd;\n",
       "  color: #000000;\n",
       "}\n",
       "#T_96f95_row10_col3 {\n",
       "  background-color: #89acfd;\n",
       "  color: #000000;\n",
       "}\n",
       "#T_96f95_row10_col4 {\n",
       "  background-color: #6f92f3;\n",
       "  color: #f1f1f1;\n",
       "}\n",
       "#T_96f95_row10_col7 {\n",
       "  background-color: #e6d7cf;\n",
       "  color: #000000;\n",
       "}\n",
       "#T_96f95_row11_col0 {\n",
       "  background-color: #516ddb;\n",
       "  color: #f1f1f1;\n",
       "}\n",
       "#T_96f95_row11_col4, #T_96f95_row11_col5, #T_96f95_row11_col6 {\n",
       "  background-color: #8caffe;\n",
       "  color: #000000;\n",
       "}\n",
       "</style>\n",
       "<table id=\"T_96f95\">\n",
       "  <thead>\n",
       "    <tr>\n",
       "      <th class=\"blank level0\" >&nbsp;</th>\n",
       "      <th id=\"T_96f95_level0_col0\" class=\"col_heading level0 col0\" >PassengerId</th>\n",
       "      <th id=\"T_96f95_level0_col1\" class=\"col_heading level0 col1\" >Survived</th>\n",
       "      <th id=\"T_96f95_level0_col2\" class=\"col_heading level0 col2\" >Pclass</th>\n",
       "      <th id=\"T_96f95_level0_col3\" class=\"col_heading level0 col3\" >Age</th>\n",
       "      <th id=\"T_96f95_level0_col4\" class=\"col_heading level0 col4\" >SibSp</th>\n",
       "      <th id=\"T_96f95_level0_col5\" class=\"col_heading level0 col5\" >Parch</th>\n",
       "      <th id=\"T_96f95_level0_col6\" class=\"col_heading level0 col6\" >Fare</th>\n",
       "      <th id=\"T_96f95_level0_col7\" class=\"col_heading level0 col7\" >Sex_female</th>\n",
       "      <th id=\"T_96f95_level0_col8\" class=\"col_heading level0 col8\" >Sex_male</th>\n",
       "      <th id=\"T_96f95_level0_col9\" class=\"col_heading level0 col9\" >Embarked_C</th>\n",
       "      <th id=\"T_96f95_level0_col10\" class=\"col_heading level0 col10\" >Embarked_Q</th>\n",
       "      <th id=\"T_96f95_level0_col11\" class=\"col_heading level0 col11\" >Embarked_S</th>\n",
       "    </tr>\n",
       "  </thead>\n",
       "  <tbody>\n",
       "    <tr>\n",
       "      <th id=\"T_96f95_level0_row0\" class=\"row_heading level0 row0\" >PassengerId</th>\n",
       "      <td id=\"T_96f95_row0_col0\" class=\"data row0 col0\" >1.00</td>\n",
       "      <td id=\"T_96f95_row0_col1\" class=\"data row0 col1\" >-0.01</td>\n",
       "      <td id=\"T_96f95_row0_col2\" class=\"data row0 col2\" >-0.04</td>\n",
       "      <td id=\"T_96f95_row0_col3\" class=\"data row0 col3\" >0.03</td>\n",
       "      <td id=\"T_96f95_row0_col4\" class=\"data row0 col4\" >-0.06</td>\n",
       "      <td id=\"T_96f95_row0_col5\" class=\"data row0 col5\" >-0.00</td>\n",
       "      <td id=\"T_96f95_row0_col6\" class=\"data row0 col6\" >0.01</td>\n",
       "      <td id=\"T_96f95_row0_col7\" class=\"data row0 col7\" >-0.04</td>\n",
       "      <td id=\"T_96f95_row0_col8\" class=\"data row0 col8\" >0.04</td>\n",
       "      <td id=\"T_96f95_row0_col9\" class=\"data row0 col9\" >-0.00</td>\n",
       "      <td id=\"T_96f95_row0_col10\" class=\"data row0 col10\" >-0.03</td>\n",
       "      <td id=\"T_96f95_row0_col11\" class=\"data row0 col11\" >0.02</td>\n",
       "    </tr>\n",
       "    <tr>\n",
       "      <th id=\"T_96f95_level0_row1\" class=\"row_heading level0 row1\" >Survived</th>\n",
       "      <td id=\"T_96f95_row1_col0\" class=\"data row1 col0\" >-0.01</td>\n",
       "      <td id=\"T_96f95_row1_col1\" class=\"data row1 col1\" >1.00</td>\n",
       "      <td id=\"T_96f95_row1_col2\" class=\"data row1 col2\" >-0.34</td>\n",
       "      <td id=\"T_96f95_row1_col3\" class=\"data row1 col3\" >-0.07</td>\n",
       "      <td id=\"T_96f95_row1_col4\" class=\"data row1 col4\" >-0.04</td>\n",
       "      <td id=\"T_96f95_row1_col5\" class=\"data row1 col5\" >0.08</td>\n",
       "      <td id=\"T_96f95_row1_col6\" class=\"data row1 col6\" >0.26</td>\n",
       "      <td id=\"T_96f95_row1_col7\" class=\"data row1 col7\" >0.54</td>\n",
       "      <td id=\"T_96f95_row1_col8\" class=\"data row1 col8\" >-0.54</td>\n",
       "      <td id=\"T_96f95_row1_col9\" class=\"data row1 col9\" >0.17</td>\n",
       "      <td id=\"T_96f95_row1_col10\" class=\"data row1 col10\" >0.00</td>\n",
       "      <td id=\"T_96f95_row1_col11\" class=\"data row1 col11\" >-0.16</td>\n",
       "    </tr>\n",
       "    <tr>\n",
       "      <th id=\"T_96f95_level0_row2\" class=\"row_heading level0 row2\" >Pclass</th>\n",
       "      <td id=\"T_96f95_row2_col0\" class=\"data row2 col0\" >-0.04</td>\n",
       "      <td id=\"T_96f95_row2_col1\" class=\"data row2 col1\" >-0.34</td>\n",
       "      <td id=\"T_96f95_row2_col2\" class=\"data row2 col2\" >1.00</td>\n",
       "      <td id=\"T_96f95_row2_col3\" class=\"data row2 col3\" >-0.33</td>\n",
       "      <td id=\"T_96f95_row2_col4\" class=\"data row2 col4\" >0.08</td>\n",
       "      <td id=\"T_96f95_row2_col5\" class=\"data row2 col5\" >0.02</td>\n",
       "      <td id=\"T_96f95_row2_col6\" class=\"data row2 col6\" >-0.55</td>\n",
       "      <td id=\"T_96f95_row2_col7\" class=\"data row2 col7\" >-0.13</td>\n",
       "      <td id=\"T_96f95_row2_col8\" class=\"data row2 col8\" >0.13</td>\n",
       "      <td id=\"T_96f95_row2_col9\" class=\"data row2 col9\" >-0.24</td>\n",
       "      <td id=\"T_96f95_row2_col10\" class=\"data row2 col10\" >0.22</td>\n",
       "      <td id=\"T_96f95_row2_col11\" class=\"data row2 col11\" >0.08</td>\n",
       "    </tr>\n",
       "    <tr>\n",
       "      <th id=\"T_96f95_level0_row3\" class=\"row_heading level0 row3\" >Age</th>\n",
       "      <td id=\"T_96f95_row3_col0\" class=\"data row3 col0\" >0.03</td>\n",
       "      <td id=\"T_96f95_row3_col1\" class=\"data row3 col1\" >-0.07</td>\n",
       "      <td id=\"T_96f95_row3_col2\" class=\"data row3 col2\" >-0.33</td>\n",
       "      <td id=\"T_96f95_row3_col3\" class=\"data row3 col3\" >1.00</td>\n",
       "      <td id=\"T_96f95_row3_col4\" class=\"data row3 col4\" >-0.23</td>\n",
       "      <td id=\"T_96f95_row3_col5\" class=\"data row3 col5\" >-0.18</td>\n",
       "      <td id=\"T_96f95_row3_col6\" class=\"data row3 col6\" >0.09</td>\n",
       "      <td id=\"T_96f95_row3_col7\" class=\"data row3 col7\" >-0.08</td>\n",
       "      <td id=\"T_96f95_row3_col8\" class=\"data row3 col8\" >0.08</td>\n",
       "      <td id=\"T_96f95_row3_col9\" class=\"data row3 col9\" >0.03</td>\n",
       "      <td id=\"T_96f95_row3_col10\" class=\"data row3 col10\" >-0.01</td>\n",
       "      <td id=\"T_96f95_row3_col11\" class=\"data row3 col11\" >-0.03</td>\n",
       "    </tr>\n",
       "    <tr>\n",
       "      <th id=\"T_96f95_level0_row4\" class=\"row_heading level0 row4\" >SibSp</th>\n",
       "      <td id=\"T_96f95_row4_col0\" class=\"data row4 col0\" >-0.06</td>\n",
       "      <td id=\"T_96f95_row4_col1\" class=\"data row4 col1\" >-0.04</td>\n",
       "      <td id=\"T_96f95_row4_col2\" class=\"data row4 col2\" >0.08</td>\n",
       "      <td id=\"T_96f95_row4_col3\" class=\"data row4 col3\" >-0.23</td>\n",
       "      <td id=\"T_96f95_row4_col4\" class=\"data row4 col4\" >1.00</td>\n",
       "      <td id=\"T_96f95_row4_col5\" class=\"data row4 col5\" >0.41</td>\n",
       "      <td id=\"T_96f95_row4_col6\" class=\"data row4 col6\" >0.16</td>\n",
       "      <td id=\"T_96f95_row4_col7\" class=\"data row4 col7\" >0.11</td>\n",
       "      <td id=\"T_96f95_row4_col8\" class=\"data row4 col8\" >-0.11</td>\n",
       "      <td id=\"T_96f95_row4_col9\" class=\"data row4 col9\" >-0.06</td>\n",
       "      <td id=\"T_96f95_row4_col10\" class=\"data row4 col10\" >-0.03</td>\n",
       "      <td id=\"T_96f95_row4_col11\" class=\"data row4 col11\" >0.07</td>\n",
       "    </tr>\n",
       "    <tr>\n",
       "      <th id=\"T_96f95_level0_row5\" class=\"row_heading level0 row5\" >Parch</th>\n",
       "      <td id=\"T_96f95_row5_col0\" class=\"data row5 col0\" >-0.00</td>\n",
       "      <td id=\"T_96f95_row5_col1\" class=\"data row5 col1\" >0.08</td>\n",
       "      <td id=\"T_96f95_row5_col2\" class=\"data row5 col2\" >0.02</td>\n",
       "      <td id=\"T_96f95_row5_col3\" class=\"data row5 col3\" >-0.18</td>\n",
       "      <td id=\"T_96f95_row5_col4\" class=\"data row5 col4\" >0.41</td>\n",
       "      <td id=\"T_96f95_row5_col5\" class=\"data row5 col5\" >1.00</td>\n",
       "      <td id=\"T_96f95_row5_col6\" class=\"data row5 col6\" >0.22</td>\n",
       "      <td id=\"T_96f95_row5_col7\" class=\"data row5 col7\" >0.25</td>\n",
       "      <td id=\"T_96f95_row5_col8\" class=\"data row5 col8\" >-0.25</td>\n",
       "      <td id=\"T_96f95_row5_col9\" class=\"data row5 col9\" >-0.01</td>\n",
       "      <td id=\"T_96f95_row5_col10\" class=\"data row5 col10\" >-0.08</td>\n",
       "      <td id=\"T_96f95_row5_col11\" class=\"data row5 col11\" >0.06</td>\n",
       "    </tr>\n",
       "    <tr>\n",
       "      <th id=\"T_96f95_level0_row6\" class=\"row_heading level0 row6\" >Fare</th>\n",
       "      <td id=\"T_96f95_row6_col0\" class=\"data row6 col0\" >0.01</td>\n",
       "      <td id=\"T_96f95_row6_col1\" class=\"data row6 col1\" >0.26</td>\n",
       "      <td id=\"T_96f95_row6_col2\" class=\"data row6 col2\" >-0.55</td>\n",
       "      <td id=\"T_96f95_row6_col3\" class=\"data row6 col3\" >0.09</td>\n",
       "      <td id=\"T_96f95_row6_col4\" class=\"data row6 col4\" >0.16</td>\n",
       "      <td id=\"T_96f95_row6_col5\" class=\"data row6 col5\" >0.22</td>\n",
       "      <td id=\"T_96f95_row6_col6\" class=\"data row6 col6\" >1.00</td>\n",
       "      <td id=\"T_96f95_row6_col7\" class=\"data row6 col7\" >0.18</td>\n",
       "      <td id=\"T_96f95_row6_col8\" class=\"data row6 col8\" >-0.18</td>\n",
       "      <td id=\"T_96f95_row6_col9\" class=\"data row6 col9\" >0.27</td>\n",
       "      <td id=\"T_96f95_row6_col10\" class=\"data row6 col10\" >-0.12</td>\n",
       "      <td id=\"T_96f95_row6_col11\" class=\"data row6 col11\" >-0.17</td>\n",
       "    </tr>\n",
       "    <tr>\n",
       "      <th id=\"T_96f95_level0_row7\" class=\"row_heading level0 row7\" >Sex_female</th>\n",
       "      <td id=\"T_96f95_row7_col0\" class=\"data row7 col0\" >-0.04</td>\n",
       "      <td id=\"T_96f95_row7_col1\" class=\"data row7 col1\" >0.54</td>\n",
       "      <td id=\"T_96f95_row7_col2\" class=\"data row7 col2\" >-0.13</td>\n",
       "      <td id=\"T_96f95_row7_col3\" class=\"data row7 col3\" >-0.08</td>\n",
       "      <td id=\"T_96f95_row7_col4\" class=\"data row7 col4\" >0.11</td>\n",
       "      <td id=\"T_96f95_row7_col5\" class=\"data row7 col5\" >0.25</td>\n",
       "      <td id=\"T_96f95_row7_col6\" class=\"data row7 col6\" >0.18</td>\n",
       "      <td id=\"T_96f95_row7_col7\" class=\"data row7 col7\" >1.00</td>\n",
       "      <td id=\"T_96f95_row7_col8\" class=\"data row7 col8\" >-1.00</td>\n",
       "      <td id=\"T_96f95_row7_col9\" class=\"data row7 col9\" >0.08</td>\n",
       "      <td id=\"T_96f95_row7_col10\" class=\"data row7 col10\" >0.07</td>\n",
       "      <td id=\"T_96f95_row7_col11\" class=\"data row7 col11\" >-0.13</td>\n",
       "    </tr>\n",
       "    <tr>\n",
       "      <th id=\"T_96f95_level0_row8\" class=\"row_heading level0 row8\" >Sex_male</th>\n",
       "      <td id=\"T_96f95_row8_col0\" class=\"data row8 col0\" >0.04</td>\n",
       "      <td id=\"T_96f95_row8_col1\" class=\"data row8 col1\" >-0.54</td>\n",
       "      <td id=\"T_96f95_row8_col2\" class=\"data row8 col2\" >0.13</td>\n",
       "      <td id=\"T_96f95_row8_col3\" class=\"data row8 col3\" >0.08</td>\n",
       "      <td id=\"T_96f95_row8_col4\" class=\"data row8 col4\" >-0.11</td>\n",
       "      <td id=\"T_96f95_row8_col5\" class=\"data row8 col5\" >-0.25</td>\n",
       "      <td id=\"T_96f95_row8_col6\" class=\"data row8 col6\" >-0.18</td>\n",
       "      <td id=\"T_96f95_row8_col7\" class=\"data row8 col7\" >-1.00</td>\n",
       "      <td id=\"T_96f95_row8_col8\" class=\"data row8 col8\" >1.00</td>\n",
       "      <td id=\"T_96f95_row8_col9\" class=\"data row8 col9\" >-0.08</td>\n",
       "      <td id=\"T_96f95_row8_col10\" class=\"data row8 col10\" >-0.07</td>\n",
       "      <td id=\"T_96f95_row8_col11\" class=\"data row8 col11\" >0.13</td>\n",
       "    </tr>\n",
       "    <tr>\n",
       "      <th id=\"T_96f95_level0_row9\" class=\"row_heading level0 row9\" >Embarked_C</th>\n",
       "      <td id=\"T_96f95_row9_col0\" class=\"data row9 col0\" >-0.00</td>\n",
       "      <td id=\"T_96f95_row9_col1\" class=\"data row9 col1\" >0.17</td>\n",
       "      <td id=\"T_96f95_row9_col2\" class=\"data row9 col2\" >-0.24</td>\n",
       "      <td id=\"T_96f95_row9_col3\" class=\"data row9 col3\" >0.03</td>\n",
       "      <td id=\"T_96f95_row9_col4\" class=\"data row9 col4\" >-0.06</td>\n",
       "      <td id=\"T_96f95_row9_col5\" class=\"data row9 col5\" >-0.01</td>\n",
       "      <td id=\"T_96f95_row9_col6\" class=\"data row9 col6\" >0.27</td>\n",
       "      <td id=\"T_96f95_row9_col7\" class=\"data row9 col7\" >0.08</td>\n",
       "      <td id=\"T_96f95_row9_col8\" class=\"data row9 col8\" >-0.08</td>\n",
       "      <td id=\"T_96f95_row9_col9\" class=\"data row9 col9\" >1.00</td>\n",
       "      <td id=\"T_96f95_row9_col10\" class=\"data row9 col10\" >-0.15</td>\n",
       "      <td id=\"T_96f95_row9_col11\" class=\"data row9 col11\" >-0.78</td>\n",
       "    </tr>\n",
       "    <tr>\n",
       "      <th id=\"T_96f95_level0_row10\" class=\"row_heading level0 row10\" >Embarked_Q</th>\n",
       "      <td id=\"T_96f95_row10_col0\" class=\"data row10 col0\" >-0.03</td>\n",
       "      <td id=\"T_96f95_row10_col1\" class=\"data row10 col1\" >0.00</td>\n",
       "      <td id=\"T_96f95_row10_col2\" class=\"data row10 col2\" >0.22</td>\n",
       "      <td id=\"T_96f95_row10_col3\" class=\"data row10 col3\" >-0.01</td>\n",
       "      <td id=\"T_96f95_row10_col4\" class=\"data row10 col4\" >-0.03</td>\n",
       "      <td id=\"T_96f95_row10_col5\" class=\"data row10 col5\" >-0.08</td>\n",
       "      <td id=\"T_96f95_row10_col6\" class=\"data row10 col6\" >-0.12</td>\n",
       "      <td id=\"T_96f95_row10_col7\" class=\"data row10 col7\" >0.07</td>\n",
       "      <td id=\"T_96f95_row10_col8\" class=\"data row10 col8\" >-0.07</td>\n",
       "      <td id=\"T_96f95_row10_col9\" class=\"data row10 col9\" >-0.15</td>\n",
       "      <td id=\"T_96f95_row10_col10\" class=\"data row10 col10\" >1.00</td>\n",
       "      <td id=\"T_96f95_row10_col11\" class=\"data row10 col11\" >-0.50</td>\n",
       "    </tr>\n",
       "    <tr>\n",
       "      <th id=\"T_96f95_level0_row11\" class=\"row_heading level0 row11\" >Embarked_S</th>\n",
       "      <td id=\"T_96f95_row11_col0\" class=\"data row11 col0\" >0.02</td>\n",
       "      <td id=\"T_96f95_row11_col1\" class=\"data row11 col1\" >-0.16</td>\n",
       "      <td id=\"T_96f95_row11_col2\" class=\"data row11 col2\" >0.08</td>\n",
       "      <td id=\"T_96f95_row11_col3\" class=\"data row11 col3\" >-0.03</td>\n",
       "      <td id=\"T_96f95_row11_col4\" class=\"data row11 col4\" >0.07</td>\n",
       "      <td id=\"T_96f95_row11_col5\" class=\"data row11 col5\" >0.06</td>\n",
       "      <td id=\"T_96f95_row11_col6\" class=\"data row11 col6\" >-0.17</td>\n",
       "      <td id=\"T_96f95_row11_col7\" class=\"data row11 col7\" >-0.13</td>\n",
       "      <td id=\"T_96f95_row11_col8\" class=\"data row11 col8\" >0.13</td>\n",
       "      <td id=\"T_96f95_row11_col9\" class=\"data row11 col9\" >-0.78</td>\n",
       "      <td id=\"T_96f95_row11_col10\" class=\"data row11 col10\" >-0.50</td>\n",
       "      <td id=\"T_96f95_row11_col11\" class=\"data row11 col11\" >1.00</td>\n",
       "    </tr>\n",
       "  </tbody>\n",
       "</table>\n"
      ],
      "text/plain": [
       "<pandas.io.formats.style.Styler at 0x7f00d8ba66e0>"
      ]
     },
     "execution_count": 9,
     "metadata": {},
     "output_type": "execute_result"
    }
   ],
   "source": [
    "df.corr() \\\n",
    "    .style.background_gradient(cmap='coolwarm') \\\n",
    "    .format(precision = 2)"
   ]
  },
  {
   "cell_type": "markdown",
   "id": "122e721c",
   "metadata": {
    "papermill": {
     "duration": 0.012156,
     "end_time": "2022-10-03T18:29:04.875650",
     "exception": false,
     "start_time": "2022-10-03T18:29:04.863494",
     "status": "completed"
    },
    "tags": []
   },
   "source": [
    "# Machine learning"
   ]
  },
  {
   "cell_type": "markdown",
   "id": "d8231e06",
   "metadata": {
    "papermill": {
     "duration": 0.012113,
     "end_time": "2022-10-03T18:29:04.900186",
     "exception": false,
     "start_time": "2022-10-03T18:29:04.888073",
     "status": "completed"
    },
    "tags": []
   },
   "source": [
    "## Common operations"
   ]
  },
  {
   "cell_type": "markdown",
   "id": "0897610f",
   "metadata": {
    "papermill": {
     "duration": 0.011998,
     "end_time": "2022-10-03T18:29:05.502831",
     "exception": false,
     "start_time": "2022-10-03T18:29:05.490833",
     "status": "completed"
    },
    "tags": []
   },
   "source": [
    "### Preparing the comparison table"
   ]
  },
  {
   "cell_type": "code",
   "execution_count": 10,
   "id": "2fe8fc5f",
   "metadata": {
    "papermill": {
     "duration": 0.02394,
     "end_time": "2022-10-03T18:29:05.539126",
     "exception": false,
     "start_time": "2022-10-03T18:29:05.515186",
     "status": "completed"
    },
    "tags": []
   },
   "outputs": [],
   "source": [
    "columns = ['Model','accuracy score', ' Precision','Recall','f1_score']\n",
    "evaluation_df = pd.DataFrame(columns=columns)"
   ]
  },
  {
   "cell_type": "markdown",
   "id": "b619b31a",
   "metadata": {
    "papermill": {
     "duration": 0.012063,
     "end_time": "2022-10-03T18:29:05.563828",
     "exception": false,
     "start_time": "2022-10-03T18:29:05.551765",
     "status": "completed"
    },
    "tags": []
   },
   "source": [
    "### Drawing ROC"
   ]
  },
  {
   "cell_type": "code",
   "execution_count": 11,
   "id": "a453b472",
   "metadata": {
    "papermill": {
     "duration": 0.022048,
     "end_time": "2022-10-03T18:29:05.598370",
     "exception": false,
     "start_time": "2022-10-03T18:29:05.576322",
     "status": "completed"
    },
    "tags": []
   },
   "outputs": [],
   "source": [
    "def drawROC(model):\n",
    "    pred = model.predict(X_test)\n",
    "    metrics.RocCurveDisplay.from_predictions(y_test, pred)\n",
    "    plt.show()"
   ]
  },
  {
   "cell_type": "markdown",
   "id": "62c8f288",
   "metadata": {
    "papermill": {
     "duration": 0.012071,
     "end_time": "2022-10-03T18:29:05.623005",
     "exception": false,
     "start_time": "2022-10-03T18:29:05.610934",
     "status": "completed"
    },
    "tags": []
   },
   "source": [
    "### Executing a given algorithm"
   ]
  },
  {
   "cell_type": "code",
   "execution_count": 12,
   "id": "f8ff637f",
   "metadata": {
    "papermill": {
     "duration": 0.024763,
     "end_time": "2022-10-03T18:29:05.660403",
     "exception": false,
     "start_time": "2022-10-03T18:29:05.635640",
     "status": "completed"
    },
    "tags": []
   },
   "outputs": [],
   "source": [
    "import sklearn.metrics as metrics\n",
    "\n",
    "def execute_ml(model):\n",
    "    model.fit(X_train,y_train)\n",
    "    pred = model.predict(X_test)\n",
    "    \n",
    "    accuracy_score  = metrics.accuracy_score(y_test,pred)\n",
    "    precision_score = metrics.precision_score(y_test, pred)\n",
    "    recall_score = metrics.recall_score(y_test, pred)\n",
    "    f1_score = metrics.f1_score(y_test,pred)\n",
    "    evaluation_df.loc[len(evaluation_df.index)] = [type(model).__name__,accuracy_score,precision_score,recall_score, f1_score]    \n",
    "    \n",
    "    print(metrics.classification_report(y_test,pred))\n",
    "        \n",
    "    metrics.ConfusionMatrixDisplay.from_predictions(y_test, pred)\n",
    "    plt.show()\n",
    "    \n",
    "    return model"
   ]
  },
  {
   "cell_type": "markdown",
   "id": "bb48cdc9",
   "metadata": {
    "papermill": {
     "duration": 0.012137,
     "end_time": "2022-10-03T18:29:05.685153",
     "exception": false,
     "start_time": "2022-10-03T18:29:05.673016",
     "status": "completed"
    },
    "tags": []
   },
   "source": [
    "### Cross validation"
   ]
  },
  {
   "cell_type": "code",
   "execution_count": 13,
   "id": "0fedfd96",
   "metadata": {
    "papermill": {
     "duration": 0.022787,
     "end_time": "2022-10-03T18:29:05.720574",
     "exception": false,
     "start_time": "2022-10-03T18:29:05.697787",
     "status": "completed"
    },
    "tags": []
   },
   "outputs": [],
   "source": [
    "from sklearn.model_selection import cross_validate\n",
    "\n",
    "def perform_cross_validation(model):\n",
    "    cross_validation_result = cross_validate(model,\n",
    "                                             X_train, y_train,\n",
    "                                             return_train_score=True)\n",
    "\n",
    "    return cross_validation_result"
   ]
  },
  {
   "cell_type": "markdown",
   "id": "86338895",
   "metadata": {
    "papermill": {
     "duration": 0.012102,
     "end_time": "2022-10-03T18:29:05.745319",
     "exception": false,
     "start_time": "2022-10-03T18:29:05.733217",
     "status": "completed"
    },
    "tags": []
   },
   "source": [
    "### Tweaking threshold\n",
    "\n",
    "Instead of using the predefined <i>predict</i>, the function is customized to use the given threshold."
   ]
  },
  {
   "cell_type": "code",
   "execution_count": 14,
   "id": "9a1fda76",
   "metadata": {
    "papermill": {
     "duration": 0.022391,
     "end_time": "2022-10-03T18:29:05.780321",
     "exception": false,
     "start_time": "2022-10-03T18:29:05.757930",
     "status": "completed"
    },
    "tags": []
   },
   "outputs": [],
   "source": [
    "def execute_using_threshold(model, t):\n",
    "    model.fit(X_train,y_train)\n",
    "    pred_prob = model.predict_proba(X_test)\n",
    "    pred = [1 if pred_prob[i][1]> t else 0 for i in range(len(pred_prob))]\n",
    "    \n",
    "    print(\"Threshold: %f\" %t)\n",
    "    print(metrics.classification_report(y_test,pred))\n",
    "    metrics.ConfusionMatrixDisplay.from_predictions(y_test,pred)\n",
    "    plt.show()"
   ]
  },
  {
   "cell_type": "markdown",
   "id": "a938d2db-eb08-4cc6-923e-cf7262d5ab16",
   "metadata": {},
   "source": [
    "### Hyperparameter tuning"
   ]
  },
  {
   "cell_type": "code",
   "execution_count": 15,
   "id": "c7094361-84a5-4698-ac93-b3b0417bab2f",
   "metadata": {},
   "outputs": [],
   "source": [
    "from sklearn.model_selection import GridSearchCV\n",
    "\n",
    "def grid_search(model, hyper_params):\n",
    "    X, _, y, _ = train_test_split(X_train, y_train, stratify=y_train, random_state=12, train_size=.2)\n",
    "    \n",
    "    gs = GridSearchCV(\n",
    "        estimator=model, \n",
    "        param_grid=hyper_params, \n",
    "        n_jobs=-1, \n",
    "        cv=5, \n",
    "        scoring='accuracy',\n",
    "        error_score=0)\n",
    "\n",
    "    grid_results = gs.fit(X, y)\n",
    "\n",
    "    print(\"Maximum accuracy of %f was yielded using: %s\" % (grid_results.best_score_, grid_results.best_params_))\n",
    "    grid_means = grid_results.cv_results_['mean_test_score']\n",
    "    grid_params = grid_results.cv_results_['params']\n",
    "    for param, mean in zip(grid_params, grid_means):\n",
    "        print(\"%s => %f\" % (param, mean))"
   ]
  },
  {
   "cell_type": "markdown",
   "id": "2161e840",
   "metadata": {
    "papermill": {
     "duration": 0.012294,
     "end_time": "2022-10-03T18:29:05.805304",
     "exception": false,
     "start_time": "2022-10-03T18:29:05.793010",
     "status": "completed"
    },
    "tags": []
   },
   "source": [
    "## Specifying the independent and target features"
   ]
  },
  {
   "cell_type": "code",
   "execution_count": 16,
   "id": "da8e8f05",
   "metadata": {
    "papermill": {
     "duration": 0.046563,
     "end_time": "2022-10-03T18:29:05.864465",
     "exception": false,
     "start_time": "2022-10-03T18:29:05.817902",
     "status": "completed"
    },
    "tags": []
   },
   "outputs": [],
   "source": [
    "X = df.drop(['Survived'], axis='columns')\n",
    "y = df['Survived']"
   ]
  },
  {
   "cell_type": "markdown",
   "id": "c0730662",
   "metadata": {
    "papermill": {
     "duration": 0.012237,
     "end_time": "2022-10-03T18:29:05.889455",
     "exception": false,
     "start_time": "2022-10-03T18:29:05.877218",
     "status": "completed"
    },
    "tags": []
   },
   "source": [
    "Embarked## Splitting the dataset into training and testing subsets\n",
    "<br>\n",
    "<b>random_state</b> simply initializes the randomizer and can be any number\n",
    "<br>\n",
    "<b>test_size</b> and <b>train_size</b> are fractions of the whole dataset"
   ]
  },
  {
   "cell_type": "code",
   "execution_count": 17,
   "id": "11752411",
   "metadata": {
    "papermill": {
     "duration": 0.077364,
     "end_time": "2022-10-03T18:29:05.979788",
     "exception": false,
     "start_time": "2022-10-03T18:29:05.902424",
     "status": "completed"
    },
    "tags": []
   },
   "outputs": [],
   "source": [
    "from sklearn.model_selection import train_test_split\n",
    "np.random.seed(42)\n",
    "\n",
    "X_train, X_test, y_train, y_test = train_test_split(X, y, stratify=y, random_state=12, train_size=.8)"
   ]
  },
  {
   "cell_type": "markdown",
   "id": "5b596690",
   "metadata": {
    "papermill": {
     "duration": 0.012694,
     "end_time": "2022-10-03T18:29:06.006282",
     "exception": false,
     "start_time": "2022-10-03T18:29:05.993588",
     "status": "completed"
    },
    "tags": []
   },
   "source": [
    "## Machine learning algorithms"
   ]
  },
  {
   "cell_type": "markdown",
   "id": "72c6a0d5",
   "metadata": {
    "papermill": {
     "duration": 0.012083,
     "end_time": "2022-10-03T18:29:06.031023",
     "exception": false,
     "start_time": "2022-10-03T18:29:06.018940",
     "status": "completed"
    },
    "tags": []
   },
   "source": [
    "### K-Nearest Neighbors"
   ]
  },
  {
   "cell_type": "markdown",
   "id": "2c5bcd1c-abb7-430b-943c-848c6f4e16ea",
   "metadata": {},
   "source": [
    "#### Hyperparameter Tuning"
   ]
  },
  {
   "cell_type": "code",
   "execution_count": 88,
   "id": "a0f12bb7-db39-49ce-887b-b37e3859557f",
   "metadata": {},
   "outputs": [
    {
     "name": "stdout",
     "output_type": "stream",
     "text": [
      "Maximum accuracy of 0.683005 was yielded using: {'metric': 'manhattan', 'n_neighbors': 15, 'weights': 'distance'}\n",
      "{'metric': 'euclidean', 'n_neighbors': 15, 'weights': 'uniform'} => 0.619951\n",
      "{'metric': 'euclidean', 'n_neighbors': 15, 'weights': 'distance'} => 0.676108\n",
      "{'metric': 'euclidean', 'n_neighbors': 17, 'weights': 'uniform'} => 0.633990\n",
      "{'metric': 'euclidean', 'n_neighbors': 17, 'weights': 'distance'} => 0.662315\n",
      "{'metric': 'euclidean', 'n_neighbors': 19, 'weights': 'uniform'} => 0.627340\n",
      "{'metric': 'euclidean', 'n_neighbors': 19, 'weights': 'distance'} => 0.669212\n",
      "{'metric': 'euclidean', 'n_neighbors': 21, 'weights': 'uniform'} => 0.620443\n",
      "{'metric': 'euclidean', 'n_neighbors': 21, 'weights': 'distance'} => 0.669458\n",
      "{'metric': 'euclidean', 'n_neighbors': 23, 'weights': 'uniform'} => 0.633990\n",
      "{'metric': 'euclidean', 'n_neighbors': 23, 'weights': 'distance'} => 0.655172\n",
      "{'metric': 'euclidean', 'n_neighbors': 25, 'weights': 'uniform'} => 0.640887\n",
      "{'metric': 'euclidean', 'n_neighbors': 25, 'weights': 'distance'} => 0.648030\n",
      "{'metric': 'euclidean', 'n_neighbors': 27, 'weights': 'uniform'} => 0.633990\n",
      "{'metric': 'euclidean', 'n_neighbors': 27, 'weights': 'distance'} => 0.662069\n",
      "{'metric': 'euclidean', 'n_neighbors': 29, 'weights': 'uniform'} => 0.633990\n",
      "{'metric': 'euclidean', 'n_neighbors': 29, 'weights': 'distance'} => 0.648030\n",
      "{'metric': 'euclidean', 'n_neighbors': 31, 'weights': 'uniform'} => 0.626847\n",
      "{'metric': 'euclidean', 'n_neighbors': 31, 'weights': 'distance'} => 0.669212\n",
      "{'metric': 'euclidean', 'n_neighbors': 33, 'weights': 'uniform'} => 0.626847\n",
      "{'metric': 'euclidean', 'n_neighbors': 33, 'weights': 'distance'} => 0.662069\n",
      "{'metric': 'euclidean', 'n_neighbors': 35, 'weights': 'uniform'} => 0.626847\n",
      "{'metric': 'euclidean', 'n_neighbors': 35, 'weights': 'distance'} => 0.662069\n",
      "{'metric': 'euclidean', 'n_neighbors': 37, 'weights': 'uniform'} => 0.626847\n",
      "{'metric': 'euclidean', 'n_neighbors': 37, 'weights': 'distance'} => 0.662069\n",
      "{'metric': 'euclidean', 'n_neighbors': 39, 'weights': 'uniform'} => 0.619704\n",
      "{'metric': 'euclidean', 'n_neighbors': 39, 'weights': 'distance'} => 0.662069\n",
      "{'metric': 'euclidean', 'n_neighbors': 41, 'weights': 'uniform'} => 0.619704\n",
      "{'metric': 'euclidean', 'n_neighbors': 41, 'weights': 'distance'} => 0.662069\n",
      "{'metric': 'euclidean', 'n_neighbors': 43, 'weights': 'uniform'} => 0.619704\n",
      "{'metric': 'euclidean', 'n_neighbors': 43, 'weights': 'distance'} => 0.661823\n",
      "{'metric': 'euclidean', 'n_neighbors': 45, 'weights': 'uniform'} => 0.619704\n",
      "{'metric': 'euclidean', 'n_neighbors': 45, 'weights': 'distance'} => 0.654926\n",
      "{'metric': 'euclidean', 'n_neighbors': 47, 'weights': 'uniform'} => 0.619704\n",
      "{'metric': 'euclidean', 'n_neighbors': 47, 'weights': 'distance'} => 0.640640\n",
      "{'metric': 'euclidean', 'n_neighbors': 49, 'weights': 'uniform'} => 0.619704\n",
      "{'metric': 'euclidean', 'n_neighbors': 49, 'weights': 'distance'} => 0.619704\n",
      "{'metric': 'euclidean', 'n_neighbors': 51, 'weights': 'uniform'} => 0.619704\n",
      "{'metric': 'euclidean', 'n_neighbors': 51, 'weights': 'distance'} => 0.619704\n",
      "{'metric': 'euclidean', 'n_neighbors': 53, 'weights': 'uniform'} => 0.619704\n",
      "{'metric': 'euclidean', 'n_neighbors': 53, 'weights': 'distance'} => 0.619704\n",
      "{'metric': 'euclidean', 'n_neighbors': 55, 'weights': 'uniform'} => 0.619704\n",
      "{'metric': 'euclidean', 'n_neighbors': 55, 'weights': 'distance'} => 0.619704\n",
      "{'metric': 'euclidean', 'n_neighbors': 57, 'weights': 'uniform'} => 0.619704\n",
      "{'metric': 'euclidean', 'n_neighbors': 57, 'weights': 'distance'} => 0.619704\n",
      "{'metric': 'euclidean', 'n_neighbors': 59, 'weights': 'uniform'} => 0.619704\n",
      "{'metric': 'euclidean', 'n_neighbors': 59, 'weights': 'distance'} => 0.619704\n",
      "{'metric': 'manhattan', 'n_neighbors': 15, 'weights': 'uniform'} => 0.619951\n",
      "{'metric': 'manhattan', 'n_neighbors': 15, 'weights': 'distance'} => 0.683005\n",
      "{'metric': 'manhattan', 'n_neighbors': 17, 'weights': 'uniform'} => 0.627094\n",
      "{'metric': 'manhattan', 'n_neighbors': 17, 'weights': 'distance'} => 0.662069\n",
      "{'metric': 'manhattan', 'n_neighbors': 19, 'weights': 'uniform'} => 0.641133\n",
      "{'metric': 'manhattan', 'n_neighbors': 19, 'weights': 'distance'} => 0.655172\n",
      "{'metric': 'manhattan', 'n_neighbors': 21, 'weights': 'uniform'} => 0.641133\n",
      "{'metric': 'manhattan', 'n_neighbors': 21, 'weights': 'distance'} => 0.641133\n",
      "{'metric': 'manhattan', 'n_neighbors': 23, 'weights': 'uniform'} => 0.648030\n",
      "{'metric': 'manhattan', 'n_neighbors': 23, 'weights': 'distance'} => 0.648030\n",
      "{'metric': 'manhattan', 'n_neighbors': 25, 'weights': 'uniform'} => 0.641133\n",
      "{'metric': 'manhattan', 'n_neighbors': 25, 'weights': 'distance'} => 0.647783\n",
      "{'metric': 'manhattan', 'n_neighbors': 27, 'weights': 'uniform'} => 0.641133\n",
      "{'metric': 'manhattan', 'n_neighbors': 27, 'weights': 'distance'} => 0.648030\n",
      "{'metric': 'manhattan', 'n_neighbors': 29, 'weights': 'uniform'} => 0.633990\n",
      "{'metric': 'manhattan', 'n_neighbors': 29, 'weights': 'distance'} => 0.640887\n",
      "{'metric': 'manhattan', 'n_neighbors': 31, 'weights': 'uniform'} => 0.627094\n",
      "{'metric': 'manhattan', 'n_neighbors': 31, 'weights': 'distance'} => 0.648030\n",
      "{'metric': 'manhattan', 'n_neighbors': 33, 'weights': 'uniform'} => 0.633990\n",
      "{'metric': 'manhattan', 'n_neighbors': 33, 'weights': 'distance'} => 0.648030\n",
      "{'metric': 'manhattan', 'n_neighbors': 35, 'weights': 'uniform'} => 0.633990\n",
      "{'metric': 'manhattan', 'n_neighbors': 35, 'weights': 'distance'} => 0.648030\n",
      "{'metric': 'manhattan', 'n_neighbors': 37, 'weights': 'uniform'} => 0.626847\n",
      "{'metric': 'manhattan', 'n_neighbors': 37, 'weights': 'distance'} => 0.648030\n",
      "{'metric': 'manhattan', 'n_neighbors': 39, 'weights': 'uniform'} => 0.619704\n",
      "{'metric': 'manhattan', 'n_neighbors': 39, 'weights': 'distance'} => 0.648030\n",
      "{'metric': 'manhattan', 'n_neighbors': 41, 'weights': 'uniform'} => 0.619704\n",
      "{'metric': 'manhattan', 'n_neighbors': 41, 'weights': 'distance'} => 0.640887\n",
      "{'metric': 'manhattan', 'n_neighbors': 43, 'weights': 'uniform'} => 0.619704\n",
      "{'metric': 'manhattan', 'n_neighbors': 43, 'weights': 'distance'} => 0.640887\n",
      "{'metric': 'manhattan', 'n_neighbors': 45, 'weights': 'uniform'} => 0.619704\n",
      "{'metric': 'manhattan', 'n_neighbors': 45, 'weights': 'distance'} => 0.640887\n",
      "{'metric': 'manhattan', 'n_neighbors': 47, 'weights': 'uniform'} => 0.619704\n",
      "{'metric': 'manhattan', 'n_neighbors': 47, 'weights': 'distance'} => 0.633744\n",
      "{'metric': 'manhattan', 'n_neighbors': 49, 'weights': 'uniform'} => 0.619704\n",
      "{'metric': 'manhattan', 'n_neighbors': 49, 'weights': 'distance'} => 0.633744\n",
      "{'metric': 'manhattan', 'n_neighbors': 51, 'weights': 'uniform'} => 0.619704\n",
      "{'metric': 'manhattan', 'n_neighbors': 51, 'weights': 'distance'} => 0.633744\n",
      "{'metric': 'manhattan', 'n_neighbors': 53, 'weights': 'uniform'} => 0.619704\n",
      "{'metric': 'manhattan', 'n_neighbors': 53, 'weights': 'distance'} => 0.626601\n",
      "{'metric': 'manhattan', 'n_neighbors': 55, 'weights': 'uniform'} => 0.619704\n",
      "{'metric': 'manhattan', 'n_neighbors': 55, 'weights': 'distance'} => 0.626601\n",
      "{'metric': 'manhattan', 'n_neighbors': 57, 'weights': 'uniform'} => 0.619704\n",
      "{'metric': 'manhattan', 'n_neighbors': 57, 'weights': 'distance'} => 0.626601\n",
      "{'metric': 'manhattan', 'n_neighbors': 59, 'weights': 'uniform'} => 0.619704\n",
      "{'metric': 'manhattan', 'n_neighbors': 59, 'weights': 'distance'} => 0.633744\n",
      "{'metric': 'minkowski', 'n_neighbors': 15, 'weights': 'uniform'} => 0.619951\n",
      "{'metric': 'minkowski', 'n_neighbors': 15, 'weights': 'distance'} => 0.676108\n",
      "{'metric': 'minkowski', 'n_neighbors': 17, 'weights': 'uniform'} => 0.633990\n",
      "{'metric': 'minkowski', 'n_neighbors': 17, 'weights': 'distance'} => 0.662315\n",
      "{'metric': 'minkowski', 'n_neighbors': 19, 'weights': 'uniform'} => 0.627340\n",
      "{'metric': 'minkowski', 'n_neighbors': 19, 'weights': 'distance'} => 0.669212\n",
      "{'metric': 'minkowski', 'n_neighbors': 21, 'weights': 'uniform'} => 0.620443\n",
      "{'metric': 'minkowski', 'n_neighbors': 21, 'weights': 'distance'} => 0.669458\n",
      "{'metric': 'minkowski', 'n_neighbors': 23, 'weights': 'uniform'} => 0.633990\n",
      "{'metric': 'minkowski', 'n_neighbors': 23, 'weights': 'distance'} => 0.655172\n",
      "{'metric': 'minkowski', 'n_neighbors': 25, 'weights': 'uniform'} => 0.640887\n",
      "{'metric': 'minkowski', 'n_neighbors': 25, 'weights': 'distance'} => 0.648030\n",
      "{'metric': 'minkowski', 'n_neighbors': 27, 'weights': 'uniform'} => 0.633990\n",
      "{'metric': 'minkowski', 'n_neighbors': 27, 'weights': 'distance'} => 0.662069\n",
      "{'metric': 'minkowski', 'n_neighbors': 29, 'weights': 'uniform'} => 0.633990\n",
      "{'metric': 'minkowski', 'n_neighbors': 29, 'weights': 'distance'} => 0.648030\n",
      "{'metric': 'minkowski', 'n_neighbors': 31, 'weights': 'uniform'} => 0.626847\n",
      "{'metric': 'minkowski', 'n_neighbors': 31, 'weights': 'distance'} => 0.669212\n",
      "{'metric': 'minkowski', 'n_neighbors': 33, 'weights': 'uniform'} => 0.626847\n",
      "{'metric': 'minkowski', 'n_neighbors': 33, 'weights': 'distance'} => 0.662069\n",
      "{'metric': 'minkowski', 'n_neighbors': 35, 'weights': 'uniform'} => 0.626847\n",
      "{'metric': 'minkowski', 'n_neighbors': 35, 'weights': 'distance'} => 0.662069\n",
      "{'metric': 'minkowski', 'n_neighbors': 37, 'weights': 'uniform'} => 0.626847\n",
      "{'metric': 'minkowski', 'n_neighbors': 37, 'weights': 'distance'} => 0.662069\n",
      "{'metric': 'minkowski', 'n_neighbors': 39, 'weights': 'uniform'} => 0.619704\n",
      "{'metric': 'minkowski', 'n_neighbors': 39, 'weights': 'distance'} => 0.662069\n",
      "{'metric': 'minkowski', 'n_neighbors': 41, 'weights': 'uniform'} => 0.619704\n",
      "{'metric': 'minkowski', 'n_neighbors': 41, 'weights': 'distance'} => 0.662069\n",
      "{'metric': 'minkowski', 'n_neighbors': 43, 'weights': 'uniform'} => 0.619704\n",
      "{'metric': 'minkowski', 'n_neighbors': 43, 'weights': 'distance'} => 0.661823\n",
      "{'metric': 'minkowski', 'n_neighbors': 45, 'weights': 'uniform'} => 0.619704\n",
      "{'metric': 'minkowski', 'n_neighbors': 45, 'weights': 'distance'} => 0.654926\n",
      "{'metric': 'minkowski', 'n_neighbors': 47, 'weights': 'uniform'} => 0.619704\n",
      "{'metric': 'minkowski', 'n_neighbors': 47, 'weights': 'distance'} => 0.640640\n",
      "{'metric': 'minkowski', 'n_neighbors': 49, 'weights': 'uniform'} => 0.619704\n",
      "{'metric': 'minkowski', 'n_neighbors': 49, 'weights': 'distance'} => 0.619704\n",
      "{'metric': 'minkowski', 'n_neighbors': 51, 'weights': 'uniform'} => 0.619704\n",
      "{'metric': 'minkowski', 'n_neighbors': 51, 'weights': 'distance'} => 0.619704\n",
      "{'metric': 'minkowski', 'n_neighbors': 53, 'weights': 'uniform'} => 0.619704\n",
      "{'metric': 'minkowski', 'n_neighbors': 53, 'weights': 'distance'} => 0.619704\n",
      "{'metric': 'minkowski', 'n_neighbors': 55, 'weights': 'uniform'} => 0.619704\n",
      "{'metric': 'minkowski', 'n_neighbors': 55, 'weights': 'distance'} => 0.619704\n",
      "{'metric': 'minkowski', 'n_neighbors': 57, 'weights': 'uniform'} => 0.619704\n",
      "{'metric': 'minkowski', 'n_neighbors': 57, 'weights': 'distance'} => 0.619704\n",
      "{'metric': 'minkowski', 'n_neighbors': 59, 'weights': 'uniform'} => 0.619704\n",
      "{'metric': 'minkowski', 'n_neighbors': 59, 'weights': 'distance'} => 0.619704\n"
     ]
    }
   ],
   "source": [
    "from sklearn.neighbors import KNeighborsClassifier\n",
    "\n",
    "hyper_params = {}\n",
    "hyper_params['n_neighbors'] = range(15, 61, 2)\n",
    "hyper_params['weights'] = ['uniform', 'distance']\n",
    "hyper_params['metric'] = ['euclidean', 'manhattan', 'minkowski']\n",
    "\n",
    "grid_search(KNeighborsClassifier(), hyper_params)            "
   ]
  },
  {
   "cell_type": "markdown",
   "id": "be9e8a5a-8eb4-46a8-a0cd-4baac6a45ea9",
   "metadata": {},
   "source": [
    "#### Train and test"
   ]
  },
  {
   "cell_type": "code",
   "execution_count": 89,
   "id": "c7fb66d2",
   "metadata": {
    "papermill": {
     "duration": 4.172227,
     "end_time": "2022-10-03T18:29:10.215789",
     "exception": false,
     "start_time": "2022-10-03T18:29:06.043562",
     "status": "completed"
    },
    "tags": []
   },
   "outputs": [
    {
     "name": "stdout",
     "output_type": "stream",
     "text": [
      "              precision    recall  f1-score   support\n",
      "\n",
      "           0       0.66      0.87      0.75       110\n",
      "           1       0.59      0.29      0.39        69\n",
      "\n",
      "    accuracy                           0.65       179\n",
      "   macro avg       0.63      0.58      0.57       179\n",
      "weighted avg       0.63      0.65      0.61       179\n",
      "\n"
     ]
    },
    {
     "data": {
      "image/png": "[encoded data removed]",
      "text/plain": [
       "<Figure size 640x480 with 2 Axes>"
      ]
     },
     "metadata": {},
     "output_type": "display_data"
    },
    {
     "data": {
      "text/html": [
       "<style>#sk-container-id-1 {color: black;background-color: white;}#sk-container-id-1 pre{padding: 0;}#sk-container-id-1 div.sk-toggleable {background-color: white;}#sk-container-id-1 label.sk-toggleable__label {cursor: pointer;display: block;width: 100%;margin-bottom: 0;padding: 0.3em;box-sizing: border-box;text-align: center;}#sk-container-id-1 label.sk-toggleable__label-arrow:before {content: \"▸\";float: left;margin-right: 0.25em;color: #696969;}#sk-container-id-1 label.sk-toggleable__label-arrow:hover:before {color: black;}#sk-container-id-1 div.sk-estimator:hover label.sk-toggleable__label-arrow:before {color: black;}#sk-container-id-1 div.sk-toggleable__content {max-height: 0;max-width: 0;overflow: hidden;text-align: left;background-color: #f0f8ff;}#sk-container-id-1 div.sk-toggleable__content pre {margin: 0.2em;color: black;border-radius: 0.25em;background-color: #f0f8ff;}#sk-container-id-1 input.sk-toggleable__control:checked~div.sk-toggleable__content {max-height: 200px;max-width: 100%;overflow: auto;}#sk-container-id-1 input.sk-toggleable__control:checked~label.sk-toggleable__label-arrow:before {content: \"▾\";}#sk-container-id-1 div.sk-estimator input.sk-toggleable__control:checked~label.sk-toggleable__label {background-color: #d4ebff;}#sk-container-id-1 div.sk-label input.sk-toggleable__control:checked~label.sk-toggleable__label {background-color: #d4ebff;}#sk-container-id-1 input.sk-hidden--visually {border: 0;clip: rect(1px 1px 1px 1px);clip: rect(1px, 1px, 1px, 1px);height: 1px;margin: -1px;overflow: hidden;padding: 0;position: absolute;width: 1px;}#sk-container-id-1 div.sk-estimator {font-family: monospace;background-color: #f0f8ff;border: 1px dotted black;border-radius: 0.25em;box-sizing: border-box;margin-bottom: 0.5em;}#sk-container-id-1 div.sk-estimator:hover {background-color: #d4ebff;}#sk-container-id-1 div.sk-parallel-item::after {content: \"\";width: 100%;border-bottom: 1px solid gray;flex-grow: 1;}#sk-container-id-1 div.sk-label:hover label.sk-toggleable__label {background-color: #d4ebff;}#sk-container-id-1 div.sk-serial::before {content: \"\";position: absolute;border-left: 1px solid gray;box-sizing: border-box;top: 0;bottom: 0;left: 50%;z-index: 0;}#sk-container-id-1 div.sk-serial {display: flex;flex-direction: column;align-items: center;background-color: white;padding-right: 0.2em;padding-left: 0.2em;position: relative;}#sk-container-id-1 div.sk-item {position: relative;z-index: 1;}#sk-container-id-1 div.sk-parallel {display: flex;align-items: stretch;justify-content: center;background-color: white;position: relative;}#sk-container-id-1 div.sk-item::before, #sk-container-id-1 div.sk-parallel-item::before {content: \"\";position: absolute;border-left: 1px solid gray;box-sizing: border-box;top: 0;bottom: 0;left: 50%;z-index: -1;}#sk-container-id-1 div.sk-parallel-item {display: flex;flex-direction: column;z-index: 1;position: relative;background-color: white;}#sk-container-id-1 div.sk-parallel-item:first-child::after {align-self: flex-end;width: 50%;}#sk-container-id-1 div.sk-parallel-item:last-child::after {align-self: flex-start;width: 50%;}#sk-container-id-1 div.sk-parallel-item:only-child::after {width: 0;}#sk-container-id-1 div.sk-dashed-wrapped {border: 1px dashed gray;margin: 0 0.4em 0.5em 0.4em;box-sizing: border-box;padding-bottom: 0.4em;background-color: white;}#sk-container-id-1 div.sk-label label {font-family: monospace;font-weight: bold;display: inline-block;line-height: 1.2em;}#sk-container-id-1 div.sk-label-container {text-align: center;}#sk-container-id-1 div.sk-container {/* jupyter's `normalize.less` sets `[hidden] { display: none; }` but bootstrap.min.css set `[hidden] { display: none !important; }` so we also need the `!important` here to be able to override the default hidden behavior on the sphinx rendered scikit-learn.org. See: https://github.com/scikit-learn/scikit-learn/issues/21755 */display: inline-block !important;position: relative;}#sk-container-id-1 div.sk-text-repr-fallback {display: none;}</style><div id=\"sk-container-id-1\" class=\"sk-top-container\"><div class=\"sk-text-repr-fallback\"><pre>KNeighborsClassifier(metric=&#x27;manhattan&#x27;, n_neighbors=15, weights=&#x27;distance&#x27;)</pre><b>In a Jupyter environment, please rerun this cell to show the HTML representation or trust the notebook. <br />On GitHub, the HTML representation is unable to render, please try loading this page with nbviewer.org.</b></div><div class=\"sk-container\" hidden><div class=\"sk-item\"><div class=\"sk-estimator sk-toggleable\"><input class=\"sk-toggleable__control sk-hidden--visually\" id=\"sk-estimator-id-1\" type=\"checkbox\" checked><label for=\"sk-estimator-id-1\" class=\"sk-toggleable__label sk-toggleable__label-arrow\">KNeighborsClassifier</label><div class=\"sk-toggleable__content\"><pre>KNeighborsClassifier(metric=&#x27;manhattan&#x27;, n_neighbors=15, weights=&#x27;distance&#x27;)</pre></div></div></div></div></div>"
      ],
      "text/plain": [
       "KNeighborsClassifier(metric='manhattan', n_neighbors=15, weights='distance')"
      ]
     },
     "execution_count": 89,
     "metadata": {},
     "output_type": "execute_result"
    }
   ],
   "source": [
    "from sklearn.neighbors import KNeighborsClassifier\n",
    "\n",
    "execute_ml(\n",
    "    KNeighborsClassifier(\n",
    "        **{'metric': 'manhattan', 'n_neighbors': 15, 'weights': 'distance'}\n",
    "    )\n",
    ")"
   ]
  },
  {
   "cell_type": "markdown",
   "id": "bca080ed",
   "metadata": {
    "papermill": {
     "duration": 0.012723,
     "end_time": "2022-10-03T18:29:10.241780",
     "exception": false,
     "start_time": "2022-10-03T18:29:10.229057",
     "status": "completed"
    },
    "tags": []
   },
   "source": [
    "### Logistic regression"
   ]
  },
  {
   "cell_type": "markdown",
   "id": "c7723b7c-53e7-44bb-bacd-57bb843fb0dd",
   "metadata": {},
   "source": [
    "#### Hyperparameter Tuning"
   ]
  },
  {
   "cell_type": "code",
   "execution_count": 94,
   "id": "cdd6fb6d-40ce-40e0-90ef-90f0fc421052",
   "metadata": {},
   "outputs": [
    {
     "name": "stderr",
     "output_type": "stream",
     "text": [
      "/home/babak/.local/lib/python3.10/site-packages/sklearn/linear_model/_logistic.py:1113: UserWarning: Setting penalty='none' will ignore the C and l1_ratio parameters\n",
      "  warnings.warn(\n",
      "/home/babak/.local/lib/python3.10/site-packages/sklearn/linear_model/_logistic.py:1113: UserWarning: Setting penalty='none' will ignore the C and l1_ratio parameters\n",
      "  warnings.warn(\n",
      "/home/babak/.local/lib/python3.10/site-packages/sklearn/linear_model/_logistic.py:1113: UserWarning: Setting penalty='none' will ignore the C and l1_ratio parameters\n",
      "  warnings.warn(\n",
      "/home/babak/.local/lib/python3.10/site-packages/sklearn/linear_model/_logistic.py:1113: UserWarning: Setting penalty='none' will ignore the C and l1_ratio parameters\n",
      "  warnings.warn(\n",
      "/home/babak/.local/lib/python3.10/site-packages/sklearn/linear_model/_logistic.py:1113: UserWarning: Setting penalty='none' will ignore the C and l1_ratio parameters\n",
      "  warnings.warn(\n",
      "/home/babak/.local/lib/python3.10/site-packages/sklearn/linear_model/_logistic.py:1113: UserWarning: Setting penalty='none' will ignore the C and l1_ratio parameters\n",
      "  warnings.warn(\n",
      "/home/babak/.local/lib/python3.10/site-packages/sklearn/linear_model/_logistic.py:1113: UserWarning: Setting penalty='none' will ignore the C and l1_ratio parameters\n",
      "  warnings.warn(\n",
      "/home/babak/.local/lib/python3.10/site-packages/sklearn/linear_model/_logistic.py:1113: UserWarning: Setting penalty='none' will ignore the C and l1_ratio parameters\n",
      "  warnings.warn(\n",
      "/home/babak/.local/lib/python3.10/site-packages/sklearn/linear_model/_logistic.py:1113: UserWarning: Setting penalty='none' will ignore the C and l1_ratio parameters\n",
      "  warnings.warn(\n",
      "/home/babak/.local/lib/python3.10/site-packages/sklearn/linear_model/_logistic.py:1113: UserWarning: Setting penalty='none' will ignore the C and l1_ratio parameters\n",
      "  warnings.warn(\n",
      "/home/babak/.local/lib/python3.10/site-packages/sklearn/linear_model/_logistic.py:1113: UserWarning: Setting penalty='none' will ignore the C and l1_ratio parameters\n",
      "  warnings.warn(\n",
      "/home/babak/.local/lib/python3.10/site-packages/sklearn/linear_model/_sag.py:350: ConvergenceWarning: The max_iter was reached which means the coef_ did not converge\n",
      "  warnings.warn(\n",
      "/home/babak/.local/lib/python3.10/site-packages/sklearn/linear_model/_logistic.py:1113: UserWarning: Setting penalty='none' will ignore the C and l1_ratio parameters\n",
      "  warnings.warn(\n",
      "/home/babak/.local/lib/python3.10/site-packages/sklearn/linear_model/_sag.py:350: ConvergenceWarning: The max_iter was reached which means the coef_ did not converge\n",
      "  warnings.warn(\n",
      "/home/babak/.local/lib/python3.10/site-packages/sklearn/linear_model/_logistic.py:1113: UserWarning: Setting penalty='none' will ignore the C and l1_ratio parameters\n",
      "  warnings.warn(\n",
      "/home/babak/.local/lib/python3.10/site-packages/sklearn/linear_model/_logistic.py:1113: UserWarning: Setting penalty='none' will ignore the C and l1_ratio parameters\n",
      "  warnings.warn(\n",
      "/home/babak/.local/lib/python3.10/site-packages/sklearn/linear_model/_logistic.py:1113: UserWarning: Setting penalty='none' will ignore the C and l1_ratio parameters\n",
      "  warnings.warn(\n",
      "/home/babak/.local/lib/python3.10/site-packages/sklearn/linear_model/_sag.py:350: ConvergenceWarning: The max_iter was reached which means the coef_ did not converge\n",
      "  warnings.warn(\n",
      "/home/babak/.local/lib/python3.10/site-packages/sklearn/linear_model/_logistic.py:1113: UserWarning: Setting penalty='none' will ignore the C and l1_ratio parameters\n",
      "  warnings.warn(\n",
      "/home/babak/.local/lib/python3.10/site-packages/sklearn/linear_model/_sag.py:350: ConvergenceWarning: The max_iter was reached which means the coef_ did not converge\n",
      "  warnings.warn(\n",
      "/home/babak/.local/lib/python3.10/site-packages/sklearn/linear_model/_sag.py:350: ConvergenceWarning: The max_iter was reached which means the coef_ did not converge\n",
      "  warnings.warn(\n",
      "/home/babak/.local/lib/python3.10/site-packages/sklearn/linear_model/_logistic.py:1113: UserWarning: Setting penalty='none' will ignore the C and l1_ratio parameters\n",
      "  warnings.warn(\n",
      "/home/babak/.local/lib/python3.10/site-packages/sklearn/linear_model/_logistic.py:1113: UserWarning: Setting penalty='none' will ignore the C and l1_ratio parameters\n",
      "  warnings.warn(\n",
      "/home/babak/.local/lib/python3.10/site-packages/sklearn/linear_model/_sag.py:350: ConvergenceWarning: The max_iter was reached which means the coef_ did not converge\n",
      "  warnings.warn(\n",
      "/home/babak/.local/lib/python3.10/site-packages/sklearn/linear_model/_logistic.py:1113: UserWarning: Setting penalty='none' will ignore the C and l1_ratio parameters\n",
      "  warnings.warn(\n",
      "/home/babak/.local/lib/python3.10/site-packages/sklearn/linear_model/_sag.py:350: ConvergenceWarning: The max_iter was reached which means the coef_ did not converge\n",
      "  warnings.warn(\n",
      "/home/babak/.local/lib/python3.10/site-packages/sklearn/linear_model/_sag.py:350: ConvergenceWarning: The max_iter was reached which means the coef_ did not converge\n",
      "  warnings.warn(\n",
      "/home/babak/.local/lib/python3.10/site-packages/sklearn/linear_model/_logistic.py:1113: UserWarning: Setting penalty='none' will ignore the C and l1_ratio parameters\n",
      "  warnings.warn(\n",
      "/home/babak/.local/lib/python3.10/site-packages/sklearn/linear_model/_sag.py:350: ConvergenceWarning: The max_iter was reached which means the coef_ did not converge\n",
      "  warnings.warn(\n",
      "/home/babak/.local/lib/python3.10/site-packages/sklearn/linear_model/_sag.py:350: ConvergenceWarning: The max_iter was reached which means the coef_ did not converge\n",
      "  warnings.warn(\n",
      "/home/babak/.local/lib/python3.10/site-packages/sklearn/linear_model/_sag.py:350: ConvergenceWarning: The max_iter was reached which means the coef_ did not converge\n",
      "  warnings.warn(\n",
      "/home/babak/.local/lib/python3.10/site-packages/sklearn/linear_model/_sag.py:350: ConvergenceWarning: The max_iter was reached which means the coef_ did not converge\n",
      "  warnings.warn(\n",
      "/home/babak/.local/lib/python3.10/site-packages/sklearn/linear_model/_sag.py:350: ConvergenceWarning: The max_iter was reached which means the coef_ did not converge\n",
      "  warnings.warn(\n",
      "/home/babak/.local/lib/python3.10/site-packages/sklearn/linear_model/_logistic.py:1113: UserWarning: Setting penalty='none' will ignore the C and l1_ratio parameters\n",
      "  warnings.warn(\n",
      "/home/babak/.local/lib/python3.10/site-packages/sklearn/linear_model/_logistic.py:1113: UserWarning: Setting penalty='none' will ignore the C and l1_ratio parameters\n",
      "  warnings.warn(\n",
      "/home/babak/.local/lib/python3.10/site-packages/sklearn/linear_model/_sag.py:350: ConvergenceWarning: The max_iter was reached which means the coef_ did not converge\n",
      "  warnings.warn(\n",
      "/home/babak/.local/lib/python3.10/site-packages/sklearn/linear_model/_sag.py:350: ConvergenceWarning: The max_iter was reached which means the coef_ did not converge\n",
      "  warnings.warn(\n",
      "/home/babak/.local/lib/python3.10/site-packages/sklearn/linear_model/_logistic.py:1113: UserWarning: Setting penalty='none' will ignore the C and l1_ratio parameters\n",
      "  warnings.warn(\n",
      "/home/babak/.local/lib/python3.10/site-packages/sklearn/linear_model/_logistic.py:1113: UserWarning: Setting penalty='none' will ignore the C and l1_ratio parameters\n",
      "  warnings.warn(\n",
      "/home/babak/.local/lib/python3.10/site-packages/sklearn/linear_model/_sag.py:350: ConvergenceWarning: The max_iter was reached which means the coef_ did not converge\n",
      "  warnings.warn(\n",
      "/home/babak/.local/lib/python3.10/site-packages/sklearn/linear_model/_sag.py:350: ConvergenceWarning: The max_iter was reached which means the coef_ did not converge\n",
      "  warnings.warn(\n",
      "/home/babak/.local/lib/python3.10/site-packages/sklearn/linear_model/_logistic.py:1113: UserWarning: Setting penalty='none' will ignore the C and l1_ratio parameters\n",
      "  warnings.warn(\n",
      "/home/babak/.local/lib/python3.10/site-packages/sklearn/linear_model/_logistic.py:1113: UserWarning: Setting penalty='none' will ignore the C and l1_ratio parameters\n",
      "  warnings.warn(\n",
      "/home/babak/.local/lib/python3.10/site-packages/sklearn/linear_model/_sag.py:350: ConvergenceWarning: The max_iter was reached which means the coef_ did not converge\n",
      "  warnings.warn(\n",
      "/home/babak/.local/lib/python3.10/site-packages/sklearn/linear_model/_logistic.py:1113: UserWarning: Setting penalty='none' will ignore the C and l1_ratio parameters\n",
      "  warnings.warn(\n",
      "/home/babak/.local/lib/python3.10/site-packages/sklearn/linear_model/_sag.py:350: ConvergenceWarning: The max_iter was reached which means the coef_ did not converge\n",
      "  warnings.warn(\n",
      "/home/babak/.local/lib/python3.10/site-packages/sklearn/linear_model/_logistic.py:1113: UserWarning: Setting penalty='none' will ignore the C and l1_ratio parameters\n",
      "  warnings.warn(\n",
      "/home/babak/.local/lib/python3.10/site-packages/sklearn/linear_model/_logistic.py:1113: UserWarning: Setting penalty='none' will ignore the C and l1_ratio parameters\n",
      "  warnings.warn(\n",
      "/home/babak/.local/lib/python3.10/site-packages/sklearn/linear_model/_sag.py:350: ConvergenceWarning: The max_iter was reached which means the coef_ did not converge\n",
      "  warnings.warn(\n",
      "/home/babak/.local/lib/python3.10/site-packages/sklearn/linear_model/_sag.py:350: ConvergenceWarning: The max_iter was reached which means the coef_ did not converge\n",
      "  warnings.warn(\n",
      "/home/babak/.local/lib/python3.10/site-packages/sklearn/linear_model/_logistic.py:1113: UserWarning: Setting penalty='none' will ignore the C and l1_ratio parameters\n",
      "  warnings.warn(\n",
      "/home/babak/.local/lib/python3.10/site-packages/sklearn/linear_model/_logistic.py:1113: UserWarning: Setting penalty='none' will ignore the C and l1_ratio parameters\n",
      "  warnings.warn(\n",
      "/home/babak/.local/lib/python3.10/site-packages/sklearn/linear_model/_sag.py:350: ConvergenceWarning: The max_iter was reached which means the coef_ did not converge\n",
      "  warnings.warn(\n",
      "/home/babak/.local/lib/python3.10/site-packages/sklearn/linear_model/_sag.py:350: ConvergenceWarning: The max_iter was reached which means the coef_ did not converge\n",
      "  warnings.warn(\n",
      "/home/babak/.local/lib/python3.10/site-packages/sklearn/linear_model/_logistic.py:1113: UserWarning: Setting penalty='none' will ignore the C and l1_ratio parameters\n",
      "  warnings.warn(\n",
      "/home/babak/.local/lib/python3.10/site-packages/sklearn/linear_model/_sag.py:350: ConvergenceWarning: The max_iter was reached which means the coef_ did not converge\n",
      "  warnings.warn(\n",
      "/home/babak/.local/lib/python3.10/site-packages/sklearn/linear_model/_logistic.py:1113: UserWarning: Setting penalty='none' will ignore the C and l1_ratio parameters\n",
      "  warnings.warn(\n",
      "/home/babak/.local/lib/python3.10/site-packages/sklearn/linear_model/_logistic.py:1113: UserWarning: Setting penalty='none' will ignore the C and l1_ratio parameters\n",
      "  warnings.warn(\n",
      "/home/babak/.local/lib/python3.10/site-packages/sklearn/linear_model/_sag.py:350: ConvergenceWarning: The max_iter was reached which means the coef_ did not converge\n",
      "  warnings.warn(\n",
      "/home/babak/.local/lib/python3.10/site-packages/sklearn/linear_model/_logistic.py:1113: UserWarning: Setting penalty='none' will ignore the C and l1_ratio parameters\n",
      "  warnings.warn(\n",
      "/home/babak/.local/lib/python3.10/site-packages/sklearn/linear_model/_sag.py:350: ConvergenceWarning: The max_iter was reached which means the coef_ did not converge\n",
      "  warnings.warn(\n",
      "/home/babak/.local/lib/python3.10/site-packages/sklearn/linear_model/_sag.py:350: ConvergenceWarning: The max_iter was reached which means the coef_ did not converge\n",
      "  warnings.warn(\n",
      "/home/babak/.local/lib/python3.10/site-packages/sklearn/linear_model/_sag.py:350: ConvergenceWarning: The max_iter was reached which means the coef_ did not converge\n",
      "  warnings.warn(\n",
      "/home/babak/.local/lib/python3.10/site-packages/sklearn/linear_model/_logistic.py:1113: UserWarning: Setting penalty='none' will ignore the C and l1_ratio parameters\n",
      "  warnings.warn(\n",
      "/home/babak/.local/lib/python3.10/site-packages/sklearn/linear_model/_sag.py:350: ConvergenceWarning: The max_iter was reached which means the coef_ did not converge\n",
      "  warnings.warn(\n",
      "/home/babak/.local/lib/python3.10/site-packages/sklearn/linear_model/_sag.py:350: ConvergenceWarning: The max_iter was reached which means the coef_ did not converge\n",
      "  warnings.warn(\n",
      "/home/babak/.local/lib/python3.10/site-packages/sklearn/linear_model/_logistic.py:1113: UserWarning: Setting penalty='none' will ignore the C and l1_ratio parameters\n",
      "  warnings.warn(\n",
      "/home/babak/.local/lib/python3.10/site-packages/sklearn/linear_model/_sag.py:350: ConvergenceWarning: The max_iter was reached which means the coef_ did not converge\n",
      "  warnings.warn(\n",
      "/home/babak/.local/lib/python3.10/site-packages/sklearn/linear_model/_logistic.py:1113: UserWarning: Setting penalty='none' will ignore the C and l1_ratio parameters\n",
      "  warnings.warn(\n",
      "/home/babak/.local/lib/python3.10/site-packages/sklearn/linear_model/_sag.py:350: ConvergenceWarning: The max_iter was reached which means the coef_ did not converge\n",
      "  warnings.warn(\n",
      "/home/babak/.local/lib/python3.10/site-packages/sklearn/linear_model/_logistic.py:1113: UserWarning: Setting penalty='none' will ignore the C and l1_ratio parameters\n",
      "  warnings.warn(\n",
      "/home/babak/.local/lib/python3.10/site-packages/sklearn/linear_model/_sag.py:350: ConvergenceWarning: The max_iter was reached which means the coef_ did not converge\n",
      "  warnings.warn(\n",
      "/home/babak/.local/lib/python3.10/site-packages/sklearn/linear_model/_sag.py:350: ConvergenceWarning: The max_iter was reached which means the coef_ did not converge\n",
      "  warnings.warn(\n",
      "/home/babak/.local/lib/python3.10/site-packages/sklearn/linear_model/_sag.py:350: ConvergenceWarning: The max_iter was reached which means the coef_ did not converge\n",
      "  warnings.warn(\n",
      "/home/babak/.local/lib/python3.10/site-packages/sklearn/linear_model/_sag.py:350: ConvergenceWarning: The max_iter was reached which means the coef_ did not converge\n",
      "  warnings.warn(\n",
      "/home/babak/.local/lib/python3.10/site-packages/sklearn/linear_model/_sag.py:350: ConvergenceWarning: The max_iter was reached which means the coef_ did not converge\n",
      "  warnings.warn(\n",
      "/home/babak/.local/lib/python3.10/site-packages/sklearn/linear_model/_logistic.py:1113: UserWarning: Setting penalty='none' will ignore the C and l1_ratio parameters\n",
      "  warnings.warn(\n",
      "/home/babak/.local/lib/python3.10/site-packages/sklearn/linear_model/_sag.py:350: ConvergenceWarning: The max_iter was reached which means the coef_ did not converge\n",
      "  warnings.warn(\n",
      "/home/babak/.local/lib/python3.10/site-packages/sklearn/linear_model/_sag.py:350: ConvergenceWarning: The max_iter was reached which means the coef_ did not converge\n",
      "  warnings.warn(\n",
      "/home/babak/.local/lib/python3.10/site-packages/sklearn/linear_model/_sag.py:350: ConvergenceWarning: The max_iter was reached which means the coef_ did not converge\n",
      "  warnings.warn(\n",
      "/home/babak/.local/lib/python3.10/site-packages/sklearn/linear_model/_sag.py:350: ConvergenceWarning: The max_iter was reached which means the coef_ did not converge\n",
      "  warnings.warn(\n",
      "/home/babak/.local/lib/python3.10/site-packages/sklearn/linear_model/_sag.py:350: ConvergenceWarning: The max_iter was reached which means the coef_ did not converge\n",
      "  warnings.warn(\n",
      "/home/babak/.local/lib/python3.10/site-packages/sklearn/linear_model/_sag.py:350: ConvergenceWarning: The max_iter was reached which means the coef_ did not converge\n",
      "  warnings.warn(\n",
      "/home/babak/.local/lib/python3.10/site-packages/sklearn/linear_model/_sag.py:350: ConvergenceWarning: The max_iter was reached which means the coef_ did not converge\n",
      "  warnings.warn(\n",
      "/home/babak/.local/lib/python3.10/site-packages/sklearn/linear_model/_sag.py:350: ConvergenceWarning: The max_iter was reached which means the coef_ did not converge\n",
      "  warnings.warn(\n",
      "/home/babak/.local/lib/python3.10/site-packages/sklearn/linear_model/_sag.py:350: ConvergenceWarning: The max_iter was reached which means the coef_ did not converge\n",
      "  warnings.warn(\n",
      "/home/babak/.local/lib/python3.10/site-packages/sklearn/linear_model/_sag.py:350: ConvergenceWarning: The max_iter was reached which means the coef_ did not converge\n",
      "  warnings.warn(\n",
      "/home/babak/.local/lib/python3.10/site-packages/sklearn/linear_model/_sag.py:350: ConvergenceWarning: The max_iter was reached which means the coef_ did not converge\n",
      "  warnings.warn(\n",
      "/home/babak/.local/lib/python3.10/site-packages/sklearn/linear_model/_sag.py:350: ConvergenceWarning: The max_iter was reached which means the coef_ did not converge\n",
      "  warnings.warn(\n",
      "/home/babak/.local/lib/python3.10/site-packages/sklearn/linear_model/_sag.py:350: ConvergenceWarning: The max_iter was reached which means the coef_ did not converge\n",
      "  warnings.warn(\n",
      "/home/babak/.local/lib/python3.10/site-packages/sklearn/linear_model/_sag.py:350: ConvergenceWarning: The max_iter was reached which means the coef_ did not converge\n",
      "  warnings.warn(\n",
      "/home/babak/.local/lib/python3.10/site-packages/sklearn/linear_model/_sag.py:350: ConvergenceWarning: The max_iter was reached which means the coef_ did not converge\n",
      "  warnings.warn(\n",
      "/home/babak/.local/lib/python3.10/site-packages/sklearn/linear_model/_sag.py:350: ConvergenceWarning: The max_iter was reached which means the coef_ did not converge\n",
      "  warnings.warn(\n",
      "/home/babak/.local/lib/python3.10/site-packages/sklearn/linear_model/_sag.py:350: ConvergenceWarning: The max_iter was reached which means the coef_ did not converge\n",
      "  warnings.warn(\n",
      "/home/babak/.local/lib/python3.10/site-packages/sklearn/linear_model/_sag.py:350: ConvergenceWarning: The max_iter was reached which means the coef_ did not converge\n",
      "  warnings.warn(\n",
      "/home/babak/.local/lib/python3.10/site-packages/sklearn/linear_model/_sag.py:350: ConvergenceWarning: The max_iter was reached which means the coef_ did not converge\n",
      "  warnings.warn(\n",
      "/home/babak/.local/lib/python3.10/site-packages/sklearn/linear_model/_sag.py:350: ConvergenceWarning: The max_iter was reached which means the coef_ did not converge\n",
      "  warnings.warn(\n",
      "/home/babak/.local/lib/python3.10/site-packages/sklearn/linear_model/_sag.py:350: ConvergenceWarning: The max_iter was reached which means the coef_ did not converge\n",
      "  warnings.warn(\n",
      "/home/babak/.local/lib/python3.10/site-packages/sklearn/linear_model/_sag.py:350: ConvergenceWarning: The max_iter was reached which means the coef_ did not converge\n",
      "  warnings.warn(\n",
      "/home/babak/.local/lib/python3.10/site-packages/sklearn/linear_model/_sag.py:350: ConvergenceWarning: The max_iter was reached which means the coef_ did not converge\n",
      "  warnings.warn(\n",
      "/home/babak/.local/lib/python3.10/site-packages/sklearn/linear_model/_sag.py:350: ConvergenceWarning: The max_iter was reached which means the coef_ did not converge\n",
      "  warnings.warn(\n",
      "/home/babak/.local/lib/python3.10/site-packages/sklearn/linear_model/_sag.py:350: ConvergenceWarning: The max_iter was reached which means the coef_ did not converge\n",
      "  warnings.warn(\n",
      "/home/babak/.local/lib/python3.10/site-packages/sklearn/linear_model/_logistic.py:1113: UserWarning: Setting penalty='none' will ignore the C and l1_ratio parameters\n",
      "  warnings.warn(\n",
      "/home/babak/.local/lib/python3.10/site-packages/sklearn/linear_model/_sag.py:350: ConvergenceWarning: The max_iter was reached which means the coef_ did not converge\n",
      "  warnings.warn(\n",
      "/home/babak/.local/lib/python3.10/site-packages/sklearn/linear_model/_logistic.py:1113: UserWarning: Setting penalty='none' will ignore the C and l1_ratio parameters\n",
      "  warnings.warn(\n",
      "/home/babak/.local/lib/python3.10/site-packages/sklearn/linear_model/_logistic.py:1113: UserWarning: Setting penalty='none' will ignore the C and l1_ratio parameters\n",
      "  warnings.warn(\n",
      "/home/babak/.local/lib/python3.10/site-packages/sklearn/linear_model/_sag.py:350: ConvergenceWarning: The max_iter was reached which means the coef_ did not converge\n",
      "  warnings.warn(\n",
      "/home/babak/.local/lib/python3.10/site-packages/sklearn/linear_model/_logistic.py:1113: UserWarning: Setting penalty='none' will ignore the C and l1_ratio parameters\n",
      "  warnings.warn(\n",
      "/home/babak/.local/lib/python3.10/site-packages/sklearn/linear_model/_sag.py:350: ConvergenceWarning: The max_iter was reached which means the coef_ did not converge\n",
      "  warnings.warn(\n",
      "/home/babak/.local/lib/python3.10/site-packages/sklearn/linear_model/_sag.py:350: ConvergenceWarning: The max_iter was reached which means the coef_ did not converge\n",
      "  warnings.warn(\n",
      "/home/babak/.local/lib/python3.10/site-packages/sklearn/linear_model/_logistic.py:1113: UserWarning: Setting penalty='none' will ignore the C and l1_ratio parameters\n",
      "  warnings.warn(\n",
      "/home/babak/.local/lib/python3.10/site-packages/sklearn/linear_model/_sag.py:350: ConvergenceWarning: The max_iter was reached which means the coef_ did not converge\n",
      "  warnings.warn(\n",
      "/home/babak/.local/lib/python3.10/site-packages/sklearn/linear_model/_logistic.py:1113: UserWarning: Setting penalty='none' will ignore the C and l1_ratio parameters\n",
      "  warnings.warn(\n",
      "/home/babak/.local/lib/python3.10/site-packages/sklearn/linear_model/_sag.py:350: ConvergenceWarning: The max_iter was reached which means the coef_ did not converge\n",
      "  warnings.warn(\n",
      "/home/babak/.local/lib/python3.10/site-packages/sklearn/linear_model/_sag.py:350: ConvergenceWarning: The max_iter was reached which means the coef_ did not converge\n",
      "  warnings.warn(\n",
      "/home/babak/.local/lib/python3.10/site-packages/sklearn/linear_model/_logistic.py:1113: UserWarning: Setting penalty='none' will ignore the C and l1_ratio parameters\n",
      "  warnings.warn(\n",
      "/home/babak/.local/lib/python3.10/site-packages/sklearn/linear_model/_logistic.py:1113: UserWarning: Setting penalty='none' will ignore the C and l1_ratio parameters\n",
      "  warnings.warn(\n",
      "/home/babak/.local/lib/python3.10/site-packages/sklearn/linear_model/_sag.py:350: ConvergenceWarning: The max_iter was reached which means the coef_ did not converge\n",
      "  warnings.warn(\n",
      "/home/babak/.local/lib/python3.10/site-packages/sklearn/linear_model/_logistic.py:1113: UserWarning: Setting penalty='none' will ignore the C and l1_ratio parameters\n",
      "  warnings.warn(\n",
      "/home/babak/.local/lib/python3.10/site-packages/sklearn/linear_model/_sag.py:350: ConvergenceWarning: The max_iter was reached which means the coef_ did not converge\n",
      "  warnings.warn(\n",
      "/home/babak/.local/lib/python3.10/site-packages/sklearn/linear_model/_sag.py:350: ConvergenceWarning: The max_iter was reached which means the coef_ did not converge\n",
      "  warnings.warn(\n",
      "/home/babak/.local/lib/python3.10/site-packages/sklearn/linear_model/_logistic.py:1113: UserWarning: Setting penalty='none' will ignore the C and l1_ratio parameters\n",
      "  warnings.warn(\n",
      "/home/babak/.local/lib/python3.10/site-packages/sklearn/linear_model/_sag.py:350: ConvergenceWarning: The max_iter was reached which means the coef_ did not converge\n",
      "  warnings.warn(\n",
      "/home/babak/.local/lib/python3.10/site-packages/sklearn/linear_model/_logistic.py:1113: UserWarning: Setting penalty='none' will ignore the C and l1_ratio parameters\n",
      "  warnings.warn(\n",
      "/home/babak/.local/lib/python3.10/site-packages/sklearn/linear_model/_logistic.py:1113: UserWarning: Setting penalty='none' will ignore the C and l1_ratio parameters\n",
      "  warnings.warn(\n",
      "/home/babak/.local/lib/python3.10/site-packages/sklearn/linear_model/_sag.py:350: ConvergenceWarning: The max_iter was reached which means the coef_ did not converge\n",
      "  warnings.warn(\n",
      "/home/babak/.local/lib/python3.10/site-packages/sklearn/linear_model/_sag.py:350: ConvergenceWarning: The max_iter was reached which means the coef_ did not converge\n",
      "  warnings.warn(\n",
      "/home/babak/.local/lib/python3.10/site-packages/sklearn/linear_model/_logistic.py:1113: UserWarning: Setting penalty='none' will ignore the C and l1_ratio parameters\n",
      "  warnings.warn(\n",
      "/home/babak/.local/lib/python3.10/site-packages/sklearn/linear_model/_sag.py:350: ConvergenceWarning: The max_iter was reached which means the coef_ did not converge\n",
      "  warnings.warn(\n",
      "/home/babak/.local/lib/python3.10/site-packages/sklearn/linear_model/_logistic.py:1113: UserWarning: Setting penalty='none' will ignore the C and l1_ratio parameters\n",
      "  warnings.warn(\n",
      "/home/babak/.local/lib/python3.10/site-packages/sklearn/linear_model/_sag.py:350: ConvergenceWarning: The max_iter was reached which means the coef_ did not converge\n",
      "  warnings.warn(\n",
      "/home/babak/.local/lib/python3.10/site-packages/sklearn/linear_model/_sag.py:350: ConvergenceWarning: The max_iter was reached which means the coef_ did not converge\n",
      "  warnings.warn(\n",
      "/home/babak/.local/lib/python3.10/site-packages/sklearn/linear_model/_logistic.py:1113: UserWarning: Setting penalty='none' will ignore the C and l1_ratio parameters\n",
      "  warnings.warn(\n",
      "/home/babak/.local/lib/python3.10/site-packages/sklearn/linear_model/_sag.py:350: ConvergenceWarning: The max_iter was reached which means the coef_ did not converge\n",
      "  warnings.warn(\n",
      "/home/babak/.local/lib/python3.10/site-packages/sklearn/linear_model/_logistic.py:1113: UserWarning: Setting penalty='none' will ignore the C and l1_ratio parameters\n",
      "  warnings.warn(\n",
      "/home/babak/.local/lib/python3.10/site-packages/sklearn/linear_model/_sag.py:350: ConvergenceWarning: The max_iter was reached which means the coef_ did not converge\n",
      "  warnings.warn(\n",
      "/home/babak/.local/lib/python3.10/site-packages/sklearn/linear_model/_logistic.py:1113: UserWarning: Setting penalty='none' will ignore the C and l1_ratio parameters\n",
      "  warnings.warn(\n",
      "/home/babak/.local/lib/python3.10/site-packages/sklearn/linear_model/_sag.py:350: ConvergenceWarning: The max_iter was reached which means the coef_ did not converge\n",
      "  warnings.warn(\n",
      "/home/babak/.local/lib/python3.10/site-packages/sklearn/linear_model/_sag.py:350: ConvergenceWarning: The max_iter was reached which means the coef_ did not converge\n",
      "  warnings.warn(\n",
      "/home/babak/.local/lib/python3.10/site-packages/sklearn/linear_model/_logistic.py:1113: UserWarning: Setting penalty='none' will ignore the C and l1_ratio parameters\n",
      "  warnings.warn(\n",
      "/home/babak/.local/lib/python3.10/site-packages/sklearn/linear_model/_sag.py:350: ConvergenceWarning: The max_iter was reached which means the coef_ did not converge\n",
      "  warnings.warn(\n",
      "/home/babak/.local/lib/python3.10/site-packages/sklearn/linear_model/_sag.py:350: ConvergenceWarning: The max_iter was reached which means the coef_ did not converge\n",
      "  warnings.warn(\n",
      "/home/babak/.local/lib/python3.10/site-packages/sklearn/linear_model/_logistic.py:1113: UserWarning: Setting penalty='none' will ignore the C and l1_ratio parameters\n",
      "  warnings.warn(\n",
      "/home/babak/.local/lib/python3.10/site-packages/sklearn/linear_model/_logistic.py:1113: UserWarning: Setting penalty='none' will ignore the C and l1_ratio parameters\n",
      "  warnings.warn(\n",
      "/home/babak/.local/lib/python3.10/site-packages/sklearn/linear_model/_sag.py:350: ConvergenceWarning: The max_iter was reached which means the coef_ did not converge\n",
      "  warnings.warn(\n",
      "/home/babak/.local/lib/python3.10/site-packages/sklearn/linear_model/_sag.py:350: ConvergenceWarning: The max_iter was reached which means the coef_ did not converge\n",
      "  warnings.warn(\n",
      "/home/babak/.local/lib/python3.10/site-packages/sklearn/linear_model/_sag.py:350: ConvergenceWarning: The max_iter was reached which means the coef_ did not converge\n",
      "  warnings.warn(\n",
      "/home/babak/.local/lib/python3.10/site-packages/sklearn/linear_model/_logistic.py:1113: UserWarning: Setting penalty='none' will ignore the C and l1_ratio parameters\n",
      "  warnings.warn(\n",
      "/home/babak/.local/lib/python3.10/site-packages/sklearn/linear_model/_logistic.py:1113: UserWarning: Setting penalty='none' will ignore the C and l1_ratio parameters\n",
      "  warnings.warn(\n",
      "/home/babak/.local/lib/python3.10/site-packages/sklearn/linear_model/_sag.py:350: ConvergenceWarning: The max_iter was reached which means the coef_ did not converge\n",
      "  warnings.warn(\n",
      "/home/babak/.local/lib/python3.10/site-packages/sklearn/linear_model/_logistic.py:1113: UserWarning: Setting penalty='none' will ignore the C and l1_ratio parameters\n",
      "  warnings.warn(\n",
      "/home/babak/.local/lib/python3.10/site-packages/sklearn/linear_model/_sag.py:350: ConvergenceWarning: The max_iter was reached which means the coef_ did not converge\n",
      "  warnings.warn(\n",
      "/home/babak/.local/lib/python3.10/site-packages/sklearn/linear_model/_logistic.py:1113: UserWarning: Setting penalty='none' will ignore the C and l1_ratio parameters\n",
      "  warnings.warn(\n",
      "/home/babak/.local/lib/python3.10/site-packages/sklearn/linear_model/_sag.py:350: ConvergenceWarning: The max_iter was reached which means the coef_ did not converge\n",
      "  warnings.warn(\n",
      "/home/babak/.local/lib/python3.10/site-packages/sklearn/linear_model/_logistic.py:1113: UserWarning: Setting penalty='none' will ignore the C and l1_ratio parameters\n",
      "  warnings.warn(\n",
      "/home/babak/.local/lib/python3.10/site-packages/sklearn/linear_model/_sag.py:350: ConvergenceWarning: The max_iter was reached which means the coef_ did not converge\n",
      "  warnings.warn(\n",
      "/home/babak/.local/lib/python3.10/site-packages/sklearn/linear_model/_sag.py:350: ConvergenceWarning: The max_iter was reached which means the coef_ did not converge\n",
      "  warnings.warn(\n",
      "/home/babak/.local/lib/python3.10/site-packages/sklearn/linear_model/_logistic.py:1113: UserWarning: Setting penalty='none' will ignore the C and l1_ratio parameters\n",
      "  warnings.warn(\n",
      "/home/babak/.local/lib/python3.10/site-packages/sklearn/linear_model/_logistic.py:1113: UserWarning: Setting penalty='none' will ignore the C and l1_ratio parameters\n",
      "  warnings.warn(\n",
      "/home/babak/.local/lib/python3.10/site-packages/sklearn/linear_model/_sag.py:350: ConvergenceWarning: The max_iter was reached which means the coef_ did not converge\n",
      "  warnings.warn(\n",
      "/home/babak/.local/lib/python3.10/site-packages/sklearn/linear_model/_logistic.py:1113: UserWarning: Setting penalty='none' will ignore the C and l1_ratio parameters\n",
      "  warnings.warn(\n",
      "/home/babak/.local/lib/python3.10/site-packages/sklearn/linear_model/_sag.py:350: ConvergenceWarning: The max_iter was reached which means the coef_ did not converge\n",
      "  warnings.warn(\n",
      "/home/babak/.local/lib/python3.10/site-packages/sklearn/linear_model/_logistic.py:1113: UserWarning: Setting penalty='none' will ignore the C and l1_ratio parameters\n",
      "  warnings.warn(\n",
      "/home/babak/.local/lib/python3.10/site-packages/sklearn/linear_model/_sag.py:350: ConvergenceWarning: The max_iter was reached which means the coef_ did not converge\n",
      "  warnings.warn(\n",
      "/home/babak/.local/lib/python3.10/site-packages/sklearn/linear_model/_logistic.py:1113: UserWarning: Setting penalty='none' will ignore the C and l1_ratio parameters\n",
      "  warnings.warn(\n",
      "/home/babak/.local/lib/python3.10/site-packages/sklearn/linear_model/_sag.py:350: ConvergenceWarning: The max_iter was reached which means the coef_ did not converge\n",
      "  warnings.warn(\n",
      "/home/babak/.local/lib/python3.10/site-packages/sklearn/linear_model/_logistic.py:1113: UserWarning: Setting penalty='none' will ignore the C and l1_ratio parameters\n",
      "  warnings.warn(\n",
      "/home/babak/.local/lib/python3.10/site-packages/sklearn/linear_model/_sag.py:350: ConvergenceWarning: The max_iter was reached which means the coef_ did not converge\n",
      "  warnings.warn(\n",
      "/home/babak/.local/lib/python3.10/site-packages/sklearn/linear_model/_logistic.py:1113: UserWarning: Setting penalty='none' will ignore the C and l1_ratio parameters\n",
      "  warnings.warn(\n",
      "/home/babak/.local/lib/python3.10/site-packages/sklearn/linear_model/_sag.py:350: ConvergenceWarning: The max_iter was reached which means the coef_ did not converge\n",
      "  warnings.warn(\n",
      "/home/babak/.local/lib/python3.10/site-packages/sklearn/linear_model/_logistic.py:1113: UserWarning: Setting penalty='none' will ignore the C and l1_ratio parameters\n",
      "  warnings.warn(\n",
      "/home/babak/.local/lib/python3.10/site-packages/sklearn/linear_model/_sag.py:350: ConvergenceWarning: The max_iter was reached which means the coef_ did not converge\n",
      "  warnings.warn(\n",
      "/home/babak/.local/lib/python3.10/site-packages/sklearn/linear_model/_logistic.py:1113: UserWarning: Setting penalty='none' will ignore the C and l1_ratio parameters\n",
      "  warnings.warn(\n",
      "/home/babak/.local/lib/python3.10/site-packages/sklearn/linear_model/_sag.py:350: ConvergenceWarning: The max_iter was reached which means the coef_ did not converge\n",
      "  warnings.warn(\n",
      "/home/babak/.local/lib/python3.10/site-packages/sklearn/linear_model/_logistic.py:1113: UserWarning: Setting penalty='none' will ignore the C and l1_ratio parameters\n",
      "  warnings.warn(\n",
      "/home/babak/.local/lib/python3.10/site-packages/sklearn/linear_model/_sag.py:350: ConvergenceWarning: The max_iter was reached which means the coef_ did not converge\n",
      "  warnings.warn(\n",
      "/home/babak/.local/lib/python3.10/site-packages/sklearn/linear_model/_logistic.py:1113: UserWarning: Setting penalty='none' will ignore the C and l1_ratio parameters\n",
      "  warnings.warn(\n",
      "/home/babak/.local/lib/python3.10/site-packages/sklearn/linear_model/_sag.py:350: ConvergenceWarning: The max_iter was reached which means the coef_ did not converge\n",
      "  warnings.warn(\n",
      "/home/babak/.local/lib/python3.10/site-packages/sklearn/linear_model/_logistic.py:1113: UserWarning: Setting penalty='none' will ignore the C and l1_ratio parameters\n",
      "  warnings.warn(\n",
      "/home/babak/.local/lib/python3.10/site-packages/sklearn/linear_model/_sag.py:350: ConvergenceWarning: The max_iter was reached which means the coef_ did not converge\n",
      "  warnings.warn(\n",
      "/home/babak/.local/lib/python3.10/site-packages/sklearn/linear_model/_sag.py:350: ConvergenceWarning: The max_iter was reached which means the coef_ did not converge\n",
      "  warnings.warn(\n",
      "/home/babak/.local/lib/python3.10/site-packages/sklearn/linear_model/_logistic.py:1113: UserWarning: Setting penalty='none' will ignore the C and l1_ratio parameters\n",
      "  warnings.warn(\n",
      "/home/babak/.local/lib/python3.10/site-packages/sklearn/linear_model/_sag.py:350: ConvergenceWarning: The max_iter was reached which means the coef_ did not converge\n",
      "  warnings.warn(\n",
      "/home/babak/.local/lib/python3.10/site-packages/sklearn/linear_model/_sag.py:350: ConvergenceWarning: The max_iter was reached which means the coef_ did not converge\n",
      "  warnings.warn(\n",
      "/home/babak/.local/lib/python3.10/site-packages/sklearn/linear_model/_logistic.py:1113: UserWarning: Setting penalty='none' will ignore the C and l1_ratio parameters\n",
      "  warnings.warn(\n",
      "/home/babak/.local/lib/python3.10/site-packages/sklearn/linear_model/_sag.py:350: ConvergenceWarning: The max_iter was reached which means the coef_ did not converge\n",
      "  warnings.warn(\n",
      "/home/babak/.local/lib/python3.10/site-packages/sklearn/linear_model/_sag.py:350: ConvergenceWarning: The max_iter was reached which means the coef_ did not converge\n",
      "  warnings.warn(\n",
      "/home/babak/.local/lib/python3.10/site-packages/sklearn/linear_model/_logistic.py:1113: UserWarning: Setting penalty='none' will ignore the C and l1_ratio parameters\n",
      "  warnings.warn(\n",
      "/home/babak/.local/lib/python3.10/site-packages/sklearn/linear_model/_sag.py:350: ConvergenceWarning: The max_iter was reached which means the coef_ did not converge\n",
      "  warnings.warn(\n",
      "/home/babak/.local/lib/python3.10/site-packages/sklearn/linear_model/_sag.py:350: ConvergenceWarning: The max_iter was reached which means the coef_ did not converge\n",
      "  warnings.warn(\n",
      "/home/babak/.local/lib/python3.10/site-packages/sklearn/linear_model/_logistic.py:444: ConvergenceWarning: lbfgs failed to converge (status=1):\n",
      "STOP: TOTAL NO. of ITERATIONS REACHED LIMIT.\n",
      "\n",
      "Increase the number of iterations (max_iter) or scale the data as shown in:\n",
      "    https://scikit-learn.org/stable/modules/preprocessing.html\n",
      "Please also refer to the documentation for alternative solver options:\n",
      "    https://scikit-learn.org/stable/modules/linear_model.html#logistic-regression\n",
      "  n_iter_i = _check_optimize_result(\n",
      "/home/babak/.local/lib/python3.10/site-packages/sklearn/linear_model/_sag.py:350: ConvergenceWarning: The max_iter was reached which means the coef_ did not converge\n",
      "  warnings.warn(\n"
     ]
    },
    {
     "name": "stdout",
     "output_type": "stream",
     "text": [
      "Maximum accuracy of 0.802956 was yielded using: {'C': 1.0, 'max_iter': 1000, 'penalty': 'l2', 'solver': 'newton-cg'}\n",
      "{'C': 0.01, 'max_iter': 1000, 'penalty': 'none', 'solver': 'newton-cg'} => 0.781773\n",
      "{'C': 0.01, 'max_iter': 1000, 'penalty': 'none', 'solver': 'lbfgs'} => 0.781773\n",
      "{'C': 0.01, 'max_iter': 1000, 'penalty': 'none', 'solver': 'liblinear'} => 0.000000\n",
      "{'C': 0.01, 'max_iter': 1000, 'penalty': 'none', 'solver': 'sag'} => 0.697291\n",
      "{'C': 0.01, 'max_iter': 1000, 'penalty': 'none', 'solver': 'saga'} => 0.690394\n",
      "{'C': 0.01, 'max_iter': 1000, 'penalty': 'l1', 'solver': 'newton-cg'} => 0.000000\n",
      "{'C': 0.01, 'max_iter': 1000, 'penalty': 'l1', 'solver': 'lbfgs'} => 0.000000\n",
      "{'C': 0.01, 'max_iter': 1000, 'penalty': 'l1', 'solver': 'liblinear'} => 0.668966\n",
      "{'C': 0.01, 'max_iter': 1000, 'penalty': 'l1', 'solver': 'sag'} => 0.000000\n",
      "{'C': 0.01, 'max_iter': 1000, 'penalty': 'l1', 'solver': 'saga'} => 0.668966\n",
      "{'C': 0.01, 'max_iter': 1000, 'penalty': 'l2', 'solver': 'newton-cg'} => 0.696798\n",
      "{'C': 0.01, 'max_iter': 1000, 'penalty': 'l2', 'solver': 'lbfgs'} => 0.696798\n",
      "{'C': 0.01, 'max_iter': 1000, 'penalty': 'l2', 'solver': 'liblinear'} => 0.711576\n",
      "{'C': 0.01, 'max_iter': 1000, 'penalty': 'l2', 'solver': 'sag'} => 0.690394\n",
      "{'C': 0.01, 'max_iter': 1000, 'penalty': 'l2', 'solver': 'saga'} => 0.690394\n",
      "{'C': 0.01, 'max_iter': 1000, 'penalty': 'elasticnet', 'solver': 'newton-cg'} => 0.000000\n",
      "{'C': 0.01, 'max_iter': 1000, 'penalty': 'elasticnet', 'solver': 'lbfgs'} => 0.000000\n",
      "{'C': 0.01, 'max_iter': 1000, 'penalty': 'elasticnet', 'solver': 'liblinear'} => 0.000000\n",
      "{'C': 0.01, 'max_iter': 1000, 'penalty': 'elasticnet', 'solver': 'sag'} => 0.000000\n",
      "{'C': 0.01, 'max_iter': 1000, 'penalty': 'elasticnet', 'solver': 'saga'} => 0.000000\n",
      "{'C': 0.1, 'max_iter': 1000, 'penalty': 'none', 'solver': 'newton-cg'} => 0.781773\n",
      "{'C': 0.1, 'max_iter': 1000, 'penalty': 'none', 'solver': 'lbfgs'} => 0.781773\n",
      "{'C': 0.1, 'max_iter': 1000, 'penalty': 'none', 'solver': 'liblinear'} => 0.000000\n",
      "{'C': 0.1, 'max_iter': 1000, 'penalty': 'none', 'solver': 'sag'} => 0.697291\n",
      "{'C': 0.1, 'max_iter': 1000, 'penalty': 'none', 'solver': 'saga'} => 0.690394\n",
      "{'C': 0.1, 'max_iter': 1000, 'penalty': 'l1', 'solver': 'newton-cg'} => 0.000000\n",
      "{'C': 0.1, 'max_iter': 1000, 'penalty': 'l1', 'solver': 'lbfgs'} => 0.000000\n",
      "{'C': 0.1, 'max_iter': 1000, 'penalty': 'l1', 'solver': 'liblinear'} => 0.697291\n",
      "{'C': 0.1, 'max_iter': 1000, 'penalty': 'l1', 'solver': 'sag'} => 0.000000\n",
      "{'C': 0.1, 'max_iter': 1000, 'penalty': 'l1', 'solver': 'saga'} => 0.690394\n",
      "{'C': 0.1, 'max_iter': 1000, 'penalty': 'l2', 'solver': 'newton-cg'} => 0.753202\n",
      "{'C': 0.1, 'max_iter': 1000, 'penalty': 'l2', 'solver': 'lbfgs'} => 0.753202\n",
      "{'C': 0.1, 'max_iter': 1000, 'penalty': 'l2', 'solver': 'liblinear'} => 0.753202\n",
      "{'C': 0.1, 'max_iter': 1000, 'penalty': 'l2', 'solver': 'sag'} => 0.697291\n",
      "{'C': 0.1, 'max_iter': 1000, 'penalty': 'l2', 'solver': 'saga'} => 0.690394\n",
      "{'C': 0.1, 'max_iter': 1000, 'penalty': 'elasticnet', 'solver': 'newton-cg'} => 0.000000\n",
      "{'C': 0.1, 'max_iter': 1000, 'penalty': 'elasticnet', 'solver': 'lbfgs'} => 0.000000\n",
      "{'C': 0.1, 'max_iter': 1000, 'penalty': 'elasticnet', 'solver': 'liblinear'} => 0.000000\n",
      "{'C': 0.1, 'max_iter': 1000, 'penalty': 'elasticnet', 'solver': 'sag'} => 0.000000\n",
      "{'C': 0.1, 'max_iter': 1000, 'penalty': 'elasticnet', 'solver': 'saga'} => 0.000000\n",
      "{'C': 1.0, 'max_iter': 1000, 'penalty': 'none', 'solver': 'newton-cg'} => 0.781773\n",
      "{'C': 1.0, 'max_iter': 1000, 'penalty': 'none', 'solver': 'lbfgs'} => 0.781773\n",
      "{'C': 1.0, 'max_iter': 1000, 'penalty': 'none', 'solver': 'liblinear'} => 0.000000\n",
      "{'C': 1.0, 'max_iter': 1000, 'penalty': 'none', 'solver': 'sag'} => 0.697291\n",
      "{'C': 1.0, 'max_iter': 1000, 'penalty': 'none', 'solver': 'saga'} => 0.690394\n",
      "{'C': 1.0, 'max_iter': 1000, 'penalty': 'l1', 'solver': 'newton-cg'} => 0.000000\n",
      "{'C': 1.0, 'max_iter': 1000, 'penalty': 'l1', 'solver': 'lbfgs'} => 0.000000\n",
      "{'C': 1.0, 'max_iter': 1000, 'penalty': 'l1', 'solver': 'liblinear'} => 0.774877\n",
      "{'C': 1.0, 'max_iter': 1000, 'penalty': 'l1', 'solver': 'sag'} => 0.000000\n",
      "{'C': 1.0, 'max_iter': 1000, 'penalty': 'l1', 'solver': 'saga'} => 0.690394\n",
      "{'C': 1.0, 'max_iter': 1000, 'penalty': 'l2', 'solver': 'newton-cg'} => 0.802956\n",
      "{'C': 1.0, 'max_iter': 1000, 'penalty': 'l2', 'solver': 'lbfgs'} => 0.795813\n",
      "{'C': 1.0, 'max_iter': 1000, 'penalty': 'l2', 'solver': 'liblinear'} => 0.789163\n",
      "{'C': 1.0, 'max_iter': 1000, 'penalty': 'l2', 'solver': 'sag'} => 0.697291\n",
      "{'C': 1.0, 'max_iter': 1000, 'penalty': 'l2', 'solver': 'saga'} => 0.690394\n",
      "{'C': 1.0, 'max_iter': 1000, 'penalty': 'elasticnet', 'solver': 'newton-cg'} => 0.000000\n",
      "{'C': 1.0, 'max_iter': 1000, 'penalty': 'elasticnet', 'solver': 'lbfgs'} => 0.000000\n",
      "{'C': 1.0, 'max_iter': 1000, 'penalty': 'elasticnet', 'solver': 'liblinear'} => 0.000000\n",
      "{'C': 1.0, 'max_iter': 1000, 'penalty': 'elasticnet', 'solver': 'sag'} => 0.000000\n",
      "{'C': 1.0, 'max_iter': 1000, 'penalty': 'elasticnet', 'solver': 'saga'} => 0.000000\n",
      "{'C': 10.0, 'max_iter': 1000, 'penalty': 'none', 'solver': 'newton-cg'} => 0.781773\n",
      "{'C': 10.0, 'max_iter': 1000, 'penalty': 'none', 'solver': 'lbfgs'} => 0.781773\n",
      "{'C': 10.0, 'max_iter': 1000, 'penalty': 'none', 'solver': 'liblinear'} => 0.000000\n",
      "{'C': 10.0, 'max_iter': 1000, 'penalty': 'none', 'solver': 'sag'} => 0.697291\n",
      "{'C': 10.0, 'max_iter': 1000, 'penalty': 'none', 'solver': 'saga'} => 0.690394\n",
      "{'C': 10.0, 'max_iter': 1000, 'penalty': 'l1', 'solver': 'newton-cg'} => 0.000000\n",
      "{'C': 10.0, 'max_iter': 1000, 'penalty': 'l1', 'solver': 'lbfgs'} => 0.000000\n",
      "{'C': 10.0, 'max_iter': 1000, 'penalty': 'l1', 'solver': 'liblinear'} => 0.781773\n",
      "{'C': 10.0, 'max_iter': 1000, 'penalty': 'l1', 'solver': 'sag'} => 0.000000\n",
      "{'C': 10.0, 'max_iter': 1000, 'penalty': 'l1', 'solver': 'saga'} => 0.690394\n",
      "{'C': 10.0, 'max_iter': 1000, 'penalty': 'l2', 'solver': 'newton-cg'} => 0.781773\n",
      "{'C': 10.0, 'max_iter': 1000, 'penalty': 'l2', 'solver': 'lbfgs'} => 0.781773\n",
      "{'C': 10.0, 'max_iter': 1000, 'penalty': 'l2', 'solver': 'liblinear'} => 0.788916\n",
      "{'C': 10.0, 'max_iter': 1000, 'penalty': 'l2', 'solver': 'sag'} => 0.697291\n",
      "{'C': 10.0, 'max_iter': 1000, 'penalty': 'l2', 'solver': 'saga'} => 0.690394\n",
      "{'C': 10.0, 'max_iter': 1000, 'penalty': 'elasticnet', 'solver': 'newton-cg'} => 0.000000\n",
      "{'C': 10.0, 'max_iter': 1000, 'penalty': 'elasticnet', 'solver': 'lbfgs'} => 0.000000\n",
      "{'C': 10.0, 'max_iter': 1000, 'penalty': 'elasticnet', 'solver': 'liblinear'} => 0.000000\n",
      "{'C': 10.0, 'max_iter': 1000, 'penalty': 'elasticnet', 'solver': 'sag'} => 0.000000\n",
      "{'C': 10.0, 'max_iter': 1000, 'penalty': 'elasticnet', 'solver': 'saga'} => 0.000000\n",
      "{'C': 100.0, 'max_iter': 1000, 'penalty': 'none', 'solver': 'newton-cg'} => 0.781773\n",
      "{'C': 100.0, 'max_iter': 1000, 'penalty': 'none', 'solver': 'lbfgs'} => 0.781773\n",
      "{'C': 100.0, 'max_iter': 1000, 'penalty': 'none', 'solver': 'liblinear'} => 0.000000\n",
      "{'C': 100.0, 'max_iter': 1000, 'penalty': 'none', 'solver': 'sag'} => 0.697291\n",
      "{'C': 100.0, 'max_iter': 1000, 'penalty': 'none', 'solver': 'saga'} => 0.690394\n",
      "{'C': 100.0, 'max_iter': 1000, 'penalty': 'l1', 'solver': 'newton-cg'} => 0.000000\n",
      "{'C': 100.0, 'max_iter': 1000, 'penalty': 'l1', 'solver': 'lbfgs'} => 0.000000\n",
      "{'C': 100.0, 'max_iter': 1000, 'penalty': 'l1', 'solver': 'liblinear'} => 0.781773\n",
      "{'C': 100.0, 'max_iter': 1000, 'penalty': 'l1', 'solver': 'sag'} => 0.000000\n",
      "{'C': 100.0, 'max_iter': 1000, 'penalty': 'l1', 'solver': 'saga'} => 0.690394\n",
      "{'C': 100.0, 'max_iter': 1000, 'penalty': 'l2', 'solver': 'newton-cg'} => 0.781773\n",
      "{'C': 100.0, 'max_iter': 1000, 'penalty': 'l2', 'solver': 'lbfgs'} => 0.781773\n",
      "{'C': 100.0, 'max_iter': 1000, 'penalty': 'l2', 'solver': 'liblinear'} => 0.781773\n",
      "{'C': 100.0, 'max_iter': 1000, 'penalty': 'l2', 'solver': 'sag'} => 0.697291\n",
      "{'C': 100.0, 'max_iter': 1000, 'penalty': 'l2', 'solver': 'saga'} => 0.690394\n",
      "{'C': 100.0, 'max_iter': 1000, 'penalty': 'elasticnet', 'solver': 'newton-cg'} => 0.000000\n",
      "{'C': 100.0, 'max_iter': 1000, 'penalty': 'elasticnet', 'solver': 'lbfgs'} => 0.000000\n",
      "{'C': 100.0, 'max_iter': 1000, 'penalty': 'elasticnet', 'solver': 'liblinear'} => 0.000000\n",
      "{'C': 100.0, 'max_iter': 1000, 'penalty': 'elasticnet', 'solver': 'sag'} => 0.000000\n",
      "{'C': 100.0, 'max_iter': 1000, 'penalty': 'elasticnet', 'solver': 'saga'} => 0.000000\n"
     ]
    },
    {
     "name": "stderr",
     "output_type": "stream",
     "text": [
      "/home/babak/.local/lib/python3.10/site-packages/sklearn/linear_model/_sag.py:350: ConvergenceWarning: The max_iter was reached which means the coef_ did not converge\n",
      "  warnings.warn(\n",
      "/home/babak/.local/lib/python3.10/site-packages/sklearn/linear_model/_sag.py:350: ConvergenceWarning: The max_iter was reached which means the coef_ did not converge\n",
      "  warnings.warn(\n",
      "/home/babak/.local/lib/python3.10/site-packages/sklearn/linear_model/_sag.py:350: ConvergenceWarning: The max_iter was reached which means the coef_ did not converge\n",
      "  warnings.warn(\n",
      "/home/babak/.local/lib/python3.10/site-packages/sklearn/linear_model/_sag.py:350: ConvergenceWarning: The max_iter was reached which means the coef_ did not converge\n",
      "  warnings.warn(\n",
      "/home/babak/.local/lib/python3.10/site-packages/sklearn/linear_model/_sag.py:350: ConvergenceWarning: The max_iter was reached which means the coef_ did not converge\n",
      "  warnings.warn(\n",
      "/home/babak/.local/lib/python3.10/site-packages/sklearn/linear_model/_sag.py:350: ConvergenceWarning: The max_iter was reached which means the coef_ did not converge\n",
      "  warnings.warn(\n",
      "/home/babak/.local/lib/python3.10/site-packages/sklearn/linear_model/_sag.py:350: ConvergenceWarning: The max_iter was reached which means the coef_ did not converge\n",
      "  warnings.warn(\n",
      "/home/babak/.local/lib/python3.10/site-packages/sklearn/linear_model/_sag.py:350: ConvergenceWarning: The max_iter was reached which means the coef_ did not converge\n",
      "  warnings.warn(\n",
      "/home/babak/.local/lib/python3.10/site-packages/sklearn/linear_model/_sag.py:350: ConvergenceWarning: The max_iter was reached which means the coef_ did not converge\n",
      "  warnings.warn(\n",
      "/home/babak/.local/lib/python3.10/site-packages/sklearn/model_selection/_validation.py:378: FitFailedWarning: \n",
      "225 fits failed out of a total of 500.\n",
      "The score on these train-test partitions for these parameters will be set to 0.\n",
      "If these failures are not expected, you can try to debug them by setting error_score='raise'.\n",
      "\n",
      "Below are more details about the failures:\n",
      "--------------------------------------------------------------------------------\n",
      "25 fits failed with the following error:\n",
      "Traceback (most recent call last):\n",
      "  File \"/home/babak/.local/lib/python3.10/site-packages/sklearn/model_selection/_validation.py\", line 686, in _fit_and_score\n",
      "    estimator.fit(X_train, y_train, **fit_params)\n",
      "  File \"/home/babak/.local/lib/python3.10/site-packages/sklearn/linear_model/_logistic.py\", line 1091, in fit\n",
      "    solver = _check_solver(self.solver, self.penalty, self.dual)\n",
      "  File \"/home/babak/.local/lib/python3.10/site-packages/sklearn/linear_model/_logistic.py\", line 78, in _check_solver\n",
      "    raise ValueError(\"penalty='none' is not supported for the liblinear solver\")\n",
      "ValueError: penalty='none' is not supported for the liblinear solver\n",
      "\n",
      "--------------------------------------------------------------------------------\n",
      "25 fits failed with the following error:\n",
      "Traceback (most recent call last):\n",
      "  File \"/home/babak/.local/lib/python3.10/site-packages/sklearn/model_selection/_validation.py\", line 686, in _fit_and_score\n",
      "    estimator.fit(X_train, y_train, **fit_params)\n",
      "  File \"/home/babak/.local/lib/python3.10/site-packages/sklearn/linear_model/_logistic.py\", line 1091, in fit\n",
      "    solver = _check_solver(self.solver, self.penalty, self.dual)\n",
      "  File \"/home/babak/.local/lib/python3.10/site-packages/sklearn/linear_model/_logistic.py\", line 61, in _check_solver\n",
      "    raise ValueError(\n",
      "ValueError: Solver newton-cg supports only 'l2' or 'none' penalties, got l1 penalty.\n",
      "\n",
      "--------------------------------------------------------------------------------\n",
      "25 fits failed with the following error:\n",
      "Traceback (most recent call last):\n",
      "  File \"/home/babak/.local/lib/python3.10/site-packages/sklearn/model_selection/_validation.py\", line 686, in _fit_and_score\n",
      "    estimator.fit(X_train, y_train, **fit_params)\n",
      "  File \"/home/babak/.local/lib/python3.10/site-packages/sklearn/linear_model/_logistic.py\", line 1091, in fit\n",
      "    solver = _check_solver(self.solver, self.penalty, self.dual)\n",
      "  File \"/home/babak/.local/lib/python3.10/site-packages/sklearn/linear_model/_logistic.py\", line 61, in _check_solver\n",
      "    raise ValueError(\n",
      "ValueError: Solver lbfgs supports only 'l2' or 'none' penalties, got l1 penalty.\n",
      "\n",
      "--------------------------------------------------------------------------------\n",
      "25 fits failed with the following error:\n",
      "Traceback (most recent call last):\n",
      "  File \"/home/babak/.local/lib/python3.10/site-packages/sklearn/model_selection/_validation.py\", line 686, in _fit_and_score\n",
      "    estimator.fit(X_train, y_train, **fit_params)\n",
      "  File \"/home/babak/.local/lib/python3.10/site-packages/sklearn/linear_model/_logistic.py\", line 1091, in fit\n",
      "    solver = _check_solver(self.solver, self.penalty, self.dual)\n",
      "  File \"/home/babak/.local/lib/python3.10/site-packages/sklearn/linear_model/_logistic.py\", line 61, in _check_solver\n",
      "    raise ValueError(\n",
      "ValueError: Solver sag supports only 'l2' or 'none' penalties, got l1 penalty.\n",
      "\n",
      "--------------------------------------------------------------------------------\n",
      "25 fits failed with the following error:\n",
      "Traceback (most recent call last):\n",
      "  File \"/home/babak/.local/lib/python3.10/site-packages/sklearn/model_selection/_validation.py\", line 686, in _fit_and_score\n",
      "    estimator.fit(X_train, y_train, **fit_params)\n",
      "  File \"/home/babak/.local/lib/python3.10/site-packages/sklearn/linear_model/_logistic.py\", line 1091, in fit\n",
      "    solver = _check_solver(self.solver, self.penalty, self.dual)\n",
      "  File \"/home/babak/.local/lib/python3.10/site-packages/sklearn/linear_model/_logistic.py\", line 61, in _check_solver\n",
      "    raise ValueError(\n",
      "ValueError: Solver newton-cg supports only 'l2' or 'none' penalties, got elasticnet penalty.\n",
      "\n",
      "--------------------------------------------------------------------------------\n",
      "25 fits failed with the following error:\n",
      "Traceback (most recent call last):\n",
      "  File \"/home/babak/.local/lib/python3.10/site-packages/sklearn/model_selection/_validation.py\", line 686, in _fit_and_score\n",
      "    estimator.fit(X_train, y_train, **fit_params)\n",
      "  File \"/home/babak/.local/lib/python3.10/site-packages/sklearn/linear_model/_logistic.py\", line 1091, in fit\n",
      "    solver = _check_solver(self.solver, self.penalty, self.dual)\n",
      "  File \"/home/babak/.local/lib/python3.10/site-packages/sklearn/linear_model/_logistic.py\", line 61, in _check_solver\n",
      "    raise ValueError(\n",
      "ValueError: Solver lbfgs supports only 'l2' or 'none' penalties, got elasticnet penalty.\n",
      "\n",
      "--------------------------------------------------------------------------------\n",
      "25 fits failed with the following error:\n",
      "Traceback (most recent call last):\n",
      "  File \"/home/babak/.local/lib/python3.10/site-packages/sklearn/model_selection/_validation.py\", line 686, in _fit_and_score\n",
      "    estimator.fit(X_train, y_train, **fit_params)\n",
      "  File \"/home/babak/.local/lib/python3.10/site-packages/sklearn/linear_model/_logistic.py\", line 1091, in fit\n",
      "    solver = _check_solver(self.solver, self.penalty, self.dual)\n",
      "  File \"/home/babak/.local/lib/python3.10/site-packages/sklearn/linear_model/_logistic.py\", line 71, in _check_solver\n",
      "    raise ValueError(\n",
      "ValueError: Only 'saga' solver supports elasticnet penalty, got solver=liblinear.\n",
      "\n",
      "--------------------------------------------------------------------------------\n",
      "25 fits failed with the following error:\n",
      "Traceback (most recent call last):\n",
      "  File \"/home/babak/.local/lib/python3.10/site-packages/sklearn/model_selection/_validation.py\", line 686, in _fit_and_score\n",
      "    estimator.fit(X_train, y_train, **fit_params)\n",
      "  File \"/home/babak/.local/lib/python3.10/site-packages/sklearn/linear_model/_logistic.py\", line 1091, in fit\n",
      "    solver = _check_solver(self.solver, self.penalty, self.dual)\n",
      "  File \"/home/babak/.local/lib/python3.10/site-packages/sklearn/linear_model/_logistic.py\", line 61, in _check_solver\n",
      "    raise ValueError(\n",
      "ValueError: Solver sag supports only 'l2' or 'none' penalties, got elasticnet penalty.\n",
      "\n",
      "--------------------------------------------------------------------------------\n",
      "25 fits failed with the following error:\n",
      "Traceback (most recent call last):\n",
      "  File \"/home/babak/.local/lib/python3.10/site-packages/sklearn/model_selection/_validation.py\", line 686, in _fit_and_score\n",
      "    estimator.fit(X_train, y_train, **fit_params)\n",
      "  File \"/home/babak/.local/lib/python3.10/site-packages/sklearn/linear_model/_logistic.py\", line 1101, in fit\n",
      "    raise ValueError(\n",
      "ValueError: l1_ratio must be between 0 and 1; got (l1_ratio=None)\n",
      "\n",
      "  warnings.warn(some_fits_failed_message, FitFailedWarning)\n"
     ]
    }
   ],
   "source": [
    "from sklearn.linear_model import LogisticRegression\n",
    "\n",
    "hyper_params = {}\n",
    "hyper_params['max_iter'] = [1000]\n",
    "hyper_params['C'] = np.logspace(-2, 2, 5, endpoint=True)\n",
    "hyper_params['solver'] = ['newton-cg', 'lbfgs', 'liblinear', 'sag', 'saga']\n",
    "hyper_params['penalty'] = ['none', 'l1', 'l2', 'elasticnet']\n",
    "\n",
    "grid_search(LogisticRegression(), hyper_params)"
   ]
  },
  {
   "cell_type": "markdown",
   "id": "cd7a81f2-3a58-4420-8b4b-ba24585c64ba",
   "metadata": {},
   "source": [
    "#### Train and test"
   ]
  },
  {
   "cell_type": "code",
   "execution_count": 95,
   "id": "6cdc388e",
   "metadata": {
    "papermill": {
     "duration": 1.453937,
     "end_time": "2022-10-03T18:29:11.708779",
     "exception": false,
     "start_time": "2022-10-03T18:29:10.254842",
     "status": "completed"
    },
    "tags": []
   },
   "outputs": [
    {
     "name": "stdout",
     "output_type": "stream",
     "text": [
      "              precision    recall  f1-score   support\n",
      "\n",
      "           0       0.83      0.85      0.84       110\n",
      "           1       0.76      0.72      0.74        69\n",
      "\n",
      "    accuracy                           0.80       179\n",
      "   macro avg       0.79      0.79      0.79       179\n",
      "weighted avg       0.80      0.80      0.80       179\n",
      "\n"
     ]
    },
    {
     "data": {
      "image/png": "[encoded data removed]",
      "text/plain": [
       "<Figure size 640x480 with 2 Axes>"
      ]
     },
     "metadata": {},
     "output_type": "display_data"
    },
    {
     "data": {
      "text/html": [
       "<style>#sk-container-id-2 {color: black;background-color: white;}#sk-container-id-2 pre{padding: 0;}#sk-container-id-2 div.sk-toggleable {background-color: white;}#sk-container-id-2 label.sk-toggleable__label {cursor: pointer;display: block;width: 100%;margin-bottom: 0;padding: 0.3em;box-sizing: border-box;text-align: center;}#sk-container-id-2 label.sk-toggleable__label-arrow:before {content: \"▸\";float: left;margin-right: 0.25em;color: #696969;}#sk-container-id-2 label.sk-toggleable__label-arrow:hover:before {color: black;}#sk-container-id-2 div.sk-estimator:hover label.sk-toggleable__label-arrow:before {color: black;}#sk-container-id-2 div.sk-toggleable__content {max-height: 0;max-width: 0;overflow: hidden;text-align: left;background-color: #f0f8ff;}#sk-container-id-2 div.sk-toggleable__content pre {margin: 0.2em;color: black;border-radius: 0.25em;background-color: #f0f8ff;}#sk-container-id-2 input.sk-toggleable__control:checked~div.sk-toggleable__content {max-height: 200px;max-width: 100%;overflow: auto;}#sk-container-id-2 input.sk-toggleable__control:checked~label.sk-toggleable__label-arrow:before {content: \"▾\";}#sk-container-id-2 div.sk-estimator input.sk-toggleable__control:checked~label.sk-toggleable__label {background-color: #d4ebff;}#sk-container-id-2 div.sk-label input.sk-toggleable__control:checked~label.sk-toggleable__label {background-color: #d4ebff;}#sk-container-id-2 input.sk-hidden--visually {border: 0;clip: rect(1px 1px 1px 1px);clip: rect(1px, 1px, 1px, 1px);height: 1px;margin: -1px;overflow: hidden;padding: 0;position: absolute;width: 1px;}#sk-container-id-2 div.sk-estimator {font-family: monospace;background-color: #f0f8ff;border: 1px dotted black;border-radius: 0.25em;box-sizing: border-box;margin-bottom: 0.5em;}#sk-container-id-2 div.sk-estimator:hover {background-color: #d4ebff;}#sk-container-id-2 div.sk-parallel-item::after {content: \"\";width: 100%;border-bottom: 1px solid gray;flex-grow: 1;}#sk-container-id-2 div.sk-label:hover label.sk-toggleable__label {background-color: #d4ebff;}#sk-container-id-2 div.sk-serial::before {content: \"\";position: absolute;border-left: 1px solid gray;box-sizing: border-box;top: 0;bottom: 0;left: 50%;z-index: 0;}#sk-container-id-2 div.sk-serial {display: flex;flex-direction: column;align-items: center;background-color: white;padding-right: 0.2em;padding-left: 0.2em;position: relative;}#sk-container-id-2 div.sk-item {position: relative;z-index: 1;}#sk-container-id-2 div.sk-parallel {display: flex;align-items: stretch;justify-content: center;background-color: white;position: relative;}#sk-container-id-2 div.sk-item::before, #sk-container-id-2 div.sk-parallel-item::before {content: \"\";position: absolute;border-left: 1px solid gray;box-sizing: border-box;top: 0;bottom: 0;left: 50%;z-index: -1;}#sk-container-id-2 div.sk-parallel-item {display: flex;flex-direction: column;z-index: 1;position: relative;background-color: white;}#sk-container-id-2 div.sk-parallel-item:first-child::after {align-self: flex-end;width: 50%;}#sk-container-id-2 div.sk-parallel-item:last-child::after {align-self: flex-start;width: 50%;}#sk-container-id-2 div.sk-parallel-item:only-child::after {width: 0;}#sk-container-id-2 div.sk-dashed-wrapped {border: 1px dashed gray;margin: 0 0.4em 0.5em 0.4em;box-sizing: border-box;padding-bottom: 0.4em;background-color: white;}#sk-container-id-2 div.sk-label label {font-family: monospace;font-weight: bold;display: inline-block;line-height: 1.2em;}#sk-container-id-2 div.sk-label-container {text-align: center;}#sk-container-id-2 div.sk-container {/* jupyter's `normalize.less` sets `[hidden] { display: none; }` but bootstrap.min.css set `[hidden] { display: none !important; }` so we also need the `!important` here to be able to override the default hidden behavior on the sphinx rendered scikit-learn.org. See: https://github.com/scikit-learn/scikit-learn/issues/21755 */display: inline-block !important;position: relative;}#sk-container-id-2 div.sk-text-repr-fallback {display: none;}</style><div id=\"sk-container-id-2\" class=\"sk-top-container\"><div class=\"sk-text-repr-fallback\"><pre>LogisticRegression(max_iter=1000, solver=&#x27;newton-cg&#x27;)</pre><b>In a Jupyter environment, please rerun this cell to show the HTML representation or trust the notebook. <br />On GitHub, the HTML representation is unable to render, please try loading this page with nbviewer.org.</b></div><div class=\"sk-container\" hidden><div class=\"sk-item\"><div class=\"sk-estimator sk-toggleable\"><input class=\"sk-toggleable__control sk-hidden--visually\" id=\"sk-estimator-id-2\" type=\"checkbox\" checked><label for=\"sk-estimator-id-2\" class=\"sk-toggleable__label sk-toggleable__label-arrow\">LogisticRegression</label><div class=\"sk-toggleable__content\"><pre>LogisticRegression(max_iter=1000, solver=&#x27;newton-cg&#x27;)</pre></div></div></div></div></div>"
      ],
      "text/plain": [
       "LogisticRegression(max_iter=1000, solver='newton-cg')"
      ]
     },
     "execution_count": 95,
     "metadata": {},
     "output_type": "execute_result"
    }
   ],
   "source": [
    "from sklearn.linear_model import LogisticRegression\n",
    "\n",
    "execute_ml(\n",
    "    LogisticRegression(\n",
    "        **{'C': 1.0, 'max_iter': 1000, 'penalty': 'l2', 'solver': 'newton-cg'}\n",
    "    )\n",
    ")"
   ]
  },
  {
   "cell_type": "markdown",
   "id": "e4ae200e",
   "metadata": {
    "papermill": {
     "duration": 0.013619,
     "end_time": "2022-10-03T18:29:11.736207",
     "exception": false,
     "start_time": "2022-10-03T18:29:11.722588",
     "status": "completed"
    },
    "tags": []
   },
   "source": [
    "### Logistic regression CV"
   ]
  },
  {
   "cell_type": "code",
   "execution_count": 96,
   "id": "b92b115c",
   "metadata": {
    "papermill": {
     "duration": 19.99306,
     "end_time": "2022-10-03T18:29:31.742985",
     "exception": false,
     "start_time": "2022-10-03T18:29:11.749925",
     "status": "completed"
    },
    "tags": []
   },
   "outputs": [
    {
     "name": "stdout",
     "output_type": "stream",
     "text": [
      "              precision    recall  f1-score   support\n",
      "\n",
      "           0       0.81      0.87      0.84       110\n",
      "           1       0.77      0.68      0.72        69\n",
      "\n",
      "    accuracy                           0.80       179\n",
      "   macro avg       0.79      0.78      0.78       179\n",
      "weighted avg       0.80      0.80      0.80       179\n",
      "\n"
     ]
    },
    {
     "data": {
      "image/png": "[encoded data removed]",
      "text/plain": [
       "<Figure size 640x480 with 2 Axes>"
      ]
     },
     "metadata": {},
     "output_type": "display_data"
    },
    {
     "data": {
      "text/html": [
       "<style>#sk-container-id-3 {color: black;background-color: white;}#sk-container-id-3 pre{padding: 0;}#sk-container-id-3 div.sk-toggleable {background-color: white;}#sk-container-id-3 label.sk-toggleable__label {cursor: pointer;display: block;width: 100%;margin-bottom: 0;padding: 0.3em;box-sizing: border-box;text-align: center;}#sk-container-id-3 label.sk-toggleable__label-arrow:before {content: \"▸\";float: left;margin-right: 0.25em;color: #696969;}#sk-container-id-3 label.sk-toggleable__label-arrow:hover:before {color: black;}#sk-container-id-3 div.sk-estimator:hover label.sk-toggleable__label-arrow:before {color: black;}#sk-container-id-3 div.sk-toggleable__content {max-height: 0;max-width: 0;overflow: hidden;text-align: left;background-color: #f0f8ff;}#sk-container-id-3 div.sk-toggleable__content pre {margin: 0.2em;color: black;border-radius: 0.25em;background-color: #f0f8ff;}#sk-container-id-3 input.sk-toggleable__control:checked~div.sk-toggleable__content {max-height: 200px;max-width: 100%;overflow: auto;}#sk-container-id-3 input.sk-toggleable__control:checked~label.sk-toggleable__label-arrow:before {content: \"▾\";}#sk-container-id-3 div.sk-estimator input.sk-toggleable__control:checked~label.sk-toggleable__label {background-color: #d4ebff;}#sk-container-id-3 div.sk-label input.sk-toggleable__control:checked~label.sk-toggleable__label {background-color: #d4ebff;}#sk-container-id-3 input.sk-hidden--visually {border: 0;clip: rect(1px 1px 1px 1px);clip: rect(1px, 1px, 1px, 1px);height: 1px;margin: -1px;overflow: hidden;padding: 0;position: absolute;width: 1px;}#sk-container-id-3 div.sk-estimator {font-family: monospace;background-color: #f0f8ff;border: 1px dotted black;border-radius: 0.25em;box-sizing: border-box;margin-bottom: 0.5em;}#sk-container-id-3 div.sk-estimator:hover {background-color: #d4ebff;}#sk-container-id-3 div.sk-parallel-item::after {content: \"\";width: 100%;border-bottom: 1px solid gray;flex-grow: 1;}#sk-container-id-3 div.sk-label:hover label.sk-toggleable__label {background-color: #d4ebff;}#sk-container-id-3 div.sk-serial::before {content: \"\";position: absolute;border-left: 1px solid gray;box-sizing: border-box;top: 0;bottom: 0;left: 50%;z-index: 0;}#sk-container-id-3 div.sk-serial {display: flex;flex-direction: column;align-items: center;background-color: white;padding-right: 0.2em;padding-left: 0.2em;position: relative;}#sk-container-id-3 div.sk-item {position: relative;z-index: 1;}#sk-container-id-3 div.sk-parallel {display: flex;align-items: stretch;justify-content: center;background-color: white;position: relative;}#sk-container-id-3 div.sk-item::before, #sk-container-id-3 div.sk-parallel-item::before {content: \"\";position: absolute;border-left: 1px solid gray;box-sizing: border-box;top: 0;bottom: 0;left: 50%;z-index: -1;}#sk-container-id-3 div.sk-parallel-item {display: flex;flex-direction: column;z-index: 1;position: relative;background-color: white;}#sk-container-id-3 div.sk-parallel-item:first-child::after {align-self: flex-end;width: 50%;}#sk-container-id-3 div.sk-parallel-item:last-child::after {align-self: flex-start;width: 50%;}#sk-container-id-3 div.sk-parallel-item:only-child::after {width: 0;}#sk-container-id-3 div.sk-dashed-wrapped {border: 1px dashed gray;margin: 0 0.4em 0.5em 0.4em;box-sizing: border-box;padding-bottom: 0.4em;background-color: white;}#sk-container-id-3 div.sk-label label {font-family: monospace;font-weight: bold;display: inline-block;line-height: 1.2em;}#sk-container-id-3 div.sk-label-container {text-align: center;}#sk-container-id-3 div.sk-container {/* jupyter's `normalize.less` sets `[hidden] { display: none; }` but bootstrap.min.css set `[hidden] { display: none !important; }` so we also need the `!important` here to be able to override the default hidden behavior on the sphinx rendered scikit-learn.org. See: https://github.com/scikit-learn/scikit-learn/issues/21755 */display: inline-block !important;position: relative;}#sk-container-id-3 div.sk-text-repr-fallback {display: none;}</style><div id=\"sk-container-id-3\" class=\"sk-top-container\"><div class=\"sk-text-repr-fallback\"><pre>LogisticRegressionCV(cv=RepeatedStratifiedKFold(n_repeats=2, n_splits=10, random_state=12),\n",
       "                     max_iter=1000, random_state=12)</pre><b>In a Jupyter environment, please rerun this cell to show the HTML representation or trust the notebook. <br />On GitHub, the HTML representation is unable to render, please try loading this page with nbviewer.org.</b></div><div class=\"sk-container\" hidden><div class=\"sk-item\"><div class=\"sk-estimator sk-toggleable\"><input class=\"sk-toggleable__control sk-hidden--visually\" id=\"sk-estimator-id-3\" type=\"checkbox\" checked><label for=\"sk-estimator-id-3\" class=\"sk-toggleable__label sk-toggleable__label-arrow\">LogisticRegressionCV</label><div class=\"sk-toggleable__content\"><pre>LogisticRegressionCV(cv=RepeatedStratifiedKFold(n_repeats=2, n_splits=10, random_state=12),\n",
       "                     max_iter=1000, random_state=12)</pre></div></div></div></div></div>"
      ],
      "text/plain": [
       "LogisticRegressionCV(cv=RepeatedStratifiedKFold(n_repeats=2, n_splits=10, random_state=12),\n",
       "                     max_iter=1000, random_state=12)"
      ]
     },
     "execution_count": 96,
     "metadata": {},
     "output_type": "execute_result"
    }
   ],
   "source": [
    "from sklearn.linear_model import LogisticRegressionCV\n",
    "from sklearn.model_selection import RepeatedStratifiedKFold\n",
    "\n",
    "execute_ml(LogisticRegressionCV(max_iter=1000,\n",
    "                                cv=RepeatedStratifiedKFold(n_splits=10, n_repeats=2, random_state=12),\n",
    "                                random_state=12))"
   ]
  },
  {
   "cell_type": "markdown",
   "id": "47dcc22a",
   "metadata": {
    "papermill": {
     "duration": 0.013846,
     "end_time": "2022-10-03T18:29:31.770962",
     "exception": false,
     "start_time": "2022-10-03T18:29:31.757116",
     "status": "completed"
    },
    "tags": []
   },
   "source": [
    "### Bernoulli Naive Bayes"
   ]
  },
  {
   "cell_type": "markdown",
   "id": "ecb46328-3959-4cd0-af33-a6e38a4d4968",
   "metadata": {},
   "source": [
    "#### Hyperparameter Tuning"
   ]
  },
  {
   "cell_type": "code",
   "execution_count": 97,
   "id": "4166c7fb-b446-4667-a531-2c4602f0c53f",
   "metadata": {},
   "outputs": [
    {
     "name": "stdout",
     "output_type": "stream",
     "text": [
      "Maximum accuracy of 0.796059 was yielded using: {'alpha': 1e-05}\n",
      "{'alpha': 1e-05} => 0.796059\n",
      "{'alpha': 0.0001} => 0.796059\n",
      "{'alpha': 0.001} => 0.796059\n",
      "{'alpha': 0.01} => 0.796059\n",
      "{'alpha': 0.1} => 0.796059\n",
      "{'alpha': 1.0} => 0.796059\n",
      "{'alpha': 10.0} => 0.796059\n",
      "{'alpha': 100.0} => 0.620197\n",
      "{'alpha': 1000.0} => 0.619704\n",
      "{'alpha': 10000.0} => 0.619704\n",
      "{'alpha': 100000.0} => 0.619704\n",
      "{'alpha': 0} => 0.796059\n"
     ]
    },
    {
     "name": "stderr",
     "output_type": "stream",
     "text": [
      "/home/babak/.local/lib/python3.10/site-packages/sklearn/naive_bayes.py:591: UserWarning: alpha too small will result in numeric errors, setting alpha = 1.0e-10\n",
      "  warnings.warn(\n",
      "/home/babak/.local/lib/python3.10/site-packages/sklearn/naive_bayes.py:591: UserWarning: alpha too small will result in numeric errors, setting alpha = 1.0e-10\n",
      "  warnings.warn(\n",
      "/home/babak/.local/lib/python3.10/site-packages/sklearn/naive_bayes.py:591: UserWarning: alpha too small will result in numeric errors, setting alpha = 1.0e-10\n",
      "  warnings.warn(\n",
      "/home/babak/.local/lib/python3.10/site-packages/sklearn/naive_bayes.py:591: UserWarning: alpha too small will result in numeric errors, setting alpha = 1.0e-10\n",
      "  warnings.warn(\n",
      "/home/babak/.local/lib/python3.10/site-packages/sklearn/naive_bayes.py:591: UserWarning: alpha too small will result in numeric errors, setting alpha = 1.0e-10\n",
      "  warnings.warn(\n"
     ]
    }
   ],
   "source": [
    "from sklearn.naive_bayes import BernoulliNB\n",
    "\n",
    "hyper_params = {}\n",
    "hyper_params['alpha'] = list(np.logspace(-5, 5, num=11, endpoint=True)) + [0]\n",
    "\n",
    "grid_search(BernoulliNB(), hyper_params)"
   ]
  },
  {
   "cell_type": "markdown",
   "id": "adc363d0-b33d-4683-a656-309b5549265a",
   "metadata": {},
   "source": [
    "#### Train and test"
   ]
  },
  {
   "cell_type": "code",
   "execution_count": 98,
   "id": "7c01d87a",
   "metadata": {
    "papermill": {
     "duration": 0.379273,
     "end_time": "2022-10-03T18:29:32.164467",
     "exception": false,
     "start_time": "2022-10-03T18:29:31.785194",
     "status": "completed"
    },
    "tags": []
   },
   "outputs": [
    {
     "name": "stdout",
     "output_type": "stream",
     "text": [
      "              precision    recall  f1-score   support\n",
      "\n",
      "           0       0.81      0.84      0.83       110\n",
      "           1       0.73      0.70      0.71        69\n",
      "\n",
      "    accuracy                           0.78       179\n",
      "   macro avg       0.77      0.77      0.77       179\n",
      "weighted avg       0.78      0.78      0.78       179\n",
      "\n"
     ]
    },
    {
     "data": {
      "image/png": "[encoded data removed]",
      "text/plain": [
       "<Figure size 640x480 with 2 Axes>"
      ]
     },
     "metadata": {},
     "output_type": "display_data"
    },
    {
     "data": {
      "text/html": [
       "<style>#sk-container-id-4 {color: black;background-color: white;}#sk-container-id-4 pre{padding: 0;}#sk-container-id-4 div.sk-toggleable {background-color: white;}#sk-container-id-4 label.sk-toggleable__label {cursor: pointer;display: block;width: 100%;margin-bottom: 0;padding: 0.3em;box-sizing: border-box;text-align: center;}#sk-container-id-4 label.sk-toggleable__label-arrow:before {content: \"▸\";float: left;margin-right: 0.25em;color: #696969;}#sk-container-id-4 label.sk-toggleable__label-arrow:hover:before {color: black;}#sk-container-id-4 div.sk-estimator:hover label.sk-toggleable__label-arrow:before {color: black;}#sk-container-id-4 div.sk-toggleable__content {max-height: 0;max-width: 0;overflow: hidden;text-align: left;background-color: #f0f8ff;}#sk-container-id-4 div.sk-toggleable__content pre {margin: 0.2em;color: black;border-radius: 0.25em;background-color: #f0f8ff;}#sk-container-id-4 input.sk-toggleable__control:checked~div.sk-toggleable__content {max-height: 200px;max-width: 100%;overflow: auto;}#sk-container-id-4 input.sk-toggleable__control:checked~label.sk-toggleable__label-arrow:before {content: \"▾\";}#sk-container-id-4 div.sk-estimator input.sk-toggleable__control:checked~label.sk-toggleable__label {background-color: #d4ebff;}#sk-container-id-4 div.sk-label input.sk-toggleable__control:checked~label.sk-toggleable__label {background-color: #d4ebff;}#sk-container-id-4 input.sk-hidden--visually {border: 0;clip: rect(1px 1px 1px 1px);clip: rect(1px, 1px, 1px, 1px);height: 1px;margin: -1px;overflow: hidden;padding: 0;position: absolute;width: 1px;}#sk-container-id-4 div.sk-estimator {font-family: monospace;background-color: #f0f8ff;border: 1px dotted black;border-radius: 0.25em;box-sizing: border-box;margin-bottom: 0.5em;}#sk-container-id-4 div.sk-estimator:hover {background-color: #d4ebff;}#sk-container-id-4 div.sk-parallel-item::after {content: \"\";width: 100%;border-bottom: 1px solid gray;flex-grow: 1;}#sk-container-id-4 div.sk-label:hover label.sk-toggleable__label {background-color: #d4ebff;}#sk-container-id-4 div.sk-serial::before {content: \"\";position: absolute;border-left: 1px solid gray;box-sizing: border-box;top: 0;bottom: 0;left: 50%;z-index: 0;}#sk-container-id-4 div.sk-serial {display: flex;flex-direction: column;align-items: center;background-color: white;padding-right: 0.2em;padding-left: 0.2em;position: relative;}#sk-container-id-4 div.sk-item {position: relative;z-index: 1;}#sk-container-id-4 div.sk-parallel {display: flex;align-items: stretch;justify-content: center;background-color: white;position: relative;}#sk-container-id-4 div.sk-item::before, #sk-container-id-4 div.sk-parallel-item::before {content: \"\";position: absolute;border-left: 1px solid gray;box-sizing: border-box;top: 0;bottom: 0;left: 50%;z-index: -1;}#sk-container-id-4 div.sk-parallel-item {display: flex;flex-direction: column;z-index: 1;position: relative;background-color: white;}#sk-container-id-4 div.sk-parallel-item:first-child::after {align-self: flex-end;width: 50%;}#sk-container-id-4 div.sk-parallel-item:last-child::after {align-self: flex-start;width: 50%;}#sk-container-id-4 div.sk-parallel-item:only-child::after {width: 0;}#sk-container-id-4 div.sk-dashed-wrapped {border: 1px dashed gray;margin: 0 0.4em 0.5em 0.4em;box-sizing: border-box;padding-bottom: 0.4em;background-color: white;}#sk-container-id-4 div.sk-label label {font-family: monospace;font-weight: bold;display: inline-block;line-height: 1.2em;}#sk-container-id-4 div.sk-label-container {text-align: center;}#sk-container-id-4 div.sk-container {/* jupyter's `normalize.less` sets `[hidden] { display: none; }` but bootstrap.min.css set `[hidden] { display: none !important; }` so we also need the `!important` here to be able to override the default hidden behavior on the sphinx rendered scikit-learn.org. See: https://github.com/scikit-learn/scikit-learn/issues/21755 */display: inline-block !important;position: relative;}#sk-container-id-4 div.sk-text-repr-fallback {display: none;}</style><div id=\"sk-container-id-4\" class=\"sk-top-container\"><div class=\"sk-text-repr-fallback\"><pre>BernoulliNB(alpha=1e-05)</pre><b>In a Jupyter environment, please rerun this cell to show the HTML representation or trust the notebook. <br />On GitHub, the HTML representation is unable to render, please try loading this page with nbviewer.org.</b></div><div class=\"sk-container\" hidden><div class=\"sk-item\"><div class=\"sk-estimator sk-toggleable\"><input class=\"sk-toggleable__control sk-hidden--visually\" id=\"sk-estimator-id-4\" type=\"checkbox\" checked><label for=\"sk-estimator-id-4\" class=\"sk-toggleable__label sk-toggleable__label-arrow\">BernoulliNB</label><div class=\"sk-toggleable__content\"><pre>BernoulliNB(alpha=1e-05)</pre></div></div></div></div></div>"
      ],
      "text/plain": [
       "BernoulliNB(alpha=1e-05)"
      ]
     },
     "execution_count": 98,
     "metadata": {},
     "output_type": "execute_result"
    }
   ],
   "source": [
    "from sklearn.naive_bayes import BernoulliNB\n",
    "\n",
    "execute_ml(\n",
    "    BernoulliNB(\n",
    "        **{'alpha': 1e-05}\n",
    "    )\n",
    ")"
   ]
  },
  {
   "cell_type": "markdown",
   "id": "c6ae8f90",
   "metadata": {
    "papermill": {
     "duration": 0.016059,
     "end_time": "2022-10-03T18:29:32.198690",
     "exception": false,
     "start_time": "2022-10-03T18:29:32.182631",
     "status": "completed"
    },
    "tags": []
   },
   "source": [
    "### Random forest"
   ]
  },
  {
   "cell_type": "markdown",
   "id": "e6be5818-cc2a-4272-92ef-f22753d67156",
   "metadata": {},
   "source": [
    "#### Hyperparameter Tuning"
   ]
  },
  {
   "cell_type": "code",
   "execution_count": 101,
   "id": "8bf0eb7c-c799-4d6b-80a8-d043e17fd4a2",
   "metadata": {},
   "outputs": [
    {
     "name": "stdout",
     "output_type": "stream",
     "text": [
      "Maximum accuracy of 0.795320 was yielded using: {'criterion': 'entropy', 'max_features': 'sqrt', 'n_estimators': 10}\n",
      "{'criterion': 'gini', 'max_features': 'sqrt', 'n_estimators': 10} => 0.753202\n",
      "{'criterion': 'gini', 'max_features': 'sqrt', 'n_estimators': 100} => 0.781281\n",
      "{'criterion': 'gini', 'max_features': 'sqrt', 'n_estimators': 1000} => 0.774138\n",
      "{'criterion': 'gini', 'max_features': 'log2', 'n_estimators': 10} => 0.781527\n",
      "{'criterion': 'gini', 'max_features': 'log2', 'n_estimators': 100} => 0.787931\n",
      "{'criterion': 'gini', 'max_features': 'log2', 'n_estimators': 1000} => 0.767241\n",
      "{'criterion': 'entropy', 'max_features': 'sqrt', 'n_estimators': 10} => 0.795320\n",
      "{'criterion': 'entropy', 'max_features': 'sqrt', 'n_estimators': 100} => 0.788177\n",
      "{'criterion': 'entropy', 'max_features': 'sqrt', 'n_estimators': 1000} => 0.767241\n",
      "{'criterion': 'entropy', 'max_features': 'log2', 'n_estimators': 10} => 0.788670\n",
      "{'criterion': 'entropy', 'max_features': 'log2', 'n_estimators': 100} => 0.767488\n",
      "{'criterion': 'entropy', 'max_features': 'log2', 'n_estimators': 1000} => 0.767241\n"
     ]
    }
   ],
   "source": [
    "from sklearn.ensemble import RandomForestClassifier\n",
    "\n",
    "hyper_params = {}\n",
    "hyper_params['n_estimators'] = [10, 100, 1000]\n",
    "hyper_params['max_features'] = ['sqrt', 'log2']\n",
    "hyper_params['criterion'] = ['gini', 'entropy']\n",
    "\n",
    "grid_search(RandomForestClassifier(), hyper_params)"
   ]
  },
  {
   "cell_type": "markdown",
   "id": "ec693166-7195-4044-9cb7-3c670d43debf",
   "metadata": {},
   "source": [
    "#### Train and test"
   ]
  },
  {
   "cell_type": "code",
   "execution_count": 102,
   "id": "ab7ff24a-cc44-4a86-919e-d36d42bec80e",
   "metadata": {},
   "outputs": [
    {
     "name": "stdout",
     "output_type": "stream",
     "text": [
      "              precision    recall  f1-score   support\n",
      "\n",
      "           0       0.84      0.86      0.85       110\n",
      "           1       0.77      0.74      0.76        69\n",
      "\n",
      "    accuracy                           0.82       179\n",
      "   macro avg       0.81      0.80      0.80       179\n",
      "weighted avg       0.81      0.82      0.81       179\n",
      "\n"
     ]
    },
    {
     "data": {
      "image/png": "[encoded data removed]",
      "text/plain": [
       "<Figure size 640x480 with 2 Axes>"
      ]
     },
     "metadata": {},
     "output_type": "display_data"
    },
    {
     "data": {
      "text/html": [
       "<style>#sk-container-id-5 {color: black;background-color: white;}#sk-container-id-5 pre{padding: 0;}#sk-container-id-5 div.sk-toggleable {background-color: white;}#sk-container-id-5 label.sk-toggleable__label {cursor: pointer;display: block;width: 100%;margin-bottom: 0;padding: 0.3em;box-sizing: border-box;text-align: center;}#sk-container-id-5 label.sk-toggleable__label-arrow:before {content: \"▸\";float: left;margin-right: 0.25em;color: #696969;}#sk-container-id-5 label.sk-toggleable__label-arrow:hover:before {color: black;}#sk-container-id-5 div.sk-estimator:hover label.sk-toggleable__label-arrow:before {color: black;}#sk-container-id-5 div.sk-toggleable__content {max-height: 0;max-width: 0;overflow: hidden;text-align: left;background-color: #f0f8ff;}#sk-container-id-5 div.sk-toggleable__content pre {margin: 0.2em;color: black;border-radius: 0.25em;background-color: #f0f8ff;}#sk-container-id-5 input.sk-toggleable__control:checked~div.sk-toggleable__content {max-height: 200px;max-width: 100%;overflow: auto;}#sk-container-id-5 input.sk-toggleable__control:checked~label.sk-toggleable__label-arrow:before {content: \"▾\";}#sk-container-id-5 div.sk-estimator input.sk-toggleable__control:checked~label.sk-toggleable__label {background-color: #d4ebff;}#sk-container-id-5 div.sk-label input.sk-toggleable__control:checked~label.sk-toggleable__label {background-color: #d4ebff;}#sk-container-id-5 input.sk-hidden--visually {border: 0;clip: rect(1px 1px 1px 1px);clip: rect(1px, 1px, 1px, 1px);height: 1px;margin: -1px;overflow: hidden;padding: 0;position: absolute;width: 1px;}#sk-container-id-5 div.sk-estimator {font-family: monospace;background-color: #f0f8ff;border: 1px dotted black;border-radius: 0.25em;box-sizing: border-box;margin-bottom: 0.5em;}#sk-container-id-5 div.sk-estimator:hover {background-color: #d4ebff;}#sk-container-id-5 div.sk-parallel-item::after {content: \"\";width: 100%;border-bottom: 1px solid gray;flex-grow: 1;}#sk-container-id-5 div.sk-label:hover label.sk-toggleable__label {background-color: #d4ebff;}#sk-container-id-5 div.sk-serial::before {content: \"\";position: absolute;border-left: 1px solid gray;box-sizing: border-box;top: 0;bottom: 0;left: 50%;z-index: 0;}#sk-container-id-5 div.sk-serial {display: flex;flex-direction: column;align-items: center;background-color: white;padding-right: 0.2em;padding-left: 0.2em;position: relative;}#sk-container-id-5 div.sk-item {position: relative;z-index: 1;}#sk-container-id-5 div.sk-parallel {display: flex;align-items: stretch;justify-content: center;background-color: white;position: relative;}#sk-container-id-5 div.sk-item::before, #sk-container-id-5 div.sk-parallel-item::before {content: \"\";position: absolute;border-left: 1px solid gray;box-sizing: border-box;top: 0;bottom: 0;left: 50%;z-index: -1;}#sk-container-id-5 div.sk-parallel-item {display: flex;flex-direction: column;z-index: 1;position: relative;background-color: white;}#sk-container-id-5 div.sk-parallel-item:first-child::after {align-self: flex-end;width: 50%;}#sk-container-id-5 div.sk-parallel-item:last-child::after {align-self: flex-start;width: 50%;}#sk-container-id-5 div.sk-parallel-item:only-child::after {width: 0;}#sk-container-id-5 div.sk-dashed-wrapped {border: 1px dashed gray;margin: 0 0.4em 0.5em 0.4em;box-sizing: border-box;padding-bottom: 0.4em;background-color: white;}#sk-container-id-5 div.sk-label label {font-family: monospace;font-weight: bold;display: inline-block;line-height: 1.2em;}#sk-container-id-5 div.sk-label-container {text-align: center;}#sk-container-id-5 div.sk-container {/* jupyter's `normalize.less` sets `[hidden] { display: none; }` but bootstrap.min.css set `[hidden] { display: none !important; }` so we also need the `!important` here to be able to override the default hidden behavior on the sphinx rendered scikit-learn.org. See: https://github.com/scikit-learn/scikit-learn/issues/21755 */display: inline-block !important;position: relative;}#sk-container-id-5 div.sk-text-repr-fallback {display: none;}</style><div id=\"sk-container-id-5\" class=\"sk-top-container\"><div class=\"sk-text-repr-fallback\"><pre>RandomForestClassifier(criterion=&#x27;entropy&#x27;, n_estimators=10)</pre><b>In a Jupyter environment, please rerun this cell to show the HTML representation or trust the notebook. <br />On GitHub, the HTML representation is unable to render, please try loading this page with nbviewer.org.</b></div><div class=\"sk-container\" hidden><div class=\"sk-item\"><div class=\"sk-estimator sk-toggleable\"><input class=\"sk-toggleable__control sk-hidden--visually\" id=\"sk-estimator-id-5\" type=\"checkbox\" checked><label for=\"sk-estimator-id-5\" class=\"sk-toggleable__label sk-toggleable__label-arrow\">RandomForestClassifier</label><div class=\"sk-toggleable__content\"><pre>RandomForestClassifier(criterion=&#x27;entropy&#x27;, n_estimators=10)</pre></div></div></div></div></div>"
      ],
      "text/plain": [
       "RandomForestClassifier(criterion='entropy', n_estimators=10)"
      ]
     },
     "execution_count": 102,
     "metadata": {},
     "output_type": "execute_result"
    }
   ],
   "source": [
    "from sklearn.ensemble import RandomForestClassifier\n",
    "\n",
    "execute_ml(\n",
    "    RandomForestClassifier(\n",
    "        **{'criterion': 'entropy', 'max_features': 'sqrt', 'n_estimators': 10}\n",
    "    )\n",
    ")"
   ]
  },
  {
   "cell_type": "markdown",
   "id": "b1b596e6",
   "metadata": {
    "papermill": {
     "duration": 0.01609,
     "end_time": "2022-10-03T18:30:54.148298",
     "exception": false,
     "start_time": "2022-10-03T18:30:54.132208",
     "status": "completed"
    },
    "tags": []
   },
   "source": [
    "### XGBoost classifier"
   ]
  },
  {
   "cell_type": "markdown",
   "id": "80521ba6-c060-4cc8-8c0b-a6b9019109b1",
   "metadata": {},
   "source": [
    "#### Hyperparameter Tuning"
   ]
  },
  {
   "cell_type": "code",
   "execution_count": 104,
   "id": "1f261883-dcde-4785-816a-90562f4ad63a",
   "metadata": {},
   "outputs": [
    {
     "name": "stderr",
     "output_type": "stream",
     "text": [
      "/usr/lib/python3/dist-packages/pkg_resources/__init__.py:116: PkgResourcesDeprecationWarning: 1.1build1 is an invalid version and will not be supported in a future release\n",
      "  warnings.warn(\n",
      "/usr/lib/python3/dist-packages/pkg_resources/__init__.py:116: PkgResourcesDeprecationWarning: 0.1.43ubuntu1 is an invalid version and will not be supported in a future release\n",
      "  warnings.warn(\n",
      "/usr/lib/python3/dist-packages/pkg_resources/__init__.py:116: PkgResourcesDeprecationWarning: 1.1build1 is an invalid version and will not be supported in a future release\n",
      "  warnings.warn(\n",
      "/usr/lib/python3/dist-packages/pkg_resources/__init__.py:116: PkgResourcesDeprecationWarning: 0.1.43ubuntu1 is an invalid version and will not be supported in a future release\n",
      "  warnings.warn(\n",
      "/usr/lib/python3/dist-packages/pkg_resources/__init__.py:116: PkgResourcesDeprecationWarning: 1.1build1 is an invalid version and will not be supported in a future release\n",
      "  warnings.warn(\n",
      "/usr/lib/python3/dist-packages/pkg_resources/__init__.py:116: PkgResourcesDeprecationWarning: 0.1.43ubuntu1 is an invalid version and will not be supported in a future release\n",
      "  warnings.warn(\n",
      "/usr/lib/python3/dist-packages/pkg_resources/__init__.py:116: PkgResourcesDeprecationWarning: 1.1build1 is an invalid version and will not be supported in a future release\n",
      "  warnings.warn(\n",
      "/usr/lib/python3/dist-packages/pkg_resources/__init__.py:116: PkgResourcesDeprecationWarning: 0.1.43ubuntu1 is an invalid version and will not be supported in a future release\n",
      "  warnings.warn(\n",
      "/usr/lib/python3/dist-packages/pkg_resources/__init__.py:116: PkgResourcesDeprecationWarning: 1.1build1 is an invalid version and will not be supported in a future release\n",
      "  warnings.warn(\n",
      "/usr/lib/python3/dist-packages/pkg_resources/__init__.py:116: PkgResourcesDeprecationWarning: 0.1.43ubuntu1 is an invalid version and will not be supported in a future release\n",
      "  warnings.warn(\n"
     ]
    },
    {
     "name": "stdout",
     "output_type": "stream",
     "text": [
      "Maximum accuracy of 0.838177 was yielded using: {'learning_rate': 0.001, 'max_depth': 3, 'n_estimators': 10, 'subsample': 0.7}\n",
      "{'learning_rate': 0.001, 'max_depth': 1, 'n_estimators': 10, 'subsample': 0.1} => 0.760345\n",
      "{'learning_rate': 0.001, 'max_depth': 1, 'n_estimators': 10, 'subsample': 0.5} => 0.796059\n",
      "{'learning_rate': 0.001, 'max_depth': 1, 'n_estimators': 10, 'subsample': 0.7} => 0.796059\n",
      "{'learning_rate': 0.001, 'max_depth': 1, 'n_estimators': 10, 'subsample': 1.0} => 0.796059\n",
      "{'learning_rate': 0.001, 'max_depth': 1, 'n_estimators': 100, 'subsample': 0.1} => 0.725862\n",
      "{'learning_rate': 0.001, 'max_depth': 1, 'n_estimators': 100, 'subsample': 0.5} => 0.796059\n",
      "{'learning_rate': 0.001, 'max_depth': 1, 'n_estimators': 100, 'subsample': 0.7} => 0.796059\n",
      "{'learning_rate': 0.001, 'max_depth': 1, 'n_estimators': 100, 'subsample': 1.0} => 0.796059\n",
      "{'learning_rate': 0.001, 'max_depth': 1, 'n_estimators': 1000, 'subsample': 0.1} => 0.760591\n",
      "{'learning_rate': 0.001, 'max_depth': 1, 'n_estimators': 1000, 'subsample': 0.5} => 0.788916\n",
      "{'learning_rate': 0.001, 'max_depth': 1, 'n_estimators': 1000, 'subsample': 0.7} => 0.788916\n",
      "{'learning_rate': 0.001, 'max_depth': 1, 'n_estimators': 1000, 'subsample': 1.0} => 0.796059\n",
      "{'learning_rate': 0.001, 'max_depth': 3, 'n_estimators': 10, 'subsample': 0.1} => 0.760345\n",
      "{'learning_rate': 0.001, 'max_depth': 3, 'n_estimators': 10, 'subsample': 0.5} => 0.816502\n",
      "{'learning_rate': 0.001, 'max_depth': 3, 'n_estimators': 10, 'subsample': 0.7} => 0.838177\n",
      "{'learning_rate': 0.001, 'max_depth': 3, 'n_estimators': 10, 'subsample': 1.0} => 0.837931\n",
      "{'learning_rate': 0.001, 'max_depth': 3, 'n_estimators': 100, 'subsample': 0.1} => 0.718966\n",
      "{'learning_rate': 0.001, 'max_depth': 3, 'n_estimators': 100, 'subsample': 0.5} => 0.809852\n",
      "{'learning_rate': 0.001, 'max_depth': 3, 'n_estimators': 100, 'subsample': 0.7} => 0.809852\n",
      "{'learning_rate': 0.001, 'max_depth': 3, 'n_estimators': 100, 'subsample': 1.0} => 0.837931\n",
      "{'learning_rate': 0.001, 'max_depth': 3, 'n_estimators': 1000, 'subsample': 0.1} => 0.760591\n",
      "{'learning_rate': 0.001, 'max_depth': 3, 'n_estimators': 1000, 'subsample': 0.5} => 0.809852\n",
      "{'learning_rate': 0.001, 'max_depth': 3, 'n_estimators': 1000, 'subsample': 0.7} => 0.802709\n",
      "{'learning_rate': 0.001, 'max_depth': 3, 'n_estimators': 1000, 'subsample': 1.0} => 0.831034\n",
      "{'learning_rate': 0.001, 'max_depth': 5, 'n_estimators': 10, 'subsample': 0.1} => 0.760345\n",
      "{'learning_rate': 0.001, 'max_depth': 5, 'n_estimators': 10, 'subsample': 0.5} => 0.823645\n",
      "{'learning_rate': 0.001, 'max_depth': 5, 'n_estimators': 10, 'subsample': 0.7} => 0.838177\n",
      "{'learning_rate': 0.001, 'max_depth': 5, 'n_estimators': 10, 'subsample': 1.0} => 0.809360\n",
      "{'learning_rate': 0.001, 'max_depth': 5, 'n_estimators': 100, 'subsample': 0.1} => 0.718966\n",
      "{'learning_rate': 0.001, 'max_depth': 5, 'n_estimators': 100, 'subsample': 0.5} => 0.809852\n",
      "{'learning_rate': 0.001, 'max_depth': 5, 'n_estimators': 100, 'subsample': 0.7} => 0.802709\n",
      "{'learning_rate': 0.001, 'max_depth': 5, 'n_estimators': 100, 'subsample': 1.0} => 0.816502\n",
      "{'learning_rate': 0.001, 'max_depth': 5, 'n_estimators': 1000, 'subsample': 0.1} => 0.760591\n",
      "{'learning_rate': 0.001, 'max_depth': 5, 'n_estimators': 1000, 'subsample': 0.5} => 0.809852\n",
      "{'learning_rate': 0.001, 'max_depth': 5, 'n_estimators': 1000, 'subsample': 0.7} => 0.802709\n",
      "{'learning_rate': 0.001, 'max_depth': 5, 'n_estimators': 1000, 'subsample': 1.0} => 0.795320\n",
      "{'learning_rate': 0.001, 'max_depth': 7, 'n_estimators': 10, 'subsample': 0.1} => 0.760345\n",
      "{'learning_rate': 0.001, 'max_depth': 7, 'n_estimators': 10, 'subsample': 0.5} => 0.823645\n",
      "{'learning_rate': 0.001, 'max_depth': 7, 'n_estimators': 10, 'subsample': 0.7} => 0.838177\n",
      "{'learning_rate': 0.001, 'max_depth': 7, 'n_estimators': 10, 'subsample': 1.0} => 0.809360\n",
      "{'learning_rate': 0.001, 'max_depth': 7, 'n_estimators': 100, 'subsample': 0.1} => 0.718966\n",
      "{'learning_rate': 0.001, 'max_depth': 7, 'n_estimators': 100, 'subsample': 0.5} => 0.809852\n",
      "{'learning_rate': 0.001, 'max_depth': 7, 'n_estimators': 100, 'subsample': 0.7} => 0.802709\n",
      "{'learning_rate': 0.001, 'max_depth': 7, 'n_estimators': 100, 'subsample': 1.0} => 0.816502\n",
      "{'learning_rate': 0.001, 'max_depth': 7, 'n_estimators': 1000, 'subsample': 0.1} => 0.760591\n",
      "{'learning_rate': 0.001, 'max_depth': 7, 'n_estimators': 1000, 'subsample': 0.5} => 0.809852\n",
      "{'learning_rate': 0.001, 'max_depth': 7, 'n_estimators': 1000, 'subsample': 0.7} => 0.802709\n",
      "{'learning_rate': 0.001, 'max_depth': 7, 'n_estimators': 1000, 'subsample': 1.0} => 0.795320\n",
      "{'learning_rate': 0.001, 'max_depth': 9, 'n_estimators': 10, 'subsample': 0.1} => 0.760345\n",
      "{'learning_rate': 0.001, 'max_depth': 9, 'n_estimators': 10, 'subsample': 0.5} => 0.823645\n",
      "{'learning_rate': 0.001, 'max_depth': 9, 'n_estimators': 10, 'subsample': 0.7} => 0.838177\n",
      "{'learning_rate': 0.001, 'max_depth': 9, 'n_estimators': 10, 'subsample': 1.0} => 0.809360\n",
      "{'learning_rate': 0.001, 'max_depth': 9, 'n_estimators': 100, 'subsample': 0.1} => 0.718966\n",
      "{'learning_rate': 0.001, 'max_depth': 9, 'n_estimators': 100, 'subsample': 0.5} => 0.809852\n",
      "{'learning_rate': 0.001, 'max_depth': 9, 'n_estimators': 100, 'subsample': 0.7} => 0.802709\n",
      "{'learning_rate': 0.001, 'max_depth': 9, 'n_estimators': 100, 'subsample': 1.0} => 0.816502\n",
      "{'learning_rate': 0.001, 'max_depth': 9, 'n_estimators': 1000, 'subsample': 0.1} => 0.760591\n",
      "{'learning_rate': 0.001, 'max_depth': 9, 'n_estimators': 1000, 'subsample': 0.5} => 0.809852\n",
      "{'learning_rate': 0.001, 'max_depth': 9, 'n_estimators': 1000, 'subsample': 0.7} => 0.802709\n",
      "{'learning_rate': 0.001, 'max_depth': 9, 'n_estimators': 1000, 'subsample': 1.0} => 0.795320\n",
      "{'learning_rate': 0.01, 'max_depth': 1, 'n_estimators': 10, 'subsample': 0.1} => 0.760345\n",
      "{'learning_rate': 0.01, 'max_depth': 1, 'n_estimators': 10, 'subsample': 0.5} => 0.796059\n",
      "{'learning_rate': 0.01, 'max_depth': 1, 'n_estimators': 10, 'subsample': 0.7} => 0.796059\n",
      "{'learning_rate': 0.01, 'max_depth': 1, 'n_estimators': 10, 'subsample': 1.0} => 0.796059\n",
      "{'learning_rate': 0.01, 'max_depth': 1, 'n_estimators': 100, 'subsample': 0.1} => 0.767488\n",
      "{'learning_rate': 0.01, 'max_depth': 1, 'n_estimators': 100, 'subsample': 0.5} => 0.788916\n",
      "{'learning_rate': 0.01, 'max_depth': 1, 'n_estimators': 100, 'subsample': 0.7} => 0.796059\n",
      "{'learning_rate': 0.01, 'max_depth': 1, 'n_estimators': 100, 'subsample': 1.0} => 0.796059\n",
      "{'learning_rate': 0.01, 'max_depth': 1, 'n_estimators': 1000, 'subsample': 0.1} => 0.796059\n",
      "{'learning_rate': 0.01, 'max_depth': 1, 'n_estimators': 1000, 'subsample': 0.5} => 0.781527\n",
      "{'learning_rate': 0.01, 'max_depth': 1, 'n_estimators': 1000, 'subsample': 0.7} => 0.781527\n",
      "{'learning_rate': 0.01, 'max_depth': 1, 'n_estimators': 1000, 'subsample': 1.0} => 0.787931\n",
      "{'learning_rate': 0.01, 'max_depth': 3, 'n_estimators': 10, 'subsample': 0.1} => 0.760345\n",
      "{'learning_rate': 0.01, 'max_depth': 3, 'n_estimators': 10, 'subsample': 0.5} => 0.816502\n",
      "{'learning_rate': 0.01, 'max_depth': 3, 'n_estimators': 10, 'subsample': 0.7} => 0.838177\n",
      "{'learning_rate': 0.01, 'max_depth': 3, 'n_estimators': 10, 'subsample': 1.0} => 0.837931\n",
      "{'learning_rate': 0.01, 'max_depth': 3, 'n_estimators': 100, 'subsample': 0.1} => 0.767488\n",
      "{'learning_rate': 0.01, 'max_depth': 3, 'n_estimators': 100, 'subsample': 0.5} => 0.809606\n",
      "{'learning_rate': 0.01, 'max_depth': 3, 'n_estimators': 100, 'subsample': 0.7} => 0.795813\n",
      "{'learning_rate': 0.01, 'max_depth': 3, 'n_estimators': 100, 'subsample': 1.0} => 0.831034\n",
      "{'learning_rate': 0.01, 'max_depth': 3, 'n_estimators': 1000, 'subsample': 0.1} => 0.788916\n",
      "{'learning_rate': 0.01, 'max_depth': 3, 'n_estimators': 1000, 'subsample': 0.5} => 0.774631\n",
      "{'learning_rate': 0.01, 'max_depth': 3, 'n_estimators': 1000, 'subsample': 0.7} => 0.774631\n",
      "{'learning_rate': 0.01, 'max_depth': 3, 'n_estimators': 1000, 'subsample': 1.0} => 0.781773\n",
      "{'learning_rate': 0.01, 'max_depth': 5, 'n_estimators': 10, 'subsample': 0.1} => 0.760345\n",
      "{'learning_rate': 0.01, 'max_depth': 5, 'n_estimators': 10, 'subsample': 0.5} => 0.816502\n",
      "{'learning_rate': 0.01, 'max_depth': 5, 'n_estimators': 10, 'subsample': 0.7} => 0.838177\n",
      "{'learning_rate': 0.01, 'max_depth': 5, 'n_estimators': 10, 'subsample': 1.0} => 0.816502\n",
      "{'learning_rate': 0.01, 'max_depth': 5, 'n_estimators': 100, 'subsample': 0.1} => 0.767488\n",
      "{'learning_rate': 0.01, 'max_depth': 5, 'n_estimators': 100, 'subsample': 0.5} => 0.809606\n",
      "{'learning_rate': 0.01, 'max_depth': 5, 'n_estimators': 100, 'subsample': 0.7} => 0.788670\n",
      "{'learning_rate': 0.01, 'max_depth': 5, 'n_estimators': 100, 'subsample': 1.0} => 0.795320\n",
      "{'learning_rate': 0.01, 'max_depth': 5, 'n_estimators': 1000, 'subsample': 0.1} => 0.788916\n",
      "{'learning_rate': 0.01, 'max_depth': 5, 'n_estimators': 1000, 'subsample': 0.5} => 0.767734\n",
      "{'learning_rate': 0.01, 'max_depth': 5, 'n_estimators': 1000, 'subsample': 0.7} => 0.774631\n",
      "{'learning_rate': 0.01, 'max_depth': 5, 'n_estimators': 1000, 'subsample': 1.0} => 0.739655\n",
      "{'learning_rate': 0.01, 'max_depth': 7, 'n_estimators': 10, 'subsample': 0.1} => 0.760345\n",
      "{'learning_rate': 0.01, 'max_depth': 7, 'n_estimators': 10, 'subsample': 0.5} => 0.816502\n",
      "{'learning_rate': 0.01, 'max_depth': 7, 'n_estimators': 10, 'subsample': 0.7} => 0.838177\n",
      "{'learning_rate': 0.01, 'max_depth': 7, 'n_estimators': 10, 'subsample': 1.0} => 0.816502\n",
      "{'learning_rate': 0.01, 'max_depth': 7, 'n_estimators': 100, 'subsample': 0.1} => 0.767488\n",
      "{'learning_rate': 0.01, 'max_depth': 7, 'n_estimators': 100, 'subsample': 0.5} => 0.809606\n",
      "{'learning_rate': 0.01, 'max_depth': 7, 'n_estimators': 100, 'subsample': 0.7} => 0.788670\n",
      "{'learning_rate': 0.01, 'max_depth': 7, 'n_estimators': 100, 'subsample': 1.0} => 0.795320\n",
      "{'learning_rate': 0.01, 'max_depth': 7, 'n_estimators': 1000, 'subsample': 0.1} => 0.788916\n",
      "{'learning_rate': 0.01, 'max_depth': 7, 'n_estimators': 1000, 'subsample': 0.5} => 0.767734\n",
      "{'learning_rate': 0.01, 'max_depth': 7, 'n_estimators': 1000, 'subsample': 0.7} => 0.774631\n",
      "{'learning_rate': 0.01, 'max_depth': 7, 'n_estimators': 1000, 'subsample': 1.0} => 0.739655\n",
      "{'learning_rate': 0.01, 'max_depth': 9, 'n_estimators': 10, 'subsample': 0.1} => 0.760345\n",
      "{'learning_rate': 0.01, 'max_depth': 9, 'n_estimators': 10, 'subsample': 0.5} => 0.816502\n",
      "{'learning_rate': 0.01, 'max_depth': 9, 'n_estimators': 10, 'subsample': 0.7} => 0.838177\n",
      "{'learning_rate': 0.01, 'max_depth': 9, 'n_estimators': 10, 'subsample': 1.0} => 0.816502\n",
      "{'learning_rate': 0.01, 'max_depth': 9, 'n_estimators': 100, 'subsample': 0.1} => 0.767488\n",
      "{'learning_rate': 0.01, 'max_depth': 9, 'n_estimators': 100, 'subsample': 0.5} => 0.809606\n",
      "{'learning_rate': 0.01, 'max_depth': 9, 'n_estimators': 100, 'subsample': 0.7} => 0.788670\n",
      "{'learning_rate': 0.01, 'max_depth': 9, 'n_estimators': 100, 'subsample': 1.0} => 0.795320\n",
      "{'learning_rate': 0.01, 'max_depth': 9, 'n_estimators': 1000, 'subsample': 0.1} => 0.788916\n",
      "{'learning_rate': 0.01, 'max_depth': 9, 'n_estimators': 1000, 'subsample': 0.5} => 0.767734\n",
      "{'learning_rate': 0.01, 'max_depth': 9, 'n_estimators': 1000, 'subsample': 0.7} => 0.774631\n",
      "{'learning_rate': 0.01, 'max_depth': 9, 'n_estimators': 1000, 'subsample': 1.0} => 0.739655\n",
      "{'learning_rate': 0.1, 'max_depth': 1, 'n_estimators': 10, 'subsample': 0.1} => 0.760345\n",
      "{'learning_rate': 0.1, 'max_depth': 1, 'n_estimators': 10, 'subsample': 0.5} => 0.788916\n",
      "{'learning_rate': 0.1, 'max_depth': 1, 'n_estimators': 10, 'subsample': 0.7} => 0.788916\n",
      "{'learning_rate': 0.1, 'max_depth': 1, 'n_estimators': 10, 'subsample': 1.0} => 0.796059\n",
      "{'learning_rate': 0.1, 'max_depth': 1, 'n_estimators': 100, 'subsample': 0.1} => 0.781773\n",
      "{'learning_rate': 0.1, 'max_depth': 1, 'n_estimators': 100, 'subsample': 0.5} => 0.809852\n",
      "{'learning_rate': 0.1, 'max_depth': 1, 'n_estimators': 100, 'subsample': 0.7} => 0.788424\n",
      "{'learning_rate': 0.1, 'max_depth': 1, 'n_estimators': 100, 'subsample': 1.0} => 0.787931\n",
      "{'learning_rate': 0.1, 'max_depth': 1, 'n_estimators': 1000, 'subsample': 0.1} => 0.746305\n",
      "{'learning_rate': 0.1, 'max_depth': 1, 'n_estimators': 1000, 'subsample': 0.5} => 0.747044\n",
      "{'learning_rate': 0.1, 'max_depth': 1, 'n_estimators': 1000, 'subsample': 0.7} => 0.760837\n",
      "{'learning_rate': 0.1, 'max_depth': 1, 'n_estimators': 1000, 'subsample': 1.0} => 0.766995\n",
      "{'learning_rate': 0.1, 'max_depth': 3, 'n_estimators': 10, 'subsample': 0.1} => 0.760345\n",
      "{'learning_rate': 0.1, 'max_depth': 3, 'n_estimators': 10, 'subsample': 0.5} => 0.830788\n",
      "{'learning_rate': 0.1, 'max_depth': 3, 'n_estimators': 10, 'subsample': 0.7} => 0.831281\n",
      "{'learning_rate': 0.1, 'max_depth': 3, 'n_estimators': 10, 'subsample': 1.0} => 0.831034\n",
      "{'learning_rate': 0.1, 'max_depth': 3, 'n_estimators': 100, 'subsample': 0.1} => 0.781773\n",
      "{'learning_rate': 0.1, 'max_depth': 3, 'n_estimators': 100, 'subsample': 0.5} => 0.774138\n",
      "{'learning_rate': 0.1, 'max_depth': 3, 'n_estimators': 100, 'subsample': 0.7} => 0.788916\n",
      "{'learning_rate': 0.1, 'max_depth': 3, 'n_estimators': 100, 'subsample': 1.0} => 0.774877\n",
      "{'learning_rate': 0.1, 'max_depth': 3, 'n_estimators': 1000, 'subsample': 0.1} => 0.768227\n",
      "{'learning_rate': 0.1, 'max_depth': 3, 'n_estimators': 1000, 'subsample': 0.5} => 0.782020\n",
      "{'learning_rate': 0.1, 'max_depth': 3, 'n_estimators': 1000, 'subsample': 0.7} => 0.796059\n",
      "{'learning_rate': 0.1, 'max_depth': 3, 'n_estimators': 1000, 'subsample': 1.0} => 0.753202\n",
      "{'learning_rate': 0.1, 'max_depth': 5, 'n_estimators': 10, 'subsample': 0.1} => 0.760345\n",
      "{'learning_rate': 0.1, 'max_depth': 5, 'n_estimators': 10, 'subsample': 0.5} => 0.830788\n",
      "{'learning_rate': 0.1, 'max_depth': 5, 'n_estimators': 10, 'subsample': 0.7} => 0.823892\n",
      "{'learning_rate': 0.1, 'max_depth': 5, 'n_estimators': 10, 'subsample': 1.0} => 0.809360\n",
      "{'learning_rate': 0.1, 'max_depth': 5, 'n_estimators': 100, 'subsample': 0.1} => 0.781773\n",
      "{'learning_rate': 0.1, 'max_depth': 5, 'n_estimators': 100, 'subsample': 0.5} => 0.774138\n",
      "{'learning_rate': 0.1, 'max_depth': 5, 'n_estimators': 100, 'subsample': 0.7} => 0.767980\n",
      "{'learning_rate': 0.1, 'max_depth': 5, 'n_estimators': 100, 'subsample': 1.0} => 0.746552\n",
      "{'learning_rate': 0.1, 'max_depth': 5, 'n_estimators': 1000, 'subsample': 0.1} => 0.768227\n",
      "{'learning_rate': 0.1, 'max_depth': 5, 'n_estimators': 1000, 'subsample': 0.5} => 0.788916\n",
      "{'learning_rate': 0.1, 'max_depth': 5, 'n_estimators': 1000, 'subsample': 0.7} => 0.796059\n",
      "{'learning_rate': 0.1, 'max_depth': 5, 'n_estimators': 1000, 'subsample': 1.0} => 0.760591\n",
      "{'learning_rate': 0.1, 'max_depth': 7, 'n_estimators': 10, 'subsample': 0.1} => 0.760345\n",
      "{'learning_rate': 0.1, 'max_depth': 7, 'n_estimators': 10, 'subsample': 0.5} => 0.830788\n",
      "{'learning_rate': 0.1, 'max_depth': 7, 'n_estimators': 10, 'subsample': 0.7} => 0.823892\n",
      "{'learning_rate': 0.1, 'max_depth': 7, 'n_estimators': 10, 'subsample': 1.0} => 0.809360\n",
      "{'learning_rate': 0.1, 'max_depth': 7, 'n_estimators': 100, 'subsample': 0.1} => 0.781773\n",
      "{'learning_rate': 0.1, 'max_depth': 7, 'n_estimators': 100, 'subsample': 0.5} => 0.774138\n",
      "{'learning_rate': 0.1, 'max_depth': 7, 'n_estimators': 100, 'subsample': 0.7} => 0.774877\n",
      "{'learning_rate': 0.1, 'max_depth': 7, 'n_estimators': 100, 'subsample': 1.0} => 0.746552\n",
      "{'learning_rate': 0.1, 'max_depth': 7, 'n_estimators': 1000, 'subsample': 0.1} => 0.768227\n",
      "{'learning_rate': 0.1, 'max_depth': 7, 'n_estimators': 1000, 'subsample': 0.5} => 0.788916\n",
      "{'learning_rate': 0.1, 'max_depth': 7, 'n_estimators': 1000, 'subsample': 0.7} => 0.796059\n",
      "{'learning_rate': 0.1, 'max_depth': 7, 'n_estimators': 1000, 'subsample': 1.0} => 0.760591\n",
      "{'learning_rate': 0.1, 'max_depth': 9, 'n_estimators': 10, 'subsample': 0.1} => 0.760345\n",
      "{'learning_rate': 0.1, 'max_depth': 9, 'n_estimators': 10, 'subsample': 0.5} => 0.830788\n",
      "{'learning_rate': 0.1, 'max_depth': 9, 'n_estimators': 10, 'subsample': 0.7} => 0.823892\n",
      "{'learning_rate': 0.1, 'max_depth': 9, 'n_estimators': 10, 'subsample': 1.0} => 0.809360\n",
      "{'learning_rate': 0.1, 'max_depth': 9, 'n_estimators': 100, 'subsample': 0.1} => 0.781773\n",
      "{'learning_rate': 0.1, 'max_depth': 9, 'n_estimators': 100, 'subsample': 0.5} => 0.774138\n",
      "{'learning_rate': 0.1, 'max_depth': 9, 'n_estimators': 100, 'subsample': 0.7} => 0.774877\n",
      "{'learning_rate': 0.1, 'max_depth': 9, 'n_estimators': 100, 'subsample': 1.0} => 0.746552\n",
      "{'learning_rate': 0.1, 'max_depth': 9, 'n_estimators': 1000, 'subsample': 0.1} => 0.768227\n",
      "{'learning_rate': 0.1, 'max_depth': 9, 'n_estimators': 1000, 'subsample': 0.5} => 0.788916\n",
      "{'learning_rate': 0.1, 'max_depth': 9, 'n_estimators': 1000, 'subsample': 0.7} => 0.796059\n",
      "{'learning_rate': 0.1, 'max_depth': 9, 'n_estimators': 1000, 'subsample': 1.0} => 0.760591\n",
      "{'learning_rate': 1, 'max_depth': 1, 'n_estimators': 10, 'subsample': 0.1} => 0.710837\n",
      "{'learning_rate': 1, 'max_depth': 1, 'n_estimators': 10, 'subsample': 0.5} => 0.767488\n",
      "{'learning_rate': 1, 'max_depth': 1, 'n_estimators': 10, 'subsample': 0.7} => 0.767241\n",
      "{'learning_rate': 1, 'max_depth': 1, 'n_estimators': 10, 'subsample': 1.0} => 0.760345\n",
      "{'learning_rate': 1, 'max_depth': 1, 'n_estimators': 100, 'subsample': 0.1} => 0.711823\n",
      "{'learning_rate': 1, 'max_depth': 1, 'n_estimators': 100, 'subsample': 0.5} => 0.760591\n",
      "{'learning_rate': 1, 'max_depth': 1, 'n_estimators': 100, 'subsample': 0.7} => 0.768227\n",
      "{'learning_rate': 1, 'max_depth': 1, 'n_estimators': 100, 'subsample': 1.0} => 0.746305\n",
      "{'learning_rate': 1, 'max_depth': 1, 'n_estimators': 1000, 'subsample': 0.1} => 0.746305\n",
      "{'learning_rate': 1, 'max_depth': 1, 'n_estimators': 1000, 'subsample': 0.5} => 0.725369\n",
      "{'learning_rate': 1, 'max_depth': 1, 'n_estimators': 1000, 'subsample': 0.7} => 0.739409\n",
      "{'learning_rate': 1, 'max_depth': 1, 'n_estimators': 1000, 'subsample': 1.0} => 0.724877\n",
      "{'learning_rate': 1, 'max_depth': 3, 'n_estimators': 10, 'subsample': 0.1} => 0.703941\n",
      "{'learning_rate': 1, 'max_depth': 3, 'n_estimators': 10, 'subsample': 0.5} => 0.781527\n",
      "{'learning_rate': 1, 'max_depth': 3, 'n_estimators': 10, 'subsample': 0.7} => 0.802463\n",
      "{'learning_rate': 1, 'max_depth': 3, 'n_estimators': 10, 'subsample': 1.0} => 0.774631\n",
      "{'learning_rate': 1, 'max_depth': 3, 'n_estimators': 100, 'subsample': 0.1} => 0.739409\n",
      "{'learning_rate': 1, 'max_depth': 3, 'n_estimators': 100, 'subsample': 0.5} => 0.781527\n",
      "{'learning_rate': 1, 'max_depth': 3, 'n_estimators': 100, 'subsample': 0.7} => 0.760345\n",
      "{'learning_rate': 1, 'max_depth': 3, 'n_estimators': 100, 'subsample': 1.0} => 0.746552\n",
      "{'learning_rate': 1, 'max_depth': 3, 'n_estimators': 1000, 'subsample': 0.1} => 0.753202\n",
      "{'learning_rate': 1, 'max_depth': 3, 'n_estimators': 1000, 'subsample': 0.5} => 0.753695\n",
      "{'learning_rate': 1, 'max_depth': 3, 'n_estimators': 1000, 'subsample': 0.7} => 0.760345\n",
      "{'learning_rate': 1, 'max_depth': 3, 'n_estimators': 1000, 'subsample': 1.0} => 0.768227\n",
      "{'learning_rate': 1, 'max_depth': 5, 'n_estimators': 10, 'subsample': 0.1} => 0.703941\n",
      "{'learning_rate': 1, 'max_depth': 5, 'n_estimators': 10, 'subsample': 0.5} => 0.802956\n",
      "{'learning_rate': 1, 'max_depth': 5, 'n_estimators': 10, 'subsample': 0.7} => 0.767241\n",
      "{'learning_rate': 1, 'max_depth': 5, 'n_estimators': 10, 'subsample': 1.0} => 0.760345\n",
      "{'learning_rate': 1, 'max_depth': 5, 'n_estimators': 100, 'subsample': 0.1} => 0.739409\n",
      "{'learning_rate': 1, 'max_depth': 5, 'n_estimators': 100, 'subsample': 0.5} => 0.789163\n",
      "{'learning_rate': 1, 'max_depth': 5, 'n_estimators': 100, 'subsample': 0.7} => 0.781773\n",
      "{'learning_rate': 1, 'max_depth': 5, 'n_estimators': 100, 'subsample': 1.0} => 0.732020\n",
      "{'learning_rate': 1, 'max_depth': 5, 'n_estimators': 1000, 'subsample': 0.1} => 0.753202\n",
      "{'learning_rate': 1, 'max_depth': 5, 'n_estimators': 1000, 'subsample': 0.5} => 0.760591\n",
      "{'learning_rate': 1, 'max_depth': 5, 'n_estimators': 1000, 'subsample': 0.7} => 0.767734\n",
      "{'learning_rate': 1, 'max_depth': 5, 'n_estimators': 1000, 'subsample': 1.0} => 0.739163\n",
      "{'learning_rate': 1, 'max_depth': 7, 'n_estimators': 10, 'subsample': 0.1} => 0.703941\n",
      "{'learning_rate': 1, 'max_depth': 7, 'n_estimators': 10, 'subsample': 0.5} => 0.802956\n",
      "{'learning_rate': 1, 'max_depth': 7, 'n_estimators': 10, 'subsample': 0.7} => 0.767241\n",
      "{'learning_rate': 1, 'max_depth': 7, 'n_estimators': 10, 'subsample': 1.0} => 0.760345\n",
      "{'learning_rate': 1, 'max_depth': 7, 'n_estimators': 100, 'subsample': 0.1} => 0.739409\n",
      "{'learning_rate': 1, 'max_depth': 7, 'n_estimators': 100, 'subsample': 0.5} => 0.789163\n",
      "{'learning_rate': 1, 'max_depth': 7, 'n_estimators': 100, 'subsample': 0.7} => 0.781773\n",
      "{'learning_rate': 1, 'max_depth': 7, 'n_estimators': 100, 'subsample': 1.0} => 0.739163\n",
      "{'learning_rate': 1, 'max_depth': 7, 'n_estimators': 1000, 'subsample': 0.1} => 0.753202\n",
      "{'learning_rate': 1, 'max_depth': 7, 'n_estimators': 1000, 'subsample': 0.5} => 0.760591\n",
      "{'learning_rate': 1, 'max_depth': 7, 'n_estimators': 1000, 'subsample': 0.7} => 0.767734\n",
      "{'learning_rate': 1, 'max_depth': 7, 'n_estimators': 1000, 'subsample': 1.0} => 0.753448\n",
      "{'learning_rate': 1, 'max_depth': 9, 'n_estimators': 10, 'subsample': 0.1} => 0.703941\n",
      "{'learning_rate': 1, 'max_depth': 9, 'n_estimators': 10, 'subsample': 0.5} => 0.802956\n",
      "{'learning_rate': 1, 'max_depth': 9, 'n_estimators': 10, 'subsample': 0.7} => 0.767241\n",
      "{'learning_rate': 1, 'max_depth': 9, 'n_estimators': 10, 'subsample': 1.0} => 0.760345\n",
      "{'learning_rate': 1, 'max_depth': 9, 'n_estimators': 100, 'subsample': 0.1} => 0.739409\n",
      "{'learning_rate': 1, 'max_depth': 9, 'n_estimators': 100, 'subsample': 0.5} => 0.789163\n",
      "{'learning_rate': 1, 'max_depth': 9, 'n_estimators': 100, 'subsample': 0.7} => 0.781773\n",
      "{'learning_rate': 1, 'max_depth': 9, 'n_estimators': 100, 'subsample': 1.0} => 0.739163\n",
      "{'learning_rate': 1, 'max_depth': 9, 'n_estimators': 1000, 'subsample': 0.1} => 0.753202\n",
      "{'learning_rate': 1, 'max_depth': 9, 'n_estimators': 1000, 'subsample': 0.5} => 0.760591\n",
      "{'learning_rate': 1, 'max_depth': 9, 'n_estimators': 1000, 'subsample': 0.7} => 0.767734\n",
      "{'learning_rate': 1, 'max_depth': 9, 'n_estimators': 1000, 'subsample': 1.0} => 0.753448\n"
     ]
    }
   ],
   "source": [
    "from xgboost import XGBClassifier\n",
    "\n",
    "hyper_params = {}\n",
    "hyper_params['learning_rate'] = [0.001, 0.01, 0.1, 1]\n",
    "hyper_params['n_estimators'] = [10, 100, 1000]\n",
    "hyper_params['max_depth'] = [1, 3, 5, 7, 9]\n",
    "hyper_params['subsample'] = [0.1, 0.5, 0.7, 1.0]\n",
    "\n",
    "grid_search(XGBClassifier(), hyper_params)"
   ]
  },
  {
   "cell_type": "markdown",
   "id": "85f8c504-c1c4-45bf-a993-5f8c4d1f3d87",
   "metadata": {},
   "source": [
    "#### Train and test"
   ]
  },
  {
   "cell_type": "code",
   "execution_count": 18,
   "id": "43943027",
   "metadata": {
    "papermill": {
     "duration": 5.808681,
     "end_time": "2022-10-03T18:30:59.974886",
     "exception": false,
     "start_time": "2022-10-03T18:30:54.166205",
     "status": "completed"
    },
    "tags": []
   },
   "outputs": [
    {
     "name": "stdout",
     "output_type": "stream",
     "text": [
      "              precision    recall  f1-score   support\n",
      "\n",
      "           0       0.82      0.88      0.85       110\n",
      "           1       0.79      0.70      0.74        69\n",
      "\n",
      "    accuracy                           0.81       179\n",
      "   macro avg       0.80      0.79      0.79       179\n",
      "weighted avg       0.81      0.81      0.81       179\n",
      "\n"
     ]
    },
    {
     "data": {
      "image/png": "[encoded data removed]",
      "text/plain": [
       "<Figure size 640x480 with 2 Axes>"
      ]
     },
     "metadata": {},
     "output_type": "display_data"
    },
    {
     "data": {
      "text/html": [
       "<style>#sk-container-id-1 {color: black;background-color: white;}#sk-container-id-1 pre{padding: 0;}#sk-container-id-1 div.sk-toggleable {background-color: white;}#sk-container-id-1 label.sk-toggleable__label {cursor: pointer;display: block;width: 100%;margin-bottom: 0;padding: 0.3em;box-sizing: border-box;text-align: center;}#sk-container-id-1 label.sk-toggleable__label-arrow:before {content: \"▸\";float: left;margin-right: 0.25em;color: #696969;}#sk-container-id-1 label.sk-toggleable__label-arrow:hover:before {color: black;}#sk-container-id-1 div.sk-estimator:hover label.sk-toggleable__label-arrow:before {color: black;}#sk-container-id-1 div.sk-toggleable__content {max-height: 0;max-width: 0;overflow: hidden;text-align: left;background-color: #f0f8ff;}#sk-container-id-1 div.sk-toggleable__content pre {margin: 0.2em;color: black;border-radius: 0.25em;background-color: #f0f8ff;}#sk-container-id-1 input.sk-toggleable__control:checked~div.sk-toggleable__content {max-height: 200px;max-width: 100%;overflow: auto;}#sk-container-id-1 input.sk-toggleable__control:checked~label.sk-toggleable__label-arrow:before {content: \"▾\";}#sk-container-id-1 div.sk-estimator input.sk-toggleable__control:checked~label.sk-toggleable__label {background-color: #d4ebff;}#sk-container-id-1 div.sk-label input.sk-toggleable__control:checked~label.sk-toggleable__label {background-color: #d4ebff;}#sk-container-id-1 input.sk-hidden--visually {border: 0;clip: rect(1px 1px 1px 1px);clip: rect(1px, 1px, 1px, 1px);height: 1px;margin: -1px;overflow: hidden;padding: 0;position: absolute;width: 1px;}#sk-container-id-1 div.sk-estimator {font-family: monospace;background-color: #f0f8ff;border: 1px dotted black;border-radius: 0.25em;box-sizing: border-box;margin-bottom: 0.5em;}#sk-container-id-1 div.sk-estimator:hover {background-color: #d4ebff;}#sk-container-id-1 div.sk-parallel-item::after {content: \"\";width: 100%;border-bottom: 1px solid gray;flex-grow: 1;}#sk-container-id-1 div.sk-label:hover label.sk-toggleable__label {background-color: #d4ebff;}#sk-container-id-1 div.sk-serial::before {content: \"\";position: absolute;border-left: 1px solid gray;box-sizing: border-box;top: 0;bottom: 0;left: 50%;z-index: 0;}#sk-container-id-1 div.sk-serial {display: flex;flex-direction: column;align-items: center;background-color: white;padding-right: 0.2em;padding-left: 0.2em;position: relative;}#sk-container-id-1 div.sk-item {position: relative;z-index: 1;}#sk-container-id-1 div.sk-parallel {display: flex;align-items: stretch;justify-content: center;background-color: white;position: relative;}#sk-container-id-1 div.sk-item::before, #sk-container-id-1 div.sk-parallel-item::before {content: \"\";position: absolute;border-left: 1px solid gray;box-sizing: border-box;top: 0;bottom: 0;left: 50%;z-index: -1;}#sk-container-id-1 div.sk-parallel-item {display: flex;flex-direction: column;z-index: 1;position: relative;background-color: white;}#sk-container-id-1 div.sk-parallel-item:first-child::after {align-self: flex-end;width: 50%;}#sk-container-id-1 div.sk-parallel-item:last-child::after {align-self: flex-start;width: 50%;}#sk-container-id-1 div.sk-parallel-item:only-child::after {width: 0;}#sk-container-id-1 div.sk-dashed-wrapped {border: 1px dashed gray;margin: 0 0.4em 0.5em 0.4em;box-sizing: border-box;padding-bottom: 0.4em;background-color: white;}#sk-container-id-1 div.sk-label label {font-family: monospace;font-weight: bold;display: inline-block;line-height: 1.2em;}#sk-container-id-1 div.sk-label-container {text-align: center;}#sk-container-id-1 div.sk-container {/* jupyter's `normalize.less` sets `[hidden] { display: none; }` but bootstrap.min.css set `[hidden] { display: none !important; }` so we also need the `!important` here to be able to override the default hidden behavior on the sphinx rendered scikit-learn.org. See: https://github.com/scikit-learn/scikit-learn/issues/21755 */display: inline-block !important;position: relative;}#sk-container-id-1 div.sk-text-repr-fallback {display: none;}</style><div id=\"sk-container-id-1\" class=\"sk-top-container\"><div class=\"sk-text-repr-fallback\"><pre>XGBClassifier(base_score=0.5, booster=&#x27;gbtree&#x27;, callbacks=None,\n",
       "              colsample_bylevel=1, colsample_bynode=1, colsample_bytree=1,\n",
       "              early_stopping_rounds=None, enable_categorical=False,\n",
       "              eval_metric=None, gamma=0, gpu_id=-1, grow_policy=&#x27;depthwise&#x27;,\n",
       "              importance_type=None, interaction_constraints=&#x27;&#x27;,\n",
       "              learning_rate=0.001, max_bin=256, max_cat_to_onehot=4,\n",
       "              max_delta_step=0, max_depth=3, max_leaves=0, min_child_weight=1,\n",
       "              missing=nan, monotone_constraints=&#x27;()&#x27;, n_estimators=10, n_jobs=0,\n",
       "              num_parallel_tree=1, predictor=&#x27;auto&#x27;, random_state=0,\n",
       "              reg_alpha=0, reg_lambda=1, ...)</pre><b>In a Jupyter environment, please rerun this cell to show the HTML representation or trust the notebook. <br />On GitHub, the HTML representation is unable to render, please try loading this page with nbviewer.org.</b></div><div class=\"sk-container\" hidden><div class=\"sk-item\"><div class=\"sk-estimator sk-toggleable\"><input class=\"sk-toggleable__control sk-hidden--visually\" id=\"sk-estimator-id-1\" type=\"checkbox\" checked><label for=\"sk-estimator-id-1\" class=\"sk-toggleable__label sk-toggleable__label-arrow\">XGBClassifier</label><div class=\"sk-toggleable__content\"><pre>XGBClassifier(base_score=0.5, booster=&#x27;gbtree&#x27;, callbacks=None,\n",
       "              colsample_bylevel=1, colsample_bynode=1, colsample_bytree=1,\n",
       "              early_stopping_rounds=None, enable_categorical=False,\n",
       "              eval_metric=None, gamma=0, gpu_id=-1, grow_policy=&#x27;depthwise&#x27;,\n",
       "              importance_type=None, interaction_constraints=&#x27;&#x27;,\n",
       "              learning_rate=0.001, max_bin=256, max_cat_to_onehot=4,\n",
       "              max_delta_step=0, max_depth=3, max_leaves=0, min_child_weight=1,\n",
       "              missing=nan, monotone_constraints=&#x27;()&#x27;, n_estimators=10, n_jobs=0,\n",
       "              num_parallel_tree=1, predictor=&#x27;auto&#x27;, random_state=0,\n",
       "              reg_alpha=0, reg_lambda=1, ...)</pre></div></div></div></div></div>"
      ],
      "text/plain": [
       "XGBClassifier(base_score=0.5, booster='gbtree', callbacks=None,\n",
       "              colsample_bylevel=1, colsample_bynode=1, colsample_bytree=1,\n",
       "              early_stopping_rounds=None, enable_categorical=False,\n",
       "              eval_metric=None, gamma=0, gpu_id=-1, grow_policy='depthwise',\n",
       "              importance_type=None, interaction_constraints='',\n",
       "              learning_rate=0.001, max_bin=256, max_cat_to_onehot=4,\n",
       "              max_delta_step=0, max_depth=3, max_leaves=0, min_child_weight=1,\n",
       "              missing=nan, monotone_constraints='()', n_estimators=10, n_jobs=0,\n",
       "              num_parallel_tree=1, predictor='auto', random_state=0,\n",
       "              reg_alpha=0, reg_lambda=1, ...)"
      ]
     },
     "execution_count": 18,
     "metadata": {},
     "output_type": "execute_result"
    }
   ],
   "source": [
    "from xgboost import XGBClassifier\n",
    "from sklearn.model_selection import RepeatedStratifiedKFold\n",
    "\n",
    "execute_ml(\n",
    "    XGBClassifier(\n",
    "        **{'learning_rate': 0.001, 'max_depth': 3, 'n_estimators': 10, 'subsample': 0.7}\n",
    "    )\n",
    ")"
   ]
  },
  {
   "cell_type": "markdown",
   "id": "a2b8b8db-6d3d-4fb4-be05-fd8e4348298b",
   "metadata": {},
   "source": [
    "### HistGradientBoost classifier"
   ]
  },
  {
   "cell_type": "markdown",
   "id": "7bcd7162-fe43-4f9c-8c2e-3d034f812a37",
   "metadata": {},
   "source": [
    "#### Hyperparameter Tuning"
   ]
  },
  {
   "cell_type": "code",
   "execution_count": 108,
   "id": "02ef71ce-3410-48e1-bc45-04ea102a7d5b",
   "metadata": {},
   "outputs": [
    {
     "name": "stdout",
     "output_type": "stream",
     "text": [
      "Maximum accuracy of 0.831034 was yielded using: {'learning_rate': 0.001, 'max_depth': 3, 'max_iter': 1000}\n",
      "{'learning_rate': 0.001, 'max_depth': 1, 'max_iter': 100} => 0.619704\n",
      "{'learning_rate': 0.001, 'max_depth': 1, 'max_iter': 500} => 0.767488\n",
      "{'learning_rate': 0.001, 'max_depth': 1, 'max_iter': 1000} => 0.803202\n",
      "{'learning_rate': 0.001, 'max_depth': 1, 'max_iter': 1200} => 0.803202\n",
      "{'learning_rate': 0.001, 'max_depth': 1, 'max_iter': 1500} => 0.796305\n",
      "{'learning_rate': 0.001, 'max_depth': 3, 'max_iter': 100} => 0.619704\n",
      "{'learning_rate': 0.001, 'max_depth': 3, 'max_iter': 500} => 0.816749\n",
      "{'learning_rate': 0.001, 'max_depth': 3, 'max_iter': 1000} => 0.831034\n",
      "{'learning_rate': 0.001, 'max_depth': 3, 'max_iter': 1200} => 0.809606\n",
      "{'learning_rate': 0.001, 'max_depth': 3, 'max_iter': 1500} => 0.802463\n",
      "{'learning_rate': 0.001, 'max_depth': 5, 'max_iter': 100} => 0.619704\n",
      "{'learning_rate': 0.001, 'max_depth': 5, 'max_iter': 500} => 0.816749\n",
      "{'learning_rate': 0.001, 'max_depth': 5, 'max_iter': 1000} => 0.831034\n",
      "{'learning_rate': 0.001, 'max_depth': 5, 'max_iter': 1200} => 0.809606\n",
      "{'learning_rate': 0.001, 'max_depth': 5, 'max_iter': 1500} => 0.802463\n",
      "{'learning_rate': 0.001, 'max_depth': 7, 'max_iter': 100} => 0.619704\n",
      "{'learning_rate': 0.001, 'max_depth': 7, 'max_iter': 500} => 0.816749\n",
      "{'learning_rate': 0.001, 'max_depth': 7, 'max_iter': 1000} => 0.831034\n",
      "{'learning_rate': 0.001, 'max_depth': 7, 'max_iter': 1200} => 0.809606\n",
      "{'learning_rate': 0.001, 'max_depth': 7, 'max_iter': 1500} => 0.802463\n",
      "{'learning_rate': 0.001, 'max_depth': 9, 'max_iter': 100} => 0.619704\n",
      "{'learning_rate': 0.001, 'max_depth': 9, 'max_iter': 500} => 0.816749\n",
      "{'learning_rate': 0.001, 'max_depth': 9, 'max_iter': 1000} => 0.831034\n",
      "{'learning_rate': 0.001, 'max_depth': 9, 'max_iter': 1200} => 0.809606\n",
      "{'learning_rate': 0.001, 'max_depth': 9, 'max_iter': 1500} => 0.802463\n",
      "{'learning_rate': 0.01, 'max_depth': 1, 'max_iter': 100} => 0.803202\n",
      "{'learning_rate': 0.01, 'max_depth': 1, 'max_iter': 500} => 0.788424\n",
      "{'learning_rate': 0.01, 'max_depth': 1, 'max_iter': 1000} => 0.795567\n",
      "{'learning_rate': 0.01, 'max_depth': 1, 'max_iter': 1200} => 0.788424\n",
      "{'learning_rate': 0.01, 'max_depth': 1, 'max_iter': 1500} => 0.788424\n",
      "{'learning_rate': 0.01, 'max_depth': 3, 'max_iter': 100} => 0.831034\n",
      "{'learning_rate': 0.01, 'max_depth': 3, 'max_iter': 500} => 0.795567\n",
      "{'learning_rate': 0.01, 'max_depth': 3, 'max_iter': 1000} => 0.774631\n",
      "{'learning_rate': 0.01, 'max_depth': 3, 'max_iter': 1200} => 0.774631\n",
      "{'learning_rate': 0.01, 'max_depth': 3, 'max_iter': 1500} => 0.767734\n",
      "{'learning_rate': 0.01, 'max_depth': 5, 'max_iter': 100} => 0.831034\n",
      "{'learning_rate': 0.01, 'max_depth': 5, 'max_iter': 500} => 0.795567\n",
      "{'learning_rate': 0.01, 'max_depth': 5, 'max_iter': 1000} => 0.774631\n",
      "{'learning_rate': 0.01, 'max_depth': 5, 'max_iter': 1200} => 0.774631\n",
      "{'learning_rate': 0.01, 'max_depth': 5, 'max_iter': 1500} => 0.760591\n",
      "{'learning_rate': 0.01, 'max_depth': 7, 'max_iter': 100} => 0.831034\n",
      "{'learning_rate': 0.01, 'max_depth': 7, 'max_iter': 500} => 0.795567\n",
      "{'learning_rate': 0.01, 'max_depth': 7, 'max_iter': 1000} => 0.774631\n",
      "{'learning_rate': 0.01, 'max_depth': 7, 'max_iter': 1200} => 0.774631\n",
      "{'learning_rate': 0.01, 'max_depth': 7, 'max_iter': 1500} => 0.760591\n",
      "{'learning_rate': 0.01, 'max_depth': 9, 'max_iter': 100} => 0.831034\n",
      "{'learning_rate': 0.01, 'max_depth': 9, 'max_iter': 500} => 0.795567\n",
      "{'learning_rate': 0.01, 'max_depth': 9, 'max_iter': 1000} => 0.774631\n",
      "{'learning_rate': 0.01, 'max_depth': 9, 'max_iter': 1200} => 0.774631\n",
      "{'learning_rate': 0.01, 'max_depth': 9, 'max_iter': 1500} => 0.760591\n",
      "{'learning_rate': 0.1, 'max_depth': 1, 'max_iter': 100} => 0.795567\n",
      "{'learning_rate': 0.1, 'max_depth': 1, 'max_iter': 500} => 0.760099\n",
      "{'learning_rate': 0.1, 'max_depth': 1, 'max_iter': 1000} => 0.753202\n",
      "{'learning_rate': 0.1, 'max_depth': 1, 'max_iter': 1200} => 0.739409\n",
      "{'learning_rate': 0.1, 'max_depth': 1, 'max_iter': 1500} => 0.739409\n",
      "{'learning_rate': 0.1, 'max_depth': 3, 'max_iter': 100} => 0.774631\n",
      "{'learning_rate': 0.1, 'max_depth': 3, 'max_iter': 500} => 0.767734\n",
      "{'learning_rate': 0.1, 'max_depth': 3, 'max_iter': 1000} => 0.753695\n",
      "{'learning_rate': 0.1, 'max_depth': 3, 'max_iter': 1200} => 0.753448\n",
      "{'learning_rate': 0.1, 'max_depth': 3, 'max_iter': 1500} => 0.767734\n",
      "{'learning_rate': 0.1, 'max_depth': 5, 'max_iter': 100} => 0.753448\n",
      "{'learning_rate': 0.1, 'max_depth': 5, 'max_iter': 500} => 0.753695\n",
      "{'learning_rate': 0.1, 'max_depth': 5, 'max_iter': 1000} => 0.746552\n",
      "{'learning_rate': 0.1, 'max_depth': 5, 'max_iter': 1200} => 0.746552\n",
      "{'learning_rate': 0.1, 'max_depth': 5, 'max_iter': 1500} => 0.739655\n",
      "{'learning_rate': 0.1, 'max_depth': 7, 'max_iter': 100} => 0.753448\n",
      "{'learning_rate': 0.1, 'max_depth': 7, 'max_iter': 500} => 0.753695\n",
      "{'learning_rate': 0.1, 'max_depth': 7, 'max_iter': 1000} => 0.746552\n",
      "{'learning_rate': 0.1, 'max_depth': 7, 'max_iter': 1200} => 0.746552\n",
      "{'learning_rate': 0.1, 'max_depth': 7, 'max_iter': 1500} => 0.739655\n",
      "{'learning_rate': 0.1, 'max_depth': 9, 'max_iter': 100} => 0.753448\n",
      "{'learning_rate': 0.1, 'max_depth': 9, 'max_iter': 500} => 0.753695\n",
      "{'learning_rate': 0.1, 'max_depth': 9, 'max_iter': 1000} => 0.746552\n",
      "{'learning_rate': 0.1, 'max_depth': 9, 'max_iter': 1200} => 0.746552\n",
      "{'learning_rate': 0.1, 'max_depth': 9, 'max_iter': 1500} => 0.739655\n",
      "{'learning_rate': 1, 'max_depth': 1, 'max_iter': 100} => 0.739409\n",
      "{'learning_rate': 1, 'max_depth': 1, 'max_iter': 500} => 0.710837\n",
      "{'learning_rate': 1, 'max_depth': 1, 'max_iter': 1000} => 0.703941\n",
      "{'learning_rate': 1, 'max_depth': 1, 'max_iter': 1200} => 0.669212\n",
      "{'learning_rate': 1, 'max_depth': 1, 'max_iter': 1500} => 0.662069\n",
      "{'learning_rate': 1, 'max_depth': 3, 'max_iter': 100} => 0.760837\n",
      "{'learning_rate': 1, 'max_depth': 3, 'max_iter': 500} => 0.718227\n",
      "{'learning_rate': 1, 'max_depth': 3, 'max_iter': 1000} => 0.718227\n",
      "{'learning_rate': 1, 'max_depth': 3, 'max_iter': 1200} => 0.725369\n",
      "{'learning_rate': 1, 'max_depth': 3, 'max_iter': 1500} => 0.725369\n",
      "{'learning_rate': 1, 'max_depth': 5, 'max_iter': 100} => 0.753202\n",
      "{'learning_rate': 1, 'max_depth': 5, 'max_iter': 500} => 0.746305\n",
      "{'learning_rate': 1, 'max_depth': 5, 'max_iter': 1000} => 0.746305\n",
      "{'learning_rate': 1, 'max_depth': 5, 'max_iter': 1200} => 0.746305\n",
      "{'learning_rate': 1, 'max_depth': 5, 'max_iter': 1500} => 0.746305\n",
      "{'learning_rate': 1, 'max_depth': 7, 'max_iter': 100} => 0.753202\n",
      "{'learning_rate': 1, 'max_depth': 7, 'max_iter': 500} => 0.746305\n",
      "{'learning_rate': 1, 'max_depth': 7, 'max_iter': 1000} => 0.746305\n",
      "{'learning_rate': 1, 'max_depth': 7, 'max_iter': 1200} => 0.746305\n",
      "{'learning_rate': 1, 'max_depth': 7, 'max_iter': 1500} => 0.746305\n",
      "{'learning_rate': 1, 'max_depth': 9, 'max_iter': 100} => 0.753202\n",
      "{'learning_rate': 1, 'max_depth': 9, 'max_iter': 500} => 0.746305\n",
      "{'learning_rate': 1, 'max_depth': 9, 'max_iter': 1000} => 0.746305\n",
      "{'learning_rate': 1, 'max_depth': 9, 'max_iter': 1200} => 0.746305\n",
      "{'learning_rate': 1, 'max_depth': 9, 'max_iter': 1500} => 0.746305\n"
     ]
    }
   ],
   "source": [
    "from sklearn.ensemble import HistGradientBoostingClassifier\n",
    "\n",
    "hyper_params = {}\n",
    "hyper_params['max_iter'] = [100, 500, 1000, 1200, 1500]\n",
    "hyper_params['learning_rate'] = [0.001, 0.01, 0.1, 1]\n",
    "hyper_params['max_depth'] = [1, 3, 5, 7, 9]\n",
    "\n",
    "grid_search(HistGradientBoostingClassifier(), hyper_params) "
   ]
  },
  {
   "cell_type": "markdown",
   "id": "01806c80-0626-4ac5-8aa2-0bae38197d51",
   "metadata": {},
   "source": [
    "#### Train and test"
   ]
  },
  {
   "cell_type": "code",
   "execution_count": 109,
   "id": "8d0b2866-5d0c-4ffc-a4b8-ecbc046c17db",
   "metadata": {},
   "outputs": [
    {
     "name": "stdout",
     "output_type": "stream",
     "text": [
      "              precision    recall  f1-score   support\n",
      "\n",
      "           0       0.77      0.94      0.84       110\n",
      "           1       0.84      0.55      0.67        69\n",
      "\n",
      "    accuracy                           0.79       179\n",
      "   macro avg       0.81      0.74      0.76       179\n",
      "weighted avg       0.80      0.79      0.78       179\n",
      "\n"
     ]
    },
    {
     "data": {
      "image/png": "[encoded data removed]",
      "text/plain": [
       "<Figure size 640x480 with 2 Axes>"
      ]
     },
     "metadata": {},
     "output_type": "display_data"
    },
    {
     "data": {
      "text/html": [
       "<style>#sk-container-id-7 {color: black;background-color: white;}#sk-container-id-7 pre{padding: 0;}#sk-container-id-7 div.sk-toggleable {background-color: white;}#sk-container-id-7 label.sk-toggleable__label {cursor: pointer;display: block;width: 100%;margin-bottom: 0;padding: 0.3em;box-sizing: border-box;text-align: center;}#sk-container-id-7 label.sk-toggleable__label-arrow:before {content: \"▸\";float: left;margin-right: 0.25em;color: #696969;}#sk-container-id-7 label.sk-toggleable__label-arrow:hover:before {color: black;}#sk-container-id-7 div.sk-estimator:hover label.sk-toggleable__label-arrow:before {color: black;}#sk-container-id-7 div.sk-toggleable__content {max-height: 0;max-width: 0;overflow: hidden;text-align: left;background-color: #f0f8ff;}#sk-container-id-7 div.sk-toggleable__content pre {margin: 0.2em;color: black;border-radius: 0.25em;background-color: #f0f8ff;}#sk-container-id-7 input.sk-toggleable__control:checked~div.sk-toggleable__content {max-height: 200px;max-width: 100%;overflow: auto;}#sk-container-id-7 input.sk-toggleable__control:checked~label.sk-toggleable__label-arrow:before {content: \"▾\";}#sk-container-id-7 div.sk-estimator input.sk-toggleable__control:checked~label.sk-toggleable__label {background-color: #d4ebff;}#sk-container-id-7 div.sk-label input.sk-toggleable__control:checked~label.sk-toggleable__label {background-color: #d4ebff;}#sk-container-id-7 input.sk-hidden--visually {border: 0;clip: rect(1px 1px 1px 1px);clip: rect(1px, 1px, 1px, 1px);height: 1px;margin: -1px;overflow: hidden;padding: 0;position: absolute;width: 1px;}#sk-container-id-7 div.sk-estimator {font-family: monospace;background-color: #f0f8ff;border: 1px dotted black;border-radius: 0.25em;box-sizing: border-box;margin-bottom: 0.5em;}#sk-container-id-7 div.sk-estimator:hover {background-color: #d4ebff;}#sk-container-id-7 div.sk-parallel-item::after {content: \"\";width: 100%;border-bottom: 1px solid gray;flex-grow: 1;}#sk-container-id-7 div.sk-label:hover label.sk-toggleable__label {background-color: #d4ebff;}#sk-container-id-7 div.sk-serial::before {content: \"\";position: absolute;border-left: 1px solid gray;box-sizing: border-box;top: 0;bottom: 0;left: 50%;z-index: 0;}#sk-container-id-7 div.sk-serial {display: flex;flex-direction: column;align-items: center;background-color: white;padding-right: 0.2em;padding-left: 0.2em;position: relative;}#sk-container-id-7 div.sk-item {position: relative;z-index: 1;}#sk-container-id-7 div.sk-parallel {display: flex;align-items: stretch;justify-content: center;background-color: white;position: relative;}#sk-container-id-7 div.sk-item::before, #sk-container-id-7 div.sk-parallel-item::before {content: \"\";position: absolute;border-left: 1px solid gray;box-sizing: border-box;top: 0;bottom: 0;left: 50%;z-index: -1;}#sk-container-id-7 div.sk-parallel-item {display: flex;flex-direction: column;z-index: 1;position: relative;background-color: white;}#sk-container-id-7 div.sk-parallel-item:first-child::after {align-self: flex-end;width: 50%;}#sk-container-id-7 div.sk-parallel-item:last-child::after {align-self: flex-start;width: 50%;}#sk-container-id-7 div.sk-parallel-item:only-child::after {width: 0;}#sk-container-id-7 div.sk-dashed-wrapped {border: 1px dashed gray;margin: 0 0.4em 0.5em 0.4em;box-sizing: border-box;padding-bottom: 0.4em;background-color: white;}#sk-container-id-7 div.sk-label label {font-family: monospace;font-weight: bold;display: inline-block;line-height: 1.2em;}#sk-container-id-7 div.sk-label-container {text-align: center;}#sk-container-id-7 div.sk-container {/* jupyter's `normalize.less` sets `[hidden] { display: none; }` but bootstrap.min.css set `[hidden] { display: none !important; }` so we also need the `!important` here to be able to override the default hidden behavior on the sphinx rendered scikit-learn.org. See: https://github.com/scikit-learn/scikit-learn/issues/21755 */display: inline-block !important;position: relative;}#sk-container-id-7 div.sk-text-repr-fallback {display: none;}</style><div id=\"sk-container-id-7\" class=\"sk-top-container\"><div class=\"sk-text-repr-fallback\"><pre>HistGradientBoostingClassifier(learning_rate=0.001, max_depth=3, max_iter=1000)</pre><b>In a Jupyter environment, please rerun this cell to show the HTML representation or trust the notebook. <br />On GitHub, the HTML representation is unable to render, please try loading this page with nbviewer.org.</b></div><div class=\"sk-container\" hidden><div class=\"sk-item\"><div class=\"sk-estimator sk-toggleable\"><input class=\"sk-toggleable__control sk-hidden--visually\" id=\"sk-estimator-id-7\" type=\"checkbox\" checked><label for=\"sk-estimator-id-7\" class=\"sk-toggleable__label sk-toggleable__label-arrow\">HistGradientBoostingClassifier</label><div class=\"sk-toggleable__content\"><pre>HistGradientBoostingClassifier(learning_rate=0.001, max_depth=3, max_iter=1000)</pre></div></div></div></div></div>"
      ],
      "text/plain": [
       "HistGradientBoostingClassifier(learning_rate=0.001, max_depth=3, max_iter=1000)"
      ]
     },
     "execution_count": 109,
     "metadata": {},
     "output_type": "execute_result"
    }
   ],
   "source": [
    "from sklearn.ensemble import HistGradientBoostingClassifier\n",
    "\n",
    "execute_ml(\n",
    "    HistGradientBoostingClassifier(\n",
    "        **{'learning_rate': 0.001, 'max_depth': 3, 'max_iter': 1000}\n",
    "    )\n",
    ")"
   ]
  },
  {
   "cell_type": "markdown",
   "id": "9dee53d5-da8e-44b9-8401-b2a4d16f60c4",
   "metadata": {},
   "source": [
    "### LightGBM classifier"
   ]
  },
  {
   "cell_type": "markdown",
   "id": "128d0789-b0df-40da-a6d0-cb31905ebf55",
   "metadata": {},
   "source": [
    "#### Hyperparameter Tuning"
   ]
  },
  {
   "cell_type": "code",
   "execution_count": 110,
   "id": "63417b13-e79d-48ec-9fdd-078eeb5aab72",
   "metadata": {},
   "outputs": [
    {
     "name": "stdout",
     "output_type": "stream",
     "text": [
      "Maximum accuracy of 0.823892 was yielded using: {'boosting_type': 'gbdt', 'learning_rate': 0.001, 'n_estimators': 500}\n",
      "{'boosting_type': 'gbdt', 'learning_rate': 0.001, 'n_estimators': 100} => 0.619704\n",
      "{'boosting_type': 'gbdt', 'learning_rate': 0.001, 'n_estimators': 500} => 0.823892\n",
      "{'boosting_type': 'gbdt', 'learning_rate': 0.001, 'n_estimators': 1000} => 0.816995\n",
      "{'boosting_type': 'gbdt', 'learning_rate': 0.001, 'n_estimators': 1200} => 0.816995\n",
      "{'boosting_type': 'gbdt', 'learning_rate': 0.001, 'n_estimators': 1500} => 0.809852\n",
      "{'boosting_type': 'gbdt', 'learning_rate': 0.01, 'n_estimators': 100} => 0.816995\n",
      "{'boosting_type': 'gbdt', 'learning_rate': 0.01, 'n_estimators': 500} => 0.774631\n",
      "{'boosting_type': 'gbdt', 'learning_rate': 0.01, 'n_estimators': 1000} => 0.767734\n",
      "{'boosting_type': 'gbdt', 'learning_rate': 0.01, 'n_estimators': 1200} => 0.767734\n",
      "{'boosting_type': 'gbdt', 'learning_rate': 0.01, 'n_estimators': 1500} => 0.767734\n",
      "{'boosting_type': 'gbdt', 'learning_rate': 0.1, 'n_estimators': 100} => 0.767734\n",
      "{'boosting_type': 'gbdt', 'learning_rate': 0.1, 'n_estimators': 500} => 0.739163\n",
      "{'boosting_type': 'gbdt', 'learning_rate': 0.1, 'n_estimators': 1000} => 0.732020\n",
      "{'boosting_type': 'gbdt', 'learning_rate': 0.1, 'n_estimators': 1200} => 0.732020\n",
      "{'boosting_type': 'gbdt', 'learning_rate': 0.1, 'n_estimators': 1500} => 0.739163\n",
      "{'boosting_type': 'gbdt', 'learning_rate': 1, 'n_estimators': 100} => 0.718227\n",
      "{'boosting_type': 'gbdt', 'learning_rate': 1, 'n_estimators': 500} => 0.732266\n",
      "{'boosting_type': 'gbdt', 'learning_rate': 1, 'n_estimators': 1000} => 0.725123\n",
      "{'boosting_type': 'gbdt', 'learning_rate': 1, 'n_estimators': 1200} => 0.732266\n",
      "{'boosting_type': 'gbdt', 'learning_rate': 1, 'n_estimators': 1500} => 0.732266\n",
      "{'boosting_type': 'dart', 'learning_rate': 0.001, 'n_estimators': 100} => 0.619704\n",
      "{'boosting_type': 'dart', 'learning_rate': 0.001, 'n_estimators': 500} => 0.816749\n",
      "{'boosting_type': 'dart', 'learning_rate': 0.001, 'n_estimators': 1000} => 0.816749\n",
      "{'boosting_type': 'dart', 'learning_rate': 0.001, 'n_estimators': 1200} => 0.816749\n",
      "{'boosting_type': 'dart', 'learning_rate': 0.001, 'n_estimators': 1500} => 0.816749\n",
      "{'boosting_type': 'dart', 'learning_rate': 0.01, 'n_estimators': 100} => 0.816749\n",
      "{'boosting_type': 'dart', 'learning_rate': 0.01, 'n_estimators': 500} => 0.782020\n",
      "{'boosting_type': 'dart', 'learning_rate': 0.01, 'n_estimators': 1000} => 0.781527\n",
      "{'boosting_type': 'dart', 'learning_rate': 0.01, 'n_estimators': 1200} => 0.774631\n",
      "{'boosting_type': 'dart', 'learning_rate': 0.01, 'n_estimators': 1500} => 0.767734\n",
      "{'boosting_type': 'dart', 'learning_rate': 0.1, 'n_estimators': 100} => 0.767734\n",
      "{'boosting_type': 'dart', 'learning_rate': 0.1, 'n_estimators': 500} => 0.739409\n",
      "{'boosting_type': 'dart', 'learning_rate': 0.1, 'n_estimators': 1000} => 0.704187\n",
      "{'boosting_type': 'dart', 'learning_rate': 0.1, 'n_estimators': 1200} => 0.711084\n",
      "{'boosting_type': 'dart', 'learning_rate': 0.1, 'n_estimators': 1500} => 0.724877\n",
      "{'boosting_type': 'dart', 'learning_rate': 1, 'n_estimators': 100} => 0.760591\n",
      "{'boosting_type': 'dart', 'learning_rate': 1, 'n_estimators': 500} => 0.725123\n",
      "{'boosting_type': 'dart', 'learning_rate': 1, 'n_estimators': 1000} => 0.760591\n",
      "{'boosting_type': 'dart', 'learning_rate': 1, 'n_estimators': 1200} => 0.746305\n",
      "{'boosting_type': 'dart', 'learning_rate': 1, 'n_estimators': 1500} => 0.753448\n"
     ]
    }
   ],
   "source": [
    "from lightgbm import LGBMClassifier\n",
    "\n",
    "hyper_params = {}\n",
    "hyper_params['n_estimators'] = [100, 500, 1000, 1200, 1500]\n",
    "hyper_params['learning_rate'] = [0.001, 0.01, 0.1, 1]\n",
    "hyper_params['boosting_type'] = ['gbdt', 'dart']\n",
    "\n",
    "grid_search(LGBMClassifier(), hyper_params) "
   ]
  },
  {
   "cell_type": "markdown",
   "id": "2d9bd6e5-c779-405c-83fc-d427d8ee2048",
   "metadata": {},
   "source": [
    "#### Train and test"
   ]
  },
  {
   "cell_type": "code",
   "execution_count": 111,
   "id": "5fd0f05d-6e3f-4750-b52b-573ed73d0355",
   "metadata": {},
   "outputs": [
    {
     "name": "stdout",
     "output_type": "stream",
     "text": [
      "              precision    recall  f1-score   support\n",
      "\n",
      "           0       0.75      0.96      0.84       110\n",
      "           1       0.89      0.49      0.64        69\n",
      "\n",
      "    accuracy                           0.78       179\n",
      "   macro avg       0.82      0.73      0.74       179\n",
      "weighted avg       0.81      0.78      0.76       179\n",
      "\n"
     ]
    },
    {
     "data": {
      "image/png": "[encoded data removed]",
      "text/plain": [
       "<Figure size 640x480 with 2 Axes>"
      ]
     },
     "metadata": {},
     "output_type": "display_data"
    },
    {
     "data": {
      "text/html": [
       "<style>#sk-container-id-8 {color: black;background-color: white;}#sk-container-id-8 pre{padding: 0;}#sk-container-id-8 div.sk-toggleable {background-color: white;}#sk-container-id-8 label.sk-toggleable__label {cursor: pointer;display: block;width: 100%;margin-bottom: 0;padding: 0.3em;box-sizing: border-box;text-align: center;}#sk-container-id-8 label.sk-toggleable__label-arrow:before {content: \"▸\";float: left;margin-right: 0.25em;color: #696969;}#sk-container-id-8 label.sk-toggleable__label-arrow:hover:before {color: black;}#sk-container-id-8 div.sk-estimator:hover label.sk-toggleable__label-arrow:before {color: black;}#sk-container-id-8 div.sk-toggleable__content {max-height: 0;max-width: 0;overflow: hidden;text-align: left;background-color: #f0f8ff;}#sk-container-id-8 div.sk-toggleable__content pre {margin: 0.2em;color: black;border-radius: 0.25em;background-color: #f0f8ff;}#sk-container-id-8 input.sk-toggleable__control:checked~div.sk-toggleable__content {max-height: 200px;max-width: 100%;overflow: auto;}#sk-container-id-8 input.sk-toggleable__control:checked~label.sk-toggleable__label-arrow:before {content: \"▾\";}#sk-container-id-8 div.sk-estimator input.sk-toggleable__control:checked~label.sk-toggleable__label {background-color: #d4ebff;}#sk-container-id-8 div.sk-label input.sk-toggleable__control:checked~label.sk-toggleable__label {background-color: #d4ebff;}#sk-container-id-8 input.sk-hidden--visually {border: 0;clip: rect(1px 1px 1px 1px);clip: rect(1px, 1px, 1px, 1px);height: 1px;margin: -1px;overflow: hidden;padding: 0;position: absolute;width: 1px;}#sk-container-id-8 div.sk-estimator {font-family: monospace;background-color: #f0f8ff;border: 1px dotted black;border-radius: 0.25em;box-sizing: border-box;margin-bottom: 0.5em;}#sk-container-id-8 div.sk-estimator:hover {background-color: #d4ebff;}#sk-container-id-8 div.sk-parallel-item::after {content: \"\";width: 100%;border-bottom: 1px solid gray;flex-grow: 1;}#sk-container-id-8 div.sk-label:hover label.sk-toggleable__label {background-color: #d4ebff;}#sk-container-id-8 div.sk-serial::before {content: \"\";position: absolute;border-left: 1px solid gray;box-sizing: border-box;top: 0;bottom: 0;left: 50%;z-index: 0;}#sk-container-id-8 div.sk-serial {display: flex;flex-direction: column;align-items: center;background-color: white;padding-right: 0.2em;padding-left: 0.2em;position: relative;}#sk-container-id-8 div.sk-item {position: relative;z-index: 1;}#sk-container-id-8 div.sk-parallel {display: flex;align-items: stretch;justify-content: center;background-color: white;position: relative;}#sk-container-id-8 div.sk-item::before, #sk-container-id-8 div.sk-parallel-item::before {content: \"\";position: absolute;border-left: 1px solid gray;box-sizing: border-box;top: 0;bottom: 0;left: 50%;z-index: -1;}#sk-container-id-8 div.sk-parallel-item {display: flex;flex-direction: column;z-index: 1;position: relative;background-color: white;}#sk-container-id-8 div.sk-parallel-item:first-child::after {align-self: flex-end;width: 50%;}#sk-container-id-8 div.sk-parallel-item:last-child::after {align-self: flex-start;width: 50%;}#sk-container-id-8 div.sk-parallel-item:only-child::after {width: 0;}#sk-container-id-8 div.sk-dashed-wrapped {border: 1px dashed gray;margin: 0 0.4em 0.5em 0.4em;box-sizing: border-box;padding-bottom: 0.4em;background-color: white;}#sk-container-id-8 div.sk-label label {font-family: monospace;font-weight: bold;display: inline-block;line-height: 1.2em;}#sk-container-id-8 div.sk-label-container {text-align: center;}#sk-container-id-8 div.sk-container {/* jupyter's `normalize.less` sets `[hidden] { display: none; }` but bootstrap.min.css set `[hidden] { display: none !important; }` so we also need the `!important` here to be able to override the default hidden behavior on the sphinx rendered scikit-learn.org. See: https://github.com/scikit-learn/scikit-learn/issues/21755 */display: inline-block !important;position: relative;}#sk-container-id-8 div.sk-text-repr-fallback {display: none;}</style><div id=\"sk-container-id-8\" class=\"sk-top-container\"><div class=\"sk-text-repr-fallback\"><pre>LGBMClassifier(learning_rate=0.001, n_estimators=500)</pre><b>In a Jupyter environment, please rerun this cell to show the HTML representation or trust the notebook. <br />On GitHub, the HTML representation is unable to render, please try loading this page with nbviewer.org.</b></div><div class=\"sk-container\" hidden><div class=\"sk-item\"><div class=\"sk-estimator sk-toggleable\"><input class=\"sk-toggleable__control sk-hidden--visually\" id=\"sk-estimator-id-8\" type=\"checkbox\" checked><label for=\"sk-estimator-id-8\" class=\"sk-toggleable__label sk-toggleable__label-arrow\">LGBMClassifier</label><div class=\"sk-toggleable__content\"><pre>LGBMClassifier(learning_rate=0.001, n_estimators=500)</pre></div></div></div></div></div>"
      ],
      "text/plain": [
       "LGBMClassifier(learning_rate=0.001, n_estimators=500)"
      ]
     },
     "execution_count": 111,
     "metadata": {},
     "output_type": "execute_result"
    }
   ],
   "source": [
    "from lightgbm import LGBMClassifier\n",
    "\n",
    "execute_ml(\n",
    "    LGBMClassifier(\n",
    "        **{'boosting_type': 'gbdt', 'learning_rate': 0.001, 'n_estimators': 500}\n",
    "    )\n",
    ")"
   ]
  },
  {
   "cell_type": "markdown",
   "id": "bf24e85b",
   "metadata": {
    "papermill": {
     "duration": 0.0169,
     "end_time": "2022-10-03T18:31:00.008952",
     "exception": false,
     "start_time": "2022-10-03T18:30:59.992052",
     "status": "completed"
    },
    "tags": []
   },
   "source": [
    "### Support Vector Machine classifier"
   ]
  },
  {
   "cell_type": "markdown",
   "id": "5ac57c93-8b79-41ea-a56f-734e481d5a51",
   "metadata": {},
   "source": [
    "#### Hyperparameter Tuning"
   ]
  },
  {
   "cell_type": "code",
   "execution_count": 121,
   "id": "e7bbb643-f7a4-459d-8fc2-b7cf4d48cee9",
   "metadata": {},
   "outputs": [
    {
     "name": "stdout",
     "output_type": "stream",
     "text": [
      "Maximum accuracy of 0.633744 was yielded using: {'C': 1, 'gamma': 0.1, 'kernel': 'rbf'}\n",
      "{'C': 0.01, 'gamma': 0.001, 'kernel': 'sigmoid'} => 0.619704\n",
      "{'C': 0.01, 'gamma': 0.001, 'kernel': 'rbf'} => 0.619704\n",
      "{'C': 0.01, 'gamma': 0.01, 'kernel': 'sigmoid'} => 0.619704\n",
      "{'C': 0.01, 'gamma': 0.01, 'kernel': 'rbf'} => 0.619704\n",
      "{'C': 0.01, 'gamma': 0.1, 'kernel': 'sigmoid'} => 0.619704\n",
      "{'C': 0.01, 'gamma': 0.1, 'kernel': 'rbf'} => 0.619704\n",
      "{'C': 0.01, 'gamma': 1, 'kernel': 'sigmoid'} => 0.619704\n",
      "{'C': 0.01, 'gamma': 1, 'kernel': 'rbf'} => 0.619704\n",
      "{'C': 0.1, 'gamma': 0.001, 'kernel': 'sigmoid'} => 0.619704\n",
      "{'C': 0.1, 'gamma': 0.001, 'kernel': 'rbf'} => 0.619704\n",
      "{'C': 0.1, 'gamma': 0.01, 'kernel': 'sigmoid'} => 0.619704\n",
      "{'C': 0.1, 'gamma': 0.01, 'kernel': 'rbf'} => 0.619704\n",
      "{'C': 0.1, 'gamma': 0.1, 'kernel': 'sigmoid'} => 0.619704\n",
      "{'C': 0.1, 'gamma': 0.1, 'kernel': 'rbf'} => 0.619704\n",
      "{'C': 0.1, 'gamma': 1, 'kernel': 'sigmoid'} => 0.619704\n",
      "{'C': 0.1, 'gamma': 1, 'kernel': 'rbf'} => 0.619704\n",
      "{'C': 1, 'gamma': 0.001, 'kernel': 'sigmoid'} => 0.612562\n",
      "{'C': 1, 'gamma': 0.001, 'kernel': 'rbf'} => 0.598768\n",
      "{'C': 1, 'gamma': 0.01, 'kernel': 'sigmoid'} => 0.619704\n",
      "{'C': 1, 'gamma': 0.01, 'kernel': 'rbf'} => 0.619458\n",
      "{'C': 1, 'gamma': 0.1, 'kernel': 'sigmoid'} => 0.619704\n",
      "{'C': 1, 'gamma': 0.1, 'kernel': 'rbf'} => 0.633744\n",
      "{'C': 1, 'gamma': 1, 'kernel': 'sigmoid'} => 0.619704\n",
      "{'C': 1, 'gamma': 1, 'kernel': 'rbf'} => 0.619704\n",
      "{'C': 10, 'gamma': 0.001, 'kernel': 'sigmoid'} => 0.598768\n",
      "{'C': 10, 'gamma': 0.001, 'kernel': 'rbf'} => 0.529310\n",
      "{'C': 10, 'gamma': 0.01, 'kernel': 'sigmoid'} => 0.619704\n",
      "{'C': 10, 'gamma': 0.01, 'kernel': 'rbf'} => 0.591872\n",
      "{'C': 10, 'gamma': 0.1, 'kernel': 'sigmoid'} => 0.619704\n",
      "{'C': 10, 'gamma': 0.1, 'kernel': 'rbf'} => 0.633744\n",
      "{'C': 10, 'gamma': 1, 'kernel': 'sigmoid'} => 0.619704\n",
      "{'C': 10, 'gamma': 1, 'kernel': 'rbf'} => 0.633744\n",
      "{'C': 100, 'gamma': 0.001, 'kernel': 'sigmoid'} => 0.543350\n",
      "{'C': 100, 'gamma': 0.001, 'kernel': 'rbf'} => 0.562808\n",
      "{'C': 100, 'gamma': 0.01, 'kernel': 'sigmoid'} => 0.619704\n",
      "{'C': 100, 'gamma': 0.01, 'kernel': 'rbf'} => 0.591872\n",
      "{'C': 100, 'gamma': 0.1, 'kernel': 'sigmoid'} => 0.619704\n",
      "{'C': 100, 'gamma': 0.1, 'kernel': 'rbf'} => 0.633744\n",
      "{'C': 100, 'gamma': 1, 'kernel': 'sigmoid'} => 0.619704\n",
      "{'C': 100, 'gamma': 1, 'kernel': 'rbf'} => 0.633744\n"
     ]
    }
   ],
   "source": [
    "from sklearn import svm\n",
    "\n",
    "hyper_params = {}\n",
    "hyper_params['C'] = [.01, .1, 1, 10, 100]\n",
    "hyper_params['gamma'] = [.001, .01, .1, 1]\n",
    "hyper_params['kernel'] = ['sigmoid', 'rbf']\n",
    "    \n",
    "grid_search(svm.SVC(), hyper_params) "
   ]
  },
  {
   "cell_type": "markdown",
   "id": "0aca410e-1bc3-4d1e-821e-e465a6c4458e",
   "metadata": {},
   "source": [
    "#### Train and test"
   ]
  },
  {
   "cell_type": "code",
   "execution_count": 122,
   "id": "2e6306cc",
   "metadata": {
    "papermill": {
     "duration": 0.752978,
     "end_time": "2022-10-03T18:31:00.778798",
     "exception": false,
     "start_time": "2022-10-03T18:31:00.025820",
     "status": "completed"
    },
    "tags": []
   },
   "outputs": [
    {
     "name": "stdout",
     "output_type": "stream",
     "text": [
      "              precision    recall  f1-score   support\n",
      "\n",
      "           0       0.61      0.98      0.75       110\n",
      "           1       0.00      0.00      0.00        69\n",
      "\n",
      "    accuracy                           0.60       179\n",
      "   macro avg       0.31      0.49      0.38       179\n",
      "weighted avg       0.37      0.60      0.46       179\n",
      "\n"
     ]
    },
    {
     "data": {
      "image/png": "[encoded data removed]",
      "text/plain": [
       "<Figure size 640x480 with 2 Axes>"
      ]
     },
     "metadata": {},
     "output_type": "display_data"
    },
    {
     "data": {
      "text/html": [
       "<style>#sk-container-id-10 {color: black;background-color: white;}#sk-container-id-10 pre{padding: 0;}#sk-container-id-10 div.sk-toggleable {background-color: white;}#sk-container-id-10 label.sk-toggleable__label {cursor: pointer;display: block;width: 100%;margin-bottom: 0;padding: 0.3em;box-sizing: border-box;text-align: center;}#sk-container-id-10 label.sk-toggleable__label-arrow:before {content: \"▸\";float: left;margin-right: 0.25em;color: #696969;}#sk-container-id-10 label.sk-toggleable__label-arrow:hover:before {color: black;}#sk-container-id-10 div.sk-estimator:hover label.sk-toggleable__label-arrow:before {color: black;}#sk-container-id-10 div.sk-toggleable__content {max-height: 0;max-width: 0;overflow: hidden;text-align: left;background-color: #f0f8ff;}#sk-container-id-10 div.sk-toggleable__content pre {margin: 0.2em;color: black;border-radius: 0.25em;background-color: #f0f8ff;}#sk-container-id-10 input.sk-toggleable__control:checked~div.sk-toggleable__content {max-height: 200px;max-width: 100%;overflow: auto;}#sk-container-id-10 input.sk-toggleable__control:checked~label.sk-toggleable__label-arrow:before {content: \"▾\";}#sk-container-id-10 div.sk-estimator input.sk-toggleable__control:checked~label.sk-toggleable__label {background-color: #d4ebff;}#sk-container-id-10 div.sk-label input.sk-toggleable__control:checked~label.sk-toggleable__label {background-color: #d4ebff;}#sk-container-id-10 input.sk-hidden--visually {border: 0;clip: rect(1px 1px 1px 1px);clip: rect(1px, 1px, 1px, 1px);height: 1px;margin: -1px;overflow: hidden;padding: 0;position: absolute;width: 1px;}#sk-container-id-10 div.sk-estimator {font-family: monospace;background-color: #f0f8ff;border: 1px dotted black;border-radius: 0.25em;box-sizing: border-box;margin-bottom: 0.5em;}#sk-container-id-10 div.sk-estimator:hover {background-color: #d4ebff;}#sk-container-id-10 div.sk-parallel-item::after {content: \"\";width: 100%;border-bottom: 1px solid gray;flex-grow: 1;}#sk-container-id-10 div.sk-label:hover label.sk-toggleable__label {background-color: #d4ebff;}#sk-container-id-10 div.sk-serial::before {content: \"\";position: absolute;border-left: 1px solid gray;box-sizing: border-box;top: 0;bottom: 0;left: 50%;z-index: 0;}#sk-container-id-10 div.sk-serial {display: flex;flex-direction: column;align-items: center;background-color: white;padding-right: 0.2em;padding-left: 0.2em;position: relative;}#sk-container-id-10 div.sk-item {position: relative;z-index: 1;}#sk-container-id-10 div.sk-parallel {display: flex;align-items: stretch;justify-content: center;background-color: white;position: relative;}#sk-container-id-10 div.sk-item::before, #sk-container-id-10 div.sk-parallel-item::before {content: \"\";position: absolute;border-left: 1px solid gray;box-sizing: border-box;top: 0;bottom: 0;left: 50%;z-index: -1;}#sk-container-id-10 div.sk-parallel-item {display: flex;flex-direction: column;z-index: 1;position: relative;background-color: white;}#sk-container-id-10 div.sk-parallel-item:first-child::after {align-self: flex-end;width: 50%;}#sk-container-id-10 div.sk-parallel-item:last-child::after {align-self: flex-start;width: 50%;}#sk-container-id-10 div.sk-parallel-item:only-child::after {width: 0;}#sk-container-id-10 div.sk-dashed-wrapped {border: 1px dashed gray;margin: 0 0.4em 0.5em 0.4em;box-sizing: border-box;padding-bottom: 0.4em;background-color: white;}#sk-container-id-10 div.sk-label label {font-family: monospace;font-weight: bold;display: inline-block;line-height: 1.2em;}#sk-container-id-10 div.sk-label-container {text-align: center;}#sk-container-id-10 div.sk-container {/* jupyter's `normalize.less` sets `[hidden] { display: none; }` but bootstrap.min.css set `[hidden] { display: none !important; }` so we also need the `!important` here to be able to override the default hidden behavior on the sphinx rendered scikit-learn.org. See: https://github.com/scikit-learn/scikit-learn/issues/21755 */display: inline-block !important;position: relative;}#sk-container-id-10 div.sk-text-repr-fallback {display: none;}</style><div id=\"sk-container-id-10\" class=\"sk-top-container\"><div class=\"sk-text-repr-fallback\"><pre>SVC(C=1, gamma=0.1)</pre><b>In a Jupyter environment, please rerun this cell to show the HTML representation or trust the notebook. <br />On GitHub, the HTML representation is unable to render, please try loading this page with nbviewer.org.</b></div><div class=\"sk-container\" hidden><div class=\"sk-item\"><div class=\"sk-estimator sk-toggleable\"><input class=\"sk-toggleable__control sk-hidden--visually\" id=\"sk-estimator-id-10\" type=\"checkbox\" checked><label for=\"sk-estimator-id-10\" class=\"sk-toggleable__label sk-toggleable__label-arrow\">SVC</label><div class=\"sk-toggleable__content\"><pre>SVC(C=1, gamma=0.1)</pre></div></div></div></div></div>"
      ],
      "text/plain": [
       "SVC(C=1, gamma=0.1)"
      ]
     },
     "execution_count": 122,
     "metadata": {},
     "output_type": "execute_result"
    }
   ],
   "source": [
    "from sklearn import svm\n",
    "\n",
    "execute_ml(\n",
    "    svm.SVC(\n",
    "        **{'C': 1, 'gamma': 0.1, 'kernel': 'rbf'}\n",
    "    )\n",
    ")"
   ]
  },
  {
   "cell_type": "markdown",
   "id": "674e49da-1f7f-4670-8640-ef3ece340a68",
   "metadata": {},
   "source": [
    "### Multilayer perceptron"
   ]
  },
  {
   "cell_type": "markdown",
   "id": "10a39135-61c8-4fd0-9896-6ff99b5565e1",
   "metadata": {},
   "source": [
    "#### Hyperparameter Tuning"
   ]
  },
  {
   "cell_type": "code",
   "execution_count": 145,
   "id": "96361af6-690f-4da9-8882-1ed3861e8682",
   "metadata": {},
   "outputs": [
    {
     "name": "stderr",
     "output_type": "stream",
     "text": [
      "/home/babak/.local/lib/python3.10/site-packages/sklearn/neural_network/_multilayer_perceptron.py:559: ConvergenceWarning: lbfgs failed to converge (status=1):\n",
      "STOP: TOTAL NO. of ITERATIONS REACHED LIMIT.\n",
      "\n",
      "Increase the number of iterations (max_iter) or scale the data as shown in:\n",
      "    https://scikit-learn.org/stable/modules/preprocessing.html\n",
      "  self.n_iter_ = _check_optimize_result(\"lbfgs\", opt_res, self.max_iter)\n",
      "/home/babak/.local/lib/python3.10/site-packages/sklearn/neural_network/_multilayer_perceptron.py:559: ConvergenceWarning: lbfgs failed to converge (status=1):\n",
      "STOP: TOTAL NO. of ITERATIONS REACHED LIMIT.\n",
      "\n",
      "Increase the number of iterations (max_iter) or scale the data as shown in:\n",
      "    https://scikit-learn.org/stable/modules/preprocessing.html\n",
      "  self.n_iter_ = _check_optimize_result(\"lbfgs\", opt_res, self.max_iter)\n",
      "/home/babak/.local/lib/python3.10/site-packages/sklearn/neural_network/_multilayer_perceptron.py:559: ConvergenceWarning: lbfgs failed to converge (status=1):\n",
      "STOP: TOTAL NO. of ITERATIONS REACHED LIMIT.\n",
      "\n",
      "Increase the number of iterations (max_iter) or scale the data as shown in:\n",
      "    https://scikit-learn.org/stable/modules/preprocessing.html\n",
      "  self.n_iter_ = _check_optimize_result(\"lbfgs\", opt_res, self.max_iter)\n",
      "/home/babak/.local/lib/python3.10/site-packages/sklearn/neural_network/_multilayer_perceptron.py:702: ConvergenceWarning: Stochastic Optimizer: Maximum iterations (1000) reached and the optimization hasn't converged yet.\n",
      "  warnings.warn(\n",
      "/home/babak/.local/lib/python3.10/site-packages/sklearn/neural_network/_multilayer_perceptron.py:702: ConvergenceWarning: Stochastic Optimizer: Maximum iterations (1000) reached and the optimization hasn't converged yet.\n",
      "  warnings.warn(\n",
      "/home/babak/.local/lib/python3.10/site-packages/sklearn/neural_network/_multilayer_perceptron.py:702: ConvergenceWarning: Stochastic Optimizer: Maximum iterations (1000) reached and the optimization hasn't converged yet.\n",
      "  warnings.warn(\n",
      "/home/babak/.local/lib/python3.10/site-packages/sklearn/neural_network/_multilayer_perceptron.py:702: ConvergenceWarning: Stochastic Optimizer: Maximum iterations (1000) reached and the optimization hasn't converged yet.\n",
      "  warnings.warn(\n",
      "/home/babak/.local/lib/python3.10/site-packages/sklearn/neural_network/_multilayer_perceptron.py:559: ConvergenceWarning: lbfgs failed to converge (status=1):\n",
      "STOP: TOTAL NO. of ITERATIONS REACHED LIMIT.\n",
      "\n",
      "Increase the number of iterations (max_iter) or scale the data as shown in:\n",
      "    https://scikit-learn.org/stable/modules/preprocessing.html\n",
      "  self.n_iter_ = _check_optimize_result(\"lbfgs\", opt_res, self.max_iter)\n",
      "/home/babak/.local/lib/python3.10/site-packages/sklearn/neural_network/_multilayer_perceptron.py:702: ConvergenceWarning: Stochastic Optimizer: Maximum iterations (1000) reached and the optimization hasn't converged yet.\n",
      "  warnings.warn(\n",
      "/home/babak/.local/lib/python3.10/site-packages/sklearn/neural_network/_multilayer_perceptron.py:559: ConvergenceWarning: lbfgs failed to converge (status=1):\n",
      "STOP: TOTAL NO. of ITERATIONS REACHED LIMIT.\n",
      "\n",
      "Increase the number of iterations (max_iter) or scale the data as shown in:\n",
      "    https://scikit-learn.org/stable/modules/preprocessing.html\n",
      "  self.n_iter_ = _check_optimize_result(\"lbfgs\", opt_res, self.max_iter)\n",
      "/home/babak/.local/lib/python3.10/site-packages/sklearn/neural_network/_multilayer_perceptron.py:559: ConvergenceWarning: lbfgs failed to converge (status=1):\n",
      "STOP: TOTAL NO. of ITERATIONS REACHED LIMIT.\n",
      "\n",
      "Increase the number of iterations (max_iter) or scale the data as shown in:\n",
      "    https://scikit-learn.org/stable/modules/preprocessing.html\n",
      "  self.n_iter_ = _check_optimize_result(\"lbfgs\", opt_res, self.max_iter)\n",
      "/home/babak/.local/lib/python3.10/site-packages/sklearn/neural_network/_multilayer_perceptron.py:559: ConvergenceWarning: lbfgs failed to converge (status=1):\n",
      "STOP: TOTAL NO. of ITERATIONS REACHED LIMIT.\n",
      "\n",
      "Increase the number of iterations (max_iter) or scale the data as shown in:\n",
      "    https://scikit-learn.org/stable/modules/preprocessing.html\n",
      "  self.n_iter_ = _check_optimize_result(\"lbfgs\", opt_res, self.max_iter)\n",
      "/home/babak/.local/lib/python3.10/site-packages/sklearn/neural_network/_multilayer_perceptron.py:702: ConvergenceWarning: Stochastic Optimizer: Maximum iterations (1000) reached and the optimization hasn't converged yet.\n",
      "  warnings.warn(\n",
      "/home/babak/.local/lib/python3.10/site-packages/sklearn/neural_network/_multilayer_perceptron.py:559: ConvergenceWarning: lbfgs failed to converge (status=1):\n",
      "STOP: TOTAL NO. of ITERATIONS REACHED LIMIT.\n",
      "\n",
      "Increase the number of iterations (max_iter) or scale the data as shown in:\n",
      "    https://scikit-learn.org/stable/modules/preprocessing.html\n",
      "  self.n_iter_ = _check_optimize_result(\"lbfgs\", opt_res, self.max_iter)\n",
      "/home/babak/.local/lib/python3.10/site-packages/sklearn/neural_network/_multilayer_perceptron.py:702: ConvergenceWarning: Stochastic Optimizer: Maximum iterations (1000) reached and the optimization hasn't converged yet.\n",
      "  warnings.warn(\n",
      "/home/babak/.local/lib/python3.10/site-packages/sklearn/neural_network/_multilayer_perceptron.py:559: ConvergenceWarning: lbfgs failed to converge (status=1):\n",
      "STOP: TOTAL NO. of ITERATIONS REACHED LIMIT.\n",
      "\n",
      "Increase the number of iterations (max_iter) or scale the data as shown in:\n",
      "    https://scikit-learn.org/stable/modules/preprocessing.html\n",
      "  self.n_iter_ = _check_optimize_result(\"lbfgs\", opt_res, self.max_iter)\n",
      "/home/babak/.local/lib/python3.10/site-packages/sklearn/neural_network/_multilayer_perceptron.py:702: ConvergenceWarning: Stochastic Optimizer: Maximum iterations (1000) reached and the optimization hasn't converged yet.\n",
      "  warnings.warn(\n",
      "/home/babak/.local/lib/python3.10/site-packages/sklearn/neural_network/_multilayer_perceptron.py:702: ConvergenceWarning: Stochastic Optimizer: Maximum iterations (1000) reached and the optimization hasn't converged yet.\n",
      "  warnings.warn(\n",
      "/home/babak/.local/lib/python3.10/site-packages/sklearn/neural_network/_multilayer_perceptron.py:702: ConvergenceWarning: Stochastic Optimizer: Maximum iterations (1000) reached and the optimization hasn't converged yet.\n",
      "  warnings.warn(\n",
      "/home/babak/.local/lib/python3.10/site-packages/sklearn/neural_network/_multilayer_perceptron.py:559: ConvergenceWarning: lbfgs failed to converge (status=1):\n",
      "STOP: TOTAL NO. of ITERATIONS REACHED LIMIT.\n",
      "\n",
      "Increase the number of iterations (max_iter) or scale the data as shown in:\n",
      "    https://scikit-learn.org/stable/modules/preprocessing.html\n",
      "  self.n_iter_ = _check_optimize_result(\"lbfgs\", opt_res, self.max_iter)\n",
      "/home/babak/.local/lib/python3.10/site-packages/sklearn/neural_network/_multilayer_perceptron.py:559: ConvergenceWarning: lbfgs failed to converge (status=1):\n",
      "STOP: TOTAL NO. of ITERATIONS REACHED LIMIT.\n",
      "\n",
      "Increase the number of iterations (max_iter) or scale the data as shown in:\n",
      "    https://scikit-learn.org/stable/modules/preprocessing.html\n",
      "  self.n_iter_ = _check_optimize_result(\"lbfgs\", opt_res, self.max_iter)\n",
      "/home/babak/.local/lib/python3.10/site-packages/sklearn/neural_network/_multilayer_perceptron.py:702: ConvergenceWarning: Stochastic Optimizer: Maximum iterations (1000) reached and the optimization hasn't converged yet.\n",
      "  warnings.warn(\n",
      "/home/babak/.local/lib/python3.10/site-packages/sklearn/neural_network/_multilayer_perceptron.py:702: ConvergenceWarning: Stochastic Optimizer: Maximum iterations (1000) reached and the optimization hasn't converged yet.\n",
      "  warnings.warn(\n",
      "/home/babak/.local/lib/python3.10/site-packages/sklearn/neural_network/_multilayer_perceptron.py:559: ConvergenceWarning: lbfgs failed to converge (status=1):\n",
      "STOP: TOTAL NO. of ITERATIONS REACHED LIMIT.\n",
      "\n",
      "Increase the number of iterations (max_iter) or scale the data as shown in:\n",
      "    https://scikit-learn.org/stable/modules/preprocessing.html\n",
      "  self.n_iter_ = _check_optimize_result(\"lbfgs\", opt_res, self.max_iter)\n",
      "/home/babak/.local/lib/python3.10/site-packages/sklearn/neural_network/_multilayer_perceptron.py:559: ConvergenceWarning: lbfgs failed to converge (status=1):\n",
      "STOP: TOTAL NO. of ITERATIONS REACHED LIMIT.\n",
      "\n",
      "Increase the number of iterations (max_iter) or scale the data as shown in:\n",
      "    https://scikit-learn.org/stable/modules/preprocessing.html\n",
      "  self.n_iter_ = _check_optimize_result(\"lbfgs\", opt_res, self.max_iter)\n",
      "/home/babak/.local/lib/python3.10/site-packages/sklearn/neural_network/_multilayer_perceptron.py:559: ConvergenceWarning: lbfgs failed to converge (status=1):\n",
      "STOP: TOTAL NO. of ITERATIONS REACHED LIMIT.\n",
      "\n",
      "Increase the number of iterations (max_iter) or scale the data as shown in:\n",
      "    https://scikit-learn.org/stable/modules/preprocessing.html\n",
      "  self.n_iter_ = _check_optimize_result(\"lbfgs\", opt_res, self.max_iter)\n",
      "/home/babak/.local/lib/python3.10/site-packages/sklearn/neural_network/_multilayer_perceptron.py:702: ConvergenceWarning: Stochastic Optimizer: Maximum iterations (1000) reached and the optimization hasn't converged yet.\n",
      "  warnings.warn(\n",
      "/home/babak/.local/lib/python3.10/site-packages/sklearn/neural_network/_multilayer_perceptron.py:702: ConvergenceWarning: Stochastic Optimizer: Maximum iterations (1000) reached and the optimization hasn't converged yet.\n",
      "  warnings.warn(\n",
      "/home/babak/.local/lib/python3.10/site-packages/sklearn/neural_network/_multilayer_perceptron.py:702: ConvergenceWarning: Stochastic Optimizer: Maximum iterations (1000) reached and the optimization hasn't converged yet.\n",
      "  warnings.warn(\n",
      "/home/babak/.local/lib/python3.10/site-packages/sklearn/neural_network/_multilayer_perceptron.py:702: ConvergenceWarning: Stochastic Optimizer: Maximum iterations (1000) reached and the optimization hasn't converged yet.\n",
      "  warnings.warn(\n",
      "/home/babak/.local/lib/python3.10/site-packages/sklearn/neural_network/_multilayer_perceptron.py:702: ConvergenceWarning: Stochastic Optimizer: Maximum iterations (1000) reached and the optimization hasn't converged yet.\n",
      "  warnings.warn(\n"
     ]
    },
    {
     "name": "stdout",
     "output_type": "stream",
     "text": [
      "Maximum accuracy of 0.789163 was yielded using: {'activation': 'relu', 'hidden_layer_sizes': (24,), 'max_iter': 1000, 'random_state': 12, 'solver': 'lbfgs'}\n",
      "{'activation': 'tanh', 'hidden_layer_sizes': (12,), 'max_iter': 1000, 'random_state': 12, 'solver': 'lbfgs'} => 0.605419\n",
      "{'activation': 'tanh', 'hidden_layer_sizes': (12,), 'max_iter': 1000, 'random_state': 12, 'solver': 'adam'} => 0.605419\n",
      "{'activation': 'tanh', 'hidden_layer_sizes': (24,), 'max_iter': 1000, 'random_state': 12, 'solver': 'lbfgs'} => 0.690887\n",
      "{'activation': 'tanh', 'hidden_layer_sizes': (24,), 'max_iter': 1000, 'random_state': 12, 'solver': 'adam'} => 0.753941\n",
      "{'activation': 'tanh', 'hidden_layer_sizes': (100,), 'max_iter': 1000, 'random_state': 12, 'solver': 'lbfgs'} => 0.697291\n",
      "{'activation': 'tanh', 'hidden_layer_sizes': (100,), 'max_iter': 1000, 'random_state': 12, 'solver': 'adam'} => 0.753448\n",
      "{'activation': 'tanh', 'hidden_layer_sizes': (24, 24), 'max_iter': 1000, 'random_state': 12, 'solver': 'lbfgs'} => 0.668719\n",
      "{'activation': 'tanh', 'hidden_layer_sizes': (24, 24), 'max_iter': 1000, 'random_state': 12, 'solver': 'adam'} => 0.717734\n",
      "{'activation': 'tanh', 'hidden_layer_sizes': (24, 50), 'max_iter': 1000, 'random_state': 12, 'solver': 'lbfgs'} => 0.710837\n",
      "{'activation': 'tanh', 'hidden_layer_sizes': (24, 50), 'max_iter': 1000, 'random_state': 12, 'solver': 'adam'} => 0.760837\n",
      "{'activation': 'relu', 'hidden_layer_sizes': (12,), 'max_iter': 1000, 'random_state': 12, 'solver': 'lbfgs'} => 0.732759\n",
      "{'activation': 'relu', 'hidden_layer_sizes': (12,), 'max_iter': 1000, 'random_state': 12, 'solver': 'adam'} => 0.317241\n",
      "{'activation': 'relu', 'hidden_layer_sizes': (24,), 'max_iter': 1000, 'random_state': 12, 'solver': 'lbfgs'} => 0.789163\n",
      "{'activation': 'relu', 'hidden_layer_sizes': (24,), 'max_iter': 1000, 'random_state': 12, 'solver': 'adam'} => 0.493350\n",
      "{'activation': 'relu', 'hidden_layer_sizes': (100,), 'max_iter': 1000, 'random_state': 12, 'solver': 'lbfgs'} => 0.782266\n",
      "{'activation': 'relu', 'hidden_layer_sizes': (100,), 'max_iter': 1000, 'random_state': 12, 'solver': 'adam'} => 0.767980\n",
      "{'activation': 'relu', 'hidden_layer_sizes': (24, 24), 'max_iter': 1000, 'random_state': 12, 'solver': 'lbfgs'} => 0.738916\n",
      "{'activation': 'relu', 'hidden_layer_sizes': (24, 24), 'max_iter': 1000, 'random_state': 12, 'solver': 'adam'} => 0.782266\n",
      "{'activation': 'relu', 'hidden_layer_sizes': (24, 50), 'max_iter': 1000, 'random_state': 12, 'solver': 'lbfgs'} => 0.746552\n",
      "{'activation': 'relu', 'hidden_layer_sizes': (24, 50), 'max_iter': 1000, 'random_state': 12, 'solver': 'adam'} => 0.739409\n"
     ]
    }
   ],
   "source": [
    "from sklearn.neural_network import MLPClassifier\n",
    "\n",
    "hyper_params = {}\n",
    "hyper_params['max_iter'] = [1000]\n",
    "hyper_params['random_state'] = [12]\n",
    "hyper_params['solver'] = ['lbfgs', 'adam']\n",
    "hyper_params['activation'] = ['tanh', 'relu']\n",
    "hyper_params['hidden_layer_sizes'] = [(12,), (24,), (100,), (24,24), (24, 50)]\n",
    "    \n",
    "grid_search(MLPClassifier(), hyper_params) "
   ]
  },
  {
   "cell_type": "markdown",
   "id": "5a956e13-f348-4385-8edb-fd4902338ecc",
   "metadata": {},
   "source": [
    "#### Train and test"
   ]
  },
  {
   "cell_type": "code",
   "execution_count": 129,
   "id": "2ea61b23-6e9e-4608-a305-eed3ee61fbb0",
   "metadata": {},
   "outputs": [
    {
     "name": "stdout",
     "output_type": "stream",
     "text": [
      "              precision    recall  f1-score   support\n",
      "\n",
      "           0       0.83      0.85      0.84       110\n",
      "           1       0.76      0.72      0.74        69\n",
      "\n",
      "    accuracy                           0.80       179\n",
      "   macro avg       0.79      0.79      0.79       179\n",
      "weighted avg       0.80      0.80      0.80       179\n",
      "\n"
     ]
    },
    {
     "data": {
      "image/png": "[encoded data removed]",
      "text/plain": [
       "<Figure size 640x480 with 2 Axes>"
      ]
     },
     "metadata": {},
     "output_type": "display_data"
    },
    {
     "data": {
      "text/html": [
       "<style>#sk-container-id-12 {color: black;background-color: white;}#sk-container-id-12 pre{padding: 0;}#sk-container-id-12 div.sk-toggleable {background-color: white;}#sk-container-id-12 label.sk-toggleable__label {cursor: pointer;display: block;width: 100%;margin-bottom: 0;padding: 0.3em;box-sizing: border-box;text-align: center;}#sk-container-id-12 label.sk-toggleable__label-arrow:before {content: \"▸\";float: left;margin-right: 0.25em;color: #696969;}#sk-container-id-12 label.sk-toggleable__label-arrow:hover:before {color: black;}#sk-container-id-12 div.sk-estimator:hover label.sk-toggleable__label-arrow:before {color: black;}#sk-container-id-12 div.sk-toggleable__content {max-height: 0;max-width: 0;overflow: hidden;text-align: left;background-color: #f0f8ff;}#sk-container-id-12 div.sk-toggleable__content pre {margin: 0.2em;color: black;border-radius: 0.25em;background-color: #f0f8ff;}#sk-container-id-12 input.sk-toggleable__control:checked~div.sk-toggleable__content {max-height: 200px;max-width: 100%;overflow: auto;}#sk-container-id-12 input.sk-toggleable__control:checked~label.sk-toggleable__label-arrow:before {content: \"▾\";}#sk-container-id-12 div.sk-estimator input.sk-toggleable__control:checked~label.sk-toggleable__label {background-color: #d4ebff;}#sk-container-id-12 div.sk-label input.sk-toggleable__control:checked~label.sk-toggleable__label {background-color: #d4ebff;}#sk-container-id-12 input.sk-hidden--visually {border: 0;clip: rect(1px 1px 1px 1px);clip: rect(1px, 1px, 1px, 1px);height: 1px;margin: -1px;overflow: hidden;padding: 0;position: absolute;width: 1px;}#sk-container-id-12 div.sk-estimator {font-family: monospace;background-color: #f0f8ff;border: 1px dotted black;border-radius: 0.25em;box-sizing: border-box;margin-bottom: 0.5em;}#sk-container-id-12 div.sk-estimator:hover {background-color: #d4ebff;}#sk-container-id-12 div.sk-parallel-item::after {content: \"\";width: 100%;border-bottom: 1px solid gray;flex-grow: 1;}#sk-container-id-12 div.sk-label:hover label.sk-toggleable__label {background-color: #d4ebff;}#sk-container-id-12 div.sk-serial::before {content: \"\";position: absolute;border-left: 1px solid gray;box-sizing: border-box;top: 0;bottom: 0;left: 50%;z-index: 0;}#sk-container-id-12 div.sk-serial {display: flex;flex-direction: column;align-items: center;background-color: white;padding-right: 0.2em;padding-left: 0.2em;position: relative;}#sk-container-id-12 div.sk-item {position: relative;z-index: 1;}#sk-container-id-12 div.sk-parallel {display: flex;align-items: stretch;justify-content: center;background-color: white;position: relative;}#sk-container-id-12 div.sk-item::before, #sk-container-id-12 div.sk-parallel-item::before {content: \"\";position: absolute;border-left: 1px solid gray;box-sizing: border-box;top: 0;bottom: 0;left: 50%;z-index: -1;}#sk-container-id-12 div.sk-parallel-item {display: flex;flex-direction: column;z-index: 1;position: relative;background-color: white;}#sk-container-id-12 div.sk-parallel-item:first-child::after {align-self: flex-end;width: 50%;}#sk-container-id-12 div.sk-parallel-item:last-child::after {align-self: flex-start;width: 50%;}#sk-container-id-12 div.sk-parallel-item:only-child::after {width: 0;}#sk-container-id-12 div.sk-dashed-wrapped {border: 1px dashed gray;margin: 0 0.4em 0.5em 0.4em;box-sizing: border-box;padding-bottom: 0.4em;background-color: white;}#sk-container-id-12 div.sk-label label {font-family: monospace;font-weight: bold;display: inline-block;line-height: 1.2em;}#sk-container-id-12 div.sk-label-container {text-align: center;}#sk-container-id-12 div.sk-container {/* jupyter's `normalize.less` sets `[hidden] { display: none; }` but bootstrap.min.css set `[hidden] { display: none !important; }` so we also need the `!important` here to be able to override the default hidden behavior on the sphinx rendered scikit-learn.org. See: https://github.com/scikit-learn/scikit-learn/issues/21755 */display: inline-block !important;position: relative;}#sk-container-id-12 div.sk-text-repr-fallback {display: none;}</style><div id=\"sk-container-id-12\" class=\"sk-top-container\"><div class=\"sk-text-repr-fallback\"><pre>MLPClassifier(hidden_layer_sizes=(24,), max_iter=1000, random_state=12,\n",
       "              solver=&#x27;lbfgs&#x27;)</pre><b>In a Jupyter environment, please rerun this cell to show the HTML representation or trust the notebook. <br />On GitHub, the HTML representation is unable to render, please try loading this page with nbviewer.org.</b></div><div class=\"sk-container\" hidden><div class=\"sk-item\"><div class=\"sk-estimator sk-toggleable\"><input class=\"sk-toggleable__control sk-hidden--visually\" id=\"sk-estimator-id-12\" type=\"checkbox\" checked><label for=\"sk-estimator-id-12\" class=\"sk-toggleable__label sk-toggleable__label-arrow\">MLPClassifier</label><div class=\"sk-toggleable__content\"><pre>MLPClassifier(hidden_layer_sizes=(24,), max_iter=1000, random_state=12,\n",
       "              solver=&#x27;lbfgs&#x27;)</pre></div></div></div></div></div>"
      ],
      "text/plain": [
       "MLPClassifier(hidden_layer_sizes=(24,), max_iter=1000, random_state=12,\n",
       "              solver='lbfgs')"
      ]
     },
     "execution_count": 129,
     "metadata": {},
     "output_type": "execute_result"
    }
   ],
   "source": [
    "from sklearn.neural_network import MLPClassifier\n",
    "\n",
    "execute_ml(\n",
    "    MLPClassifier(\n",
    "        **{'activation': 'relu', 'hidden_layer_sizes': (24,), 'max_iter': 1000, 'random_state': 12, 'solver': 'lbfgs'}\n",
    "    )\n",
    ")"
   ]
  },
  {
   "cell_type": "markdown",
   "id": "9b9a78da",
   "metadata": {
    "papermill": {
     "duration": 0.01738,
     "end_time": "2022-10-03T18:32:11.142837",
     "exception": false,
     "start_time": "2022-10-03T18:32:11.125457",
     "status": "completed"
    },
    "tags": []
   },
   "source": [
    "## Evaluation"
   ]
  },
  {
   "cell_type": "code",
   "execution_count": 140,
   "id": "b4331508",
   "metadata": {
    "papermill": {
     "duration": 0.040974,
     "end_time": "2022-10-03T18:32:11.201316",
     "exception": false,
     "start_time": "2022-10-03T18:32:11.160342",
     "status": "completed"
    },
    "tags": []
   },
   "outputs": [
    {
     "data": {
      "text/html": [
       "<div>\n",
       "<style scoped>\n",
       "    .dataframe tbody tr th:only-of-type {\n",
       "        vertical-align: middle;\n",
       "    }\n",
       "\n",
       "    .dataframe tbody tr th {\n",
       "        vertical-align: top;\n",
       "    }\n",
       "\n",
       "    .dataframe thead th {\n",
       "        text-align: right;\n",
       "    }\n",
       "</style>\n",
       "<table border=\"1\" class=\"dataframe\">\n",
       "  <thead>\n",
       "    <tr style=\"text-align: right;\">\n",
       "      <th></th>\n",
       "      <th>Model</th>\n",
       "      <th>accuracy score</th>\n",
       "      <th>Precision</th>\n",
       "      <th>Recall</th>\n",
       "      <th>f1_score</th>\n",
       "    </tr>\n",
       "  </thead>\n",
       "  <tbody>\n",
       "    <tr>\n",
       "      <th>0</th>\n",
       "      <td>KNeighborsClassifier</td>\n",
       "      <td>0.648045</td>\n",
       "      <td>0.588235</td>\n",
       "      <td>0.289855</td>\n",
       "      <td>0.388350</td>\n",
       "    </tr>\n",
       "    <tr>\n",
       "      <th>1</th>\n",
       "      <td>LogisticRegression</td>\n",
       "      <td>0.804469</td>\n",
       "      <td>0.757576</td>\n",
       "      <td>0.724638</td>\n",
       "      <td>0.740741</td>\n",
       "    </tr>\n",
       "    <tr>\n",
       "      <th>2</th>\n",
       "      <td>LogisticRegressionCV</td>\n",
       "      <td>0.798883</td>\n",
       "      <td>0.770492</td>\n",
       "      <td>0.681159</td>\n",
       "      <td>0.723077</td>\n",
       "    </tr>\n",
       "    <tr>\n",
       "      <th>3</th>\n",
       "      <td>BernoulliNB</td>\n",
       "      <td>0.782123</td>\n",
       "      <td>0.727273</td>\n",
       "      <td>0.695652</td>\n",
       "      <td>0.711111</td>\n",
       "    </tr>\n",
       "    <tr>\n",
       "      <th>4</th>\n",
       "      <td>RandomForestClassifier</td>\n",
       "      <td>0.815642</td>\n",
       "      <td>0.772727</td>\n",
       "      <td>0.739130</td>\n",
       "      <td>0.755556</td>\n",
       "    </tr>\n",
       "    <tr>\n",
       "      <th>5</th>\n",
       "      <td>XGBClassifier</td>\n",
       "      <td>0.810056</td>\n",
       "      <td>0.786885</td>\n",
       "      <td>0.695652</td>\n",
       "      <td>0.738462</td>\n",
       "    </tr>\n",
       "    <tr>\n",
       "      <th>6</th>\n",
       "      <td>HistGradientBoostingClassifier</td>\n",
       "      <td>0.787709</td>\n",
       "      <td>0.844444</td>\n",
       "      <td>0.550725</td>\n",
       "      <td>0.666667</td>\n",
       "    </tr>\n",
       "    <tr>\n",
       "      <th>7</th>\n",
       "      <td>LGBMClassifier</td>\n",
       "      <td>0.782123</td>\n",
       "      <td>0.894737</td>\n",
       "      <td>0.492754</td>\n",
       "      <td>0.635514</td>\n",
       "    </tr>\n",
       "    <tr>\n",
       "      <th>8</th>\n",
       "      <td>SVC</td>\n",
       "      <td>0.648045</td>\n",
       "      <td>0.800000</td>\n",
       "      <td>0.115942</td>\n",
       "      <td>0.202532</td>\n",
       "    </tr>\n",
       "    <tr>\n",
       "      <th>9</th>\n",
       "      <td>SVC</td>\n",
       "      <td>0.603352</td>\n",
       "      <td>0.000000</td>\n",
       "      <td>0.000000</td>\n",
       "      <td>0.000000</td>\n",
       "    </tr>\n",
       "    <tr>\n",
       "      <th>10</th>\n",
       "      <td>MLPClassifier</td>\n",
       "      <td>0.804469</td>\n",
       "      <td>0.757576</td>\n",
       "      <td>0.724638</td>\n",
       "      <td>0.740741</td>\n",
       "    </tr>\n",
       "  </tbody>\n",
       "</table>\n",
       "</div>"
      ],
      "text/plain": [
       "                             Model  accuracy score   Precision    Recall  \\\n",
       "0             KNeighborsClassifier        0.648045    0.588235  0.289855   \n",
       "1               LogisticRegression        0.804469    0.757576  0.724638   \n",
       "2             LogisticRegressionCV        0.798883    0.770492  0.681159   \n",
       "3                      BernoulliNB        0.782123    0.727273  0.695652   \n",
       "4           RandomForestClassifier        0.815642    0.772727  0.739130   \n",
       "5                    XGBClassifier        0.810056    0.786885  0.695652   \n",
       "6   HistGradientBoostingClassifier        0.787709    0.844444  0.550725   \n",
       "7                   LGBMClassifier        0.782123    0.894737  0.492754   \n",
       "8                              SVC        0.648045    0.800000  0.115942   \n",
       "9                              SVC        0.603352    0.000000  0.000000   \n",
       "10                   MLPClassifier        0.804469    0.757576  0.724638   \n",
       "\n",
       "    f1_score  \n",
       "0   0.388350  \n",
       "1   0.740741  \n",
       "2   0.723077  \n",
       "3   0.711111  \n",
       "4   0.755556  \n",
       "5   0.738462  \n",
       "6   0.666667  \n",
       "7   0.635514  \n",
       "8   0.202532  \n",
       "9   0.000000  \n",
       "10  0.740741  "
      ]
     },
     "execution_count": 140,
     "metadata": {},
     "output_type": "execute_result"
    }
   ],
   "source": [
    "evaluation_df"
   ]
  },
  {
   "cell_type": "markdown",
   "id": "71ac43ca",
   "metadata": {
    "papermill": {
     "duration": 0.017113,
     "end_time": "2022-10-03T18:32:11.236096",
     "exception": false,
     "start_time": "2022-10-03T18:32:11.218983",
     "status": "completed"
    },
    "tags": []
   },
   "source": [
    "## Overfit analysis using cross validation\n",
    "\n",
    "Cross validating the training VS testing performance using the selected model. If the measurements are not that far apart means that there is not a considerable overfit."
   ]
  },
  {
   "cell_type": "code",
   "execution_count": 141,
   "id": "bc57e217",
   "metadata": {
    "papermill": {
     "duration": 30.817562,
     "end_time": "2022-10-03T18:32:42.071058",
     "exception": false,
     "start_time": "2022-10-03T18:32:11.253496",
     "status": "completed"
    },
    "tags": []
   },
   "outputs": [
    {
     "data": {
      "text/plain": [
       "{'fit_time': array([0.06578231, 0.02844548, 0.0264194 , 0.02903414, 0.02694631]),\n",
       " 'score_time': array([0.00394392, 0.00385356, 0.0038681 , 0.00397658, 0.00365019]),\n",
       " 'test_score': array([0.8041958 , 0.8041958 , 0.83098592, 0.85915493, 0.79577465]),\n",
       " 'train_score': array([0.84534271, 0.8400703 , 0.83508772, 0.83157895, 0.84035088])}"
      ]
     },
     "execution_count": 141,
     "metadata": {},
     "output_type": "execute_result"
    }
   ],
   "source": [
    "from sklearn.ensemble import RandomForestClassifier\n",
    "\n",
    "perform_cross_validation(\n",
    "    XGBClassifier(\n",
    "        **{'learning_rate': 0.001, 'max_depth': 3, 'n_estimators': 10, 'subsample': 0.7}\n",
    "    )\n",
    ")"
   ]
  },
  {
   "cell_type": "markdown",
   "id": "c69c9d76",
   "metadata": {
    "papermill": {
     "duration": 0.019249,
     "end_time": "2022-10-03T18:32:42.110010",
     "exception": false,
     "start_time": "2022-10-03T18:32:42.090761",
     "status": "completed"
    },
    "tags": []
   },
   "source": [
    "## Threshold tweaking\n",
    "\n",
    "Checking the performance agaist different thresholds (extracted from the ROC curve) in order to find and optimum with regards to the case study (Whether it is more important to classify Positives or Negatives)"
   ]
  },
  {
   "cell_type": "code",
   "execution_count": 147,
   "id": "41bd80f6",
   "metadata": {
    "papermill": {
     "duration": 49.450833,
     "end_time": "2022-10-03T18:33:31.580917",
     "exception": false,
     "start_time": "2022-10-03T18:32:42.130084",
     "status": "completed"
    },
    "tags": []
   },
   "outputs": [
    {
     "name": "stdout",
     "output_type": "stream",
     "text": [
      "              precision    recall  f1-score   support\n",
      "\n",
      "           0       0.84      0.90      0.87       110\n",
      "           1       0.82      0.72      0.77        69\n",
      "\n",
      "    accuracy                           0.83       179\n",
      "   macro avg       0.83      0.81      0.82       179\n",
      "weighted avg       0.83      0.83      0.83       179\n",
      "\n"
     ]
    },
    {
     "data": {
      "image/png": "[encoded data removed]",
      "text/plain": [
       "<Figure size 640x480 with 2 Axes>"
      ]
     },
     "metadata": {},
     "output_type": "display_data"
    },
    {
     "data": {
      "image/png": "[encoded data removed]",
      "text/plain": [
       "<Figure size 640x480 with 1 Axes>"
      ]
     },
     "metadata": {},
     "output_type": "display_data"
    },
    {
     "name": "stdout",
     "output_type": "stream",
     "text": [
      "Threshold: 0.100000\n",
      "              precision    recall  f1-score   support\n",
      "\n",
      "           0       0.89      0.46      0.61       110\n",
      "           1       0.52      0.91      0.66        69\n",
      "\n",
      "    accuracy                           0.64       179\n",
      "   macro avg       0.71      0.69      0.64       179\n",
      "weighted avg       0.75      0.64      0.63       179\n",
      "\n"
     ]
    },
    {
     "data": {
      "image/png": "[encoded data removed]",
      "text/plain": [
       "<Figure size 640x480 with 2 Axes>"
      ]
     },
     "metadata": {},
     "output_type": "display_data"
    },
    {
     "name": "stdout",
     "output_type": "stream",
     "text": [
      "Threshold: 0.300000\n",
      "              precision    recall  f1-score   support\n",
      "\n",
      "           0       0.86      0.74      0.79       110\n",
      "           1       0.66      0.81      0.73        69\n",
      "\n",
      "    accuracy                           0.77       179\n",
      "   macro avg       0.76      0.77      0.76       179\n",
      "weighted avg       0.78      0.77      0.77       179\n",
      "\n"
     ]
    },
    {
     "data": {
      "image/png": "[encoded data removed]",
      "text/plain": [
       "<Figure size 640x480 with 2 Axes>"
      ]
     },
     "metadata": {},
     "output_type": "display_data"
    },
    {
     "name": "stdout",
     "output_type": "stream",
     "text": [
      "Threshold: 0.500000\n",
      "              precision    recall  f1-score   support\n",
      "\n",
      "           0       0.83      0.89      0.86       110\n",
      "           1       0.80      0.71      0.75        69\n",
      "\n",
      "    accuracy                           0.82       179\n",
      "   macro avg       0.82      0.80      0.81       179\n",
      "weighted avg       0.82      0.82      0.82       179\n",
      "\n"
     ]
    },
    {
     "data": {
      "image/png": "[encoded data removed]",
      "text/plain": [
       "<Figure size 640x480 with 2 Axes>"
      ]
     },
     "metadata": {},
     "output_type": "display_data"
    },
    {
     "name": "stdout",
     "output_type": "stream",
     "text": [
      "Threshold: 0.700000\n",
      "              precision    recall  f1-score   support\n",
      "\n",
      "           0       0.75      0.97      0.85       110\n",
      "           1       0.92      0.48      0.63        69\n",
      "\n",
      "    accuracy                           0.78       179\n",
      "   macro avg       0.83      0.73      0.74       179\n",
      "weighted avg       0.81      0.78      0.76       179\n",
      "\n"
     ]
    },
    {
     "data": {
      "image/png": "[encoded data removed]",
      "text/plain": [
       "<Figure size 640x480 with 2 Axes>"
      ]
     },
     "metadata": {},
     "output_type": "display_data"
    },
    {
     "name": "stdout",
     "output_type": "stream",
     "text": [
      "Threshold: 0.900000\n",
      "              precision    recall  f1-score   support\n",
      "\n",
      "           0       0.69      0.98      0.81       110\n",
      "           1       0.91      0.29      0.44        69\n",
      "\n",
      "    accuracy                           0.72       179\n",
      "   macro avg       0.80      0.64      0.62       179\n",
      "weighted avg       0.77      0.72      0.67       179\n",
      "\n"
     ]
    },
    {
     "data": {
      "image/png": "[encoded data removed]",
      "text/plain": [
       "<Figure size 640x480 with 2 Axes>"
      ]
     },
     "metadata": {},
     "output_type": "display_data"
    }
   ],
   "source": [
    "from sklearn.ensemble import RandomForestClassifier\n",
    "\n",
    "model = execute_ml(\n",
    "            RandomForestClassifier(\n",
    "                **{'criterion': 'entropy', 'max_features': 'sqrt', 'n_estimators': 10}\n",
    "            )\n",
    "        )\n",
    "\n",
    "drawROC(model)\n",
    "\n",
    "for i in np.arange(0.1,1,0.2):\n",
    "    execute_using_threshold(\n",
    "            RandomForestClassifier(\n",
    "                **{'criterion': 'entropy', 'max_features': 'sqrt', 'n_estimators': 10}\n",
    "            ), i\n",
    "    )"
   ]
  }
 ],
 "metadata": {
  "kernelspec": {
   "display_name": "Python 3 (ipykernel)",
   "language": "python",
   "name": "python3"
  },
  "language_info": {
   "codemirror_mode": {
    "name": "ipython",
    "version": 3
   },
   "file_extension": ".py",
   "mimetype": "text/x-python",
   "name": "python",
   "nbconvert_exporter": "python",
   "pygments_lexer": "ipython3",
   "version": "3.10.6"
  },
  "papermill": {
   "default_parameters": {},
   "duration": 285.391344,
   "end_time": "2022-10-03T18:33:32.425038",
   "environment_variables": {},
   "exception": null,
   "input_path": "__notebook__.ipynb",
   "output_path": "__notebook__.ipynb",
   "parameters": {},
   "start_time": "2022-10-03T18:28:47.033694",
   "version": "2.3.4"
  }
 },
 "nbformat": 4,
 "nbformat_minor": 5
}
